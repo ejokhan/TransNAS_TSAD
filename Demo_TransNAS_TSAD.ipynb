{
  "nbformat": 4,
  "nbformat_minor": 0,
  "metadata": {
    "colab": {
      "provenance": [],
      "collapsed_sections": [
        "ae-yFppywKK9",
        "Rcoydg8Wwjq9",
        "WX-Pcy5MS_z6"
      ],
      "machine_shape": "hm",
      "gpuType": "T4"
    },
    "kernelspec": {
      "name": "python3",
      "display_name": "Python 3"
    },
    "language_info": {
      "name": "python"
    },
    "accelerator": "GPU"
  },
  "cells": [
    {
      "cell_type": "code",
      "execution_count": 1,
      "metadata": {
        "colab": {
          "base_uri": "https://localhost:8080/"
        },
        "id": "3vHJUHECFH-U",
        "outputId": "ff0540d9-f047-49ce-f78c-f1d90b64851f"
      },
      "outputs": [
        {
          "output_type": "stream",
          "name": "stdout",
          "text": [
            "Mounted at /content/drive\n",
            "/content/drive/My Drive/TransNAS_TSAD\n"
          ]
        }
      ],
      "source": [
        "from google.colab import drive\n",
        "drive.mount('/content/drive')\n",
        "\n",
        "%cd /content/drive/My Drive/TransNAS_TSAD"
      ]
    },
    {
      "cell_type": "code",
      "source": [
        "!pip install optuna\n",
        "!pip install dgl\n",
        "!pip install SciencePlots\n",
        "!pip install transformers\n",
        "!pip install timeout_decorator\n"
      ],
      "metadata": {
        "id": "94EvYdypFjSs"
      },
      "execution_count": null,
      "outputs": []
    },
    {
      "cell_type": "markdown",
      "source": [
        "#Setting Up the Environment: Library Imports and Custom Module Integration"
      ],
      "metadata": {
        "id": "ae-yFppywKK9"
      }
    },
    {
      "cell_type": "code",
      "source": [
        "import pickle\n",
        "import os\n",
        "import numpy as np\n",
        "import pandas as pd\n",
        "from tqdm.notebook import tqdm\n",
        "from src.models import *\n",
        "from src.training_helpers import *\n",
        "from src.pot_evaluation import *\n",
        "from src.plotting_utilities import *\n",
        "from torch.utils.data import Dataset, DataLoader, TensorDataset\n",
        "import torch.nn as nn\n",
        "from time import time\n",
        "from pprint import pprint\n",
        "import matplotlib.pyplot as plt\n",
        "import os\n",
        "os.environ['DGLBACKEND'] = 'pytorch'\n",
        "import dgl"
      ],
      "metadata": {
        "id": "m9uml54JF6Er",
        "colab": {
          "base_uri": "https://localhost:8080/"
        },
        "outputId": "902eb93d-4c6c-40a2-974b-59fb230ea1ee"
      },
      "execution_count": 4,
      "outputs": [
        {
          "output_type": "stream",
          "name": "stderr",
          "text": [
            "DGL backend not selected or invalid.  Assuming PyTorch for now.\n"
          ]
        },
        {
          "output_type": "stream",
          "name": "stdout",
          "text": [
            "Setting the default backend to \"pytorch\". You can change it in the ~/.dgl/config.json file or export the DGLBACKEND environment variable.  Valid options are: pytorch, mxnet, tensorflow (all lowercase)\n"
          ]
        }
      ]
    },
    {
      "cell_type": "markdown",
      "source": [
        "# Defining Paths: Data Storage, Preprocessed Datasets, and Model Checkpoints\""
      ],
      "metadata": {
        "id": "Rcoydg8Wwjq9"
      }
    },
    {
      "cell_type": "code",
      "source": [
        "DATA_PATH = '/content/drive/My Drive/TransNAS_TSAD'  # Replace with your actual path\n",
        "OUTPUT_FOLDER = os.path.join(DATA_PATH, 'Pre_processed_data')\n",
        "CHECKPOINT_FOLDER = os.path.join(DATA_PATH, 'checkpoints')"
      ],
      "metadata": {
        "id": "HUS-GDDJHmGQ"
      },
      "execution_count": 5,
      "outputs": []
    },
    {
      "cell_type": "markdown",
      "source": [
        "# Optimizing TransNAS_TSAD: Hyperparameter Tuning with Optuna on the Given (SMAP) Dataset (Results included with many best models havi f1>90)\n",
        "\n",
        "## Overview:\n",
        "This script focuses on the optimization of the training and architectural parameters of TransNAS_TSAD model, specifically tailored for anomaly detection within the given dataset, utilizing the Optuna NSGA-II algorithm. The process is designed to explore the best model configurations through extensive trials, aiming to enhance performance metrics such as the F1 score.\n",
        "\n",
        "## About the Config Object:\n",
        "The Config object centralizes crucial settings, including the target dataset and model specifics, facilitating seamless adjustments across different phases of the optimization and evaluation process. It's passed throughout to ensure consistency and adaptability in model training and testing settings."
      ],
      "metadata": {
        "id": "CxDdFji7xee_"
      }
    },
    {
      "cell_type": "code",
      "source": [
        "import time\n",
        "import warnings\n",
        "import optuna\n",
        "from optuna.exceptions import TrialPruned\n",
        "from timeout_decorator import TimeoutError\n",
        "import numpy as np\n",
        "from tqdm import tqdm\n",
        "\n",
        "# Suppress future warnings\n",
        "warnings.simplefilter(action='ignore', category=FutureWarning)\n",
        "\n",
        "class Config:\n",
        "    def __init__(self):\n",
        "        self.dataset = 'SMAP'  #         # 'dataset': Specifies the dataset for model optimization and evaluation.  Change according to the dataset you're working with (e.g., SMAP, SWaT).\n",
        "        self.model = 'TransNAS_TSAD'  #  'model': Designates the model to be optimized. Here, 'TransNAS_TSAD'  refers to our dynamic transformer model tailored for time-series anomaly detection.\n",
        "        self.retrain = True           # 'retrain': Indicates whether the model should undergo retraining.   # Setting this to True forces the model to train from scratch, ignoring any pre-trained weights.\n",
        "        self.test = False             # 'test': Controls whether the script is in testing mode. When set to False,  # the script focuses on training the model. Set to True for evaluating the model's performance.\n",
        "config = Config()\n",
        "\n",
        "\n",
        "\n",
        "\n",
        "\n",
        "\n",
        "\n",
        "# Objective function for Optuna study\n",
        "def objective(trial):\n",
        "    # Load dataset\n",
        "    train_loader, test_loader, labels = load_dataset(OUTPUT_FOLDER,config.dataset,config)\n",
        "    print(labels.shape[1])  # Print label shape for debugging\n",
        "    trainD, testD = next(iter(train_loader)), next(iter(test_loader))\n",
        "    trainO, testO = trainD, testD\n",
        "\n",
        "    # Hyperparameter suggestions\n",
        "    lr = trial.suggest_float(\"lr\", 0.0001, 0.009)\n",
        "    dropout_rate = trial.suggest_float(\"dropout_rate\", 0.1, 0.5)\n",
        "    dim_feedforward = trial.suggest_int(\"dim_feedforward\", 8, 128)\n",
        "    batch = trial.suggest_int(\"batch\", 16, 128, step=16)\n",
        "    encoder_layers = trial.suggest_int(\"encoder_layers\", 1, 3)\n",
        "    decoder_layers = trial.suggest_int(\"decoder_layers\", 1, 3)\n",
        "    activation_function = trial.suggest_categorical(\"activation_function\", [\"relu\", \"leaky_relu\", \"sigmoid\", \"tanh\"])\n",
        "\n",
        "    # Time augmentation and noise parameters\n",
        "    time_warping = trial.suggest_categorical(\"time_warping\", [True, False])\n",
        "    time_masking = trial.suggest_categorical(\"time_masking\", [True, False])\n",
        "    gaussian_noise = trial.suggest_float(\"gaussian_noise\", 1e-4, 1e-1, log=True)\n",
        "    use_linear_embedding = trial.suggest_categorical(\"use_linear_embedding\", [True, False])\n",
        "\n",
        "    # Conditional hyperparameter based on dataset\n",
        "    if config.dataset in ['MSL', 'SMAP', 'SWaT', 'WADI', 'SMD', 'NAB', 'MBA', 'UCR']:\n",
        "        phase_type = trial.suggest_categorical(\"phase_type\", [\"2phase\", \"iterative\"])\n",
        "    else:\n",
        "        phase_type = trial.suggest_categorical(\"phase_type\", [\"1phase\", \"2phase\", \"iterative\"])\n",
        "\n",
        "    self_conditioning = trial.suggest_categorical(\"self_conditioning\", [True, False])\n",
        "    layer_norm = trial.suggest_categorical(\"layer_norm\", [True, False])\n",
        "    positional_encoding_type = trial.suggest_categorical(\"positional_encoding_type\", [\"sinusoidal\", \"fourier\"])\n",
        "    num_ffn_layers = trial.suggest_int(\"num_ffn_layers\", 1, 3)\n",
        "\n",
        "    # Compile hyperparameters\n",
        "    params = {\n",
        "        'lr': lr,\n",
        "        'dropout_rate': dropout_rate,\n",
        "        'dim_feedforward': dim_feedforward,\n",
        "        'batch': batch,\n",
        "        'encoder_layers': encoder_layers,\n",
        "        'decoder_layers': decoder_layers,\n",
        "        'attention_type': \"scaled_dot_product\",\n",
        "        'positional_encoding_type': positional_encoding_type,\n",
        "        'phase_type': phase_type,\n",
        "        'gaussian_noise_std': gaussian_noise,\n",
        "        'time_warping': time_warping,\n",
        "        'time_masking': time_masking,\n",
        "        'self_conditioning': self_conditioning,\n",
        "        'layer_norm': layer_norm,\n",
        "        'activation_function': activation_function,\n",
        "        'use_linear_embedding': use_linear_embedding,\n",
        "        'nhead': labels.shape[1],  # Dynamic based on labels\n",
        "        'num_ffn_layers': num_ffn_layers\n",
        "    }\n",
        "\n",
        "    # Load model with suggested parameters\n",
        "    model, optimizer, scheduler, epoch, accuracy_list = load_model(config.model, labels.shape[1],config, **params)\n",
        "    model.double()\n",
        "    trainD, testD = convert_to_windows(trainD, model,config), convert_to_windows(testD, model,config)\n",
        "\n",
        "    trial_timeout=40;     #Pass it to pot_eval () Set it according to the size of dataset (some trials get stuck for infinite time due to irregular parameters combination)\n",
        "\n",
        "    # Training phase\n",
        "    if not config.test:\n",
        "        print(f'Training {config.model} on {config.dataset}')\n",
        "        num_epochs = 5\n",
        "        start = time.time()\n",
        "\n",
        "        for e in tqdm(range(epoch+1, epoch+num_epochs+1)):\n",
        "            lossT, lr = optimize_model(e, model, trainD, trainO, optimizer, scheduler, config)\n",
        "            accuracy_list.append((lossT, lr))\n",
        "            print(f\"Epoch {e}, Loss: {lossT}, Learning Rate: {lr}\")\n",
        "\n",
        "        print('Training time: ' + \"{:10.4f}\".format(time.time() - start) + ' s')\n",
        "       #save_model(model, optimizer, scheduler, e, accuracy_list,config)\n",
        "        #plot_accuracies(accuracy_list, f'{config.model}_{config.dataset}')\n",
        "\n",
        "    # Testing phase\n",
        "    model.eval()  # Set model to evaluation mode\n",
        "    print(f'Testing {config.model} on {config.dataset}')\n",
        "    loss, y_pred = optimize_model(0, model, testD, testO, optimizer, scheduler,config, training=False)\n",
        "\n",
        "    # Prepare dataframe for storing results\n",
        "    df = pd.DataFrame()\n",
        "\n",
        "    try:\n",
        "        lossT, _ = optimize_model(0, model, trainD, trainO, optimizer, scheduler, config, training=False)\n",
        "        for i in range(loss.shape[1]):\n",
        "            lt, l, ls = lossT[:, i], loss[:, i], labels[:, i]\n",
        "            result, pred = pot_eval(config,trial_timeout,lt, l, ls)\n",
        "            df = df.append(result, ignore_index=True)\n",
        "    except TimeoutError:\n",
        "        print(f\"Trial timed out during score calculation.\")\n",
        "        return {'f1': 0.0, 'num_params': float('inf')}\n",
        "    except Exception as e:\n",
        "        print(f\"An exception occurred: {e}\")\n",
        "        return {'f1': 0.0, 'num_params': float('inf')}\n",
        "\n",
        "    # Finalize results\n",
        "    lossTfinal, lossFinal = np.mean(lossT, axis=1), np.mean(loss, axis=1)\n",
        "    labelsFinal = (np.sum(labels, axis=1) >= 1).astype(int)\n",
        "    num_params = sum(p.numel() for p in model.parameters())\n",
        "    result, _ = pot_eval(config,trial_timeout,lossTfinal, lossFinal, labelsFinal)\n",
        "    Result2 = result\n",
        "    #Result2.update(hit_att(loss, labels))\n",
        "    #Result2.update(ndcg(loss, labels))\n",
        "    #print(df)\n",
        "    pprint(Result2)\n",
        "\n",
        "    return result['f1'], num_params\n"
      ],
      "metadata": {
        "id": "3Zz-LZudIPMa"
      },
      "execution_count": 17,
      "outputs": []
    },
    {
      "cell_type": "markdown",
      "source": [
        "## Running Multi-Objective Optimization for TransNAS_TSAD: Balancing F1 Score and Model complexity\n",
        "\n",
        "### Overview:\n",
        "This script initiates a focused multi-objective optimization task utilizing the NSGA-II algorithm through Optuna, aimed at enhancing the TransNAS_TSAD model. The dual objectives are to achieve a higher F1 score, indicative of model performance, and to reduce the number of parameters, reflecting model simplicity and efficiency. Over the course of 100 trials, this process navigates the complex optimization landscape to find a harmonious balance between these goals. Following the optimization phase, the script generates insightful visualizations to dissect and understand the trade-offs between maximizing performance and minimizing complexity, providing a holistic view of the model's optimization journey.\n",
        "\n"
      ],
      "metadata": {
        "id": "GRMgOCov1EA5"
      }
    },
    {
      "cell_type": "code",
      "source": [
        "#import optuna\n",
        "#from optuna.visualization import (\n",
        " #   plot_pareto_front,\n",
        "  #  plot_optimization_history,\n",
        "   # plot_param_importances,\n",
        "    #plot_contour,\n",
        "    #plot_parallel_coordinate,\n",
        "    #plot_edf,\n",
        "#)\n",
        "\n",
        "def main():\n",
        "    # Use NSGA-II sampler for multi-objective optimization\n",
        "    sampler = optuna.samplers.NSGAIISampler()\n",
        "\n",
        "    # Create a multi-objective study\n",
        "    study = optuna.create_study(directions=[\"maximize\", \"minimize\"], sampler=sampler)\n",
        "    study.optimize(objective, n_trials=100)\n",
        "\n",
        "    print('Number of finished trials: ', len(study.trials))\n",
        "    print('Best trials on the Pareto front:')\n",
        "\n",
        "    # Iterate over the best trials (Pareto front)\n",
        "    for trial in study.best_trials:\n",
        "        print(f\"Trial Number: {trial.number}\")\n",
        "        print(f\"  Value for F1: {trial.values[0]}\")\n",
        "        print(f\"  Number of Parameters: {-trial.values[1]}\")\n",
        "        print(\"  Params: \")\n",
        "        for key, value in trial.params.items():\n",
        "            print(f\"    {key}: {value}\")\n",
        "\n",
        "    # Visualize the Pareto front\n",
        "    pareto_front = customize_pareto_front(study, target_names=[\"F1 Score\", \"Number of Parameters\"])\n",
        "    pareto_front.show()\n",
        "\n",
        "    # Visualize optimization history for the first objective (e.g., F1 score)\n",
        "    optimization_history_f1 = customize_optimization_history(study, target=lambda t: t.values[0], title='F1 Score Optimization History')\n",
        "    optimization_history_f1.show()\n",
        "\n",
        "    # Visualize optimization history for the second objective (e.g., Number of Parameters)\n",
        "    optimization_history_params = customize_optimization_history(study, target=lambda t: t.values[1], title='Parameter Count Optimization History')\n",
        "    optimization_history_params.show()\n",
        "\n",
        "    # Visualize parameter importances for the first objective\n",
        "    param_importances_f1 = customize_param_importances(study, target=lambda t: t.values[0], title='F1 Score Parameter Importances')\n",
        "    param_importances_f1.show()\n",
        "\n",
        "    # Visualize parameter importances for the second objective\n",
        "    param_importances_params = customize_param_importances(study, target=lambda t: t.values[1], title='Parameter Count Importances')\n",
        "    param_importances_params.show()\n",
        "\n",
        "    # Visualize contour plot of selected hyperparameters\n",
        "    contour_plot = customize_contour_plot(study, params=[\"lr\", \"dropout_rate\"], target=lambda t: t.values[0])\n",
        "    contour_plot.show()\n",
        "\n",
        "    # Visualize parallel coordinate\n",
        "    parallel_coordinate = customize_parallel_coordinate(study, target=lambda t: t.values[0])\n",
        "    parallel_coordinate.show()\n",
        "\n",
        "        # Visualize parallel coordinate\n",
        "    parallel_coordinate = customize_parallel_coordinate(study, target=lambda t: t.values[1])\n",
        "    parallel_coordinate.show()\n",
        "\n",
        "    # Visualize empirical distribution function (EDF)\n",
        "    edf_plot = customize_edf_plot(study, target=lambda t: t.values[0])\n",
        "    edf_plot.show()\n",
        "\n",
        "if __name__ == '__main__':\n",
        "    main()\n"
      ],
      "metadata": {
        "id": "Rs3V30-VIYpH",
        "colab": {
          "base_uri": "https://localhost:8080/",
          "height": 1000
        },
        "outputId": "3ffd1697-5b9d-4b43-ac70-6ab0afdff2bd"
      },
      "execution_count": 18,
      "outputs": [
        {
          "output_type": "stream",
          "name": "stderr",
          "text": [
            "[I 2024-02-20 18:07:22,643] A new study created in memory with name: no-name-0afa48a4-f2e9-4bde-8719-28bf4e2cc0dd\n",
            "/usr/local/lib/python3.10/dist-packages/torch/nn/modules/transformer.py:282: UserWarning: enable_nested_tensor is True, but self.use_nested_tensor is False because encoder_layer was not TransformerEncoderLayer\n",
            "  warnings.warn(f\"enable_nested_tensor is True, but self.use_nested_tensor is False because {why_not_sparsity_fast_path}\")\n"
          ]
        },
        {
          "output_type": "stream",
          "name": "stdout",
          "text": [
            "25\n",
            "Hyperparameters: {'lr': 0.006417316863162286, 'dropout_rate': 0.42197177185433854, 'dim_feedforward': 24, 'batch': 80, 'encoder_layers': 2, 'decoder_layers': 3, 'attention_type': 'scaled_dot_product', 'positional_encoding_type': 'fourier', 'phase_type': 'iterative', 'gaussian_noise_std': 0.00045995291081813165, 'time_warping': False, 'time_masking': True, 'self_conditioning': True, 'layer_norm': True, 'activation_function': 'leaky_relu', 'use_linear_embedding': False, 'nhead': 25, 'num_ffn_layers': 2}\n",
            "Creating new model: TransNAS_TSAD\n",
            "Training TransNAS_TSAD on SMAP\n"
          ]
        },
        {
          "output_type": "stream",
          "name": "stderr",
          "text": [
            " 20%|██        | 1/5 [00:07<00:28,  7.16s/it]"
          ]
        },
        {
          "output_type": "stream",
          "name": "stdout",
          "text": [
            "Epoch 0, Loss: 4.18748192313491, Learning Rate: 0.006417316863162286\n"
          ]
        },
        {
          "output_type": "stream",
          "name": "stderr",
          "text": [
            "\r 40%|████      | 2/5 [00:14<00:22,  7.38s/it]"
          ]
        },
        {
          "output_type": "stream",
          "name": "stdout",
          "text": [
            "Epoch 1, Loss: 0.3240671438173346, Learning Rate: 0.006417316863162286\n"
          ]
        },
        {
          "output_type": "stream",
          "name": "stderr",
          "text": [
            "\r 60%|██████    | 3/5 [00:22<00:14,  7.44s/it]"
          ]
        },
        {
          "output_type": "stream",
          "name": "stdout",
          "text": [
            "Epoch 2, Loss: 0.23664459936462107, Learning Rate: 0.006417316863162286\n"
          ]
        },
        {
          "output_type": "stream",
          "name": "stderr",
          "text": [
            "\r 80%|████████  | 4/5 [00:29<00:07,  7.35s/it]"
          ]
        },
        {
          "output_type": "stream",
          "name": "stdout",
          "text": [
            "Epoch 3, Loss: 0.22576186919347427, Learning Rate: 0.006417316863162286\n"
          ]
        },
        {
          "output_type": "stream",
          "name": "stderr",
          "text": [
            "100%|██████████| 5/5 [00:36<00:00,  7.38s/it]"
          ]
        },
        {
          "output_type": "stream",
          "name": "stdout",
          "text": [
            "Epoch 4, Loss: 0.1544716466277082, Learning Rate: 0.006417316863162286\n",
            "Training time:    36.8930 s\n",
            "Testing TransNAS_TSAD on SMAP\n"
          ]
        },
        {
          "output_type": "stream",
          "name": "stderr",
          "text": [
            "\n",
            "[I 2024-02-20 18:08:12,909] Trial 0 finished with values: [0.952254706491707, 107715.0] and parameters: {'lr': 0.006417316863162286, 'dropout_rate': 0.42197177185433854, 'dim_feedforward': 24, 'batch': 80, 'encoder_layers': 2, 'decoder_layers': 3, 'activation_function': 'leaky_relu', 'time_warping': False, 'time_masking': True, 'gaussian_noise': 0.00045995291081813165, 'use_linear_embedding': False, 'phase_type': 'iterative', 'self_conditioning': True, 'layer_norm': True, 'positional_encoding_type': 'fourier', 'num_ffn_layers': 2}. \n",
            "/usr/local/lib/python3.10/dist-packages/torch/nn/modules/transformer.py:282: UserWarning: enable_nested_tensor is True, but self.use_nested_tensor is False because encoder_layer was not TransformerEncoderLayer\n",
            "  warnings.warn(f\"enable_nested_tensor is True, but self.use_nested_tensor is False because {why_not_sparsity_fast_path}\")\n"
          ]
        },
        {
          "output_type": "stream",
          "name": "stdout",
          "text": [
            "{'FN': 0,\n",
            " 'FP': 75,\n",
            " 'ROC/AUC': 0.9951656568260925,\n",
            " 'TN': 7682,\n",
            " 'TP': 748,\n",
            " 'f1': 0.952254706491707,\n",
            " 'precision': 0.9088699768059542,\n",
            " 'recall': 0.9999999866310163,\n",
            " 'threshold': 0.3249948362328013}\n",
            "25\n",
            "Hyperparameters: {'lr': 0.001879072812171396, 'dropout_rate': 0.3494364708103783, 'dim_feedforward': 30, 'batch': 32, 'encoder_layers': 2, 'decoder_layers': 3, 'attention_type': 'scaled_dot_product', 'positional_encoding_type': 'fourier', 'phase_type': 'iterative', 'gaussian_noise_std': 0.013089879270761431, 'time_warping': True, 'time_masking': False, 'self_conditioning': False, 'layer_norm': False, 'activation_function': 'sigmoid', 'use_linear_embedding': True, 'nhead': 25, 'num_ffn_layers': 1}\n",
            "Creating new model: TransNAS_TSAD\n",
            "Training TransNAS_TSAD on SMAP\n"
          ]
        },
        {
          "output_type": "stream",
          "name": "stderr",
          "text": [
            " 20%|██        | 1/5 [00:11<00:45, 11.47s/it]"
          ]
        },
        {
          "output_type": "stream",
          "name": "stdout",
          "text": [
            "Epoch 0, Loss: 0.029164141373492995, Learning Rate: 0.001879072812171396\n"
          ]
        },
        {
          "output_type": "stream",
          "name": "stderr",
          "text": [
            "\r 40%|████      | 2/5 [00:22<00:34, 11.38s/it]"
          ]
        },
        {
          "output_type": "stream",
          "name": "stdout",
          "text": [
            "Epoch 1, Loss: 0.007930672595781044, Learning Rate: 0.001879072812171396\n"
          ]
        },
        {
          "output_type": "stream",
          "name": "stderr",
          "text": [
            "\r 60%|██████    | 3/5 [00:34<00:22, 11.45s/it]"
          ]
        },
        {
          "output_type": "stream",
          "name": "stdout",
          "text": [
            "Epoch 2, Loss: 0.003769504627584167, Learning Rate: 0.001879072812171396\n"
          ]
        },
        {
          "output_type": "stream",
          "name": "stderr",
          "text": [
            "\r 80%|████████  | 4/5 [00:45<00:11, 11.44s/it]"
          ]
        },
        {
          "output_type": "stream",
          "name": "stdout",
          "text": [
            "Epoch 3, Loss: 0.002828306800990091, Learning Rate: 0.001879072812171396\n"
          ]
        },
        {
          "output_type": "stream",
          "name": "stderr",
          "text": [
            "100%|██████████| 5/5 [00:57<00:00, 11.43s/it]"
          ]
        },
        {
          "output_type": "stream",
          "name": "stdout",
          "text": [
            "Epoch 4, Loss: 0.0023270402494835925, Learning Rate: 0.001879072812171396\n",
            "Training time:    57.1531 s\n",
            "Testing TransNAS_TSAD on SMAP\n"
          ]
        },
        {
          "output_type": "stream",
          "name": "stderr",
          "text": [
            "\n",
            "[I 2024-02-20 18:09:23,460] Trial 1 finished with values: [0.9280347166371923, 100825.0] and parameters: {'lr': 0.001879072812171396, 'dropout_rate': 0.3494364708103783, 'dim_feedforward': 30, 'batch': 32, 'encoder_layers': 2, 'decoder_layers': 3, 'activation_function': 'sigmoid', 'time_warping': True, 'time_masking': False, 'gaussian_noise': 0.013089879270761431, 'use_linear_embedding': True, 'phase_type': 'iterative', 'self_conditioning': False, 'layer_norm': False, 'positional_encoding_type': 'fourier', 'num_ffn_layers': 1}. \n",
            "/usr/local/lib/python3.10/dist-packages/torch/nn/modules/transformer.py:282: UserWarning: enable_nested_tensor is True, but self.use_nested_tensor is False because encoder_layer was not TransformerEncoderLayer\n",
            "  warnings.warn(f\"enable_nested_tensor is True, but self.use_nested_tensor is False because {why_not_sparsity_fast_path}\")\n"
          ]
        },
        {
          "output_type": "stream",
          "name": "stdout",
          "text": [
            "{'FN': 0,\n",
            " 'FP': 116,\n",
            " 'ROC/AUC': 0.9925228825576898,\n",
            " 'TN': 7641,\n",
            " 'TP': 748,\n",
            " 'f1': 0.9280347166371923,\n",
            " 'precision': 0.8657407307205934,\n",
            " 'recall': 0.9999999866310163,\n",
            " 'threshold': 0.03995680721501456}\n",
            "25\n",
            "Hyperparameters: {'lr': 0.0006765926523617158, 'dropout_rate': 0.18804464014472938, 'dim_feedforward': 63, 'batch': 96, 'encoder_layers': 3, 'decoder_layers': 2, 'attention_type': 'scaled_dot_product', 'positional_encoding_type': 'fourier', 'phase_type': '2phase', 'gaussian_noise_std': 0.008433007655650072, 'time_warping': False, 'time_masking': True, 'self_conditioning': True, 'layer_norm': True, 'activation_function': 'tanh', 'use_linear_embedding': False, 'nhead': 25, 'num_ffn_layers': 2}\n",
            "Creating new model: TransNAS_TSAD\n",
            "Training TransNAS_TSAD on SMAP\n"
          ]
        },
        {
          "output_type": "stream",
          "name": "stderr",
          "text": [
            " 20%|██        | 1/5 [00:02<00:10,  2.74s/it]"
          ]
        },
        {
          "output_type": "stream",
          "name": "stdout",
          "text": [
            "Epoch 0, Loss: 0.6163676040416058, Learning Rate: 0.0006765926523617158\n"
          ]
        },
        {
          "output_type": "stream",
          "name": "stderr",
          "text": [
            "\r 40%|████      | 2/5 [00:05<00:08,  2.72s/it]"
          ]
        },
        {
          "output_type": "stream",
          "name": "stdout",
          "text": [
            "Epoch 1, Loss: 0.4518204087240069, Learning Rate: 0.0006765926523617158\n"
          ]
        },
        {
          "output_type": "stream",
          "name": "stderr",
          "text": [
            "\r 60%|██████    | 3/5 [00:08<00:05,  2.72s/it]"
          ]
        },
        {
          "output_type": "stream",
          "name": "stdout",
          "text": [
            "Epoch 2, Loss: 0.20706217876886152, Learning Rate: 0.0006765926523617158\n"
          ]
        },
        {
          "output_type": "stream",
          "name": "stderr",
          "text": [
            "\r 80%|████████  | 4/5 [00:11<00:02,  2.86s/it]"
          ]
        },
        {
          "output_type": "stream",
          "name": "stdout",
          "text": [
            "Epoch 3, Loss: 0.06315543842665292, Learning Rate: 0.0006765926523617158\n"
          ]
        },
        {
          "output_type": "stream",
          "name": "stderr",
          "text": [
            "100%|██████████| 5/5 [00:13<00:00,  2.80s/it]"
          ]
        },
        {
          "output_type": "stream",
          "name": "stdout",
          "text": [
            "Epoch 4, Loss: 0.03047728514116855, Learning Rate: 0.0006765926523617158\n",
            "Training time:    13.9876 s\n",
            "Testing TransNAS_TSAD on SMAP\n"
          ]
        },
        {
          "output_type": "stream",
          "name": "stderr",
          "text": [
            "\n",
            "[I 2024-02-20 18:09:41,943] Trial 2 finished with values: [0.947430087338298, 203357.0] and parameters: {'lr': 0.0006765926523617158, 'dropout_rate': 0.18804464014472938, 'dim_feedforward': 63, 'batch': 96, 'encoder_layers': 3, 'decoder_layers': 2, 'activation_function': 'tanh', 'time_warping': False, 'time_masking': True, 'gaussian_noise': 0.008433007655650072, 'use_linear_embedding': False, 'phase_type': '2phase', 'self_conditioning': True, 'layer_norm': True, 'positional_encoding_type': 'fourier', 'num_ffn_layers': 2}. \n"
          ]
        },
        {
          "output_type": "stream",
          "name": "stdout",
          "text": [
            "{'FN': 0,\n",
            " 'FP': 83,\n",
            " 'ROC/AUC': 0.994649993554209,\n",
            " 'TN': 7674,\n",
            " 'TP': 748,\n",
            " 'f1': 0.947430087338298,\n",
            " 'precision': 0.9001203261116688,\n",
            " 'recall': 0.9999999866310163,\n",
            " 'threshold': 0.08407453325366702}\n",
            "25\n",
            "Hyperparameters: {'lr': 0.0067100412027878455, 'dropout_rate': 0.41214821304881966, 'dim_feedforward': 108, 'batch': 80, 'encoder_layers': 3, 'decoder_layers': 2, 'attention_type': 'scaled_dot_product', 'positional_encoding_type': 'sinusoidal', 'phase_type': '2phase', 'gaussian_noise_std': 0.00471400348494632, 'time_warping': True, 'time_masking': True, 'self_conditioning': False, 'layer_norm': True, 'activation_function': 'tanh', 'use_linear_embedding': False, 'nhead': 25, 'num_ffn_layers': 2}\n",
            "Creating new model: TransNAS_TSAD\n"
          ]
        },
        {
          "output_type": "stream",
          "name": "stderr",
          "text": [
            "/usr/local/lib/python3.10/dist-packages/torch/nn/modules/transformer.py:282: UserWarning: enable_nested_tensor is True, but self.use_nested_tensor is False because encoder_layer was not TransformerEncoderLayer\n",
            "  warnings.warn(f\"enable_nested_tensor is True, but self.use_nested_tensor is False because {why_not_sparsity_fast_path}\")\n"
          ]
        },
        {
          "output_type": "stream",
          "name": "stdout",
          "text": [
            "Training TransNAS_TSAD on SMAP\n"
          ]
        },
        {
          "output_type": "stream",
          "name": "stderr",
          "text": [
            " 20%|██        | 1/5 [00:03<00:12,  3.18s/it]"
          ]
        },
        {
          "output_type": "stream",
          "name": "stdout",
          "text": [
            "Epoch 0, Loss: 0.9456116126099663, Learning Rate: 0.0067100412027878455\n"
          ]
        },
        {
          "output_type": "stream",
          "name": "stderr",
          "text": [
            "\r 40%|████      | 2/5 [00:06<00:10,  3.41s/it]"
          ]
        },
        {
          "output_type": "stream",
          "name": "stdout",
          "text": [
            "Epoch 1, Loss: 0.9797661204515289, Learning Rate: 0.0067100412027878455\n"
          ]
        },
        {
          "output_type": "stream",
          "name": "stderr",
          "text": [
            "\r 60%|██████    | 3/5 [00:09<00:06,  3.28s/it]"
          ]
        },
        {
          "output_type": "stream",
          "name": "stdout",
          "text": [
            "Epoch 2, Loss: 0.9934013010560765, Learning Rate: 0.0067100412027878455\n"
          ]
        },
        {
          "output_type": "stream",
          "name": "stderr",
          "text": [
            "\r 80%|████████  | 4/5 [00:13<00:03,  3.23s/it]"
          ]
        },
        {
          "output_type": "stream",
          "name": "stdout",
          "text": [
            "Epoch 3, Loss: 0.9926975089934612, Learning Rate: 0.0067100412027878455\n"
          ]
        },
        {
          "output_type": "stream",
          "name": "stderr",
          "text": [
            "100%|██████████| 5/5 [00:16<00:00,  3.26s/it]"
          ]
        },
        {
          "output_type": "stream",
          "name": "stdout",
          "text": [
            "Epoch 4, Loss: 1.0107680367097438, Learning Rate: 0.0067100412027878455\n",
            "Training time:    16.3057 s\n",
            "Testing TransNAS_TSAD on SMAP\n"
          ]
        },
        {
          "output_type": "stream",
          "name": "stderr",
          "text": [
            "\n",
            "[W 2024-02-20 18:10:43,620] Trial 3 failed with parameters: {'lr': 0.0067100412027878455, 'dropout_rate': 0.41214821304881966, 'dim_feedforward': 108, 'batch': 80, 'encoder_layers': 3, 'decoder_layers': 2, 'activation_function': 'tanh', 'time_warping': True, 'time_masking': True, 'gaussian_noise': 0.00471400348494632, 'use_linear_embedding': False, 'phase_type': '2phase', 'self_conditioning': False, 'layer_norm': True, 'positional_encoding_type': 'sinusoidal', 'num_ffn_layers': 2} because of the following error: The value {'f1': 0.0, 'num_params': inf} could not be cast to float.\n",
            "[W 2024-02-20 18:10:43,621] Trial 3 failed with value {'f1': 0.0, 'num_params': inf}.\n",
            "/usr/local/lib/python3.10/dist-packages/torch/nn/modules/transformer.py:282: UserWarning: enable_nested_tensor is True, but self.use_nested_tensor is False because encoder_layer was not TransformerEncoderLayer\n",
            "  warnings.warn(f\"enable_nested_tensor is True, but self.use_nested_tensor is False because {why_not_sparsity_fast_path}\")\n"
          ]
        },
        {
          "output_type": "stream",
          "name": "stdout",
          "text": [
            "Initialization timed out after 40 seconds. Last exception message: zero-size array to reduction operation minimum which has no identity\n",
            "An exception occurred: unsupported operand type(s) for +: 'NoneType' and 'NoneType'\n",
            "25\n",
            "Hyperparameters: {'lr': 0.005212312754823048, 'dropout_rate': 0.42014216131822324, 'dim_feedforward': 42, 'batch': 96, 'encoder_layers': 1, 'decoder_layers': 2, 'attention_type': 'scaled_dot_product', 'positional_encoding_type': 'fourier', 'phase_type': '2phase', 'gaussian_noise_std': 0.04473275075086605, 'time_warping': False, 'time_masking': True, 'self_conditioning': False, 'layer_norm': True, 'activation_function': 'relu', 'use_linear_embedding': False, 'nhead': 25, 'num_ffn_layers': 2}\n",
            "Creating new model: TransNAS_TSAD\n",
            "Training TransNAS_TSAD on SMAP\n"
          ]
        },
        {
          "output_type": "stream",
          "name": "stderr",
          "text": [
            " 20%|██        | 1/5 [00:01<00:06,  1.66s/it]"
          ]
        },
        {
          "output_type": "stream",
          "name": "stdout",
          "text": [
            "Epoch 0, Loss: 0.6168189984460994, Learning Rate: 0.005212312754823048\n"
          ]
        },
        {
          "output_type": "stream",
          "name": "stderr",
          "text": [
            "\r 40%|████      | 2/5 [00:03<00:05,  1.71s/it]"
          ]
        },
        {
          "output_type": "stream",
          "name": "stdout",
          "text": [
            "Epoch 1, Loss: 0.029205601342937388, Learning Rate: 0.005212312754823048\n"
          ]
        },
        {
          "output_type": "stream",
          "name": "stderr",
          "text": [
            "\r 60%|██████    | 3/5 [00:05<00:03,  1.67s/it]"
          ]
        },
        {
          "output_type": "stream",
          "name": "stdout",
          "text": [
            "Epoch 2, Loss: 0.024825499067036794, Learning Rate: 0.005212312754823048\n"
          ]
        },
        {
          "output_type": "stream",
          "name": "stderr",
          "text": [
            "\r 80%|████████  | 4/5 [00:06<00:01,  1.69s/it]"
          ]
        },
        {
          "output_type": "stream",
          "name": "stdout",
          "text": [
            "Epoch 3, Loss: 0.024825499067036787, Learning Rate: 0.005212312754823048\n"
          ]
        },
        {
          "output_type": "stream",
          "name": "stderr",
          "text": [
            "100%|██████████| 5/5 [00:08<00:00,  1.65s/it]"
          ]
        },
        {
          "output_type": "stream",
          "name": "stdout",
          "text": [
            "Epoch 4, Loss: 0.024825499067036794, Learning Rate: 0.005212312754823048\n",
            "Training time:     8.2692 s\n",
            "Testing TransNAS_TSAD on SMAP\n"
          ]
        },
        {
          "output_type": "stream",
          "name": "stderr",
          "text": [
            "\n",
            "[W 2024-02-20 18:11:33,463] Trial 4 failed with parameters: {'lr': 0.005212312754823048, 'dropout_rate': 0.42014216131822324, 'dim_feedforward': 42, 'batch': 96, 'encoder_layers': 1, 'decoder_layers': 2, 'activation_function': 'relu', 'time_warping': False, 'time_masking': True, 'gaussian_noise': 0.04473275075086605, 'use_linear_embedding': False, 'phase_type': '2phase', 'self_conditioning': False, 'layer_norm': True, 'positional_encoding_type': 'fourier', 'num_ffn_layers': 2} because of the following error: The value {'f1': 0.0, 'num_params': inf} could not be cast to float.\n",
            "[W 2024-02-20 18:11:33,464] Trial 4 failed with value {'f1': 0.0, 'num_params': inf}.\n",
            "/usr/local/lib/python3.10/dist-packages/torch/nn/modules/transformer.py:282: UserWarning: enable_nested_tensor is True, but self.use_nested_tensor is False because encoder_layer was not TransformerEncoderLayer\n",
            "  warnings.warn(f\"enable_nested_tensor is True, but self.use_nested_tensor is False because {why_not_sparsity_fast_path}\")\n"
          ]
        },
        {
          "output_type": "stream",
          "name": "stdout",
          "text": [
            "Initialization timed out after 40 seconds. Last exception message: zero-size array to reduction operation minimum which has no identity\n",
            "An exception occurred: unsupported operand type(s) for +: 'NoneType' and 'NoneType'\n",
            "25\n",
            "Hyperparameters: {'lr': 0.004334640686536756, 'dropout_rate': 0.3234636570507471, 'dim_feedforward': 92, 'batch': 64, 'encoder_layers': 3, 'decoder_layers': 3, 'attention_type': 'scaled_dot_product', 'positional_encoding_type': 'sinusoidal', 'phase_type': 'iterative', 'gaussian_noise_std': 0.0008649594374388324, 'time_warping': False, 'time_masking': False, 'self_conditioning': True, 'layer_norm': True, 'activation_function': 'sigmoid', 'use_linear_embedding': True, 'nhead': 25, 'num_ffn_layers': 2}\n",
            "Creating new model: TransNAS_TSAD\n",
            "Training TransNAS_TSAD on SMAP\n"
          ]
        },
        {
          "output_type": "stream",
          "name": "stderr",
          "text": [
            " 20%|██        | 1/5 [00:14<00:56, 14.11s/it]"
          ]
        },
        {
          "output_type": "stream",
          "name": "stdout",
          "text": [
            "Epoch 0, Loss: 0.4963865111330695, Learning Rate: 0.004334640686536756\n"
          ]
        },
        {
          "output_type": "stream",
          "name": "stderr",
          "text": [
            "\r 40%|████      | 2/5 [00:28<00:42, 14.10s/it]"
          ]
        },
        {
          "output_type": "stream",
          "name": "stdout",
          "text": [
            "Epoch 1, Loss: 0.5418997160728207, Learning Rate: 0.004334640686536756\n"
          ]
        },
        {
          "output_type": "stream",
          "name": "stderr",
          "text": [
            "\r 60%|██████    | 3/5 [00:41<00:27, 13.83s/it]"
          ]
        },
        {
          "output_type": "stream",
          "name": "stdout",
          "text": [
            "Epoch 2, Loss: 0.5809595823554549, Learning Rate: 0.004334640686536756\n"
          ]
        },
        {
          "output_type": "stream",
          "name": "stderr",
          "text": [
            "\r 80%|████████  | 4/5 [00:55<00:13, 13.87s/it]"
          ]
        },
        {
          "output_type": "stream",
          "name": "stdout",
          "text": [
            "Epoch 3, Loss: 0.582342694619042, Learning Rate: 0.004334640686536756\n"
          ]
        },
        {
          "output_type": "stream",
          "name": "stderr",
          "text": [
            "100%|██████████| 5/5 [01:09<00:00, 13.90s/it]"
          ]
        },
        {
          "output_type": "stream",
          "name": "stdout",
          "text": [
            "Epoch 4, Loss: 0.5839256108305951, Learning Rate: 0.004334640686536756\n",
            "Training time:    69.4889 s\n",
            "Testing TransNAS_TSAD on SMAP\n"
          ]
        },
        {
          "output_type": "stream",
          "name": "stderr",
          "text": [
            "\n",
            "/content/drive/MyDrive/TransNAS_TSAD/src/spot.py:329: RuntimeWarning: overflow encountered in square\n",
            "  jac_vs = (1 / t) * (-vs + np.mean(1 / s ** 2))\n",
            "/content/drive/MyDrive/TransNAS_TSAD/src/spot.py:393: RuntimeWarning: overflow encountered in scalar power\n",
            "  return self.init_threshold + (sigma / gamma) * (pow(r, -gamma) - 1)\n",
            "/content/drive/MyDrive/TransNAS_TSAD/src/spot.py:329: RuntimeWarning: overflow encountered in square\n",
            "  jac_vs = (1 / t) * (-vs + np.mean(1 / s ** 2))\n",
            "[W 2024-02-20 18:13:45,453] Trial 5 failed with parameters: {'lr': 0.004334640686536756, 'dropout_rate': 0.3234636570507471, 'dim_feedforward': 92, 'batch': 64, 'encoder_layers': 3, 'decoder_layers': 3, 'activation_function': 'sigmoid', 'time_warping': False, 'time_masking': False, 'gaussian_noise': 0.0008649594374388324, 'use_linear_embedding': True, 'phase_type': 'iterative', 'self_conditioning': True, 'layer_norm': True, 'positional_encoding_type': 'sinusoidal', 'num_ffn_layers': 2} because of the following error: The value {'f1': 0.0, 'num_params': inf} could not be cast to float.\n",
            "[W 2024-02-20 18:13:45,455] Trial 5 failed with value {'f1': 0.0, 'num_params': inf}.\n"
          ]
        },
        {
          "output_type": "stream",
          "name": "stdout",
          "text": [
            "Initialization timed out after 40 seconds. Last exception message: zero-size array to reduction operation minimum which has no identity\n",
            "An exception occurred: unsupported operand type(s) for +: 'NoneType' and 'NoneType'\n",
            "25\n"
          ]
        },
        {
          "output_type": "stream",
          "name": "stderr",
          "text": [
            "/usr/local/lib/python3.10/dist-packages/torch/nn/modules/transformer.py:282: UserWarning: enable_nested_tensor is True, but self.use_nested_tensor is False because encoder_layer was not TransformerEncoderLayer\n",
            "  warnings.warn(f\"enable_nested_tensor is True, but self.use_nested_tensor is False because {why_not_sparsity_fast_path}\")\n"
          ]
        },
        {
          "output_type": "stream",
          "name": "stdout",
          "text": [
            "Hyperparameters: {'lr': 0.008493428370951276, 'dropout_rate': 0.3737267069568603, 'dim_feedforward': 89, 'batch': 112, 'encoder_layers': 1, 'decoder_layers': 3, 'attention_type': 'scaled_dot_product', 'positional_encoding_type': 'sinusoidal', 'phase_type': 'iterative', 'gaussian_noise_std': 0.00016994708317659576, 'time_warping': True, 'time_masking': False, 'self_conditioning': False, 'layer_norm': True, 'activation_function': 'sigmoid', 'use_linear_embedding': False, 'nhead': 25, 'num_ffn_layers': 3}\n",
            "Creating new model: TransNAS_TSAD\n",
            "Training TransNAS_TSAD on SMAP\n"
          ]
        },
        {
          "output_type": "stream",
          "name": "stderr",
          "text": [
            " 20%|██        | 1/5 [00:05<00:23,  5.87s/it]"
          ]
        },
        {
          "output_type": "stream",
          "name": "stdout",
          "text": [
            "Epoch 0, Loss: 0.04324686319825754, Learning Rate: 0.008493428370951276\n"
          ]
        },
        {
          "output_type": "stream",
          "name": "stderr",
          "text": [
            "\r 40%|████      | 2/5 [00:12<00:18,  6.12s/it]"
          ]
        },
        {
          "output_type": "stream",
          "name": "stdout",
          "text": [
            "Epoch 1, Loss: 0.024794026813904326, Learning Rate: 0.008493428370951276\n"
          ]
        },
        {
          "output_type": "stream",
          "name": "stderr",
          "text": [
            "\r 60%|██████    | 3/5 [00:18<00:12,  6.13s/it]"
          ]
        },
        {
          "output_type": "stream",
          "name": "stdout",
          "text": [
            "Epoch 2, Loss: 0.024780681989591817, Learning Rate: 0.008493428370951276\n"
          ]
        },
        {
          "output_type": "stream",
          "name": "stderr",
          "text": [
            "\r 80%|████████  | 4/5 [00:24<00:06,  6.22s/it]"
          ]
        },
        {
          "output_type": "stream",
          "name": "stdout",
          "text": [
            "Epoch 3, Loss: 0.024780681989591817, Learning Rate: 0.008493428370951276\n"
          ]
        },
        {
          "output_type": "stream",
          "name": "stderr",
          "text": [
            "100%|██████████| 5/5 [00:30<00:00,  6.19s/it]"
          ]
        },
        {
          "output_type": "stream",
          "name": "stdout",
          "text": [
            "Epoch 4, Loss: 0.024780681989591817, Learning Rate: 0.008493428370951276\n",
            "Training time:    30.9476 s\n",
            "Testing TransNAS_TSAD on SMAP\n"
          ]
        },
        {
          "output_type": "stream",
          "name": "stderr",
          "text": [
            "\n",
            "/content/drive/MyDrive/TransNAS_TSAD/src/spot.py:342: RuntimeWarning: divide by zero encountered in scalar divide\n",
            "  c = 2 * (Ymean - Ym) / (Ym ** 2)\n",
            "/content/drive/MyDrive/TransNAS_TSAD/src/spot.py:246: RuntimeWarning: invalid value encountered in scalar subtract\n",
            "  X0 = np.arange(bounds[0] + step, bounds[1], step)\n",
            "/content/drive/MyDrive/TransNAS_TSAD/src/spot.py:341: RuntimeWarning: overflow encountered in scalar divide\n",
            "  b = 2 * (Ymean - Ym) / (Ymean * Ym)\n",
            "/content/drive/MyDrive/TransNAS_TSAD/src/spot.py:243: RuntimeWarning: invalid value encountered in scalar subtract\n",
            "  step = (bounds[1] - bounds[0]) / (npoints + 1)\n",
            "/content/drive/MyDrive/TransNAS_TSAD/src/spot.py:341: RuntimeWarning: divide by zero encountered in scalar divide\n",
            "  b = 2 * (Ymean - Ym) / (Ymean * Ym)\n"
          ]
        },
        {
          "output_type": "stream",
          "name": "stdout",
          "text": [
            "Initialization timed out after 40 seconds. Last exception message: arange: cannot compute length\n"
          ]
        },
        {
          "output_type": "stream",
          "name": "stderr",
          "text": [
            "/content/drive/MyDrive/TransNAS_TSAD/src/spot.py:342: RuntimeWarning: divide by zero encountered in scalar divide\n",
            "  c = 2 * (Ymean - Ym) / (Ym ** 2)\n",
            "/content/drive/MyDrive/TransNAS_TSAD/src/spot.py:246: RuntimeWarning: invalid value encountered in scalar subtract\n",
            "  X0 = np.arange(bounds[0] + step, bounds[1], step)\n",
            "/content/drive/MyDrive/TransNAS_TSAD/src/spot.py:341: RuntimeWarning: overflow encountered in scalar divide\n",
            "  b = 2 * (Ymean - Ym) / (Ymean * Ym)\n",
            "/content/drive/MyDrive/TransNAS_TSAD/src/spot.py:243: RuntimeWarning: invalid value encountered in scalar subtract\n",
            "  step = (bounds[1] - bounds[0]) / (npoints + 1)\n",
            "/content/drive/MyDrive/TransNAS_TSAD/src/spot.py:341: RuntimeWarning: divide by zero encountered in scalar divide\n",
            "  b = 2 * (Ymean - Ym) / (Ymean * Ym)\n",
            "[W 2024-02-20 18:15:47,182] Trial 6 failed with parameters: {'lr': 0.008493428370951276, 'dropout_rate': 0.3737267069568603, 'dim_feedforward': 89, 'batch': 112, 'encoder_layers': 1, 'decoder_layers': 3, 'activation_function': 'sigmoid', 'time_warping': True, 'time_masking': False, 'gaussian_noise': 0.00016994708317659576, 'use_linear_embedding': False, 'phase_type': 'iterative', 'self_conditioning': False, 'layer_norm': True, 'positional_encoding_type': 'sinusoidal', 'num_ffn_layers': 3} because of the following error: The value {'f1': 0.0, 'num_params': inf} could not be cast to float.\n",
            "[W 2024-02-20 18:15:47,183] Trial 6 failed with value {'f1': 0.0, 'num_params': inf}.\n",
            "/usr/local/lib/python3.10/dist-packages/torch/nn/modules/transformer.py:282: UserWarning: enable_nested_tensor is True, but self.use_nested_tensor is False because encoder_layer was not TransformerEncoderLayer\n",
            "  warnings.warn(f\"enable_nested_tensor is True, but self.use_nested_tensor is False because {why_not_sparsity_fast_path}\")\n"
          ]
        },
        {
          "output_type": "stream",
          "name": "stdout",
          "text": [
            "Initialization timed out after 40 seconds. Last exception message: arange: cannot compute length\n",
            "An exception occurred: unsupported operand type(s) for +: 'NoneType' and 'NoneType'\n",
            "25\n",
            "Hyperparameters: {'lr': 0.006814970108424742, 'dropout_rate': 0.1200085735863445, 'dim_feedforward': 83, 'batch': 112, 'encoder_layers': 3, 'decoder_layers': 1, 'attention_type': 'scaled_dot_product', 'positional_encoding_type': 'sinusoidal', 'phase_type': '2phase', 'gaussian_noise_std': 0.01763788859318549, 'time_warping': False, 'time_masking': True, 'self_conditioning': True, 'layer_norm': False, 'activation_function': 'leaky_relu', 'use_linear_embedding': True, 'nhead': 25, 'num_ffn_layers': 1}\n",
            "Creating new model: TransNAS_TSAD\n",
            "Training TransNAS_TSAD on SMAP\n"
          ]
        },
        {
          "output_type": "stream",
          "name": "stderr",
          "text": [
            " 20%|██        | 1/5 [00:01<00:07,  1.95s/it]"
          ]
        },
        {
          "output_type": "stream",
          "name": "stdout",
          "text": [
            "Epoch 0, Loss: 0.02148012527585626, Learning Rate: 0.006814970108424742\n"
          ]
        },
        {
          "output_type": "stream",
          "name": "stderr",
          "text": [
            "\r 40%|████      | 2/5 [00:03<00:05,  1.95s/it]"
          ]
        },
        {
          "output_type": "stream",
          "name": "stdout",
          "text": [
            "Epoch 1, Loss: 0.005453602867705844, Learning Rate: 0.006814970108424742\n"
          ]
        },
        {
          "output_type": "stream",
          "name": "stderr",
          "text": [
            "\r 60%|██████    | 3/5 [00:06<00:04,  2.02s/it]"
          ]
        },
        {
          "output_type": "stream",
          "name": "stdout",
          "text": [
            "Epoch 2, Loss: 0.001879189075129412, Learning Rate: 0.006814970108424742\n"
          ]
        },
        {
          "output_type": "stream",
          "name": "stderr",
          "text": [
            "\r 80%|████████  | 4/5 [00:08<00:02,  2.02s/it]"
          ]
        },
        {
          "output_type": "stream",
          "name": "stdout",
          "text": [
            "Epoch 3, Loss: 0.001549544868890694, Learning Rate: 0.006814970108424742\n"
          ]
        },
        {
          "output_type": "stream",
          "name": "stderr",
          "text": [
            "100%|██████████| 5/5 [00:10<00:00,  2.07s/it]"
          ]
        },
        {
          "output_type": "stream",
          "name": "stdout",
          "text": [
            "Epoch 4, Loss: 0.0013032426826487728, Learning Rate: 0.006814970108424742\n",
            "Training time:    10.3700 s\n",
            "Testing TransNAS_TSAD on SMAP\n"
          ]
        },
        {
          "output_type": "stream",
          "name": "stderr",
          "text": [
            "\n",
            "[I 2024-02-20 18:16:01,545] Trial 7 finished with values: [0.9338277193723609, 117390.0] and parameters: {'lr': 0.006814970108424742, 'dropout_rate': 0.1200085735863445, 'dim_feedforward': 83, 'batch': 112, 'encoder_layers': 3, 'decoder_layers': 1, 'activation_function': 'leaky_relu', 'time_warping': False, 'time_masking': True, 'gaussian_noise': 0.01763788859318549, 'use_linear_embedding': True, 'phase_type': '2phase', 'self_conditioning': True, 'layer_norm': False, 'positional_encoding_type': 'sinusoidal', 'num_ffn_layers': 1}. \n",
            "/usr/local/lib/python3.10/dist-packages/torch/nn/modules/transformer.py:282: UserWarning: enable_nested_tensor is True, but self.use_nested_tensor is False because encoder_layer was not TransformerEncoderLayer\n",
            "  warnings.warn(f\"enable_nested_tensor is True, but self.use_nested_tensor is False because {why_not_sparsity_fast_path}\")\n"
          ]
        },
        {
          "output_type": "stream",
          "name": "stdout",
          "text": [
            "{'FN': 0,\n",
            " 'FP': 106,\n",
            " 'ROC/AUC': 0.9931674616475442,\n",
            " 'TN': 7651,\n",
            " 'TP': 748,\n",
            " 'f1': 0.9338277193723609,\n",
            " 'precision': 0.8758782098843301,\n",
            " 'recall': 0.9999999866310163,\n",
            " 'threshold': 0.027028281352315726}\n",
            "25\n",
            "Hyperparameters: {'lr': 0.003632166784770201, 'dropout_rate': 0.45011258071605265, 'dim_feedforward': 63, 'batch': 48, 'encoder_layers': 1, 'decoder_layers': 1, 'attention_type': 'scaled_dot_product', 'positional_encoding_type': 'sinusoidal', 'phase_type': 'iterative', 'gaussian_noise_std': 0.0021258291677011465, 'time_warping': True, 'time_masking': True, 'self_conditioning': False, 'layer_norm': True, 'activation_function': 'leaky_relu', 'use_linear_embedding': True, 'nhead': 25, 'num_ffn_layers': 2}\n",
            "Creating new model: TransNAS_TSAD\n",
            "Training TransNAS_TSAD on SMAP\n"
          ]
        },
        {
          "output_type": "stream",
          "name": "stderr",
          "text": [
            " 20%|██        | 1/5 [00:05<00:20,  5.07s/it]"
          ]
        },
        {
          "output_type": "stream",
          "name": "stdout",
          "text": [
            "Epoch 0, Loss: 0.1315500876989221, Learning Rate: 0.003632166784770201\n"
          ]
        },
        {
          "output_type": "stream",
          "name": "stderr",
          "text": [
            "\r 40%|████      | 2/5 [00:10<00:15,  5.29s/it]"
          ]
        },
        {
          "output_type": "stream",
          "name": "stdout",
          "text": [
            "Epoch 1, Loss: 0.026940723691088728, Learning Rate: 0.003632166784770201\n"
          ]
        },
        {
          "output_type": "stream",
          "name": "stderr",
          "text": [
            "\r 60%|██████    | 3/5 [00:15<00:10,  5.24s/it]"
          ]
        },
        {
          "output_type": "stream",
          "name": "stdout",
          "text": [
            "Epoch 2, Loss: 0.025325690660901345, Learning Rate: 0.003632166784770201\n"
          ]
        },
        {
          "output_type": "stream",
          "name": "stderr",
          "text": [
            "\r 80%|████████  | 4/5 [00:21<00:05,  5.29s/it]"
          ]
        },
        {
          "output_type": "stream",
          "name": "stdout",
          "text": [
            "Epoch 3, Loss: 0.02333092383008384, Learning Rate: 0.003632166784770201\n"
          ]
        },
        {
          "output_type": "stream",
          "name": "stderr",
          "text": [
            "100%|██████████| 5/5 [00:26<00:00,  5.23s/it]"
          ]
        },
        {
          "output_type": "stream",
          "name": "stdout",
          "text": [
            "Epoch 4, Loss: 0.019571780679127813, Learning Rate: 0.003632166784770201\n",
            "Training time:    26.1715 s\n",
            "Testing TransNAS_TSAD on SMAP\n"
          ]
        },
        {
          "output_type": "stream",
          "name": "stderr",
          "text": [
            "\n",
            "[I 2024-02-20 18:16:35,752] Trial 8 finished with values: [0.934995009464012, 60177.0] and parameters: {'lr': 0.003632166784770201, 'dropout_rate': 0.45011258071605265, 'dim_feedforward': 63, 'batch': 48, 'encoder_layers': 1, 'decoder_layers': 1, 'activation_function': 'leaky_relu', 'time_warping': True, 'time_masking': True, 'gaussian_noise': 0.0021258291677011465, 'use_linear_embedding': True, 'phase_type': 'iterative', 'self_conditioning': False, 'layer_norm': True, 'positional_encoding_type': 'sinusoidal', 'num_ffn_layers': 2}. \n",
            "/usr/local/lib/python3.10/dist-packages/torch/nn/modules/transformer.py:282: UserWarning: enable_nested_tensor is True, but self.use_nested_tensor is False because encoder_layer was not TransformerEncoderLayer\n",
            "  warnings.warn(f\"enable_nested_tensor is True, but self.use_nested_tensor is False because {why_not_sparsity_fast_path}\")\n"
          ]
        },
        {
          "output_type": "stream",
          "name": "stdout",
          "text": [
            "{'FN': 0,\n",
            " 'FP': 104,\n",
            " 'ROC/AUC': 0.993296377465515,\n",
            " 'TN': 7653,\n",
            " 'TP': 748,\n",
            " 'f1': 0.934995009464012,\n",
            " 'precision': 0.8779342619960767,\n",
            " 'recall': 0.9999999866310163,\n",
            " 'threshold': 0.17966997272070023}\n",
            "25\n",
            "Hyperparameters: {'lr': 0.0022470154513184503, 'dropout_rate': 0.12293663840303247, 'dim_feedforward': 50, 'batch': 48, 'encoder_layers': 3, 'decoder_layers': 2, 'attention_type': 'scaled_dot_product', 'positional_encoding_type': 'sinusoidal', 'phase_type': 'iterative', 'gaussian_noise_std': 0.00033159075815100594, 'time_warping': False, 'time_masking': True, 'self_conditioning': False, 'layer_norm': False, 'activation_function': 'leaky_relu', 'use_linear_embedding': False, 'nhead': 25, 'num_ffn_layers': 2}\n",
            "Creating new model: TransNAS_TSAD\n",
            "Training TransNAS_TSAD on SMAP\n"
          ]
        },
        {
          "output_type": "stream",
          "name": "stderr",
          "text": [
            " 20%|██        | 1/5 [00:10<00:42, 10.75s/it]"
          ]
        },
        {
          "output_type": "stream",
          "name": "stdout",
          "text": [
            "Epoch 0, Loss: 0.03838175938119234, Learning Rate: 0.0022470154513184503\n"
          ]
        },
        {
          "output_type": "stream",
          "name": "stderr",
          "text": [
            "\r 40%|████      | 2/5 [00:21<00:31, 10.61s/it]"
          ]
        },
        {
          "output_type": "stream",
          "name": "stdout",
          "text": [
            "Epoch 1, Loss: 0.008517532964495344, Learning Rate: 0.0022470154513184503\n"
          ]
        },
        {
          "output_type": "stream",
          "name": "stderr",
          "text": [
            "\r 60%|██████    | 3/5 [00:31<00:21, 10.64s/it]"
          ]
        },
        {
          "output_type": "stream",
          "name": "stdout",
          "text": [
            "Epoch 2, Loss: 0.0055924995416932926, Learning Rate: 0.0022470154513184503\n"
          ]
        },
        {
          "output_type": "stream",
          "name": "stderr",
          "text": [
            "\r 80%|████████  | 4/5 [00:42<00:10, 10.69s/it]"
          ]
        },
        {
          "output_type": "stream",
          "name": "stdout",
          "text": [
            "Epoch 3, Loss: 0.004064246958389876, Learning Rate: 0.0022470154513184503\n"
          ]
        },
        {
          "output_type": "stream",
          "name": "stderr",
          "text": [
            "100%|██████████| 5/5 [00:53<00:00, 10.70s/it]"
          ]
        },
        {
          "output_type": "stream",
          "name": "stdout",
          "text": [
            "Epoch 4, Loss: 0.002448318184424605, Learning Rate: 0.0022470154513184503\n",
            "Training time:    53.4993 s\n",
            "Testing TransNAS_TSAD on SMAP\n"
          ]
        },
        {
          "output_type": "stream",
          "name": "stderr",
          "text": [
            "\n",
            "[I 2024-02-20 18:17:49,612] Trial 9 finished with values: [0.7696579233532346, 123675.0] and parameters: {'lr': 0.0022470154513184503, 'dropout_rate': 0.12293663840303247, 'dim_feedforward': 50, 'batch': 48, 'encoder_layers': 3, 'decoder_layers': 2, 'activation_function': 'leaky_relu', 'time_warping': False, 'time_masking': True, 'gaussian_noise': 0.00033159075815100594, 'use_linear_embedding': False, 'phase_type': 'iterative', 'self_conditioning': False, 'layer_norm': False, 'positional_encoding_type': 'sinusoidal', 'num_ffn_layers': 2}. \n",
            "/usr/local/lib/python3.10/dist-packages/torch/nn/modules/transformer.py:282: UserWarning: enable_nested_tensor is True, but self.use_nested_tensor is False because encoder_layer was not TransformerEncoderLayer\n",
            "  warnings.warn(f\"enable_nested_tensor is True, but self.use_nested_tensor is False because {why_not_sparsity_fast_path}\")\n"
          ]
        },
        {
          "output_type": "stream",
          "name": "stdout",
          "text": [
            "{'FN': 200,\n",
            " 'FP': 128,\n",
            " 'ROC/AUC': 0.8580595480776722,\n",
            " 'TN': 7629,\n",
            " 'TP': 548,\n",
            " 'f1': 0.7696579233532346,\n",
            " 'precision': 0.8106508755820877,\n",
            " 'recall': 0.7326203110612258,\n",
            " 'threshold': 0.04672998069684399}\n",
            "25\n",
            "Hyperparameters: {'lr': 0.00801780882964574, 'dropout_rate': 0.18710689268239458, 'dim_feedforward': 8, 'batch': 64, 'encoder_layers': 2, 'decoder_layers': 1, 'attention_type': 'scaled_dot_product', 'positional_encoding_type': 'sinusoidal', 'phase_type': 'iterative', 'gaussian_noise_std': 0.0002628887046777304, 'time_warping': True, 'time_masking': True, 'self_conditioning': True, 'layer_norm': True, 'activation_function': 'tanh', 'use_linear_embedding': False, 'nhead': 25, 'num_ffn_layers': 1}\n",
            "Creating new model: TransNAS_TSAD\n",
            "Training TransNAS_TSAD on SMAP\n"
          ]
        },
        {
          "output_type": "stream",
          "name": "stderr",
          "text": [
            " 20%|██        | 1/5 [00:05<00:22,  5.52s/it]"
          ]
        },
        {
          "output_type": "stream",
          "name": "stdout",
          "text": [
            "Epoch 0, Loss: 0.07028924223711776, Learning Rate: 0.00801780882964574\n"
          ]
        },
        {
          "output_type": "stream",
          "name": "stderr",
          "text": [
            "\r 40%|████      | 2/5 [00:11<00:17,  5.77s/it]"
          ]
        },
        {
          "output_type": "stream",
          "name": "stdout",
          "text": [
            "Epoch 1, Loss: 0.0036895554188649555, Learning Rate: 0.00801780882964574\n"
          ]
        },
        {
          "output_type": "stream",
          "name": "stderr",
          "text": [
            "\r 60%|██████    | 3/5 [00:16<00:11,  5.62s/it]"
          ]
        },
        {
          "output_type": "stream",
          "name": "stdout",
          "text": [
            "Epoch 2, Loss: 0.002215298862302651, Learning Rate: 0.00801780882964574\n"
          ]
        },
        {
          "output_type": "stream",
          "name": "stderr",
          "text": [
            "\r 80%|████████  | 4/5 [00:22<00:05,  5.69s/it]"
          ]
        },
        {
          "output_type": "stream",
          "name": "stdout",
          "text": [
            "Epoch 3, Loss: 0.0016965789024108396, Learning Rate: 0.00801780882964574\n"
          ]
        },
        {
          "output_type": "stream",
          "name": "stderr",
          "text": [
            "100%|██████████| 5/5 [00:28<00:00,  5.64s/it]"
          ]
        },
        {
          "output_type": "stream",
          "name": "stdout",
          "text": [
            "Epoch 4, Loss: 0.0014725095143683592, Learning Rate: 0.00801780882964574\n",
            "Training time:    28.1892 s\n",
            "Testing TransNAS_TSAD on SMAP\n"
          ]
        },
        {
          "output_type": "stream",
          "name": "stderr",
          "text": [
            "\n",
            "[I 2024-02-20 18:18:29,582] Trial 10 finished with values: [0.526491105716474, 44749.0] and parameters: {'lr': 0.00801780882964574, 'dropout_rate': 0.18710689268239458, 'dim_feedforward': 8, 'batch': 64, 'encoder_layers': 2, 'decoder_layers': 1, 'activation_function': 'tanh', 'time_warping': True, 'time_masking': True, 'gaussian_noise': 0.0002628887046777304, 'use_linear_embedding': False, 'phase_type': 'iterative', 'self_conditioning': True, 'layer_norm': True, 'positional_encoding_type': 'sinusoidal', 'num_ffn_layers': 1}. \n",
            "/usr/local/lib/python3.10/dist-packages/torch/nn/modules/transformer.py:282: UserWarning: enable_nested_tensor is True, but self.use_nested_tensor is False because encoder_layer was not TransformerEncoderLayer\n",
            "  warnings.warn(f\"enable_nested_tensor is True, but self.use_nested_tensor is False because {why_not_sparsity_fast_path}\")\n"
          ]
        },
        {
          "output_type": "stream",
          "name": "stdout",
          "text": [
            "{'FN': 440,\n",
            " 'FP': 114,\n",
            " 'ROC/AUC': 0.6985341513168372,\n",
            " 'TN': 7643,\n",
            " 'TP': 308,\n",
            " 'f1': 0.526491105716474,\n",
            " 'precision': 0.7298578026100048,\n",
            " 'recall': 0.41176470037747726,\n",
            " 'threshold': 0.011437980598628739}\n",
            "25\n",
            "Hyperparameters: {'lr': 0.00022885177677631517, 'dropout_rate': 0.14085192885479747, 'dim_feedforward': 66, 'batch': 16, 'encoder_layers': 1, 'decoder_layers': 2, 'attention_type': 'scaled_dot_product', 'positional_encoding_type': 'fourier', 'phase_type': 'iterative', 'gaussian_noise_std': 0.0004199473215621927, 'time_warping': True, 'time_masking': False, 'self_conditioning': False, 'layer_norm': False, 'activation_function': 'relu', 'use_linear_embedding': False, 'nhead': 25, 'num_ffn_layers': 1}\n",
            "Creating new model: TransNAS_TSAD\n",
            "Training TransNAS_TSAD on SMAP\n"
          ]
        },
        {
          "output_type": "stream",
          "name": "stderr",
          "text": [
            " 20%|██        | 1/5 [00:11<00:46, 11.62s/it]"
          ]
        },
        {
          "output_type": "stream",
          "name": "stdout",
          "text": [
            "Epoch 0, Loss: 0.028574172367191203, Learning Rate: 0.00022885177677631517\n"
          ]
        },
        {
          "output_type": "stream",
          "name": "stderr",
          "text": [
            "\r 40%|████      | 2/5 [00:23<00:34, 11.49s/it]"
          ]
        },
        {
          "output_type": "stream",
          "name": "stdout",
          "text": [
            "Epoch 1, Loss: 0.009781477239109838, Learning Rate: 0.00022885177677631517\n"
          ]
        },
        {
          "output_type": "stream",
          "name": "stderr",
          "text": [
            "\r 60%|██████    | 3/5 [00:34<00:22, 11.47s/it]"
          ]
        },
        {
          "output_type": "stream",
          "name": "stdout",
          "text": [
            "Epoch 2, Loss: 0.006013907634687375, Learning Rate: 0.00022885177677631517\n"
          ]
        },
        {
          "output_type": "stream",
          "name": "stderr",
          "text": [
            "\r 80%|████████  | 4/5 [00:46<00:11, 11.55s/it]"
          ]
        },
        {
          "output_type": "stream",
          "name": "stdout",
          "text": [
            "Epoch 3, Loss: 0.0042900930017978215, Learning Rate: 0.00022885177677631517\n"
          ]
        },
        {
          "output_type": "stream",
          "name": "stderr",
          "text": [
            "100%|██████████| 5/5 [00:57<00:00, 11.47s/it]"
          ]
        },
        {
          "output_type": "stream",
          "name": "stdout",
          "text": [
            "Epoch 4, Loss: 0.0025813649056829055, Learning Rate: 0.00022885177677631517\n",
            "Training time:    57.3325 s\n",
            "Testing TransNAS_TSAD on SMAP\n"
          ]
        },
        {
          "output_type": "stream",
          "name": "stderr",
          "text": [
            "\n",
            "[I 2024-02-20 18:19:34,744] Trial 11 finished with values: [0.7658929730894208, 72423.0] and parameters: {'lr': 0.00022885177677631517, 'dropout_rate': 0.14085192885479747, 'dim_feedforward': 66, 'batch': 16, 'encoder_layers': 1, 'decoder_layers': 2, 'activation_function': 'relu', 'time_warping': True, 'time_masking': False, 'gaussian_noise': 0.0004199473215621927, 'use_linear_embedding': False, 'phase_type': 'iterative', 'self_conditioning': False, 'layer_norm': False, 'positional_encoding_type': 'fourier', 'num_ffn_layers': 1}. \n"
          ]
        },
        {
          "output_type": "stream",
          "name": "stdout",
          "text": [
            "{'FN': 200,\n",
            " 'FP': 135,\n",
            " 'ROC/AUC': 0.857608342714774,\n",
            " 'TN': 7622,\n",
            " 'TP': 548,\n",
            " 'f1': 0.7658929730894208,\n",
            " 'precision': 0.8023425944020118,\n",
            " 'recall': 0.7326203110612258,\n",
            " 'threshold': 0.05254960082605896}\n",
            "25\n",
            "Hyperparameters: {'lr': 0.005600087936329304, 'dropout_rate': 0.45694807663842274, 'dim_feedforward': 74, 'batch': 16, 'encoder_layers': 1, 'decoder_layers': 3, 'attention_type': 'scaled_dot_product', 'positional_encoding_type': 'sinusoidal', 'phase_type': '2phase', 'gaussian_noise_std': 0.0002950406249822114, 'time_warping': True, 'time_masking': True, 'self_conditioning': True, 'layer_norm': False, 'activation_function': 'tanh', 'use_linear_embedding': False, 'nhead': 25, 'num_ffn_layers': 1}\n"
          ]
        },
        {
          "output_type": "stream",
          "name": "stderr",
          "text": [
            "/usr/local/lib/python3.10/dist-packages/torch/nn/modules/transformer.py:282: UserWarning: enable_nested_tensor is True, but self.use_nested_tensor is False because encoder_layer was not TransformerEncoderLayer\n",
            "  warnings.warn(f\"enable_nested_tensor is True, but self.use_nested_tensor is False because {why_not_sparsity_fast_path}\")\n"
          ]
        },
        {
          "output_type": "stream",
          "name": "stdout",
          "text": [
            "Creating new model: TransNAS_TSAD\n",
            "Training TransNAS_TSAD on SMAP\n"
          ]
        },
        {
          "output_type": "stream",
          "name": "stderr",
          "text": [
            " 20%|██        | 1/5 [00:05<00:22,  5.69s/it]"
          ]
        },
        {
          "output_type": "stream",
          "name": "stdout",
          "text": [
            "Epoch 0, Loss: 0.02999455564915863, Learning Rate: 0.005600087936329304\n"
          ]
        },
        {
          "output_type": "stream",
          "name": "stderr",
          "text": [
            "\r 40%|████      | 2/5 [00:11<00:16,  5.51s/it]"
          ]
        },
        {
          "output_type": "stream",
          "name": "stdout",
          "text": [
            "Epoch 1, Loss: 0.14262991558804836, Learning Rate: 0.005600087936329304\n"
          ]
        },
        {
          "output_type": "stream",
          "name": "stderr",
          "text": [
            "\r 60%|██████    | 3/5 [00:16<00:11,  5.64s/it]"
          ]
        },
        {
          "output_type": "stream",
          "name": "stdout",
          "text": [
            "Epoch 2, Loss: 0.9517042230796453, Learning Rate: 0.005600087936329304\n"
          ]
        },
        {
          "output_type": "stream",
          "name": "stderr",
          "text": [
            "\r 80%|████████  | 4/5 [00:22<00:05,  5.54s/it]"
          ]
        },
        {
          "output_type": "stream",
          "name": "stdout",
          "text": [
            "Epoch 3, Loss: 1.0365106168404798, Learning Rate: 0.005600087936329304\n"
          ]
        },
        {
          "output_type": "stream",
          "name": "stderr",
          "text": [
            "100%|██████████| 5/5 [00:27<00:00,  5.59s/it]"
          ]
        },
        {
          "output_type": "stream",
          "name": "stdout",
          "text": [
            "Epoch 4, Loss: 1.0216964246955995, Learning Rate: 0.005600087936329304\n",
            "Training time:    27.9510 s\n",
            "Testing TransNAS_TSAD on SMAP\n"
          ]
        },
        {
          "output_type": "stream",
          "name": "stderr",
          "text": [
            "\n",
            "[W 2024-02-20 18:20:44,817] Trial 12 failed with parameters: {'lr': 0.005600087936329304, 'dropout_rate': 0.45694807663842274, 'dim_feedforward': 74, 'batch': 16, 'encoder_layers': 1, 'decoder_layers': 3, 'activation_function': 'tanh', 'time_warping': True, 'time_masking': True, 'gaussian_noise': 0.0002950406249822114, 'use_linear_embedding': False, 'phase_type': '2phase', 'self_conditioning': True, 'layer_norm': False, 'positional_encoding_type': 'sinusoidal', 'num_ffn_layers': 1} because of the following error: The value {'f1': 0.0, 'num_params': inf} could not be cast to float.\n",
            "[W 2024-02-20 18:20:44,818] Trial 12 failed with value {'f1': 0.0, 'num_params': inf}.\n",
            "/usr/local/lib/python3.10/dist-packages/torch/nn/modules/transformer.py:282: UserWarning: enable_nested_tensor is True, but self.use_nested_tensor is False because encoder_layer was not TransformerEncoderLayer\n",
            "  warnings.warn(f\"enable_nested_tensor is True, but self.use_nested_tensor is False because {why_not_sparsity_fast_path}\")\n"
          ]
        },
        {
          "output_type": "stream",
          "name": "stdout",
          "text": [
            "Initialization timed out after 40 seconds. Last exception message: zero-size array to reduction operation minimum which has no identity\n",
            "An exception occurred: unsupported operand type(s) for +: 'NoneType' and 'NoneType'\n",
            "25\n",
            "Hyperparameters: {'lr': 0.002925874909633255, 'dropout_rate': 0.17025445668329126, 'dim_feedforward': 47, 'batch': 64, 'encoder_layers': 3, 'decoder_layers': 2, 'attention_type': 'scaled_dot_product', 'positional_encoding_type': 'sinusoidal', 'phase_type': '2phase', 'gaussian_noise_std': 0.00036416912526453867, 'time_warping': False, 'time_masking': True, 'self_conditioning': True, 'layer_norm': False, 'activation_function': 'relu', 'use_linear_embedding': False, 'nhead': 25, 'num_ffn_layers': 3}\n",
            "Creating new model: TransNAS_TSAD\n",
            "Training TransNAS_TSAD on SMAP\n"
          ]
        },
        {
          "output_type": "stream",
          "name": "stderr",
          "text": [
            " 20%|██        | 1/5 [00:04<00:16,  4.05s/it]"
          ]
        },
        {
          "output_type": "stream",
          "name": "stdout",
          "text": [
            "Epoch 0, Loss: 0.053511433749588534, Learning Rate: 0.002925874909633255\n"
          ]
        },
        {
          "output_type": "stream",
          "name": "stderr",
          "text": [
            "\r 40%|████      | 2/5 [00:07<00:11,  3.83s/it]"
          ]
        },
        {
          "output_type": "stream",
          "name": "stdout",
          "text": [
            "Epoch 1, Loss: 0.021711036512035542, Learning Rate: 0.002925874909633255\n"
          ]
        },
        {
          "output_type": "stream",
          "name": "stderr",
          "text": [
            "\r 60%|██████    | 3/5 [00:11<00:07,  3.76s/it]"
          ]
        },
        {
          "output_type": "stream",
          "name": "stdout",
          "text": [
            "Epoch 2, Loss: 0.020065103371567524, Learning Rate: 0.002925874909633255\n"
          ]
        },
        {
          "output_type": "stream",
          "name": "stderr",
          "text": [
            "\r 80%|████████  | 4/5 [00:15<00:03,  3.85s/it]"
          ]
        },
        {
          "output_type": "stream",
          "name": "stdout",
          "text": [
            "Epoch 3, Loss: 0.02062170699917291, Learning Rate: 0.002925874909633255\n"
          ]
        },
        {
          "output_type": "stream",
          "name": "stderr",
          "text": [
            "100%|██████████| 5/5 [00:19<00:00,  3.84s/it]"
          ]
        },
        {
          "output_type": "stream",
          "name": "stdout",
          "text": [
            "Epoch 4, Loss: 0.021090557674470323, Learning Rate: 0.002925874909633255\n",
            "Training time:    19.1895 s\n",
            "Testing TransNAS_TSAD on SMAP\n"
          ]
        },
        {
          "output_type": "stream",
          "name": "stderr",
          "text": [
            "\n",
            "[W 2024-02-20 18:21:48,039] Trial 13 failed with parameters: {'lr': 0.002925874909633255, 'dropout_rate': 0.17025445668329126, 'dim_feedforward': 47, 'batch': 64, 'encoder_layers': 3, 'decoder_layers': 2, 'activation_function': 'relu', 'time_warping': False, 'time_masking': True, 'gaussian_noise': 0.00036416912526453867, 'use_linear_embedding': False, 'phase_type': '2phase', 'self_conditioning': True, 'layer_norm': False, 'positional_encoding_type': 'sinusoidal', 'num_ffn_layers': 3} because of the following error: The value {'f1': 0.0, 'num_params': inf} could not be cast to float.\n",
            "[W 2024-02-20 18:21:48,040] Trial 13 failed with value {'f1': 0.0, 'num_params': inf}.\n"
          ]
        },
        {
          "output_type": "stream",
          "name": "stdout",
          "text": [
            "Initialization timed out after 40 seconds. Last exception message: zero-size array to reduction operation minimum which has no identity\n",
            "An exception occurred: unsupported operand type(s) for +: 'NoneType' and 'NoneType'\n",
            "25\n",
            "Hyperparameters: {'lr': 0.008044460300715693, 'dropout_rate': 0.14504883403304214, 'dim_feedforward': 15, 'batch': 128, 'encoder_layers': 1, 'decoder_layers': 1, 'attention_type': 'scaled_dot_product', 'positional_encoding_type': 'fourier', 'phase_type': 'iterative', 'gaussian_noise_std': 0.0006297825102836805, 'time_warping': True, 'time_masking': False, 'self_conditioning': False, 'layer_norm': False, 'activation_function': 'sigmoid', 'use_linear_embedding': False, 'nhead': 25, 'num_ffn_layers': 1}\n"
          ]
        },
        {
          "output_type": "stream",
          "name": "stderr",
          "text": [
            "/usr/local/lib/python3.10/dist-packages/torch/nn/modules/transformer.py:282: UserWarning: enable_nested_tensor is True, but self.use_nested_tensor is False because encoder_layer was not TransformerEncoderLayer\n",
            "  warnings.warn(f\"enable_nested_tensor is True, but self.use_nested_tensor is False because {why_not_sparsity_fast_path}\")\n"
          ]
        },
        {
          "output_type": "stream",
          "name": "stdout",
          "text": [
            "Creating new model: TransNAS_TSAD\n",
            "Training TransNAS_TSAD on SMAP\n"
          ]
        },
        {
          "output_type": "stream",
          "name": "stderr",
          "text": [
            " 20%|██        | 1/5 [00:03<00:12,  3.00s/it]"
          ]
        },
        {
          "output_type": "stream",
          "name": "stdout",
          "text": [
            "Epoch 0, Loss: 0.037644348904757916, Learning Rate: 0.008044460300715693\n"
          ]
        },
        {
          "output_type": "stream",
          "name": "stderr",
          "text": [
            "\r 40%|████      | 2/5 [00:06<00:09,  3.06s/it]"
          ]
        },
        {
          "output_type": "stream",
          "name": "stdout",
          "text": [
            "Epoch 1, Loss: 0.011268445961153593, Learning Rate: 0.008044460300715693\n"
          ]
        },
        {
          "output_type": "stream",
          "name": "stderr",
          "text": [
            "\r 60%|██████    | 3/5 [00:09<00:06,  3.06s/it]"
          ]
        },
        {
          "output_type": "stream",
          "name": "stdout",
          "text": [
            "Epoch 2, Loss: 0.010048938384901037, Learning Rate: 0.008044460300715693\n"
          ]
        },
        {
          "output_type": "stream",
          "name": "stderr",
          "text": [
            "\r 80%|████████  | 4/5 [00:12<00:03,  3.20s/it]"
          ]
        },
        {
          "output_type": "stream",
          "name": "stdout",
          "text": [
            "Epoch 3, Loss: 0.009396416516429463, Learning Rate: 0.008044460300715693\n"
          ]
        },
        {
          "output_type": "stream",
          "name": "stderr",
          "text": [
            "100%|██████████| 5/5 [00:15<00:00,  3.13s/it]"
          ]
        },
        {
          "output_type": "stream",
          "name": "stdout",
          "text": [
            "Epoch 4, Loss: 0.009195929014797348, Learning Rate: 0.008044460300715693\n",
            "Training time:    15.6441 s\n",
            "Testing TransNAS_TSAD on SMAP\n"
          ]
        },
        {
          "output_type": "stream",
          "name": "stderr",
          "text": [
            "\n",
            "[I 2024-02-20 18:22:10,404] Trial 14 finished with values: [0.0, 35005.0] and parameters: {'lr': 0.008044460300715693, 'dropout_rate': 0.14504883403304214, 'dim_feedforward': 15, 'batch': 128, 'encoder_layers': 1, 'decoder_layers': 1, 'activation_function': 'sigmoid', 'time_warping': True, 'time_masking': False, 'gaussian_noise': 0.0006297825102836805, 'use_linear_embedding': False, 'phase_type': 'iterative', 'self_conditioning': False, 'layer_norm': False, 'positional_encoding_type': 'fourier', 'num_ffn_layers': 1}. \n",
            "/usr/local/lib/python3.10/dist-packages/torch/nn/modules/transformer.py:282: UserWarning: enable_nested_tensor is True, but self.use_nested_tensor is False because encoder_layer was not TransformerEncoderLayer\n",
            "  warnings.warn(f\"enable_nested_tensor is True, but self.use_nested_tensor is False because {why_not_sparsity_fast_path}\")\n"
          ]
        },
        {
          "output_type": "stream",
          "name": "stdout",
          "text": [
            "{'FN': 748,\n",
            " 'FP': 0,\n",
            " 'ROC/AUC': 0.5,\n",
            " 'TN': 7757,\n",
            " 'TP': 0,\n",
            " 'f1': 0.0,\n",
            " 'precision': 0.0,\n",
            " 'recall': 0.0,\n",
            " 'threshold': 3.996544863577046e+22}\n",
            "25\n",
            "Hyperparameters: {'lr': 0.0008433681060823115, 'dropout_rate': 0.18149302634500797, 'dim_feedforward': 21, 'batch': 96, 'encoder_layers': 3, 'decoder_layers': 2, 'attention_type': 'scaled_dot_product', 'positional_encoding_type': 'sinusoidal', 'phase_type': 'iterative', 'gaussian_noise_std': 0.012962130329443215, 'time_warping': False, 'time_masking': True, 'self_conditioning': False, 'layer_norm': True, 'activation_function': 'sigmoid', 'use_linear_embedding': False, 'nhead': 25, 'num_ffn_layers': 1}\n",
            "Creating new model: TransNAS_TSAD\n",
            "Training TransNAS_TSAD on SMAP\n"
          ]
        },
        {
          "output_type": "stream",
          "name": "stderr",
          "text": [
            " 20%|██        | 1/5 [00:06<00:27,  6.87s/it]"
          ]
        },
        {
          "output_type": "stream",
          "name": "stdout",
          "text": [
            "Epoch 0, Loss: 0.06808392070544703, Learning Rate: 0.0008433681060823115\n"
          ]
        },
        {
          "output_type": "stream",
          "name": "stderr",
          "text": [
            "\r 40%|████      | 2/5 [00:13<00:20,  6.86s/it]"
          ]
        },
        {
          "output_type": "stream",
          "name": "stdout",
          "text": [
            "Epoch 1, Loss: 0.022863001681984605, Learning Rate: 0.0008433681060823115\n"
          ]
        },
        {
          "output_type": "stream",
          "name": "stderr",
          "text": [
            "\r 60%|██████    | 3/5 [00:20<00:13,  6.78s/it]"
          ]
        },
        {
          "output_type": "stream",
          "name": "stdout",
          "text": [
            "Epoch 2, Loss: 0.0200212199077529, Learning Rate: 0.0008433681060823115\n"
          ]
        },
        {
          "output_type": "stream",
          "name": "stderr",
          "text": [
            "\r 80%|████████  | 4/5 [00:27<00:06,  6.87s/it]"
          ]
        },
        {
          "output_type": "stream",
          "name": "stdout",
          "text": [
            "Epoch 3, Loss: 0.01676262531968026, Learning Rate: 0.0008433681060823115\n"
          ]
        },
        {
          "output_type": "stream",
          "name": "stderr",
          "text": [
            "100%|██████████| 5/5 [00:34<00:00,  6.83s/it]"
          ]
        },
        {
          "output_type": "stream",
          "name": "stdout",
          "text": [
            "Epoch 4, Loss: 0.014370347336606302, Learning Rate: 0.0008433681060823115\n",
            "Training time:    34.1649 s\n",
            "Testing TransNAS_TSAD on SMAP\n"
          ]
        },
        {
          "output_type": "stream",
          "name": "stderr",
          "text": [
            "\n",
            "[I 2024-02-20 18:23:02,451] Trial 15 finished with values: [0.9385144550798125, 83630.0] and parameters: {'lr': 0.0008433681060823115, 'dropout_rate': 0.18149302634500797, 'dim_feedforward': 21, 'batch': 96, 'encoder_layers': 3, 'decoder_layers': 2, 'activation_function': 'sigmoid', 'time_warping': False, 'time_masking': True, 'gaussian_noise': 0.012962130329443215, 'use_linear_embedding': False, 'phase_type': 'iterative', 'self_conditioning': False, 'layer_norm': True, 'positional_encoding_type': 'sinusoidal', 'num_ffn_layers': 1}. \n"
          ]
        },
        {
          "output_type": "stream",
          "name": "stdout",
          "text": [
            "{'FN': 0,\n",
            " 'FP': 98,\n",
            " 'ROC/AUC': 0.9936831249194277,\n",
            " 'TN': 7659,\n",
            " 'TP': 748,\n",
            " 'f1': 0.9385144550798125,\n",
            " 'precision': 0.8841607460501094,\n",
            " 'recall': 0.9999999866310163,\n",
            " 'threshold': 0.17258231968888957}\n",
            "25\n",
            "Hyperparameters: {'lr': 0.0064635090908406155, 'dropout_rate': 0.49229946827380533, 'dim_feedforward': 35, 'batch': 96, 'encoder_layers': 2, 'decoder_layers': 3, 'attention_type': 'scaled_dot_product', 'positional_encoding_type': 'sinusoidal', 'phase_type': '2phase', 'gaussian_noise_std': 0.03956975643086355, 'time_warping': True, 'time_masking': False, 'self_conditioning': True, 'layer_norm': True, 'activation_function': 'sigmoid', 'use_linear_embedding': False, 'nhead': 25, 'num_ffn_layers': 3}\n",
            "Creating new model: TransNAS_TSAD\n"
          ]
        },
        {
          "output_type": "stream",
          "name": "stderr",
          "text": [
            "/usr/local/lib/python3.10/dist-packages/torch/nn/modules/transformer.py:282: UserWarning: enable_nested_tensor is True, but self.use_nested_tensor is False because encoder_layer was not TransformerEncoderLayer\n",
            "  warnings.warn(f\"enable_nested_tensor is True, but self.use_nested_tensor is False because {why_not_sparsity_fast_path}\")\n"
          ]
        },
        {
          "output_type": "stream",
          "name": "stdout",
          "text": [
            "Training TransNAS_TSAD on SMAP\n"
          ]
        },
        {
          "output_type": "stream",
          "name": "stderr",
          "text": [
            " 20%|██        | 1/5 [00:02<00:11,  2.76s/it]"
          ]
        },
        {
          "output_type": "stream",
          "name": "stdout",
          "text": [
            "Epoch 0, Loss: 0.0806034202449219, Learning Rate: 0.0064635090908406155\n"
          ]
        },
        {
          "output_type": "stream",
          "name": "stderr",
          "text": [
            "\r 40%|████      | 2/5 [00:05<00:08,  2.78s/it]"
          ]
        },
        {
          "output_type": "stream",
          "name": "stdout",
          "text": [
            "Epoch 1, Loss: 0.025770610681001956, Learning Rate: 0.0064635090908406155\n"
          ]
        },
        {
          "output_type": "stream",
          "name": "stderr",
          "text": [
            "\r 60%|██████    | 3/5 [00:08<00:05,  2.94s/it]"
          ]
        },
        {
          "output_type": "stream",
          "name": "stdout",
          "text": [
            "Epoch 2, Loss: 0.02504832889899356, Learning Rate: 0.0064635090908406155\n"
          ]
        },
        {
          "output_type": "stream",
          "name": "stderr",
          "text": [
            "\r 80%|████████  | 4/5 [00:12<00:03,  3.13s/it]"
          ]
        },
        {
          "output_type": "stream",
          "name": "stdout",
          "text": [
            "Epoch 3, Loss: 0.024984658188231344, Learning Rate: 0.0064635090908406155\n"
          ]
        },
        {
          "output_type": "stream",
          "name": "stderr",
          "text": [
            "100%|██████████| 5/5 [00:15<00:00,  3.08s/it]"
          ]
        },
        {
          "output_type": "stream",
          "name": "stdout",
          "text": [
            "Epoch 4, Loss: 0.024836610178156495, Learning Rate: 0.0064635090908406155\n",
            "Training time:    15.4059 s\n",
            "Testing TransNAS_TSAD on SMAP\n"
          ]
        },
        {
          "output_type": "stream",
          "name": "stderr",
          "text": [
            "\n",
            "[W 2024-02-20 18:24:00,619] Trial 16 failed with parameters: {'lr': 0.0064635090908406155, 'dropout_rate': 0.49229946827380533, 'dim_feedforward': 35, 'batch': 96, 'encoder_layers': 2, 'decoder_layers': 3, 'activation_function': 'sigmoid', 'time_warping': True, 'time_masking': False, 'gaussian_noise': 0.03956975643086355, 'use_linear_embedding': False, 'phase_type': '2phase', 'self_conditioning': True, 'layer_norm': True, 'positional_encoding_type': 'sinusoidal', 'num_ffn_layers': 3} because of the following error: The value {'f1': 0.0, 'num_params': inf} could not be cast to float.\n",
            "[W 2024-02-20 18:24:00,621] Trial 16 failed with value {'f1': 0.0, 'num_params': inf}.\n",
            "/usr/local/lib/python3.10/dist-packages/torch/nn/modules/transformer.py:282: UserWarning: enable_nested_tensor is True, but self.use_nested_tensor is False because encoder_layer was not TransformerEncoderLayer\n",
            "  warnings.warn(f\"enable_nested_tensor is True, but self.use_nested_tensor is False because {why_not_sparsity_fast_path}\")\n"
          ]
        },
        {
          "output_type": "stream",
          "name": "stdout",
          "text": [
            "Initialization timed out after 40 seconds. Last exception message: zero-size array to reduction operation minimum which has no identity\n",
            "An exception occurred: unsupported operand type(s) for +: 'NoneType' and 'NoneType'\n",
            "25\n",
            "Hyperparameters: {'lr': 0.006547646503323721, 'dropout_rate': 0.3451687592003001, 'dim_feedforward': 30, 'batch': 96, 'encoder_layers': 1, 'decoder_layers': 3, 'attention_type': 'scaled_dot_product', 'positional_encoding_type': 'fourier', 'phase_type': 'iterative', 'gaussian_noise_std': 0.003237509081334871, 'time_warping': False, 'time_masking': False, 'self_conditioning': False, 'layer_norm': False, 'activation_function': 'leaky_relu', 'use_linear_embedding': False, 'nhead': 25, 'num_ffn_layers': 1}\n",
            "Creating new model: TransNAS_TSAD\n",
            "Training TransNAS_TSAD on SMAP\n"
          ]
        },
        {
          "output_type": "stream",
          "name": "stderr",
          "text": [
            " 20%|██        | 1/5 [00:04<00:19,  5.00s/it]"
          ]
        },
        {
          "output_type": "stream",
          "name": "stdout",
          "text": [
            "Epoch 0, Loss: 0.04383302511006924, Learning Rate: 0.006547646503323721\n"
          ]
        },
        {
          "output_type": "stream",
          "name": "stderr",
          "text": [
            "\r 40%|████      | 2/5 [00:09<00:14,  4.92s/it]"
          ]
        },
        {
          "output_type": "stream",
          "name": "stdout",
          "text": [
            "Epoch 1, Loss: 0.027472867156884618, Learning Rate: 0.006547646503323721\n"
          ]
        },
        {
          "output_type": "stream",
          "name": "stderr",
          "text": [
            "\r 60%|██████    | 3/5 [00:14<00:09,  4.96s/it]"
          ]
        },
        {
          "output_type": "stream",
          "name": "stdout",
          "text": [
            "Epoch 2, Loss: 0.027214369217345203, Learning Rate: 0.006547646503323721\n"
          ]
        },
        {
          "output_type": "stream",
          "name": "stderr",
          "text": [
            "\r 80%|████████  | 4/5 [00:19<00:04,  4.95s/it]"
          ]
        },
        {
          "output_type": "stream",
          "name": "stdout",
          "text": [
            "Epoch 3, Loss: 0.02540494107503847, Learning Rate: 0.006547646503323721\n"
          ]
        },
        {
          "output_type": "stream",
          "name": "stderr",
          "text": [
            "100%|██████████| 5/5 [00:24<00:00,  4.95s/it]"
          ]
        },
        {
          "output_type": "stream",
          "name": "stdout",
          "text": [
            "Epoch 4, Loss: 0.025973444066292834, Learning Rate: 0.006547646503323721\n",
            "Training time:    24.7355 s\n",
            "Testing TransNAS_TSAD on SMAP\n"
          ]
        },
        {
          "output_type": "stream",
          "name": "stderr",
          "text": [
            "\n",
            "[I 2024-02-20 18:24:33,305] Trial 17 finished with values: [0.7465049574349238, 84995.0] and parameters: {'lr': 0.006547646503323721, 'dropout_rate': 0.3451687592003001, 'dim_feedforward': 30, 'batch': 96, 'encoder_layers': 1, 'decoder_layers': 3, 'activation_function': 'leaky_relu', 'time_warping': False, 'time_masking': False, 'gaussian_noise': 0.003237509081334871, 'use_linear_embedding': False, 'phase_type': 'iterative', 'self_conditioning': False, 'layer_norm': False, 'positional_encoding_type': 'fourier', 'num_ffn_layers': 1}. \n"
          ]
        },
        {
          "output_type": "stream",
          "name": "stdout",
          "text": [
            "{'FN': 240,\n",
            " 'FP': 105,\n",
            " 'ROC/AUC': 0.8328041120698986,\n",
            " 'TN': 7652,\n",
            " 'TP': 508,\n",
            " 'f1': 0.7465049574349238,\n",
            " 'precision': 0.8287112425985116,\n",
            " 'recall': 0.6791443759472677,\n",
            " 'threshold': 0.2565176847843689}\n",
            "25\n",
            "Hyperparameters: {'lr': 0.0024487269996679214, 'dropout_rate': 0.24121966200349243, 'dim_feedforward': 10, 'batch': 16, 'encoder_layers': 3, 'decoder_layers': 1, 'attention_type': 'scaled_dot_product', 'positional_encoding_type': 'sinusoidal', 'phase_type': '2phase', 'gaussian_noise_std': 0.000984236352964094, 'time_warping': False, 'time_masking': True, 'self_conditioning': False, 'layer_norm': False, 'activation_function': 'leaky_relu', 'use_linear_embedding': False, 'nhead': 25, 'num_ffn_layers': 3}\n",
            "Creating new model: TransNAS_TSAD\n"
          ]
        },
        {
          "output_type": "stream",
          "name": "stderr",
          "text": [
            "/usr/local/lib/python3.10/dist-packages/torch/nn/modules/transformer.py:282: UserWarning: enable_nested_tensor is True, but self.use_nested_tensor is False because encoder_layer was not TransformerEncoderLayer\n",
            "  warnings.warn(f\"enable_nested_tensor is True, but self.use_nested_tensor is False because {why_not_sparsity_fast_path}\")\n"
          ]
        },
        {
          "output_type": "stream",
          "name": "stdout",
          "text": [
            "Training TransNAS_TSAD on SMAP\n"
          ]
        },
        {
          "output_type": "stream",
          "name": "stderr",
          "text": [
            " 20%|██        | 1/5 [00:06<00:26,  6.57s/it]"
          ]
        },
        {
          "output_type": "stream",
          "name": "stdout",
          "text": [
            "Epoch 0, Loss: 0.01281102010435415, Learning Rate: 0.0024487269996679214\n"
          ]
        },
        {
          "output_type": "stream",
          "name": "stderr",
          "text": [
            "\r 40%|████      | 2/5 [00:12<00:19,  6.35s/it]"
          ]
        },
        {
          "output_type": "stream",
          "name": "stdout",
          "text": [
            "Epoch 1, Loss: 0.004422557693099094, Learning Rate: 0.0024487269996679214\n"
          ]
        },
        {
          "output_type": "stream",
          "name": "stderr",
          "text": [
            "\r 60%|██████    | 3/5 [00:19<00:12,  6.36s/it]"
          ]
        },
        {
          "output_type": "stream",
          "name": "stdout",
          "text": [
            "Epoch 2, Loss: 0.0021706282791335036, Learning Rate: 0.0024487269996679214\n"
          ]
        },
        {
          "output_type": "stream",
          "name": "stderr",
          "text": [
            "\r 80%|████████  | 4/5 [00:25<00:06,  6.21s/it]"
          ]
        },
        {
          "output_type": "stream",
          "name": "stdout",
          "text": [
            "Epoch 3, Loss: 0.0018137780299893177, Learning Rate: 0.0024487269996679214\n"
          ]
        },
        {
          "output_type": "stream",
          "name": "stderr",
          "text": [
            "100%|██████████| 5/5 [00:31<00:00,  6.31s/it]"
          ]
        },
        {
          "output_type": "stream",
          "name": "stdout",
          "text": [
            "Epoch 4, Loss: 0.0013708884772477494, Learning Rate: 0.0024487269996679214\n",
            "Training time:    31.5490 s\n",
            "Testing TransNAS_TSAD on SMAP\n"
          ]
        },
        {
          "output_type": "stream",
          "name": "stderr",
          "text": [
            "\n",
            "[I 2024-02-20 18:25:08,683] Trial 18 finished with values: [0.5456111077289126, 88575.0] and parameters: {'lr': 0.0024487269996679214, 'dropout_rate': 0.24121966200349243, 'dim_feedforward': 10, 'batch': 16, 'encoder_layers': 3, 'decoder_layers': 1, 'activation_function': 'leaky_relu', 'time_warping': False, 'time_masking': True, 'gaussian_noise': 0.000984236352964094, 'use_linear_embedding': False, 'phase_type': '2phase', 'self_conditioning': False, 'layer_norm': False, 'positional_encoding_type': 'sinusoidal', 'num_ffn_layers': 3}. \n",
            "/usr/local/lib/python3.10/dist-packages/torch/nn/modules/transformer.py:282: UserWarning: enable_nested_tensor is True, but self.use_nested_tensor is False because encoder_layer was not TransformerEncoderLayer\n",
            "  warnings.warn(f\"enable_nested_tensor is True, but self.use_nested_tensor is False because {why_not_sparsity_fast_path}\")\n"
          ]
        },
        {
          "output_type": "stream",
          "name": "stdout",
          "text": [
            "{'FN': 440,\n",
            " 'FP': 73,\n",
            " 'ROC/AUC': 0.7011769255852398,\n",
            " 'TN': 7684,\n",
            " 'TP': 308,\n",
            " 'f1': 0.5456111077289126,\n",
            " 'precision': 0.808398928913414,\n",
            " 'recall': 0.41176470037747726,\n",
            " 'threshold': 0.011597029260038704}\n",
            "25\n",
            "Hyperparameters: {'lr': 0.0036653417446946258, 'dropout_rate': 0.13420706570622498, 'dim_feedforward': 86, 'batch': 64, 'encoder_layers': 1, 'decoder_layers': 1, 'attention_type': 'scaled_dot_product', 'positional_encoding_type': 'sinusoidal', 'phase_type': 'iterative', 'gaussian_noise_std': 0.09633628426544816, 'time_warping': False, 'time_masking': False, 'self_conditioning': True, 'layer_norm': False, 'activation_function': 'tanh', 'use_linear_embedding': True, 'nhead': 25, 'num_ffn_layers': 2}\n",
            "Creating new model: TransNAS_TSAD\n",
            "Training TransNAS_TSAD on SMAP\n"
          ]
        },
        {
          "output_type": "stream",
          "name": "stderr",
          "text": [
            " 20%|██        | 1/5 [00:05<00:21,  5.31s/it]"
          ]
        },
        {
          "output_type": "stream",
          "name": "stdout",
          "text": [
            "Epoch 0, Loss: 0.012660944993110377, Learning Rate: 0.0036653417446946258\n"
          ]
        },
        {
          "output_type": "stream",
          "name": "stderr",
          "text": [
            "\r 40%|████      | 2/5 [00:10<00:15,  5.10s/it]"
          ]
        },
        {
          "output_type": "stream",
          "name": "stdout",
          "text": [
            "Epoch 1, Loss: 0.002059645449979679, Learning Rate: 0.0036653417446946258\n"
          ]
        },
        {
          "output_type": "stream",
          "name": "stderr",
          "text": [
            "\r 60%|██████    | 3/5 [00:15<00:10,  5.15s/it]"
          ]
        },
        {
          "output_type": "stream",
          "name": "stdout",
          "text": [
            "Epoch 2, Loss: 0.0013559497711506403, Learning Rate: 0.0036653417446946258\n"
          ]
        },
        {
          "output_type": "stream",
          "name": "stderr",
          "text": [
            "\r 80%|████████  | 4/5 [00:20<00:05,  5.17s/it]"
          ]
        },
        {
          "output_type": "stream",
          "name": "stdout",
          "text": [
            "Epoch 3, Loss: 0.0010524635932376662, Learning Rate: 0.0036653417446946258\n"
          ]
        },
        {
          "output_type": "stream",
          "name": "stderr",
          "text": [
            "100%|██████████| 5/5 [00:25<00:00,  5.10s/it]"
          ]
        },
        {
          "output_type": "stream",
          "name": "stdout",
          "text": [
            "Epoch 4, Loss: 0.0008657513347458912, Learning Rate: 0.0036653417446946258\n",
            "Training time:    25.5165 s\n",
            "Testing TransNAS_TSAD on SMAP\n"
          ]
        },
        {
          "output_type": "stream",
          "name": "stderr",
          "text": [
            "\n",
            "[I 2024-02-20 18:25:42,602] Trial 19 finished with values: [0.5120484884646987, 69369.0] and parameters: {'lr': 0.0036653417446946258, 'dropout_rate': 0.13420706570622498, 'dim_feedforward': 86, 'batch': 64, 'encoder_layers': 1, 'decoder_layers': 1, 'activation_function': 'tanh', 'time_warping': False, 'time_masking': False, 'gaussian_noise': 0.09633628426544816, 'use_linear_embedding': True, 'phase_type': 'iterative', 'self_conditioning': True, 'layer_norm': False, 'positional_encoding_type': 'sinusoidal', 'num_ffn_layers': 2}. \n",
            "/usr/local/lib/python3.10/dist-packages/torch/nn/modules/transformer.py:282: UserWarning: enable_nested_tensor is True, but self.use_nested_tensor is False because encoder_layer was not TransformerEncoderLayer\n",
            "  warnings.warn(f\"enable_nested_tensor is True, but self.use_nested_tensor is False because {why_not_sparsity_fast_path}\")\n"
          ]
        },
        {
          "output_type": "stream",
          "name": "stdout",
          "text": [
            "{'FN': 440,\n",
            " 'FP': 147,\n",
            " 'ROC/AUC': 0.6964070403203179,\n",
            " 'TN': 7610,\n",
            " 'TP': 308,\n",
            " 'f1': 0.5120484884646987,\n",
            " 'precision': 0.676923062045647,\n",
            " 'recall': 0.41176470037747726,\n",
            " 'threshold': 0.007739138403158177}\n",
            "25\n",
            "Hyperparameters: {'lr': 0.008831513943540774, 'dropout_rate': 0.47922541531166385, 'dim_feedforward': 24, 'batch': 32, 'encoder_layers': 1, 'decoder_layers': 3, 'attention_type': 'scaled_dot_product', 'positional_encoding_type': 'fourier', 'phase_type': 'iterative', 'gaussian_noise_std': 0.00014619250787515362, 'time_warping': False, 'time_masking': False, 'self_conditioning': True, 'layer_norm': True, 'activation_function': 'tanh', 'use_linear_embedding': False, 'nhead': 25, 'num_ffn_layers': 2}\n",
            "Creating new model: TransNAS_TSAD\n",
            "Training TransNAS_TSAD on SMAP\n"
          ]
        },
        {
          "output_type": "stream",
          "name": "stderr",
          "text": [
            " 20%|██        | 1/5 [00:11<00:46, 11.74s/it]"
          ]
        },
        {
          "output_type": "stream",
          "name": "stdout",
          "text": [
            "Epoch 0, Loss: 0.9774205105495732, Learning Rate: 0.008831513943540774\n"
          ]
        },
        {
          "output_type": "stream",
          "name": "stderr",
          "text": [
            "\r 40%|████      | 2/5 [00:23<00:35, 11.78s/it]"
          ]
        },
        {
          "output_type": "stream",
          "name": "stdout",
          "text": [
            "Epoch 1, Loss: 0.9880672819671841, Learning Rate: 0.008831513943540774\n"
          ]
        },
        {
          "output_type": "stream",
          "name": "stderr",
          "text": [
            "\r 60%|██████    | 3/5 [00:35<00:23, 11.86s/it]"
          ]
        },
        {
          "output_type": "stream",
          "name": "stdout",
          "text": [
            "Epoch 2, Loss: 0.9886984940640176, Learning Rate: 0.008831513943540774\n"
          ]
        },
        {
          "output_type": "stream",
          "name": "stderr",
          "text": [
            "\r 80%|████████  | 4/5 [00:46<00:11, 11.71s/it]"
          ]
        },
        {
          "output_type": "stream",
          "name": "stdout",
          "text": [
            "Epoch 3, Loss: 1.0060304996137137, Learning Rate: 0.008831513943540774\n"
          ]
        },
        {
          "output_type": "stream",
          "name": "stderr",
          "text": [
            "100%|██████████| 5/5 [00:57<00:00, 11.53s/it]"
          ]
        },
        {
          "output_type": "stream",
          "name": "stdout",
          "text": [
            "Epoch 4, Loss: 1.0156338062760661, Learning Rate: 0.008831513943540774\n",
            "Training time:    57.6331 s\n",
            "Testing TransNAS_TSAD on SMAP\n"
          ]
        },
        {
          "output_type": "stream",
          "name": "stderr",
          "text": [
            "\n",
            "[W 2024-02-20 18:27:29,651] Trial 20 failed with parameters: {'lr': 0.008831513943540774, 'dropout_rate': 0.47922541531166385, 'dim_feedforward': 24, 'batch': 32, 'encoder_layers': 1, 'decoder_layers': 3, 'activation_function': 'tanh', 'time_warping': False, 'time_masking': False, 'gaussian_noise': 0.00014619250787515362, 'use_linear_embedding': False, 'phase_type': 'iterative', 'self_conditioning': True, 'layer_norm': True, 'positional_encoding_type': 'fourier', 'num_ffn_layers': 2} because of the following error: The value {'f1': 0.0, 'num_params': inf} could not be cast to float.\n",
            "[W 2024-02-20 18:27:29,652] Trial 20 failed with value {'f1': 0.0, 'num_params': inf}.\n",
            "/usr/local/lib/python3.10/dist-packages/torch/nn/modules/transformer.py:282: UserWarning: enable_nested_tensor is True, but self.use_nested_tensor is False because encoder_layer was not TransformerEncoderLayer\n",
            "  warnings.warn(f\"enable_nested_tensor is True, but self.use_nested_tensor is False because {why_not_sparsity_fast_path}\")\n"
          ]
        },
        {
          "output_type": "stream",
          "name": "stdout",
          "text": [
            "Initialization timed out after 40 seconds. Last exception message: zero-size array to reduction operation minimum which has no identity\n",
            "An exception occurred: unsupported operand type(s) for +: 'NoneType' and 'NoneType'\n",
            "25\n",
            "Hyperparameters: {'lr': 0.008272859481575566, 'dropout_rate': 0.10864688332667681, 'dim_feedforward': 127, 'batch': 64, 'encoder_layers': 2, 'decoder_layers': 1, 'attention_type': 'scaled_dot_product', 'positional_encoding_type': 'fourier', 'phase_type': 'iterative', 'gaussian_noise_std': 0.0005309263683138088, 'time_warping': True, 'time_masking': False, 'self_conditioning': True, 'layer_norm': True, 'activation_function': 'relu', 'use_linear_embedding': False, 'nhead': 25, 'num_ffn_layers': 1}\n",
            "Creating new model: TransNAS_TSAD\n",
            "Training TransNAS_TSAD on SMAP\n"
          ]
        },
        {
          "output_type": "stream",
          "name": "stderr",
          "text": [
            " 20%|██        | 1/5 [00:06<00:24,  6.09s/it]"
          ]
        },
        {
          "output_type": "stream",
          "name": "stdout",
          "text": [
            "Epoch 0, Loss: 0.14386386991350908, Learning Rate: 0.008272859481575566\n"
          ]
        },
        {
          "output_type": "stream",
          "name": "stderr",
          "text": [
            "\r 40%|████      | 2/5 [00:12<00:18,  6.00s/it]"
          ]
        },
        {
          "output_type": "stream",
          "name": "stdout",
          "text": [
            "Epoch 1, Loss: 0.024846159014353483, Learning Rate: 0.008272859481575566\n"
          ]
        },
        {
          "output_type": "stream",
          "name": "stderr",
          "text": [
            "\r 60%|██████    | 3/5 [00:18<00:12,  6.30s/it]"
          ]
        },
        {
          "output_type": "stream",
          "name": "stdout",
          "text": [
            "Epoch 2, Loss: 0.024846159014353483, Learning Rate: 0.008272859481575566\n"
          ]
        },
        {
          "output_type": "stream",
          "name": "stderr",
          "text": [
            "\r 80%|████████  | 4/5 [00:24<00:06,  6.19s/it]"
          ]
        },
        {
          "output_type": "stream",
          "name": "stdout",
          "text": [
            "Epoch 3, Loss: 0.024846159014353483, Learning Rate: 0.008272859481575566\n"
          ]
        },
        {
          "output_type": "stream",
          "name": "stderr",
          "text": [
            "100%|██████████| 5/5 [00:30<00:00,  6.17s/it]"
          ]
        },
        {
          "output_type": "stream",
          "name": "stdout",
          "text": [
            "Epoch 4, Loss: 0.024846159014353483, Learning Rate: 0.008272859481575566\n",
            "Training time:    30.8657 s\n",
            "Testing TransNAS_TSAD on SMAP\n"
          ]
        },
        {
          "output_type": "stream",
          "name": "stderr",
          "text": [
            "\n",
            "[W 2024-02-20 18:28:52,718] Trial 21 failed with parameters: {'lr': 0.008272859481575566, 'dropout_rate': 0.10864688332667681, 'dim_feedforward': 127, 'batch': 64, 'encoder_layers': 2, 'decoder_layers': 1, 'activation_function': 'relu', 'time_warping': True, 'time_masking': False, 'gaussian_noise': 0.0005309263683138088, 'use_linear_embedding': False, 'phase_type': 'iterative', 'self_conditioning': True, 'layer_norm': True, 'positional_encoding_type': 'fourier', 'num_ffn_layers': 1} because of the following error: The value {'f1': 0.0, 'num_params': inf} could not be cast to float.\n",
            "[W 2024-02-20 18:28:52,719] Trial 21 failed with value {'f1': 0.0, 'num_params': inf}.\n",
            "/usr/local/lib/python3.10/dist-packages/torch/nn/modules/transformer.py:282: UserWarning: enable_nested_tensor is True, but self.use_nested_tensor is False because encoder_layer was not TransformerEncoderLayer\n",
            "  warnings.warn(f\"enable_nested_tensor is True, but self.use_nested_tensor is False because {why_not_sparsity_fast_path}\")\n"
          ]
        },
        {
          "output_type": "stream",
          "name": "stdout",
          "text": [
            "Initialization timed out after 40 seconds. Last exception message: zero-size array to reduction operation minimum which has no identity\n",
            "An exception occurred: unsupported operand type(s) for +: 'NoneType' and 'NoneType'\n",
            "25\n",
            "Hyperparameters: {'lr': 0.006612972768668665, 'dropout_rate': 0.35531494750040715, 'dim_feedforward': 98, 'batch': 48, 'encoder_layers': 3, 'decoder_layers': 2, 'attention_type': 'scaled_dot_product', 'positional_encoding_type': 'sinusoidal', 'phase_type': 'iterative', 'gaussian_noise_std': 0.011782296666124023, 'time_warping': True, 'time_masking': False, 'self_conditioning': False, 'layer_norm': False, 'activation_function': 'relu', 'use_linear_embedding': False, 'nhead': 25, 'num_ffn_layers': 3}\n",
            "Creating new model: TransNAS_TSAD\n",
            "Training TransNAS_TSAD on SMAP\n"
          ]
        },
        {
          "output_type": "stream",
          "name": "stderr",
          "text": [
            " 20%|██        | 1/5 [00:12<00:50, 12.67s/it]"
          ]
        },
        {
          "output_type": "stream",
          "name": "stdout",
          "text": [
            "Epoch 0, Loss: 0.1684742576011486, Learning Rate: 0.006612972768668665\n"
          ]
        },
        {
          "output_type": "stream",
          "name": "stderr",
          "text": [
            "\r 40%|████      | 2/5 [00:25<00:38, 12.94s/it]"
          ]
        },
        {
          "output_type": "stream",
          "name": "stdout",
          "text": [
            "Epoch 1, Loss: 0.024872617469414004, Learning Rate: 0.006612972768668665\n"
          ]
        },
        {
          "output_type": "stream",
          "name": "stderr",
          "text": [
            "\r 60%|██████    | 3/5 [00:38<00:25, 12.92s/it]"
          ]
        },
        {
          "output_type": "stream",
          "name": "stdout",
          "text": [
            "Epoch 2, Loss: 0.024872617469414004, Learning Rate: 0.006612972768668665\n"
          ]
        },
        {
          "output_type": "stream",
          "name": "stderr",
          "text": [
            "\r 80%|████████  | 4/5 [00:51<00:12, 12.89s/it]"
          ]
        },
        {
          "output_type": "stream",
          "name": "stdout",
          "text": [
            "Epoch 3, Loss: 0.024872617469414004, Learning Rate: 0.006612972768668665\n"
          ]
        },
        {
          "output_type": "stream",
          "name": "stderr",
          "text": [
            "100%|██████████| 5/5 [01:04<00:00, 12.90s/it]"
          ]
        },
        {
          "output_type": "stream",
          "name": "stdout",
          "text": [
            "Epoch 4, Loss: 0.024872617469414004, Learning Rate: 0.006612972768668665\n",
            "Training time:    64.4912 s\n",
            "Testing TransNAS_TSAD on SMAP\n"
          ]
        },
        {
          "output_type": "stream",
          "name": "stderr",
          "text": [
            "\n",
            "[W 2024-02-20 18:31:00,600] Trial 22 failed with parameters: {'lr': 0.006612972768668665, 'dropout_rate': 0.35531494750040715, 'dim_feedforward': 98, 'batch': 48, 'encoder_layers': 3, 'decoder_layers': 2, 'activation_function': 'relu', 'time_warping': True, 'time_masking': False, 'gaussian_noise': 0.011782296666124023, 'use_linear_embedding': False, 'phase_type': 'iterative', 'self_conditioning': False, 'layer_norm': False, 'positional_encoding_type': 'sinusoidal', 'num_ffn_layers': 3} because of the following error: The value {'f1': 0.0, 'num_params': inf} could not be cast to float.\n",
            "[W 2024-02-20 18:31:00,602] Trial 22 failed with value {'f1': 0.0, 'num_params': inf}.\n",
            "/usr/local/lib/python3.10/dist-packages/torch/nn/modules/transformer.py:282: UserWarning: enable_nested_tensor is True, but self.use_nested_tensor is False because encoder_layer was not TransformerEncoderLayer\n",
            "  warnings.warn(f\"enable_nested_tensor is True, but self.use_nested_tensor is False because {why_not_sparsity_fast_path}\")\n"
          ]
        },
        {
          "output_type": "stream",
          "name": "stdout",
          "text": [
            "Initialization timed out after 40 seconds. Last exception message: zero-size array to reduction operation minimum which has no identity\n",
            "An exception occurred: unsupported operand type(s) for +: 'NoneType' and 'NoneType'\n",
            "25\n",
            "Hyperparameters: {'lr': 0.0016422206597471545, 'dropout_rate': 0.1755270473695104, 'dim_feedforward': 24, 'batch': 128, 'encoder_layers': 3, 'decoder_layers': 1, 'attention_type': 'scaled_dot_product', 'positional_encoding_type': 'sinusoidal', 'phase_type': '2phase', 'gaussian_noise_std': 0.032205117496258685, 'time_warping': False, 'time_masking': False, 'self_conditioning': False, 'layer_norm': False, 'activation_function': 'tanh', 'use_linear_embedding': True, 'nhead': 25, 'num_ffn_layers': 2}\n",
            "Creating new model: TransNAS_TSAD\n",
            "Training TransNAS_TSAD on SMAP\n"
          ]
        },
        {
          "output_type": "stream",
          "name": "stderr",
          "text": [
            " 20%|██        | 1/5 [00:02<00:09,  2.34s/it]"
          ]
        },
        {
          "output_type": "stream",
          "name": "stdout",
          "text": [
            "Epoch 0, Loss: 0.04684242765856054, Learning Rate: 0.0016422206597471545\n"
          ]
        },
        {
          "output_type": "stream",
          "name": "stderr",
          "text": [
            "\r 40%|████      | 2/5 [00:04<00:06,  2.09s/it]"
          ]
        },
        {
          "output_type": "stream",
          "name": "stdout",
          "text": [
            "Epoch 1, Loss: 0.01309003507523079, Learning Rate: 0.0016422206597471545\n"
          ]
        },
        {
          "output_type": "stream",
          "name": "stderr",
          "text": [
            "\r 60%|██████    | 3/5 [00:06<00:04,  2.02s/it]"
          ]
        },
        {
          "output_type": "stream",
          "name": "stdout",
          "text": [
            "Epoch 2, Loss: 0.005183516812795441, Learning Rate: 0.0016422206597471545\n"
          ]
        },
        {
          "output_type": "stream",
          "name": "stderr",
          "text": [
            "\r 80%|████████  | 4/5 [00:08<00:02,  2.02s/it]"
          ]
        },
        {
          "output_type": "stream",
          "name": "stdout",
          "text": [
            "Epoch 3, Loss: 0.0034923007057139368, Learning Rate: 0.0016422206597471545\n"
          ]
        },
        {
          "output_type": "stream",
          "name": "stderr",
          "text": [
            "100%|██████████| 5/5 [00:10<00:00,  2.04s/it]"
          ]
        },
        {
          "output_type": "stream",
          "name": "stdout",
          "text": [
            "Epoch 4, Loss: 0.0027452423825777127, Learning Rate: 0.0016422206597471545\n",
            "Training time:    10.1827 s\n",
            "Testing TransNAS_TSAD on SMAP\n"
          ]
        },
        {
          "output_type": "stream",
          "name": "stderr",
          "text": [
            "\n",
            "[I 2024-02-20 18:31:15,170] Trial 23 finished with values: [0.5172077457927527, 99965.0] and parameters: {'lr': 0.0016422206597471545, 'dropout_rate': 0.1755270473695104, 'dim_feedforward': 24, 'batch': 128, 'encoder_layers': 3, 'decoder_layers': 1, 'activation_function': 'tanh', 'time_warping': False, 'time_masking': False, 'gaussian_noise': 0.032205117496258685, 'use_linear_embedding': True, 'phase_type': '2phase', 'self_conditioning': False, 'layer_norm': False, 'positional_encoding_type': 'sinusoidal', 'num_ffn_layers': 2}. \n",
            "/usr/local/lib/python3.10/dist-packages/torch/nn/modules/transformer.py:282: UserWarning: enable_nested_tensor is True, but self.use_nested_tensor is False because encoder_layer was not TransformerEncoderLayer\n",
            "  warnings.warn(f\"enable_nested_tensor is True, but self.use_nested_tensor is False because {why_not_sparsity_fast_path}\")\n"
          ]
        },
        {
          "output_type": "stream",
          "name": "stdout",
          "text": [
            "{'FN': 440,\n",
            " 'FP': 135,\n",
            " 'ROC/AUC': 0.697180535228143,\n",
            " 'TN': 7622,\n",
            " 'TP': 308,\n",
            " 'f1': 0.5172077457927527,\n",
            " 'precision': 0.6952595779851112,\n",
            " 'recall': 0.41176470037747726,\n",
            " 'threshold': 0.016416189021490377}\n",
            "25\n",
            "Hyperparameters: {'lr': 0.002648123890499731, 'dropout_rate': 0.22012786014487762, 'dim_feedforward': 84, 'batch': 80, 'encoder_layers': 2, 'decoder_layers': 2, 'attention_type': 'scaled_dot_product', 'positional_encoding_type': 'sinusoidal', 'phase_type': '2phase', 'gaussian_noise_std': 0.0005746584879388252, 'time_warping': True, 'time_masking': False, 'self_conditioning': False, 'layer_norm': True, 'activation_function': 'tanh', 'use_linear_embedding': False, 'nhead': 25, 'num_ffn_layers': 3}\n",
            "Creating new model: TransNAS_TSAD\n",
            "Training TransNAS_TSAD on SMAP\n"
          ]
        },
        {
          "output_type": "stream",
          "name": "stderr",
          "text": [
            " 20%|██        | 1/5 [00:02<00:10,  2.70s/it]"
          ]
        },
        {
          "output_type": "stream",
          "name": "stdout",
          "text": [
            "Epoch 0, Loss: 0.22188490334215266, Learning Rate: 0.002648123890499731\n"
          ]
        },
        {
          "output_type": "stream",
          "name": "stderr",
          "text": [
            "\r 40%|████      | 2/5 [00:05<00:07,  2.66s/it]"
          ]
        },
        {
          "output_type": "stream",
          "name": "stdout",
          "text": [
            "Epoch 1, Loss: 0.02622120056224541, Learning Rate: 0.002648123890499731\n"
          ]
        },
        {
          "output_type": "stream",
          "name": "stderr",
          "text": [
            "\r 60%|██████    | 3/5 [00:08<00:05,  2.71s/it]"
          ]
        },
        {
          "output_type": "stream",
          "name": "stdout",
          "text": [
            "Epoch 2, Loss: 0.00651643245533657, Learning Rate: 0.002648123890499731\n"
          ]
        },
        {
          "output_type": "stream",
          "name": "stderr",
          "text": [
            "\r 80%|████████  | 4/5 [00:11<00:02,  2.95s/it]"
          ]
        },
        {
          "output_type": "stream",
          "name": "stdout",
          "text": [
            "Epoch 3, Loss: 0.0043988899191732, Learning Rate: 0.002648123890499731\n"
          ]
        },
        {
          "output_type": "stream",
          "name": "stderr",
          "text": [
            "100%|██████████| 5/5 [00:14<00:00,  2.87s/it]"
          ]
        },
        {
          "output_type": "stream",
          "name": "stdout",
          "text": [
            "Epoch 4, Loss: 0.0034624144495426427, Learning Rate: 0.002648123890499731\n",
            "Training time:    14.3765 s\n",
            "Testing TransNAS_TSAD on SMAP\n"
          ]
        },
        {
          "output_type": "stream",
          "name": "stderr",
          "text": [
            "\n",
            "[I 2024-02-20 18:31:33,390] Trial 24 finished with values: [0.5347176588206002, 256987.0] and parameters: {'lr': 0.002648123890499731, 'dropout_rate': 0.22012786014487762, 'dim_feedforward': 84, 'batch': 80, 'encoder_layers': 2, 'decoder_layers': 2, 'activation_function': 'tanh', 'time_warping': True, 'time_masking': False, 'gaussian_noise': 0.0005746584879388252, 'use_linear_embedding': False, 'phase_type': '2phase', 'self_conditioning': False, 'layer_norm': True, 'positional_encoding_type': 'sinusoidal', 'num_ffn_layers': 3}. \n",
            "/usr/local/lib/python3.10/dist-packages/torch/nn/modules/transformer.py:282: UserWarning: enable_nested_tensor is True, but self.use_nested_tensor is False because encoder_layer was not TransformerEncoderLayer\n",
            "  warnings.warn(f\"enable_nested_tensor is True, but self.use_nested_tensor is False because {why_not_sparsity_fast_path}\")\n"
          ]
        },
        {
          "output_type": "stream",
          "name": "stdout",
          "text": [
            "{'FN': 440,\n",
            " 'FP': 96,\n",
            " 'ROC/AUC': 0.6996943936785749,\n",
            " 'TN': 7661,\n",
            " 'TP': 308,\n",
            " 'f1': 0.5347176588206002,\n",
            " 'precision': 0.7623762187530639,\n",
            " 'recall': 0.41176470037747726,\n",
            " 'threshold': 0.02173616446175544}\n",
            "25\n",
            "Hyperparameters: {'lr': 0.0038433506374495868, 'dropout_rate': 0.2792897833767456, 'dim_feedforward': 14, 'batch': 80, 'encoder_layers': 1, 'decoder_layers': 2, 'attention_type': 'scaled_dot_product', 'positional_encoding_type': 'sinusoidal', 'phase_type': '2phase', 'gaussian_noise_std': 0.09153044409907586, 'time_warping': True, 'time_masking': True, 'self_conditioning': True, 'layer_norm': False, 'activation_function': 'tanh', 'use_linear_embedding': False, 'nhead': 25, 'num_ffn_layers': 1}\n",
            "Creating new model: TransNAS_TSAD\n",
            "Training TransNAS_TSAD on SMAP\n"
          ]
        },
        {
          "output_type": "stream",
          "name": "stderr",
          "text": [
            " 20%|██        | 1/5 [00:01<00:06,  1.53s/it]"
          ]
        },
        {
          "output_type": "stream",
          "name": "stdout",
          "text": [
            "Epoch 0, Loss: 0.034306974310557584, Learning Rate: 0.0038433506374495868\n"
          ]
        },
        {
          "output_type": "stream",
          "name": "stderr",
          "text": [
            "\r 40%|████      | 2/5 [00:03<00:04,  1.57s/it]"
          ]
        },
        {
          "output_type": "stream",
          "name": "stdout",
          "text": [
            "Epoch 1, Loss: 0.00938668047400415, Learning Rate: 0.0038433506374495868\n"
          ]
        },
        {
          "output_type": "stream",
          "name": "stderr",
          "text": [
            "\r 60%|██████    | 3/5 [00:04<00:03,  1.64s/it]"
          ]
        },
        {
          "output_type": "stream",
          "name": "stdout",
          "text": [
            "Epoch 2, Loss: 0.00339609952154848, Learning Rate: 0.0038433506374495868\n"
          ]
        },
        {
          "output_type": "stream",
          "name": "stderr",
          "text": [
            "\r 80%|████████  | 4/5 [00:06<00:01,  1.73s/it]"
          ]
        },
        {
          "output_type": "stream",
          "name": "stdout",
          "text": [
            "Epoch 3, Loss: 0.0023823212619258536, Learning Rate: 0.0038433506374495868\n"
          ]
        },
        {
          "output_type": "stream",
          "name": "stderr",
          "text": [
            "100%|██████████| 5/5 [00:08<00:00,  1.66s/it]"
          ]
        },
        {
          "output_type": "stream",
          "name": "stdout",
          "text": [
            "Epoch 4, Loss: 0.00188316421471624, Learning Rate: 0.0038433506374495868\n",
            "Training time:     8.3112 s\n",
            "Testing TransNAS_TSAD on SMAP\n"
          ]
        },
        {
          "output_type": "stream",
          "name": "stderr",
          "text": [
            "\n",
            "[I 2024-02-20 18:31:43,735] Trial 25 finished with values: [0.5150454732476101, 100395.0] and parameters: {'lr': 0.0038433506374495868, 'dropout_rate': 0.2792897833767456, 'dim_feedforward': 14, 'batch': 80, 'encoder_layers': 1, 'decoder_layers': 2, 'activation_function': 'tanh', 'time_warping': True, 'time_masking': True, 'gaussian_noise': 0.09153044409907586, 'use_linear_embedding': False, 'phase_type': '2phase', 'self_conditioning': True, 'layer_norm': False, 'positional_encoding_type': 'sinusoidal', 'num_ffn_layers': 1}. \n",
            "/usr/local/lib/python3.10/dist-packages/torch/nn/modules/transformer.py:282: UserWarning: enable_nested_tensor is True, but self.use_nested_tensor is False because encoder_layer was not TransformerEncoderLayer\n",
            "  warnings.warn(f\"enable_nested_tensor is True, but self.use_nested_tensor is False because {why_not_sparsity_fast_path}\")\n"
          ]
        },
        {
          "output_type": "stream",
          "name": "stdout",
          "text": [
            "{'FN': 440,\n",
            " 'FP': 140,\n",
            " 'ROC/AUC': 0.6968582456832159,\n",
            " 'TN': 7617,\n",
            " 'TP': 308,\n",
            " 'f1': 0.5150454732476101,\n",
            " 'precision': 0.6874999846540183,\n",
            " 'recall': 0.41176470037747726,\n",
            " 'threshold': 0.015536542897879615}\n",
            "25\n",
            "Hyperparameters: {'lr': 0.003167873785294683, 'dropout_rate': 0.47378960589627683, 'dim_feedforward': 103, 'batch': 96, 'encoder_layers': 3, 'decoder_layers': 2, 'attention_type': 'scaled_dot_product', 'positional_encoding_type': 'sinusoidal', 'phase_type': 'iterative', 'gaussian_noise_std': 0.0007185000080709947, 'time_warping': True, 'time_masking': False, 'self_conditioning': True, 'layer_norm': True, 'activation_function': 'tanh', 'use_linear_embedding': True, 'nhead': 25, 'num_ffn_layers': 1}\n",
            "Creating new model: TransNAS_TSAD\n",
            "Training TransNAS_TSAD on SMAP\n"
          ]
        },
        {
          "output_type": "stream",
          "name": "stderr",
          "text": [
            " 20%|██        | 1/5 [00:07<00:31,  7.81s/it]"
          ]
        },
        {
          "output_type": "stream",
          "name": "stdout",
          "text": [
            "Epoch 0, Loss: 0.9238269928945648, Learning Rate: 0.003167873785294683\n"
          ]
        },
        {
          "output_type": "stream",
          "name": "stderr",
          "text": [
            "\r 40%|████      | 2/5 [00:15<00:23,  7.68s/it]"
          ]
        },
        {
          "output_type": "stream",
          "name": "stdout",
          "text": [
            "Epoch 1, Loss: 0.9407818530997433, Learning Rate: 0.003167873785294683\n"
          ]
        },
        {
          "output_type": "stream",
          "name": "stderr",
          "text": [
            "\r 60%|██████    | 3/5 [00:23<00:15,  7.79s/it]"
          ]
        },
        {
          "output_type": "stream",
          "name": "stdout",
          "text": [
            "Epoch 2, Loss: 0.9575521111704893, Learning Rate: 0.003167873785294683\n"
          ]
        },
        {
          "output_type": "stream",
          "name": "stderr",
          "text": [
            "\r 80%|████████  | 4/5 [00:30<00:07,  7.71s/it]"
          ]
        },
        {
          "output_type": "stream",
          "name": "stdout",
          "text": [
            "Epoch 3, Loss: 0.9639527997124503, Learning Rate: 0.003167873785294683\n"
          ]
        },
        {
          "output_type": "stream",
          "name": "stderr",
          "text": [
            "100%|██████████| 5/5 [00:39<00:00,  7.87s/it]"
          ]
        },
        {
          "output_type": "stream",
          "name": "stdout",
          "text": [
            "Epoch 4, Loss: 0.9767040408755924, Learning Rate: 0.003167873785294683\n",
            "Training time:    39.3545 s\n",
            "Testing TransNAS_TSAD on SMAP\n"
          ]
        },
        {
          "output_type": "stream",
          "name": "stderr",
          "text": [
            "\n",
            "[W 2024-02-20 18:33:24,777] Trial 26 failed with parameters: {'lr': 0.003167873785294683, 'dropout_rate': 0.47378960589627683, 'dim_feedforward': 103, 'batch': 96, 'encoder_layers': 3, 'decoder_layers': 2, 'activation_function': 'tanh', 'time_warping': True, 'time_masking': False, 'gaussian_noise': 0.0007185000080709947, 'use_linear_embedding': True, 'phase_type': 'iterative', 'self_conditioning': True, 'layer_norm': True, 'positional_encoding_type': 'sinusoidal', 'num_ffn_layers': 1} because of the following error: The value {'f1': 0.0, 'num_params': inf} could not be cast to float.\n",
            "[W 2024-02-20 18:33:24,778] Trial 26 failed with value {'f1': 0.0, 'num_params': inf}.\n"
          ]
        },
        {
          "output_type": "stream",
          "name": "stdout",
          "text": [
            "Initialization timed out after 40 seconds. Last exception message: zero-size array to reduction operation minimum which has no identity\n",
            "An exception occurred: unsupported operand type(s) for +: 'NoneType' and 'NoneType'\n",
            "25\n",
            "Hyperparameters: {'lr': 0.005789963572783419, 'dropout_rate': 0.19879513349383499, 'dim_feedforward': 127, 'batch': 32, 'encoder_layers': 3, 'decoder_layers': 3, 'attention_type': 'scaled_dot_product', 'positional_encoding_type': 'sinusoidal', 'phase_type': 'iterative', 'gaussian_noise_std': 0.00908784480286444, 'time_warping': False, 'time_masking': True, 'self_conditioning': False, 'layer_norm': False, 'activation_function': 'sigmoid', 'use_linear_embedding': False, 'nhead': 25, 'num_ffn_layers': 3}\n",
            "Creating new model: TransNAS_TSAD\n"
          ]
        },
        {
          "output_type": "stream",
          "name": "stderr",
          "text": [
            "/usr/local/lib/python3.10/dist-packages/torch/nn/modules/transformer.py:282: UserWarning: enable_nested_tensor is True, but self.use_nested_tensor is False because encoder_layer was not TransformerEncoderLayer\n",
            "  warnings.warn(f\"enable_nested_tensor is True, but self.use_nested_tensor is False because {why_not_sparsity_fast_path}\")\n"
          ]
        },
        {
          "output_type": "stream",
          "name": "stdout",
          "text": [
            "Training TransNAS_TSAD on SMAP\n"
          ]
        },
        {
          "output_type": "stream",
          "name": "stderr",
          "text": [
            " 20%|██        | 1/5 [00:21<01:24, 21.07s/it]"
          ]
        },
        {
          "output_type": "stream",
          "name": "stdout",
          "text": [
            "Epoch 0, Loss: 0.0297800493693503, Learning Rate: 0.005789963572783419\n"
          ]
        },
        {
          "output_type": "stream",
          "name": "stderr",
          "text": [
            "\r 40%|████      | 2/5 [00:42<01:03, 21.32s/it]"
          ]
        },
        {
          "output_type": "stream",
          "name": "stdout",
          "text": [
            "Epoch 1, Loss: 0.024789635881642496, Learning Rate: 0.005789963572783419\n"
          ]
        },
        {
          "output_type": "stream",
          "name": "stderr",
          "text": [
            "\r 60%|██████    | 3/5 [01:04<00:42, 21.44s/it]"
          ]
        },
        {
          "output_type": "stream",
          "name": "stdout",
          "text": [
            "Epoch 2, Loss: 0.024789627034213564, Learning Rate: 0.005789963572783419\n"
          ]
        },
        {
          "output_type": "stream",
          "name": "stderr",
          "text": [
            "\r 80%|████████  | 4/5 [01:26<00:21, 21.70s/it]"
          ]
        },
        {
          "output_type": "stream",
          "name": "stdout",
          "text": [
            "Epoch 3, Loss: 0.024789627034213564, Learning Rate: 0.005789963572783419\n"
          ]
        },
        {
          "output_type": "stream",
          "name": "stderr",
          "text": [
            "100%|██████████| 5/5 [01:48<00:00, 21.63s/it]"
          ]
        },
        {
          "output_type": "stream",
          "name": "stdout",
          "text": [
            "Epoch 4, Loss: 0.024789627034213564, Learning Rate: 0.005789963572783419\n",
            "Training time:   108.1539 s\n",
            "Testing TransNAS_TSAD on SMAP\n"
          ]
        },
        {
          "output_type": "stream",
          "name": "stderr",
          "text": [
            "\n",
            "[W 2024-02-20 18:36:21,205] Trial 27 failed with parameters: {'lr': 0.005789963572783419, 'dropout_rate': 0.19879513349383499, 'dim_feedforward': 127, 'batch': 32, 'encoder_layers': 3, 'decoder_layers': 3, 'activation_function': 'sigmoid', 'time_warping': False, 'time_masking': True, 'gaussian_noise': 0.00908784480286444, 'use_linear_embedding': False, 'phase_type': 'iterative', 'self_conditioning': False, 'layer_norm': False, 'positional_encoding_type': 'sinusoidal', 'num_ffn_layers': 3} because of the following error: The value {'f1': 0.0, 'num_params': inf} could not be cast to float.\n",
            "[W 2024-02-20 18:36:21,207] Trial 27 failed with value {'f1': 0.0, 'num_params': inf}.\n"
          ]
        },
        {
          "output_type": "stream",
          "name": "stdout",
          "text": [
            "Initialization timed out after 40 seconds. Last exception message: zero-size array to reduction operation minimum which has no identity\n",
            "An exception occurred: unsupported operand type(s) for +: 'NoneType' and 'NoneType'\n",
            "25\n",
            "Hyperparameters: {'lr': 0.0007846069201203881, 'dropout_rate': 0.36964854585187046, 'dim_feedforward': 29, 'batch': 128, 'encoder_layers': 3, 'decoder_layers': 2, 'attention_type': 'scaled_dot_product', 'positional_encoding_type': 'sinusoidal', 'phase_type': 'iterative', 'gaussian_noise_std': 0.0018623607149278547, 'time_warping': True, 'time_masking': True, 'self_conditioning': False, 'layer_norm': False, 'activation_function': 'tanh', 'use_linear_embedding': True, 'nhead': 25, 'num_ffn_layers': 1}\n",
            "Creating new model: TransNAS_TSAD\n"
          ]
        },
        {
          "output_type": "stream",
          "name": "stderr",
          "text": [
            "/usr/local/lib/python3.10/dist-packages/torch/nn/modules/transformer.py:282: UserWarning: enable_nested_tensor is True, but self.use_nested_tensor is False because encoder_layer was not TransformerEncoderLayer\n",
            "  warnings.warn(f\"enable_nested_tensor is True, but self.use_nested_tensor is False because {why_not_sparsity_fast_path}\")\n"
          ]
        },
        {
          "output_type": "stream",
          "name": "stdout",
          "text": [
            "Training TransNAS_TSAD on SMAP\n"
          ]
        },
        {
          "output_type": "stream",
          "name": "stderr",
          "text": [
            " 20%|██        | 1/5 [00:06<00:26,  6.70s/it]"
          ]
        },
        {
          "output_type": "stream",
          "name": "stdout",
          "text": [
            "Epoch 0, Loss: 0.16632338076075365, Learning Rate: 0.0007846069201203881\n"
          ]
        },
        {
          "output_type": "stream",
          "name": "stderr",
          "text": [
            "\r 40%|████      | 2/5 [00:13<00:20,  6.97s/it]"
          ]
        },
        {
          "output_type": "stream",
          "name": "stdout",
          "text": [
            "Epoch 1, Loss: 0.04353568907959727, Learning Rate: 0.0007846069201203881\n"
          ]
        },
        {
          "output_type": "stream",
          "name": "stderr",
          "text": [
            "\r 60%|██████    | 3/5 [00:20<00:13,  6.84s/it]"
          ]
        },
        {
          "output_type": "stream",
          "name": "stdout",
          "text": [
            "Epoch 2, Loss: 0.023963008156719205, Learning Rate: 0.0007846069201203881\n"
          ]
        },
        {
          "output_type": "stream",
          "name": "stderr",
          "text": [
            "\r 80%|████████  | 4/5 [00:27<00:06,  6.99s/it]"
          ]
        },
        {
          "output_type": "stream",
          "name": "stdout",
          "text": [
            "Epoch 3, Loss: 0.016933368180429773, Learning Rate: 0.0007846069201203881\n"
          ]
        },
        {
          "output_type": "stream",
          "name": "stderr",
          "text": [
            "100%|██████████| 5/5 [00:34<00:00,  6.91s/it]"
          ]
        },
        {
          "output_type": "stream",
          "name": "stdout",
          "text": [
            "Epoch 4, Loss: 0.013449080163142349, Learning Rate: 0.0007846069201203881\n",
            "Training time:    34.5491 s\n",
            "Testing TransNAS_TSAD on SMAP\n"
          ]
        },
        {
          "output_type": "stream",
          "name": "stderr",
          "text": [
            "\n",
            "[I 2024-02-20 18:37:15,694] Trial 28 finished with values: [0.9183498409887686, 90120.0] and parameters: {'lr': 0.0007846069201203881, 'dropout_rate': 0.36964854585187046, 'dim_feedforward': 29, 'batch': 128, 'encoder_layers': 3, 'decoder_layers': 2, 'activation_function': 'tanh', 'time_warping': True, 'time_masking': True, 'gaussian_noise': 0.0018623607149278547, 'use_linear_embedding': True, 'phase_type': 'iterative', 'self_conditioning': False, 'layer_norm': False, 'positional_encoding_type': 'sinusoidal', 'num_ffn_layers': 1}. \n",
            "/usr/local/lib/python3.10/dist-packages/torch/nn/modules/transformer.py:282: UserWarning: enable_nested_tensor is True, but self.use_nested_tensor is False because encoder_layer was not TransformerEncoderLayer\n",
            "  warnings.warn(f\"enable_nested_tensor is True, but self.use_nested_tensor is False because {why_not_sparsity_fast_path}\")\n"
          ]
        },
        {
          "output_type": "stream",
          "name": "stdout",
          "text": [
            "{'FN': 0,\n",
            " 'FP': 133,\n",
            " 'ROC/AUC': 0.9914270981049375,\n",
            " 'TN': 7624,\n",
            " 'TP': 748,\n",
            " 'f1': 0.9183498409887686,\n",
            " 'precision': 0.849035177649998,\n",
            " 'recall': 0.9999999866310163,\n",
            " 'threshold': 0.05991369269268841}\n",
            "25\n",
            "Hyperparameters: {'lr': 0.008934574806507865, 'dropout_rate': 0.21898348165860787, 'dim_feedforward': 79, 'batch': 32, 'encoder_layers': 2, 'decoder_layers': 3, 'attention_type': 'scaled_dot_product', 'positional_encoding_type': 'sinusoidal', 'phase_type': '2phase', 'gaussian_noise_std': 0.018918602668960942, 'time_warping': True, 'time_masking': False, 'self_conditioning': True, 'layer_norm': True, 'activation_function': 'tanh', 'use_linear_embedding': True, 'nhead': 25, 'num_ffn_layers': 1}\n",
            "Creating new model: TransNAS_TSAD\n",
            "Training TransNAS_TSAD on SMAP\n"
          ]
        },
        {
          "output_type": "stream",
          "name": "stderr",
          "text": [
            " 20%|██        | 1/5 [00:04<00:18,  4.73s/it]"
          ]
        },
        {
          "output_type": "stream",
          "name": "stdout",
          "text": [
            "Epoch 0, Loss: 1.0492369977707592, Learning Rate: 0.008934574806507865\n"
          ]
        },
        {
          "output_type": "stream",
          "name": "stderr",
          "text": [
            "\r 40%|████      | 2/5 [00:09<00:14,  4.93s/it]"
          ]
        },
        {
          "output_type": "stream",
          "name": "stdout",
          "text": [
            "Epoch 1, Loss: 1.046877762074316, Learning Rate: 0.008934574806507865\n"
          ]
        },
        {
          "output_type": "stream",
          "name": "stderr",
          "text": [
            "\r 60%|██████    | 3/5 [00:14<00:09,  4.80s/it]"
          ]
        },
        {
          "output_type": "stream",
          "name": "stdout",
          "text": [
            "Epoch 2, Loss: 1.0414282724634971, Learning Rate: 0.008934574806507865\n"
          ]
        },
        {
          "output_type": "stream",
          "name": "stderr",
          "text": [
            "\r 80%|████████  | 4/5 [00:19<00:04,  4.81s/it]"
          ]
        },
        {
          "output_type": "stream",
          "name": "stdout",
          "text": [
            "Epoch 3, Loss: 1.0260394496573504, Learning Rate: 0.008934574806507865\n"
          ]
        },
        {
          "output_type": "stream",
          "name": "stderr",
          "text": [
            "100%|██████████| 5/5 [00:24<00:00,  4.84s/it]"
          ]
        },
        {
          "output_type": "stream",
          "name": "stdout",
          "text": [
            "Epoch 4, Loss: 1.0262323359579504, Learning Rate: 0.008934574806507865\n",
            "Training time:    24.1866 s\n",
            "Testing TransNAS_TSAD on SMAP\n"
          ]
        },
        {
          "output_type": "stream",
          "name": "stderr",
          "text": [
            "\n",
            "[W 2024-02-20 18:38:23,293] Trial 29 failed with parameters: {'lr': 0.008934574806507865, 'dropout_rate': 0.21898348165860787, 'dim_feedforward': 79, 'batch': 32, 'encoder_layers': 2, 'decoder_layers': 3, 'activation_function': 'tanh', 'time_warping': True, 'time_masking': False, 'gaussian_noise': 0.018918602668960942, 'use_linear_embedding': True, 'phase_type': '2phase', 'self_conditioning': True, 'layer_norm': True, 'positional_encoding_type': 'sinusoidal', 'num_ffn_layers': 1} because of the following error: The value {'f1': 0.0, 'num_params': inf} could not be cast to float.\n",
            "[W 2024-02-20 18:38:23,294] Trial 29 failed with value {'f1': 0.0, 'num_params': inf}.\n",
            "/usr/local/lib/python3.10/dist-packages/torch/nn/modules/transformer.py:282: UserWarning: enable_nested_tensor is True, but self.use_nested_tensor is False because encoder_layer was not TransformerEncoderLayer\n",
            "  warnings.warn(f\"enable_nested_tensor is True, but self.use_nested_tensor is False because {why_not_sparsity_fast_path}\")\n"
          ]
        },
        {
          "output_type": "stream",
          "name": "stdout",
          "text": [
            "Initialization timed out after 40 seconds. Last exception message: zero-size array to reduction operation minimum which has no identity\n",
            "An exception occurred: unsupported operand type(s) for +: 'NoneType' and 'NoneType'\n",
            "25\n",
            "Hyperparameters: {'lr': 0.007130212758115732, 'dropout_rate': 0.2988391419998785, 'dim_feedforward': 99, 'batch': 96, 'encoder_layers': 1, 'decoder_layers': 1, 'attention_type': 'scaled_dot_product', 'positional_encoding_type': 'fourier', 'phase_type': 'iterative', 'gaussian_noise_std': 0.0029152611672436236, 'time_warping': True, 'time_masking': False, 'self_conditioning': True, 'layer_norm': True, 'activation_function': 'leaky_relu', 'use_linear_embedding': True, 'nhead': 25, 'num_ffn_layers': 3}\n",
            "Creating new model: TransNAS_TSAD\n",
            "Training TransNAS_TSAD on SMAP\n"
          ]
        },
        {
          "output_type": "stream",
          "name": "stderr",
          "text": [
            " 20%|██        | 1/5 [00:04<00:17,  4.35s/it]"
          ]
        },
        {
          "output_type": "stream",
          "name": "stdout",
          "text": [
            "Epoch 0, Loss: 0.1635331313067937, Learning Rate: 0.007130212758115732\n"
          ]
        },
        {
          "output_type": "stream",
          "name": "stderr",
          "text": [
            "\r 40%|████      | 2/5 [00:08<00:13,  4.39s/it]"
          ]
        },
        {
          "output_type": "stream",
          "name": "stdout",
          "text": [
            "Epoch 1, Loss: 0.027026955270442805, Learning Rate: 0.007130212758115732\n"
          ]
        },
        {
          "output_type": "stream",
          "name": "stderr",
          "text": [
            "\r 60%|██████    | 3/5 [00:13<00:09,  4.53s/it]"
          ]
        },
        {
          "output_type": "stream",
          "name": "stdout",
          "text": [
            "Epoch 2, Loss: 0.024191600816143754, Learning Rate: 0.007130212758115732\n"
          ]
        },
        {
          "output_type": "stream",
          "name": "stderr",
          "text": [
            "\r 80%|████████  | 4/5 [00:17<00:04,  4.48s/it]"
          ]
        },
        {
          "output_type": "stream",
          "name": "stdout",
          "text": [
            "Epoch 3, Loss: 0.019795905458777827, Learning Rate: 0.007130212758115732\n"
          ]
        },
        {
          "output_type": "stream",
          "name": "stderr",
          "text": [
            "100%|██████████| 5/5 [00:22<00:00,  4.48s/it]"
          ]
        },
        {
          "output_type": "stream",
          "name": "stdout",
          "text": [
            "Epoch 4, Loss: 0.01667966453973263, Learning Rate: 0.007130212758115732\n",
            "Training time:    22.4030 s\n",
            "Testing TransNAS_TSAD on SMAP\n"
          ]
        },
        {
          "output_type": "stream",
          "name": "stderr",
          "text": [
            "\n",
            "[I 2024-02-20 18:38:55,548] Trial 30 finished with values: [0.5735525583158367, 94819.0] and parameters: {'lr': 0.007130212758115732, 'dropout_rate': 0.2988391419998785, 'dim_feedforward': 99, 'batch': 96, 'encoder_layers': 1, 'decoder_layers': 1, 'activation_function': 'leaky_relu', 'time_warping': True, 'time_masking': False, 'gaussian_noise': 0.0029152611672436236, 'use_linear_embedding': True, 'phase_type': 'iterative', 'self_conditioning': True, 'layer_norm': True, 'positional_encoding_type': 'fourier', 'num_ffn_layers': 3}. \n",
            "/usr/local/lib/python3.10/dist-packages/torch/nn/modules/transformer.py:282: UserWarning: enable_nested_tensor is True, but self.use_nested_tensor is False because encoder_layer was not TransformerEncoderLayer\n",
            "  warnings.warn(f\"enable_nested_tensor is True, but self.use_nested_tensor is False because {why_not_sparsity_fast_path}\")\n"
          ]
        },
        {
          "output_type": "stream",
          "name": "stdout",
          "text": [
            "{'FN': 440,\n",
            " 'FP': 18,\n",
            " 'ROC/AUC': 0.7047221105794387,\n",
            " 'TN': 7739,\n",
            " 'TP': 308,\n",
            " 'f1': 0.5735525583158367,\n",
            " 'precision': 0.9447852470924771,\n",
            " 'recall': 0.41176470037747726,\n",
            " 'threshold': 0.15171938238759844}\n",
            "25\n",
            "Hyperparameters: {'lr': 0.00855074811938233, 'dropout_rate': 0.37768179610673314, 'dim_feedforward': 69, 'batch': 32, 'encoder_layers': 2, 'decoder_layers': 2, 'attention_type': 'scaled_dot_product', 'positional_encoding_type': 'fourier', 'phase_type': '2phase', 'gaussian_noise_std': 0.023748043215510207, 'time_warping': True, 'time_masking': False, 'self_conditioning': False, 'layer_norm': True, 'activation_function': 'relu', 'use_linear_embedding': True, 'nhead': 25, 'num_ffn_layers': 2}\n",
            "Creating new model: TransNAS_TSAD\n",
            "Training TransNAS_TSAD on SMAP\n"
          ]
        },
        {
          "output_type": "stream",
          "name": "stderr",
          "text": [
            " 20%|██        | 1/5 [00:04<00:18,  4.72s/it]"
          ]
        },
        {
          "output_type": "stream",
          "name": "stdout",
          "text": [
            "Epoch 0, Loss: 0.5546946450650726, Learning Rate: 0.00855074811938233\n"
          ]
        },
        {
          "output_type": "stream",
          "name": "stderr",
          "text": [
            "\r 40%|████      | 2/5 [00:08<00:13,  4.44s/it]"
          ]
        },
        {
          "output_type": "stream",
          "name": "stdout",
          "text": [
            "Epoch 1, Loss: 0.16962162787990703, Learning Rate: 0.00855074811938233\n"
          ]
        },
        {
          "output_type": "stream",
          "name": "stderr",
          "text": [
            "\r 60%|██████    | 3/5 [00:13<00:08,  4.39s/it]"
          ]
        },
        {
          "output_type": "stream",
          "name": "stdout",
          "text": [
            "Epoch 2, Loss: 6.513979760837942, Learning Rate: 0.00855074811938233\n"
          ]
        },
        {
          "output_type": "stream",
          "name": "stderr",
          "text": [
            "\r 80%|████████  | 4/5 [00:18<00:04,  4.59s/it]"
          ]
        },
        {
          "output_type": "stream",
          "name": "stdout",
          "text": [
            "Epoch 3, Loss: 0.024789627034213564, Learning Rate: 0.00855074811938233\n"
          ]
        },
        {
          "output_type": "stream",
          "name": "stderr",
          "text": [
            "100%|██████████| 5/5 [00:22<00:00,  4.50s/it]"
          ]
        },
        {
          "output_type": "stream",
          "name": "stdout",
          "text": [
            "Epoch 4, Loss: 2874.13878919572, Learning Rate: 0.00855074811938233\n",
            "Training time:    22.4812 s\n",
            "Testing TransNAS_TSAD on SMAP\n"
          ]
        },
        {
          "output_type": "stream",
          "name": "stderr",
          "text": [
            "\n",
            "[W 2024-02-20 18:40:01,073] Trial 31 failed with parameters: {'lr': 0.00855074811938233, 'dropout_rate': 0.37768179610673314, 'dim_feedforward': 69, 'batch': 32, 'encoder_layers': 2, 'decoder_layers': 2, 'activation_function': 'relu', 'time_warping': True, 'time_masking': False, 'gaussian_noise': 0.023748043215510207, 'use_linear_embedding': True, 'phase_type': '2phase', 'self_conditioning': False, 'layer_norm': True, 'positional_encoding_type': 'fourier', 'num_ffn_layers': 2} because of the following error: The value {'f1': 0.0, 'num_params': inf} could not be cast to float.\n",
            "[W 2024-02-20 18:40:01,074] Trial 31 failed with value {'f1': 0.0, 'num_params': inf}.\n",
            "/usr/local/lib/python3.10/dist-packages/torch/nn/modules/transformer.py:282: UserWarning: enable_nested_tensor is True, but self.use_nested_tensor is False because encoder_layer was not TransformerEncoderLayer\n",
            "  warnings.warn(f\"enable_nested_tensor is True, but self.use_nested_tensor is False because {why_not_sparsity_fast_path}\")\n"
          ]
        },
        {
          "output_type": "stream",
          "name": "stdout",
          "text": [
            "Initialization timed out after 40 seconds. Last exception message: zero-size array to reduction operation minimum which has no identity\n",
            "An exception occurred: unsupported operand type(s) for +: 'NoneType' and 'NoneType'\n",
            "25\n",
            "Hyperparameters: {'lr': 0.000567227604208751, 'dropout_rate': 0.38094868434603246, 'dim_feedforward': 88, 'batch': 32, 'encoder_layers': 2, 'decoder_layers': 1, 'attention_type': 'scaled_dot_product', 'positional_encoding_type': 'sinusoidal', 'phase_type': 'iterative', 'gaussian_noise_std': 0.030112068902305823, 'time_warping': True, 'time_masking': True, 'self_conditioning': False, 'layer_norm': False, 'activation_function': 'tanh', 'use_linear_embedding': False, 'nhead': 25, 'num_ffn_layers': 1}\n",
            "Creating new model: TransNAS_TSAD\n",
            "Training TransNAS_TSAD on SMAP\n"
          ]
        },
        {
          "output_type": "stream",
          "name": "stderr",
          "text": [
            " 20%|██        | 1/5 [00:08<00:33,  8.33s/it]"
          ]
        },
        {
          "output_type": "stream",
          "name": "stdout",
          "text": [
            "Epoch 0, Loss: 0.034458506273134876, Learning Rate: 0.000567227604208751\n"
          ]
        },
        {
          "output_type": "stream",
          "name": "stderr",
          "text": [
            "\r 40%|████      | 2/5 [00:16<00:25,  8.45s/it]"
          ]
        },
        {
          "output_type": "stream",
          "name": "stdout",
          "text": [
            "Epoch 1, Loss: 0.0106810350463817, Learning Rate: 0.000567227604208751\n"
          ]
        },
        {
          "output_type": "stream",
          "name": "stderr",
          "text": [
            "\r 60%|██████    | 3/5 [00:25<00:16,  8.49s/it]"
          ]
        },
        {
          "output_type": "stream",
          "name": "stdout",
          "text": [
            "Epoch 2, Loss: 0.006673371388971903, Learning Rate: 0.000567227604208751\n"
          ]
        },
        {
          "output_type": "stream",
          "name": "stderr",
          "text": [
            "\r 80%|████████  | 4/5 [00:33<00:08,  8.52s/it]"
          ]
        },
        {
          "output_type": "stream",
          "name": "stdout",
          "text": [
            "Epoch 3, Loss: 0.005078078049960305, Learning Rate: 0.000567227604208751\n"
          ]
        },
        {
          "output_type": "stream",
          "name": "stderr",
          "text": [
            "100%|██████████| 5/5 [00:42<00:00,  8.48s/it]"
          ]
        },
        {
          "output_type": "stream",
          "name": "stdout",
          "text": [
            "Epoch 4, Loss: 0.004152508373895675, Learning Rate: 0.000567227604208751\n",
            "Training time:    42.3880 s\n",
            "Testing TransNAS_TSAD on SMAP\n"
          ]
        },
        {
          "output_type": "stream",
          "name": "stderr",
          "text": [
            "\n",
            "[I 2024-02-20 18:40:56,878] Trial 32 finished with values: [0.5427267738228322, 68889.0] and parameters: {'lr': 0.000567227604208751, 'dropout_rate': 0.38094868434603246, 'dim_feedforward': 88, 'batch': 32, 'encoder_layers': 2, 'decoder_layers': 1, 'activation_function': 'tanh', 'time_warping': True, 'time_masking': True, 'gaussian_noise': 0.030112068902305823, 'use_linear_embedding': False, 'phase_type': 'iterative', 'self_conditioning': False, 'layer_norm': False, 'positional_encoding_type': 'sinusoidal', 'num_ffn_layers': 1}. \n"
          ]
        },
        {
          "output_type": "stream",
          "name": "stdout",
          "text": [
            "{'FN': 440,\n",
            " 'FP': 79,\n",
            " 'ROC/AUC': 0.7007901781313273,\n",
            " 'TN': 7678,\n",
            " 'TP': 308,\n",
            " 'f1': 0.5427267738228322,\n",
            " 'precision': 0.7958656125099326,\n",
            " 'recall': 0.41176470037747726,\n",
            " 'threshold': 0.02880486234391785}\n",
            "25\n",
            "Hyperparameters: {'lr': 0.0017732245206704242, 'dropout_rate': 0.3049483887939451, 'dim_feedforward': 51, 'batch': 32, 'encoder_layers': 3, 'decoder_layers': 1, 'attention_type': 'scaled_dot_product', 'positional_encoding_type': 'sinusoidal', 'phase_type': 'iterative', 'gaussian_noise_std': 0.024554085709457885, 'time_warping': True, 'time_masking': False, 'self_conditioning': False, 'layer_norm': True, 'activation_function': 'tanh', 'use_linear_embedding': False, 'nhead': 25, 'num_ffn_layers': 1}\n",
            "Creating new model: TransNAS_TSAD\n"
          ]
        },
        {
          "output_type": "stream",
          "name": "stderr",
          "text": [
            "/usr/local/lib/python3.10/dist-packages/torch/nn/modules/transformer.py:282: UserWarning: enable_nested_tensor is True, but self.use_nested_tensor is False because encoder_layer was not TransformerEncoderLayer\n",
            "  warnings.warn(f\"enable_nested_tensor is True, but self.use_nested_tensor is False because {why_not_sparsity_fast_path}\")\n"
          ]
        },
        {
          "output_type": "stream",
          "name": "stdout",
          "text": [
            "Training TransNAS_TSAD on SMAP\n"
          ]
        },
        {
          "output_type": "stream",
          "name": "stderr",
          "text": [
            " 20%|██        | 1/5 [00:10<00:42, 10.52s/it]"
          ]
        },
        {
          "output_type": "stream",
          "name": "stdout",
          "text": [
            "Epoch 0, Loss: 0.1622961805292095, Learning Rate: 0.0017732245206704242\n"
          ]
        },
        {
          "output_type": "stream",
          "name": "stderr",
          "text": [
            "\r 40%|████      | 2/5 [00:21<00:31, 10.58s/it]"
          ]
        },
        {
          "output_type": "stream",
          "name": "stdout",
          "text": [
            "Epoch 1, Loss: 0.016970753067055453, Learning Rate: 0.0017732245206704242\n"
          ]
        },
        {
          "output_type": "stream",
          "name": "stderr",
          "text": [
            "\r 60%|██████    | 3/5 [00:31<00:21, 10.56s/it]"
          ]
        },
        {
          "output_type": "stream",
          "name": "stdout",
          "text": [
            "Epoch 2, Loss: 0.009248182478542878, Learning Rate: 0.0017732245206704242\n"
          ]
        },
        {
          "output_type": "stream",
          "name": "stderr",
          "text": [
            "\r 80%|████████  | 4/5 [00:42<00:10, 10.58s/it]"
          ]
        },
        {
          "output_type": "stream",
          "name": "stdout",
          "text": [
            "Epoch 3, Loss: 0.006378798012299555, Learning Rate: 0.0017732245206704242\n"
          ]
        },
        {
          "output_type": "stream",
          "name": "stderr",
          "text": [
            "100%|██████████| 5/5 [00:52<00:00, 10.59s/it]"
          ]
        },
        {
          "output_type": "stream",
          "name": "stdout",
          "text": [
            "Epoch 4, Loss: 0.00504577656974122, Learning Rate: 0.0017732245206704242\n",
            "Training time:    52.9494 s\n",
            "Testing TransNAS_TSAD on SMAP\n"
          ]
        },
        {
          "output_type": "stream",
          "name": "stderr",
          "text": [
            "\n",
            "[I 2024-02-20 18:42:08,074] Trial 33 finished with values: [0.9432484720760621, 73179.0] and parameters: {'lr': 0.0017732245206704242, 'dropout_rate': 0.3049483887939451, 'dim_feedforward': 51, 'batch': 32, 'encoder_layers': 3, 'decoder_layers': 1, 'activation_function': 'tanh', 'time_warping': True, 'time_masking': False, 'gaussian_noise': 0.024554085709457885, 'use_linear_embedding': False, 'phase_type': 'iterative', 'self_conditioning': False, 'layer_norm': True, 'positional_encoding_type': 'sinusoidal', 'num_ffn_layers': 1}. \n",
            "/usr/local/lib/python3.10/dist-packages/torch/nn/modules/transformer.py:282: UserWarning: enable_nested_tensor is True, but self.use_nested_tensor is False because encoder_layer was not TransformerEncoderLayer\n",
            "  warnings.warn(f\"enable_nested_tensor is True, but self.use_nested_tensor is False because {why_not_sparsity_fast_path}\")\n"
          ]
        },
        {
          "output_type": "stream",
          "name": "stdout",
          "text": [
            "{'FN': 0,\n",
            " 'FP': 90,\n",
            " 'ROC/AUC': 0.9941987881913111,\n",
            " 'TN': 7667,\n",
            " 'TP': 748,\n",
            " 'f1': 0.9432484720760621,\n",
            " 'precision': 0.8926014213293387,\n",
            " 'recall': 0.9999999866310163,\n",
            " 'threshold': 0.039203712645962854}\n",
            "25\n",
            "Hyperparameters: {'lr': 0.0009372611259052734, 'dropout_rate': 0.3841631109432615, 'dim_feedforward': 25, 'batch': 16, 'encoder_layers': 2, 'decoder_layers': 1, 'attention_type': 'scaled_dot_product', 'positional_encoding_type': 'sinusoidal', 'phase_type': '2phase', 'gaussian_noise_std': 0.006100884452439392, 'time_warping': True, 'time_masking': True, 'self_conditioning': False, 'layer_norm': False, 'activation_function': 'relu', 'use_linear_embedding': True, 'nhead': 25, 'num_ffn_layers': 3}\n",
            "Creating new model: TransNAS_TSAD\n",
            "Training TransNAS_TSAD on SMAP\n"
          ]
        },
        {
          "output_type": "stream",
          "name": "stderr",
          "text": [
            " 20%|██        | 1/5 [00:05<00:21,  5.49s/it]"
          ]
        },
        {
          "output_type": "stream",
          "name": "stdout",
          "text": [
            "Epoch 0, Loss: 0.013204893814624879, Learning Rate: 0.0009372611259052734\n"
          ]
        },
        {
          "output_type": "stream",
          "name": "stderr",
          "text": [
            "\r 40%|████      | 2/5 [00:11<00:16,  5.63s/it]"
          ]
        },
        {
          "output_type": "stream",
          "name": "stdout",
          "text": [
            "Epoch 1, Loss: 0.004528328551191338, Learning Rate: 0.0009372611259052734\n"
          ]
        },
        {
          "output_type": "stream",
          "name": "stderr",
          "text": [
            "\r 60%|██████    | 3/5 [00:16<00:10,  5.47s/it]"
          ]
        },
        {
          "output_type": "stream",
          "name": "stdout",
          "text": [
            "Epoch 2, Loss: 0.0020429177461487166, Learning Rate: 0.0009372611259052734\n"
          ]
        },
        {
          "output_type": "stream",
          "name": "stderr",
          "text": [
            "\r 80%|████████  | 4/5 [00:22<00:05,  5.58s/it]"
          ]
        },
        {
          "output_type": "stream",
          "name": "stdout",
          "text": [
            "Epoch 3, Loss: 0.0013036877983021943, Learning Rate: 0.0009372611259052734\n"
          ]
        },
        {
          "output_type": "stream",
          "name": "stderr",
          "text": [
            "100%|██████████| 5/5 [00:27<00:00,  5.54s/it]"
          ]
        },
        {
          "output_type": "stream",
          "name": "stdout",
          "text": [
            "Epoch 4, Loss: 0.0009874449834152092, Learning Rate: 0.0009372611259052734\n",
            "Training time:    27.7099 s\n",
            "Testing TransNAS_TSAD on SMAP\n"
          ]
        },
        {
          "output_type": "stream",
          "name": "stderr",
          "text": [
            "\n",
            "[W 2024-02-20 18:43:18,142] Trial 34 failed with parameters: {'lr': 0.0009372611259052734, 'dropout_rate': 0.3841631109432615, 'dim_feedforward': 25, 'batch': 16, 'encoder_layers': 2, 'decoder_layers': 1, 'activation_function': 'relu', 'time_warping': True, 'time_masking': True, 'gaussian_noise': 0.006100884452439392, 'use_linear_embedding': True, 'phase_type': '2phase', 'self_conditioning': False, 'layer_norm': False, 'positional_encoding_type': 'sinusoidal', 'num_ffn_layers': 3} because of the following error: The value {'f1': 0.0, 'num_params': inf} could not be cast to float.\n",
            "[W 2024-02-20 18:43:18,143] Trial 34 failed with value {'f1': 0.0, 'num_params': inf}.\n",
            "/usr/local/lib/python3.10/dist-packages/torch/nn/modules/transformer.py:282: UserWarning: enable_nested_tensor is True, but self.use_nested_tensor is False because encoder_layer was not TransformerEncoderLayer\n",
            "  warnings.warn(f\"enable_nested_tensor is True, but self.use_nested_tensor is False because {why_not_sparsity_fast_path}\")\n"
          ]
        },
        {
          "output_type": "stream",
          "name": "stdout",
          "text": [
            "Initialization timed out after 40 seconds. Last exception message: zero-size array to reduction operation minimum which has no identity\n",
            "An exception occurred: unsupported operand type(s) for +: 'NoneType' and 'NoneType'\n",
            "25\n",
            "Hyperparameters: {'lr': 0.004917552241098538, 'dropout_rate': 0.30815049176297565, 'dim_feedforward': 49, 'batch': 96, 'encoder_layers': 1, 'decoder_layers': 2, 'attention_type': 'scaled_dot_product', 'positional_encoding_type': 'sinusoidal', 'phase_type': '2phase', 'gaussian_noise_std': 0.005018370622363301, 'time_warping': True, 'time_masking': False, 'self_conditioning': True, 'layer_norm': True, 'activation_function': 'sigmoid', 'use_linear_embedding': True, 'nhead': 25, 'num_ffn_layers': 3}\n",
            "Creating new model: TransNAS_TSAD\n",
            "Training TransNAS_TSAD on SMAP\n"
          ]
        },
        {
          "output_type": "stream",
          "name": "stderr",
          "text": [
            " 20%|██        | 1/5 [00:01<00:07,  1.89s/it]"
          ]
        },
        {
          "output_type": "stream",
          "name": "stdout",
          "text": [
            "Epoch 0, Loss: 0.0459819954685305, Learning Rate: 0.004917552241098538\n"
          ]
        },
        {
          "output_type": "stream",
          "name": "stderr",
          "text": [
            "\r 40%|████      | 2/5 [00:03<00:05,  1.89s/it]"
          ]
        },
        {
          "output_type": "stream",
          "name": "stdout",
          "text": [
            "Epoch 1, Loss: 0.02396345212755696, Learning Rate: 0.004917552241098538\n"
          ]
        },
        {
          "output_type": "stream",
          "name": "stderr",
          "text": [
            "\r 60%|██████    | 3/5 [00:05<00:03,  1.89s/it]"
          ]
        },
        {
          "output_type": "stream",
          "name": "stdout",
          "text": [
            "Epoch 2, Loss: 0.021138460642242857, Learning Rate: 0.004917552241098538\n"
          ]
        },
        {
          "output_type": "stream",
          "name": "stderr",
          "text": [
            "\r 80%|████████  | 4/5 [00:07<00:02,  2.02s/it]"
          ]
        },
        {
          "output_type": "stream",
          "name": "stdout",
          "text": [
            "Epoch 3, Loss: 0.01968534451639603, Learning Rate: 0.004917552241098538\n"
          ]
        },
        {
          "output_type": "stream",
          "name": "stderr",
          "text": [
            "100%|██████████| 5/5 [00:10<00:00,  2.01s/it]"
          ]
        },
        {
          "output_type": "stream",
          "name": "stdout",
          "text": [
            "Epoch 4, Loss: 0.022228152461030947, Learning Rate: 0.004917552241098538\n",
            "Training time:    10.0432 s\n",
            "Testing TransNAS_TSAD on SMAP\n"
          ]
        },
        {
          "output_type": "stream",
          "name": "stderr",
          "text": [
            "\n",
            "/content/drive/MyDrive/TransNAS_TSAD/src/spot.py:329: RuntimeWarning: overflow encountered in square\n",
            "  jac_vs = (1 / t) * (-vs + np.mean(1 / s ** 2))\n",
            "/content/drive/MyDrive/TransNAS_TSAD/src/spot.py:393: RuntimeWarning: overflow encountered in scalar power\n",
            "  return self.init_threshold + (sigma / gamma) * (pow(r, -gamma) - 1)\n",
            "/content/drive/MyDrive/TransNAS_TSAD/src/spot.py:329: RuntimeWarning: overflow encountered in square\n",
            "  jac_vs = (1 / t) * (-vs + np.mean(1 / s ** 2))\n",
            "/content/drive/MyDrive/TransNAS_TSAD/src/spot.py:329: RuntimeWarning: overflow encountered in square\n",
            "  jac_vs = (1 / t) * (-vs + np.mean(1 / s ** 2))\n",
            "/content/drive/MyDrive/TransNAS_TSAD/src/spot.py:393: RuntimeWarning: overflow encountered in scalar power\n",
            "  return self.init_threshold + (sigma / gamma) * (pow(r, -gamma) - 1)\n",
            "/content/drive/MyDrive/TransNAS_TSAD/src/spot.py:342: RuntimeWarning: divide by zero encountered in scalar divide\n",
            "  c = 2 * (Ymean - Ym) / (Ym ** 2)\n",
            "/content/drive/MyDrive/TransNAS_TSAD/src/spot.py:246: RuntimeWarning: invalid value encountered in scalar subtract\n",
            "  X0 = np.arange(bounds[0] + step, bounds[1], step)\n"
          ]
        },
        {
          "output_type": "stream",
          "name": "stdout",
          "text": [
            "Initialization timed out after 40 seconds. Last exception message: arange: cannot compute length\n"
          ]
        },
        {
          "output_type": "stream",
          "name": "stderr",
          "text": [
            "/content/drive/MyDrive/TransNAS_TSAD/src/spot.py:329: RuntimeWarning: overflow encountered in square\n",
            "  jac_vs = (1 / t) * (-vs + np.mean(1 / s ** 2))\n",
            "/content/drive/MyDrive/TransNAS_TSAD/src/spot.py:393: RuntimeWarning: overflow encountered in scalar power\n",
            "  return self.init_threshold + (sigma / gamma) * (pow(r, -gamma) - 1)\n",
            "/content/drive/MyDrive/TransNAS_TSAD/src/spot.py:329: RuntimeWarning: overflow encountered in square\n",
            "  jac_vs = (1 / t) * (-vs + np.mean(1 / s ** 2))\n",
            "/content/drive/MyDrive/TransNAS_TSAD/src/spot.py:393: RuntimeWarning: overflow encountered in scalar power\n",
            "  return self.init_threshold + (sigma / gamma) * (pow(r, -gamma) - 1)\n",
            "/content/drive/MyDrive/TransNAS_TSAD/src/spot.py:342: RuntimeWarning: overflow encountered in scalar divide\n",
            "  c = 2 * (Ymean - Ym) / (Ym ** 2)\n",
            "/content/drive/MyDrive/TransNAS_TSAD/src/spot.py:246: RuntimeWarning: invalid value encountered in scalar subtract\n",
            "  X0 = np.arange(bounds[0] + step, bounds[1], step)\n",
            "/content/drive/MyDrive/TransNAS_TSAD/src/spot.py:342: RuntimeWarning: divide by zero encountered in scalar divide\n",
            "  c = 2 * (Ymean - Ym) / (Ym ** 2)\n",
            "/content/drive/MyDrive/TransNAS_TSAD/src/spot.py:329: RuntimeWarning: overflow encountered in square\n",
            "  jac_vs = (1 / t) * (-vs + np.mean(1 / s ** 2))\n",
            "[I 2024-02-20 18:44:50,716] Trial 35 finished with values: [0.8070642592176991, 170710.0] and parameters: {'lr': 0.004917552241098538, 'dropout_rate': 0.30815049176297565, 'dim_feedforward': 49, 'batch': 96, 'encoder_layers': 1, 'decoder_layers': 2, 'activation_function': 'sigmoid', 'time_warping': True, 'time_masking': False, 'gaussian_noise': 0.005018370622363301, 'use_linear_embedding': True, 'phase_type': '2phase', 'self_conditioning': True, 'layer_norm': True, 'positional_encoding_type': 'sinusoidal', 'num_ffn_layers': 3}. \n"
          ]
        },
        {
          "output_type": "stream",
          "name": "stdout",
          "text": [
            "Initialization timed out after 40 seconds. Last exception message: arange: cannot compute length\n",
            "{'FN': 200,\n",
            " 'FP': 62,\n",
            " 'ROC/AUC': 0.8623137700707106,\n",
            " 'TN': 7695,\n",
            " 'TP': 548,\n",
            " 'f1': 0.8070642592176991,\n",
            " 'precision': 0.8983606410104813,\n",
            " 'recall': 0.7326203110612258,\n",
            " 'threshold': 0.20142823710728797}\n"
          ]
        },
        {
          "output_type": "stream",
          "name": "stderr",
          "text": [
            "/usr/local/lib/python3.10/dist-packages/torch/nn/modules/transformer.py:282: UserWarning: enable_nested_tensor is True, but self.use_nested_tensor is False because encoder_layer was not TransformerEncoderLayer\n",
            "  warnings.warn(f\"enable_nested_tensor is True, but self.use_nested_tensor is False because {why_not_sparsity_fast_path}\")\n"
          ]
        },
        {
          "output_type": "stream",
          "name": "stdout",
          "text": [
            "25\n",
            "Hyperparameters: {'lr': 0.0024401480366476255, 'dropout_rate': 0.17408921511510106, 'dim_feedforward': 69, 'batch': 48, 'encoder_layers': 1, 'decoder_layers': 1, 'attention_type': 'scaled_dot_product', 'positional_encoding_type': 'fourier', 'phase_type': 'iterative', 'gaussian_noise_std': 0.014396714357475034, 'time_warping': True, 'time_masking': False, 'self_conditioning': True, 'layer_norm': False, 'activation_function': 'tanh', 'use_linear_embedding': False, 'nhead': 25, 'num_ffn_layers': 1}\n",
            "Creating new model: TransNAS_TSAD\n",
            "Training TransNAS_TSAD on SMAP\n"
          ]
        },
        {
          "output_type": "stream",
          "name": "stderr",
          "text": [
            " 20%|██        | 1/5 [00:04<00:19,  4.86s/it]"
          ]
        },
        {
          "output_type": "stream",
          "name": "stdout",
          "text": [
            "Epoch 0, Loss: 0.013010604101190894, Learning Rate: 0.0024401480366476255\n"
          ]
        },
        {
          "output_type": "stream",
          "name": "stderr",
          "text": [
            "\r 40%|████      | 2/5 [00:09<00:14,  4.90s/it]"
          ]
        },
        {
          "output_type": "stream",
          "name": "stdout",
          "text": [
            "Epoch 1, Loss: 0.0024940930062735335, Learning Rate: 0.0024401480366476255\n"
          ]
        },
        {
          "output_type": "stream",
          "name": "stderr",
          "text": [
            "\r 60%|██████    | 3/5 [00:14<00:09,  4.90s/it]"
          ]
        },
        {
          "output_type": "stream",
          "name": "stdout",
          "text": [
            "Epoch 2, Loss: 0.0016775993297971207, Learning Rate: 0.0024401480366476255\n"
          ]
        },
        {
          "output_type": "stream",
          "name": "stderr",
          "text": [
            "\r 80%|████████  | 4/5 [00:19<00:04,  4.81s/it]"
          ]
        },
        {
          "output_type": "stream",
          "name": "stdout",
          "text": [
            "Epoch 3, Loss: 0.0013236852221873714, Learning Rate: 0.0024401480366476255\n"
          ]
        },
        {
          "output_type": "stream",
          "name": "stderr",
          "text": [
            "100%|██████████| 5/5 [00:24<00:00,  4.90s/it]"
          ]
        },
        {
          "output_type": "stream",
          "name": "stdout",
          "text": [
            "Epoch 4, Loss: 0.0011123575258059478, Learning Rate: 0.0024401480366476255\n",
            "Training time:    24.5096 s\n",
            "Testing TransNAS_TSAD on SMAP\n"
          ]
        },
        {
          "output_type": "stream",
          "name": "stderr",
          "text": [
            "\n",
            "[I 2024-02-20 18:45:22,576] Trial 36 finished with values: [0.5150454732476101, 45913.0] and parameters: {'lr': 0.0024401480366476255, 'dropout_rate': 0.17408921511510106, 'dim_feedforward': 69, 'batch': 48, 'encoder_layers': 1, 'decoder_layers': 1, 'activation_function': 'tanh', 'time_warping': True, 'time_masking': False, 'gaussian_noise': 0.014396714357475034, 'use_linear_embedding': False, 'phase_type': 'iterative', 'self_conditioning': True, 'layer_norm': False, 'positional_encoding_type': 'fourier', 'num_ffn_layers': 1}. \n",
            "/usr/local/lib/python3.10/dist-packages/torch/nn/modules/transformer.py:282: UserWarning: enable_nested_tensor is True, but self.use_nested_tensor is False because encoder_layer was not TransformerEncoderLayer\n",
            "  warnings.warn(f\"enable_nested_tensor is True, but self.use_nested_tensor is False because {why_not_sparsity_fast_path}\")\n"
          ]
        },
        {
          "output_type": "stream",
          "name": "stdout",
          "text": [
            "{'FN': 440,\n",
            " 'FP': 140,\n",
            " 'ROC/AUC': 0.6968582456832159,\n",
            " 'TN': 7617,\n",
            " 'TP': 308,\n",
            " 'f1': 0.5150454732476101,\n",
            " 'precision': 0.6874999846540183,\n",
            " 'recall': 0.41176470037747726,\n",
            " 'threshold': 0.008784501170143894}\n",
            "25\n",
            "Hyperparameters: {'lr': 0.0039568078838434365, 'dropout_rate': 0.24160081590522192, 'dim_feedforward': 127, 'batch': 96, 'encoder_layers': 1, 'decoder_layers': 1, 'attention_type': 'scaled_dot_product', 'positional_encoding_type': 'fourier', 'phase_type': '2phase', 'gaussian_noise_std': 0.00020067502936184999, 'time_warping': False, 'time_masking': False, 'self_conditioning': False, 'layer_norm': True, 'activation_function': 'tanh', 'use_linear_embedding': True, 'nhead': 25, 'num_ffn_layers': 1}\n",
            "Creating new model: TransNAS_TSAD\n",
            "Training TransNAS_TSAD on SMAP\n"
          ]
        },
        {
          "output_type": "stream",
          "name": "stderr",
          "text": [
            " 20%|██        | 1/5 [00:01<00:04,  1.21s/it]"
          ]
        },
        {
          "output_type": "stream",
          "name": "stdout",
          "text": [
            "Epoch 0, Loss: 0.12628411792235622, Learning Rate: 0.0039568078838434365\n"
          ]
        },
        {
          "output_type": "stream",
          "name": "stderr",
          "text": [
            "\r 40%|████      | 2/5 [00:02<00:04,  1.39s/it]"
          ]
        },
        {
          "output_type": "stream",
          "name": "stdout",
          "text": [
            "Epoch 1, Loss: 0.020772899474655167, Learning Rate: 0.0039568078838434365\n"
          ]
        },
        {
          "output_type": "stream",
          "name": "stderr",
          "text": [
            "\r 60%|██████    | 3/5 [00:04<00:02,  1.39s/it]"
          ]
        },
        {
          "output_type": "stream",
          "name": "stdout",
          "text": [
            "Epoch 2, Loss: 0.005657887897842499, Learning Rate: 0.0039568078838434365\n"
          ]
        },
        {
          "output_type": "stream",
          "name": "stderr",
          "text": [
            "\r 80%|████████  | 4/5 [00:05<00:01,  1.35s/it]"
          ]
        },
        {
          "output_type": "stream",
          "name": "stdout",
          "text": [
            "Epoch 3, Loss: 0.0036844874042984816, Learning Rate: 0.0039568078838434365\n"
          ]
        },
        {
          "output_type": "stream",
          "name": "stderr",
          "text": [
            "100%|██████████| 5/5 [00:06<00:00,  1.34s/it]"
          ]
        },
        {
          "output_type": "stream",
          "name": "stdout",
          "text": [
            "Epoch 4, Loss: 0.0027969618769549923, Learning Rate: 0.0039568078838434365\n",
            "Training time:     6.7098 s\n",
            "Testing TransNAS_TSAD on SMAP\n"
          ]
        },
        {
          "output_type": "stream",
          "name": "stderr",
          "text": [
            "\n",
            "[I 2024-02-20 18:45:31,489] Trial 37 finished with values: [0.535182234049675, 93556.0] and parameters: {'lr': 0.0039568078838434365, 'dropout_rate': 0.24160081590522192, 'dim_feedforward': 127, 'batch': 96, 'encoder_layers': 1, 'decoder_layers': 1, 'activation_function': 'tanh', 'time_warping': False, 'time_masking': False, 'gaussian_noise': 0.00020067502936184999, 'use_linear_embedding': True, 'phase_type': '2phase', 'self_conditioning': False, 'layer_norm': True, 'positional_encoding_type': 'fourier', 'num_ffn_layers': 1}. \n",
            "/usr/local/lib/python3.10/dist-packages/torch/nn/modules/transformer.py:282: UserWarning: enable_nested_tensor is True, but self.use_nested_tensor is False because encoder_layer was not TransformerEncoderLayer\n",
            "  warnings.warn(f\"enable_nested_tensor is True, but self.use_nested_tensor is False because {why_not_sparsity_fast_path}\")\n"
          ]
        },
        {
          "output_type": "stream",
          "name": "stdout",
          "text": [
            "{'FN': 440,\n",
            " 'FP': 95,\n",
            " 'ROC/AUC': 0.6997588515875603,\n",
            " 'TN': 7662,\n",
            " 'TP': 308,\n",
            " 'f1': 0.535182234049675,\n",
            " 'precision': 0.7642679711099759,\n",
            " 'recall': 0.41176470037747726,\n",
            " 'threshold': 0.018212773014369223}\n",
            "25\n",
            "Hyperparameters: {'lr': 0.0033482470316095383, 'dropout_rate': 0.1434620829372272, 'dim_feedforward': 30, 'batch': 112, 'encoder_layers': 1, 'decoder_layers': 2, 'attention_type': 'scaled_dot_product', 'positional_encoding_type': 'fourier', 'phase_type': '2phase', 'gaussian_noise_std': 0.001416650808099888, 'time_warping': False, 'time_masking': True, 'self_conditioning': True, 'layer_norm': True, 'activation_function': 'leaky_relu', 'use_linear_embedding': False, 'nhead': 25, 'num_ffn_layers': 3}\n",
            "Creating new model: TransNAS_TSAD\n",
            "Training TransNAS_TSAD on SMAP\n"
          ]
        },
        {
          "output_type": "stream",
          "name": "stderr",
          "text": [
            " 20%|██        | 1/5 [00:01<00:06,  1.66s/it]"
          ]
        },
        {
          "output_type": "stream",
          "name": "stdout",
          "text": [
            "Epoch 0, Loss: 0.18603081538074337, Learning Rate: 0.0033482470316095383\n"
          ]
        },
        {
          "output_type": "stream",
          "name": "stderr",
          "text": [
            "\r 40%|████      | 2/5 [00:03<00:04,  1.62s/it]"
          ]
        },
        {
          "output_type": "stream",
          "name": "stdout",
          "text": [
            "Epoch 1, Loss: 0.03432682294035831, Learning Rate: 0.0033482470316095383\n"
          ]
        },
        {
          "output_type": "stream",
          "name": "stderr",
          "text": [
            "\r 60%|██████    | 3/5 [00:04<00:03,  1.62s/it]"
          ]
        },
        {
          "output_type": "stream",
          "name": "stdout",
          "text": [
            "Epoch 2, Loss: 0.02744612038147735, Learning Rate: 0.0033482470316095383\n"
          ]
        },
        {
          "output_type": "stream",
          "name": "stderr",
          "text": [
            "\r 80%|████████  | 4/5 [00:06<00:01,  1.74s/it]"
          ]
        },
        {
          "output_type": "stream",
          "name": "stdout",
          "text": [
            "Epoch 3, Loss: 0.02429357617899136, Learning Rate: 0.0033482470316095383\n"
          ]
        },
        {
          "output_type": "stream",
          "name": "stderr",
          "text": [
            "100%|██████████| 5/5 [00:08<00:00,  1.70s/it]"
          ]
        },
        {
          "output_type": "stream",
          "name": "stdout",
          "text": [
            "Epoch 4, Loss: 0.018659075559994312, Learning Rate: 0.0033482470316095383\n",
            "Training time:     8.4938 s\n",
            "Testing TransNAS_TSAD on SMAP\n"
          ]
        },
        {
          "output_type": "stream",
          "name": "stderr",
          "text": [
            "\n",
            "[I 2024-02-20 18:45:42,227] Trial 38 finished with values: [0.9516489436256526, 139375.0] and parameters: {'lr': 0.0033482470316095383, 'dropout_rate': 0.1434620829372272, 'dim_feedforward': 30, 'batch': 112, 'encoder_layers': 1, 'decoder_layers': 2, 'activation_function': 'leaky_relu', 'time_warping': False, 'time_masking': True, 'gaussian_noise': 0.001416650808099888, 'use_linear_embedding': False, 'phase_type': '2phase', 'self_conditioning': True, 'layer_norm': True, 'positional_encoding_type': 'fourier', 'num_ffn_layers': 3}. \n",
            "/usr/local/lib/python3.10/dist-packages/torch/nn/modules/transformer.py:282: UserWarning: enable_nested_tensor is True, but self.use_nested_tensor is False because encoder_layer was not TransformerEncoderLayer\n",
            "  warnings.warn(f\"enable_nested_tensor is True, but self.use_nested_tensor is False because {why_not_sparsity_fast_path}\")\n"
          ]
        },
        {
          "output_type": "stream",
          "name": "stdout",
          "text": [
            "{'FN': 0,\n",
            " 'FP': 76,\n",
            " 'ROC/AUC': 0.9951011989171071,\n",
            " 'TN': 7681,\n",
            " 'TP': 748,\n",
            " 'f1': 0.9516489436256526,\n",
            " 'precision': 0.9077669792746726,\n",
            " 'recall': 0.9999999866310163,\n",
            " 'threshold': 0.1763570858814091}\n",
            "25\n",
            "Hyperparameters: {'lr': 0.0006292629352335902, 'dropout_rate': 0.2821235154259625, 'dim_feedforward': 126, 'batch': 32, 'encoder_layers': 2, 'decoder_layers': 1, 'attention_type': 'scaled_dot_product', 'positional_encoding_type': 'sinusoidal', 'phase_type': 'iterative', 'gaussian_noise_std': 0.0005906685329008395, 'time_warping': True, 'time_masking': True, 'self_conditioning': False, 'layer_norm': True, 'activation_function': 'leaky_relu', 'use_linear_embedding': False, 'nhead': 25, 'num_ffn_layers': 1}\n",
            "Creating new model: TransNAS_TSAD\n",
            "Training TransNAS_TSAD on SMAP\n"
          ]
        },
        {
          "output_type": "stream",
          "name": "stderr",
          "text": [
            " 20%|██        | 1/5 [00:08<00:34,  8.71s/it]"
          ]
        },
        {
          "output_type": "stream",
          "name": "stdout",
          "text": [
            "Epoch 0, Loss: 0.0832340968118949, Learning Rate: 0.0006292629352335902\n"
          ]
        },
        {
          "output_type": "stream",
          "name": "stderr",
          "text": [
            "\r 40%|████      | 2/5 [00:17<00:25,  8.48s/it]"
          ]
        },
        {
          "output_type": "stream",
          "name": "stdout",
          "text": [
            "Epoch 1, Loss: 0.02617227005691911, Learning Rate: 0.0006292629352335902\n"
          ]
        },
        {
          "output_type": "stream",
          "name": "stderr",
          "text": [
            "\r 60%|██████    | 3/5 [00:25<00:17,  8.61s/it]"
          ]
        },
        {
          "output_type": "stream",
          "name": "stdout",
          "text": [
            "Epoch 2, Loss: 0.02454973210982, Learning Rate: 0.0006292629352335902\n"
          ]
        },
        {
          "output_type": "stream",
          "name": "stderr",
          "text": [
            "\r 80%|████████  | 4/5 [00:34<00:08,  8.68s/it]"
          ]
        },
        {
          "output_type": "stream",
          "name": "stdout",
          "text": [
            "Epoch 3, Loss: 0.021333125424700655, Learning Rate: 0.0006292629352335902\n"
          ]
        },
        {
          "output_type": "stream",
          "name": "stderr",
          "text": [
            "100%|██████████| 5/5 [00:43<00:00,  8.61s/it]"
          ]
        },
        {
          "output_type": "stream",
          "name": "stdout",
          "text": [
            "Epoch 4, Loss: 0.019510775826034176, Learning Rate: 0.0006292629352335902\n",
            "Training time:    43.0325 s\n",
            "Testing TransNAS_TSAD on SMAP\n"
          ]
        },
        {
          "output_type": "stream",
          "name": "stderr",
          "text": [
            "\n",
            "[I 2024-02-20 18:46:38,802] Trial 39 finished with values: [0.802925437248291, 80503.0] and parameters: {'lr': 0.0006292629352335902, 'dropout_rate': 0.2821235154259625, 'dim_feedforward': 126, 'batch': 32, 'encoder_layers': 2, 'decoder_layers': 1, 'activation_function': 'leaky_relu', 'time_warping': True, 'time_masking': True, 'gaussian_noise': 0.0005906685329008395, 'use_linear_embedding': False, 'phase_type': 'iterative', 'self_conditioning': False, 'layer_norm': True, 'positional_encoding_type': 'sinusoidal', 'num_ffn_layers': 1}. \n"
          ]
        },
        {
          "output_type": "stream",
          "name": "stdout",
          "text": [
            "{'FN': 200,\n",
            " 'FP': 69,\n",
            " 'ROC/AUC': 0.8618625647078126,\n",
            " 'TN': 7688,\n",
            " 'TP': 548,\n",
            " 'f1': 0.802925437248291,\n",
            " 'precision': 0.8881685431415147,\n",
            " 'recall': 0.7326203110612258,\n",
            " 'threshold': 0.18755394720348212}\n",
            "25\n"
          ]
        },
        {
          "output_type": "stream",
          "name": "stderr",
          "text": [
            "/usr/local/lib/python3.10/dist-packages/torch/nn/modules/transformer.py:282: UserWarning: enable_nested_tensor is True, but self.use_nested_tensor is False because encoder_layer was not TransformerEncoderLayer\n",
            "  warnings.warn(f\"enable_nested_tensor is True, but self.use_nested_tensor is False because {why_not_sparsity_fast_path}\")\n"
          ]
        },
        {
          "output_type": "stream",
          "name": "stdout",
          "text": [
            "Hyperparameters: {'lr': 0.006620703005501979, 'dropout_rate': 0.4187003064656287, 'dim_feedforward': 49, 'batch': 64, 'encoder_layers': 1, 'decoder_layers': 1, 'attention_type': 'scaled_dot_product', 'positional_encoding_type': 'sinusoidal', 'phase_type': 'iterative', 'gaussian_noise_std': 0.0124661693734305, 'time_warping': True, 'time_masking': True, 'self_conditioning': True, 'layer_norm': False, 'activation_function': 'relu', 'use_linear_embedding': True, 'nhead': 25, 'num_ffn_layers': 1}\n",
            "Creating new model: TransNAS_TSAD\n",
            "Training TransNAS_TSAD on SMAP\n"
          ]
        },
        {
          "output_type": "stream",
          "name": "stderr",
          "text": [
            " 20%|██        | 1/5 [00:04<00:18,  4.58s/it]"
          ]
        },
        {
          "output_type": "stream",
          "name": "stdout",
          "text": [
            "Epoch 0, Loss: 0.012807923725430053, Learning Rate: 0.006620703005501979\n"
          ]
        },
        {
          "output_type": "stream",
          "name": "stderr",
          "text": [
            "\r 40%|████      | 2/5 [00:09<00:14,  4.68s/it]"
          ]
        },
        {
          "output_type": "stream",
          "name": "stdout",
          "text": [
            "Epoch 1, Loss: 0.006389324201246078, Learning Rate: 0.006620703005501979\n"
          ]
        },
        {
          "output_type": "stream",
          "name": "stderr",
          "text": [
            "\r 60%|██████    | 3/5 [00:13<00:09,  4.65s/it]"
          ]
        },
        {
          "output_type": "stream",
          "name": "stdout",
          "text": [
            "Epoch 2, Loss: 0.0044724325546186125, Learning Rate: 0.006620703005501979\n"
          ]
        },
        {
          "output_type": "stream",
          "name": "stderr",
          "text": [
            "\r 80%|████████  | 4/5 [00:18<00:04,  4.54s/it]"
          ]
        },
        {
          "output_type": "stream",
          "name": "stdout",
          "text": [
            "Epoch 3, Loss: 0.00396539199470786, Learning Rate: 0.006620703005501979\n"
          ]
        },
        {
          "output_type": "stream",
          "name": "stderr",
          "text": [
            "100%|██████████| 5/5 [00:22<00:00,  4.53s/it]"
          ]
        },
        {
          "output_type": "stream",
          "name": "stdout",
          "text": [
            "Epoch 4, Loss: 0.003742310009310284, Learning Rate: 0.006620703005501979\n",
            "Training time:    22.6553 s\n",
            "Testing TransNAS_TSAD on SMAP\n"
          ]
        },
        {
          "output_type": "stream",
          "name": "stderr",
          "text": [
            "\n",
            "[W 2024-02-20 18:47:48,932] Trial 40 failed with parameters: {'lr': 0.006620703005501979, 'dropout_rate': 0.4187003064656287, 'dim_feedforward': 49, 'batch': 64, 'encoder_layers': 1, 'decoder_layers': 1, 'activation_function': 'relu', 'time_warping': True, 'time_masking': True, 'gaussian_noise': 0.0124661693734305, 'use_linear_embedding': True, 'phase_type': 'iterative', 'self_conditioning': True, 'layer_norm': False, 'positional_encoding_type': 'sinusoidal', 'num_ffn_layers': 1} because of the following error: The value {'f1': 0.0, 'num_params': inf} could not be cast to float.\n",
            "[W 2024-02-20 18:47:48,933] Trial 40 failed with value {'f1': 0.0, 'num_params': inf}.\n",
            "/usr/local/lib/python3.10/dist-packages/torch/nn/modules/transformer.py:282: UserWarning: enable_nested_tensor is True, but self.use_nested_tensor is False because encoder_layer was not TransformerEncoderLayer\n",
            "  warnings.warn(f\"enable_nested_tensor is True, but self.use_nested_tensor is False because {why_not_sparsity_fast_path}\")\n"
          ]
        },
        {
          "output_type": "stream",
          "name": "stdout",
          "text": [
            "Initialization timed out after 40 seconds. Last exception message: zero-size array to reduction operation minimum which has no identity\n",
            "An exception occurred: unsupported operand type(s) for +: 'NoneType' and 'NoneType'\n",
            "25\n",
            "Hyperparameters: {'lr': 0.002178414836759579, 'dropout_rate': 0.2808977077197149, 'dim_feedforward': 96, 'batch': 128, 'encoder_layers': 3, 'decoder_layers': 2, 'attention_type': 'scaled_dot_product', 'positional_encoding_type': 'sinusoidal', 'phase_type': 'iterative', 'gaussian_noise_std': 0.0025804293694684233, 'time_warping': True, 'time_masking': True, 'self_conditioning': False, 'layer_norm': True, 'activation_function': 'leaky_relu', 'use_linear_embedding': True, 'nhead': 25, 'num_ffn_layers': 3}\n",
            "Creating new model: TransNAS_TSAD\n",
            "Training TransNAS_TSAD on SMAP\n"
          ]
        },
        {
          "output_type": "stream",
          "name": "stderr",
          "text": [
            " 20%|██        | 1/5 [00:09<00:36,  9.01s/it]"
          ]
        },
        {
          "output_type": "stream",
          "name": "stdout",
          "text": [
            "Epoch 0, Loss: 3.601973381501158, Learning Rate: 0.002178414836759579\n"
          ]
        },
        {
          "output_type": "stream",
          "name": "stderr",
          "text": [
            "\r 40%|████      | 2/5 [00:18<00:27,  9.00s/it]"
          ]
        },
        {
          "output_type": "stream",
          "name": "stdout",
          "text": [
            "Epoch 1, Loss: 0.12449849292568337, Learning Rate: 0.002178414836759579\n"
          ]
        },
        {
          "output_type": "stream",
          "name": "stderr",
          "text": [
            "\r 60%|██████    | 3/5 [00:26<00:17,  8.79s/it]"
          ]
        },
        {
          "output_type": "stream",
          "name": "stdout",
          "text": [
            "Epoch 2, Loss: 0.07108030591464096, Learning Rate: 0.002178414836759579\n"
          ]
        },
        {
          "output_type": "stream",
          "name": "stderr",
          "text": [
            "\r 80%|████████  | 4/5 [00:35<00:08,  8.86s/it]"
          ]
        },
        {
          "output_type": "stream",
          "name": "stdout",
          "text": [
            "Epoch 3, Loss: 0.060134278222673594, Learning Rate: 0.002178414836759579\n"
          ]
        },
        {
          "output_type": "stream",
          "name": "stderr",
          "text": [
            "100%|██████████| 5/5 [00:44<00:00,  8.90s/it]"
          ]
        },
        {
          "output_type": "stream",
          "name": "stdout",
          "text": [
            "Epoch 4, Loss: 0.05365501295339975, Learning Rate: 0.002178414836759579\n",
            "Training time:    44.4886 s\n",
            "Testing TransNAS_TSAD on SMAP\n"
          ]
        },
        {
          "output_type": "stream",
          "name": "stderr",
          "text": [
            "\n",
            "[I 2024-02-20 18:48:58,881] Trial 41 finished with values: [0.798828848469786, 221515.0] and parameters: {'lr': 0.002178414836759579, 'dropout_rate': 0.2808977077197149, 'dim_feedforward': 96, 'batch': 128, 'encoder_layers': 3, 'decoder_layers': 2, 'activation_function': 'leaky_relu', 'time_warping': True, 'time_masking': True, 'gaussian_noise': 0.0025804293694684233, 'use_linear_embedding': True, 'phase_type': 'iterative', 'self_conditioning': False, 'layer_norm': True, 'positional_encoding_type': 'sinusoidal', 'num_ffn_layers': 3}. \n",
            "/usr/local/lib/python3.10/dist-packages/torch/nn/modules/transformer.py:282: UserWarning: enable_nested_tensor is True, but self.use_nested_tensor is False because encoder_layer was not TransformerEncoderLayer\n",
            "  warnings.warn(f\"enable_nested_tensor is True, but self.use_nested_tensor is False because {why_not_sparsity_fast_path}\")\n"
          ]
        },
        {
          "output_type": "stream",
          "name": "stdout",
          "text": [
            "{'FN': 200,\n",
            " 'FP': 76,\n",
            " 'ROC/AUC': 0.8614113593449146,\n",
            " 'TN': 7681,\n",
            " 'TP': 548,\n",
            " 'f1': 0.798828848469786,\n",
            " 'precision': 0.8782051141313283,\n",
            " 'recall': 0.7326203110612258,\n",
            " 'threshold': 0.3110227783759979}\n",
            "25\n",
            "Hyperparameters: {'lr': 0.008774725145685112, 'dropout_rate': 0.17647680175912042, 'dim_feedforward': 82, 'batch': 80, 'encoder_layers': 2, 'decoder_layers': 2, 'attention_type': 'scaled_dot_product', 'positional_encoding_type': 'fourier', 'phase_type': 'iterative', 'gaussian_noise_std': 0.00012577812291077122, 'time_warping': True, 'time_masking': False, 'self_conditioning': False, 'layer_norm': True, 'activation_function': 'tanh', 'use_linear_embedding': False, 'nhead': 25, 'num_ffn_layers': 1}\n",
            "Creating new model: TransNAS_TSAD\n",
            "Training TransNAS_TSAD on SMAP\n"
          ]
        },
        {
          "output_type": "stream",
          "name": "stderr",
          "text": [
            " 20%|██        | 1/5 [00:06<00:26,  6.60s/it]"
          ]
        },
        {
          "output_type": "stream",
          "name": "stdout",
          "text": [
            "Epoch 0, Loss: 0.2736067370176488, Learning Rate: 0.008774725145685112\n"
          ]
        },
        {
          "output_type": "stream",
          "name": "stderr",
          "text": [
            "\r 40%|████      | 2/5 [00:13<00:20,  6.68s/it]"
          ]
        },
        {
          "output_type": "stream",
          "name": "stdout",
          "text": [
            "Epoch 1, Loss: 0.007021495134499587, Learning Rate: 0.008774725145685112\n"
          ]
        },
        {
          "output_type": "stream",
          "name": "stderr",
          "text": [
            "\r 60%|██████    | 3/5 [00:19<00:13,  6.57s/it]"
          ]
        },
        {
          "output_type": "stream",
          "name": "stdout",
          "text": [
            "Epoch 2, Loss: 0.0036244003160542868, Learning Rate: 0.008774725145685112\n"
          ]
        },
        {
          "output_type": "stream",
          "name": "stderr",
          "text": [
            "\r 80%|████████  | 4/5 [00:26<00:06,  6.73s/it]"
          ]
        },
        {
          "output_type": "stream",
          "name": "stdout",
          "text": [
            "Epoch 3, Loss: 0.0027909877824378922, Learning Rate: 0.008774725145685112\n"
          ]
        },
        {
          "output_type": "stream",
          "name": "stderr",
          "text": [
            "100%|██████████| 5/5 [00:33<00:00,  6.64s/it]"
          ]
        },
        {
          "output_type": "stream",
          "name": "stdout",
          "text": [
            "Epoch 4, Loss: 0.0022860975877471725, Learning Rate: 0.008774725145685112\n",
            "Training time:    33.1984 s\n",
            "Testing TransNAS_TSAD on SMAP\n"
          ]
        },
        {
          "output_type": "stream",
          "name": "stderr",
          "text": [
            "\n",
            "[I 2024-02-20 18:49:46,776] Trial 42 finished with values: [0.5273926455881524, 95903.0] and parameters: {'lr': 0.008774725145685112, 'dropout_rate': 0.17647680175912042, 'dim_feedforward': 82, 'batch': 80, 'encoder_layers': 2, 'decoder_layers': 2, 'activation_function': 'tanh', 'time_warping': True, 'time_masking': False, 'gaussian_noise': 0.00012577812291077122, 'use_linear_embedding': False, 'phase_type': 'iterative', 'self_conditioning': False, 'layer_norm': True, 'positional_encoding_type': 'fourier', 'num_ffn_layers': 1}. \n",
            "/usr/local/lib/python3.10/dist-packages/torch/nn/modules/transformer.py:282: UserWarning: enable_nested_tensor is True, but self.use_nested_tensor is False because encoder_layer was not TransformerEncoderLayer\n",
            "  warnings.warn(f\"enable_nested_tensor is True, but self.use_nested_tensor is False because {why_not_sparsity_fast_path}\")\n"
          ]
        },
        {
          "output_type": "stream",
          "name": "stdout",
          "text": [
            "{'FN': 440,\n",
            " 'FP': 112,\n",
            " 'ROC/AUC': 0.698663067134808,\n",
            " 'TN': 7645,\n",
            " 'TP': 308,\n",
            " 'f1': 0.5273926455881524,\n",
            " 'precision': 0.7333333158730163,\n",
            " 'recall': 0.41176470037747726,\n",
            " 'threshold': 0.016390022041827643}\n",
            "25\n",
            "Hyperparameters: {'lr': 0.0017522110550577334, 'dropout_rate': 0.40455434936703705, 'dim_feedforward': 105, 'batch': 64, 'encoder_layers': 3, 'decoder_layers': 1, 'attention_type': 'scaled_dot_product', 'positional_encoding_type': 'sinusoidal', 'phase_type': '2phase', 'gaussian_noise_std': 0.025199871660185977, 'time_warping': False, 'time_masking': False, 'self_conditioning': False, 'layer_norm': False, 'activation_function': 'leaky_relu', 'use_linear_embedding': False, 'nhead': 25, 'num_ffn_layers': 1}\n",
            "Creating new model: TransNAS_TSAD\n",
            "Training TransNAS_TSAD on SMAP\n"
          ]
        },
        {
          "output_type": "stream",
          "name": "stderr",
          "text": [
            " 20%|██        | 1/5 [00:02<00:10,  2.66s/it]"
          ]
        },
        {
          "output_type": "stream",
          "name": "stdout",
          "text": [
            "Epoch 0, Loss: 0.026770463785605884, Learning Rate: 0.0017522110550577334\n"
          ]
        },
        {
          "output_type": "stream",
          "name": "stderr",
          "text": [
            "\r 40%|████      | 2/5 [00:05<00:07,  2.62s/it]"
          ]
        },
        {
          "output_type": "stream",
          "name": "stdout",
          "text": [
            "Epoch 1, Loss: 0.008319841131368941, Learning Rate: 0.0017522110550577334\n"
          ]
        },
        {
          "output_type": "stream",
          "name": "stderr",
          "text": [
            "\r 60%|██████    | 3/5 [00:07<00:05,  2.60s/it]"
          ]
        },
        {
          "output_type": "stream",
          "name": "stdout",
          "text": [
            "Epoch 2, Loss: 0.004299393609904001, Learning Rate: 0.0017522110550577334\n"
          ]
        },
        {
          "output_type": "stream",
          "name": "stderr",
          "text": [
            "\r 80%|████████  | 4/5 [00:10<00:02,  2.65s/it]"
          ]
        },
        {
          "output_type": "stream",
          "name": "stdout",
          "text": [
            "Epoch 3, Loss: 0.0032103391772920764, Learning Rate: 0.0017522110550577334\n"
          ]
        },
        {
          "output_type": "stream",
          "name": "stderr",
          "text": [
            "100%|██████████| 5/5 [00:13<00:00,  2.72s/it]"
          ]
        },
        {
          "output_type": "stream",
          "name": "stdout",
          "text": [
            "Epoch 4, Loss: 0.002055346739248638, Learning Rate: 0.0017522110550577334\n",
            "Training time:    13.6171 s\n",
            "Testing TransNAS_TSAD on SMAP\n"
          ]
        },
        {
          "output_type": "stream",
          "name": "stderr",
          "text": [
            "\n",
            "[I 2024-02-20 18:50:04,547] Trial 43 finished with values: [0.9315018611978791, 125950.0] and parameters: {'lr': 0.0017522110550577334, 'dropout_rate': 0.40455434936703705, 'dim_feedforward': 105, 'batch': 64, 'encoder_layers': 3, 'decoder_layers': 1, 'activation_function': 'leaky_relu', 'time_warping': False, 'time_masking': False, 'gaussian_noise': 0.025199871660185977, 'use_linear_embedding': False, 'phase_type': '2phase', 'self_conditioning': False, 'layer_norm': False, 'positional_encoding_type': 'sinusoidal', 'num_ffn_layers': 1}. \n",
            "/usr/local/lib/python3.10/dist-packages/torch/nn/modules/transformer.py:282: UserWarning: enable_nested_tensor is True, but self.use_nested_tensor is False because encoder_layer was not TransformerEncoderLayer\n",
            "  warnings.warn(f\"enable_nested_tensor is True, but self.use_nested_tensor is False because {why_not_sparsity_fast_path}\")\n"
          ]
        },
        {
          "output_type": "stream",
          "name": "stdout",
          "text": [
            "{'FN': 0,\n",
            " 'FP': 110,\n",
            " 'ROC/AUC': 0.9929096300116025,\n",
            " 'TN': 7647,\n",
            " 'TP': 748,\n",
            " 'f1': 0.9315018611978791,\n",
            " 'precision': 0.8717948616340926,\n",
            " 'recall': 0.9999999866310163,\n",
            " 'threshold': 0.020501648506011074}\n",
            "25\n",
            "Hyperparameters: {'lr': 0.00021403687396746382, 'dropout_rate': 0.10884220346384499, 'dim_feedforward': 28, 'batch': 96, 'encoder_layers': 1, 'decoder_layers': 3, 'attention_type': 'scaled_dot_product', 'positional_encoding_type': 'sinusoidal', 'phase_type': 'iterative', 'gaussian_noise_std': 0.0005005039496863047, 'time_warping': True, 'time_masking': False, 'self_conditioning': True, 'layer_norm': False, 'activation_function': 'leaky_relu', 'use_linear_embedding': True, 'nhead': 25, 'num_ffn_layers': 3}\n",
            "Creating new model: TransNAS_TSAD\n",
            "Training TransNAS_TSAD on SMAP\n"
          ]
        },
        {
          "output_type": "stream",
          "name": "stderr",
          "text": [
            " 20%|██        | 1/5 [00:06<00:24,  6.19s/it]"
          ]
        },
        {
          "output_type": "stream",
          "name": "stdout",
          "text": [
            "Epoch 0, Loss: 0.20949514926768076, Learning Rate: 0.00021403687396746382\n"
          ]
        },
        {
          "output_type": "stream",
          "name": "stderr",
          "text": [
            "\r 40%|████      | 2/5 [00:12<00:18,  6.14s/it]"
          ]
        },
        {
          "output_type": "stream",
          "name": "stdout",
          "text": [
            "Epoch 1, Loss: 0.02828135965304703, Learning Rate: 0.00021403687396746382\n"
          ]
        },
        {
          "output_type": "stream",
          "name": "stderr",
          "text": [
            "\r 60%|██████    | 3/5 [00:18<00:12,  6.37s/it]"
          ]
        },
        {
          "output_type": "stream",
          "name": "stdout",
          "text": [
            "Epoch 2, Loss: 0.02423119228848792, Learning Rate: 0.00021403687396746382\n"
          ]
        },
        {
          "output_type": "stream",
          "name": "stderr",
          "text": [
            "\r 80%|████████  | 4/5 [00:24<00:06,  6.23s/it]"
          ]
        },
        {
          "output_type": "stream",
          "name": "stdout",
          "text": [
            "Epoch 3, Loss: 0.02293299753010283, Learning Rate: 0.00021403687396746382\n"
          ]
        },
        {
          "output_type": "stream",
          "name": "stderr",
          "text": [
            "100%|██████████| 5/5 [00:31<00:00,  6.23s/it]"
          ]
        },
        {
          "output_type": "stream",
          "name": "stdout",
          "text": [
            "Epoch 4, Loss: 0.021579731763969868, Learning Rate: 0.00021403687396746382\n",
            "Training time:    31.1497 s\n",
            "Testing TransNAS_TSAD on SMAP\n"
          ]
        },
        {
          "output_type": "stream",
          "name": "stderr",
          "text": [
            "\n",
            "[I 2024-02-20 18:50:45,030] Trial 44 finished with values: [0.9228821250963636, 109761.0] and parameters: {'lr': 0.00021403687396746382, 'dropout_rate': 0.10884220346384499, 'dim_feedforward': 28, 'batch': 96, 'encoder_layers': 1, 'decoder_layers': 3, 'activation_function': 'leaky_relu', 'time_warping': True, 'time_masking': False, 'gaussian_noise': 0.0005005039496863047, 'use_linear_embedding': True, 'phase_type': 'iterative', 'self_conditioning': True, 'layer_norm': False, 'positional_encoding_type': 'sinusoidal', 'num_ffn_layers': 3}. \n",
            "/usr/local/lib/python3.10/dist-packages/torch/nn/modules/transformer.py:282: UserWarning: enable_nested_tensor is True, but self.use_nested_tensor is False because encoder_layer was not TransformerEncoderLayer\n",
            "  warnings.warn(f\"enable_nested_tensor is True, but self.use_nested_tensor is False because {why_not_sparsity_fast_path}\")\n"
          ]
        },
        {
          "output_type": "stream",
          "name": "stdout",
          "text": [
            "{'FN': 0,\n",
            " 'FP': 125,\n",
            " 'ROC/AUC': 0.9919427613768209,\n",
            " 'TN': 7632,\n",
            " 'TP': 748,\n",
            " 'f1': 0.9228821250963636,\n",
            " 'precision': 0.8568155686504517,\n",
            " 'recall': 0.9999999866310163,\n",
            " 'threshold': 0.2417735507320195}\n",
            "25\n",
            "Hyperparameters: {'lr': 0.00536632978120047, 'dropout_rate': 0.33951962766713273, 'dim_feedforward': 121, 'batch': 32, 'encoder_layers': 3, 'decoder_layers': 1, 'attention_type': 'scaled_dot_product', 'positional_encoding_type': 'fourier', 'phase_type': 'iterative', 'gaussian_noise_std': 0.019279336526418778, 'time_warping': False, 'time_masking': True, 'self_conditioning': True, 'layer_norm': False, 'activation_function': 'tanh', 'use_linear_embedding': True, 'nhead': 25, 'num_ffn_layers': 1}\n",
            "Creating new model: TransNAS_TSAD\n",
            "Training TransNAS_TSAD on SMAP\n"
          ]
        },
        {
          "output_type": "stream",
          "name": "stderr",
          "text": [
            " 20%|██        | 1/5 [00:11<00:44, 11.13s/it]"
          ]
        },
        {
          "output_type": "stream",
          "name": "stdout",
          "text": [
            "Epoch 0, Loss: 0.013423816254726356, Learning Rate: 0.00536632978120047\n"
          ]
        },
        {
          "output_type": "stream",
          "name": "stderr",
          "text": [
            "\r 40%|████      | 2/5 [00:22<00:33, 11.10s/it]"
          ]
        },
        {
          "output_type": "stream",
          "name": "stdout",
          "text": [
            "Epoch 1, Loss: 0.0017960917289444745, Learning Rate: 0.00536632978120047\n"
          ]
        },
        {
          "output_type": "stream",
          "name": "stderr",
          "text": [
            "\r 60%|██████    | 3/5 [00:33<00:22, 11.14s/it]"
          ]
        },
        {
          "output_type": "stream",
          "name": "stdout",
          "text": [
            "Epoch 2, Loss: 0.001276468028982647, Learning Rate: 0.00536632978120047\n"
          ]
        },
        {
          "output_type": "stream",
          "name": "stderr",
          "text": [
            "\r 80%|████████  | 4/5 [00:44<00:11, 11.13s/it]"
          ]
        },
        {
          "output_type": "stream",
          "name": "stdout",
          "text": [
            "Epoch 3, Loss: 0.0010254790077229353, Learning Rate: 0.00536632978120047\n"
          ]
        },
        {
          "output_type": "stream",
          "name": "stderr",
          "text": [
            "100%|██████████| 5/5 [00:55<00:00, 11.13s/it]"
          ]
        },
        {
          "output_type": "stream",
          "name": "stdout",
          "text": [
            "Epoch 4, Loss: 0.0008816876959177144, Learning Rate: 0.00536632978120047\n",
            "Training time:    55.6759 s\n",
            "Testing TransNAS_TSAD on SMAP\n"
          ]
        },
        {
          "output_type": "stream",
          "name": "stderr",
          "text": [
            "\n",
            "[I 2024-02-20 18:52:00,111] Trial 45 finished with values: [0.9234518080438258, 103909.0] and parameters: {'lr': 0.00536632978120047, 'dropout_rate': 0.33951962766713273, 'dim_feedforward': 121, 'batch': 32, 'encoder_layers': 3, 'decoder_layers': 1, 'activation_function': 'tanh', 'time_warping': False, 'time_masking': True, 'gaussian_noise': 0.019279336526418778, 'use_linear_embedding': True, 'phase_type': 'iterative', 'self_conditioning': True, 'layer_norm': False, 'positional_encoding_type': 'fourier', 'num_ffn_layers': 1}. \n"
          ]
        },
        {
          "output_type": "stream",
          "name": "stdout",
          "text": [
            "{'FN': 0,\n",
            " 'FP': 124,\n",
            " 'ROC/AUC': 0.9920072192858064,\n",
            " 'TN': 7633,\n",
            " 'TP': 748,\n",
            " 'f1': 0.9234518080438258,\n",
            " 'precision': 0.8577981553004799,\n",
            " 'recall': 0.9999999866310163,\n",
            " 'threshold': 0.013985740016386791}\n",
            "25\n",
            "Hyperparameters: {'lr': 0.0018764832749000922, 'dropout_rate': 0.39761019593040847, 'dim_feedforward': 41, 'batch': 32, 'encoder_layers': 3, 'decoder_layers': 1, 'attention_type': 'scaled_dot_product', 'positional_encoding_type': 'sinusoidal', 'phase_type': 'iterative', 'gaussian_noise_std': 0.005193243898396004, 'time_warping': True, 'time_masking': False, 'self_conditioning': True, 'layer_norm': True, 'activation_function': 'sigmoid', 'use_linear_embedding': False, 'nhead': 25, 'num_ffn_layers': 1}\n",
            "Creating new model: TransNAS_TSAD\n"
          ]
        },
        {
          "output_type": "stream",
          "name": "stderr",
          "text": [
            "/usr/local/lib/python3.10/dist-packages/torch/nn/modules/transformer.py:282: UserWarning: enable_nested_tensor is True, but self.use_nested_tensor is False because encoder_layer was not TransformerEncoderLayer\n",
            "  warnings.warn(f\"enable_nested_tensor is True, but self.use_nested_tensor is False because {why_not_sparsity_fast_path}\")\n"
          ]
        },
        {
          "output_type": "stream",
          "name": "stdout",
          "text": [
            "Training TransNAS_TSAD on SMAP\n"
          ]
        },
        {
          "output_type": "stream",
          "name": "stderr",
          "text": [
            " 20%|██        | 1/5 [00:10<00:42, 10.57s/it]"
          ]
        },
        {
          "output_type": "stream",
          "name": "stdout",
          "text": [
            "Epoch 0, Loss: 0.04117243038677633, Learning Rate: 0.0018764832749000922\n"
          ]
        },
        {
          "output_type": "stream",
          "name": "stderr",
          "text": [
            "\r 40%|████      | 2/5 [00:21<00:31, 10.63s/it]"
          ]
        },
        {
          "output_type": "stream",
          "name": "stdout",
          "text": [
            "Epoch 1, Loss: 0.01847384696748389, Learning Rate: 0.0018764832749000922\n"
          ]
        },
        {
          "output_type": "stream",
          "name": "stderr",
          "text": [
            "\r 60%|██████    | 3/5 [00:31<00:21, 10.60s/it]"
          ]
        },
        {
          "output_type": "stream",
          "name": "stdout",
          "text": [
            "Epoch 2, Loss: 0.01449329899318581, Learning Rate: 0.0018764832749000922\n"
          ]
        },
        {
          "output_type": "stream",
          "name": "stderr",
          "text": [
            "\r 80%|████████  | 4/5 [00:42<00:10, 10.63s/it]"
          ]
        },
        {
          "output_type": "stream",
          "name": "stdout",
          "text": [
            "Epoch 3, Loss: 0.013597725767478017, Learning Rate: 0.0018764832749000922\n"
          ]
        },
        {
          "output_type": "stream",
          "name": "stderr",
          "text": [
            "100%|██████████| 5/5 [00:53<00:00, 10.64s/it]"
          ]
        },
        {
          "output_type": "stream",
          "name": "stdout",
          "text": [
            "Epoch 4, Loss: 0.013178366430863623, Learning Rate: 0.0018764832749000922\n",
            "Training time:    53.2186 s\n",
            "Testing TransNAS_TSAD on SMAP\n"
          ]
        },
        {
          "output_type": "stream",
          "name": "stderr",
          "text": [
            "\n",
            "[I 2024-02-20 18:53:10,695] Trial 46 finished with values: [0.9315018611978791, 69139.0] and parameters: {'lr': 0.0018764832749000922, 'dropout_rate': 0.39761019593040847, 'dim_feedforward': 41, 'batch': 32, 'encoder_layers': 3, 'decoder_layers': 1, 'activation_function': 'sigmoid', 'time_warping': True, 'time_masking': False, 'gaussian_noise': 0.005193243898396004, 'use_linear_embedding': False, 'phase_type': 'iterative', 'self_conditioning': True, 'layer_norm': True, 'positional_encoding_type': 'sinusoidal', 'num_ffn_layers': 1}. \n",
            "/usr/local/lib/python3.10/dist-packages/torch/nn/modules/transformer.py:282: UserWarning: enable_nested_tensor is True, but self.use_nested_tensor is False because encoder_layer was not TransformerEncoderLayer\n",
            "  warnings.warn(f\"enable_nested_tensor is True, but self.use_nested_tensor is False because {why_not_sparsity_fast_path}\")\n"
          ]
        },
        {
          "output_type": "stream",
          "name": "stdout",
          "text": [
            "{'FN': 0,\n",
            " 'FP': 110,\n",
            " 'ROC/AUC': 0.9929096300116025,\n",
            " 'TN': 7647,\n",
            " 'TP': 748,\n",
            " 'f1': 0.9315018611978791,\n",
            " 'precision': 0.8717948616340926,\n",
            " 'recall': 0.9999999866310163,\n",
            " 'threshold': 0.1968411107047456}\n",
            "25\n",
            "Hyperparameters: {'lr': 0.005251850310008038, 'dropout_rate': 0.16432274506042158, 'dim_feedforward': 76, 'batch': 32, 'encoder_layers': 2, 'decoder_layers': 3, 'attention_type': 'scaled_dot_product', 'positional_encoding_type': 'fourier', 'phase_type': '2phase', 'gaussian_noise_std': 0.0004538824041699772, 'time_warping': True, 'time_masking': True, 'self_conditioning': False, 'layer_norm': False, 'activation_function': 'tanh', 'use_linear_embedding': True, 'nhead': 25, 'num_ffn_layers': 2}\n",
            "Creating new model: TransNAS_TSAD\n",
            "Training TransNAS_TSAD on SMAP\n"
          ]
        },
        {
          "output_type": "stream",
          "name": "stderr",
          "text": [
            " 20%|██        | 1/5 [00:05<00:23,  5.77s/it]"
          ]
        },
        {
          "output_type": "stream",
          "name": "stdout",
          "text": [
            "Epoch 0, Loss: 0.034277143646955444, Learning Rate: 0.005251850310008038\n"
          ]
        },
        {
          "output_type": "stream",
          "name": "stderr",
          "text": [
            "\r 40%|████      | 2/5 [00:10<00:16,  5.44s/it]"
          ]
        },
        {
          "output_type": "stream",
          "name": "stdout",
          "text": [
            "Epoch 1, Loss: 0.006241909505297832, Learning Rate: 0.005251850310008038\n"
          ]
        },
        {
          "output_type": "stream",
          "name": "stderr",
          "text": [
            "\r 60%|██████    | 3/5 [00:16<00:10,  5.43s/it]"
          ]
        },
        {
          "output_type": "stream",
          "name": "stdout",
          "text": [
            "Epoch 2, Loss: 0.002185779977862725, Learning Rate: 0.005251850310008038\n"
          ]
        },
        {
          "output_type": "stream",
          "name": "stderr",
          "text": [
            "\r 80%|████████  | 4/5 [00:21<00:05,  5.44s/it]"
          ]
        },
        {
          "output_type": "stream",
          "name": "stdout",
          "text": [
            "Epoch 3, Loss: 0.001977422126583119, Learning Rate: 0.005251850310008038\n"
          ]
        },
        {
          "output_type": "stream",
          "name": "stderr",
          "text": [
            "100%|██████████| 5/5 [00:27<00:00,  5.41s/it]"
          ]
        },
        {
          "output_type": "stream",
          "name": "stdout",
          "text": [
            "Epoch 4, Loss: 0.0020792572241422136, Learning Rate: 0.005251850310008038\n",
            "Training time:    27.0415 s\n",
            "Testing TransNAS_TSAD on SMAP\n"
          ]
        },
        {
          "output_type": "stream",
          "name": "stderr",
          "text": [
            "\n",
            "[I 2024-02-20 18:53:41,974] Trial 47 finished with values: [0.9268847302604346, 270241.0] and parameters: {'lr': 0.005251850310008038, 'dropout_rate': 0.16432274506042158, 'dim_feedforward': 76, 'batch': 32, 'encoder_layers': 2, 'decoder_layers': 3, 'activation_function': 'tanh', 'time_warping': True, 'time_masking': True, 'gaussian_noise': 0.0004538824041699772, 'use_linear_embedding': True, 'phase_type': '2phase', 'self_conditioning': False, 'layer_norm': False, 'positional_encoding_type': 'fourier', 'num_ffn_layers': 2}. \n",
            "/usr/local/lib/python3.10/dist-packages/torch/nn/modules/transformer.py:282: UserWarning: enable_nested_tensor is True, but self.use_nested_tensor is False because encoder_layer was not TransformerEncoderLayer\n",
            "  warnings.warn(f\"enable_nested_tensor is True, but self.use_nested_tensor is False because {why_not_sparsity_fast_path}\")\n"
          ]
        },
        {
          "output_type": "stream",
          "name": "stdout",
          "text": [
            "{'FN': 0,\n",
            " 'FP': 118,\n",
            " 'ROC/AUC': 0.992393966739719,\n",
            " 'TN': 7639,\n",
            " 'TP': 748,\n",
            " 'f1': 0.9268847302604346,\n",
            " 'precision': 0.8637413295179985,\n",
            " 'recall': 0.9999999866310163,\n",
            " 'threshold': 0.03603161551699359}\n",
            "25\n",
            "Hyperparameters: {'lr': 0.007657513843883523, 'dropout_rate': 0.3510754032457919, 'dim_feedforward': 78, 'batch': 128, 'encoder_layers': 2, 'decoder_layers': 3, 'attention_type': 'scaled_dot_product', 'positional_encoding_type': 'fourier', 'phase_type': 'iterative', 'gaussian_noise_std': 0.0406685527984636, 'time_warping': False, 'time_masking': False, 'self_conditioning': False, 'layer_norm': False, 'activation_function': 'sigmoid', 'use_linear_embedding': True, 'nhead': 25, 'num_ffn_layers': 3}\n",
            "Creating new model: TransNAS_TSAD\n",
            "Training TransNAS_TSAD on SMAP\n"
          ]
        },
        {
          "output_type": "stream",
          "name": "stderr",
          "text": [
            " 20%|██        | 1/5 [00:08<00:35,  8.90s/it]"
          ]
        },
        {
          "output_type": "stream",
          "name": "stdout",
          "text": [
            "Epoch 0, Loss: 0.05632172487314515, Learning Rate: 0.007657513843883523\n"
          ]
        },
        {
          "output_type": "stream",
          "name": "stderr",
          "text": [
            "\r 40%|████      | 2/5 [00:19<00:29,  9.77s/it]"
          ]
        },
        {
          "output_type": "stream",
          "name": "stdout",
          "text": [
            "Epoch 1, Loss: 0.025708893293116673, Learning Rate: 0.007657513843883523\n"
          ]
        },
        {
          "output_type": "stream",
          "name": "stderr",
          "text": [
            "\r 60%|██████    | 3/5 [00:27<00:18,  9.28s/it]"
          ]
        },
        {
          "output_type": "stream",
          "name": "stdout",
          "text": [
            "Epoch 2, Loss: 0.02548132537051652, Learning Rate: 0.007657513843883523\n"
          ]
        },
        {
          "output_type": "stream",
          "name": "stderr",
          "text": [
            "\r 80%|████████  | 4/5 [00:36<00:08,  8.85s/it]"
          ]
        },
        {
          "output_type": "stream",
          "name": "stdout",
          "text": [
            "Epoch 3, Loss: 0.024864784620510696, Learning Rate: 0.007657513843883523\n"
          ]
        },
        {
          "output_type": "stream",
          "name": "stderr",
          "text": [
            "100%|██████████| 5/5 [00:43<00:00,  8.75s/it]"
          ]
        },
        {
          "output_type": "stream",
          "name": "stdout",
          "text": [
            "Epoch 4, Loss: 0.024864538927432626, Learning Rate: 0.007657513843883523\n",
            "Training time:    43.7297 s\n",
            "Testing TransNAS_TSAD on SMAP\n"
          ]
        },
        {
          "output_type": "stream",
          "name": "stderr",
          "text": [
            "\n",
            "[W 2024-02-20 18:55:23,731] Trial 48 failed with parameters: {'lr': 0.007657513843883523, 'dropout_rate': 0.3510754032457919, 'dim_feedforward': 78, 'batch': 128, 'encoder_layers': 2, 'decoder_layers': 3, 'activation_function': 'sigmoid', 'time_warping': False, 'time_masking': False, 'gaussian_noise': 0.0406685527984636, 'use_linear_embedding': True, 'phase_type': 'iterative', 'self_conditioning': False, 'layer_norm': False, 'positional_encoding_type': 'fourier', 'num_ffn_layers': 3} because of the following error: The value {'f1': 0.0, 'num_params': inf} could not be cast to float.\n",
            "[W 2024-02-20 18:55:23,732] Trial 48 failed with value {'f1': 0.0, 'num_params': inf}.\n",
            "/usr/local/lib/python3.10/dist-packages/torch/nn/modules/transformer.py:282: UserWarning: enable_nested_tensor is True, but self.use_nested_tensor is False because encoder_layer was not TransformerEncoderLayer\n",
            "  warnings.warn(f\"enable_nested_tensor is True, but self.use_nested_tensor is False because {why_not_sparsity_fast_path}\")\n"
          ]
        },
        {
          "output_type": "stream",
          "name": "stdout",
          "text": [
            "Initialization timed out after 40 seconds. Last exception message: zero-size array to reduction operation minimum which has no identity\n",
            "An exception occurred: unsupported operand type(s) for +: 'NoneType' and 'NoneType'\n",
            "25\n",
            "Hyperparameters: {'lr': 0.0019660695736915994, 'dropout_rate': 0.28536500123555963, 'dim_feedforward': 115, 'batch': 48, 'encoder_layers': 1, 'decoder_layers': 2, 'attention_type': 'scaled_dot_product', 'positional_encoding_type': 'sinusoidal', 'phase_type': '2phase', 'gaussian_noise_std': 0.002689662284452023, 'time_warping': False, 'time_masking': True, 'self_conditioning': False, 'layer_norm': True, 'activation_function': 'leaky_relu', 'use_linear_embedding': False, 'nhead': 25, 'num_ffn_layers': 3}\n",
            "Creating new model: TransNAS_TSAD\n",
            "Training TransNAS_TSAD on SMAP\n"
          ]
        },
        {
          "output_type": "stream",
          "name": "stderr",
          "text": [
            " 20%|██        | 1/5 [00:02<00:11,  2.94s/it]"
          ]
        },
        {
          "output_type": "stream",
          "name": "stdout",
          "text": [
            "Epoch 0, Loss: 0.19167025150905162, Learning Rate: 0.0019660695736915994\n"
          ]
        },
        {
          "output_type": "stream",
          "name": "stderr",
          "text": [
            "\r 40%|████      | 2/5 [00:05<00:09,  3.01s/it]"
          ]
        },
        {
          "output_type": "stream",
          "name": "stdout",
          "text": [
            "Epoch 1, Loss: 0.041370830807523885, Learning Rate: 0.0019660695736915994\n"
          ]
        },
        {
          "output_type": "stream",
          "name": "stderr",
          "text": [
            "\r 60%|██████    | 3/5 [00:09<00:06,  3.13s/it]"
          ]
        },
        {
          "output_type": "stream",
          "name": "stdout",
          "text": [
            "Epoch 2, Loss: 0.027279412911439888, Learning Rate: 0.0019660695736915994\n"
          ]
        },
        {
          "output_type": "stream",
          "name": "stderr",
          "text": [
            "\r 80%|████████  | 4/5 [00:12<00:03,  3.05s/it]"
          ]
        },
        {
          "output_type": "stream",
          "name": "stdout",
          "text": [
            "Epoch 3, Loss: 0.025389816579208656, Learning Rate: 0.0019660695736915994\n"
          ]
        },
        {
          "output_type": "stream",
          "name": "stderr",
          "text": [
            "100%|██████████| 5/5 [00:15<00:00,  3.02s/it]"
          ]
        },
        {
          "output_type": "stream",
          "name": "stdout",
          "text": [
            "Epoch 4, Loss: 0.02180434529281761, Learning Rate: 0.0019660695736915994\n",
            "Training time:    15.1127 s\n",
            "Testing TransNAS_TSAD on SMAP\n"
          ]
        },
        {
          "output_type": "stream",
          "name": "stderr",
          "text": [
            "\n",
            "[I 2024-02-20 18:55:40,877] Trial 49 finished with values: [0.7650553094923715, 268150.0] and parameters: {'lr': 0.0019660695736915994, 'dropout_rate': 0.28536500123555963, 'dim_feedforward': 115, 'batch': 48, 'encoder_layers': 1, 'decoder_layers': 2, 'activation_function': 'leaky_relu', 'time_warping': False, 'time_masking': True, 'gaussian_noise': 0.002689662284452023, 'use_linear_embedding': False, 'phase_type': '2phase', 'self_conditioning': False, 'layer_norm': True, 'positional_encoding_type': 'sinusoidal', 'num_ffn_layers': 3}. \n"
          ]
        },
        {
          "output_type": "stream",
          "name": "stdout",
          "text": [
            "{'FN': 240,\n",
            " 'FP': 72,\n",
            " 'ROC/AUC': 0.8349312230664179,\n",
            " 'TN': 7685,\n",
            " 'TP': 508,\n",
            " 'f1': 0.7650553094923715,\n",
            " 'precision': 0.8758620538644474,\n",
            " 'recall': 0.6791443759472677,\n",
            " 'threshold': 0.22715894548403656}\n",
            "25\n",
            "Hyperparameters: {'lr': 0.00847082058417735, 'dropout_rate': 0.455461270960672, 'dim_feedforward': 74, 'batch': 16, 'encoder_layers': 3, 'decoder_layers': 3, 'attention_type': 'scaled_dot_product', 'positional_encoding_type': 'sinusoidal', 'phase_type': 'iterative', 'gaussian_noise_std': 0.00039660140541372555, 'time_warping': False, 'time_masking': True, 'self_conditioning': False, 'layer_norm': False, 'activation_function': 'leaky_relu', 'use_linear_embedding': False, 'nhead': 25, 'num_ffn_layers': 3}\n",
            "Creating new model: TransNAS_TSAD\n"
          ]
        },
        {
          "output_type": "stream",
          "name": "stderr",
          "text": [
            "/usr/local/lib/python3.10/dist-packages/torch/nn/modules/transformer.py:282: UserWarning: enable_nested_tensor is True, but self.use_nested_tensor is False because encoder_layer was not TransformerEncoderLayer\n",
            "  warnings.warn(f\"enable_nested_tensor is True, but self.use_nested_tensor is False because {why_not_sparsity_fast_path}\")\n"
          ]
        },
        {
          "output_type": "stream",
          "name": "stdout",
          "text": [
            "Training TransNAS_TSAD on SMAP\n"
          ]
        },
        {
          "output_type": "stream",
          "name": "stderr",
          "text": [
            " 20%|██        | 1/5 [00:28<01:52, 28.01s/it]"
          ]
        },
        {
          "output_type": "stream",
          "name": "stdout",
          "text": [
            "Epoch 0, Loss: 189819802430177.62, Learning Rate: 0.00847082058417735\n"
          ]
        },
        {
          "output_type": "stream",
          "name": "stderr",
          "text": [
            "\r 40%|████      | 2/5 [00:55<01:23, 27.91s/it]"
          ]
        },
        {
          "output_type": "stream",
          "name": "stdout",
          "text": [
            "Epoch 1, Loss: 1.2303846572967483e+39, Learning Rate: 0.00847082058417735\n"
          ]
        },
        {
          "output_type": "stream",
          "name": "stderr",
          "text": [
            "\r 60%|██████    | 3/5 [01:23<00:55, 27.86s/it]"
          ]
        },
        {
          "output_type": "stream",
          "name": "stdout",
          "text": [
            "Epoch 2, Loss: 2.2215916776051583e+46, Learning Rate: 0.00847082058417735\n"
          ]
        },
        {
          "output_type": "stream",
          "name": "stderr",
          "text": [
            "\r 80%|████████  | 4/5 [01:52<00:28, 28.09s/it]"
          ]
        },
        {
          "output_type": "stream",
          "name": "stdout",
          "text": [
            "Epoch 3, Loss: 2.6770001623610656e+45, Learning Rate: 0.00847082058417735\n"
          ]
        },
        {
          "output_type": "stream",
          "name": "stderr",
          "text": [
            "100%|██████████| 5/5 [02:20<00:00, 28.10s/it]"
          ]
        },
        {
          "output_type": "stream",
          "name": "stdout",
          "text": [
            "Epoch 4, Loss: 6.650952398818199e+43, Learning Rate: 0.00847082058417735\n",
            "Training time:   140.4994 s\n",
            "Testing TransNAS_TSAD on SMAP\n"
          ]
        },
        {
          "output_type": "stream",
          "name": "stderr",
          "text": [
            "\n",
            "[I 2024-02-20 18:58:24,914] Trial 50 finished with values: [0.4854167441944413, 228507.0] and parameters: {'lr': 0.00847082058417735, 'dropout_rate': 0.455461270960672, 'dim_feedforward': 74, 'batch': 16, 'encoder_layers': 3, 'decoder_layers': 3, 'activation_function': 'leaky_relu', 'time_warping': False, 'time_masking': True, 'gaussian_noise': 0.00039660140541372555, 'use_linear_embedding': False, 'phase_type': 'iterative', 'self_conditioning': False, 'layer_norm': False, 'positional_encoding_type': 'sinusoidal', 'num_ffn_layers': 3}. \n",
            "/usr/local/lib/python3.10/dist-packages/torch/nn/modules/transformer.py:282: UserWarning: enable_nested_tensor is True, but self.use_nested_tensor is False because encoder_layer was not TransformerEncoderLayer\n",
            "  warnings.warn(f\"enable_nested_tensor is True, but self.use_nested_tensor is False because {why_not_sparsity_fast_path}\")\n"
          ]
        },
        {
          "output_type": "stream",
          "name": "stdout",
          "text": [
            "{'FN': 440,\n",
            " 'FP': 213,\n",
            " 'ROC/AUC': 0.6921528183272793,\n",
            " 'TN': 7544,\n",
            " 'TP': 308,\n",
            " 'f1': 0.4854167441944413,\n",
            " 'precision': 0.5911708139890439,\n",
            " 'recall': 0.41176470037747726,\n",
            " 'threshold': 1.2524188703723823e+34}\n",
            "25\n",
            "Hyperparameters: {'lr': 0.0034422444353913837, 'dropout_rate': 0.16034845845435416, 'dim_feedforward': 101, 'batch': 112, 'encoder_layers': 2, 'decoder_layers': 2, 'attention_type': 'scaled_dot_product', 'positional_encoding_type': 'fourier', 'phase_type': '2phase', 'gaussian_noise_std': 0.002896843737799965, 'time_warping': True, 'time_masking': False, 'self_conditioning': True, 'layer_norm': False, 'activation_function': 'leaky_relu', 'use_linear_embedding': False, 'nhead': 25, 'num_ffn_layers': 1}\n",
            "Creating new model: TransNAS_TSAD\n",
            "Training TransNAS_TSAD on SMAP\n"
          ]
        },
        {
          "output_type": "stream",
          "name": "stderr",
          "text": [
            " 20%|██        | 1/5 [00:01<00:07,  1.93s/it]"
          ]
        },
        {
          "output_type": "stream",
          "name": "stdout",
          "text": [
            "Epoch 0, Loss: 0.02617850716659799, Learning Rate: 0.0034422444353913837\n"
          ]
        },
        {
          "output_type": "stream",
          "name": "stderr",
          "text": [
            "\r 40%|████      | 2/5 [00:03<00:05,  1.91s/it]"
          ]
        },
        {
          "output_type": "stream",
          "name": "stdout",
          "text": [
            "Epoch 1, Loss: 0.010911870953529933, Learning Rate: 0.0034422444353913837\n"
          ]
        },
        {
          "output_type": "stream",
          "name": "stderr",
          "text": [
            "\r 60%|██████    | 3/5 [00:05<00:03,  1.90s/it]"
          ]
        },
        {
          "output_type": "stream",
          "name": "stdout",
          "text": [
            "Epoch 2, Loss: 0.004276335361580508, Learning Rate: 0.0034422444353913837\n"
          ]
        },
        {
          "output_type": "stream",
          "name": "stderr",
          "text": [
            "\r 80%|████████  | 4/5 [00:07<00:01,  1.96s/it]"
          ]
        },
        {
          "output_type": "stream",
          "name": "stdout",
          "text": [
            "Epoch 3, Loss: 0.002322069343365132, Learning Rate: 0.0034422444353913837\n"
          ]
        },
        {
          "output_type": "stream",
          "name": "stderr",
          "text": [
            "100%|██████████| 5/5 [00:09<00:00,  1.98s/it]"
          ]
        },
        {
          "output_type": "stream",
          "name": "stdout",
          "text": [
            "Epoch 4, Loss: 0.0015685987398888729, Learning Rate: 0.0034422444353913837\n",
            "Training time:     9.8881 s\n",
            "Testing TransNAS_TSAD on SMAP\n"
          ]
        },
        {
          "output_type": "stream",
          "name": "stderr",
          "text": [
            "\n",
            "[I 2024-02-20 18:58:37,961] Trial 51 finished with values: [0.7789573401663761, 164781.0] and parameters: {'lr': 0.0034422444353913837, 'dropout_rate': 0.16034845845435416, 'dim_feedforward': 101, 'batch': 112, 'encoder_layers': 2, 'decoder_layers': 2, 'activation_function': 'leaky_relu', 'time_warping': True, 'time_masking': False, 'gaussian_noise': 0.002896843737799965, 'use_linear_embedding': False, 'phase_type': '2phase', 'self_conditioning': True, 'layer_norm': False, 'positional_encoding_type': 'fourier', 'num_ffn_layers': 1}. \n",
            "/usr/local/lib/python3.10/dist-packages/torch/nn/modules/transformer.py:282: UserWarning: enable_nested_tensor is True, but self.use_nested_tensor is False because encoder_layer was not TransformerEncoderLayer\n",
            "  warnings.warn(f\"enable_nested_tensor is True, but self.use_nested_tensor is False because {why_not_sparsity_fast_path}\")\n"
          ]
        },
        {
          "output_type": "stream",
          "name": "stdout",
          "text": [
            "{'FN': 200,\n",
            " 'FP': 111,\n",
            " 'ROC/AUC': 0.8591553325304244,\n",
            " 'TN': 7646,\n",
            " 'TP': 548,\n",
            " 'f1': 0.7789573401663761,\n",
            " 'precision': 0.8315629615847806,\n",
            " 'recall': 0.7326203110612258,\n",
            " 'threshold': 0.009988189686413865}\n",
            "25\n",
            "Hyperparameters: {'lr': 0.0026072045694798185, 'dropout_rate': 0.490028566897194, 'dim_feedforward': 69, 'batch': 96, 'encoder_layers': 1, 'decoder_layers': 3, 'attention_type': 'scaled_dot_product', 'positional_encoding_type': 'fourier', 'phase_type': 'iterative', 'gaussian_noise_std': 0.0001351656328348401, 'time_warping': True, 'time_masking': False, 'self_conditioning': False, 'layer_norm': True, 'activation_function': 'leaky_relu', 'use_linear_embedding': False, 'nhead': 25, 'num_ffn_layers': 1}\n",
            "Creating new model: TransNAS_TSAD\n",
            "Training TransNAS_TSAD on SMAP\n"
          ]
        },
        {
          "output_type": "stream",
          "name": "stderr",
          "text": [
            " 20%|██        | 1/5 [00:05<00:20,  5.15s/it]"
          ]
        },
        {
          "output_type": "stream",
          "name": "stdout",
          "text": [
            "Epoch 0, Loss: 3.521109714281193, Learning Rate: 0.0026072045694798185\n"
          ]
        },
        {
          "output_type": "stream",
          "name": "stderr",
          "text": [
            "\r 40%|████      | 2/5 [00:10<00:16,  5.36s/it]"
          ]
        },
        {
          "output_type": "stream",
          "name": "stdout",
          "text": [
            "Epoch 1, Loss: 0.1553416361177132, Learning Rate: 0.0026072045694798185\n"
          ]
        },
        {
          "output_type": "stream",
          "name": "stderr",
          "text": [
            "\r 60%|██████    | 3/5 [00:15<00:10,  5.26s/it]"
          ]
        },
        {
          "output_type": "stream",
          "name": "stdout",
          "text": [
            "Epoch 2, Loss: 0.09850045985600538, Learning Rate: 0.0026072045694798185\n"
          ]
        },
        {
          "output_type": "stream",
          "name": "stderr",
          "text": [
            "\r 80%|████████  | 4/5 [00:21<00:05,  5.32s/it]"
          ]
        },
        {
          "output_type": "stream",
          "name": "stdout",
          "text": [
            "Epoch 3, Loss: 0.0894898336362518, Learning Rate: 0.0026072045694798185\n"
          ]
        },
        {
          "output_type": "stream",
          "name": "stderr",
          "text": [
            "100%|██████████| 5/5 [00:26<00:00,  5.26s/it]"
          ]
        },
        {
          "output_type": "stream",
          "name": "stdout",
          "text": [
            "Epoch 4, Loss: 0.07913711022716689, Learning Rate: 0.0026072045694798185\n",
            "Training time:    26.2836 s\n",
            "Testing TransNAS_TSAD on SMAP\n"
          ]
        },
        {
          "output_type": "stream",
          "name": "stderr",
          "text": [
            "\n",
            "[I 2024-02-20 18:59:13,902] Trial 52 finished with values: [0.9444394479780467, 100851.0] and parameters: {'lr': 0.0026072045694798185, 'dropout_rate': 0.490028566897194, 'dim_feedforward': 69, 'batch': 96, 'encoder_layers': 1, 'decoder_layers': 3, 'activation_function': 'leaky_relu', 'time_warping': True, 'time_masking': False, 'gaussian_noise': 0.0001351656328348401, 'use_linear_embedding': False, 'phase_type': 'iterative', 'self_conditioning': False, 'layer_norm': True, 'positional_encoding_type': 'fourier', 'num_ffn_layers': 1}. \n",
            "/usr/local/lib/python3.10/dist-packages/torch/nn/modules/transformer.py:282: UserWarning: enable_nested_tensor is True, but self.use_nested_tensor is False because encoder_layer was not TransformerEncoderLayer\n",
            "  warnings.warn(f\"enable_nested_tensor is True, but self.use_nested_tensor is False because {why_not_sparsity_fast_path}\")\n"
          ]
        },
        {
          "output_type": "stream",
          "name": "stdout",
          "text": [
            "{'FN': 0,\n",
            " 'FP': 88,\n",
            " 'ROC/AUC': 0.9943277040092819,\n",
            " 'TN': 7669,\n",
            " 'TP': 748,\n",
            " 'f1': 0.9444394479780467,\n",
            " 'precision': 0.8947368314026695,\n",
            " 'recall': 0.9999999866310163,\n",
            " 'threshold': 0.2907546700758509}\n",
            "25\n",
            "Hyperparameters: {'lr': 0.005812322802663444, 'dropout_rate': 0.4363757490368405, 'dim_feedforward': 66, 'batch': 32, 'encoder_layers': 3, 'decoder_layers': 2, 'attention_type': 'scaled_dot_product', 'positional_encoding_type': 'fourier', 'phase_type': '2phase', 'gaussian_noise_std': 0.09211859278328965, 'time_warping': True, 'time_masking': True, 'self_conditioning': True, 'layer_norm': True, 'activation_function': 'tanh', 'use_linear_embedding': True, 'nhead': 25, 'num_ffn_layers': 1}\n",
            "Creating new model: TransNAS_TSAD\n",
            "Training TransNAS_TSAD on SMAP\n"
          ]
        },
        {
          "output_type": "stream",
          "name": "stderr",
          "text": [
            " 20%|██        | 1/5 [00:04<00:18,  4.64s/it]"
          ]
        },
        {
          "output_type": "stream",
          "name": "stdout",
          "text": [
            "Epoch 0, Loss: 0.9825283228508535, Learning Rate: 0.005812322802663444\n"
          ]
        },
        {
          "output_type": "stream",
          "name": "stderr",
          "text": [
            "\r 40%|████      | 2/5 [00:09<00:14,  4.81s/it]"
          ]
        },
        {
          "output_type": "stream",
          "name": "stdout",
          "text": [
            "Epoch 1, Loss: 0.9940494648298908, Learning Rate: 0.005812322802663444\n"
          ]
        },
        {
          "output_type": "stream",
          "name": "stderr",
          "text": [
            "\r 60%|██████    | 3/5 [00:14<00:09,  4.71s/it]"
          ]
        },
        {
          "output_type": "stream",
          "name": "stdout",
          "text": [
            "Epoch 2, Loss: 1.0011180025975095, Learning Rate: 0.005812322802663444\n"
          ]
        },
        {
          "output_type": "stream",
          "name": "stderr",
          "text": [
            "\r 80%|████████  | 4/5 [00:18<00:04,  4.63s/it]"
          ]
        },
        {
          "output_type": "stream",
          "name": "stdout",
          "text": [
            "Epoch 3, Loss: 1.0335410177761202, Learning Rate: 0.005812322802663444\n"
          ]
        },
        {
          "output_type": "stream",
          "name": "stderr",
          "text": [
            "100%|██████████| 5/5 [00:23<00:00,  4.70s/it]"
          ]
        },
        {
          "output_type": "stream",
          "name": "stdout",
          "text": [
            "Epoch 4, Loss: 1.040639319262038, Learning Rate: 0.005812322802663444\n",
            "Training time:    23.4891 s\n",
            "Testing TransNAS_TSAD on SMAP\n"
          ]
        },
        {
          "output_type": "stream",
          "name": "stderr",
          "text": [
            "\n",
            "[I 2024-02-20 18:59:44,791] Trial 53 finished with values: [0.7994115142507565, 163137.0] and parameters: {'lr': 0.005812322802663444, 'dropout_rate': 0.4363757490368405, 'dim_feedforward': 66, 'batch': 32, 'encoder_layers': 3, 'decoder_layers': 2, 'activation_function': 'tanh', 'time_warping': True, 'time_masking': True, 'gaussian_noise': 0.09211859278328965, 'use_linear_embedding': True, 'phase_type': '2phase', 'self_conditioning': True, 'layer_norm': True, 'positional_encoding_type': 'fourier', 'num_ffn_layers': 1}. \n",
            "/usr/local/lib/python3.10/dist-packages/torch/nn/modules/transformer.py:282: UserWarning: enable_nested_tensor is True, but self.use_nested_tensor is False because encoder_layer was not TransformerEncoderLayer\n",
            "  warnings.warn(f\"enable_nested_tensor is True, but self.use_nested_tensor is False because {why_not_sparsity_fast_path}\")\n"
          ]
        },
        {
          "output_type": "stream",
          "name": "stdout",
          "text": [
            "{'FN': 200,\n",
            " 'FP': 75,\n",
            " 'ROC/AUC': 0.8614758172539001,\n",
            " 'TN': 7682,\n",
            " 'TP': 548,\n",
            " 'f1': 0.7994115142507565,\n",
            " 'precision': 0.8796147531361999,\n",
            " 'recall': 0.7326203110612258,\n",
            " 'threshold': 1.2244016556179302}\n",
            "25\n",
            "Hyperparameters: {'lr': 0.003998714877487622, 'dropout_rate': 0.3025646422813635, 'dim_feedforward': 119, 'batch': 80, 'encoder_layers': 2, 'decoder_layers': 3, 'attention_type': 'scaled_dot_product', 'positional_encoding_type': 'fourier', 'phase_type': '2phase', 'gaussian_noise_std': 0.016883124090259754, 'time_warping': True, 'time_masking': False, 'self_conditioning': True, 'layer_norm': False, 'activation_function': 'sigmoid', 'use_linear_embedding': False, 'nhead': 25, 'num_ffn_layers': 3}\n",
            "Creating new model: TransNAS_TSAD\n",
            "Training TransNAS_TSAD on SMAP\n"
          ]
        },
        {
          "output_type": "stream",
          "name": "stderr",
          "text": [
            " 20%|██        | 1/5 [00:03<00:15,  3.99s/it]"
          ]
        },
        {
          "output_type": "stream",
          "name": "stdout",
          "text": [
            "Epoch 0, Loss: 0.0395526242475098, Learning Rate: 0.003998714877487622\n"
          ]
        },
        {
          "output_type": "stream",
          "name": "stderr",
          "text": [
            "\r 40%|████      | 2/5 [00:07<00:11,  3.78s/it]"
          ]
        },
        {
          "output_type": "stream",
          "name": "stdout",
          "text": [
            "Epoch 1, Loss: 0.024935525940796475, Learning Rate: 0.003998714877487622\n"
          ]
        },
        {
          "output_type": "stream",
          "name": "stderr",
          "text": [
            "\r 60%|██████    | 3/5 [00:11<00:07,  3.64s/it]"
          ]
        },
        {
          "output_type": "stream",
          "name": "stdout",
          "text": [
            "Epoch 2, Loss: 0.02484898113538996, Learning Rate: 0.003998714877487622\n"
          ]
        },
        {
          "output_type": "stream",
          "name": "stderr",
          "text": [
            "\r 80%|████████  | 4/5 [00:14<00:03,  3.65s/it]"
          ]
        },
        {
          "output_type": "stream",
          "name": "stdout",
          "text": [
            "Epoch 3, Loss: 0.024831046141266043, Learning Rate: 0.003998714877487622\n"
          ]
        },
        {
          "output_type": "stream",
          "name": "stderr",
          "text": [
            "100%|██████████| 5/5 [00:18<00:00,  3.73s/it]"
          ]
        },
        {
          "output_type": "stream",
          "name": "stdout",
          "text": [
            "Epoch 4, Loss: 0.02483103926925107, Learning Rate: 0.003998714877487622\n",
            "Training time:    18.6377 s\n",
            "Testing TransNAS_TSAD on SMAP\n"
          ]
        },
        {
          "output_type": "stream",
          "name": "stderr",
          "text": [
            "\n",
            "/content/drive/MyDrive/TransNAS_TSAD/src/spot.py:342: RuntimeWarning: overflow encountered in scalar divide\n",
            "  c = 2 * (Ymean - Ym) / (Ym ** 2)\n",
            "/content/drive/MyDrive/TransNAS_TSAD/src/spot.py:246: RuntimeWarning: invalid value encountered in scalar subtract\n",
            "  X0 = np.arange(bounds[0] + step, bounds[1], step)\n",
            "/content/drive/MyDrive/TransNAS_TSAD/src/spot.py:342: RuntimeWarning: divide by zero encountered in scalar divide\n",
            "  c = 2 * (Ymean - Ym) / (Ym ** 2)\n"
          ]
        },
        {
          "output_type": "stream",
          "name": "stdout",
          "text": [
            "Initialization timed out after 40 seconds. Last exception message: arange: cannot compute length\n"
          ]
        },
        {
          "output_type": "stream",
          "name": "stderr",
          "text": [
            "/content/drive/MyDrive/TransNAS_TSAD/src/spot.py:329: RuntimeWarning: overflow encountered in square\n",
            "  jac_vs = (1 / t) * (-vs + np.mean(1 / s ** 2))\n",
            "/content/drive/MyDrive/TransNAS_TSAD/src/spot.py:341: RuntimeWarning: divide by zero encountered in scalar divide\n",
            "  b = 2 * (Ymean - Ym) / (Ymean * Ym)\n",
            "/content/drive/MyDrive/TransNAS_TSAD/src/spot.py:342: RuntimeWarning: divide by zero encountered in scalar divide\n",
            "  c = 2 * (Ymean - Ym) / (Ym ** 2)\n",
            "/content/drive/MyDrive/TransNAS_TSAD/src/spot.py:243: RuntimeWarning: invalid value encountered in scalar subtract\n",
            "  step = (bounds[1] - bounds[0]) / (npoints + 1)\n"
          ]
        },
        {
          "output_type": "stream",
          "name": "stdout",
          "text": [
            "Initialization timed out after 40 seconds. Last exception message: arange: cannot compute length\n"
          ]
        },
        {
          "output_type": "stream",
          "name": "stderr",
          "text": [
            "/content/drive/MyDrive/TransNAS_TSAD/src/spot.py:329: RuntimeWarning: overflow encountered in square\n",
            "  jac_vs = (1 / t) * (-vs + np.mean(1 / s ** 2))\n",
            "/content/drive/MyDrive/TransNAS_TSAD/src/spot.py:329: RuntimeWarning: overflow encountered in square\n",
            "  jac_vs = (1 / t) * (-vs + np.mean(1 / s ** 2))\n",
            "/content/drive/MyDrive/TransNAS_TSAD/src/spot.py:342: RuntimeWarning: divide by zero encountered in scalar divide\n",
            "  c = 2 * (Ymean - Ym) / (Ym ** 2)\n",
            "/content/drive/MyDrive/TransNAS_TSAD/src/spot.py:246: RuntimeWarning: invalid value encountered in scalar subtract\n",
            "  X0 = np.arange(bounds[0] + step, bounds[1], step)\n"
          ]
        },
        {
          "output_type": "stream",
          "name": "stdout",
          "text": [
            "Initialization timed out after 40 seconds. Last exception message: arange: cannot compute length\n"
          ]
        },
        {
          "output_type": "stream",
          "name": "stderr",
          "text": [
            "/content/drive/MyDrive/TransNAS_TSAD/src/spot.py:329: RuntimeWarning: overflow encountered in square\n",
            "  jac_vs = (1 / t) * (-vs + np.mean(1 / s ** 2))\n",
            "/content/drive/MyDrive/TransNAS_TSAD/src/spot.py:393: RuntimeWarning: overflow encountered in scalar power\n",
            "  return self.init_threshold + (sigma / gamma) * (pow(r, -gamma) - 1)\n",
            "/content/drive/MyDrive/TransNAS_TSAD/src/spot.py:342: RuntimeWarning: divide by zero encountered in scalar divide\n",
            "  c = 2 * (Ymean - Ym) / (Ym ** 2)\n",
            "/content/drive/MyDrive/TransNAS_TSAD/src/spot.py:246: RuntimeWarning: invalid value encountered in scalar subtract\n",
            "  X0 = np.arange(bounds[0] + step, bounds[1], step)\n"
          ]
        },
        {
          "output_type": "stream",
          "name": "stdout",
          "text": [
            "Initialization timed out after 40 seconds. Last exception message: arange: cannot compute length\n"
          ]
        },
        {
          "output_type": "stream",
          "name": "stderr",
          "text": [
            "/content/drive/MyDrive/TransNAS_TSAD/src/spot.py:329: RuntimeWarning: overflow encountered in square\n",
            "  jac_vs = (1 / t) * (-vs + np.mean(1 / s ** 2))\n",
            "/content/drive/MyDrive/TransNAS_TSAD/src/spot.py:393: RuntimeWarning: overflow encountered in scalar power\n",
            "  return self.init_threshold + (sigma / gamma) * (pow(r, -gamma) - 1)\n",
            "/content/drive/MyDrive/TransNAS_TSAD/src/spot.py:329: RuntimeWarning: overflow encountered in square\n",
            "  jac_vs = (1 / t) * (-vs + np.mean(1 / s ** 2))\n",
            "/content/drive/MyDrive/TransNAS_TSAD/src/spot.py:393: RuntimeWarning: overflow encountered in scalar power\n",
            "  return self.init_threshold + (sigma / gamma) * (pow(r, -gamma) - 1)\n",
            "/content/drive/MyDrive/TransNAS_TSAD/src/spot.py:329: RuntimeWarning: overflow encountered in square\n",
            "  jac_vs = (1 / t) * (-vs + np.mean(1 / s ** 2))\n",
            "/content/drive/MyDrive/TransNAS_TSAD/src/spot.py:341: RuntimeWarning: divide by zero encountered in scalar divide\n",
            "  b = 2 * (Ymean - Ym) / (Ymean * Ym)\n",
            "/content/drive/MyDrive/TransNAS_TSAD/src/spot.py:342: RuntimeWarning: divide by zero encountered in scalar divide\n",
            "  c = 2 * (Ymean - Ym) / (Ym ** 2)\n",
            "/content/drive/MyDrive/TransNAS_TSAD/src/spot.py:243: RuntimeWarning: invalid value encountered in scalar subtract\n",
            "  step = (bounds[1] - bounds[0]) / (npoints + 1)\n",
            "[I 2024-02-20 19:03:27,588] Trial 54 finished with values: [0.7503643201607041, 433731.0] and parameters: {'lr': 0.003998714877487622, 'dropout_rate': 0.3025646422813635, 'dim_feedforward': 119, 'batch': 80, 'encoder_layers': 2, 'decoder_layers': 3, 'activation_function': 'sigmoid', 'time_warping': True, 'time_masking': False, 'gaussian_noise': 0.016883124090259754, 'use_linear_embedding': False, 'phase_type': '2phase', 'self_conditioning': True, 'layer_norm': False, 'positional_encoding_type': 'fourier', 'num_ffn_layers': 3}. \n",
            "/usr/local/lib/python3.10/dist-packages/torch/nn/modules/transformer.py:282: UserWarning: enable_nested_tensor is True, but self.use_nested_tensor is False because encoder_layer was not TransformerEncoderLayer\n",
            "  warnings.warn(f\"enable_nested_tensor is True, but self.use_nested_tensor is False because {why_not_sparsity_fast_path}\")\n"
          ]
        },
        {
          "output_type": "stream",
          "name": "stdout",
          "text": [
            "Initialization timed out after 40 seconds. Last exception message: arange: cannot compute length\n",
            "{'FN': 240,\n",
            " 'FP': 98,\n",
            " 'ROC/AUC': 0.8332553174327967,\n",
            " 'TN': 7659,\n",
            " 'TP': 508,\n",
            " 'f1': 0.7503643201607041,\n",
            " 'precision': 0.8382838145497721,\n",
            " 'recall': 0.6791443759472677,\n",
            " 'threshold': 0.2567840330202476}\n",
            "25\n",
            "Hyperparameters: {'lr': 0.005296315355644237, 'dropout_rate': 0.28144821973196754, 'dim_feedforward': 112, 'batch': 64, 'encoder_layers': 2, 'decoder_layers': 2, 'attention_type': 'scaled_dot_product', 'positional_encoding_type': 'fourier', 'phase_type': 'iterative', 'gaussian_noise_std': 0.003144624074250713, 'time_warping': False, 'time_masking': True, 'self_conditioning': False, 'layer_norm': False, 'activation_function': 'sigmoid', 'use_linear_embedding': True, 'nhead': 25, 'num_ffn_layers': 3}\n",
            "Creating new model: TransNAS_TSAD\n",
            "Training TransNAS_TSAD on SMAP\n"
          ]
        },
        {
          "output_type": "stream",
          "name": "stderr",
          "text": [
            " 20%|██        | 1/5 [00:09<00:39,  9.89s/it]"
          ]
        },
        {
          "output_type": "stream",
          "name": "stdout",
          "text": [
            "Epoch 0, Loss: 0.032889679397084585, Learning Rate: 0.005296315355644237\n"
          ]
        },
        {
          "output_type": "stream",
          "name": "stderr",
          "text": [
            "\r 40%|████      | 2/5 [00:19<00:29,  9.96s/it]"
          ]
        },
        {
          "output_type": "stream",
          "name": "stdout",
          "text": [
            "Epoch 1, Loss: 0.024846147341105965, Learning Rate: 0.005296315355644237\n"
          ]
        },
        {
          "output_type": "stream",
          "name": "stderr",
          "text": [
            "\r 60%|██████    | 3/5 [00:29<00:19,  9.89s/it]"
          ]
        },
        {
          "output_type": "stream",
          "name": "stdout",
          "text": [
            "Epoch 2, Loss: 0.024846158797709468, Learning Rate: 0.005296315355644237\n"
          ]
        },
        {
          "output_type": "stream",
          "name": "stderr",
          "text": [
            "\r 80%|████████  | 4/5 [00:39<00:09,  9.83s/it]"
          ]
        },
        {
          "output_type": "stream",
          "name": "stdout",
          "text": [
            "Epoch 3, Loss: 0.02484615467445336, Learning Rate: 0.005296315355644237\n"
          ]
        },
        {
          "output_type": "stream",
          "name": "stderr",
          "text": [
            "100%|██████████| 5/5 [00:49<00:00,  9.87s/it]"
          ]
        },
        {
          "output_type": "stream",
          "name": "stdout",
          "text": [
            "Epoch 4, Loss: 0.024846158850173945, Learning Rate: 0.005296315355644237\n",
            "Training time:    49.3662 s\n",
            "Testing TransNAS_TSAD on SMAP\n"
          ]
        },
        {
          "output_type": "stream",
          "name": "stderr",
          "text": [
            "\n",
            "/content/drive/MyDrive/TransNAS_TSAD/src/spot.py:393: RuntimeWarning: overflow encountered in scalar power\n",
            "  return self.init_threshold + (sigma / gamma) * (pow(r, -gamma) - 1)\n",
            "/content/drive/MyDrive/TransNAS_TSAD/src/spot.py:393: RuntimeWarning: overflow encountered in scalar power\n",
            "  return self.init_threshold + (sigma / gamma) * (pow(r, -gamma) - 1)\n",
            "/content/drive/MyDrive/TransNAS_TSAD/src/spot.py:393: RuntimeWarning: overflow encountered in scalar power\n",
            "  return self.init_threshold + (sigma / gamma) * (pow(r, -gamma) - 1)\n",
            "/content/drive/MyDrive/TransNAS_TSAD/src/spot.py:393: RuntimeWarning: overflow encountered in scalar power\n",
            "  return self.init_threshold + (sigma / gamma) * (pow(r, -gamma) - 1)\n",
            "/content/drive/MyDrive/TransNAS_TSAD/src/spot.py:393: RuntimeWarning: overflow encountered in scalar power\n",
            "  return self.init_threshold + (sigma / gamma) * (pow(r, -gamma) - 1)\n",
            "/content/drive/MyDrive/TransNAS_TSAD/src/spot.py:329: RuntimeWarning: overflow encountered in square\n",
            "  jac_vs = (1 / t) * (-vs + np.mean(1 / s ** 2))\n",
            "/content/drive/MyDrive/TransNAS_TSAD/src/spot.py:393: RuntimeWarning: overflow encountered in scalar power\n",
            "  return self.init_threshold + (sigma / gamma) * (pow(r, -gamma) - 1)\n",
            "/content/drive/MyDrive/TransNAS_TSAD/src/spot.py:329: RuntimeWarning: overflow encountered in square\n",
            "  jac_vs = (1 / t) * (-vs + np.mean(1 / s ** 2))\n",
            "[I 2024-02-20 19:04:36,327] Trial 55 finished with values: [0.745956858328411, 201369.0] and parameters: {'lr': 0.005296315355644237, 'dropout_rate': 0.28144821973196754, 'dim_feedforward': 112, 'batch': 64, 'encoder_layers': 2, 'decoder_layers': 2, 'activation_function': 'sigmoid', 'time_warping': False, 'time_masking': True, 'gaussian_noise': 0.003144624074250713, 'use_linear_embedding': True, 'phase_type': 'iterative', 'self_conditioning': False, 'layer_norm': False, 'positional_encoding_type': 'fourier', 'num_ffn_layers': 3}. \n",
            "/usr/local/lib/python3.10/dist-packages/torch/nn/modules/transformer.py:282: UserWarning: enable_nested_tensor is True, but self.use_nested_tensor is False because encoder_layer was not TransformerEncoderLayer\n",
            "  warnings.warn(f\"enable_nested_tensor is True, but self.use_nested_tensor is False because {why_not_sparsity_fast_path}\")\n"
          ]
        },
        {
          "output_type": "stream",
          "name": "stdout",
          "text": [
            "{'FN': 240,\n",
            " 'FP': 106,\n",
            " 'ROC/AUC': 0.8327396541609132,\n",
            " 'TN': 7651,\n",
            " 'TP': 508,\n",
            " 'f1': 0.745956858328411,\n",
            " 'precision': 0.8273615500429715,\n",
            " 'recall': 0.6791443759472677,\n",
            " 'threshold': 0.2567840330202476}\n",
            "25\n",
            "Hyperparameters: {'lr': 0.0015330469159371858, 'dropout_rate': 0.2742957921126782, 'dim_feedforward': 38, 'batch': 64, 'encoder_layers': 2, 'decoder_layers': 3, 'attention_type': 'scaled_dot_product', 'positional_encoding_type': 'fourier', 'phase_type': 'iterative', 'gaussian_noise_std': 0.0021252025888927467, 'time_warping': False, 'time_masking': True, 'self_conditioning': False, 'layer_norm': False, 'activation_function': 'relu', 'use_linear_embedding': True, 'nhead': 25, 'num_ffn_layers': 1}\n",
            "Creating new model: TransNAS_TSAD\n",
            "Training TransNAS_TSAD on SMAP\n"
          ]
        },
        {
          "output_type": "stream",
          "name": "stderr",
          "text": [
            " 20%|██        | 1/5 [00:08<00:32,  8.24s/it]"
          ]
        },
        {
          "output_type": "stream",
          "name": "stdout",
          "text": [
            "Epoch 0, Loss: 0.05774225280564061, Learning Rate: 0.0015330469159371858\n"
          ]
        },
        {
          "output_type": "stream",
          "name": "stderr",
          "text": [
            "\r 40%|████      | 2/5 [00:16<00:25,  8.43s/it]"
          ]
        },
        {
          "output_type": "stream",
          "name": "stdout",
          "text": [
            "Epoch 1, Loss: 0.01715905978919894, Learning Rate: 0.0015330469159371858\n"
          ]
        },
        {
          "output_type": "stream",
          "name": "stderr",
          "text": [
            "\r 60%|██████    | 3/5 [00:25<00:16,  8.48s/it]"
          ]
        },
        {
          "output_type": "stream",
          "name": "stdout",
          "text": [
            "Epoch 2, Loss: 0.01273048491483791, Learning Rate: 0.0015330469159371858\n"
          ]
        },
        {
          "output_type": "stream",
          "name": "stderr",
          "text": [
            "\r 80%|████████  | 4/5 [00:33<00:08,  8.34s/it]"
          ]
        },
        {
          "output_type": "stream",
          "name": "stdout",
          "text": [
            "Epoch 3, Loss: 0.008720896805529656, Learning Rate: 0.0015330469159371858\n"
          ]
        },
        {
          "output_type": "stream",
          "name": "stderr",
          "text": [
            "100%|██████████| 5/5 [00:42<00:00,  8.43s/it]"
          ]
        },
        {
          "output_type": "stream",
          "name": "stdout",
          "text": [
            "Epoch 4, Loss: 0.006080744134905114, Learning Rate: 0.0015330469159371858\n",
            "Training time:    42.1345 s\n",
            "Testing TransNAS_TSAD on SMAP\n"
          ]
        },
        {
          "output_type": "stream",
          "name": "stderr",
          "text": [
            "\n",
            "[I 2024-02-20 19:05:32,529] Trial 56 finished with values: [0.7789573401663761, 104865.0] and parameters: {'lr': 0.0015330469159371858, 'dropout_rate': 0.2742957921126782, 'dim_feedforward': 38, 'batch': 64, 'encoder_layers': 2, 'decoder_layers': 3, 'activation_function': 'relu', 'time_warping': False, 'time_masking': True, 'gaussian_noise': 0.0021252025888927467, 'use_linear_embedding': True, 'phase_type': 'iterative', 'self_conditioning': False, 'layer_norm': False, 'positional_encoding_type': 'fourier', 'num_ffn_layers': 1}. \n",
            "/usr/local/lib/python3.10/dist-packages/torch/nn/modules/transformer.py:282: UserWarning: enable_nested_tensor is True, but self.use_nested_tensor is False because encoder_layer was not TransformerEncoderLayer\n",
            "  warnings.warn(f\"enable_nested_tensor is True, but self.use_nested_tensor is False because {why_not_sparsity_fast_path}\")\n"
          ]
        },
        {
          "output_type": "stream",
          "name": "stdout",
          "text": [
            "{'FN': 200,\n",
            " 'FP': 111,\n",
            " 'ROC/AUC': 0.8591553325304244,\n",
            " 'TN': 7646,\n",
            " 'TP': 548,\n",
            " 'f1': 0.7789573401663761,\n",
            " 'precision': 0.8315629615847806,\n",
            " 'recall': 0.7326203110612258,\n",
            " 'threshold': 0.08285441485031357}\n",
            "25\n",
            "Hyperparameters: {'lr': 0.0068926179209177025, 'dropout_rate': 0.34960030500764, 'dim_feedforward': 59, 'batch': 64, 'encoder_layers': 3, 'decoder_layers': 1, 'attention_type': 'scaled_dot_product', 'positional_encoding_type': 'sinusoidal', 'phase_type': '2phase', 'gaussian_noise_std': 0.0034709750700357453, 'time_warping': False, 'time_masking': True, 'self_conditioning': True, 'layer_norm': False, 'activation_function': 'leaky_relu', 'use_linear_embedding': True, 'nhead': 25, 'num_ffn_layers': 1}\n",
            "Creating new model: TransNAS_TSAD\n",
            "Training TransNAS_TSAD on SMAP\n"
          ]
        },
        {
          "output_type": "stream",
          "name": "stderr",
          "text": [
            " 20%|██        | 1/5 [00:02<00:10,  2.59s/it]"
          ]
        },
        {
          "output_type": "stream",
          "name": "stdout",
          "text": [
            "Epoch 0, Loss: 0.014665413846378397, Learning Rate: 0.0068926179209177025\n"
          ]
        },
        {
          "output_type": "stream",
          "name": "stderr",
          "text": [
            "\r 40%|████      | 2/5 [00:05<00:08,  2.83s/it]"
          ]
        },
        {
          "output_type": "stream",
          "name": "stdout",
          "text": [
            "Epoch 1, Loss: 0.006351282544699668, Learning Rate: 0.0068926179209177025\n"
          ]
        },
        {
          "output_type": "stream",
          "name": "stderr",
          "text": [
            "\r 60%|██████    | 3/5 [00:08<00:05,  2.73s/it]"
          ]
        },
        {
          "output_type": "stream",
          "name": "stdout",
          "text": [
            "Epoch 2, Loss: 0.0027620114871567216, Learning Rate: 0.0068926179209177025\n"
          ]
        },
        {
          "output_type": "stream",
          "name": "stderr",
          "text": [
            "\r 80%|████████  | 4/5 [00:10<00:02,  2.68s/it]"
          ]
        },
        {
          "output_type": "stream",
          "name": "stdout",
          "text": [
            "Epoch 3, Loss: 0.0018955084978725051, Learning Rate: 0.0068926179209177025\n"
          ]
        },
        {
          "output_type": "stream",
          "name": "stderr",
          "text": [
            "100%|██████████| 5/5 [00:13<00:00,  2.68s/it]"
          ]
        },
        {
          "output_type": "stream",
          "name": "stdout",
          "text": [
            "Epoch 4, Loss: 0.001510966421495872, Learning Rate: 0.0068926179209177025\n",
            "Training time:    13.4189 s\n",
            "Testing TransNAS_TSAD on SMAP\n"
          ]
        },
        {
          "output_type": "stream",
          "name": "stderr",
          "text": [
            "\n",
            "[I 2024-02-20 19:05:49,236] Trial 57 finished with values: [0.7616142527555747, 105270.0] and parameters: {'lr': 0.0068926179209177025, 'dropout_rate': 0.34960030500764, 'dim_feedforward': 59, 'batch': 64, 'encoder_layers': 3, 'decoder_layers': 1, 'activation_function': 'leaky_relu', 'time_warping': False, 'time_masking': True, 'gaussian_noise': 0.0034709750700357453, 'use_linear_embedding': True, 'phase_type': '2phase', 'self_conditioning': True, 'layer_norm': False, 'positional_encoding_type': 'sinusoidal', 'num_ffn_layers': 1}. \n",
            "/usr/local/lib/python3.10/dist-packages/torch/nn/modules/transformer.py:282: UserWarning: enable_nested_tensor is True, but self.use_nested_tensor is False because encoder_layer was not TransformerEncoderLayer\n",
            "  warnings.warn(f\"enable_nested_tensor is True, but self.use_nested_tensor is False because {why_not_sparsity_fast_path}\")\n"
          ]
        },
        {
          "output_type": "stream",
          "name": "stdout",
          "text": [
            "{'FN': 240,\n",
            " 'FP': 78,\n",
            " 'ROC/AUC': 0.8345444756125052,\n",
            " 'TN': 7679,\n",
            " 'TP': 508,\n",
            " 'f1': 0.7616142527555747,\n",
            " 'precision': 0.8668941831588024,\n",
            " 'recall': 0.6791443759472677,\n",
            " 'threshold': 0.04108730779375506}\n",
            "25\n",
            "Hyperparameters: {'lr': 0.0015858495544989377, 'dropout_rate': 0.15755218736118393, 'dim_feedforward': 101, 'batch': 64, 'encoder_layers': 1, 'decoder_layers': 3, 'attention_type': 'scaled_dot_product', 'positional_encoding_type': 'fourier', 'phase_type': 'iterative', 'gaussian_noise_std': 0.002097308720032317, 'time_warping': False, 'time_masking': True, 'self_conditioning': False, 'layer_norm': True, 'activation_function': 'sigmoid', 'use_linear_embedding': False, 'nhead': 25, 'num_ffn_layers': 1}\n",
            "Creating new model: TransNAS_TSAD\n",
            "Training TransNAS_TSAD on SMAP\n"
          ]
        },
        {
          "output_type": "stream",
          "name": "stderr",
          "text": [
            " 20%|██        | 1/5 [00:06<00:26,  6.65s/it]"
          ]
        },
        {
          "output_type": "stream",
          "name": "stdout",
          "text": [
            "Epoch 0, Loss: 0.03815077405085953, Learning Rate: 0.0015858495544989377\n"
          ]
        },
        {
          "output_type": "stream",
          "name": "stderr",
          "text": [
            "\r 40%|████      | 2/5 [00:13<00:20,  6.78s/it]"
          ]
        },
        {
          "output_type": "stream",
          "name": "stdout",
          "text": [
            "Epoch 1, Loss: 0.013098921542304826, Learning Rate: 0.0015858495544989377\n"
          ]
        },
        {
          "output_type": "stream",
          "name": "stderr",
          "text": [
            "\r 60%|██████    | 3/5 [00:20<00:13,  6.66s/it]"
          ]
        },
        {
          "output_type": "stream",
          "name": "stdout",
          "text": [
            "Epoch 2, Loss: 0.009801527094042837, Learning Rate: 0.0015858495544989377\n"
          ]
        },
        {
          "output_type": "stream",
          "name": "stderr",
          "text": [
            "\r 80%|████████  | 4/5 [00:27<00:06,  6.86s/it]"
          ]
        },
        {
          "output_type": "stream",
          "name": "stdout",
          "text": [
            "Epoch 3, Loss: 0.006456532405197189, Learning Rate: 0.0015858495544989377\n"
          ]
        },
        {
          "output_type": "stream",
          "name": "stderr",
          "text": [
            "100%|██████████| 5/5 [00:33<00:00,  6.76s/it]"
          ]
        },
        {
          "output_type": "stream",
          "name": "stdout",
          "text": [
            "Epoch 4, Loss: 0.004986425511915909, Learning Rate: 0.0015858495544989377\n",
            "Training time:    33.8135 s\n",
            "Testing TransNAS_TSAD on SMAP\n"
          ]
        },
        {
          "output_type": "stream",
          "name": "stderr",
          "text": [
            "\n",
            "[I 2024-02-20 19:06:32,647] Trial 58 finished with values: [0.7691093834785223, 113779.0] and parameters: {'lr': 0.0015858495544989377, 'dropout_rate': 0.15755218736118393, 'dim_feedforward': 101, 'batch': 64, 'encoder_layers': 1, 'decoder_layers': 3, 'activation_function': 'sigmoid', 'time_warping': False, 'time_masking': True, 'gaussian_noise': 0.002097308720032317, 'use_linear_embedding': False, 'phase_type': 'iterative', 'self_conditioning': False, 'layer_norm': True, 'positional_encoding_type': 'fourier', 'num_ffn_layers': 1}. \n",
            "/usr/local/lib/python3.10/dist-packages/torch/nn/modules/transformer.py:282: UserWarning: enable_nested_tensor is True, but self.use_nested_tensor is False because encoder_layer was not TransformerEncoderLayer\n",
            "  warnings.warn(f\"enable_nested_tensor is True, but self.use_nested_tensor is False because {why_not_sparsity_fast_path}\")\n"
          ]
        },
        {
          "output_type": "stream",
          "name": "stdout",
          "text": [
            "{'FN': 240,\n",
            " 'FP': 65,\n",
            " 'ROC/AUC': 0.8353824284293159,\n",
            " 'TN': 7692,\n",
            " 'TP': 508,\n",
            " 'f1': 0.7691093834785223,\n",
            " 'precision': 0.8865619391524967,\n",
            " 'recall': 0.6791443759472677,\n",
            " 'threshold': 0.08290554575006474}\n",
            "25\n",
            "Hyperparameters: {'lr': 0.004803825858484501, 'dropout_rate': 0.1467400325789474, 'dim_feedforward': 111, 'batch': 16, 'encoder_layers': 1, 'decoder_layers': 3, 'attention_type': 'scaled_dot_product', 'positional_encoding_type': 'sinusoidal', 'phase_type': 'iterative', 'gaussian_noise_std': 0.06225910401350713, 'time_warping': True, 'time_masking': False, 'self_conditioning': True, 'layer_norm': False, 'activation_function': 'sigmoid', 'use_linear_embedding': False, 'nhead': 25, 'num_ffn_layers': 1}\n",
            "Creating new model: TransNAS_TSAD\n",
            "Training TransNAS_TSAD on SMAP\n"
          ]
        },
        {
          "output_type": "stream",
          "name": "stderr",
          "text": [
            " 20%|██        | 1/5 [00:15<01:01, 15.43s/it]"
          ]
        },
        {
          "output_type": "stream",
          "name": "stdout",
          "text": [
            "Epoch 0, Loss: 0.02721606515934282, Learning Rate: 0.004803825858484501\n"
          ]
        },
        {
          "output_type": "stream",
          "name": "stderr",
          "text": [
            "\r 40%|████      | 2/5 [00:31<00:46, 15.60s/it]"
          ]
        },
        {
          "output_type": "stream",
          "name": "stdout",
          "text": [
            "Epoch 1, Loss: 0.024847260507864316, Learning Rate: 0.004803825858484501\n"
          ]
        },
        {
          "output_type": "stream",
          "name": "stderr",
          "text": [
            "\r 60%|██████    | 3/5 [00:46<00:31, 15.60s/it]"
          ]
        },
        {
          "output_type": "stream",
          "name": "stdout",
          "text": [
            "Epoch 2, Loss: 0.024800804130610653, Learning Rate: 0.004803825858484501\n"
          ]
        },
        {
          "output_type": "stream",
          "name": "stderr",
          "text": [
            "\r 80%|████████  | 4/5 [01:01<00:15, 15.40s/it]"
          ]
        },
        {
          "output_type": "stream",
          "name": "stdout",
          "text": [
            "Epoch 3, Loss: 0.02480080412698618, Learning Rate: 0.004803825858484501\n"
          ]
        },
        {
          "output_type": "stream",
          "name": "stderr",
          "text": [
            "100%|██████████| 5/5 [01:17<00:00, 15.47s/it]"
          ]
        },
        {
          "output_type": "stream",
          "name": "stdout",
          "text": [
            "Epoch 4, Loss: 0.024800788841609654, Learning Rate: 0.004803825858484501\n",
            "Training time:    77.3343 s\n",
            "Testing TransNAS_TSAD on SMAP\n"
          ]
        },
        {
          "output_type": "stream",
          "name": "stderr",
          "text": [
            "\n",
            "/content/drive/MyDrive/TransNAS_TSAD/src/spot.py:329: RuntimeWarning: overflow encountered in square\n",
            "  jac_vs = (1 / t) * (-vs + np.mean(1 / s ** 2))\n",
            "/content/drive/MyDrive/TransNAS_TSAD/src/spot.py:393: RuntimeWarning: overflow encountered in scalar power\n",
            "  return self.init_threshold + (sigma / gamma) * (pow(r, -gamma) - 1)\n",
            "/content/drive/MyDrive/TransNAS_TSAD/src/spot.py:329: RuntimeWarning: overflow encountered in square\n",
            "  jac_vs = (1 / t) * (-vs + np.mean(1 / s ** 2))\n",
            "/content/drive/MyDrive/TransNAS_TSAD/src/spot.py:342: RuntimeWarning: divide by zero encountered in scalar divide\n",
            "  c = 2 * (Ymean - Ym) / (Ym ** 2)\n",
            "/content/drive/MyDrive/TransNAS_TSAD/src/spot.py:246: RuntimeWarning: invalid value encountered in scalar subtract\n",
            "  X0 = np.arange(bounds[0] + step, bounds[1], step)\n",
            "/content/drive/MyDrive/TransNAS_TSAD/src/spot.py:341: RuntimeWarning: overflow encountered in scalar divide\n",
            "  b = 2 * (Ymean - Ym) / (Ymean * Ym)\n",
            "/content/drive/MyDrive/TransNAS_TSAD/src/spot.py:243: RuntimeWarning: invalid value encountered in scalar subtract\n",
            "  step = (bounds[1] - bounds[0]) / (npoints + 1)\n",
            "/content/drive/MyDrive/TransNAS_TSAD/src/spot.py:341: RuntimeWarning: divide by zero encountered in scalar divide\n",
            "  b = 2 * (Ymean - Ym) / (Ymean * Ym)\n",
            "[W 2024-02-20 19:08:38,948] Trial 59 failed with parameters: {'lr': 0.004803825858484501, 'dropout_rate': 0.1467400325789474, 'dim_feedforward': 111, 'batch': 16, 'encoder_layers': 1, 'decoder_layers': 3, 'activation_function': 'sigmoid', 'time_warping': True, 'time_masking': False, 'gaussian_noise': 0.06225910401350713, 'use_linear_embedding': False, 'phase_type': 'iterative', 'self_conditioning': True, 'layer_norm': False, 'positional_encoding_type': 'sinusoidal', 'num_ffn_layers': 1} because of the following error: The value {'f1': 0.0, 'num_params': inf} could not be cast to float.\n",
            "[W 2024-02-20 19:08:38,949] Trial 59 failed with value {'f1': 0.0, 'num_params': inf}.\n",
            "/usr/local/lib/python3.10/dist-packages/torch/nn/modules/transformer.py:282: UserWarning: enable_nested_tensor is True, but self.use_nested_tensor is False because encoder_layer was not TransformerEncoderLayer\n",
            "  warnings.warn(f\"enable_nested_tensor is True, but self.use_nested_tensor is False because {why_not_sparsity_fast_path}\")\n"
          ]
        },
        {
          "output_type": "stream",
          "name": "stdout",
          "text": [
            "Initialization timed out after 40 seconds. Last exception message: arange: cannot compute length\n",
            "An exception occurred: unsupported operand type(s) for +: 'NoneType' and 'NoneType'\n",
            "25\n",
            "Hyperparameters: {'lr': 0.0009595425445841162, 'dropout_rate': 0.2738732337575882, 'dim_feedforward': 111, 'batch': 128, 'encoder_layers': 2, 'decoder_layers': 2, 'attention_type': 'scaled_dot_product', 'positional_encoding_type': 'fourier', 'phase_type': 'iterative', 'gaussian_noise_std': 0.00029527247065017873, 'time_warping': False, 'time_masking': False, 'self_conditioning': False, 'layer_norm': False, 'activation_function': 'leaky_relu', 'use_linear_embedding': True, 'nhead': 25, 'num_ffn_layers': 3}\n",
            "Creating new model: TransNAS_TSAD\n",
            "Training TransNAS_TSAD on SMAP\n"
          ]
        },
        {
          "output_type": "stream",
          "name": "stderr",
          "text": [
            " 20%|██        | 1/5 [00:07<00:30,  7.74s/it]"
          ]
        },
        {
          "output_type": "stream",
          "name": "stdout",
          "text": [
            "Epoch 0, Loss: 0.04975473360221511, Learning Rate: 0.0009595425445841162\n"
          ]
        },
        {
          "output_type": "stream",
          "name": "stderr",
          "text": [
            "\r 40%|████      | 2/5 [00:15<00:23,  7.93s/it]"
          ]
        },
        {
          "output_type": "stream",
          "name": "stdout",
          "text": [
            "Epoch 1, Loss: 0.024456833496471743, Learning Rate: 0.0009595425445841162\n"
          ]
        },
        {
          "output_type": "stream",
          "name": "stderr",
          "text": [
            "\r 60%|██████    | 3/5 [00:22<00:15,  7.55s/it]"
          ]
        },
        {
          "output_type": "stream",
          "name": "stdout",
          "text": [
            "Epoch 2, Loss: 0.01666332344249066, Learning Rate: 0.0009595425445841162\n"
          ]
        },
        {
          "output_type": "stream",
          "name": "stderr",
          "text": [
            "\r 80%|████████  | 4/5 [00:30<00:07,  7.61s/it]"
          ]
        },
        {
          "output_type": "stream",
          "name": "stdout",
          "text": [
            "Epoch 3, Loss: 0.011825827397249855, Learning Rate: 0.0009595425445841162\n"
          ]
        },
        {
          "output_type": "stream",
          "name": "stderr",
          "text": [
            "100%|██████████| 5/5 [00:38<00:00,  7.68s/it]"
          ]
        },
        {
          "output_type": "stream",
          "name": "stdout",
          "text": [
            "Epoch 4, Loss: 0.008036734247324233, Learning Rate: 0.0009595425445841162\n",
            "Training time:    38.3918 s\n",
            "Testing TransNAS_TSAD on SMAP\n"
          ]
        },
        {
          "output_type": "stream",
          "name": "stderr",
          "text": [
            "\n",
            "[I 2024-02-20 19:09:35,461] Trial 60 finished with values: [0.7679466990120394, 200157.0] and parameters: {'lr': 0.0009595425445841162, 'dropout_rate': 0.2738732337575882, 'dim_feedforward': 111, 'batch': 128, 'encoder_layers': 2, 'decoder_layers': 2, 'activation_function': 'leaky_relu', 'time_warping': False, 'time_masking': False, 'gaussian_noise': 0.00029527247065017873, 'use_linear_embedding': True, 'phase_type': 'iterative', 'self_conditioning': False, 'layer_norm': False, 'positional_encoding_type': 'fourier', 'num_ffn_layers': 3}. \n",
            "/usr/local/lib/python3.10/dist-packages/torch/nn/modules/transformer.py:282: UserWarning: enable_nested_tensor is True, but self.use_nested_tensor is False because encoder_layer was not TransformerEncoderLayer\n",
            "  warnings.warn(f\"enable_nested_tensor is True, but self.use_nested_tensor is False because {why_not_sparsity_fast_path}\")\n"
          ]
        },
        {
          "output_type": "stream",
          "name": "stdout",
          "text": [
            "{'FN': 240,\n",
            " 'FP': 67,\n",
            " 'ROC/AUC': 0.835253512611345,\n",
            " 'TN': 7690,\n",
            " 'TP': 508,\n",
            " 'f1': 0.7679466990120394,\n",
            " 'precision': 0.8834782455047262,\n",
            " 'recall': 0.6791443759472677,\n",
            " 'threshold': 0.0866207326167735}\n",
            "25\n",
            "Hyperparameters: {'lr': 0.0016631076921454545, 'dropout_rate': 0.29963967097323696, 'dim_feedforward': 73, 'batch': 16, 'encoder_layers': 1, 'decoder_layers': 1, 'attention_type': 'scaled_dot_product', 'positional_encoding_type': 'fourier', 'phase_type': 'iterative', 'gaussian_noise_std': 0.05849885372507493, 'time_warping': True, 'time_masking': False, 'self_conditioning': False, 'layer_norm': True, 'activation_function': 'leaky_relu', 'use_linear_embedding': False, 'nhead': 25, 'num_ffn_layers': 3}\n",
            "Creating new model: TransNAS_TSAD\n",
            "Training TransNAS_TSAD on SMAP\n"
          ]
        },
        {
          "output_type": "stream",
          "name": "stderr",
          "text": [
            " 20%|██        | 1/5 [00:11<00:45, 11.33s/it]"
          ]
        },
        {
          "output_type": "stream",
          "name": "stdout",
          "text": [
            "Epoch 0, Loss: 0.039046643081639736, Learning Rate: 0.0016631076921454545\n"
          ]
        },
        {
          "output_type": "stream",
          "name": "stderr",
          "text": [
            "\r 40%|████      | 2/5 [00:22<00:34, 11.35s/it]"
          ]
        },
        {
          "output_type": "stream",
          "name": "stdout",
          "text": [
            "Epoch 1, Loss: 0.019061615029777396, Learning Rate: 0.0016631076921454545\n"
          ]
        },
        {
          "output_type": "stream",
          "name": "stderr",
          "text": [
            "\r 60%|██████    | 3/5 [00:33<00:22, 11.27s/it]"
          ]
        },
        {
          "output_type": "stream",
          "name": "stdout",
          "text": [
            "Epoch 2, Loss: 0.01324795205704386, Learning Rate: 0.0016631076921454545\n"
          ]
        },
        {
          "output_type": "stream",
          "name": "stderr",
          "text": [
            "\r 80%|████████  | 4/5 [00:45<00:11, 11.24s/it]"
          ]
        },
        {
          "output_type": "stream",
          "name": "stdout",
          "text": [
            "Epoch 3, Loss: 0.009481430302498671, Learning Rate: 0.0016631076921454545\n"
          ]
        },
        {
          "output_type": "stream",
          "name": "stderr",
          "text": [
            "100%|██████████| 5/5 [00:56<00:00, 11.29s/it]"
          ]
        },
        {
          "output_type": "stream",
          "name": "stdout",
          "text": [
            "Epoch 4, Loss: 0.006374884260299691, Learning Rate: 0.0016631076921454545\n",
            "Training time:    56.4618 s\n",
            "Testing TransNAS_TSAD on SMAP\n"
          ]
        },
        {
          "output_type": "stream",
          "name": "stderr",
          "text": [
            "\n",
            "[I 2024-02-20 19:10:40,746] Trial 61 finished with values: [0.5740870990965492, 76513.0] and parameters: {'lr': 0.0016631076921454545, 'dropout_rate': 0.29963967097323696, 'dim_feedforward': 73, 'batch': 16, 'encoder_layers': 1, 'decoder_layers': 1, 'activation_function': 'leaky_relu', 'time_warping': True, 'time_masking': False, 'gaussian_noise': 0.05849885372507493, 'use_linear_embedding': False, 'phase_type': 'iterative', 'self_conditioning': False, 'layer_norm': True, 'positional_encoding_type': 'fourier', 'num_ffn_layers': 3}. \n",
            "/usr/local/lib/python3.10/dist-packages/torch/nn/modules/transformer.py:282: UserWarning: enable_nested_tensor is True, but self.use_nested_tensor is False because encoder_layer was not TransformerEncoderLayer\n",
            "  warnings.warn(f\"enable_nested_tensor is True, but self.use_nested_tensor is False because {why_not_sparsity_fast_path}\")\n"
          ]
        },
        {
          "output_type": "stream",
          "name": "stdout",
          "text": [
            "{'FN': 440,\n",
            " 'FP': 17,\n",
            " 'ROC/AUC': 0.704786568488424,\n",
            " 'TN': 7740,\n",
            " 'TP': 308,\n",
            " 'f1': 0.5740870990965492,\n",
            " 'precision': 0.9476922785325453,\n",
            " 'recall': 0.41176470037747726,\n",
            " 'threshold': 0.11314342789062452}\n",
            "25\n",
            "Hyperparameters: {'lr': 0.007482095338125608, 'dropout_rate': 0.17838497500731482, 'dim_feedforward': 58, 'batch': 80, 'encoder_layers': 3, 'decoder_layers': 3, 'attention_type': 'scaled_dot_product', 'positional_encoding_type': 'sinusoidal', 'phase_type': '2phase', 'gaussian_noise_std': 0.009988809056140135, 'time_warping': False, 'time_masking': True, 'self_conditioning': False, 'layer_norm': True, 'activation_function': 'leaky_relu', 'use_linear_embedding': True, 'nhead': 25, 'num_ffn_layers': 1}\n",
            "Creating new model: TransNAS_TSAD\n",
            "Training TransNAS_TSAD on SMAP\n"
          ]
        },
        {
          "output_type": "stream",
          "name": "stderr",
          "text": [
            " 20%|██        | 1/5 [00:03<00:12,  3.16s/it]"
          ]
        },
        {
          "output_type": "stream",
          "name": "stdout",
          "text": [
            "Epoch 0, Loss: 3.7795727119370244, Learning Rate: 0.007482095338125608\n"
          ]
        },
        {
          "output_type": "stream",
          "name": "stderr",
          "text": [
            "\r 40%|████      | 2/5 [00:06<00:10,  3.49s/it]"
          ]
        },
        {
          "output_type": "stream",
          "name": "stdout",
          "text": [
            "Epoch 1, Loss: 32.95377904368813, Learning Rate: 0.007482095338125608\n"
          ]
        },
        {
          "output_type": "stream",
          "name": "stderr",
          "text": [
            "\r 60%|██████    | 3/5 [00:10<00:06,  3.41s/it]"
          ]
        },
        {
          "output_type": "stream",
          "name": "stdout",
          "text": [
            "Epoch 2, Loss: 7855.675225202109, Learning Rate: 0.007482095338125608\n"
          ]
        },
        {
          "output_type": "stream",
          "name": "stderr",
          "text": [
            "\r 80%|████████  | 4/5 [00:13<00:03,  3.31s/it]"
          ]
        },
        {
          "output_type": "stream",
          "name": "stdout",
          "text": [
            "Epoch 3, Loss: 23876.606459307477, Learning Rate: 0.007482095338125608\n"
          ]
        },
        {
          "output_type": "stream",
          "name": "stderr",
          "text": [
            "100%|██████████| 5/5 [00:16<00:00,  3.30s/it]"
          ]
        },
        {
          "output_type": "stream",
          "name": "stdout",
          "text": [
            "Epoch 4, Loss: 121298.04045151541, Learning Rate: 0.007482095338125608\n",
            "Training time:    16.5096 s\n",
            "Testing TransNAS_TSAD on SMAP\n"
          ]
        },
        {
          "output_type": "stream",
          "name": "stderr",
          "text": [
            "\n",
            "[I 2024-02-20 19:11:02,230] Trial 62 finished with values: [0.7906566011351729, 210097.0] and parameters: {'lr': 0.007482095338125608, 'dropout_rate': 0.17838497500731482, 'dim_feedforward': 58, 'batch': 80, 'encoder_layers': 3, 'decoder_layers': 3, 'activation_function': 'leaky_relu', 'time_warping': False, 'time_masking': True, 'gaussian_noise': 0.009988809056140135, 'use_linear_embedding': True, 'phase_type': '2phase', 'self_conditioning': False, 'layer_norm': True, 'positional_encoding_type': 'sinusoidal', 'num_ffn_layers': 1}. \n",
            "/usr/local/lib/python3.10/dist-packages/torch/nn/modules/transformer.py:282: UserWarning: enable_nested_tensor is True, but self.use_nested_tensor is False because encoder_layer was not TransformerEncoderLayer\n",
            "  warnings.warn(f\"enable_nested_tensor is True, but self.use_nested_tensor is False because {why_not_sparsity_fast_path}\")\n"
          ]
        },
        {
          "output_type": "stream",
          "name": "stdout",
          "text": [
            "{'FN': 240,\n",
            " 'FP': 29,\n",
            " 'ROC/AUC': 0.8377029131527914,\n",
            " 'TN': 7728,\n",
            " 'TP': 508,\n",
            " 'f1': 0.7906566011351729,\n",
            " 'precision': 0.9459962579888965,\n",
            " 'recall': 0.6791443759472677,\n",
            " 'threshold': 18489.21360180851}\n",
            "25\n",
            "Hyperparameters: {'lr': 0.007393421218186536, 'dropout_rate': 0.3705459773693994, 'dim_feedforward': 92, 'batch': 112, 'encoder_layers': 3, 'decoder_layers': 2, 'attention_type': 'scaled_dot_product', 'positional_encoding_type': 'fourier', 'phase_type': 'iterative', 'gaussian_noise_std': 0.09352612952238137, 'time_warping': False, 'time_masking': False, 'self_conditioning': True, 'layer_norm': True, 'activation_function': 'tanh', 'use_linear_embedding': True, 'nhead': 25, 'num_ffn_layers': 1}\n",
            "Creating new model: TransNAS_TSAD\n",
            "Training TransNAS_TSAD on SMAP\n"
          ]
        },
        {
          "output_type": "stream",
          "name": "stderr",
          "text": [
            " 20%|██        | 1/5 [00:08<00:33,  8.49s/it]"
          ]
        },
        {
          "output_type": "stream",
          "name": "stdout",
          "text": [
            "Epoch 0, Loss: 0.891304643645954, Learning Rate: 0.007393421218186536\n"
          ]
        },
        {
          "output_type": "stream",
          "name": "stderr",
          "text": [
            "\r 40%|████      | 2/5 [00:17<00:27,  9.05s/it]"
          ]
        },
        {
          "output_type": "stream",
          "name": "stdout",
          "text": [
            "Epoch 1, Loss: 0.9730743961846471, Learning Rate: 0.007393421218186536\n"
          ]
        },
        {
          "output_type": "stream",
          "name": "stderr",
          "text": [
            "\r 60%|██████    | 3/5 [00:27<00:18,  9.42s/it]"
          ]
        },
        {
          "output_type": "stream",
          "name": "stdout",
          "text": [
            "Epoch 2, Loss: 1.0065901028373008, Learning Rate: 0.007393421218186536\n"
          ]
        },
        {
          "output_type": "stream",
          "name": "stderr",
          "text": [
            "\r 80%|████████  | 4/5 [00:37<00:09,  9.43s/it]"
          ]
        },
        {
          "output_type": "stream",
          "name": "stdout",
          "text": [
            "Epoch 3, Loss: 1.0026240971273297, Learning Rate: 0.007393421218186536\n"
          ]
        },
        {
          "output_type": "stream",
          "name": "stderr",
          "text": [
            "100%|██████████| 5/5 [00:46<00:00,  9.24s/it]"
          ]
        },
        {
          "output_type": "stream",
          "name": "stdout",
          "text": [
            "Epoch 4, Loss: 1.0021779283722165, Learning Rate: 0.007393421218186536\n",
            "Training time:    46.1876 s\n",
            "Testing TransNAS_TSAD on SMAP\n"
          ]
        },
        {
          "output_type": "stream",
          "name": "stderr",
          "text": [
            "\n",
            "[W 2024-02-20 19:12:48,959] Trial 63 failed with parameters: {'lr': 0.007393421218186536, 'dropout_rate': 0.3705459773693994, 'dim_feedforward': 92, 'batch': 112, 'encoder_layers': 3, 'decoder_layers': 2, 'activation_function': 'tanh', 'time_warping': False, 'time_masking': False, 'gaussian_noise': 0.09352612952238137, 'use_linear_embedding': True, 'phase_type': 'iterative', 'self_conditioning': True, 'layer_norm': True, 'positional_encoding_type': 'fourier', 'num_ffn_layers': 1} because of the following error: The value {'f1': 0.0, 'num_params': inf} could not be cast to float.\n",
            "[W 2024-02-20 19:12:48,961] Trial 63 failed with value {'f1': 0.0, 'num_params': inf}.\n",
            "/usr/local/lib/python3.10/dist-packages/torch/nn/modules/transformer.py:282: UserWarning: enable_nested_tensor is True, but self.use_nested_tensor is False because encoder_layer was not TransformerEncoderLayer\n",
            "  warnings.warn(f\"enable_nested_tensor is True, but self.use_nested_tensor is False because {why_not_sparsity_fast_path}\")\n"
          ]
        },
        {
          "output_type": "stream",
          "name": "stdout",
          "text": [
            "Initialization timed out after 40 seconds. Last exception message: zero-size array to reduction operation minimum which has no identity\n",
            "An exception occurred: unsupported operand type(s) for +: 'NoneType' and 'NoneType'\n",
            "25\n",
            "Hyperparameters: {'lr': 0.0016682217526759592, 'dropout_rate': 0.14096581591308013, 'dim_feedforward': 91, 'batch': 32, 'encoder_layers': 3, 'decoder_layers': 1, 'attention_type': 'scaled_dot_product', 'positional_encoding_type': 'fourier', 'phase_type': '2phase', 'gaussian_noise_std': 0.01394872388560863, 'time_warping': True, 'time_masking': False, 'self_conditioning': False, 'layer_norm': True, 'activation_function': 'leaky_relu', 'use_linear_embedding': True, 'nhead': 25, 'num_ffn_layers': 3}\n",
            "Creating new model: TransNAS_TSAD\n",
            "Training TransNAS_TSAD on SMAP\n"
          ]
        },
        {
          "output_type": "stream",
          "name": "stderr",
          "text": [
            " 20%|██        | 1/5 [00:05<00:22,  5.69s/it]"
          ]
        },
        {
          "output_type": "stream",
          "name": "stdout",
          "text": [
            "Epoch 0, Loss: 0.11050283044073189, Learning Rate: 0.0016682217526759592\n"
          ]
        },
        {
          "output_type": "stream",
          "name": "stderr",
          "text": [
            "\r 40%|████      | 2/5 [00:10<00:16,  5.46s/it]"
          ]
        },
        {
          "output_type": "stream",
          "name": "stdout",
          "text": [
            "Epoch 1, Loss: 0.026960947456848336, Learning Rate: 0.0016682217526759592\n"
          ]
        },
        {
          "output_type": "stream",
          "name": "stderr",
          "text": [
            "\r 60%|██████    | 3/5 [00:16<00:11,  5.59s/it]"
          ]
        },
        {
          "output_type": "stream",
          "name": "stdout",
          "text": [
            "Epoch 2, Loss: 0.021220618573253993, Learning Rate: 0.0016682217526759592\n"
          ]
        },
        {
          "output_type": "stream",
          "name": "stderr",
          "text": [
            "\r 80%|████████  | 4/5 [00:21<00:05,  5.44s/it]"
          ]
        },
        {
          "output_type": "stream",
          "name": "stdout",
          "text": [
            "Epoch 3, Loss: 0.010948610301744422, Learning Rate: 0.0016682217526759592\n"
          ]
        },
        {
          "output_type": "stream",
          "name": "stderr",
          "text": [
            "100%|██████████| 5/5 [00:27<00:00,  5.53s/it]"
          ]
        },
        {
          "output_type": "stream",
          "name": "stdout",
          "text": [
            "Epoch 4, Loss: 0.005562333679767611, Learning Rate: 0.0016682217526759592\n",
            "Training time:    27.6646 s\n",
            "Testing TransNAS_TSAD on SMAP\n"
          ]
        },
        {
          "output_type": "stream",
          "name": "stderr",
          "text": [
            "\n",
            "[I 2024-02-20 19:13:21,340] Trial 64 finished with values: [0.9432484720760621, 213940.0] and parameters: {'lr': 0.0016682217526759592, 'dropout_rate': 0.14096581591308013, 'dim_feedforward': 91, 'batch': 32, 'encoder_layers': 3, 'decoder_layers': 1, 'activation_function': 'leaky_relu', 'time_warping': True, 'time_masking': False, 'gaussian_noise': 0.01394872388560863, 'use_linear_embedding': True, 'phase_type': '2phase', 'self_conditioning': False, 'layer_norm': True, 'positional_encoding_type': 'fourier', 'num_ffn_layers': 3}. \n",
            "/usr/local/lib/python3.10/dist-packages/torch/nn/modules/transformer.py:282: UserWarning: enable_nested_tensor is True, but self.use_nested_tensor is False because encoder_layer was not TransformerEncoderLayer\n",
            "  warnings.warn(f\"enable_nested_tensor is True, but self.use_nested_tensor is False because {why_not_sparsity_fast_path}\")\n"
          ]
        },
        {
          "output_type": "stream",
          "name": "stdout",
          "text": [
            "{'FN': 0,\n",
            " 'FP': 90,\n",
            " 'ROC/AUC': 0.9941987881913111,\n",
            " 'TN': 7667,\n",
            " 'TP': 748,\n",
            " 'f1': 0.9432484720760621,\n",
            " 'precision': 0.8926014213293387,\n",
            " 'recall': 0.9999999866310163,\n",
            " 'threshold': 0.04086709383405675}\n",
            "25\n",
            "Hyperparameters: {'lr': 0.0004820401610306437, 'dropout_rate': 0.3586472100619357, 'dim_feedforward': 42, 'batch': 48, 'encoder_layers': 1, 'decoder_layers': 2, 'attention_type': 'scaled_dot_product', 'positional_encoding_type': 'fourier', 'phase_type': '2phase', 'gaussian_noise_std': 0.00010583363495590348, 'time_warping': False, 'time_masking': False, 'self_conditioning': True, 'layer_norm': False, 'activation_function': 'tanh', 'use_linear_embedding': False, 'nhead': 25, 'num_ffn_layers': 1}\n",
            "Creating new model: TransNAS_TSAD\n",
            "Training TransNAS_TSAD on SMAP\n"
          ]
        },
        {
          "output_type": "stream",
          "name": "stderr",
          "text": [
            " 20%|██        | 1/5 [00:02<00:08,  2.13s/it]"
          ]
        },
        {
          "output_type": "stream",
          "name": "stdout",
          "text": [
            "Epoch 0, Loss: 0.09509609141928757, Learning Rate: 0.0004820401610306437\n"
          ]
        },
        {
          "output_type": "stream",
          "name": "stderr",
          "text": [
            "\r 40%|████      | 2/5 [00:04<00:06,  2.16s/it]"
          ]
        },
        {
          "output_type": "stream",
          "name": "stdout",
          "text": [
            "Epoch 1, Loss: 0.04130902228998027, Learning Rate: 0.0004820401610306437\n"
          ]
        },
        {
          "output_type": "stream",
          "name": "stderr",
          "text": [
            "\r 60%|██████    | 3/5 [00:06<00:04,  2.34s/it]"
          ]
        },
        {
          "output_type": "stream",
          "name": "stdout",
          "text": [
            "Epoch 2, Loss: 0.01737479539433001, Learning Rate: 0.0004820401610306437\n"
          ]
        },
        {
          "output_type": "stream",
          "name": "stderr",
          "text": [
            "\r 80%|████████  | 4/5 [00:08<00:02,  2.24s/it]"
          ]
        },
        {
          "output_type": "stream",
          "name": "stdout",
          "text": [
            "Epoch 3, Loss: 0.011288668288749339, Learning Rate: 0.0004820401610306437\n"
          ]
        },
        {
          "output_type": "stream",
          "name": "stderr",
          "text": [
            "100%|██████████| 5/5 [00:11<00:00,  2.22s/it]"
          ]
        },
        {
          "output_type": "stream",
          "name": "stdout",
          "text": [
            "Epoch 4, Loss: 0.00817089776119135, Learning Rate: 0.0004820401610306437\n",
            "Training time:    11.1155 s\n",
            "Testing TransNAS_TSAD on SMAP\n"
          ]
        },
        {
          "output_type": "stream",
          "name": "stderr",
          "text": [
            "\n",
            "[I 2024-02-20 19:13:34,400] Trial 65 finished with values: [0.9234518080438258, 114535.0] and parameters: {'lr': 0.0004820401610306437, 'dropout_rate': 0.3586472100619357, 'dim_feedforward': 42, 'batch': 48, 'encoder_layers': 1, 'decoder_layers': 2, 'activation_function': 'tanh', 'time_warping': False, 'time_masking': False, 'gaussian_noise': 0.00010583363495590348, 'use_linear_embedding': False, 'phase_type': '2phase', 'self_conditioning': True, 'layer_norm': False, 'positional_encoding_type': 'fourier', 'num_ffn_layers': 1}. \n",
            "/usr/local/lib/python3.10/dist-packages/torch/nn/modules/transformer.py:282: UserWarning: enable_nested_tensor is True, but self.use_nested_tensor is False because encoder_layer was not TransformerEncoderLayer\n",
            "  warnings.warn(f\"enable_nested_tensor is True, but self.use_nested_tensor is False because {why_not_sparsity_fast_path}\")\n"
          ]
        },
        {
          "output_type": "stream",
          "name": "stdout",
          "text": [
            "{'FN': 0,\n",
            " 'FP': 124,\n",
            " 'ROC/AUC': 0.9920072192858064,\n",
            " 'TN': 7633,\n",
            " 'TP': 748,\n",
            " 'f1': 0.9234518080438258,\n",
            " 'precision': 0.8577981553004799,\n",
            " 'recall': 0.9999999866310163,\n",
            " 'threshold': 0.033721047286646315}\n",
            "25\n",
            "Hyperparameters: {'lr': 0.0011061127535263778, 'dropout_rate': 0.26183065309386844, 'dim_feedforward': 125, 'batch': 32, 'encoder_layers': 3, 'decoder_layers': 2, 'attention_type': 'scaled_dot_product', 'positional_encoding_type': 'fourier', 'phase_type': '2phase', 'gaussian_noise_std': 0.01125419741752415, 'time_warping': False, 'time_masking': True, 'self_conditioning': True, 'layer_norm': False, 'activation_function': 'sigmoid', 'use_linear_embedding': False, 'nhead': 25, 'num_ffn_layers': 2}\n",
            "Creating new model: TransNAS_TSAD\n",
            "Training TransNAS_TSAD on SMAP\n"
          ]
        },
        {
          "output_type": "stream",
          "name": "stderr",
          "text": [
            " 20%|██        | 1/5 [00:05<00:23,  5.85s/it]"
          ]
        },
        {
          "output_type": "stream",
          "name": "stdout",
          "text": [
            "Epoch 0, Loss: 0.02777511311386384, Learning Rate: 0.0011061127535263778\n"
          ]
        },
        {
          "output_type": "stream",
          "name": "stderr",
          "text": [
            "\r 40%|████      | 2/5 [00:11<00:16,  5.67s/it]"
          ]
        },
        {
          "output_type": "stream",
          "name": "stdout",
          "text": [
            "Epoch 1, Loss: 0.011580735190154429, Learning Rate: 0.0011061127535263778\n"
          ]
        },
        {
          "output_type": "stream",
          "name": "stderr",
          "text": [
            "\r 60%|██████    | 3/5 [00:17<00:11,  5.66s/it]"
          ]
        },
        {
          "output_type": "stream",
          "name": "stdout",
          "text": [
            "Epoch 2, Loss: 0.005340287373520755, Learning Rate: 0.0011061127535263778\n"
          ]
        },
        {
          "output_type": "stream",
          "name": "stderr",
          "text": [
            "\r 80%|████████  | 4/5 [00:22<00:05,  5.66s/it]"
          ]
        },
        {
          "output_type": "stream",
          "name": "stdout",
          "text": [
            "Epoch 3, Loss: 0.0031290582010508705, Learning Rate: 0.0011061127535263778\n"
          ]
        },
        {
          "output_type": "stream",
          "name": "stderr",
          "text": [
            "100%|██████████| 5/5 [00:28<00:00,  5.63s/it]"
          ]
        },
        {
          "output_type": "stream",
          "name": "stdout",
          "text": [
            "Epoch 4, Loss: 0.002034288144252338, Learning Rate: 0.0011061127535263778\n",
            "Training time:    28.1424 s\n",
            "Testing TransNAS_TSAD on SMAP\n"
          ]
        },
        {
          "output_type": "stream",
          "name": "stderr",
          "text": [
            "\n",
            "[I 2024-02-20 19:14:07,351] Trial 66 finished with values: [0.5805801839296872, 290925.0] and parameters: {'lr': 0.0011061127535263778, 'dropout_rate': 0.26183065309386844, 'dim_feedforward': 125, 'batch': 32, 'encoder_layers': 3, 'decoder_layers': 2, 'activation_function': 'sigmoid', 'time_warping': False, 'time_masking': True, 'gaussian_noise': 0.01125419741752415, 'use_linear_embedding': False, 'phase_type': '2phase', 'self_conditioning': True, 'layer_norm': False, 'positional_encoding_type': 'fourier', 'num_ffn_layers': 2}. \n",
            "/usr/local/lib/python3.10/dist-packages/torch/nn/modules/transformer.py:282: UserWarning: enable_nested_tensor is True, but self.use_nested_tensor is False because encoder_layer was not TransformerEncoderLayer\n",
            "  warnings.warn(f\"enable_nested_tensor is True, but self.use_nested_tensor is False because {why_not_sparsity_fast_path}\")\n"
          ]
        },
        {
          "output_type": "stream",
          "name": "stdout",
          "text": [
            "{'FN': 440,\n",
            " 'FP': 5,\n",
            " 'ROC/AUC': 0.7055600633962492,\n",
            " 'TN': 7752,\n",
            " 'TP': 308,\n",
            " 'f1': 0.5805801839296872,\n",
            " 'precision': 0.9840255276669161,\n",
            " 'recall': 0.41176470037747726,\n",
            " 'threshold': 77.08608129763233}\n",
            "25\n",
            "Hyperparameters: {'lr': 0.004754857068358564, 'dropout_rate': 0.48800046889393245, 'dim_feedforward': 47, 'batch': 112, 'encoder_layers': 2, 'decoder_layers': 2, 'attention_type': 'scaled_dot_product', 'positional_encoding_type': 'sinusoidal', 'phase_type': '2phase', 'gaussian_noise_std': 0.03345732079841554, 'time_warping': False, 'time_masking': True, 'self_conditioning': True, 'layer_norm': False, 'activation_function': 'sigmoid', 'use_linear_embedding': True, 'nhead': 25, 'num_ffn_layers': 3}\n",
            "Creating new model: TransNAS_TSAD\n",
            "Training TransNAS_TSAD on SMAP\n"
          ]
        },
        {
          "output_type": "stream",
          "name": "stderr",
          "text": [
            " 20%|██        | 1/5 [00:02<00:09,  2.31s/it]"
          ]
        },
        {
          "output_type": "stream",
          "name": "stdout",
          "text": [
            "Epoch 0, Loss: 0.04350154455127442, Learning Rate: 0.004754857068358564\n"
          ]
        },
        {
          "output_type": "stream",
          "name": "stderr",
          "text": [
            "\r 40%|████      | 2/5 [00:04<00:06,  2.32s/it]"
          ]
        },
        {
          "output_type": "stream",
          "name": "stdout",
          "text": [
            "Epoch 1, Loss: 0.02333459124976145, Learning Rate: 0.004754857068358564\n"
          ]
        },
        {
          "output_type": "stream",
          "name": "stderr",
          "text": [
            "\r 60%|██████    | 3/5 [00:06<00:04,  2.32s/it]"
          ]
        },
        {
          "output_type": "stream",
          "name": "stdout",
          "text": [
            "Epoch 2, Loss: 0.019517827734426365, Learning Rate: 0.004754857068358564\n"
          ]
        },
        {
          "output_type": "stream",
          "name": "stderr",
          "text": [
            "\r 80%|████████  | 4/5 [00:09<00:02,  2.43s/it]"
          ]
        },
        {
          "output_type": "stream",
          "name": "stdout",
          "text": [
            "Epoch 3, Loss: 0.013025876870538125, Learning Rate: 0.004754857068358564\n"
          ]
        },
        {
          "output_type": "stream",
          "name": "stderr",
          "text": [
            "100%|██████████| 5/5 [00:12<00:00,  2.40s/it]"
          ]
        },
        {
          "output_type": "stream",
          "name": "stdout",
          "text": [
            "Epoch 4, Loss: 0.011508409838254664, Learning Rate: 0.004754857068358564\n",
            "Training time:    12.0127 s\n",
            "Testing TransNAS_TSAD on SMAP\n"
          ]
        },
        {
          "output_type": "stream",
          "name": "stderr",
          "text": [
            "\n",
            "[I 2024-02-20 19:14:22,308] Trial 67 finished with values: [0.9234518080438258, 192171.0] and parameters: {'lr': 0.004754857068358564, 'dropout_rate': 0.48800046889393245, 'dim_feedforward': 47, 'batch': 112, 'encoder_layers': 2, 'decoder_layers': 2, 'activation_function': 'sigmoid', 'time_warping': False, 'time_masking': True, 'gaussian_noise': 0.03345732079841554, 'use_linear_embedding': True, 'phase_type': '2phase', 'self_conditioning': True, 'layer_norm': False, 'positional_encoding_type': 'sinusoidal', 'num_ffn_layers': 3}. \n",
            "/usr/local/lib/python3.10/dist-packages/torch/nn/modules/transformer.py:282: UserWarning: enable_nested_tensor is True, but self.use_nested_tensor is False because encoder_layer was not TransformerEncoderLayer\n",
            "  warnings.warn(f\"enable_nested_tensor is True, but self.use_nested_tensor is False because {why_not_sparsity_fast_path}\")\n"
          ]
        },
        {
          "output_type": "stream",
          "name": "stdout",
          "text": [
            "{'FN': 0,\n",
            " 'FP': 124,\n",
            " 'ROC/AUC': 0.9920072192858064,\n",
            " 'TN': 7633,\n",
            " 'TP': 748,\n",
            " 'f1': 0.9234518080438258,\n",
            " 'precision': 0.8577981553004799,\n",
            " 'recall': 0.9999999866310163,\n",
            " 'threshold': 0.1316163104823218}\n",
            "25\n",
            "Hyperparameters: {'lr': 0.007981809220050505, 'dropout_rate': 0.21118296259842573, 'dim_feedforward': 98, 'batch': 128, 'encoder_layers': 2, 'decoder_layers': 3, 'attention_type': 'scaled_dot_product', 'positional_encoding_type': 'sinusoidal', 'phase_type': 'iterative', 'gaussian_noise_std': 0.04080066463657517, 'time_warping': False, 'time_masking': False, 'self_conditioning': False, 'layer_norm': False, 'activation_function': 'relu', 'use_linear_embedding': True, 'nhead': 25, 'num_ffn_layers': 1}\n",
            "Creating new model: TransNAS_TSAD\n",
            "Training TransNAS_TSAD on SMAP\n"
          ]
        },
        {
          "output_type": "stream",
          "name": "stderr",
          "text": [
            " 20%|██        | 1/5 [00:06<00:27,  6.88s/it]"
          ]
        },
        {
          "output_type": "stream",
          "name": "stdout",
          "text": [
            "Epoch 0, Loss: 0.07717873884154566, Learning Rate: 0.007981809220050505\n"
          ]
        },
        {
          "output_type": "stream",
          "name": "stderr",
          "text": [
            "\r 40%|████      | 2/5 [00:12<00:19,  6.37s/it]"
          ]
        },
        {
          "output_type": "stream",
          "name": "stdout",
          "text": [
            "Epoch 1, Loss: 0.024864538927432626, Learning Rate: 0.007981809220050505\n"
          ]
        },
        {
          "output_type": "stream",
          "name": "stderr",
          "text": [
            "\r 60%|██████    | 3/5 [00:19<00:12,  6.48s/it]"
          ]
        },
        {
          "output_type": "stream",
          "name": "stdout",
          "text": [
            "Epoch 2, Loss: 0.024864538927432626, Learning Rate: 0.007981809220050505\n"
          ]
        },
        {
          "output_type": "stream",
          "name": "stderr",
          "text": [
            "\r 80%|████████  | 4/5 [00:25<00:06,  6.31s/it]"
          ]
        },
        {
          "output_type": "stream",
          "name": "stdout",
          "text": [
            "Epoch 3, Loss: 0.024864538927432626, Learning Rate: 0.007981809220050505\n"
          ]
        },
        {
          "output_type": "stream",
          "name": "stderr",
          "text": [
            "100%|██████████| 5/5 [00:32<00:00,  6.42s/it]"
          ]
        },
        {
          "output_type": "stream",
          "name": "stdout",
          "text": [
            "Epoch 4, Loss: 0.024864538927432626, Learning Rate: 0.007981809220050505\n",
            "Training time:    32.1181 s\n",
            "Testing TransNAS_TSAD on SMAP\n"
          ]
        },
        {
          "output_type": "stream",
          "name": "stderr",
          "text": [
            "\n",
            "[W 2024-02-20 19:15:48,834] Trial 68 failed with parameters: {'lr': 0.007981809220050505, 'dropout_rate': 0.21118296259842573, 'dim_feedforward': 98, 'batch': 128, 'encoder_layers': 2, 'decoder_layers': 3, 'activation_function': 'relu', 'time_warping': False, 'time_masking': False, 'gaussian_noise': 0.04080066463657517, 'use_linear_embedding': True, 'phase_type': 'iterative', 'self_conditioning': False, 'layer_norm': False, 'positional_encoding_type': 'sinusoidal', 'num_ffn_layers': 1} because of the following error: The value {'f1': 0.0, 'num_params': inf} could not be cast to float.\n",
            "[W 2024-02-20 19:15:48,835] Trial 68 failed with value {'f1': 0.0, 'num_params': inf}.\n",
            "/usr/local/lib/python3.10/dist-packages/torch/nn/modules/transformer.py:282: UserWarning: enable_nested_tensor is True, but self.use_nested_tensor is False because encoder_layer was not TransformerEncoderLayer\n",
            "  warnings.warn(f\"enable_nested_tensor is True, but self.use_nested_tensor is False because {why_not_sparsity_fast_path}\")\n"
          ]
        },
        {
          "output_type": "stream",
          "name": "stdout",
          "text": [
            "Initialization timed out after 40 seconds. Last exception message: zero-size array to reduction operation minimum which has no identity\n",
            "An exception occurred: unsupported operand type(s) for +: 'NoneType' and 'NoneType'\n",
            "25\n",
            "Hyperparameters: {'lr': 0.0035831672640395593, 'dropout_rate': 0.21120561291593756, 'dim_feedforward': 95, 'batch': 16, 'encoder_layers': 3, 'decoder_layers': 3, 'attention_type': 'scaled_dot_product', 'positional_encoding_type': 'sinusoidal', 'phase_type': 'iterative', 'gaussian_noise_std': 0.0037290655244720207, 'time_warping': False, 'time_masking': True, 'self_conditioning': True, 'layer_norm': True, 'activation_function': 'tanh', 'use_linear_embedding': True, 'nhead': 25, 'num_ffn_layers': 2}\n",
            "Creating new model: TransNAS_TSAD\n",
            "Training TransNAS_TSAD on SMAP\n"
          ]
        },
        {
          "output_type": "stream",
          "name": "stderr",
          "text": [
            " 20%|██        | 1/5 [00:26<01:44, 26.15s/it]"
          ]
        },
        {
          "output_type": "stream",
          "name": "stdout",
          "text": [
            "Epoch 0, Loss: 0.9958916804236749, Learning Rate: 0.0035831672640395593\n"
          ]
        },
        {
          "output_type": "stream",
          "name": "stderr",
          "text": [
            "\r 40%|████      | 2/5 [00:52<01:18, 26.21s/it]"
          ]
        },
        {
          "output_type": "stream",
          "name": "stdout",
          "text": [
            "Epoch 1, Loss: 1.0283009813244979, Learning Rate: 0.0035831672640395593\n"
          ]
        },
        {
          "output_type": "stream",
          "name": "stderr",
          "text": [
            "\r 60%|██████    | 3/5 [01:18<00:52, 26.35s/it]"
          ]
        },
        {
          "output_type": "stream",
          "name": "stdout",
          "text": [
            "Epoch 2, Loss: 1.014987569674116, Learning Rate: 0.0035831672640395593\n"
          ]
        },
        {
          "output_type": "stream",
          "name": "stderr",
          "text": [
            "\r 80%|████████  | 4/5 [01:45<00:26, 26.47s/it]"
          ]
        },
        {
          "output_type": "stream",
          "name": "stdout",
          "text": [
            "Epoch 3, Loss: 1.0266348085728896, Learning Rate: 0.0035831672640395593\n"
          ]
        },
        {
          "output_type": "stream",
          "name": "stderr",
          "text": [
            "100%|██████████| 5/5 [02:12<00:00, 26.42s/it]"
          ]
        },
        {
          "output_type": "stream",
          "name": "stdout",
          "text": [
            "Epoch 4, Loss: 1.0137863684097252, Learning Rate: 0.0035831672640395593\n",
            "Training time:   132.0999 s\n",
            "Testing TransNAS_TSAD on SMAP\n"
          ]
        },
        {
          "output_type": "stream",
          "name": "stderr",
          "text": [
            "\n",
            "[W 2024-02-20 19:19:04,982] Trial 69 failed with parameters: {'lr': 0.0035831672640395593, 'dropout_rate': 0.21120561291593756, 'dim_feedforward': 95, 'batch': 16, 'encoder_layers': 3, 'decoder_layers': 3, 'activation_function': 'tanh', 'time_warping': False, 'time_masking': True, 'gaussian_noise': 0.0037290655244720207, 'use_linear_embedding': True, 'phase_type': 'iterative', 'self_conditioning': True, 'layer_norm': True, 'positional_encoding_type': 'sinusoidal', 'num_ffn_layers': 2} because of the following error: The value {'f1': 0.0, 'num_params': inf} could not be cast to float.\n",
            "[W 2024-02-20 19:19:04,983] Trial 69 failed with value {'f1': 0.0, 'num_params': inf}.\n"
          ]
        },
        {
          "output_type": "stream",
          "name": "stdout",
          "text": [
            "Initialization timed out after 40 seconds. Last exception message: zero-size array to reduction operation minimum which has no identity\n",
            "An exception occurred: unsupported operand type(s) for +: 'NoneType' and 'NoneType'\n",
            "25\n",
            "Hyperparameters: {'lr': 0.004118639204528698, 'dropout_rate': 0.4078078369216498, 'dim_feedforward': 116, 'batch': 64, 'encoder_layers': 3, 'decoder_layers': 3, 'attention_type': 'scaled_dot_product', 'positional_encoding_type': 'fourier', 'phase_type': '2phase', 'gaussian_noise_std': 0.0006422371613062878, 'time_warping': False, 'time_masking': False, 'self_conditioning': True, 'layer_norm': False, 'activation_function': 'relu', 'use_linear_embedding': False, 'nhead': 25, 'num_ffn_layers': 3}\n"
          ]
        },
        {
          "output_type": "stream",
          "name": "stderr",
          "text": [
            "/usr/local/lib/python3.10/dist-packages/torch/nn/modules/transformer.py:282: UserWarning: enable_nested_tensor is True, but self.use_nested_tensor is False because encoder_layer was not TransformerEncoderLayer\n",
            "  warnings.warn(f\"enable_nested_tensor is True, but self.use_nested_tensor is False because {why_not_sparsity_fast_path}\")\n"
          ]
        },
        {
          "output_type": "stream",
          "name": "stdout",
          "text": [
            "Creating new model: TransNAS_TSAD\n",
            "Training TransNAS_TSAD on SMAP\n"
          ]
        },
        {
          "output_type": "stream",
          "name": "stderr",
          "text": [
            " 20%|██        | 1/5 [00:05<00:20,  5.24s/it]"
          ]
        },
        {
          "output_type": "stream",
          "name": "stdout",
          "text": [
            "Epoch 0, Loss: 0.18953393719525144, Learning Rate: 0.004118639204528698\n"
          ]
        },
        {
          "output_type": "stream",
          "name": "stderr",
          "text": [
            "\r 40%|████      | 2/5 [00:10<00:15,  5.19s/it]"
          ]
        },
        {
          "output_type": "stream",
          "name": "stdout",
          "text": [
            "Epoch 1, Loss: 0.04877923606309688, Learning Rate: 0.004118639204528698\n"
          ]
        },
        {
          "output_type": "stream",
          "name": "stderr",
          "text": [
            "\r 60%|██████    | 3/5 [00:15<00:10,  5.10s/it]"
          ]
        },
        {
          "output_type": "stream",
          "name": "stdout",
          "text": [
            "Epoch 2, Loss: 0.02484615901435349, Learning Rate: 0.004118639204528698\n"
          ]
        },
        {
          "output_type": "stream",
          "name": "stderr",
          "text": [
            "\r 80%|████████  | 4/5 [00:20<00:05,  5.18s/it]"
          ]
        },
        {
          "output_type": "stream",
          "name": "stdout",
          "text": [
            "Epoch 3, Loss: 4.3203298104244485, Learning Rate: 0.004118639204528698\n"
          ]
        },
        {
          "output_type": "stream",
          "name": "stderr",
          "text": [
            "100%|██████████| 5/5 [00:25<00:00,  5.12s/it]"
          ]
        },
        {
          "output_type": "stream",
          "name": "stdout",
          "text": [
            "Epoch 4, Loss: 0.02484615901435349, Learning Rate: 0.004118639204528698\n",
            "Training time:    25.6057 s\n",
            "Testing TransNAS_TSAD on SMAP\n"
          ]
        },
        {
          "output_type": "stream",
          "name": "stderr",
          "text": [
            "\n",
            "[W 2024-02-20 19:20:15,782] Trial 70 failed with parameters: {'lr': 0.004118639204528698, 'dropout_rate': 0.4078078369216498, 'dim_feedforward': 116, 'batch': 64, 'encoder_layers': 3, 'decoder_layers': 3, 'activation_function': 'relu', 'time_warping': False, 'time_masking': False, 'gaussian_noise': 0.0006422371613062878, 'use_linear_embedding': False, 'phase_type': '2phase', 'self_conditioning': True, 'layer_norm': False, 'positional_encoding_type': 'fourier', 'num_ffn_layers': 3} because of the following error: The value {'f1': 0.0, 'num_params': inf} could not be cast to float.\n",
            "[W 2024-02-20 19:20:15,783] Trial 70 failed with value {'f1': 0.0, 'num_params': inf}.\n",
            "/usr/local/lib/python3.10/dist-packages/torch/nn/modules/transformer.py:282: UserWarning: enable_nested_tensor is True, but self.use_nested_tensor is False because encoder_layer was not TransformerEncoderLayer\n",
            "  warnings.warn(f\"enable_nested_tensor is True, but self.use_nested_tensor is False because {why_not_sparsity_fast_path}\")\n"
          ]
        },
        {
          "output_type": "stream",
          "name": "stdout",
          "text": [
            "Initialization timed out after 40 seconds. Last exception message: zero-size array to reduction operation minimum which has no identity\n",
            "An exception occurred: unsupported operand type(s) for +: 'NoneType' and 'NoneType'\n",
            "25\n",
            "Hyperparameters: {'lr': 0.003377024972811726, 'dropout_rate': 0.20780580511497557, 'dim_feedforward': 93, 'batch': 112, 'encoder_layers': 1, 'decoder_layers': 3, 'attention_type': 'scaled_dot_product', 'positional_encoding_type': 'sinusoidal', 'phase_type': 'iterative', 'gaussian_noise_std': 0.0029498758256361695, 'time_warping': True, 'time_masking': True, 'self_conditioning': False, 'layer_norm': False, 'activation_function': 'leaky_relu', 'use_linear_embedding': False, 'nhead': 25, 'num_ffn_layers': 1}\n",
            "Creating new model: TransNAS_TSAD\n",
            "Training TransNAS_TSAD on SMAP\n"
          ]
        },
        {
          "output_type": "stream",
          "name": "stderr",
          "text": [
            " 20%|██        | 1/5 [00:04<00:19,  4.90s/it]"
          ]
        },
        {
          "output_type": "stream",
          "name": "stdout",
          "text": [
            "Epoch 0, Loss: 0.03533720500723444, Learning Rate: 0.003377024972811726\n"
          ]
        },
        {
          "output_type": "stream",
          "name": "stderr",
          "text": [
            "\r 40%|████      | 2/5 [00:10<00:15,  5.11s/it]"
          ]
        },
        {
          "output_type": "stream",
          "name": "stdout",
          "text": [
            "Epoch 1, Loss: 0.014134168032473488, Learning Rate: 0.003377024972811726\n"
          ]
        },
        {
          "output_type": "stream",
          "name": "stderr",
          "text": [
            "\r 60%|██████    | 3/5 [00:15<00:10,  5.00s/it]"
          ]
        },
        {
          "output_type": "stream",
          "name": "stdout",
          "text": [
            "Epoch 2, Loss: 0.007310850434972865, Learning Rate: 0.003377024972811726\n"
          ]
        },
        {
          "output_type": "stream",
          "name": "stderr",
          "text": [
            "\r 80%|████████  | 4/5 [00:20<00:05,  5.05s/it]"
          ]
        },
        {
          "output_type": "stream",
          "name": "stdout",
          "text": [
            "Epoch 3, Loss: 0.004344890772128709, Learning Rate: 0.003377024972811726\n"
          ]
        },
        {
          "output_type": "stream",
          "name": "stderr",
          "text": [
            "100%|██████████| 5/5 [00:25<00:00,  5.02s/it]"
          ]
        },
        {
          "output_type": "stream",
          "name": "stdout",
          "text": [
            "Epoch 4, Loss: 0.002892319992750988, Learning Rate: 0.003377024972811726\n",
            "Training time:    25.1168 s\n",
            "Testing TransNAS_TSAD on SMAP\n"
          ]
        },
        {
          "output_type": "stream",
          "name": "stderr",
          "text": [
            "\n",
            "[I 2024-02-20 19:20:50,173] Trial 71 finished with values: [0.7953506129594079, 110447.0] and parameters: {'lr': 0.003377024972811726, 'dropout_rate': 0.20780580511497557, 'dim_feedforward': 93, 'batch': 112, 'encoder_layers': 1, 'decoder_layers': 3, 'activation_function': 'leaky_relu', 'time_warping': True, 'time_masking': True, 'gaussian_noise': 0.0029498758256361695, 'use_linear_embedding': False, 'phase_type': 'iterative', 'self_conditioning': False, 'layer_norm': False, 'positional_encoding_type': 'sinusoidal', 'num_ffn_layers': 1}. \n"
          ]
        },
        {
          "output_type": "stream",
          "name": "stdout",
          "text": [
            "{'FN': 200,\n",
            " 'FP': 82,\n",
            " 'ROC/AUC': 0.8610246118910021,\n",
            " 'TN': 7675,\n",
            " 'TP': 548,\n",
            " 'f1': 0.7953506129594079,\n",
            " 'precision': 0.8698412560342658,\n",
            " 'recall': 0.7326203110612258,\n",
            " 'threshold': 0.05391624791978391}\n",
            "25\n"
          ]
        },
        {
          "output_type": "stream",
          "name": "stderr",
          "text": [
            "/usr/local/lib/python3.10/dist-packages/torch/nn/modules/transformer.py:282: UserWarning: enable_nested_tensor is True, but self.use_nested_tensor is False because encoder_layer was not TransformerEncoderLayer\n",
            "  warnings.warn(f\"enable_nested_tensor is True, but self.use_nested_tensor is False because {why_not_sparsity_fast_path}\")\n"
          ]
        },
        {
          "output_type": "stream",
          "name": "stdout",
          "text": [
            "Hyperparameters: {'lr': 0.0015330469159371858, 'dropout_rate': 0.2742957921126782, 'dim_feedforward': 105, 'batch': 64, 'encoder_layers': 3, 'decoder_layers': 1, 'attention_type': 'scaled_dot_product', 'positional_encoding_type': 'sinusoidal', 'phase_type': 'iterative', 'gaussian_noise_std': 0.0021252025888927467, 'time_warping': False, 'time_masking': False, 'self_conditioning': False, 'layer_norm': False, 'activation_function': 'relu', 'use_linear_embedding': False, 'nhead': 25, 'num_ffn_layers': 1}\n",
            "Creating new model: TransNAS_TSAD\n",
            "Training TransNAS_TSAD on SMAP\n"
          ]
        },
        {
          "output_type": "stream",
          "name": "stderr",
          "text": [
            " 20%|██        | 1/5 [00:07<00:31,  7.83s/it]"
          ]
        },
        {
          "output_type": "stream",
          "name": "stdout",
          "text": [
            "Epoch 0, Loss: 0.01811571095992245, Learning Rate: 0.0015330469159371858\n"
          ]
        },
        {
          "output_type": "stream",
          "name": "stderr",
          "text": [
            "\r 40%|████      | 2/5 [00:16<00:24,  8.26s/it]"
          ]
        },
        {
          "output_type": "stream",
          "name": "stdout",
          "text": [
            "Epoch 1, Loss: 0.006607940820058088, Learning Rate: 0.0015330469159371858\n"
          ]
        },
        {
          "output_type": "stream",
          "name": "stderr",
          "text": [
            "\r 60%|██████    | 3/5 [00:24<00:16,  8.19s/it]"
          ]
        },
        {
          "output_type": "stream",
          "name": "stdout",
          "text": [
            "Epoch 2, Loss: 0.004776933781886781, Learning Rate: 0.0015330469159371858\n"
          ]
        },
        {
          "output_type": "stream",
          "name": "stderr",
          "text": [
            "\r 80%|████████  | 4/5 [00:32<00:08,  8.04s/it]"
          ]
        },
        {
          "output_type": "stream",
          "name": "stdout",
          "text": [
            "Epoch 3, Loss: 0.004329846086027702, Learning Rate: 0.0015330469159371858\n"
          ]
        },
        {
          "output_type": "stream",
          "name": "stderr",
          "text": [
            "100%|██████████| 5/5 [00:40<00:00,  8.08s/it]"
          ]
        },
        {
          "output_type": "stream",
          "name": "stdout",
          "text": [
            "Epoch 4, Loss: 0.004132627973465312, Learning Rate: 0.0015330469159371858\n",
            "Training time:    40.4122 s\n",
            "Testing TransNAS_TSAD on SMAP\n"
          ]
        },
        {
          "output_type": "stream",
          "name": "stderr",
          "text": [
            "\n",
            "[W 2024-02-20 19:22:28,227] Trial 72 failed with parameters: {'lr': 0.0015330469159371858, 'dropout_rate': 0.2742957921126782, 'dim_feedforward': 105, 'batch': 64, 'encoder_layers': 3, 'decoder_layers': 1, 'activation_function': 'relu', 'time_warping': False, 'time_masking': False, 'gaussian_noise': 0.0021252025888927467, 'use_linear_embedding': False, 'phase_type': 'iterative', 'self_conditioning': False, 'layer_norm': False, 'positional_encoding_type': 'sinusoidal', 'num_ffn_layers': 1} because of the following error: The value {'f1': 0.0, 'num_params': inf} could not be cast to float.\n",
            "[W 2024-02-20 19:22:28,228] Trial 72 failed with value {'f1': 0.0, 'num_params': inf}.\n",
            "/usr/local/lib/python3.10/dist-packages/torch/nn/modules/transformer.py:282: UserWarning: enable_nested_tensor is True, but self.use_nested_tensor is False because encoder_layer was not TransformerEncoderLayer\n",
            "  warnings.warn(f\"enable_nested_tensor is True, but self.use_nested_tensor is False because {why_not_sparsity_fast_path}\")\n"
          ]
        },
        {
          "output_type": "stream",
          "name": "stdout",
          "text": [
            "Initialization timed out after 40 seconds. Last exception message: zero-size array to reduction operation minimum which has no identity\n",
            "An exception occurred: unsupported operand type(s) for +: 'NoneType' and 'NoneType'\n",
            "25\n",
            "Hyperparameters: {'lr': 0.0018764832749000922, 'dropout_rate': 0.39761019593040847, 'dim_feedforward': 30, 'batch': 32, 'encoder_layers': 3, 'decoder_layers': 1, 'attention_type': 'scaled_dot_product', 'positional_encoding_type': 'fourier', 'phase_type': '2phase', 'gaussian_noise_std': 0.005193243898396004, 'time_warping': False, 'time_masking': False, 'self_conditioning': True, 'layer_norm': True, 'activation_function': 'sigmoid', 'use_linear_embedding': False, 'nhead': 25, 'num_ffn_layers': 3}\n",
            "Creating new model: TransNAS_TSAD\n",
            "Training TransNAS_TSAD on SMAP\n"
          ]
        },
        {
          "output_type": "stream",
          "name": "stderr",
          "text": [
            " 20%|██        | 1/5 [00:04<00:18,  4.60s/it]"
          ]
        },
        {
          "output_type": "stream",
          "name": "stdout",
          "text": [
            "Epoch 0, Loss: 0.04064579221011161, Learning Rate: 0.0018764832749000922\n"
          ]
        },
        {
          "output_type": "stream",
          "name": "stderr",
          "text": [
            "\r 40%|████      | 2/5 [00:09<00:14,  4.80s/it]"
          ]
        },
        {
          "output_type": "stream",
          "name": "stdout",
          "text": [
            "Epoch 1, Loss: 0.024253980806383958, Learning Rate: 0.0018764832749000922\n"
          ]
        },
        {
          "output_type": "stream",
          "name": "stderr",
          "text": [
            "\r 60%|██████    | 3/5 [00:14<00:09,  4.70s/it]"
          ]
        },
        {
          "output_type": "stream",
          "name": "stdout",
          "text": [
            "Epoch 2, Loss: 0.020979407639342303, Learning Rate: 0.0018764832749000922\n"
          ]
        },
        {
          "output_type": "stream",
          "name": "stderr",
          "text": [
            "\r 80%|████████  | 4/5 [00:18<00:04,  4.68s/it]"
          ]
        },
        {
          "output_type": "stream",
          "name": "stdout",
          "text": [
            "Epoch 3, Loss: 0.01724252168598776, Learning Rate: 0.0018764832749000922\n"
          ]
        },
        {
          "output_type": "stream",
          "name": "stderr",
          "text": [
            "100%|██████████| 5/5 [00:23<00:00,  4.74s/it]"
          ]
        },
        {
          "output_type": "stream",
          "name": "stdout",
          "text": [
            "Epoch 4, Loss: 0.016140791594346542, Learning Rate: 0.0018764832749000922\n",
            "Training time:    23.7108 s\n",
            "Testing TransNAS_TSAD on SMAP\n"
          ]
        },
        {
          "output_type": "stream",
          "name": "stderr",
          "text": [
            "\n",
            "/content/drive/MyDrive/TransNAS_TSAD/src/spot.py:393: RuntimeWarning: overflow encountered in scalar power\n",
            "  return self.init_threshold + (sigma / gamma) * (pow(r, -gamma) - 1)\n",
            "[I 2024-02-20 19:22:55,433] Trial 73 finished with values: [0.9456334352113032, 118975.0] and parameters: {'lr': 0.0018764832749000922, 'dropout_rate': 0.39761019593040847, 'dim_feedforward': 30, 'batch': 32, 'encoder_layers': 3, 'decoder_layers': 1, 'activation_function': 'sigmoid', 'time_warping': False, 'time_masking': False, 'gaussian_noise': 0.005193243898396004, 'use_linear_embedding': False, 'phase_type': '2phase', 'self_conditioning': True, 'layer_norm': True, 'positional_encoding_type': 'fourier', 'num_ffn_layers': 3}. \n"
          ]
        },
        {
          "output_type": "stream",
          "name": "stdout",
          "text": [
            "{'FN': 0,\n",
            " 'FP': 86,\n",
            " 'ROC/AUC': 0.9944566198272529,\n",
            " 'TN': 7671,\n",
            " 'TP': 748,\n",
            " 'f1': 0.9456334352113032,\n",
            " 'precision': 0.8968824832508095,\n",
            " 'recall': 0.9999999866310163,\n",
            " 'threshold': 0.2119056841144139}\n",
            "25\n"
          ]
        },
        {
          "output_type": "stream",
          "name": "stderr",
          "text": [
            "/usr/local/lib/python3.10/dist-packages/torch/nn/modules/transformer.py:282: UserWarning: enable_nested_tensor is True, but self.use_nested_tensor is False because encoder_layer was not TransformerEncoderLayer\n",
            "  warnings.warn(f\"enable_nested_tensor is True, but self.use_nested_tensor is False because {why_not_sparsity_fast_path}\")\n"
          ]
        },
        {
          "output_type": "stream",
          "name": "stdout",
          "text": [
            "Hyperparameters: {'lr': 0.0006292629352335902, 'dropout_rate': 0.2821235154259625, 'dim_feedforward': 126, 'batch': 32, 'encoder_layers': 2, 'decoder_layers': 1, 'attention_type': 'scaled_dot_product', 'positional_encoding_type': 'fourier', 'phase_type': 'iterative', 'gaussian_noise_std': 0.002097308720032317, 'time_warping': True, 'time_masking': True, 'self_conditioning': False, 'layer_norm': True, 'activation_function': 'leaky_relu', 'use_linear_embedding': False, 'nhead': 25, 'num_ffn_layers': 1}\n",
            "Creating new model: TransNAS_TSAD\n",
            "Training TransNAS_TSAD on SMAP\n"
          ]
        },
        {
          "output_type": "stream",
          "name": "stderr",
          "text": [
            " 20%|██        | 1/5 [00:08<00:35,  8.85s/it]"
          ]
        },
        {
          "output_type": "stream",
          "name": "stdout",
          "text": [
            "Epoch 0, Loss: 0.10420077382284833, Learning Rate: 0.0006292629352335902\n"
          ]
        },
        {
          "output_type": "stream",
          "name": "stderr",
          "text": [
            "\r 40%|████      | 2/5 [00:17<00:25,  8.55s/it]"
          ]
        },
        {
          "output_type": "stream",
          "name": "stdout",
          "text": [
            "Epoch 1, Loss: 0.02623484379153424, Learning Rate: 0.0006292629352335902\n"
          ]
        },
        {
          "output_type": "stream",
          "name": "stderr",
          "text": [
            "\r 60%|██████    | 3/5 [00:26<00:17,  8.69s/it]"
          ]
        },
        {
          "output_type": "stream",
          "name": "stdout",
          "text": [
            "Epoch 2, Loss: 0.023550880438350536, Learning Rate: 0.0006292629352335902\n"
          ]
        },
        {
          "output_type": "stream",
          "name": "stderr",
          "text": [
            "\r 80%|████████  | 4/5 [00:34<00:08,  8.70s/it]"
          ]
        },
        {
          "output_type": "stream",
          "name": "stdout",
          "text": [
            "Epoch 3, Loss: 0.02107786781046577, Learning Rate: 0.0006292629352335902\n"
          ]
        },
        {
          "output_type": "stream",
          "name": "stderr",
          "text": [
            "100%|██████████| 5/5 [00:43<00:00,  8.66s/it]"
          ]
        },
        {
          "output_type": "stream",
          "name": "stdout",
          "text": [
            "Epoch 4, Loss: 0.01762547756946932, Learning Rate: 0.0006292629352335902\n",
            "Training time:    43.2905 s\n",
            "Testing TransNAS_TSAD on SMAP\n"
          ]
        },
        {
          "output_type": "stream",
          "name": "stderr",
          "text": [
            "\n",
            "[I 2024-02-20 19:23:52,151] Trial 74 finished with values: [0.9480304894715638, 80503.0] and parameters: {'lr': 0.0006292629352335902, 'dropout_rate': 0.2821235154259625, 'dim_feedforward': 126, 'batch': 32, 'encoder_layers': 2, 'decoder_layers': 1, 'activation_function': 'leaky_relu', 'time_warping': True, 'time_masking': True, 'gaussian_noise': 0.002097308720032317, 'use_linear_embedding': False, 'phase_type': 'iterative', 'self_conditioning': False, 'layer_norm': True, 'positional_encoding_type': 'fourier', 'num_ffn_layers': 1}. \n",
            "/usr/local/lib/python3.10/dist-packages/torch/nn/modules/transformer.py:282: UserWarning: enable_nested_tensor is True, but self.use_nested_tensor is False because encoder_layer was not TransformerEncoderLayer\n",
            "  warnings.warn(f\"enable_nested_tensor is True, but self.use_nested_tensor is False because {why_not_sparsity_fast_path}\")\n"
          ]
        },
        {
          "output_type": "stream",
          "name": "stdout",
          "text": [
            "{'FN': 0,\n",
            " 'FP': 82,\n",
            " 'ROC/AUC': 0.9947144514631946,\n",
            " 'TN': 7675,\n",
            " 'TP': 748,\n",
            " 'f1': 0.9480304894715638,\n",
            " 'precision': 0.9012048084192192,\n",
            " 'recall': 0.9999999866310163,\n",
            " 'threshold': 0.19682396692761545}\n",
            "25\n",
            "Hyperparameters: {'lr': 0.0017732245206704242, 'dropout_rate': 0.3049483887939451, 'dim_feedforward': 51, 'batch': 96, 'encoder_layers': 1, 'decoder_layers': 3, 'attention_type': 'scaled_dot_product', 'positional_encoding_type': 'sinusoidal', 'phase_type': 'iterative', 'gaussian_noise_std': 0.024554085709457885, 'time_warping': False, 'time_masking': False, 'self_conditioning': False, 'layer_norm': True, 'activation_function': 'leaky_relu', 'use_linear_embedding': False, 'nhead': 25, 'num_ffn_layers': 1}\n",
            "Creating new model: TransNAS_TSAD\n",
            "Training TransNAS_TSAD on SMAP\n"
          ]
        },
        {
          "output_type": "stream",
          "name": "stderr",
          "text": [
            " 20%|██        | 1/5 [00:05<00:21,  5.39s/it]"
          ]
        },
        {
          "output_type": "stream",
          "name": "stdout",
          "text": [
            "Epoch 0, Loss: 0.9020146420499422, Learning Rate: 0.0017732245206704242\n"
          ]
        },
        {
          "output_type": "stream",
          "name": "stderr",
          "text": [
            "\r 40%|████      | 2/5 [00:11<00:16,  5.62s/it]"
          ]
        },
        {
          "output_type": "stream",
          "name": "stdout",
          "text": [
            "Epoch 1, Loss: 0.06747136998574464, Learning Rate: 0.0017732245206704242\n"
          ]
        },
        {
          "output_type": "stream",
          "name": "stderr",
          "text": [
            "\r 60%|██████    | 3/5 [00:16<00:11,  5.66s/it]"
          ]
        },
        {
          "output_type": "stream",
          "name": "stdout",
          "text": [
            "Epoch 2, Loss: 0.05425896954594371, Learning Rate: 0.0017732245206704242\n"
          ]
        },
        {
          "output_type": "stream",
          "name": "stderr",
          "text": [
            "\r 80%|████████  | 4/5 [00:22<00:05,  5.45s/it]"
          ]
        },
        {
          "output_type": "stream",
          "name": "stdout",
          "text": [
            "Epoch 3, Loss: 0.04807595478900511, Learning Rate: 0.0017732245206704242\n"
          ]
        },
        {
          "output_type": "stream",
          "name": "stderr",
          "text": [
            "100%|██████████| 5/5 [00:27<00:00,  5.58s/it]"
          ]
        },
        {
          "output_type": "stream",
          "name": "stdout",
          "text": [
            "Epoch 4, Loss: 0.04552123819421376, Learning Rate: 0.0017732245206704242\n",
            "Training time:    27.9092 s\n",
            "Testing TransNAS_TSAD on SMAP\n"
          ]
        },
        {
          "output_type": "stream",
          "name": "stderr",
          "text": [
            "\n",
            "[I 2024-02-20 19:24:29,195] Trial 75 finished with values: [0.793622829147222, 93579.0] and parameters: {'lr': 0.0017732245206704242, 'dropout_rate': 0.3049483887939451, 'dim_feedforward': 51, 'batch': 96, 'encoder_layers': 1, 'decoder_layers': 3, 'activation_function': 'leaky_relu', 'time_warping': False, 'time_masking': False, 'gaussian_noise': 0.024554085709457885, 'use_linear_embedding': False, 'phase_type': 'iterative', 'self_conditioning': False, 'layer_norm': True, 'positional_encoding_type': 'sinusoidal', 'num_ffn_layers': 1}. \n",
            "/usr/local/lib/python3.10/dist-packages/torch/nn/modules/transformer.py:282: UserWarning: enable_nested_tensor is True, but self.use_nested_tensor is False because encoder_layer was not TransformerEncoderLayer\n",
            "  warnings.warn(f\"enable_nested_tensor is True, but self.use_nested_tensor is False because {why_not_sparsity_fast_path}\")\n"
          ]
        },
        {
          "output_type": "stream",
          "name": "stdout",
          "text": [
            "{'FN': 200,\n",
            " 'FP': 85,\n",
            " 'ROC/AUC': 0.8608312381640457,\n",
            " 'TN': 7672,\n",
            " 'TP': 548,\n",
            " 'f1': 0.793622829147222,\n",
            " 'precision': 0.8657187856916464,\n",
            " 'recall': 0.7326203110612258,\n",
            " 'threshold': 0.3059582504106558}\n",
            "25\n",
            "Hyperparameters: {'lr': 0.0074755668499579845, 'dropout_rate': 0.42197177185433854, 'dim_feedforward': 50, 'batch': 48, 'encoder_layers': 3, 'decoder_layers': 2, 'attention_type': 'scaled_dot_product', 'positional_encoding_type': 'sinusoidal', 'phase_type': 'iterative', 'gaussian_noise_std': 0.00033159075815100594, 'time_warping': False, 'time_masking': True, 'self_conditioning': False, 'layer_norm': False, 'activation_function': 'leaky_relu', 'use_linear_embedding': False, 'nhead': 25, 'num_ffn_layers': 2}\n",
            "Creating new model: TransNAS_TSAD\n",
            "Training TransNAS_TSAD on SMAP\n"
          ]
        },
        {
          "output_type": "stream",
          "name": "stderr",
          "text": [
            " 20%|██        | 1/5 [00:10<00:43, 10.93s/it]"
          ]
        },
        {
          "output_type": "stream",
          "name": "stdout",
          "text": [
            "Epoch 0, Loss: 0.1142764111705421, Learning Rate: 0.0074755668499579845\n"
          ]
        },
        {
          "output_type": "stream",
          "name": "stderr",
          "text": [
            "\r 40%|████      | 2/5 [00:22<00:33, 11.18s/it]"
          ]
        },
        {
          "output_type": "stream",
          "name": "stdout",
          "text": [
            "Epoch 1, Loss: 10268.152345799543, Learning Rate: 0.0074755668499579845\n"
          ]
        },
        {
          "output_type": "stream",
          "name": "stderr",
          "text": [
            "\r 60%|██████    | 3/5 [00:33<00:22, 11.26s/it]"
          ]
        },
        {
          "output_type": "stream",
          "name": "stdout",
          "text": [
            "Epoch 2, Loss: 4658898.207431966, Learning Rate: 0.0074755668499579845\n"
          ]
        },
        {
          "output_type": "stream",
          "name": "stderr",
          "text": [
            "\r 80%|████████  | 4/5 [00:44<00:11, 11.29s/it]"
          ]
        },
        {
          "output_type": "stream",
          "name": "stdout",
          "text": [
            "Epoch 3, Loss: 1956233465.4369164, Learning Rate: 0.0074755668499579845\n"
          ]
        },
        {
          "output_type": "stream",
          "name": "stderr",
          "text": [
            "100%|██████████| 5/5 [00:56<00:00, 11.34s/it]"
          ]
        },
        {
          "output_type": "stream",
          "name": "stdout",
          "text": [
            "Epoch 4, Loss: 223399920568.00687, Learning Rate: 0.0074755668499579845\n",
            "Training time:    56.6976 s\n",
            "Testing TransNAS_TSAD on SMAP\n"
          ]
        },
        {
          "output_type": "stream",
          "name": "stderr",
          "text": [
            "\n",
            "[I 2024-02-20 19:25:45,499] Trial 76 finished with values: [0.5470648019570354, 123675.0] and parameters: {'lr': 0.0074755668499579845, 'dropout_rate': 0.42197177185433854, 'dim_feedforward': 50, 'batch': 48, 'encoder_layers': 3, 'decoder_layers': 2, 'activation_function': 'leaky_relu', 'time_warping': False, 'time_masking': True, 'gaussian_noise': 0.00033159075815100594, 'use_linear_embedding': False, 'phase_type': 'iterative', 'self_conditioning': False, 'layer_norm': False, 'positional_encoding_type': 'sinusoidal', 'num_ffn_layers': 2}. \n",
            "/usr/local/lib/python3.10/dist-packages/torch/nn/modules/transformer.py:282: UserWarning: enable_nested_tensor is True, but self.use_nested_tensor is False because encoder_layer was not TransformerEncoderLayer\n",
            "  warnings.warn(f\"enable_nested_tensor is True, but self.use_nested_tensor is False because {why_not_sparsity_fast_path}\")\n"
          ]
        },
        {
          "output_type": "stream",
          "name": "stdout",
          "text": [
            "{'FN': 440,\n",
            " 'FP': 70,\n",
            " 'ROC/AUC': 0.7013702993121962,\n",
            " 'TN': 7687,\n",
            " 'TP': 308,\n",
            " 'f1': 0.5470648019570354,\n",
            " 'precision': 0.814814793258868,\n",
            " 'recall': 0.41176470037747726,\n",
            " 'threshold': 497932914.96949184}\n",
            "25\n",
            "Hyperparameters: {'lr': 0.00022885177677631517, 'dropout_rate': 0.14085192885479747, 'dim_feedforward': 17, 'batch': 48, 'encoder_layers': 1, 'decoder_layers': 1, 'attention_type': 'scaled_dot_product', 'positional_encoding_type': 'sinusoidal', 'phase_type': 'iterative', 'gaussian_noise_std': 0.0021258291677011465, 'time_warping': True, 'time_masking': False, 'self_conditioning': False, 'layer_norm': True, 'activation_function': 'relu', 'use_linear_embedding': True, 'nhead': 25, 'num_ffn_layers': 1}\n",
            "Creating new model: TransNAS_TSAD\n",
            "Training TransNAS_TSAD on SMAP\n"
          ]
        },
        {
          "output_type": "stream",
          "name": "stderr",
          "text": [
            " 20%|██        | 1/5 [00:04<00:18,  4.74s/it]"
          ]
        },
        {
          "output_type": "stream",
          "name": "stdout",
          "text": [
            "Epoch 0, Loss: 0.11302392121951113, Learning Rate: 0.00022885177677631517\n"
          ]
        },
        {
          "output_type": "stream",
          "name": "stderr",
          "text": [
            "\r 40%|████      | 2/5 [00:09<00:14,  4.99s/it]"
          ]
        },
        {
          "output_type": "stream",
          "name": "stdout",
          "text": [
            "Epoch 1, Loss: 0.02636822986393982, Learning Rate: 0.00022885177677631517\n"
          ]
        },
        {
          "output_type": "stream",
          "name": "stderr",
          "text": [
            "\r 60%|██████    | 3/5 [00:14<00:09,  4.87s/it]"
          ]
        },
        {
          "output_type": "stream",
          "name": "stdout",
          "text": [
            "Epoch 2, Loss: 0.024302384234423866, Learning Rate: 0.00022885177677631517\n"
          ]
        },
        {
          "output_type": "stream",
          "name": "stderr",
          "text": [
            "\r 80%|████████  | 4/5 [00:19<00:04,  4.81s/it]"
          ]
        },
        {
          "output_type": "stream",
          "name": "stdout",
          "text": [
            "Epoch 3, Loss: 0.022569475021497074, Learning Rate: 0.00022885177677631517\n"
          ]
        },
        {
          "output_type": "stream",
          "name": "stderr",
          "text": [
            "100%|██████████| 5/5 [00:24<00:00,  4.87s/it]"
          ]
        },
        {
          "output_type": "stream",
          "name": "stdout",
          "text": [
            "Epoch 4, Loss: 0.021273328989791396, Learning Rate: 0.00022885177677631517\n",
            "Training time:    24.3760 s\n",
            "Testing TransNAS_TSAD on SMAP\n"
          ]
        },
        {
          "output_type": "stream",
          "name": "stderr",
          "text": [
            "\n",
            "[W 2024-02-20 19:26:56,140] Trial 77 failed with parameters: {'lr': 0.00022885177677631517, 'dropout_rate': 0.14085192885479747, 'dim_feedforward': 17, 'batch': 48, 'encoder_layers': 1, 'decoder_layers': 1, 'activation_function': 'relu', 'time_warping': True, 'time_masking': False, 'gaussian_noise': 0.0021258291677011465, 'use_linear_embedding': True, 'phase_type': 'iterative', 'self_conditioning': False, 'layer_norm': True, 'positional_encoding_type': 'sinusoidal', 'num_ffn_layers': 1} because of the following error: The value {'f1': 0.0, 'num_params': inf} could not be cast to float.\n",
            "[W 2024-02-20 19:26:56,141] Trial 77 failed with value {'f1': 0.0, 'num_params': inf}.\n"
          ]
        },
        {
          "output_type": "stream",
          "name": "stdout",
          "text": [
            "Initialization timed out after 40 seconds. Last exception message: zero-size array to reduction operation minimum which has no identity\n",
            "An exception occurred: unsupported operand type(s) for +: 'NoneType' and 'NoneType'\n",
            "25\n"
          ]
        },
        {
          "output_type": "stream",
          "name": "stderr",
          "text": [
            "/usr/local/lib/python3.10/dist-packages/torch/nn/modules/transformer.py:282: UserWarning: enable_nested_tensor is True, but self.use_nested_tensor is False because encoder_layer was not TransformerEncoderLayer\n",
            "  warnings.warn(f\"enable_nested_tensor is True, but self.use_nested_tensor is False because {why_not_sparsity_fast_path}\")\n"
          ]
        },
        {
          "output_type": "stream",
          "name": "stdout",
          "text": [
            "Hyperparameters: {'lr': 0.00801780882964574, 'dropout_rate': 0.18710689268239458, 'dim_feedforward': 86, 'batch': 64, 'encoder_layers': 1, 'decoder_layers': 1, 'attention_type': 'scaled_dot_product', 'positional_encoding_type': 'sinusoidal', 'phase_type': 'iterative', 'gaussian_noise_std': 0.0002628887046777304, 'time_warping': False, 'time_masking': True, 'self_conditioning': True, 'layer_norm': False, 'activation_function': 'tanh', 'use_linear_embedding': True, 'nhead': 25, 'num_ffn_layers': 2}\n",
            "Creating new model: TransNAS_TSAD\n",
            "Training TransNAS_TSAD on SMAP\n"
          ]
        },
        {
          "output_type": "stream",
          "name": "stderr",
          "text": [
            " 20%|██        | 1/5 [00:04<00:19,  4.79s/it]"
          ]
        },
        {
          "output_type": "stream",
          "name": "stdout",
          "text": [
            "Epoch 0, Loss: 0.01599459806722119, Learning Rate: 0.00801780882964574\n"
          ]
        },
        {
          "output_type": "stream",
          "name": "stderr",
          "text": [
            "\r 40%|████      | 2/5 [00:09<00:14,  4.93s/it]"
          ]
        },
        {
          "output_type": "stream",
          "name": "stdout",
          "text": [
            "Epoch 1, Loss: 0.0018871962384827458, Learning Rate: 0.00801780882964574\n"
          ]
        },
        {
          "output_type": "stream",
          "name": "stderr",
          "text": [
            "\r 60%|██████    | 3/5 [00:14<00:09,  4.88s/it]"
          ]
        },
        {
          "output_type": "stream",
          "name": "stdout",
          "text": [
            "Epoch 2, Loss: 0.0012924400945116626, Learning Rate: 0.00801780882964574\n"
          ]
        },
        {
          "output_type": "stream",
          "name": "stderr",
          "text": [
            "\r 80%|████████  | 4/5 [00:19<00:04,  4.85s/it]"
          ]
        },
        {
          "output_type": "stream",
          "name": "stdout",
          "text": [
            "Epoch 3, Loss: 0.0010256666096680488, Learning Rate: 0.00801780882964574\n"
          ]
        },
        {
          "output_type": "stream",
          "name": "stderr",
          "text": [
            "100%|██████████| 5/5 [00:24<00:00,  4.94s/it]"
          ]
        },
        {
          "output_type": "stream",
          "name": "stdout",
          "text": [
            "Epoch 4, Loss: 0.0008815940940935101, Learning Rate: 0.00801780882964574\n",
            "Training time:    24.7279 s\n",
            "Testing TransNAS_TSAD on SMAP\n"
          ]
        },
        {
          "output_type": "stream",
          "name": "stderr",
          "text": [
            "\n",
            "[I 2024-02-20 19:27:28,547] Trial 78 finished with values: [0.7298800749281755, 69369.0] and parameters: {'lr': 0.00801780882964574, 'dropout_rate': 0.18710689268239458, 'dim_feedforward': 86, 'batch': 64, 'encoder_layers': 1, 'decoder_layers': 1, 'activation_function': 'tanh', 'time_warping': False, 'time_masking': True, 'gaussian_noise': 0.0002628887046777304, 'use_linear_embedding': True, 'phase_type': 'iterative', 'self_conditioning': True, 'layer_norm': False, 'positional_encoding_type': 'sinusoidal', 'num_ffn_layers': 2}. \n",
            "/usr/local/lib/python3.10/dist-packages/torch/nn/modules/transformer.py:282: UserWarning: enable_nested_tensor is True, but self.use_nested_tensor is False because encoder_layer was not TransformerEncoderLayer\n",
            "  warnings.warn(f\"enable_nested_tensor is True, but self.use_nested_tensor is False because {why_not_sparsity_fast_path}\")\n"
          ]
        },
        {
          "output_type": "stream",
          "name": "stdout",
          "text": [
            "{'FN': 240,\n",
            " 'FP': 136,\n",
            " 'ROC/AUC': 0.8308059168913502,\n",
            " 'TN': 7621,\n",
            " 'TP': 508,\n",
            " 'f1': 0.7298800749281755,\n",
            " 'precision': 0.7888198635276419,\n",
            " 'recall': 0.6791443759472677,\n",
            " 'threshold': 0.007418001728086519}\n",
            "25\n",
            "Hyperparameters: {'lr': 0.0016682217526759592, 'dropout_rate': 0.14096581591308013, 'dim_feedforward': 91, 'batch': 32, 'encoder_layers': 3, 'decoder_layers': 1, 'attention_type': 'scaled_dot_product', 'positional_encoding_type': 'fourier', 'phase_type': '2phase', 'gaussian_noise_std': 0.01394872388560863, 'time_warping': True, 'time_masking': False, 'self_conditioning': False, 'layer_norm': True, 'activation_function': 'leaky_relu', 'use_linear_embedding': True, 'nhead': 25, 'num_ffn_layers': 3}\n",
            "Creating new model: TransNAS_TSAD\n",
            "Training TransNAS_TSAD on SMAP\n"
          ]
        },
        {
          "output_type": "stream",
          "name": "stderr",
          "text": [
            " 20%|██        | 1/5 [00:05<00:22,  5.68s/it]"
          ]
        },
        {
          "output_type": "stream",
          "name": "stdout",
          "text": [
            "Epoch 0, Loss: 0.1378859655774903, Learning Rate: 0.0016682217526759592\n"
          ]
        },
        {
          "output_type": "stream",
          "name": "stderr",
          "text": [
            "\r 40%|████      | 2/5 [00:10<00:16,  5.42s/it]"
          ]
        },
        {
          "output_type": "stream",
          "name": "stdout",
          "text": [
            "Epoch 1, Loss: 0.027959704869241233, Learning Rate: 0.0016682217526759592\n"
          ]
        },
        {
          "output_type": "stream",
          "name": "stderr",
          "text": [
            "\r 60%|██████    | 3/5 [00:16<00:11,  5.53s/it]"
          ]
        },
        {
          "output_type": "stream",
          "name": "stdout",
          "text": [
            "Epoch 2, Loss: 0.018229281452155133, Learning Rate: 0.0016682217526759592\n"
          ]
        },
        {
          "output_type": "stream",
          "name": "stderr",
          "text": [
            "\r 80%|████████  | 4/5 [00:21<00:05,  5.45s/it]"
          ]
        },
        {
          "output_type": "stream",
          "name": "stdout",
          "text": [
            "Epoch 3, Loss: 0.011221447229348584, Learning Rate: 0.0016682217526759592\n"
          ]
        },
        {
          "output_type": "stream",
          "name": "stderr",
          "text": [
            "100%|██████████| 5/5 [00:27<00:00,  5.52s/it]"
          ]
        },
        {
          "output_type": "stream",
          "name": "stdout",
          "text": [
            "Epoch 4, Loss: 0.008090292268121104, Learning Rate: 0.0016682217526759592\n",
            "Training time:    27.6103 s\n",
            "Testing TransNAS_TSAD on SMAP\n"
          ]
        },
        {
          "output_type": "stream",
          "name": "stderr",
          "text": [
            "\n",
            "[I 2024-02-20 19:28:00,613] Trial 79 finished with values: [0.9583550220412367, 213940.0] and parameters: {'lr': 0.0016682217526759592, 'dropout_rate': 0.14096581591308013, 'dim_feedforward': 91, 'batch': 32, 'encoder_layers': 3, 'decoder_layers': 1, 'activation_function': 'leaky_relu', 'time_warping': True, 'time_masking': False, 'gaussian_noise': 0.01394872388560863, 'use_linear_embedding': True, 'phase_type': '2phase', 'self_conditioning': False, 'layer_norm': True, 'positional_encoding_type': 'fourier', 'num_ffn_layers': 3}. \n"
          ]
        },
        {
          "output_type": "stream",
          "name": "stdout",
          "text": [
            "{'FN': 0,\n",
            " 'FP': 65,\n",
            " 'ROC/AUC': 0.9958102359159469,\n",
            " 'TN': 7692,\n",
            " 'TP': 748,\n",
            " 'f1': 0.9583550220412367,\n",
            " 'precision': 0.9200491891752868,\n",
            " 'recall': 0.9999999866310163,\n",
            " 'threshold': 0.08964668153345412}\n",
            "25\n",
            "Hyperparameters: {'lr': 0.001879072812171396, 'dropout_rate': 0.14504883403304214, 'dim_feedforward': 30, 'batch': 32, 'encoder_layers': 1, 'decoder_layers': 3, 'attention_type': 'scaled_dot_product', 'positional_encoding_type': 'fourier', 'phase_type': 'iterative', 'gaussian_noise_std': 0.013089879270761431, 'time_warping': False, 'time_masking': False, 'self_conditioning': False, 'layer_norm': False, 'activation_function': 'sigmoid', 'use_linear_embedding': False, 'nhead': 25, 'num_ffn_layers': 1}\n",
            "Creating new model: TransNAS_TSAD\n"
          ]
        },
        {
          "output_type": "stream",
          "name": "stderr",
          "text": [
            "/usr/local/lib/python3.10/dist-packages/torch/nn/modules/transformer.py:282: UserWarning: enable_nested_tensor is True, but self.use_nested_tensor is False because encoder_layer was not TransformerEncoderLayer\n",
            "  warnings.warn(f\"enable_nested_tensor is True, but self.use_nested_tensor is False because {why_not_sparsity_fast_path}\")\n"
          ]
        },
        {
          "output_type": "stream",
          "name": "stdout",
          "text": [
            "Training TransNAS_TSAD on SMAP\n"
          ]
        },
        {
          "output_type": "stream",
          "name": "stderr",
          "text": [
            " 20%|██        | 1/5 [00:10<00:43, 10.77s/it]"
          ]
        },
        {
          "output_type": "stream",
          "name": "stdout",
          "text": [
            "Epoch 0, Loss: 0.02596848804108389, Learning Rate: 0.001879072812171396\n"
          ]
        },
        {
          "output_type": "stream",
          "name": "stderr",
          "text": [
            "\r 40%|████      | 2/5 [00:21<00:32, 10.99s/it]"
          ]
        },
        {
          "output_type": "stream",
          "name": "stdout",
          "text": [
            "Epoch 1, Loss: 0.007164439059629195, Learning Rate: 0.001879072812171396\n"
          ]
        },
        {
          "output_type": "stream",
          "name": "stderr",
          "text": [
            "\r 60%|██████    | 3/5 [00:31<00:21, 10.57s/it]"
          ]
        },
        {
          "output_type": "stream",
          "name": "stdout",
          "text": [
            "Epoch 2, Loss: 0.0048862634402423, Learning Rate: 0.001879072812171396\n"
          ]
        },
        {
          "output_type": "stream",
          "name": "stderr",
          "text": [
            "\r 80%|████████  | 4/5 [00:42<00:10, 10.59s/it]"
          ]
        },
        {
          "output_type": "stream",
          "name": "stdout",
          "text": [
            "Epoch 3, Loss: 0.002107643149441462, Learning Rate: 0.001879072812171396\n"
          ]
        },
        {
          "output_type": "stream",
          "name": "stderr",
          "text": [
            "100%|██████████| 5/5 [00:54<00:00, 10.81s/it]"
          ]
        },
        {
          "output_type": "stream",
          "name": "stdout",
          "text": [
            "Epoch 4, Loss: 0.0014249861500533908, Learning Rate: 0.001879072812171396\n",
            "Training time:    54.0650 s\n",
            "Testing TransNAS_TSAD on SMAP\n"
          ]
        },
        {
          "output_type": "stream",
          "name": "stderr",
          "text": [
            "\n",
            "[I 2024-02-20 19:29:03,514] Trial 80 finished with values: [0.0, 84995.0] and parameters: {'lr': 0.001879072812171396, 'dropout_rate': 0.14504883403304214, 'dim_feedforward': 30, 'batch': 32, 'encoder_layers': 1, 'decoder_layers': 3, 'activation_function': 'sigmoid', 'time_warping': False, 'time_masking': False, 'gaussian_noise': 0.013089879270761431, 'use_linear_embedding': False, 'phase_type': 'iterative', 'self_conditioning': False, 'layer_norm': False, 'positional_encoding_type': 'fourier', 'num_ffn_layers': 1}. \n",
            "/usr/local/lib/python3.10/dist-packages/torch/nn/modules/transformer.py:282: UserWarning: enable_nested_tensor is True, but self.use_nested_tensor is False because encoder_layer was not TransformerEncoderLayer\n",
            "  warnings.warn(f\"enable_nested_tensor is True, but self.use_nested_tensor is False because {why_not_sparsity_fast_path}\")\n"
          ]
        },
        {
          "output_type": "stream",
          "name": "stdout",
          "text": [
            "{'FN': 748,\n",
            " 'FP': 0,\n",
            " 'ROC/AUC': 0.5,\n",
            " 'TN': 7757,\n",
            " 'TP': 0,\n",
            " 'f1': 0.0,\n",
            " 'precision': 0.0,\n",
            " 'recall': 0.0,\n",
            " 'threshold': 158118987.82477653}\n",
            "25\n",
            "Hyperparameters: {'lr': 0.0016682217526759592, 'dropout_rate': 0.14504883403304214, 'dim_feedforward': 15, 'batch': 32, 'encoder_layers': 3, 'decoder_layers': 1, 'attention_type': 'scaled_dot_product', 'positional_encoding_type': 'fourier', 'phase_type': 'iterative', 'gaussian_noise_std': 0.01394872388560863, 'time_warping': True, 'time_masking': False, 'self_conditioning': False, 'layer_norm': False, 'activation_function': 'leaky_relu', 'use_linear_embedding': False, 'nhead': 25, 'num_ffn_layers': 3}\n",
            "Creating new model: TransNAS_TSAD\n",
            "Training TransNAS_TSAD on SMAP\n"
          ]
        },
        {
          "output_type": "stream",
          "name": "stderr",
          "text": [
            " 20%|██        | 1/5 [00:12<00:49, 12.42s/it]"
          ]
        },
        {
          "output_type": "stream",
          "name": "stdout",
          "text": [
            "Epoch 0, Loss: 0.02048613014048347, Learning Rate: 0.0016682217526759592\n"
          ]
        },
        {
          "output_type": "stream",
          "name": "stderr",
          "text": [
            "\r 40%|████      | 2/5 [00:24<00:37, 12.42s/it]"
          ]
        },
        {
          "output_type": "stream",
          "name": "stdout",
          "text": [
            "Epoch 1, Loss: 0.003987849853487316, Learning Rate: 0.0016682217526759592\n"
          ]
        },
        {
          "output_type": "stream",
          "name": "stderr",
          "text": [
            "\r 60%|██████    | 3/5 [00:37<00:24, 12.43s/it]"
          ]
        },
        {
          "output_type": "stream",
          "name": "stdout",
          "text": [
            "Epoch 2, Loss: 0.0024183169151588023, Learning Rate: 0.0016682217526759592\n"
          ]
        },
        {
          "output_type": "stream",
          "name": "stderr",
          "text": [
            "\r 80%|████████  | 4/5 [00:49<00:12, 12.49s/it]"
          ]
        },
        {
          "output_type": "stream",
          "name": "stdout",
          "text": [
            "Epoch 3, Loss: 0.0013772094108877796, Learning Rate: 0.0016682217526759592\n"
          ]
        },
        {
          "output_type": "stream",
          "name": "stderr",
          "text": [
            "100%|██████████| 5/5 [01:02<00:00, 12.47s/it]"
          ]
        },
        {
          "output_type": "stream",
          "name": "stdout",
          "text": [
            "Epoch 4, Loss: 0.0010852133875598785, Learning Rate: 0.0016682217526759592\n",
            "Training time:    62.3667 s\n",
            "Testing TransNAS_TSAD on SMAP\n"
          ]
        },
        {
          "output_type": "stream",
          "name": "stderr",
          "text": [
            "\n",
            "[I 2024-02-20 19:30:23,962] Trial 81 finished with values: [0.5403463553469913, 71055.0] and parameters: {'lr': 0.0016682217526759592, 'dropout_rate': 0.14504883403304214, 'dim_feedforward': 15, 'batch': 32, 'encoder_layers': 3, 'decoder_layers': 1, 'activation_function': 'leaky_relu', 'time_warping': True, 'time_masking': False, 'gaussian_noise': 0.01394872388560863, 'use_linear_embedding': False, 'phase_type': 'iterative', 'self_conditioning': False, 'layer_norm': False, 'positional_encoding_type': 'fourier', 'num_ffn_layers': 3}. \n",
            "/usr/local/lib/python3.10/dist-packages/torch/nn/modules/transformer.py:282: UserWarning: enable_nested_tensor is True, but self.use_nested_tensor is False because encoder_layer was not TransformerEncoderLayer\n",
            "  warnings.warn(f\"enable_nested_tensor is True, but self.use_nested_tensor is False because {why_not_sparsity_fast_path}\")\n"
          ]
        },
        {
          "output_type": "stream",
          "name": "stdout",
          "text": [
            "{'FN': 440,\n",
            " 'FP': 84,\n",
            " 'ROC/AUC': 0.7004678885864001,\n",
            " 'TN': 7673,\n",
            " 'TP': 308,\n",
            " 'f1': 0.5403463553469913,\n",
            " 'precision': 0.7857142656705545,\n",
            " 'recall': 0.41176470037747726,\n",
            " 'threshold': 0.010636776574587148}\n",
            "25\n",
            "Hyperparameters: {'lr': 0.0017732245206704242, 'dropout_rate': 0.3049483887939451, 'dim_feedforward': 51, 'batch': 32, 'encoder_layers': 3, 'decoder_layers': 2, 'attention_type': 'scaled_dot_product', 'positional_encoding_type': 'sinusoidal', 'phase_type': 'iterative', 'gaussian_noise_std': 0.0004199473215621927, 'time_warping': True, 'time_masking': False, 'self_conditioning': False, 'layer_norm': True, 'activation_function': 'tanh', 'use_linear_embedding': False, 'nhead': 25, 'num_ffn_layers': 1}\n",
            "Creating new model: TransNAS_TSAD\n",
            "Training TransNAS_TSAD on SMAP\n"
          ]
        },
        {
          "output_type": "stream",
          "name": "stderr",
          "text": [
            " 20%|██        | 1/5 [00:12<00:51, 12.83s/it]"
          ]
        },
        {
          "output_type": "stream",
          "name": "stdout",
          "text": [
            "Epoch 0, Loss: 0.7096271948480567, Learning Rate: 0.0017732245206704242\n"
          ]
        },
        {
          "output_type": "stream",
          "name": "stderr",
          "text": [
            "\r 40%|████      | 2/5 [00:25<00:38, 12.83s/it]"
          ]
        },
        {
          "output_type": "stream",
          "name": "stdout",
          "text": [
            "Epoch 1, Loss: 0.23628545070305348, Learning Rate: 0.0017732245206704242\n"
          ]
        },
        {
          "output_type": "stream",
          "name": "stderr",
          "text": [
            "\r 60%|██████    | 3/5 [00:38<00:25, 12.84s/it]"
          ]
        },
        {
          "output_type": "stream",
          "name": "stdout",
          "text": [
            "Epoch 2, Loss: 0.023390861921756868, Learning Rate: 0.0017732245206704242\n"
          ]
        },
        {
          "output_type": "stream",
          "name": "stderr",
          "text": [
            "\r 80%|████████  | 4/5 [00:51<00:12, 12.81s/it]"
          ]
        },
        {
          "output_type": "stream",
          "name": "stdout",
          "text": [
            "Epoch 3, Loss: 0.013540782931252528, Learning Rate: 0.0017732245206704242\n"
          ]
        },
        {
          "output_type": "stream",
          "name": "stderr",
          "text": [
            "100%|██████████| 5/5 [01:04<00:00, 12.85s/it]"
          ]
        },
        {
          "output_type": "stream",
          "name": "stdout",
          "text": [
            "Epoch 4, Loss: 0.010825346833907292, Learning Rate: 0.0017732245206704242\n",
            "Training time:    64.2299 s\n",
            "Testing TransNAS_TSAD on SMAP\n"
          ]
        },
        {
          "output_type": "stream",
          "name": "stderr",
          "text": [
            "\n",
            "[I 2024-02-20 19:31:46,927] Trial 82 finished with values: [0.5756967163902276, 98780.0] and parameters: {'lr': 0.0017732245206704242, 'dropout_rate': 0.3049483887939451, 'dim_feedforward': 51, 'batch': 32, 'encoder_layers': 3, 'decoder_layers': 2, 'activation_function': 'tanh', 'time_warping': True, 'time_masking': False, 'gaussian_noise': 0.0004199473215621927, 'use_linear_embedding': False, 'phase_type': 'iterative', 'self_conditioning': False, 'layer_norm': True, 'positional_encoding_type': 'sinusoidal', 'num_ffn_layers': 1}. \n",
            "/usr/local/lib/python3.10/dist-packages/torch/nn/modules/transformer.py:282: UserWarning: enable_nested_tensor is True, but self.use_nested_tensor is False because encoder_layer was not TransformerEncoderLayer\n",
            "  warnings.warn(f\"enable_nested_tensor is True, but self.use_nested_tensor is False because {why_not_sparsity_fast_path}\")\n"
          ]
        },
        {
          "output_type": "stream",
          "name": "stdout",
          "text": [
            "{'FN': 440,\n",
            " 'FP': 14,\n",
            " 'ROC/AUC': 0.7049799422153804,\n",
            " 'TN': 7743,\n",
            " 'TP': 308,\n",
            " 'f1': 0.5756967163902276,\n",
            " 'precision': 0.9565217094247918,\n",
            " 'recall': 0.41176470037747726,\n",
            " 'threshold': 0.11581230157222643}\n",
            "25\n",
            "Hyperparameters: {'lr': 0.00536632978120047, 'dropout_rate': 0.33951962766713273, 'dim_feedforward': 66, 'batch': 32, 'encoder_layers': 1, 'decoder_layers': 1, 'attention_type': 'scaled_dot_product', 'positional_encoding_type': 'fourier', 'phase_type': 'iterative', 'gaussian_noise_std': 0.0004199473215621927, 'time_warping': False, 'time_masking': True, 'self_conditioning': True, 'layer_norm': False, 'activation_function': 'relu', 'use_linear_embedding': False, 'nhead': 25, 'num_ffn_layers': 1}\n",
            "Creating new model: TransNAS_TSAD\n",
            "Training TransNAS_TSAD on SMAP\n"
          ]
        },
        {
          "output_type": "stream",
          "name": "stderr",
          "text": [
            " 20%|██        | 1/5 [00:06<00:24,  6.01s/it]"
          ]
        },
        {
          "output_type": "stream",
          "name": "stdout",
          "text": [
            "Epoch 0, Loss: 0.010319095764442685, Learning Rate: 0.00536632978120047\n"
          ]
        },
        {
          "output_type": "stream",
          "name": "stderr",
          "text": [
            "\r 40%|████      | 2/5 [00:11<00:17,  5.78s/it]"
          ]
        },
        {
          "output_type": "stream",
          "name": "stdout",
          "text": [
            "Epoch 1, Loss: 0.004550730270060599, Learning Rate: 0.00536632978120047\n"
          ]
        },
        {
          "output_type": "stream",
          "name": "stderr",
          "text": [
            "\r 60%|██████    | 3/5 [00:17<00:11,  5.86s/it]"
          ]
        },
        {
          "output_type": "stream",
          "name": "stdout",
          "text": [
            "Epoch 2, Loss: 0.0027554078688258334, Learning Rate: 0.00536632978120047\n"
          ]
        },
        {
          "output_type": "stream",
          "name": "stderr",
          "text": [
            "\r 80%|████████  | 4/5 [00:23<00:05,  5.75s/it]"
          ]
        },
        {
          "output_type": "stream",
          "name": "stdout",
          "text": [
            "Epoch 3, Loss: 0.002413484746346245, Learning Rate: 0.00536632978120047\n"
          ]
        },
        {
          "output_type": "stream",
          "name": "stderr",
          "text": [
            "100%|██████████| 5/5 [00:29<00:00,  5.86s/it]"
          ]
        },
        {
          "output_type": "stream",
          "name": "stdout",
          "text": [
            "Epoch 4, Loss: 0.0022379293320315984, Learning Rate: 0.00536632978120047\n",
            "Training time:    29.2858 s\n",
            "Testing TransNAS_TSAD on SMAP\n"
          ]
        },
        {
          "output_type": "stream",
          "name": "stderr",
          "text": [
            "\n",
            "[W 2024-02-20 19:33:01,932] Trial 83 failed with parameters: {'lr': 0.00536632978120047, 'dropout_rate': 0.33951962766713273, 'dim_feedforward': 66, 'batch': 32, 'encoder_layers': 1, 'decoder_layers': 1, 'activation_function': 'relu', 'time_warping': False, 'time_masking': True, 'gaussian_noise': 0.0004199473215621927, 'use_linear_embedding': False, 'phase_type': 'iterative', 'self_conditioning': True, 'layer_norm': False, 'positional_encoding_type': 'fourier', 'num_ffn_layers': 1} because of the following error: The value {'f1': 0.0, 'num_params': inf} could not be cast to float.\n",
            "[W 2024-02-20 19:33:01,933] Trial 83 failed with value {'f1': 0.0, 'num_params': inf}.\n",
            "/usr/local/lib/python3.10/dist-packages/torch/nn/modules/transformer.py:282: UserWarning: enable_nested_tensor is True, but self.use_nested_tensor is False because encoder_layer was not TransformerEncoderLayer\n",
            "  warnings.warn(f\"enable_nested_tensor is True, but self.use_nested_tensor is False because {why_not_sparsity_fast_path}\")\n"
          ]
        },
        {
          "output_type": "stream",
          "name": "stdout",
          "text": [
            "Initialization timed out after 40 seconds. Last exception message: zero-size array to reduction operation minimum which has no identity\n",
            "An exception occurred: unsupported operand type(s) for +: 'NoneType' and 'NoneType'\n",
            "25\n",
            "Hyperparameters: {'lr': 0.00022885177677631517, 'dropout_rate': 0.14085192885479747, 'dim_feedforward': 66, 'batch': 16, 'encoder_layers': 1, 'decoder_layers': 2, 'attention_type': 'scaled_dot_product', 'positional_encoding_type': 'fourier', 'phase_type': 'iterative', 'gaussian_noise_std': 0.0004199473215621927, 'time_warping': True, 'time_masking': False, 'self_conditioning': False, 'layer_norm': False, 'activation_function': 'relu', 'use_linear_embedding': False, 'nhead': 25, 'num_ffn_layers': 1}\n",
            "Creating new model: TransNAS_TSAD\n",
            "Training TransNAS_TSAD on SMAP\n"
          ]
        },
        {
          "output_type": "stream",
          "name": "stderr",
          "text": [
            " 20%|██        | 1/5 [00:12<00:48, 12.11s/it]"
          ]
        },
        {
          "output_type": "stream",
          "name": "stdout",
          "text": [
            "Epoch 0, Loss: 0.022336790211601166, Learning Rate: 0.00022885177677631517\n"
          ]
        },
        {
          "output_type": "stream",
          "name": "stderr",
          "text": [
            "\r 40%|████      | 2/5 [00:24<00:36, 12.13s/it]"
          ]
        },
        {
          "output_type": "stream",
          "name": "stdout",
          "text": [
            "Epoch 1, Loss: 0.008171056913227627, Learning Rate: 0.00022885177677631517\n"
          ]
        },
        {
          "output_type": "stream",
          "name": "stderr",
          "text": [
            "\r 60%|██████    | 3/5 [00:36<00:24, 12.24s/it]"
          ]
        },
        {
          "output_type": "stream",
          "name": "stdout",
          "text": [
            "Epoch 2, Loss: 0.006515920410759783, Learning Rate: 0.00022885177677631517\n"
          ]
        },
        {
          "output_type": "stream",
          "name": "stderr",
          "text": [
            "\r 80%|████████  | 4/5 [00:48<00:12, 12.23s/it]"
          ]
        },
        {
          "output_type": "stream",
          "name": "stdout",
          "text": [
            "Epoch 3, Loss: 0.00531137535156455, Learning Rate: 0.00022885177677631517\n"
          ]
        },
        {
          "output_type": "stream",
          "name": "stderr",
          "text": [
            "100%|██████████| 5/5 [01:00<00:00, 12.19s/it]"
          ]
        },
        {
          "output_type": "stream",
          "name": "stdout",
          "text": [
            "Epoch 4, Loss: 0.0034424319483669936, Learning Rate: 0.00022885177677631517\n",
            "Training time:    60.9561 s\n",
            "Testing TransNAS_TSAD on SMAP\n"
          ]
        },
        {
          "output_type": "stream",
          "name": "stderr",
          "text": [
            "\n",
            "[I 2024-02-20 19:34:10,410] Trial 84 finished with values: [0.9361652214468794, 72423.0] and parameters: {'lr': 0.00022885177677631517, 'dropout_rate': 0.14085192885479747, 'dim_feedforward': 66, 'batch': 16, 'encoder_layers': 1, 'decoder_layers': 2, 'activation_function': 'relu', 'time_warping': True, 'time_masking': False, 'gaussian_noise': 0.0004199473215621927, 'use_linear_embedding': False, 'phase_type': 'iterative', 'self_conditioning': False, 'layer_norm': False, 'positional_encoding_type': 'fourier', 'num_ffn_layers': 1}. \n",
            "/usr/local/lib/python3.10/dist-packages/torch/nn/modules/transformer.py:282: UserWarning: enable_nested_tensor is True, but self.use_nested_tensor is False because encoder_layer was not TransformerEncoderLayer\n",
            "  warnings.warn(f\"enable_nested_tensor is True, but self.use_nested_tensor is False because {why_not_sparsity_fast_path}\")\n"
          ]
        },
        {
          "output_type": "stream",
          "name": "stdout",
          "text": [
            "{'FN': 0,\n",
            " 'FP': 102,\n",
            " 'ROC/AUC': 0.9934252932834859,\n",
            " 'TN': 7655,\n",
            " 'TP': 748,\n",
            " 'f1': 0.9361652214468794,\n",
            " 'precision': 0.8799999896470589,\n",
            " 'recall': 0.9999999866310163,\n",
            " 'threshold': 0.08494799927767677}\n",
            "25\n",
            "Hyperparameters: {'lr': 0.0007919671711948061, 'dropout_rate': 0.30815049176297565, 'dim_feedforward': 121, 'batch': 96, 'encoder_layers': 3, 'decoder_layers': 2, 'attention_type': 'scaled_dot_product', 'positional_encoding_type': 'fourier', 'phase_type': 'iterative', 'gaussian_noise_std': 0.019279336526418778, 'time_warping': False, 'time_masking': True, 'self_conditioning': True, 'layer_norm': False, 'activation_function': 'tanh', 'use_linear_embedding': True, 'nhead': 25, 'num_ffn_layers': 1}\n",
            "Creating new model: TransNAS_TSAD\n",
            "Training TransNAS_TSAD on SMAP\n"
          ]
        },
        {
          "output_type": "stream",
          "name": "stderr",
          "text": [
            " 20%|██        | 1/5 [00:07<00:31,  7.96s/it]"
          ]
        },
        {
          "output_type": "stream",
          "name": "stdout",
          "text": [
            "Epoch 0, Loss: 0.1253204502448694, Learning Rate: 0.0007919671711948061\n"
          ]
        },
        {
          "output_type": "stream",
          "name": "stderr",
          "text": [
            "\r 40%|████      | 2/5 [00:15<00:23,  7.77s/it]"
          ]
        },
        {
          "output_type": "stream",
          "name": "stdout",
          "text": [
            "Epoch 1, Loss: 0.020597371323772866, Learning Rate: 0.0007919671711948061\n"
          ]
        },
        {
          "output_type": "stream",
          "name": "stderr",
          "text": [
            "\r 60%|██████    | 3/5 [00:23<00:15,  7.80s/it]"
          ]
        },
        {
          "output_type": "stream",
          "name": "stdout",
          "text": [
            "Epoch 2, Loss: 0.011332720236893584, Learning Rate: 0.0007919671711948061\n"
          ]
        },
        {
          "output_type": "stream",
          "name": "stderr",
          "text": [
            "\r 80%|████████  | 4/5 [00:31<00:07,  7.89s/it]"
          ]
        },
        {
          "output_type": "stream",
          "name": "stdout",
          "text": [
            "Epoch 3, Loss: 0.008231157335423081, Learning Rate: 0.0007919671711948061\n"
          ]
        },
        {
          "output_type": "stream",
          "name": "stderr",
          "text": [
            "100%|██████████| 5/5 [00:39<00:00,  7.80s/it]"
          ]
        },
        {
          "output_type": "stream",
          "name": "stdout",
          "text": [
            "Epoch 4, Loss: 0.006538649650365924, Learning Rate: 0.0007919671711948061\n",
            "Training time:    39.0185 s\n",
            "Testing TransNAS_TSAD on SMAP\n"
          ]
        },
        {
          "output_type": "stream",
          "name": "stderr",
          "text": [
            "\n",
            "[I 2024-02-20 19:35:10,099] Trial 85 finished with values: [0.9245932864934128, 136580.0] and parameters: {'lr': 0.0007919671711948061, 'dropout_rate': 0.30815049176297565, 'dim_feedforward': 121, 'batch': 96, 'encoder_layers': 3, 'decoder_layers': 2, 'activation_function': 'tanh', 'time_warping': False, 'time_masking': True, 'gaussian_noise': 0.019279336526418778, 'use_linear_embedding': True, 'phase_type': 'iterative', 'self_conditioning': True, 'layer_norm': False, 'positional_encoding_type': 'fourier', 'num_ffn_layers': 1}. \n",
            "/usr/local/lib/python3.10/dist-packages/torch/nn/modules/transformer.py:282: UserWarning: enable_nested_tensor is True, but self.use_nested_tensor is False because encoder_layer was not TransformerEncoderLayer\n",
            "  warnings.warn(f\"enable_nested_tensor is True, but self.use_nested_tensor is False because {why_not_sparsity_fast_path}\")\n"
          ]
        },
        {
          "output_type": "stream",
          "name": "stdout",
          "text": [
            "{'FN': 0,\n",
            " 'FP': 122,\n",
            " 'ROC/AUC': 0.9921361351037773,\n",
            " 'TN': 7635,\n",
            " 'TP': 748,\n",
            " 'f1': 0.9245932864934128,\n",
            " 'precision': 0.8597701050601138,\n",
            " 'recall': 0.9999999866310163,\n",
            " 'threshold': 0.036890876411708594}\n",
            "25\n",
            "Hyperparameters: {'lr': 0.004927022114765568, 'dropout_rate': 0.30815049176297565, 'dim_feedforward': 49, 'batch': 96, 'encoder_layers': 1, 'decoder_layers': 2, 'attention_type': 'scaled_dot_product', 'positional_encoding_type': 'fourier', 'phase_type': 'iterative', 'gaussian_noise_std': 0.0001351656328348401, 'time_warping': True, 'time_masking': False, 'self_conditioning': False, 'layer_norm': True, 'activation_function': 'leaky_relu', 'use_linear_embedding': True, 'nhead': 25, 'num_ffn_layers': 1}\n",
            "Creating new model: TransNAS_TSAD\n",
            "Training TransNAS_TSAD on SMAP\n"
          ]
        },
        {
          "output_type": "stream",
          "name": "stderr",
          "text": [
            " 20%|██        | 1/5 [00:04<00:17,  4.43s/it]"
          ]
        },
        {
          "output_type": "stream",
          "name": "stdout",
          "text": [
            "Epoch 0, Loss: 0.26374485968789685, Learning Rate: 0.004927022114765568\n"
          ]
        },
        {
          "output_type": "stream",
          "name": "stderr",
          "text": [
            "\r 40%|████      | 2/5 [00:09<00:13,  4.63s/it]"
          ]
        },
        {
          "output_type": "stream",
          "name": "stdout",
          "text": [
            "Epoch 1, Loss: 0.03730481570379693, Learning Rate: 0.004927022114765568\n"
          ]
        },
        {
          "output_type": "stream",
          "name": "stderr",
          "text": [
            "\r 60%|██████    | 3/5 [00:13<00:09,  4.51s/it]"
          ]
        },
        {
          "output_type": "stream",
          "name": "stdout",
          "text": [
            "Epoch 2, Loss: 0.03102860742658043, Learning Rate: 0.004927022114765568\n"
          ]
        },
        {
          "output_type": "stream",
          "name": "stderr",
          "text": [
            "\r 80%|████████  | 4/5 [00:18<00:04,  4.50s/it]"
          ]
        },
        {
          "output_type": "stream",
          "name": "stdout",
          "text": [
            "Epoch 3, Loss: 0.029308755035398606, Learning Rate: 0.004927022114765568\n"
          ]
        },
        {
          "output_type": "stream",
          "name": "stderr",
          "text": [
            "100%|██████████| 5/5 [00:22<00:00,  4.54s/it]"
          ]
        },
        {
          "output_type": "stream",
          "name": "stdout",
          "text": [
            "Epoch 4, Loss: 0.02840226735847284, Learning Rate: 0.004927022114765568\n",
            "Training time:    22.6813 s\n",
            "Testing TransNAS_TSAD on SMAP\n"
          ]
        },
        {
          "output_type": "stream",
          "name": "stderr",
          "text": [
            "\n",
            "[I 2024-02-20 19:35:40,524] Trial 86 finished with values: [0.9291875601361991, 69922.0] and parameters: {'lr': 0.004927022114765568, 'dropout_rate': 0.30815049176297565, 'dim_feedforward': 49, 'batch': 96, 'encoder_layers': 1, 'decoder_layers': 2, 'activation_function': 'leaky_relu', 'time_warping': True, 'time_masking': False, 'gaussian_noise': 0.0001351656328348401, 'use_linear_embedding': True, 'phase_type': 'iterative', 'self_conditioning': False, 'layer_norm': True, 'positional_encoding_type': 'fourier', 'num_ffn_layers': 1}. \n"
          ]
        },
        {
          "output_type": "stream",
          "name": "stdout",
          "text": [
            "{'FN': 0,\n",
            " 'FP': 114,\n",
            " 'ROC/AUC': 0.9926517983756608,\n",
            " 'TN': 7643,\n",
            " 'TP': 748,\n",
            " 'f1': 0.9291875601361991,\n",
            " 'precision': 0.8677494098868979,\n",
            " 'recall': 0.9999999866310163,\n",
            " 'threshold': 0.2703736561696913}\n",
            "25\n",
            "Hyperparameters: {'lr': 0.0016631076921454545, 'dropout_rate': 0.18149302634500797, 'dim_feedforward': 21, 'batch': 16, 'encoder_layers': 3, 'decoder_layers': 1, 'attention_type': 'scaled_dot_product', 'positional_encoding_type': 'sinusoidal', 'phase_type': 'iterative', 'gaussian_noise_std': 0.012333027151671751, 'time_warping': True, 'time_masking': True, 'self_conditioning': False, 'layer_norm': True, 'activation_function': 'leaky_relu', 'use_linear_embedding': False, 'nhead': 25, 'num_ffn_layers': 1}\n",
            "Creating new model: TransNAS_TSAD\n"
          ]
        },
        {
          "output_type": "stream",
          "name": "stderr",
          "text": [
            "/usr/local/lib/python3.10/dist-packages/torch/nn/modules/transformer.py:282: UserWarning: enable_nested_tensor is True, but self.use_nested_tensor is False because encoder_layer was not TransformerEncoderLayer\n",
            "  warnings.warn(f\"enable_nested_tensor is True, but self.use_nested_tensor is False because {why_not_sparsity_fast_path}\")\n"
          ]
        },
        {
          "output_type": "stream",
          "name": "stdout",
          "text": [
            "Training TransNAS_TSAD on SMAP\n"
          ]
        },
        {
          "output_type": "stream",
          "name": "stderr",
          "text": [
            " 20%|██        | 1/5 [00:15<01:02, 15.50s/it]"
          ]
        },
        {
          "output_type": "stream",
          "name": "stdout",
          "text": [
            "Epoch 0, Loss: 0.04464796354812825, Learning Rate: 0.0016631076921454545\n"
          ]
        },
        {
          "output_type": "stream",
          "name": "stderr",
          "text": [
            "\r 40%|████      | 2/5 [00:30<00:45, 15.30s/it]"
          ]
        },
        {
          "output_type": "stream",
          "name": "stdout",
          "text": [
            "Epoch 1, Loss: 0.015843523826899113, Learning Rate: 0.0016631076921454545\n"
          ]
        },
        {
          "output_type": "stream",
          "name": "stderr",
          "text": [
            "\r 60%|██████    | 3/5 [00:45<00:30, 15.29s/it]"
          ]
        },
        {
          "output_type": "stream",
          "name": "stdout",
          "text": [
            "Epoch 2, Loss: 0.009585298575769244, Learning Rate: 0.0016631076921454545\n"
          ]
        },
        {
          "output_type": "stream",
          "name": "stderr",
          "text": [
            "\r 80%|████████  | 4/5 [01:01<00:15, 15.42s/it]"
          ]
        },
        {
          "output_type": "stream",
          "name": "stdout",
          "text": [
            "Epoch 3, Loss: 0.005833333855160457, Learning Rate: 0.0016631076921454545\n"
          ]
        },
        {
          "output_type": "stream",
          "name": "stderr",
          "text": [
            "100%|██████████| 5/5 [01:17<00:00, 15.42s/it]"
          ]
        },
        {
          "output_type": "stream",
          "name": "stdout",
          "text": [
            "Epoch 4, Loss: 0.0036509118675034863, Learning Rate: 0.0016631076921454545\n",
            "Training time:    77.1228 s\n",
            "Testing TransNAS_TSAD on SMAP\n"
          ]
        },
        {
          "output_type": "stream",
          "name": "stderr",
          "text": [
            "\n",
            "[I 2024-02-20 19:37:14,014] Trial 87 finished with values: [0.7987138272797472, 61059.0] and parameters: {'lr': 0.0016631076921454545, 'dropout_rate': 0.18149302634500797, 'dim_feedforward': 21, 'batch': 16, 'encoder_layers': 3, 'decoder_layers': 1, 'activation_function': 'leaky_relu', 'time_warping': True, 'time_masking': True, 'gaussian_noise': 0.012333027151671751, 'use_linear_embedding': False, 'phase_type': 'iterative', 'self_conditioning': False, 'layer_norm': True, 'positional_encoding_type': 'sinusoidal', 'num_ffn_layers': 1}. \n",
            "/usr/local/lib/python3.10/dist-packages/torch/nn/modules/transformer.py:282: UserWarning: enable_nested_tensor is True, but self.use_nested_tensor is False because encoder_layer was not TransformerEncoderLayer\n",
            "  warnings.warn(f\"enable_nested_tensor is True, but self.use_nested_tensor is False because {why_not_sparsity_fast_path}\")\n"
          ]
        },
        {
          "output_type": "stream",
          "name": "stdout",
          "text": [
            "{'FN': 0,\n",
            " 'FP': 377,\n",
            " 'ROC/AUC': 0.9756993683124919,\n",
            " 'TN': 7380,\n",
            " 'TP': 748,\n",
            " 'f1': 0.7987138272797472,\n",
            " 'precision': 0.6648888829787655,\n",
            " 'recall': 0.9999999866310163,\n",
            " 'threshold': 0.039733834212522724}\n",
            "25\n",
            "Hyperparameters: {'lr': 0.007130212758115732, 'dropout_rate': 0.2988391419998785, 'dim_feedforward': 112, 'batch': 96, 'encoder_layers': 2, 'decoder_layers': 1, 'attention_type': 'scaled_dot_product', 'positional_encoding_type': 'fourier', 'phase_type': 'iterative', 'gaussian_noise_std': 0.0006999914250763683, 'time_warping': True, 'time_masking': False, 'self_conditioning': False, 'layer_norm': True, 'activation_function': 'sigmoid', 'use_linear_embedding': True, 'nhead': 25, 'num_ffn_layers': 3}\n",
            "Creating new model: TransNAS_TSAD\n",
            "Training TransNAS_TSAD on SMAP\n"
          ]
        },
        {
          "output_type": "stream",
          "name": "stderr",
          "text": [
            " 20%|██        | 1/5 [00:07<00:28,  7.15s/it]"
          ]
        },
        {
          "output_type": "stream",
          "name": "stdout",
          "text": [
            "Epoch 0, Loss: 0.04196709943438162, Learning Rate: 0.007130212758115732\n"
          ]
        },
        {
          "output_type": "stream",
          "name": "stderr",
          "text": [
            "\r 40%|████      | 2/5 [00:13<00:20,  6.80s/it]"
          ]
        },
        {
          "output_type": "stream",
          "name": "stdout",
          "text": [
            "Epoch 1, Loss: 0.024825501705291384, Learning Rate: 0.007130212758115732\n"
          ]
        },
        {
          "output_type": "stream",
          "name": "stderr",
          "text": [
            "\r 60%|██████    | 3/5 [00:20<00:13,  6.98s/it]"
          ]
        },
        {
          "output_type": "stream",
          "name": "stdout",
          "text": [
            "Epoch 2, Loss: 0.024825499066818104, Learning Rate: 0.007130212758115732\n"
          ]
        },
        {
          "output_type": "stream",
          "name": "stderr",
          "text": [
            "\r 80%|████████  | 4/5 [00:27<00:06,  6.81s/it]"
          ]
        },
        {
          "output_type": "stream",
          "name": "stdout",
          "text": [
            "Epoch 3, Loss: 0.02483915981304332, Learning Rate: 0.007130212758115732\n"
          ]
        },
        {
          "output_type": "stream",
          "name": "stderr",
          "text": [
            "100%|██████████| 5/5 [00:34<00:00,  6.90s/it]"
          ]
        },
        {
          "output_type": "stream",
          "name": "stdout",
          "text": [
            "Epoch 4, Loss: 0.024825491459558025, Learning Rate: 0.007130212758115732\n",
            "Training time:    34.5051 s\n",
            "Testing TransNAS_TSAD on SMAP\n"
          ]
        },
        {
          "output_type": "stream",
          "name": "stderr",
          "text": [
            "\n",
            "/content/drive/MyDrive/TransNAS_TSAD/src/spot.py:329: RuntimeWarning: overflow encountered in square\n",
            "  jac_vs = (1 / t) * (-vs + np.mean(1 / s ** 2))\n",
            "/content/drive/MyDrive/TransNAS_TSAD/src/spot.py:393: RuntimeWarning: overflow encountered in scalar power\n",
            "  return self.init_threshold + (sigma / gamma) * (pow(r, -gamma) - 1)\n",
            "/content/drive/MyDrive/TransNAS_TSAD/src/spot.py:329: RuntimeWarning: overflow encountered in square\n",
            "  jac_vs = (1 / t) * (-vs + np.mean(1 / s ** 2))\n",
            "/content/drive/MyDrive/TransNAS_TSAD/src/spot.py:329: RuntimeWarning: overflow encountered in square\n",
            "  jac_vs = (1 / t) * (-vs + np.mean(1 / s ** 2))\n",
            "/content/drive/MyDrive/TransNAS_TSAD/src/spot.py:393: RuntimeWarning: overflow encountered in scalar power\n",
            "  return self.init_threshold + (sigma / gamma) * (pow(r, -gamma) - 1)\n",
            "/content/drive/MyDrive/TransNAS_TSAD/src/spot.py:393: RuntimeWarning: overflow encountered in scalar power\n",
            "  return self.init_threshold + (sigma / gamma) * (pow(r, -gamma) - 1)\n",
            "/content/drive/MyDrive/TransNAS_TSAD/src/spot.py:393: RuntimeWarning: overflow encountered in scalar power\n",
            "  return self.init_threshold + (sigma / gamma) * (pow(r, -gamma) - 1)\n",
            "/content/drive/MyDrive/TransNAS_TSAD/src/spot.py:393: RuntimeWarning: overflow encountered in scalar power\n",
            "  return self.init_threshold + (sigma / gamma) * (pow(r, -gamma) - 1)\n",
            "/content/drive/MyDrive/TransNAS_TSAD/src/spot.py:393: RuntimeWarning: overflow encountered in scalar power\n",
            "  return self.init_threshold + (sigma / gamma) * (pow(r, -gamma) - 1)\n",
            "[I 2024-02-20 19:38:05,477] Trial 88 finished with values: [0.7525876399556267, 146983.0] and parameters: {'lr': 0.007130212758115732, 'dropout_rate': 0.2988391419998785, 'dim_feedforward': 112, 'batch': 96, 'encoder_layers': 2, 'decoder_layers': 1, 'activation_function': 'sigmoid', 'time_warping': True, 'time_masking': False, 'gaussian_noise': 0.0006999914250763683, 'use_linear_embedding': True, 'phase_type': 'iterative', 'self_conditioning': False, 'layer_norm': True, 'positional_encoding_type': 'fourier', 'num_ffn_layers': 3}. \n"
          ]
        },
        {
          "output_type": "stream",
          "name": "stdout",
          "text": [
            "{'FN': 240,\n",
            " 'FP': 94,\n",
            " 'ROC/AUC': 0.8335131490687384,\n",
            " 'TN': 7663,\n",
            " 'TP': 508,\n",
            " 'f1': 0.7525876399556267,\n",
            " 'precision': 0.8438538065805016,\n",
            " 'recall': 0.6791443759472677,\n",
            " 'threshold': 0.2567840330202476}\n",
            "25\n",
            "Hyperparameters: {'lr': 0.004754857068358564, 'dropout_rate': 0.48800046889393245, 'dim_feedforward': 47, 'batch': 112, 'encoder_layers': 2, 'decoder_layers': 1, 'attention_type': 'scaled_dot_product', 'positional_encoding_type': 'sinusoidal', 'phase_type': '2phase', 'gaussian_noise_std': 0.05849885372507493, 'time_warping': True, 'time_masking': True, 'self_conditioning': True, 'layer_norm': True, 'activation_function': 'tanh', 'use_linear_embedding': False, 'nhead': 25, 'num_ffn_layers': 3}\n",
            "Creating new model: TransNAS_TSAD\n"
          ]
        },
        {
          "output_type": "stream",
          "name": "stderr",
          "text": [
            "/usr/local/lib/python3.10/dist-packages/torch/nn/modules/transformer.py:282: UserWarning: enable_nested_tensor is True, but self.use_nested_tensor is False because encoder_layer was not TransformerEncoderLayer\n",
            "  warnings.warn(f\"enable_nested_tensor is True, but self.use_nested_tensor is False because {why_not_sparsity_fast_path}\")\n"
          ]
        },
        {
          "output_type": "stream",
          "name": "stdout",
          "text": [
            "Training TransNAS_TSAD on SMAP\n"
          ]
        },
        {
          "output_type": "stream",
          "name": "stderr",
          "text": [
            " 20%|██        | 1/5 [00:01<00:07,  1.99s/it]"
          ]
        },
        {
          "output_type": "stream",
          "name": "stdout",
          "text": [
            "Epoch 0, Loss: 0.2683925846540991, Learning Rate: 0.004754857068358564\n"
          ]
        },
        {
          "output_type": "stream",
          "name": "stderr",
          "text": [
            "\r 40%|████      | 2/5 [00:04<00:06,  2.19s/it]"
          ]
        },
        {
          "output_type": "stream",
          "name": "stdout",
          "text": [
            "Epoch 1, Loss: 0.03726846039175558, Learning Rate: 0.004754857068358564\n"
          ]
        },
        {
          "output_type": "stream",
          "name": "stderr",
          "text": [
            "\r 60%|██████    | 3/5 [00:06<00:04,  2.07s/it]"
          ]
        },
        {
          "output_type": "stream",
          "name": "stdout",
          "text": [
            "Epoch 2, Loss: 0.01093556075935581, Learning Rate: 0.004754857068358564\n"
          ]
        },
        {
          "output_type": "stream",
          "name": "stderr",
          "text": [
            "\r 80%|████████  | 4/5 [00:08<00:02,  2.01s/it]"
          ]
        },
        {
          "output_type": "stream",
          "name": "stdout",
          "text": [
            "Epoch 3, Loss: 0.0077684820086468325, Learning Rate: 0.004754857068358564\n"
          ]
        },
        {
          "output_type": "stream",
          "name": "stderr",
          "text": [
            "100%|██████████| 5/5 [00:10<00:00,  2.03s/it]"
          ]
        },
        {
          "output_type": "stream",
          "name": "stdout",
          "text": [
            "Epoch 4, Loss: 0.006088864315912632, Learning Rate: 0.004754857068358564\n",
            "Training time:    10.1417 s\n",
            "Testing TransNAS_TSAD on SMAP\n"
          ]
        },
        {
          "output_type": "stream",
          "name": "stderr",
          "text": [
            "\n",
            "[I 2024-02-20 19:38:18,582] Trial 89 finished with values: [0.9450360644649024, 120139.0] and parameters: {'lr': 0.004754857068358564, 'dropout_rate': 0.48800046889393245, 'dim_feedforward': 47, 'batch': 112, 'encoder_layers': 2, 'decoder_layers': 1, 'activation_function': 'tanh', 'time_warping': True, 'time_masking': True, 'gaussian_noise': 0.05849885372507493, 'use_linear_embedding': False, 'phase_type': '2phase', 'self_conditioning': True, 'layer_norm': True, 'positional_encoding_type': 'sinusoidal', 'num_ffn_layers': 3}. \n",
            "/usr/local/lib/python3.10/dist-packages/torch/nn/modules/transformer.py:282: UserWarning: enable_nested_tensor is True, but self.use_nested_tensor is False because encoder_layer was not TransformerEncoderLayer\n",
            "  warnings.warn(f\"enable_nested_tensor is True, but self.use_nested_tensor is False because {why_not_sparsity_fast_path}\")\n"
          ]
        },
        {
          "output_type": "stream",
          "name": "stdout",
          "text": [
            "{'FN': 0,\n",
            " 'FP': 87,\n",
            " 'ROC/AUC': 0.9943921619182673,\n",
            " 'TN': 7670,\n",
            " 'TP': 748,\n",
            " 'f1': 0.9450360644649024,\n",
            " 'precision': 0.895808372505289,\n",
            " 'recall': 0.9999999866310163,\n",
            " 'threshold': 0.04864297556972014}\n",
            "25\n",
            "Hyperparameters: {'lr': 0.001879072812171396, 'dropout_rate': 0.3494364708103783, 'dim_feedforward': 30, 'batch': 80, 'encoder_layers': 2, 'decoder_layers': 3, 'attention_type': 'scaled_dot_product', 'positional_encoding_type': 'fourier', 'phase_type': 'iterative', 'gaussian_noise_std': 0.013089879270761431, 'time_warping': True, 'time_masking': False, 'self_conditioning': False, 'layer_norm': False, 'activation_function': 'sigmoid', 'use_linear_embedding': False, 'nhead': 25, 'num_ffn_layers': 1}\n",
            "Creating new model: TransNAS_TSAD\n",
            "Training TransNAS_TSAD on SMAP\n"
          ]
        },
        {
          "output_type": "stream",
          "name": "stderr",
          "text": [
            " 20%|██        | 1/5 [00:07<00:30,  7.62s/it]"
          ]
        },
        {
          "output_type": "stream",
          "name": "stdout",
          "text": [
            "Epoch 0, Loss: 0.0422539000828184, Learning Rate: 0.001879072812171396\n"
          ]
        },
        {
          "output_type": "stream",
          "name": "stderr",
          "text": [
            "\r 40%|████      | 2/5 [00:14<00:22,  7.36s/it]"
          ]
        },
        {
          "output_type": "stream",
          "name": "stdout",
          "text": [
            "Epoch 1, Loss: 0.015944182297217075, Learning Rate: 0.001879072812171396\n"
          ]
        },
        {
          "output_type": "stream",
          "name": "stderr",
          "text": [
            "\r 60%|██████    | 3/5 [00:22<00:14,  7.34s/it]"
          ]
        },
        {
          "output_type": "stream",
          "name": "stdout",
          "text": [
            "Epoch 2, Loss: 0.010626585408569306, Learning Rate: 0.001879072812171396\n"
          ]
        },
        {
          "output_type": "stream",
          "name": "stderr",
          "text": [
            "\r 80%|████████  | 4/5 [00:29<00:07,  7.43s/it]"
          ]
        },
        {
          "output_type": "stream",
          "name": "stdout",
          "text": [
            "Epoch 3, Loss: 0.008132057227755746, Learning Rate: 0.001879072812171396\n"
          ]
        },
        {
          "output_type": "stream",
          "name": "stderr",
          "text": [
            "100%|██████████| 5/5 [00:36<00:00,  7.35s/it]"
          ]
        },
        {
          "output_type": "stream",
          "name": "stdout",
          "text": [
            "Epoch 4, Loss: 0.006514843329459987, Learning Rate: 0.001879072812171396\n",
            "Training time:    36.7628 s\n",
            "Testing TransNAS_TSAD on SMAP\n"
          ]
        },
        {
          "output_type": "stream",
          "name": "stderr",
          "text": [
            "\n",
            "[I 2024-02-20 19:39:09,118] Trial 90 finished with values: [0.9268847302604346, 98275.0] and parameters: {'lr': 0.001879072812171396, 'dropout_rate': 0.3494364708103783, 'dim_feedforward': 30, 'batch': 80, 'encoder_layers': 2, 'decoder_layers': 3, 'activation_function': 'sigmoid', 'time_warping': True, 'time_masking': False, 'gaussian_noise': 0.013089879270761431, 'use_linear_embedding': False, 'phase_type': 'iterative', 'self_conditioning': False, 'layer_norm': False, 'positional_encoding_type': 'fourier', 'num_ffn_layers': 1}. \n"
          ]
        },
        {
          "output_type": "stream",
          "name": "stdout",
          "text": [
            "{'FN': 0,\n",
            " 'FP': 118,\n",
            " 'ROC/AUC': 0.992393966739719,\n",
            " 'TN': 7639,\n",
            " 'TP': 748,\n",
            " 'f1': 0.9268847302604346,\n",
            " 'precision': 0.8637413295179985,\n",
            " 'recall': 0.9999999866310163,\n",
            " 'threshold': 0.09073258114375438}\n",
            "25\n",
            "Hyperparameters: {'lr': 0.0017522110550577334, 'dropout_rate': 0.40455434936703705, 'dim_feedforward': 127, 'batch': 64, 'encoder_layers': 3, 'decoder_layers': 1, 'attention_type': 'scaled_dot_product', 'positional_encoding_type': 'fourier', 'phase_type': '2phase', 'gaussian_noise_std': 0.00020067502936184999, 'time_warping': False, 'time_masking': False, 'self_conditioning': False, 'layer_norm': False, 'activation_function': 'leaky_relu', 'use_linear_embedding': False, 'nhead': 25, 'num_ffn_layers': 1}\n",
            "Creating new model: TransNAS_TSAD\n"
          ]
        },
        {
          "output_type": "stream",
          "name": "stderr",
          "text": [
            "/usr/local/lib/python3.10/dist-packages/torch/nn/modules/transformer.py:282: UserWarning: enable_nested_tensor is True, but self.use_nested_tensor is False because encoder_layer was not TransformerEncoderLayer\n",
            "  warnings.warn(f\"enable_nested_tensor is True, but self.use_nested_tensor is False because {why_not_sparsity_fast_path}\")\n"
          ]
        },
        {
          "output_type": "stream",
          "name": "stdout",
          "text": [
            "Training TransNAS_TSAD on SMAP\n"
          ]
        },
        {
          "output_type": "stream",
          "name": "stderr",
          "text": [
            " 20%|██        | 1/5 [00:03<00:12,  3.21s/it]"
          ]
        },
        {
          "output_type": "stream",
          "name": "stdout",
          "text": [
            "Epoch 0, Loss: 0.03297961278381512, Learning Rate: 0.0017522110550577334\n"
          ]
        },
        {
          "output_type": "stream",
          "name": "stderr",
          "text": [
            "\r 40%|████      | 2/5 [00:05<00:08,  2.91s/it]"
          ]
        },
        {
          "output_type": "stream",
          "name": "stdout",
          "text": [
            "Epoch 1, Loss: 0.00885010755537021, Learning Rate: 0.0017522110550577334\n"
          ]
        },
        {
          "output_type": "stream",
          "name": "stderr",
          "text": [
            "\r 60%|██████    | 3/5 [00:08<00:05,  2.81s/it]"
          ]
        },
        {
          "output_type": "stream",
          "name": "stdout",
          "text": [
            "Epoch 2, Loss: 0.004143628414798718, Learning Rate: 0.0017522110550577334\n"
          ]
        },
        {
          "output_type": "stream",
          "name": "stderr",
          "text": [
            "\r 80%|████████  | 4/5 [00:11<00:02,  2.76s/it]"
          ]
        },
        {
          "output_type": "stream",
          "name": "stdout",
          "text": [
            "Epoch 3, Loss: 0.0028397473392789007, Learning Rate: 0.0017522110550577334\n"
          ]
        },
        {
          "output_type": "stream",
          "name": "stderr",
          "text": [
            "100%|██████████| 5/5 [00:14<00:00,  2.87s/it]"
          ]
        },
        {
          "output_type": "stream",
          "name": "stdout",
          "text": [
            "Epoch 4, Loss: 0.002301847874830479, Learning Rate: 0.0017522110550577334\n",
            "Training time:    14.3322 s\n",
            "Testing TransNAS_TSAD on SMAP\n"
          ]
        },
        {
          "output_type": "stream",
          "name": "stderr",
          "text": [
            "\n",
            "[I 2024-02-20 19:39:27,199] Trial 91 finished with values: [0.9274593669727764, 137060.0] and parameters: {'lr': 0.0017522110550577334, 'dropout_rate': 0.40455434936703705, 'dim_feedforward': 127, 'batch': 64, 'encoder_layers': 3, 'decoder_layers': 1, 'activation_function': 'leaky_relu', 'time_warping': False, 'time_masking': False, 'gaussian_noise': 0.00020067502936184999, 'use_linear_embedding': False, 'phase_type': '2phase', 'self_conditioning': False, 'layer_norm': False, 'positional_encoding_type': 'fourier', 'num_ffn_layers': 1}. \n",
            "/usr/local/lib/python3.10/dist-packages/torch/nn/modules/transformer.py:282: UserWarning: enable_nested_tensor is True, but self.use_nested_tensor is False because encoder_layer was not TransformerEncoderLayer\n",
            "  warnings.warn(f\"enable_nested_tensor is True, but self.use_nested_tensor is False because {why_not_sparsity_fast_path}\")\n"
          ]
        },
        {
          "output_type": "stream",
          "name": "stdout",
          "text": [
            "{'FN': 0,\n",
            " 'FP': 117,\n",
            " 'ROC/AUC': 0.9924584246487044,\n",
            " 'TN': 7640,\n",
            " 'TP': 748,\n",
            " 'f1': 0.9274593669727764,\n",
            " 'precision': 0.8647398743960708,\n",
            " 'recall': 0.9999999866310163,\n",
            " 'threshold': 0.04138828718697295}\n",
            "25\n",
            "Hyperparameters: {'lr': 0.004754857068358564, 'dropout_rate': 0.48800046889393245, 'dim_feedforward': 47, 'batch': 112, 'encoder_layers': 2, 'decoder_layers': 2, 'attention_type': 'scaled_dot_product', 'positional_encoding_type': 'sinusoidal', 'phase_type': 'iterative', 'gaussian_noise_std': 0.03345732079841554, 'time_warping': False, 'time_masking': True, 'self_conditioning': True, 'layer_norm': False, 'activation_function': 'sigmoid', 'use_linear_embedding': True, 'nhead': 25, 'num_ffn_layers': 3}\n",
            "Creating new model: TransNAS_TSAD\n",
            "Training TransNAS_TSAD on SMAP\n"
          ]
        },
        {
          "output_type": "stream",
          "name": "stderr",
          "text": [
            " 20%|██        | 1/5 [00:06<00:26,  6.64s/it]"
          ]
        },
        {
          "output_type": "stream",
          "name": "stdout",
          "text": [
            "Epoch 0, Loss: 0.038315718148451264, Learning Rate: 0.004754857068358564\n"
          ]
        },
        {
          "output_type": "stream",
          "name": "stderr",
          "text": [
            "\r 40%|████      | 2/5 [00:13<00:20,  6.82s/it]"
          ]
        },
        {
          "output_type": "stream",
          "name": "stdout",
          "text": [
            "Epoch 1, Loss: 0.01271396625481257, Learning Rate: 0.004754857068358564\n"
          ]
        },
        {
          "output_type": "stream",
          "name": "stderr",
          "text": [
            "\r 60%|██████    | 3/5 [00:20<00:13,  6.78s/it]"
          ]
        },
        {
          "output_type": "stream",
          "name": "stdout",
          "text": [
            "Epoch 2, Loss: 0.009869680377031977, Learning Rate: 0.004754857068358564\n"
          ]
        },
        {
          "output_type": "stream",
          "name": "stderr",
          "text": [
            "\r 80%|████████  | 4/5 [00:27<00:06,  6.81s/it]"
          ]
        },
        {
          "output_type": "stream",
          "name": "stdout",
          "text": [
            "Epoch 3, Loss: 0.00808225180686228, Learning Rate: 0.004754857068358564\n"
          ]
        },
        {
          "output_type": "stream",
          "name": "stderr",
          "text": [
            "100%|██████████| 5/5 [00:33<00:00,  6.79s/it]"
          ]
        },
        {
          "output_type": "stream",
          "name": "stdout",
          "text": [
            "Epoch 4, Loss: 0.007537320418529909, Learning Rate: 0.004754857068358564\n",
            "Training time:    33.9304 s\n",
            "Testing TransNAS_TSAD on SMAP\n"
          ]
        },
        {
          "output_type": "stream",
          "name": "stderr",
          "text": [
            "\n",
            "[I 2024-02-20 19:40:15,277] Trial 92 finished with values: [0.5564545053137837, 122589.0] and parameters: {'lr': 0.004754857068358564, 'dropout_rate': 0.48800046889393245, 'dim_feedforward': 47, 'batch': 112, 'encoder_layers': 2, 'decoder_layers': 2, 'activation_function': 'sigmoid', 'time_warping': False, 'time_masking': True, 'gaussian_noise': 0.03345732079841554, 'use_linear_embedding': True, 'phase_type': 'iterative', 'self_conditioning': True, 'layer_norm': False, 'positional_encoding_type': 'sinusoidal', 'num_ffn_layers': 3}. \n",
            "/usr/local/lib/python3.10/dist-packages/torch/nn/modules/transformer.py:282: UserWarning: enable_nested_tensor is True, but self.use_nested_tensor is False because encoder_layer was not TransformerEncoderLayer\n",
            "  warnings.warn(f\"enable_nested_tensor is True, but self.use_nested_tensor is False because {why_not_sparsity_fast_path}\")\n"
          ]
        },
        {
          "output_type": "stream",
          "name": "stdout",
          "text": [
            "{'FN': 440,\n",
            " 'FP': 51,\n",
            " 'ROC/AUC': 0.7025949995829194,\n",
            " 'TN': 7706,\n",
            " 'TP': 308,\n",
            " 'f1': 0.5564545053137837,\n",
            " 'precision': 0.8579386947649389,\n",
            " 'recall': 0.41176470037747726,\n",
            " 'threshold': 0.12826709371126505}\n",
            "25\n",
            "Hyperparameters: {'lr': 0.0038433506374495868, 'dropout_rate': 0.24121966200349243, 'dim_feedforward': 10, 'batch': 80, 'encoder_layers': 1, 'decoder_layers': 2, 'attention_type': 'scaled_dot_product', 'positional_encoding_type': 'sinusoidal', 'phase_type': '2phase', 'gaussian_noise_std': 0.0003131267848098833, 'time_warping': False, 'time_masking': True, 'self_conditioning': False, 'layer_norm': False, 'activation_function': 'tanh', 'use_linear_embedding': False, 'nhead': 25, 'num_ffn_layers': 3}\n",
            "Creating new model: TransNAS_TSAD\n",
            "Training TransNAS_TSAD on SMAP\n"
          ]
        },
        {
          "output_type": "stream",
          "name": "stderr",
          "text": [
            " 20%|██        | 1/5 [00:01<00:07,  1.79s/it]"
          ]
        },
        {
          "output_type": "stream",
          "name": "stdout",
          "text": [
            "Epoch 0, Loss: 0.05474613931189055, Learning Rate: 0.0038433506374495868\n"
          ]
        },
        {
          "output_type": "stream",
          "name": "stderr",
          "text": [
            "\r 40%|████      | 2/5 [00:03<00:05,  1.77s/it]"
          ]
        },
        {
          "output_type": "stream",
          "name": "stdout",
          "text": [
            "Epoch 1, Loss: 0.010511571619694014, Learning Rate: 0.0038433506374495868\n"
          ]
        },
        {
          "output_type": "stream",
          "name": "stderr",
          "text": [
            "\r 60%|██████    | 3/5 [00:05<00:03,  1.78s/it]"
          ]
        },
        {
          "output_type": "stream",
          "name": "stdout",
          "text": [
            "Epoch 2, Loss: 0.0035671412220287016, Learning Rate: 0.0038433506374495868\n"
          ]
        },
        {
          "output_type": "stream",
          "name": "stderr",
          "text": [
            "\r 80%|████████  | 4/5 [00:07<00:01,  1.79s/it]"
          ]
        },
        {
          "output_type": "stream",
          "name": "stdout",
          "text": [
            "Epoch 3, Loss: 0.0024905851725148167, Learning Rate: 0.0038433506374495868\n"
          ]
        },
        {
          "output_type": "stream",
          "name": "stderr",
          "text": [
            "100%|██████████| 5/5 [00:08<00:00,  1.79s/it]"
          ]
        },
        {
          "output_type": "stream",
          "name": "stdout",
          "text": [
            "Epoch 4, Loss: 0.0020692197988879243, Learning Rate: 0.0038433506374495868\n",
            "Training time:     8.9559 s\n",
            "Testing TransNAS_TSAD on SMAP\n"
          ]
        },
        {
          "output_type": "stream",
          "name": "stderr",
          "text": [
            "\n",
            "[I 2024-02-20 19:40:26,324] Trial 93 finished with values: [0.5159082090944049, 108975.0] and parameters: {'lr': 0.0038433506374495868, 'dropout_rate': 0.24121966200349243, 'dim_feedforward': 10, 'batch': 80, 'encoder_layers': 1, 'decoder_layers': 2, 'activation_function': 'tanh', 'time_warping': False, 'time_masking': True, 'gaussian_noise': 0.0003131267848098833, 'use_linear_embedding': False, 'phase_type': '2phase', 'self_conditioning': False, 'layer_norm': False, 'positional_encoding_type': 'sinusoidal', 'num_ffn_layers': 3}. \n",
            "/usr/local/lib/python3.10/dist-packages/torch/nn/modules/transformer.py:282: UserWarning: enable_nested_tensor is True, but self.use_nested_tensor is False because encoder_layer was not TransformerEncoderLayer\n",
            "  warnings.warn(f\"enable_nested_tensor is True, but self.use_nested_tensor is False because {why_not_sparsity_fast_path}\")\n"
          ]
        },
        {
          "output_type": "stream",
          "name": "stdout",
          "text": [
            "{'FN': 440,\n",
            " 'FP': 138,\n",
            " 'ROC/AUC': 0.6969871615011868,\n",
            " 'TN': 7619,\n",
            " 'TP': 308,\n",
            " 'f1': 0.5159082090944049,\n",
            " 'precision': 0.6905829441573331,\n",
            " 'recall': 0.41176470037747726,\n",
            " 'threshold': 0.011398726213310029}\n",
            "25\n",
            "Hyperparameters: {'lr': 0.007130212758115732, 'dropout_rate': 0.39761019593040847, 'dim_feedforward': 99, 'batch': 96, 'encoder_layers': 1, 'decoder_layers': 1, 'attention_type': 'scaled_dot_product', 'positional_encoding_type': 'fourier', 'phase_type': 'iterative', 'gaussian_noise_std': 0.0029152611672436236, 'time_warping': True, 'time_masking': False, 'self_conditioning': False, 'layer_norm': True, 'activation_function': 'sigmoid', 'use_linear_embedding': True, 'nhead': 25, 'num_ffn_layers': 1}\n",
            "Creating new model: TransNAS_TSAD\n",
            "Training TransNAS_TSAD on SMAP\n"
          ]
        },
        {
          "output_type": "stream",
          "name": "stderr",
          "text": [
            " 20%|██        | 1/5 [00:03<00:15,  3.84s/it]"
          ]
        },
        {
          "output_type": "stream",
          "name": "stdout",
          "text": [
            "Epoch 0, Loss: 0.043167762063477715, Learning Rate: 0.007130212758115732\n"
          ]
        },
        {
          "output_type": "stream",
          "name": "stderr",
          "text": [
            "\r 40%|████      | 2/5 [00:07<00:11,  3.74s/it]"
          ]
        },
        {
          "output_type": "stream",
          "name": "stdout",
          "text": [
            "Epoch 1, Loss: 0.018340839064288326, Learning Rate: 0.007130212758115732\n"
          ]
        },
        {
          "output_type": "stream",
          "name": "stderr",
          "text": [
            "\r 60%|██████    | 3/5 [00:11<00:07,  3.70s/it]"
          ]
        },
        {
          "output_type": "stream",
          "name": "stdout",
          "text": [
            "Epoch 2, Loss: 0.014213556233595213, Learning Rate: 0.007130212758115732\n"
          ]
        },
        {
          "output_type": "stream",
          "name": "stderr",
          "text": [
            "\r 80%|████████  | 4/5 [00:15<00:03,  3.87s/it]"
          ]
        },
        {
          "output_type": "stream",
          "name": "stdout",
          "text": [
            "Epoch 3, Loss: 0.01391197648213096, Learning Rate: 0.007130212758115732\n"
          ]
        },
        {
          "output_type": "stream",
          "name": "stderr",
          "text": [
            "100%|██████████| 5/5 [00:19<00:00,  3.80s/it]"
          ]
        },
        {
          "output_type": "stream",
          "name": "stdout",
          "text": [
            "Epoch 4, Loss: 0.01384465772996565, Learning Rate: 0.007130212758115732\n",
            "Training time:    19.0073 s\n",
            "Testing TransNAS_TSAD on SMAP\n"
          ]
        },
        {
          "output_type": "stream",
          "name": "stderr",
          "text": [
            "\n",
            "[I 2024-02-20 19:40:52,597] Trial 94 finished with values: [0.802925437248291, 54623.0] and parameters: {'lr': 0.007130212758115732, 'dropout_rate': 0.39761019593040847, 'dim_feedforward': 99, 'batch': 96, 'encoder_layers': 1, 'decoder_layers': 1, 'activation_function': 'sigmoid', 'time_warping': True, 'time_masking': False, 'gaussian_noise': 0.0029152611672436236, 'use_linear_embedding': True, 'phase_type': 'iterative', 'self_conditioning': False, 'layer_norm': True, 'positional_encoding_type': 'fourier', 'num_ffn_layers': 1}. \n",
            "/usr/local/lib/python3.10/dist-packages/torch/nn/modules/transformer.py:282: UserWarning: enable_nested_tensor is True, but self.use_nested_tensor is False because encoder_layer was not TransformerEncoderLayer\n",
            "  warnings.warn(f\"enable_nested_tensor is True, but self.use_nested_tensor is False because {why_not_sparsity_fast_path}\")\n"
          ]
        },
        {
          "output_type": "stream",
          "name": "stdout",
          "text": [
            "{'FN': 200,\n",
            " 'FP': 69,\n",
            " 'ROC/AUC': 0.8618625647078126,\n",
            " 'TN': 7688,\n",
            " 'TP': 548,\n",
            " 'f1': 0.802925437248291,\n",
            " 'precision': 0.8881685431415147,\n",
            " 'recall': 0.7326203110612258,\n",
            " 'threshold': 0.17735812109121948}\n",
            "25\n",
            "Hyperparameters: {'lr': 0.0019660695736915994, 'dropout_rate': 0.1434620829372272, 'dim_feedforward': 17, 'batch': 48, 'encoder_layers': 1, 'decoder_layers': 2, 'attention_type': 'scaled_dot_product', 'positional_encoding_type': 'sinusoidal', 'phase_type': '2phase', 'gaussian_noise_std': 0.002689662284452023, 'time_warping': False, 'time_masking': True, 'self_conditioning': False, 'layer_norm': True, 'activation_function': 'leaky_relu', 'use_linear_embedding': False, 'nhead': 25, 'num_ffn_layers': 3}\n",
            "Creating new model: TransNAS_TSAD\n",
            "Training TransNAS_TSAD on SMAP\n"
          ]
        },
        {
          "output_type": "stream",
          "name": "stderr",
          "text": [
            " 20%|██        | 1/5 [00:02<00:10,  2.57s/it]"
          ]
        },
        {
          "output_type": "stream",
          "name": "stdout",
          "text": [
            "Epoch 0, Loss: 0.15598774021878523, Learning Rate: 0.0019660695736915994\n"
          ]
        },
        {
          "output_type": "stream",
          "name": "stderr",
          "text": [
            "\r 40%|████      | 2/5 [00:05<00:07,  2.56s/it]"
          ]
        },
        {
          "output_type": "stream",
          "name": "stdout",
          "text": [
            "Epoch 1, Loss: 0.031657078140503656, Learning Rate: 0.0019660695736915994\n"
          ]
        },
        {
          "output_type": "stream",
          "name": "stderr",
          "text": [
            "\r 60%|██████    | 3/5 [00:07<00:05,  2.58s/it]"
          ]
        },
        {
          "output_type": "stream",
          "name": "stdout",
          "text": [
            "Epoch 2, Loss: 0.027208158332556645, Learning Rate: 0.0019660695736915994\n"
          ]
        },
        {
          "output_type": "stream",
          "name": "stderr",
          "text": [
            "\r 80%|████████  | 4/5 [00:10<00:02,  2.65s/it]"
          ]
        },
        {
          "output_type": "stream",
          "name": "stdout",
          "text": [
            "Epoch 3, Loss: 0.02372110237500393, Learning Rate: 0.0019660695736915994\n"
          ]
        },
        {
          "output_type": "stream",
          "name": "stderr",
          "text": [
            "100%|██████████| 5/5 [00:13<00:00,  2.64s/it]"
          ]
        },
        {
          "output_type": "stream",
          "name": "stdout",
          "text": [
            "Epoch 4, Loss: 0.015309996358981327, Learning Rate: 0.0019660695736915994\n",
            "Training time:    13.2118 s\n",
            "Testing TransNAS_TSAD on SMAP\n"
          ]
        },
        {
          "output_type": "stream",
          "name": "stderr",
          "text": [
            "\n",
            "[I 2024-02-20 19:41:07,831] Trial 95 finished with values: [0.7644796423454926, 119680.0] and parameters: {'lr': 0.0019660695736915994, 'dropout_rate': 0.1434620829372272, 'dim_feedforward': 17, 'batch': 48, 'encoder_layers': 1, 'decoder_layers': 2, 'activation_function': 'leaky_relu', 'time_warping': False, 'time_masking': True, 'gaussian_noise': 0.002689662284452023, 'use_linear_embedding': False, 'phase_type': '2phase', 'self_conditioning': False, 'layer_norm': True, 'positional_encoding_type': 'sinusoidal', 'num_ffn_layers': 3}. \n",
            "/usr/local/lib/python3.10/dist-packages/torch/nn/modules/transformer.py:282: UserWarning: enable_nested_tensor is True, but self.use_nested_tensor is False because encoder_layer was not TransformerEncoderLayer\n",
            "  warnings.warn(f\"enable_nested_tensor is True, but self.use_nested_tensor is False because {why_not_sparsity_fast_path}\")\n"
          ]
        },
        {
          "output_type": "stream",
          "name": "stdout",
          "text": [
            "{'FN': 240,\n",
            " 'FP': 73,\n",
            " 'ROC/AUC': 0.8348667651574324,\n",
            " 'TN': 7684,\n",
            " 'TP': 508,\n",
            " 'f1': 0.7644796423454926,\n",
            " 'precision': 0.8743545460524175,\n",
            " 'recall': 0.6791443759472677,\n",
            " 'threshold': 0.1598423090967115}\n",
            "25\n",
            "Hyperparameters: {'lr': 0.007482095338125608, 'dropout_rate': 0.17838497500731482, 'dim_feedforward': 58, 'batch': 80, 'encoder_layers': 3, 'decoder_layers': 1, 'attention_type': 'scaled_dot_product', 'positional_encoding_type': 'fourier', 'phase_type': '2phase', 'gaussian_noise_std': 0.009988809056140135, 'time_warping': False, 'time_masking': True, 'self_conditioning': False, 'layer_norm': True, 'activation_function': 'sigmoid', 'use_linear_embedding': False, 'nhead': 25, 'num_ffn_layers': 1}\n",
            "Creating new model: TransNAS_TSAD\n",
            "Training TransNAS_TSAD on SMAP\n"
          ]
        },
        {
          "output_type": "stream",
          "name": "stderr",
          "text": [
            " 20%|██        | 1/5 [00:02<00:09,  2.28s/it]"
          ]
        },
        {
          "output_type": "stream",
          "name": "stdout",
          "text": [
            "Epoch 0, Loss: 0.02902600130033539, Learning Rate: 0.007482095338125608\n"
          ]
        },
        {
          "output_type": "stream",
          "name": "stderr",
          "text": [
            "\r 40%|████      | 2/5 [00:04<00:06,  2.27s/it]"
          ]
        },
        {
          "output_type": "stream",
          "name": "stdout",
          "text": [
            "Epoch 1, Loss: 0.01947836534886849, Learning Rate: 0.007482095338125608\n"
          ]
        },
        {
          "output_type": "stream",
          "name": "stderr",
          "text": [
            "\r 60%|██████    | 3/5 [00:07<00:04,  2.42s/it]"
          ]
        },
        {
          "output_type": "stream",
          "name": "stdout",
          "text": [
            "Epoch 2, Loss: 0.021241106253792594, Learning Rate: 0.007482095338125608\n"
          ]
        },
        {
          "output_type": "stream",
          "name": "stderr",
          "text": [
            "\r 80%|████████  | 4/5 [00:09<00:02,  2.54s/it]"
          ]
        },
        {
          "output_type": "stream",
          "name": "stdout",
          "text": [
            "Epoch 3, Loss: 0.02221464169306346, Learning Rate: 0.007482095338125608\n"
          ]
        },
        {
          "output_type": "stream",
          "name": "stderr",
          "text": [
            "100%|██████████| 5/5 [00:12<00:00,  2.49s/it]"
          ]
        },
        {
          "output_type": "stream",
          "name": "stdout",
          "text": [
            "Epoch 4, Loss: 0.023421718219532327, Learning Rate: 0.007482095338125608\n",
            "Training time:    12.4639 s\n",
            "Testing TransNAS_TSAD on SMAP\n"
          ]
        },
        {
          "output_type": "stream",
          "name": "stderr",
          "text": [
            "\n",
            "[W 2024-02-20 19:42:03,195] Trial 96 failed with parameters: {'lr': 0.007482095338125608, 'dropout_rate': 0.17838497500731482, 'dim_feedforward': 58, 'batch': 80, 'encoder_layers': 3, 'decoder_layers': 1, 'activation_function': 'sigmoid', 'time_warping': False, 'time_masking': True, 'gaussian_noise': 0.009988809056140135, 'use_linear_embedding': False, 'phase_type': '2phase', 'self_conditioning': False, 'layer_norm': True, 'positional_encoding_type': 'fourier', 'num_ffn_layers': 1} because of the following error: The value {'f1': 0.0, 'num_params': inf} could not be cast to float.\n",
            "[W 2024-02-20 19:42:03,196] Trial 96 failed with value {'f1': 0.0, 'num_params': inf}.\n",
            "/usr/local/lib/python3.10/dist-packages/torch/nn/modules/transformer.py:282: UserWarning: enable_nested_tensor is True, but self.use_nested_tensor is False because encoder_layer was not TransformerEncoderLayer\n",
            "  warnings.warn(f\"enable_nested_tensor is True, but self.use_nested_tensor is False because {why_not_sparsity_fast_path}\")\n"
          ]
        },
        {
          "output_type": "stream",
          "name": "stdout",
          "text": [
            "Initialization timed out after 40 seconds. Last exception message: zero-size array to reduction operation minimum which has no identity\n",
            "An exception occurred: unsupported operand type(s) for +: 'NoneType' and 'NoneType'\n",
            "25\n",
            "Hyperparameters: {'lr': 0.006117237721929171, 'dropout_rate': 0.1434620829372272, 'dim_feedforward': 30, 'batch': 112, 'encoder_layers': 2, 'decoder_layers': 2, 'attention_type': 'scaled_dot_product', 'positional_encoding_type': 'fourier', 'phase_type': '2phase', 'gaussian_noise_std': 0.001416650808099888, 'time_warping': False, 'time_masking': False, 'self_conditioning': True, 'layer_norm': False, 'activation_function': 'leaky_relu', 'use_linear_embedding': False, 'nhead': 25, 'num_ffn_layers': 1}\n",
            "Creating new model: TransNAS_TSAD\n",
            "Training TransNAS_TSAD on SMAP\n"
          ]
        },
        {
          "output_type": "stream",
          "name": "stderr",
          "text": [
            " 20%|██        | 1/5 [00:01<00:07,  1.78s/it]"
          ]
        },
        {
          "output_type": "stream",
          "name": "stdout",
          "text": [
            "Epoch 0, Loss: 0.02724410036335732, Learning Rate: 0.006117237721929171\n"
          ]
        },
        {
          "output_type": "stream",
          "name": "stderr",
          "text": [
            "\r 40%|████      | 2/5 [00:03<00:05,  1.78s/it]"
          ]
        },
        {
          "output_type": "stream",
          "name": "stdout",
          "text": [
            "Epoch 1, Loss: 0.0075007026258746366, Learning Rate: 0.006117237721929171\n"
          ]
        },
        {
          "output_type": "stream",
          "name": "stderr",
          "text": [
            "\r 60%|██████    | 3/5 [00:05<00:03,  1.77s/it]"
          ]
        },
        {
          "output_type": "stream",
          "name": "stdout",
          "text": [
            "Epoch 2, Loss: 0.003202403057270561, Learning Rate: 0.006117237721929171\n"
          ]
        },
        {
          "output_type": "stream",
          "name": "stderr",
          "text": [
            "\r 80%|████████  | 4/5 [00:07<00:01,  1.77s/it]"
          ]
        },
        {
          "output_type": "stream",
          "name": "stdout",
          "text": [
            "Epoch 3, Loss: 0.001849234038684639, Learning Rate: 0.006117237721929171\n"
          ]
        },
        {
          "output_type": "stream",
          "name": "stderr",
          "text": [
            "100%|██████████| 5/5 [00:08<00:00,  1.78s/it]"
          ]
        },
        {
          "output_type": "stream",
          "name": "stdout",
          "text": [
            "Epoch 4, Loss: 0.0012888783479400095, Learning Rate: 0.006117237721929171\n",
            "Training time:     8.9008 s\n",
            "Testing TransNAS_TSAD on SMAP\n"
          ]
        },
        {
          "output_type": "stream",
          "name": "stderr",
          "text": [
            "\n",
            "[I 2024-02-20 19:42:14,954] Trial 97 finished with values: [0.5427267738228322, 121755.0] and parameters: {'lr': 0.006117237721929171, 'dropout_rate': 0.1434620829372272, 'dim_feedforward': 30, 'batch': 112, 'encoder_layers': 2, 'decoder_layers': 2, 'activation_function': 'leaky_relu', 'time_warping': False, 'time_masking': False, 'gaussian_noise': 0.001416650808099888, 'use_linear_embedding': False, 'phase_type': '2phase', 'self_conditioning': True, 'layer_norm': False, 'positional_encoding_type': 'fourier', 'num_ffn_layers': 1}. \n",
            "/usr/local/lib/python3.10/dist-packages/torch/nn/modules/transformer.py:282: UserWarning: enable_nested_tensor is True, but self.use_nested_tensor is False because encoder_layer was not TransformerEncoderLayer\n",
            "  warnings.warn(f\"enable_nested_tensor is True, but self.use_nested_tensor is False because {why_not_sparsity_fast_path}\")\n"
          ]
        },
        {
          "output_type": "stream",
          "name": "stdout",
          "text": [
            "{'FN': 440,\n",
            " 'FP': 79,\n",
            " 'ROC/AUC': 0.7007901781313273,\n",
            " 'TN': 7678,\n",
            " 'TP': 308,\n",
            " 'f1': 0.5427267738228322,\n",
            " 'precision': 0.7958656125099326,\n",
            " 'recall': 0.41176470037747726,\n",
            " 'threshold': 0.017171557669633228}\n",
            "25\n",
            "Hyperparameters: {'lr': 0.003632166784770201, 'dropout_rate': 0.45011258071605265, 'dim_feedforward': 63, 'batch': 48, 'encoder_layers': 1, 'decoder_layers': 1, 'attention_type': 'scaled_dot_product', 'positional_encoding_type': 'fourier', 'phase_type': 'iterative', 'gaussian_noise_std': 0.05849885372507493, 'time_warping': True, 'time_masking': False, 'self_conditioning': False, 'layer_norm': True, 'activation_function': 'leaky_relu', 'use_linear_embedding': False, 'nhead': 25, 'num_ffn_layers': 3}\n",
            "Creating new model: TransNAS_TSAD\n",
            "Training TransNAS_TSAD on SMAP\n"
          ]
        },
        {
          "output_type": "stream",
          "name": "stderr",
          "text": [
            " 20%|██        | 1/5 [00:05<00:23,  5.86s/it]"
          ]
        },
        {
          "output_type": "stream",
          "name": "stdout",
          "text": [
            "Epoch 0, Loss: 0.08527426190965356, Learning Rate: 0.003632166784770201\n"
          ]
        },
        {
          "output_type": "stream",
          "name": "stderr",
          "text": [
            "\r 40%|████      | 2/5 [00:11<00:18,  6.02s/it]"
          ]
        },
        {
          "output_type": "stream",
          "name": "stdout",
          "text": [
            "Epoch 1, Loss: 0.027697719813993226, Learning Rate: 0.003632166784770201\n"
          ]
        },
        {
          "output_type": "stream",
          "name": "stderr",
          "text": [
            "\r 60%|██████    | 3/5 [00:17<00:12,  6.01s/it]"
          ]
        },
        {
          "output_type": "stream",
          "name": "stdout",
          "text": [
            "Epoch 2, Loss: 0.025945032813332693, Learning Rate: 0.003632166784770201\n"
          ]
        },
        {
          "output_type": "stream",
          "name": "stderr",
          "text": [
            "\r 80%|████████  | 4/5 [00:24<00:06,  6.05s/it]"
          ]
        },
        {
          "output_type": "stream",
          "name": "stdout",
          "text": [
            "Epoch 3, Loss: 0.023283885340891715, Learning Rate: 0.003632166784770201\n"
          ]
        },
        {
          "output_type": "stream",
          "name": "stderr",
          "text": [
            "100%|██████████| 5/5 [00:30<00:00,  6.02s/it]"
          ]
        },
        {
          "output_type": "stream",
          "name": "stdout",
          "text": [
            "Epoch 4, Loss: 0.019494697245232392, Learning Rate: 0.003632166784770201\n",
            "Training time:    30.0989 s\n",
            "Testing TransNAS_TSAD on SMAP\n"
          ]
        },
        {
          "output_type": "stream",
          "name": "stderr",
          "text": [
            "\n",
            "[I 2024-02-20 19:42:53,473] Trial 98 finished with values: [0.9408755088116387, 70453.0] and parameters: {'lr': 0.003632166784770201, 'dropout_rate': 0.45011258071605265, 'dim_feedforward': 63, 'batch': 48, 'encoder_layers': 1, 'decoder_layers': 1, 'activation_function': 'leaky_relu', 'time_warping': True, 'time_masking': False, 'gaussian_noise': 0.05849885372507493, 'use_linear_embedding': False, 'phase_type': 'iterative', 'self_conditioning': False, 'layer_norm': True, 'positional_encoding_type': 'fourier', 'num_ffn_layers': 3}. \n",
            "/usr/local/lib/python3.10/dist-packages/torch/nn/modules/transformer.py:282: UserWarning: enable_nested_tensor is True, but self.use_nested_tensor is False because encoder_layer was not TransformerEncoderLayer\n",
            "  warnings.warn(f\"enable_nested_tensor is True, but self.use_nested_tensor is False because {why_not_sparsity_fast_path}\")\n"
          ]
        },
        {
          "output_type": "stream",
          "name": "stdout",
          "text": [
            "{'FN': 0,\n",
            " 'FP': 94,\n",
            " 'ROC/AUC': 0.9939409565553694,\n",
            " 'TN': 7663,\n",
            " 'TP': 748,\n",
            " 'f1': 0.9408755088116387,\n",
            " 'precision': 0.8883610345800352,\n",
            " 'recall': 0.9999999866310163,\n",
            " 'threshold': 0.17135541504691748}\n",
            "25\n",
            "Hyperparameters: {'lr': 0.0022470154513184503, 'dropout_rate': 0.12293663840303247, 'dim_feedforward': 50, 'batch': 96, 'encoder_layers': 1, 'decoder_layers': 3, 'attention_type': 'scaled_dot_product', 'positional_encoding_type': 'sinusoidal', 'phase_type': 'iterative', 'gaussian_noise_std': 0.0001351656328348401, 'time_warping': True, 'time_masking': True, 'self_conditioning': False, 'layer_norm': True, 'activation_function': 'leaky_relu', 'use_linear_embedding': False, 'nhead': 25, 'num_ffn_layers': 1}\n",
            "Creating new model: TransNAS_TSAD\n",
            "Training TransNAS_TSAD on SMAP\n"
          ]
        },
        {
          "output_type": "stream",
          "name": "stderr",
          "text": [
            " 20%|██        | 1/5 [00:05<00:20,  5.21s/it]"
          ]
        },
        {
          "output_type": "stream",
          "name": "stdout",
          "text": [
            "Epoch 0, Loss: 0.2629985454661396, Learning Rate: 0.0022470154513184503\n"
          ]
        },
        {
          "output_type": "stream",
          "name": "stderr",
          "text": [
            "\r 40%|████      | 2/5 [00:10<00:15,  5.24s/it]"
          ]
        },
        {
          "output_type": "stream",
          "name": "stdout",
          "text": [
            "Epoch 1, Loss: 0.031386535060716404, Learning Rate: 0.0022470154513184503\n"
          ]
        },
        {
          "output_type": "stream",
          "name": "stderr",
          "text": [
            "\r 60%|██████    | 3/5 [00:15<00:10,  5.34s/it]"
          ]
        },
        {
          "output_type": "stream",
          "name": "stdout",
          "text": [
            "Epoch 2, Loss: 0.02888431595054393, Learning Rate: 0.0022470154513184503\n"
          ]
        },
        {
          "output_type": "stream",
          "name": "stderr",
          "text": [
            "\r 80%|████████  | 4/5 [00:21<00:05,  5.27s/it]"
          ]
        },
        {
          "output_type": "stream",
          "name": "stdout",
          "text": [
            "Epoch 3, Loss: 0.02797003246976085, Learning Rate: 0.0022470154513184503\n"
          ]
        },
        {
          "output_type": "stream",
          "name": "stderr",
          "text": [
            "100%|██████████| 5/5 [00:26<00:00,  5.36s/it]"
          ]
        },
        {
          "output_type": "stream",
          "name": "stdout",
          "text": [
            "Epoch 4, Loss: 0.02698365006541049, Learning Rate: 0.0022470154513184503\n",
            "Training time:    26.8061 s\n",
            "Testing TransNAS_TSAD on SMAP\n"
          ]
        },
        {
          "output_type": "stream",
          "name": "stderr",
          "text": [
            "\n",
            "[I 2024-02-20 19:43:28,810] Trial 99 finished with values: [0.7503643201607041, 93175.0] and parameters: {'lr': 0.0022470154513184503, 'dropout_rate': 0.12293663840303247, 'dim_feedforward': 50, 'batch': 96, 'encoder_layers': 1, 'decoder_layers': 3, 'activation_function': 'leaky_relu', 'time_warping': True, 'time_masking': True, 'gaussian_noise': 0.0001351656328348401, 'use_linear_embedding': False, 'phase_type': 'iterative', 'self_conditioning': False, 'layer_norm': True, 'positional_encoding_type': 'sinusoidal', 'num_ffn_layers': 1}. \n"
          ]
        },
        {
          "output_type": "stream",
          "name": "stdout",
          "text": [
            "{'FN': 240,\n",
            " 'FP': 98,\n",
            " 'ROC/AUC': 0.8332553174327967,\n",
            " 'TN': 7659,\n",
            " 'TP': 508,\n",
            " 'f1': 0.7503643201607041,\n",
            " 'precision': 0.8382838145497721,\n",
            " 'recall': 0.6791443759472677,\n",
            " 'threshold': 0.2701022879398615}\n",
            "Number of finished trials:  100\n",
            "Best trials on the Pareto front:\n",
            "Trial Number: 0\n",
            "  Value for F1: 0.952254706491707\n",
            "  Number of Parameters: -107715.0\n",
            "  Params: \n",
            "    lr: 0.006417316863162286\n",
            "    dropout_rate: 0.42197177185433854\n",
            "    dim_feedforward: 24\n",
            "    batch: 80\n",
            "    encoder_layers: 2\n",
            "    decoder_layers: 3\n",
            "    activation_function: leaky_relu\n",
            "    time_warping: False\n",
            "    time_masking: True\n",
            "    gaussian_noise: 0.00045995291081813165\n",
            "    use_linear_embedding: False\n",
            "    phase_type: iterative\n",
            "    self_conditioning: True\n",
            "    layer_norm: True\n",
            "    positional_encoding_type: fourier\n",
            "    num_ffn_layers: 2\n",
            "Trial Number: 8\n",
            "  Value for F1: 0.934995009464012\n",
            "  Number of Parameters: -60177.0\n",
            "  Params: \n",
            "    lr: 0.003632166784770201\n",
            "    dropout_rate: 0.45011258071605265\n",
            "    dim_feedforward: 63\n",
            "    batch: 48\n",
            "    encoder_layers: 1\n",
            "    decoder_layers: 1\n",
            "    activation_function: leaky_relu\n",
            "    time_warping: True\n",
            "    time_masking: True\n",
            "    gaussian_noise: 0.0021258291677011465\n",
            "    use_linear_embedding: True\n",
            "    phase_type: iterative\n",
            "    self_conditioning: False\n",
            "    layer_norm: True\n",
            "    positional_encoding_type: sinusoidal\n",
            "    num_ffn_layers: 2\n",
            "Trial Number: 10\n",
            "  Value for F1: 0.526491105716474\n",
            "  Number of Parameters: -44749.0\n",
            "  Params: \n",
            "    lr: 0.00801780882964574\n",
            "    dropout_rate: 0.18710689268239458\n",
            "    dim_feedforward: 8\n",
            "    batch: 64\n",
            "    encoder_layers: 2\n",
            "    decoder_layers: 1\n",
            "    activation_function: tanh\n",
            "    time_warping: True\n",
            "    time_masking: True\n",
            "    gaussian_noise: 0.0002628887046777304\n",
            "    use_linear_embedding: False\n",
            "    phase_type: iterative\n",
            "    self_conditioning: True\n",
            "    layer_norm: True\n",
            "    positional_encoding_type: sinusoidal\n",
            "    num_ffn_layers: 1\n",
            "Trial Number: 14\n",
            "  Value for F1: 0.0\n",
            "  Number of Parameters: -35005.0\n",
            "  Params: \n",
            "    lr: 0.008044460300715693\n",
            "    dropout_rate: 0.14504883403304214\n",
            "    dim_feedforward: 15\n",
            "    batch: 128\n",
            "    encoder_layers: 1\n",
            "    decoder_layers: 1\n",
            "    activation_function: sigmoid\n",
            "    time_warping: True\n",
            "    time_masking: False\n",
            "    gaussian_noise: 0.0006297825102836805\n",
            "    use_linear_embedding: False\n",
            "    phase_type: iterative\n",
            "    self_conditioning: False\n",
            "    layer_norm: False\n",
            "    positional_encoding_type: fourier\n",
            "    num_ffn_layers: 1\n",
            "Trial Number: 33\n",
            "  Value for F1: 0.9432484720760621\n",
            "  Number of Parameters: -73179.0\n",
            "  Params: \n",
            "    lr: 0.0017732245206704242\n",
            "    dropout_rate: 0.3049483887939451\n",
            "    dim_feedforward: 51\n",
            "    batch: 32\n",
            "    encoder_layers: 3\n",
            "    decoder_layers: 1\n",
            "    activation_function: tanh\n",
            "    time_warping: True\n",
            "    time_masking: False\n",
            "    gaussian_noise: 0.024554085709457885\n",
            "    use_linear_embedding: False\n",
            "    phase_type: iterative\n",
            "    self_conditioning: False\n",
            "    layer_norm: True\n",
            "    positional_encoding_type: sinusoidal\n",
            "    num_ffn_layers: 1\n",
            "Trial Number: 74\n",
            "  Value for F1: 0.9480304894715638\n",
            "  Number of Parameters: -80503.0\n",
            "  Params: \n",
            "    lr: 0.0006292629352335902\n",
            "    dropout_rate: 0.2821235154259625\n",
            "    dim_feedforward: 126\n",
            "    batch: 32\n",
            "    encoder_layers: 2\n",
            "    decoder_layers: 1\n",
            "    activation_function: leaky_relu\n",
            "    time_warping: True\n",
            "    time_masking: True\n",
            "    gaussian_noise: 0.002097308720032317\n",
            "    use_linear_embedding: False\n",
            "    phase_type: iterative\n",
            "    self_conditioning: False\n",
            "    layer_norm: True\n",
            "    positional_encoding_type: fourier\n",
            "    num_ffn_layers: 1\n",
            "Trial Number: 79\n",
            "  Value for F1: 0.9583550220412367\n",
            "  Number of Parameters: -213940.0\n",
            "  Params: \n",
            "    lr: 0.0016682217526759592\n",
            "    dropout_rate: 0.14096581591308013\n",
            "    dim_feedforward: 91\n",
            "    batch: 32\n",
            "    encoder_layers: 3\n",
            "    decoder_layers: 1\n",
            "    activation_function: leaky_relu\n",
            "    time_warping: True\n",
            "    time_masking: False\n",
            "    gaussian_noise: 0.01394872388560863\n",
            "    use_linear_embedding: True\n",
            "    phase_type: 2phase\n",
            "    self_conditioning: False\n",
            "    layer_norm: True\n",
            "    positional_encoding_type: fourier\n",
            "    num_ffn_layers: 3\n",
            "Trial Number: 94\n",
            "  Value for F1: 0.802925437248291\n",
            "  Number of Parameters: -54623.0\n",
            "  Params: \n",
            "    lr: 0.007130212758115732\n",
            "    dropout_rate: 0.39761019593040847\n",
            "    dim_feedforward: 99\n",
            "    batch: 96\n",
            "    encoder_layers: 1\n",
            "    decoder_layers: 1\n",
            "    activation_function: sigmoid\n",
            "    time_warping: True\n",
            "    time_masking: False\n",
            "    gaussian_noise: 0.0029152611672436236\n",
            "    use_linear_embedding: True\n",
            "    phase_type: iterative\n",
            "    self_conditioning: False\n",
            "    layer_norm: True\n",
            "    positional_encoding_type: fourier\n",
            "    num_ffn_layers: 1\n",
            "Trial Number: 98\n",
            "  Value for F1: 0.9408755088116387\n",
            "  Number of Parameters: -70453.0\n",
            "  Params: \n",
            "    lr: 0.003632166784770201\n",
            "    dropout_rate: 0.45011258071605265\n",
            "    dim_feedforward: 63\n",
            "    batch: 48\n",
            "    encoder_layers: 1\n",
            "    decoder_layers: 1\n",
            "    activation_function: leaky_relu\n",
            "    time_warping: True\n",
            "    time_masking: False\n",
            "    gaussian_noise: 0.05849885372507493\n",
            "    use_linear_embedding: False\n",
            "    phase_type: iterative\n",
            "    self_conditioning: False\n",
            "    layer_norm: True\n",
            "    positional_encoding_type: fourier\n",
            "    num_ffn_layers: 3\n"
          ]
        },
        {
          "output_type": "display_data",
          "data": {
            "text/html": [
              "<html>\n",
              "<head><meta charset=\"utf-8\" /></head>\n",
              "<body>\n",
              "    <div>            <script src=\"https://cdnjs.cloudflare.com/ajax/libs/mathjax/2.7.5/MathJax.js?config=TeX-AMS-MML_SVG\"></script><script type=\"text/javascript\">if (window.MathJax && window.MathJax.Hub && window.MathJax.Hub.Config) {window.MathJax.Hub.Config({SVG: {font: \"STIX-Web\"}});}</script>                <script type=\"text/javascript\">window.PlotlyConfig = {MathJaxConfig: 'local'};</script>\n",
              "        <script charset=\"utf-8\" src=\"https://cdn.plot.ly/plotly-2.24.1.min.js\"></script>                <div id=\"aa0e7a7f-2369-4ef2-b173-09c0080e7356\" class=\"plotly-graph-div\" style=\"height:700px; width:700px;\"></div>            <script type=\"text/javascript\">                                    window.PLOTLYENV=window.PLOTLYENV || {};                                    if (document.getElementById(\"aa0e7a7f-2369-4ef2-b173-09c0080e7356\")) {                    Plotly.newPlot(                        \"aa0e7a7f-2369-4ef2-b173-09c0080e7356\",                        [{\"hovertemplate\":\"%{text}\\u003cextra\\u003eTrial\\u003c\\u002fextra\\u003e\",\"marker\":{\"color\":[1,2,7,9,11,15,17,18,19,23,24,25,28,30,32,35,36,37,38,39,41,42,43,44,45,46,47,49,50,51,52,53,54,55,56,57,58,60,61,62,64,65,66,67,71,73,75,76,78,80,81,82,84,85,86,87,88,89,90,91,92,93,95,97,99],\"colorbar\":{\"title\":{\"text\":\"Trial\"}},\"colorscale\":[[0.0,\"rgb(247,251,255)\"],[0.125,\"rgb(222,235,247)\"],[0.25,\"rgb(198,219,239)\"],[0.375,\"rgb(158,202,225)\"],[0.5,\"rgb(107,174,214)\"],[0.625,\"rgb(66,146,198)\"],[0.75,\"rgb(33,113,181)\"],[0.875,\"rgb(8,81,156)\"],[1.0,\"rgb(8,48,107)\"]],\"line\":{\"color\":\"Grey\",\"width\":4},\"size\":10},\"mode\":\"markers\",\"showlegend\":false,\"text\":[\"{\\u003cbr\\u003e  \\\"number\\\": 1,\\u003cbr\\u003e  \\\"values\\\": [\\u003cbr\\u003e    0.9280347166371923,\\u003cbr\\u003e    100825.0\\u003cbr\\u003e  ],\\u003cbr\\u003e  \\\"params\\\": {\\u003cbr\\u003e    \\\"lr\\\": 0.001879072812171396,\\u003cbr\\u003e    \\\"dropout_rate\\\": 0.3494364708103783,\\u003cbr\\u003e    \\\"dim_feedforward\\\": 30,\\u003cbr\\u003e    \\\"batch\\\": 32,\\u003cbr\\u003e    \\\"encoder_layers\\\": 2,\\u003cbr\\u003e    \\\"decoder_layers\\\": 3,\\u003cbr\\u003e    \\\"activation_function\\\": \\\"sigmoid\\\",\\u003cbr\\u003e    \\\"time_warping\\\": true,\\u003cbr\\u003e    \\\"time_masking\\\": false,\\u003cbr\\u003e    \\\"gaussian_noise\\\": 0.013089879270761431,\\u003cbr\\u003e    \\\"use_linear_embedding\\\": true,\\u003cbr\\u003e    \\\"phase_type\\\": \\\"iterative\\\",\\u003cbr\\u003e    \\\"self_conditioning\\\": false,\\u003cbr\\u003e    \\\"layer_norm\\\": false,\\u003cbr\\u003e    \\\"positional_encoding_type\\\": \\\"fourier\\\",\\u003cbr\\u003e    \\\"num_ffn_layers\\\": 1\\u003cbr\\u003e  }\\u003cbr\\u003e}\",\"{\\u003cbr\\u003e  \\\"number\\\": 2,\\u003cbr\\u003e  \\\"values\\\": [\\u003cbr\\u003e    0.947430087338298,\\u003cbr\\u003e    203357.0\\u003cbr\\u003e  ],\\u003cbr\\u003e  \\\"params\\\": {\\u003cbr\\u003e    \\\"lr\\\": 0.0006765926523617158,\\u003cbr\\u003e    \\\"dropout_rate\\\": 0.18804464014472938,\\u003cbr\\u003e    \\\"dim_feedforward\\\": 63,\\u003cbr\\u003e    \\\"batch\\\": 96,\\u003cbr\\u003e    \\\"encoder_layers\\\": 3,\\u003cbr\\u003e    \\\"decoder_layers\\\": 2,\\u003cbr\\u003e    \\\"activation_function\\\": \\\"tanh\\\",\\u003cbr\\u003e    \\\"time_warping\\\": false,\\u003cbr\\u003e    \\\"time_masking\\\": true,\\u003cbr\\u003e    \\\"gaussian_noise\\\": 0.008433007655650072,\\u003cbr\\u003e    \\\"use_linear_embedding\\\": false,\\u003cbr\\u003e    \\\"phase_type\\\": \\\"2phase\\\",\\u003cbr\\u003e    \\\"self_conditioning\\\": true,\\u003cbr\\u003e    \\\"layer_norm\\\": true,\\u003cbr\\u003e    \\\"positional_encoding_type\\\": \\\"fourier\\\",\\u003cbr\\u003e    \\\"num_ffn_layers\\\": 2\\u003cbr\\u003e  }\\u003cbr\\u003e}\",\"{\\u003cbr\\u003e  \\\"number\\\": 7,\\u003cbr\\u003e  \\\"values\\\": [\\u003cbr\\u003e    0.9338277193723609,\\u003cbr\\u003e    117390.0\\u003cbr\\u003e  ],\\u003cbr\\u003e  \\\"params\\\": {\\u003cbr\\u003e    \\\"lr\\\": 0.006814970108424742,\\u003cbr\\u003e    \\\"dropout_rate\\\": 0.1200085735863445,\\u003cbr\\u003e    \\\"dim_feedforward\\\": 83,\\u003cbr\\u003e    \\\"batch\\\": 112,\\u003cbr\\u003e    \\\"encoder_layers\\\": 3,\\u003cbr\\u003e    \\\"decoder_layers\\\": 1,\\u003cbr\\u003e    \\\"activation_function\\\": \\\"leaky_relu\\\",\\u003cbr\\u003e    \\\"time_warping\\\": false,\\u003cbr\\u003e    \\\"time_masking\\\": true,\\u003cbr\\u003e    \\\"gaussian_noise\\\": 0.01763788859318549,\\u003cbr\\u003e    \\\"use_linear_embedding\\\": true,\\u003cbr\\u003e    \\\"phase_type\\\": \\\"2phase\\\",\\u003cbr\\u003e    \\\"self_conditioning\\\": true,\\u003cbr\\u003e    \\\"layer_norm\\\": false,\\u003cbr\\u003e    \\\"positional_encoding_type\\\": \\\"sinusoidal\\\",\\u003cbr\\u003e    \\\"num_ffn_layers\\\": 1\\u003cbr\\u003e  }\\u003cbr\\u003e}\",\"{\\u003cbr\\u003e  \\\"number\\\": 9,\\u003cbr\\u003e  \\\"values\\\": [\\u003cbr\\u003e    0.7696579233532346,\\u003cbr\\u003e    123675.0\\u003cbr\\u003e  ],\\u003cbr\\u003e  \\\"params\\\": {\\u003cbr\\u003e    \\\"lr\\\": 0.0022470154513184503,\\u003cbr\\u003e    \\\"dropout_rate\\\": 0.12293663840303247,\\u003cbr\\u003e    \\\"dim_feedforward\\\": 50,\\u003cbr\\u003e    \\\"batch\\\": 48,\\u003cbr\\u003e    \\\"encoder_layers\\\": 3,\\u003cbr\\u003e    \\\"decoder_layers\\\": 2,\\u003cbr\\u003e    \\\"activation_function\\\": \\\"leaky_relu\\\",\\u003cbr\\u003e    \\\"time_warping\\\": false,\\u003cbr\\u003e    \\\"time_masking\\\": true,\\u003cbr\\u003e    \\\"gaussian_noise\\\": 0.00033159075815100594,\\u003cbr\\u003e    \\\"use_linear_embedding\\\": false,\\u003cbr\\u003e    \\\"phase_type\\\": \\\"iterative\\\",\\u003cbr\\u003e    \\\"self_conditioning\\\": false,\\u003cbr\\u003e    \\\"layer_norm\\\": false,\\u003cbr\\u003e    \\\"positional_encoding_type\\\": \\\"sinusoidal\\\",\\u003cbr\\u003e    \\\"num_ffn_layers\\\": 2\\u003cbr\\u003e  }\\u003cbr\\u003e}\",\"{\\u003cbr\\u003e  \\\"number\\\": 11,\\u003cbr\\u003e  \\\"values\\\": [\\u003cbr\\u003e    0.7658929730894208,\\u003cbr\\u003e    72423.0\\u003cbr\\u003e  ],\\u003cbr\\u003e  \\\"params\\\": {\\u003cbr\\u003e    \\\"lr\\\": 0.00022885177677631517,\\u003cbr\\u003e    \\\"dropout_rate\\\": 0.14085192885479747,\\u003cbr\\u003e    \\\"dim_feedforward\\\": 66,\\u003cbr\\u003e    \\\"batch\\\": 16,\\u003cbr\\u003e    \\\"encoder_layers\\\": 1,\\u003cbr\\u003e    \\\"decoder_layers\\\": 2,\\u003cbr\\u003e    \\\"activation_function\\\": \\\"relu\\\",\\u003cbr\\u003e    \\\"time_warping\\\": true,\\u003cbr\\u003e    \\\"time_masking\\\": false,\\u003cbr\\u003e    \\\"gaussian_noise\\\": 0.0004199473215621927,\\u003cbr\\u003e    \\\"use_linear_embedding\\\": false,\\u003cbr\\u003e    \\\"phase_type\\\": \\\"iterative\\\",\\u003cbr\\u003e    \\\"self_conditioning\\\": false,\\u003cbr\\u003e    \\\"layer_norm\\\": false,\\u003cbr\\u003e    \\\"positional_encoding_type\\\": \\\"fourier\\\",\\u003cbr\\u003e    \\\"num_ffn_layers\\\": 1\\u003cbr\\u003e  }\\u003cbr\\u003e}\",\"{\\u003cbr\\u003e  \\\"number\\\": 15,\\u003cbr\\u003e  \\\"values\\\": [\\u003cbr\\u003e    0.9385144550798125,\\u003cbr\\u003e    83630.0\\u003cbr\\u003e  ],\\u003cbr\\u003e  \\\"params\\\": {\\u003cbr\\u003e    \\\"lr\\\": 0.0008433681060823115,\\u003cbr\\u003e    \\\"dropout_rate\\\": 0.18149302634500797,\\u003cbr\\u003e    \\\"dim_feedforward\\\": 21,\\u003cbr\\u003e    \\\"batch\\\": 96,\\u003cbr\\u003e    \\\"encoder_layers\\\": 3,\\u003cbr\\u003e    \\\"decoder_layers\\\": 2,\\u003cbr\\u003e    \\\"activation_function\\\": \\\"sigmoid\\\",\\u003cbr\\u003e    \\\"time_warping\\\": false,\\u003cbr\\u003e    \\\"time_masking\\\": true,\\u003cbr\\u003e    \\\"gaussian_noise\\\": 0.012962130329443215,\\u003cbr\\u003e    \\\"use_linear_embedding\\\": false,\\u003cbr\\u003e    \\\"phase_type\\\": \\\"iterative\\\",\\u003cbr\\u003e    \\\"self_conditioning\\\": false,\\u003cbr\\u003e    \\\"layer_norm\\\": true,\\u003cbr\\u003e    \\\"positional_encoding_type\\\": \\\"sinusoidal\\\",\\u003cbr\\u003e    \\\"num_ffn_layers\\\": 1\\u003cbr\\u003e  }\\u003cbr\\u003e}\",\"{\\u003cbr\\u003e  \\\"number\\\": 17,\\u003cbr\\u003e  \\\"values\\\": [\\u003cbr\\u003e    0.7465049574349238,\\u003cbr\\u003e    84995.0\\u003cbr\\u003e  ],\\u003cbr\\u003e  \\\"params\\\": {\\u003cbr\\u003e    \\\"lr\\\": 0.006547646503323721,\\u003cbr\\u003e    \\\"dropout_rate\\\": 0.3451687592003001,\\u003cbr\\u003e    \\\"dim_feedforward\\\": 30,\\u003cbr\\u003e    \\\"batch\\\": 96,\\u003cbr\\u003e    \\\"encoder_layers\\\": 1,\\u003cbr\\u003e    \\\"decoder_layers\\\": 3,\\u003cbr\\u003e    \\\"activation_function\\\": \\\"leaky_relu\\\",\\u003cbr\\u003e    \\\"time_warping\\\": false,\\u003cbr\\u003e    \\\"time_masking\\\": false,\\u003cbr\\u003e    \\\"gaussian_noise\\\": 0.003237509081334871,\\u003cbr\\u003e    \\\"use_linear_embedding\\\": false,\\u003cbr\\u003e    \\\"phase_type\\\": \\\"iterative\\\",\\u003cbr\\u003e    \\\"self_conditioning\\\": false,\\u003cbr\\u003e    \\\"layer_norm\\\": false,\\u003cbr\\u003e    \\\"positional_encoding_type\\\": \\\"fourier\\\",\\u003cbr\\u003e    \\\"num_ffn_layers\\\": 1\\u003cbr\\u003e  }\\u003cbr\\u003e}\",\"{\\u003cbr\\u003e  \\\"number\\\": 18,\\u003cbr\\u003e  \\\"values\\\": [\\u003cbr\\u003e    0.5456111077289126,\\u003cbr\\u003e    88575.0\\u003cbr\\u003e  ],\\u003cbr\\u003e  \\\"params\\\": {\\u003cbr\\u003e    \\\"lr\\\": 0.0024487269996679214,\\u003cbr\\u003e    \\\"dropout_rate\\\": 0.24121966200349243,\\u003cbr\\u003e    \\\"dim_feedforward\\\": 10,\\u003cbr\\u003e    \\\"batch\\\": 16,\\u003cbr\\u003e    \\\"encoder_layers\\\": 3,\\u003cbr\\u003e    \\\"decoder_layers\\\": 1,\\u003cbr\\u003e    \\\"activation_function\\\": \\\"leaky_relu\\\",\\u003cbr\\u003e    \\\"time_warping\\\": false,\\u003cbr\\u003e    \\\"time_masking\\\": true,\\u003cbr\\u003e    \\\"gaussian_noise\\\": 0.000984236352964094,\\u003cbr\\u003e    \\\"use_linear_embedding\\\": false,\\u003cbr\\u003e    \\\"phase_type\\\": \\\"2phase\\\",\\u003cbr\\u003e    \\\"self_conditioning\\\": false,\\u003cbr\\u003e    \\\"layer_norm\\\": false,\\u003cbr\\u003e    \\\"positional_encoding_type\\\": \\\"sinusoidal\\\",\\u003cbr\\u003e    \\\"num_ffn_layers\\\": 3\\u003cbr\\u003e  }\\u003cbr\\u003e}\",\"{\\u003cbr\\u003e  \\\"number\\\": 19,\\u003cbr\\u003e  \\\"values\\\": [\\u003cbr\\u003e    0.5120484884646987,\\u003cbr\\u003e    69369.0\\u003cbr\\u003e  ],\\u003cbr\\u003e  \\\"params\\\": {\\u003cbr\\u003e    \\\"lr\\\": 0.0036653417446946258,\\u003cbr\\u003e    \\\"dropout_rate\\\": 0.13420706570622498,\\u003cbr\\u003e    \\\"dim_feedforward\\\": 86,\\u003cbr\\u003e    \\\"batch\\\": 64,\\u003cbr\\u003e    \\\"encoder_layers\\\": 1,\\u003cbr\\u003e    \\\"decoder_layers\\\": 1,\\u003cbr\\u003e    \\\"activation_function\\\": \\\"tanh\\\",\\u003cbr\\u003e    \\\"time_warping\\\": false,\\u003cbr\\u003e    \\\"time_masking\\\": false,\\u003cbr\\u003e    \\\"gaussian_noise\\\": 0.09633628426544816,\\u003cbr\\u003e    \\\"use_linear_embedding\\\": true,\\u003cbr\\u003e    \\\"phase_type\\\": \\\"iterative\\\",\\u003cbr\\u003e    \\\"self_conditioning\\\": true,\\u003cbr\\u003e    \\\"layer_norm\\\": false,\\u003cbr\\u003e    \\\"positional_encoding_type\\\": \\\"sinusoidal\\\",\\u003cbr\\u003e    \\\"num_ffn_layers\\\": 2\\u003cbr\\u003e  }\\u003cbr\\u003e}\",\"{\\u003cbr\\u003e  \\\"number\\\": 23,\\u003cbr\\u003e  \\\"values\\\": [\\u003cbr\\u003e    0.5172077457927527,\\u003cbr\\u003e    99965.0\\u003cbr\\u003e  ],\\u003cbr\\u003e  \\\"params\\\": {\\u003cbr\\u003e    \\\"lr\\\": 0.0016422206597471545,\\u003cbr\\u003e    \\\"dropout_rate\\\": 0.1755270473695104,\\u003cbr\\u003e    \\\"dim_feedforward\\\": 24,\\u003cbr\\u003e    \\\"batch\\\": 128,\\u003cbr\\u003e    \\\"encoder_layers\\\": 3,\\u003cbr\\u003e    \\\"decoder_layers\\\": 1,\\u003cbr\\u003e    \\\"activation_function\\\": \\\"tanh\\\",\\u003cbr\\u003e    \\\"time_warping\\\": false,\\u003cbr\\u003e    \\\"time_masking\\\": false,\\u003cbr\\u003e    \\\"gaussian_noise\\\": 0.032205117496258685,\\u003cbr\\u003e    \\\"use_linear_embedding\\\": true,\\u003cbr\\u003e    \\\"phase_type\\\": \\\"2phase\\\",\\u003cbr\\u003e    \\\"self_conditioning\\\": false,\\u003cbr\\u003e    \\\"layer_norm\\\": false,\\u003cbr\\u003e    \\\"positional_encoding_type\\\": \\\"sinusoidal\\\",\\u003cbr\\u003e    \\\"num_ffn_layers\\\": 2\\u003cbr\\u003e  }\\u003cbr\\u003e}\",\"{\\u003cbr\\u003e  \\\"number\\\": 24,\\u003cbr\\u003e  \\\"values\\\": [\\u003cbr\\u003e    0.5347176588206002,\\u003cbr\\u003e    256987.0\\u003cbr\\u003e  ],\\u003cbr\\u003e  \\\"params\\\": {\\u003cbr\\u003e    \\\"lr\\\": 0.002648123890499731,\\u003cbr\\u003e    \\\"dropout_rate\\\": 0.22012786014487762,\\u003cbr\\u003e    \\\"dim_feedforward\\\": 84,\\u003cbr\\u003e    \\\"batch\\\": 80,\\u003cbr\\u003e    \\\"encoder_layers\\\": 2,\\u003cbr\\u003e    \\\"decoder_layers\\\": 2,\\u003cbr\\u003e    \\\"activation_function\\\": \\\"tanh\\\",\\u003cbr\\u003e    \\\"time_warping\\\": true,\\u003cbr\\u003e    \\\"time_masking\\\": false,\\u003cbr\\u003e    \\\"gaussian_noise\\\": 0.0005746584879388252,\\u003cbr\\u003e    \\\"use_linear_embedding\\\": false,\\u003cbr\\u003e    \\\"phase_type\\\": \\\"2phase\\\",\\u003cbr\\u003e    \\\"self_conditioning\\\": false,\\u003cbr\\u003e    \\\"layer_norm\\\": true,\\u003cbr\\u003e    \\\"positional_encoding_type\\\": \\\"sinusoidal\\\",\\u003cbr\\u003e    \\\"num_ffn_layers\\\": 3\\u003cbr\\u003e  }\\u003cbr\\u003e}\",\"{\\u003cbr\\u003e  \\\"number\\\": 25,\\u003cbr\\u003e  \\\"values\\\": [\\u003cbr\\u003e    0.5150454732476101,\\u003cbr\\u003e    100395.0\\u003cbr\\u003e  ],\\u003cbr\\u003e  \\\"params\\\": {\\u003cbr\\u003e    \\\"lr\\\": 0.0038433506374495868,\\u003cbr\\u003e    \\\"dropout_rate\\\": 0.2792897833767456,\\u003cbr\\u003e    \\\"dim_feedforward\\\": 14,\\u003cbr\\u003e    \\\"batch\\\": 80,\\u003cbr\\u003e    \\\"encoder_layers\\\": 1,\\u003cbr\\u003e    \\\"decoder_layers\\\": 2,\\u003cbr\\u003e    \\\"activation_function\\\": \\\"tanh\\\",\\u003cbr\\u003e    \\\"time_warping\\\": true,\\u003cbr\\u003e    \\\"time_masking\\\": true,\\u003cbr\\u003e    \\\"gaussian_noise\\\": 0.09153044409907586,\\u003cbr\\u003e    \\\"use_linear_embedding\\\": false,\\u003cbr\\u003e    \\\"phase_type\\\": \\\"2phase\\\",\\u003cbr\\u003e    \\\"self_conditioning\\\": true,\\u003cbr\\u003e    \\\"layer_norm\\\": false,\\u003cbr\\u003e    \\\"positional_encoding_type\\\": \\\"sinusoidal\\\",\\u003cbr\\u003e    \\\"num_ffn_layers\\\": 1\\u003cbr\\u003e  }\\u003cbr\\u003e}\",\"{\\u003cbr\\u003e  \\\"number\\\": 28,\\u003cbr\\u003e  \\\"values\\\": [\\u003cbr\\u003e    0.9183498409887686,\\u003cbr\\u003e    90120.0\\u003cbr\\u003e  ],\\u003cbr\\u003e  \\\"params\\\": {\\u003cbr\\u003e    \\\"lr\\\": 0.0007846069201203881,\\u003cbr\\u003e    \\\"dropout_rate\\\": 0.36964854585187046,\\u003cbr\\u003e    \\\"dim_feedforward\\\": 29,\\u003cbr\\u003e    \\\"batch\\\": 128,\\u003cbr\\u003e    \\\"encoder_layers\\\": 3,\\u003cbr\\u003e    \\\"decoder_layers\\\": 2,\\u003cbr\\u003e    \\\"activation_function\\\": \\\"tanh\\\",\\u003cbr\\u003e    \\\"time_warping\\\": true,\\u003cbr\\u003e    \\\"time_masking\\\": true,\\u003cbr\\u003e    \\\"gaussian_noise\\\": 0.0018623607149278547,\\u003cbr\\u003e    \\\"use_linear_embedding\\\": true,\\u003cbr\\u003e    \\\"phase_type\\\": \\\"iterative\\\",\\u003cbr\\u003e    \\\"self_conditioning\\\": false,\\u003cbr\\u003e    \\\"layer_norm\\\": false,\\u003cbr\\u003e    \\\"positional_encoding_type\\\": \\\"sinusoidal\\\",\\u003cbr\\u003e    \\\"num_ffn_layers\\\": 1\\u003cbr\\u003e  }\\u003cbr\\u003e}\",\"{\\u003cbr\\u003e  \\\"number\\\": 30,\\u003cbr\\u003e  \\\"values\\\": [\\u003cbr\\u003e    0.5735525583158367,\\u003cbr\\u003e    94819.0\\u003cbr\\u003e  ],\\u003cbr\\u003e  \\\"params\\\": {\\u003cbr\\u003e    \\\"lr\\\": 0.007130212758115732,\\u003cbr\\u003e    \\\"dropout_rate\\\": 0.2988391419998785,\\u003cbr\\u003e    \\\"dim_feedforward\\\": 99,\\u003cbr\\u003e    \\\"batch\\\": 96,\\u003cbr\\u003e    \\\"encoder_layers\\\": 1,\\u003cbr\\u003e    \\\"decoder_layers\\\": 1,\\u003cbr\\u003e    \\\"activation_function\\\": \\\"leaky_relu\\\",\\u003cbr\\u003e    \\\"time_warping\\\": true,\\u003cbr\\u003e    \\\"time_masking\\\": false,\\u003cbr\\u003e    \\\"gaussian_noise\\\": 0.0029152611672436236,\\u003cbr\\u003e    \\\"use_linear_embedding\\\": true,\\u003cbr\\u003e    \\\"phase_type\\\": \\\"iterative\\\",\\u003cbr\\u003e    \\\"self_conditioning\\\": true,\\u003cbr\\u003e    \\\"layer_norm\\\": true,\\u003cbr\\u003e    \\\"positional_encoding_type\\\": \\\"fourier\\\",\\u003cbr\\u003e    \\\"num_ffn_layers\\\": 3\\u003cbr\\u003e  }\\u003cbr\\u003e}\",\"{\\u003cbr\\u003e  \\\"number\\\": 32,\\u003cbr\\u003e  \\\"values\\\": [\\u003cbr\\u003e    0.5427267738228322,\\u003cbr\\u003e    68889.0\\u003cbr\\u003e  ],\\u003cbr\\u003e  \\\"params\\\": {\\u003cbr\\u003e    \\\"lr\\\": 0.000567227604208751,\\u003cbr\\u003e    \\\"dropout_rate\\\": 0.38094868434603246,\\u003cbr\\u003e    \\\"dim_feedforward\\\": 88,\\u003cbr\\u003e    \\\"batch\\\": 32,\\u003cbr\\u003e    \\\"encoder_layers\\\": 2,\\u003cbr\\u003e    \\\"decoder_layers\\\": 1,\\u003cbr\\u003e    \\\"activation_function\\\": \\\"tanh\\\",\\u003cbr\\u003e    \\\"time_warping\\\": true,\\u003cbr\\u003e    \\\"time_masking\\\": true,\\u003cbr\\u003e    \\\"gaussian_noise\\\": 0.030112068902305823,\\u003cbr\\u003e    \\\"use_linear_embedding\\\": false,\\u003cbr\\u003e    \\\"phase_type\\\": \\\"iterative\\\",\\u003cbr\\u003e    \\\"self_conditioning\\\": false,\\u003cbr\\u003e    \\\"layer_norm\\\": false,\\u003cbr\\u003e    \\\"positional_encoding_type\\\": \\\"sinusoidal\\\",\\u003cbr\\u003e    \\\"num_ffn_layers\\\": 1\\u003cbr\\u003e  }\\u003cbr\\u003e}\",\"{\\u003cbr\\u003e  \\\"number\\\": 35,\\u003cbr\\u003e  \\\"values\\\": [\\u003cbr\\u003e    0.8070642592176991,\\u003cbr\\u003e    170710.0\\u003cbr\\u003e  ],\\u003cbr\\u003e  \\\"params\\\": {\\u003cbr\\u003e    \\\"lr\\\": 0.004917552241098538,\\u003cbr\\u003e    \\\"dropout_rate\\\": 0.30815049176297565,\\u003cbr\\u003e    \\\"dim_feedforward\\\": 49,\\u003cbr\\u003e    \\\"batch\\\": 96,\\u003cbr\\u003e    \\\"encoder_layers\\\": 1,\\u003cbr\\u003e    \\\"decoder_layers\\\": 2,\\u003cbr\\u003e    \\\"activation_function\\\": \\\"sigmoid\\\",\\u003cbr\\u003e    \\\"time_warping\\\": true,\\u003cbr\\u003e    \\\"time_masking\\\": false,\\u003cbr\\u003e    \\\"gaussian_noise\\\": 0.005018370622363301,\\u003cbr\\u003e    \\\"use_linear_embedding\\\": true,\\u003cbr\\u003e    \\\"phase_type\\\": \\\"2phase\\\",\\u003cbr\\u003e    \\\"self_conditioning\\\": true,\\u003cbr\\u003e    \\\"layer_norm\\\": true,\\u003cbr\\u003e    \\\"positional_encoding_type\\\": \\\"sinusoidal\\\",\\u003cbr\\u003e    \\\"num_ffn_layers\\\": 3\\u003cbr\\u003e  }\\u003cbr\\u003e}\",\"{\\u003cbr\\u003e  \\\"number\\\": 36,\\u003cbr\\u003e  \\\"values\\\": [\\u003cbr\\u003e    0.5150454732476101,\\u003cbr\\u003e    45913.0\\u003cbr\\u003e  ],\\u003cbr\\u003e  \\\"params\\\": {\\u003cbr\\u003e    \\\"lr\\\": 0.0024401480366476255,\\u003cbr\\u003e    \\\"dropout_rate\\\": 0.17408921511510106,\\u003cbr\\u003e    \\\"dim_feedforward\\\": 69,\\u003cbr\\u003e    \\\"batch\\\": 48,\\u003cbr\\u003e    \\\"encoder_layers\\\": 1,\\u003cbr\\u003e    \\\"decoder_layers\\\": 1,\\u003cbr\\u003e    \\\"activation_function\\\": \\\"tanh\\\",\\u003cbr\\u003e    \\\"time_warping\\\": true,\\u003cbr\\u003e    \\\"time_masking\\\": false,\\u003cbr\\u003e    \\\"gaussian_noise\\\": 0.014396714357475034,\\u003cbr\\u003e    \\\"use_linear_embedding\\\": false,\\u003cbr\\u003e    \\\"phase_type\\\": \\\"iterative\\\",\\u003cbr\\u003e    \\\"self_conditioning\\\": true,\\u003cbr\\u003e    \\\"layer_norm\\\": false,\\u003cbr\\u003e    \\\"positional_encoding_type\\\": \\\"fourier\\\",\\u003cbr\\u003e    \\\"num_ffn_layers\\\": 1\\u003cbr\\u003e  }\\u003cbr\\u003e}\",\"{\\u003cbr\\u003e  \\\"number\\\": 37,\\u003cbr\\u003e  \\\"values\\\": [\\u003cbr\\u003e    0.535182234049675,\\u003cbr\\u003e    93556.0\\u003cbr\\u003e  ],\\u003cbr\\u003e  \\\"params\\\": {\\u003cbr\\u003e    \\\"lr\\\": 0.0039568078838434365,\\u003cbr\\u003e    \\\"dropout_rate\\\": 0.24160081590522192,\\u003cbr\\u003e    \\\"dim_feedforward\\\": 127,\\u003cbr\\u003e    \\\"batch\\\": 96,\\u003cbr\\u003e    \\\"encoder_layers\\\": 1,\\u003cbr\\u003e    \\\"decoder_layers\\\": 1,\\u003cbr\\u003e    \\\"activation_function\\\": \\\"tanh\\\",\\u003cbr\\u003e    \\\"time_warping\\\": false,\\u003cbr\\u003e    \\\"time_masking\\\": false,\\u003cbr\\u003e    \\\"gaussian_noise\\\": 0.00020067502936184999,\\u003cbr\\u003e    \\\"use_linear_embedding\\\": true,\\u003cbr\\u003e    \\\"phase_type\\\": \\\"2phase\\\",\\u003cbr\\u003e    \\\"self_conditioning\\\": false,\\u003cbr\\u003e    \\\"layer_norm\\\": true,\\u003cbr\\u003e    \\\"positional_encoding_type\\\": \\\"fourier\\\",\\u003cbr\\u003e    \\\"num_ffn_layers\\\": 1\\u003cbr\\u003e  }\\u003cbr\\u003e}\",\"{\\u003cbr\\u003e  \\\"number\\\": 38,\\u003cbr\\u003e  \\\"values\\\": [\\u003cbr\\u003e    0.9516489436256526,\\u003cbr\\u003e    139375.0\\u003cbr\\u003e  ],\\u003cbr\\u003e  \\\"params\\\": {\\u003cbr\\u003e    \\\"lr\\\": 0.0033482470316095383,\\u003cbr\\u003e    \\\"dropout_rate\\\": 0.1434620829372272,\\u003cbr\\u003e    \\\"dim_feedforward\\\": 30,\\u003cbr\\u003e    \\\"batch\\\": 112,\\u003cbr\\u003e    \\\"encoder_layers\\\": 1,\\u003cbr\\u003e    \\\"decoder_layers\\\": 2,\\u003cbr\\u003e    \\\"activation_function\\\": \\\"leaky_relu\\\",\\u003cbr\\u003e    \\\"time_warping\\\": false,\\u003cbr\\u003e    \\\"time_masking\\\": true,\\u003cbr\\u003e    \\\"gaussian_noise\\\": 0.001416650808099888,\\u003cbr\\u003e    \\\"use_linear_embedding\\\": false,\\u003cbr\\u003e    \\\"phase_type\\\": \\\"2phase\\\",\\u003cbr\\u003e    \\\"self_conditioning\\\": true,\\u003cbr\\u003e    \\\"layer_norm\\\": true,\\u003cbr\\u003e    \\\"positional_encoding_type\\\": \\\"fourier\\\",\\u003cbr\\u003e    \\\"num_ffn_layers\\\": 3\\u003cbr\\u003e  }\\u003cbr\\u003e}\",\"{\\u003cbr\\u003e  \\\"number\\\": 39,\\u003cbr\\u003e  \\\"values\\\": [\\u003cbr\\u003e    0.802925437248291,\\u003cbr\\u003e    80503.0\\u003cbr\\u003e  ],\\u003cbr\\u003e  \\\"params\\\": {\\u003cbr\\u003e    \\\"lr\\\": 0.0006292629352335902,\\u003cbr\\u003e    \\\"dropout_rate\\\": 0.2821235154259625,\\u003cbr\\u003e    \\\"dim_feedforward\\\": 126,\\u003cbr\\u003e    \\\"batch\\\": 32,\\u003cbr\\u003e    \\\"encoder_layers\\\": 2,\\u003cbr\\u003e    \\\"decoder_layers\\\": 1,\\u003cbr\\u003e    \\\"activation_function\\\": \\\"leaky_relu\\\",\\u003cbr\\u003e    \\\"time_warping\\\": true,\\u003cbr\\u003e    \\\"time_masking\\\": true,\\u003cbr\\u003e    \\\"gaussian_noise\\\": 0.0005906685329008395,\\u003cbr\\u003e    \\\"use_linear_embedding\\\": false,\\u003cbr\\u003e    \\\"phase_type\\\": \\\"iterative\\\",\\u003cbr\\u003e    \\\"self_conditioning\\\": false,\\u003cbr\\u003e    \\\"layer_norm\\\": true,\\u003cbr\\u003e    \\\"positional_encoding_type\\\": \\\"sinusoidal\\\",\\u003cbr\\u003e    \\\"num_ffn_layers\\\": 1\\u003cbr\\u003e  }\\u003cbr\\u003e}\",\"{\\u003cbr\\u003e  \\\"number\\\": 41,\\u003cbr\\u003e  \\\"values\\\": [\\u003cbr\\u003e    0.798828848469786,\\u003cbr\\u003e    221515.0\\u003cbr\\u003e  ],\\u003cbr\\u003e  \\\"params\\\": {\\u003cbr\\u003e    \\\"lr\\\": 0.002178414836759579,\\u003cbr\\u003e    \\\"dropout_rate\\\": 0.2808977077197149,\\u003cbr\\u003e    \\\"dim_feedforward\\\": 96,\\u003cbr\\u003e    \\\"batch\\\": 128,\\u003cbr\\u003e    \\\"encoder_layers\\\": 3,\\u003cbr\\u003e    \\\"decoder_layers\\\": 2,\\u003cbr\\u003e    \\\"activation_function\\\": \\\"leaky_relu\\\",\\u003cbr\\u003e    \\\"time_warping\\\": true,\\u003cbr\\u003e    \\\"time_masking\\\": true,\\u003cbr\\u003e    \\\"gaussian_noise\\\": 0.0025804293694684233,\\u003cbr\\u003e    \\\"use_linear_embedding\\\": true,\\u003cbr\\u003e    \\\"phase_type\\\": \\\"iterative\\\",\\u003cbr\\u003e    \\\"self_conditioning\\\": false,\\u003cbr\\u003e    \\\"layer_norm\\\": true,\\u003cbr\\u003e    \\\"positional_encoding_type\\\": \\\"sinusoidal\\\",\\u003cbr\\u003e    \\\"num_ffn_layers\\\": 3\\u003cbr\\u003e  }\\u003cbr\\u003e}\",\"{\\u003cbr\\u003e  \\\"number\\\": 42,\\u003cbr\\u003e  \\\"values\\\": [\\u003cbr\\u003e    0.5273926455881524,\\u003cbr\\u003e    95903.0\\u003cbr\\u003e  ],\\u003cbr\\u003e  \\\"params\\\": {\\u003cbr\\u003e    \\\"lr\\\": 0.008774725145685112,\\u003cbr\\u003e    \\\"dropout_rate\\\": 0.17647680175912042,\\u003cbr\\u003e    \\\"dim_feedforward\\\": 82,\\u003cbr\\u003e    \\\"batch\\\": 80,\\u003cbr\\u003e    \\\"encoder_layers\\\": 2,\\u003cbr\\u003e    \\\"decoder_layers\\\": 2,\\u003cbr\\u003e    \\\"activation_function\\\": \\\"tanh\\\",\\u003cbr\\u003e    \\\"time_warping\\\": true,\\u003cbr\\u003e    \\\"time_masking\\\": false,\\u003cbr\\u003e    \\\"gaussian_noise\\\": 0.00012577812291077122,\\u003cbr\\u003e    \\\"use_linear_embedding\\\": false,\\u003cbr\\u003e    \\\"phase_type\\\": \\\"iterative\\\",\\u003cbr\\u003e    \\\"self_conditioning\\\": false,\\u003cbr\\u003e    \\\"layer_norm\\\": true,\\u003cbr\\u003e    \\\"positional_encoding_type\\\": \\\"fourier\\\",\\u003cbr\\u003e    \\\"num_ffn_layers\\\": 1\\u003cbr\\u003e  }\\u003cbr\\u003e}\",\"{\\u003cbr\\u003e  \\\"number\\\": 43,\\u003cbr\\u003e  \\\"values\\\": [\\u003cbr\\u003e    0.9315018611978791,\\u003cbr\\u003e    125950.0\\u003cbr\\u003e  ],\\u003cbr\\u003e  \\\"params\\\": {\\u003cbr\\u003e    \\\"lr\\\": 0.0017522110550577334,\\u003cbr\\u003e    \\\"dropout_rate\\\": 0.40455434936703705,\\u003cbr\\u003e    \\\"dim_feedforward\\\": 105,\\u003cbr\\u003e    \\\"batch\\\": 64,\\u003cbr\\u003e    \\\"encoder_layers\\\": 3,\\u003cbr\\u003e    \\\"decoder_layers\\\": 1,\\u003cbr\\u003e    \\\"activation_function\\\": \\\"leaky_relu\\\",\\u003cbr\\u003e    \\\"time_warping\\\": false,\\u003cbr\\u003e    \\\"time_masking\\\": false,\\u003cbr\\u003e    \\\"gaussian_noise\\\": 0.025199871660185977,\\u003cbr\\u003e    \\\"use_linear_embedding\\\": false,\\u003cbr\\u003e    \\\"phase_type\\\": \\\"2phase\\\",\\u003cbr\\u003e    \\\"self_conditioning\\\": false,\\u003cbr\\u003e    \\\"layer_norm\\\": false,\\u003cbr\\u003e    \\\"positional_encoding_type\\\": \\\"sinusoidal\\\",\\u003cbr\\u003e    \\\"num_ffn_layers\\\": 1\\u003cbr\\u003e  }\\u003cbr\\u003e}\",\"{\\u003cbr\\u003e  \\\"number\\\": 44,\\u003cbr\\u003e  \\\"values\\\": [\\u003cbr\\u003e    0.9228821250963636,\\u003cbr\\u003e    109761.0\\u003cbr\\u003e  ],\\u003cbr\\u003e  \\\"params\\\": {\\u003cbr\\u003e    \\\"lr\\\": 0.00021403687396746382,\\u003cbr\\u003e    \\\"dropout_rate\\\": 0.10884220346384499,\\u003cbr\\u003e    \\\"dim_feedforward\\\": 28,\\u003cbr\\u003e    \\\"batch\\\": 96,\\u003cbr\\u003e    \\\"encoder_layers\\\": 1,\\u003cbr\\u003e    \\\"decoder_layers\\\": 3,\\u003cbr\\u003e    \\\"activation_function\\\": \\\"leaky_relu\\\",\\u003cbr\\u003e    \\\"time_warping\\\": true,\\u003cbr\\u003e    \\\"time_masking\\\": false,\\u003cbr\\u003e    \\\"gaussian_noise\\\": 0.0005005039496863047,\\u003cbr\\u003e    \\\"use_linear_embedding\\\": true,\\u003cbr\\u003e    \\\"phase_type\\\": \\\"iterative\\\",\\u003cbr\\u003e    \\\"self_conditioning\\\": true,\\u003cbr\\u003e    \\\"layer_norm\\\": false,\\u003cbr\\u003e    \\\"positional_encoding_type\\\": \\\"sinusoidal\\\",\\u003cbr\\u003e    \\\"num_ffn_layers\\\": 3\\u003cbr\\u003e  }\\u003cbr\\u003e}\",\"{\\u003cbr\\u003e  \\\"number\\\": 45,\\u003cbr\\u003e  \\\"values\\\": [\\u003cbr\\u003e    0.9234518080438258,\\u003cbr\\u003e    103909.0\\u003cbr\\u003e  ],\\u003cbr\\u003e  \\\"params\\\": {\\u003cbr\\u003e    \\\"lr\\\": 0.00536632978120047,\\u003cbr\\u003e    \\\"dropout_rate\\\": 0.33951962766713273,\\u003cbr\\u003e    \\\"dim_feedforward\\\": 121,\\u003cbr\\u003e    \\\"batch\\\": 32,\\u003cbr\\u003e    \\\"encoder_layers\\\": 3,\\u003cbr\\u003e    \\\"decoder_layers\\\": 1,\\u003cbr\\u003e    \\\"activation_function\\\": \\\"tanh\\\",\\u003cbr\\u003e    \\\"time_warping\\\": false,\\u003cbr\\u003e    \\\"time_masking\\\": true,\\u003cbr\\u003e    \\\"gaussian_noise\\\": 0.019279336526418778,\\u003cbr\\u003e    \\\"use_linear_embedding\\\": true,\\u003cbr\\u003e    \\\"phase_type\\\": \\\"iterative\\\",\\u003cbr\\u003e    \\\"self_conditioning\\\": true,\\u003cbr\\u003e    \\\"layer_norm\\\": false,\\u003cbr\\u003e    \\\"positional_encoding_type\\\": \\\"fourier\\\",\\u003cbr\\u003e    \\\"num_ffn_layers\\\": 1\\u003cbr\\u003e  }\\u003cbr\\u003e}\",\"{\\u003cbr\\u003e  \\\"number\\\": 46,\\u003cbr\\u003e  \\\"values\\\": [\\u003cbr\\u003e    0.9315018611978791,\\u003cbr\\u003e    69139.0\\u003cbr\\u003e  ],\\u003cbr\\u003e  \\\"params\\\": {\\u003cbr\\u003e    \\\"lr\\\": 0.0018764832749000922,\\u003cbr\\u003e    \\\"dropout_rate\\\": 0.39761019593040847,\\u003cbr\\u003e    \\\"dim_feedforward\\\": 41,\\u003cbr\\u003e    \\\"batch\\\": 32,\\u003cbr\\u003e    \\\"encoder_layers\\\": 3,\\u003cbr\\u003e    \\\"decoder_layers\\\": 1,\\u003cbr\\u003e    \\\"activation_function\\\": \\\"sigmoid\\\",\\u003cbr\\u003e    \\\"time_warping\\\": true,\\u003cbr\\u003e    \\\"time_masking\\\": false,\\u003cbr\\u003e    \\\"gaussian_noise\\\": 0.005193243898396004,\\u003cbr\\u003e    \\\"use_linear_embedding\\\": false,\\u003cbr\\u003e    \\\"phase_type\\\": \\\"iterative\\\",\\u003cbr\\u003e    \\\"self_conditioning\\\": true,\\u003cbr\\u003e    \\\"layer_norm\\\": true,\\u003cbr\\u003e    \\\"positional_encoding_type\\\": \\\"sinusoidal\\\",\\u003cbr\\u003e    \\\"num_ffn_layers\\\": 1\\u003cbr\\u003e  }\\u003cbr\\u003e}\",\"{\\u003cbr\\u003e  \\\"number\\\": 47,\\u003cbr\\u003e  \\\"values\\\": [\\u003cbr\\u003e    0.9268847302604346,\\u003cbr\\u003e    270241.0\\u003cbr\\u003e  ],\\u003cbr\\u003e  \\\"params\\\": {\\u003cbr\\u003e    \\\"lr\\\": 0.005251850310008038,\\u003cbr\\u003e    \\\"dropout_rate\\\": 0.16432274506042158,\\u003cbr\\u003e    \\\"dim_feedforward\\\": 76,\\u003cbr\\u003e    \\\"batch\\\": 32,\\u003cbr\\u003e    \\\"encoder_layers\\\": 2,\\u003cbr\\u003e    \\\"decoder_layers\\\": 3,\\u003cbr\\u003e    \\\"activation_function\\\": \\\"tanh\\\",\\u003cbr\\u003e    \\\"time_warping\\\": true,\\u003cbr\\u003e    \\\"time_masking\\\": true,\\u003cbr\\u003e    \\\"gaussian_noise\\\": 0.0004538824041699772,\\u003cbr\\u003e    \\\"use_linear_embedding\\\": true,\\u003cbr\\u003e    \\\"phase_type\\\": \\\"2phase\\\",\\u003cbr\\u003e    \\\"self_conditioning\\\": false,\\u003cbr\\u003e    \\\"layer_norm\\\": false,\\u003cbr\\u003e    \\\"positional_encoding_type\\\": \\\"fourier\\\",\\u003cbr\\u003e    \\\"num_ffn_layers\\\": 2\\u003cbr\\u003e  }\\u003cbr\\u003e}\",\"{\\u003cbr\\u003e  \\\"number\\\": 49,\\u003cbr\\u003e  \\\"values\\\": [\\u003cbr\\u003e    0.7650553094923715,\\u003cbr\\u003e    268150.0\\u003cbr\\u003e  ],\\u003cbr\\u003e  \\\"params\\\": {\\u003cbr\\u003e    \\\"lr\\\": 0.0019660695736915994,\\u003cbr\\u003e    \\\"dropout_rate\\\": 0.28536500123555963,\\u003cbr\\u003e    \\\"dim_feedforward\\\": 115,\\u003cbr\\u003e    \\\"batch\\\": 48,\\u003cbr\\u003e    \\\"encoder_layers\\\": 1,\\u003cbr\\u003e    \\\"decoder_layers\\\": 2,\\u003cbr\\u003e    \\\"activation_function\\\": \\\"leaky_relu\\\",\\u003cbr\\u003e    \\\"time_warping\\\": false,\\u003cbr\\u003e    \\\"time_masking\\\": true,\\u003cbr\\u003e    \\\"gaussian_noise\\\": 0.002689662284452023,\\u003cbr\\u003e    \\\"use_linear_embedding\\\": false,\\u003cbr\\u003e    \\\"phase_type\\\": \\\"2phase\\\",\\u003cbr\\u003e    \\\"self_conditioning\\\": false,\\u003cbr\\u003e    \\\"layer_norm\\\": true,\\u003cbr\\u003e    \\\"positional_encoding_type\\\": \\\"sinusoidal\\\",\\u003cbr\\u003e    \\\"num_ffn_layers\\\": 3\\u003cbr\\u003e  }\\u003cbr\\u003e}\",\"{\\u003cbr\\u003e  \\\"number\\\": 50,\\u003cbr\\u003e  \\\"values\\\": [\\u003cbr\\u003e    0.4854167441944413,\\u003cbr\\u003e    228507.0\\u003cbr\\u003e  ],\\u003cbr\\u003e  \\\"params\\\": {\\u003cbr\\u003e    \\\"lr\\\": 0.00847082058417735,\\u003cbr\\u003e    \\\"dropout_rate\\\": 0.455461270960672,\\u003cbr\\u003e    \\\"dim_feedforward\\\": 74,\\u003cbr\\u003e    \\\"batch\\\": 16,\\u003cbr\\u003e    \\\"encoder_layers\\\": 3,\\u003cbr\\u003e    \\\"decoder_layers\\\": 3,\\u003cbr\\u003e    \\\"activation_function\\\": \\\"leaky_relu\\\",\\u003cbr\\u003e    \\\"time_warping\\\": false,\\u003cbr\\u003e    \\\"time_masking\\\": true,\\u003cbr\\u003e    \\\"gaussian_noise\\\": 0.00039660140541372555,\\u003cbr\\u003e    \\\"use_linear_embedding\\\": false,\\u003cbr\\u003e    \\\"phase_type\\\": \\\"iterative\\\",\\u003cbr\\u003e    \\\"self_conditioning\\\": false,\\u003cbr\\u003e    \\\"layer_norm\\\": false,\\u003cbr\\u003e    \\\"positional_encoding_type\\\": \\\"sinusoidal\\\",\\u003cbr\\u003e    \\\"num_ffn_layers\\\": 3\\u003cbr\\u003e  }\\u003cbr\\u003e}\",\"{\\u003cbr\\u003e  \\\"number\\\": 51,\\u003cbr\\u003e  \\\"values\\\": [\\u003cbr\\u003e    0.7789573401663761,\\u003cbr\\u003e    164781.0\\u003cbr\\u003e  ],\\u003cbr\\u003e  \\\"params\\\": {\\u003cbr\\u003e    \\\"lr\\\": 0.0034422444353913837,\\u003cbr\\u003e    \\\"dropout_rate\\\": 0.16034845845435416,\\u003cbr\\u003e    \\\"dim_feedforward\\\": 101,\\u003cbr\\u003e    \\\"batch\\\": 112,\\u003cbr\\u003e    \\\"encoder_layers\\\": 2,\\u003cbr\\u003e    \\\"decoder_layers\\\": 2,\\u003cbr\\u003e    \\\"activation_function\\\": \\\"leaky_relu\\\",\\u003cbr\\u003e    \\\"time_warping\\\": true,\\u003cbr\\u003e    \\\"time_masking\\\": false,\\u003cbr\\u003e    \\\"gaussian_noise\\\": 0.002896843737799965,\\u003cbr\\u003e    \\\"use_linear_embedding\\\": false,\\u003cbr\\u003e    \\\"phase_type\\\": \\\"2phase\\\",\\u003cbr\\u003e    \\\"self_conditioning\\\": true,\\u003cbr\\u003e    \\\"layer_norm\\\": false,\\u003cbr\\u003e    \\\"positional_encoding_type\\\": \\\"fourier\\\",\\u003cbr\\u003e    \\\"num_ffn_layers\\\": 1\\u003cbr\\u003e  }\\u003cbr\\u003e}\",\"{\\u003cbr\\u003e  \\\"number\\\": 52,\\u003cbr\\u003e  \\\"values\\\": [\\u003cbr\\u003e    0.9444394479780467,\\u003cbr\\u003e    100851.0\\u003cbr\\u003e  ],\\u003cbr\\u003e  \\\"params\\\": {\\u003cbr\\u003e    \\\"lr\\\": 0.0026072045694798185,\\u003cbr\\u003e    \\\"dropout_rate\\\": 0.490028566897194,\\u003cbr\\u003e    \\\"dim_feedforward\\\": 69,\\u003cbr\\u003e    \\\"batch\\\": 96,\\u003cbr\\u003e    \\\"encoder_layers\\\": 1,\\u003cbr\\u003e    \\\"decoder_layers\\\": 3,\\u003cbr\\u003e    \\\"activation_function\\\": \\\"leaky_relu\\\",\\u003cbr\\u003e    \\\"time_warping\\\": true,\\u003cbr\\u003e    \\\"time_masking\\\": false,\\u003cbr\\u003e    \\\"gaussian_noise\\\": 0.0001351656328348401,\\u003cbr\\u003e    \\\"use_linear_embedding\\\": false,\\u003cbr\\u003e    \\\"phase_type\\\": \\\"iterative\\\",\\u003cbr\\u003e    \\\"self_conditioning\\\": false,\\u003cbr\\u003e    \\\"layer_norm\\\": true,\\u003cbr\\u003e    \\\"positional_encoding_type\\\": \\\"fourier\\\",\\u003cbr\\u003e    \\\"num_ffn_layers\\\": 1\\u003cbr\\u003e  }\\u003cbr\\u003e}\",\"{\\u003cbr\\u003e  \\\"number\\\": 53,\\u003cbr\\u003e  \\\"values\\\": [\\u003cbr\\u003e    0.7994115142507565,\\u003cbr\\u003e    163137.0\\u003cbr\\u003e  ],\\u003cbr\\u003e  \\\"params\\\": {\\u003cbr\\u003e    \\\"lr\\\": 0.005812322802663444,\\u003cbr\\u003e    \\\"dropout_rate\\\": 0.4363757490368405,\\u003cbr\\u003e    \\\"dim_feedforward\\\": 66,\\u003cbr\\u003e    \\\"batch\\\": 32,\\u003cbr\\u003e    \\\"encoder_layers\\\": 3,\\u003cbr\\u003e    \\\"decoder_layers\\\": 2,\\u003cbr\\u003e    \\\"activation_function\\\": \\\"tanh\\\",\\u003cbr\\u003e    \\\"time_warping\\\": true,\\u003cbr\\u003e    \\\"time_masking\\\": true,\\u003cbr\\u003e    \\\"gaussian_noise\\\": 0.09211859278328965,\\u003cbr\\u003e    \\\"use_linear_embedding\\\": true,\\u003cbr\\u003e    \\\"phase_type\\\": \\\"2phase\\\",\\u003cbr\\u003e    \\\"self_conditioning\\\": true,\\u003cbr\\u003e    \\\"layer_norm\\\": true,\\u003cbr\\u003e    \\\"positional_encoding_type\\\": \\\"fourier\\\",\\u003cbr\\u003e    \\\"num_ffn_layers\\\": 1\\u003cbr\\u003e  }\\u003cbr\\u003e}\",\"{\\u003cbr\\u003e  \\\"number\\\": 54,\\u003cbr\\u003e  \\\"values\\\": [\\u003cbr\\u003e    0.7503643201607041,\\u003cbr\\u003e    433731.0\\u003cbr\\u003e  ],\\u003cbr\\u003e  \\\"params\\\": {\\u003cbr\\u003e    \\\"lr\\\": 0.003998714877487622,\\u003cbr\\u003e    \\\"dropout_rate\\\": 0.3025646422813635,\\u003cbr\\u003e    \\\"dim_feedforward\\\": 119,\\u003cbr\\u003e    \\\"batch\\\": 80,\\u003cbr\\u003e    \\\"encoder_layers\\\": 2,\\u003cbr\\u003e    \\\"decoder_layers\\\": 3,\\u003cbr\\u003e    \\\"activation_function\\\": \\\"sigmoid\\\",\\u003cbr\\u003e    \\\"time_warping\\\": true,\\u003cbr\\u003e    \\\"time_masking\\\": false,\\u003cbr\\u003e    \\\"gaussian_noise\\\": 0.016883124090259754,\\u003cbr\\u003e    \\\"use_linear_embedding\\\": false,\\u003cbr\\u003e    \\\"phase_type\\\": \\\"2phase\\\",\\u003cbr\\u003e    \\\"self_conditioning\\\": true,\\u003cbr\\u003e    \\\"layer_norm\\\": false,\\u003cbr\\u003e    \\\"positional_encoding_type\\\": \\\"fourier\\\",\\u003cbr\\u003e    \\\"num_ffn_layers\\\": 3\\u003cbr\\u003e  }\\u003cbr\\u003e}\",\"{\\u003cbr\\u003e  \\\"number\\\": 55,\\u003cbr\\u003e  \\\"values\\\": [\\u003cbr\\u003e    0.745956858328411,\\u003cbr\\u003e    201369.0\\u003cbr\\u003e  ],\\u003cbr\\u003e  \\\"params\\\": {\\u003cbr\\u003e    \\\"lr\\\": 0.005296315355644237,\\u003cbr\\u003e    \\\"dropout_rate\\\": 0.28144821973196754,\\u003cbr\\u003e    \\\"dim_feedforward\\\": 112,\\u003cbr\\u003e    \\\"batch\\\": 64,\\u003cbr\\u003e    \\\"encoder_layers\\\": 2,\\u003cbr\\u003e    \\\"decoder_layers\\\": 2,\\u003cbr\\u003e    \\\"activation_function\\\": \\\"sigmoid\\\",\\u003cbr\\u003e    \\\"time_warping\\\": false,\\u003cbr\\u003e    \\\"time_masking\\\": true,\\u003cbr\\u003e    \\\"gaussian_noise\\\": 0.003144624074250713,\\u003cbr\\u003e    \\\"use_linear_embedding\\\": true,\\u003cbr\\u003e    \\\"phase_type\\\": \\\"iterative\\\",\\u003cbr\\u003e    \\\"self_conditioning\\\": false,\\u003cbr\\u003e    \\\"layer_norm\\\": false,\\u003cbr\\u003e    \\\"positional_encoding_type\\\": \\\"fourier\\\",\\u003cbr\\u003e    \\\"num_ffn_layers\\\": 3\\u003cbr\\u003e  }\\u003cbr\\u003e}\",\"{\\u003cbr\\u003e  \\\"number\\\": 56,\\u003cbr\\u003e  \\\"values\\\": [\\u003cbr\\u003e    0.7789573401663761,\\u003cbr\\u003e    104865.0\\u003cbr\\u003e  ],\\u003cbr\\u003e  \\\"params\\\": {\\u003cbr\\u003e    \\\"lr\\\": 0.0015330469159371858,\\u003cbr\\u003e    \\\"dropout_rate\\\": 0.2742957921126782,\\u003cbr\\u003e    \\\"dim_feedforward\\\": 38,\\u003cbr\\u003e    \\\"batch\\\": 64,\\u003cbr\\u003e    \\\"encoder_layers\\\": 2,\\u003cbr\\u003e    \\\"decoder_layers\\\": 3,\\u003cbr\\u003e    \\\"activation_function\\\": \\\"relu\\\",\\u003cbr\\u003e    \\\"time_warping\\\": false,\\u003cbr\\u003e    \\\"time_masking\\\": true,\\u003cbr\\u003e    \\\"gaussian_noise\\\": 0.0021252025888927467,\\u003cbr\\u003e    \\\"use_linear_embedding\\\": true,\\u003cbr\\u003e    \\\"phase_type\\\": \\\"iterative\\\",\\u003cbr\\u003e    \\\"self_conditioning\\\": false,\\u003cbr\\u003e    \\\"layer_norm\\\": false,\\u003cbr\\u003e    \\\"positional_encoding_type\\\": \\\"fourier\\\",\\u003cbr\\u003e    \\\"num_ffn_layers\\\": 1\\u003cbr\\u003e  }\\u003cbr\\u003e}\",\"{\\u003cbr\\u003e  \\\"number\\\": 57,\\u003cbr\\u003e  \\\"values\\\": [\\u003cbr\\u003e    0.7616142527555747,\\u003cbr\\u003e    105270.0\\u003cbr\\u003e  ],\\u003cbr\\u003e  \\\"params\\\": {\\u003cbr\\u003e    \\\"lr\\\": 0.0068926179209177025,\\u003cbr\\u003e    \\\"dropout_rate\\\": 0.34960030500764,\\u003cbr\\u003e    \\\"dim_feedforward\\\": 59,\\u003cbr\\u003e    \\\"batch\\\": 64,\\u003cbr\\u003e    \\\"encoder_layers\\\": 3,\\u003cbr\\u003e    \\\"decoder_layers\\\": 1,\\u003cbr\\u003e    \\\"activation_function\\\": \\\"leaky_relu\\\",\\u003cbr\\u003e    \\\"time_warping\\\": false,\\u003cbr\\u003e    \\\"time_masking\\\": true,\\u003cbr\\u003e    \\\"gaussian_noise\\\": 0.0034709750700357453,\\u003cbr\\u003e    \\\"use_linear_embedding\\\": true,\\u003cbr\\u003e    \\\"phase_type\\\": \\\"2phase\\\",\\u003cbr\\u003e    \\\"self_conditioning\\\": true,\\u003cbr\\u003e    \\\"layer_norm\\\": false,\\u003cbr\\u003e    \\\"positional_encoding_type\\\": \\\"sinusoidal\\\",\\u003cbr\\u003e    \\\"num_ffn_layers\\\": 1\\u003cbr\\u003e  }\\u003cbr\\u003e}\",\"{\\u003cbr\\u003e  \\\"number\\\": 58,\\u003cbr\\u003e  \\\"values\\\": [\\u003cbr\\u003e    0.7691093834785223,\\u003cbr\\u003e    113779.0\\u003cbr\\u003e  ],\\u003cbr\\u003e  \\\"params\\\": {\\u003cbr\\u003e    \\\"lr\\\": 0.0015858495544989377,\\u003cbr\\u003e    \\\"dropout_rate\\\": 0.15755218736118393,\\u003cbr\\u003e    \\\"dim_feedforward\\\": 101,\\u003cbr\\u003e    \\\"batch\\\": 64,\\u003cbr\\u003e    \\\"encoder_layers\\\": 1,\\u003cbr\\u003e    \\\"decoder_layers\\\": 3,\\u003cbr\\u003e    \\\"activation_function\\\": \\\"sigmoid\\\",\\u003cbr\\u003e    \\\"time_warping\\\": false,\\u003cbr\\u003e    \\\"time_masking\\\": true,\\u003cbr\\u003e    \\\"gaussian_noise\\\": 0.002097308720032317,\\u003cbr\\u003e    \\\"use_linear_embedding\\\": false,\\u003cbr\\u003e    \\\"phase_type\\\": \\\"iterative\\\",\\u003cbr\\u003e    \\\"self_conditioning\\\": false,\\u003cbr\\u003e    \\\"layer_norm\\\": true,\\u003cbr\\u003e    \\\"positional_encoding_type\\\": \\\"fourier\\\",\\u003cbr\\u003e    \\\"num_ffn_layers\\\": 1\\u003cbr\\u003e  }\\u003cbr\\u003e}\",\"{\\u003cbr\\u003e  \\\"number\\\": 60,\\u003cbr\\u003e  \\\"values\\\": [\\u003cbr\\u003e    0.7679466990120394,\\u003cbr\\u003e    200157.0\\u003cbr\\u003e  ],\\u003cbr\\u003e  \\\"params\\\": {\\u003cbr\\u003e    \\\"lr\\\": 0.0009595425445841162,\\u003cbr\\u003e    \\\"dropout_rate\\\": 0.2738732337575882,\\u003cbr\\u003e    \\\"dim_feedforward\\\": 111,\\u003cbr\\u003e    \\\"batch\\\": 128,\\u003cbr\\u003e    \\\"encoder_layers\\\": 2,\\u003cbr\\u003e    \\\"decoder_layers\\\": 2,\\u003cbr\\u003e    \\\"activation_function\\\": \\\"leaky_relu\\\",\\u003cbr\\u003e    \\\"time_warping\\\": false,\\u003cbr\\u003e    \\\"time_masking\\\": false,\\u003cbr\\u003e    \\\"gaussian_noise\\\": 0.00029527247065017873,\\u003cbr\\u003e    \\\"use_linear_embedding\\\": true,\\u003cbr\\u003e    \\\"phase_type\\\": \\\"iterative\\\",\\u003cbr\\u003e    \\\"self_conditioning\\\": false,\\u003cbr\\u003e    \\\"layer_norm\\\": false,\\u003cbr\\u003e    \\\"positional_encoding_type\\\": \\\"fourier\\\",\\u003cbr\\u003e    \\\"num_ffn_layers\\\": 3\\u003cbr\\u003e  }\\u003cbr\\u003e}\",\"{\\u003cbr\\u003e  \\\"number\\\": 61,\\u003cbr\\u003e  \\\"values\\\": [\\u003cbr\\u003e    0.5740870990965492,\\u003cbr\\u003e    76513.0\\u003cbr\\u003e  ],\\u003cbr\\u003e  \\\"params\\\": {\\u003cbr\\u003e    \\\"lr\\\": 0.0016631076921454545,\\u003cbr\\u003e    \\\"dropout_rate\\\": 0.29963967097323696,\\u003cbr\\u003e    \\\"dim_feedforward\\\": 73,\\u003cbr\\u003e    \\\"batch\\\": 16,\\u003cbr\\u003e    \\\"encoder_layers\\\": 1,\\u003cbr\\u003e    \\\"decoder_layers\\\": 1,\\u003cbr\\u003e    \\\"activation_function\\\": \\\"leaky_relu\\\",\\u003cbr\\u003e    \\\"time_warping\\\": true,\\u003cbr\\u003e    \\\"time_masking\\\": false,\\u003cbr\\u003e    \\\"gaussian_noise\\\": 0.05849885372507493,\\u003cbr\\u003e    \\\"use_linear_embedding\\\": false,\\u003cbr\\u003e    \\\"phase_type\\\": \\\"iterative\\\",\\u003cbr\\u003e    \\\"self_conditioning\\\": false,\\u003cbr\\u003e    \\\"layer_norm\\\": true,\\u003cbr\\u003e    \\\"positional_encoding_type\\\": \\\"fourier\\\",\\u003cbr\\u003e    \\\"num_ffn_layers\\\": 3\\u003cbr\\u003e  }\\u003cbr\\u003e}\",\"{\\u003cbr\\u003e  \\\"number\\\": 62,\\u003cbr\\u003e  \\\"values\\\": [\\u003cbr\\u003e    0.7906566011351729,\\u003cbr\\u003e    210097.0\\u003cbr\\u003e  ],\\u003cbr\\u003e  \\\"params\\\": {\\u003cbr\\u003e    \\\"lr\\\": 0.007482095338125608,\\u003cbr\\u003e    \\\"dropout_rate\\\": 0.17838497500731482,\\u003cbr\\u003e    \\\"dim_feedforward\\\": 58,\\u003cbr\\u003e    \\\"batch\\\": 80,\\u003cbr\\u003e    \\\"encoder_layers\\\": 3,\\u003cbr\\u003e    \\\"decoder_layers\\\": 3,\\u003cbr\\u003e    \\\"activation_function\\\": \\\"leaky_relu\\\",\\u003cbr\\u003e    \\\"time_warping\\\": false,\\u003cbr\\u003e    \\\"time_masking\\\": true,\\u003cbr\\u003e    \\\"gaussian_noise\\\": 0.009988809056140135,\\u003cbr\\u003e    \\\"use_linear_embedding\\\": true,\\u003cbr\\u003e    \\\"phase_type\\\": \\\"2phase\\\",\\u003cbr\\u003e    \\\"self_conditioning\\\": false,\\u003cbr\\u003e    \\\"layer_norm\\\": true,\\u003cbr\\u003e    \\\"positional_encoding_type\\\": \\\"sinusoidal\\\",\\u003cbr\\u003e    \\\"num_ffn_layers\\\": 1\\u003cbr\\u003e  }\\u003cbr\\u003e}\",\"{\\u003cbr\\u003e  \\\"number\\\": 64,\\u003cbr\\u003e  \\\"values\\\": [\\u003cbr\\u003e    0.9432484720760621,\\u003cbr\\u003e    213940.0\\u003cbr\\u003e  ],\\u003cbr\\u003e  \\\"params\\\": {\\u003cbr\\u003e    \\\"lr\\\": 0.0016682217526759592,\\u003cbr\\u003e    \\\"dropout_rate\\\": 0.14096581591308013,\\u003cbr\\u003e    \\\"dim_feedforward\\\": 91,\\u003cbr\\u003e    \\\"batch\\\": 32,\\u003cbr\\u003e    \\\"encoder_layers\\\": 3,\\u003cbr\\u003e    \\\"decoder_layers\\\": 1,\\u003cbr\\u003e    \\\"activation_function\\\": \\\"leaky_relu\\\",\\u003cbr\\u003e    \\\"time_warping\\\": true,\\u003cbr\\u003e    \\\"time_masking\\\": false,\\u003cbr\\u003e    \\\"gaussian_noise\\\": 0.01394872388560863,\\u003cbr\\u003e    \\\"use_linear_embedding\\\": true,\\u003cbr\\u003e    \\\"phase_type\\\": \\\"2phase\\\",\\u003cbr\\u003e    \\\"self_conditioning\\\": false,\\u003cbr\\u003e    \\\"layer_norm\\\": true,\\u003cbr\\u003e    \\\"positional_encoding_type\\\": \\\"fourier\\\",\\u003cbr\\u003e    \\\"num_ffn_layers\\\": 3\\u003cbr\\u003e  }\\u003cbr\\u003e}\",\"{\\u003cbr\\u003e  \\\"number\\\": 65,\\u003cbr\\u003e  \\\"values\\\": [\\u003cbr\\u003e    0.9234518080438258,\\u003cbr\\u003e    114535.0\\u003cbr\\u003e  ],\\u003cbr\\u003e  \\\"params\\\": {\\u003cbr\\u003e    \\\"lr\\\": 0.0004820401610306437,\\u003cbr\\u003e    \\\"dropout_rate\\\": 0.3586472100619357,\\u003cbr\\u003e    \\\"dim_feedforward\\\": 42,\\u003cbr\\u003e    \\\"batch\\\": 48,\\u003cbr\\u003e    \\\"encoder_layers\\\": 1,\\u003cbr\\u003e    \\\"decoder_layers\\\": 2,\\u003cbr\\u003e    \\\"activation_function\\\": \\\"tanh\\\",\\u003cbr\\u003e    \\\"time_warping\\\": false,\\u003cbr\\u003e    \\\"time_masking\\\": false,\\u003cbr\\u003e    \\\"gaussian_noise\\\": 0.00010583363495590348,\\u003cbr\\u003e    \\\"use_linear_embedding\\\": false,\\u003cbr\\u003e    \\\"phase_type\\\": \\\"2phase\\\",\\u003cbr\\u003e    \\\"self_conditioning\\\": true,\\u003cbr\\u003e    \\\"layer_norm\\\": false,\\u003cbr\\u003e    \\\"positional_encoding_type\\\": \\\"fourier\\\",\\u003cbr\\u003e    \\\"num_ffn_layers\\\": 1\\u003cbr\\u003e  }\\u003cbr\\u003e}\",\"{\\u003cbr\\u003e  \\\"number\\\": 66,\\u003cbr\\u003e  \\\"values\\\": [\\u003cbr\\u003e    0.5805801839296872,\\u003cbr\\u003e    290925.0\\u003cbr\\u003e  ],\\u003cbr\\u003e  \\\"params\\\": {\\u003cbr\\u003e    \\\"lr\\\": 0.0011061127535263778,\\u003cbr\\u003e    \\\"dropout_rate\\\": 0.26183065309386844,\\u003cbr\\u003e    \\\"dim_feedforward\\\": 125,\\u003cbr\\u003e    \\\"batch\\\": 32,\\u003cbr\\u003e    \\\"encoder_layers\\\": 3,\\u003cbr\\u003e    \\\"decoder_layers\\\": 2,\\u003cbr\\u003e    \\\"activation_function\\\": \\\"sigmoid\\\",\\u003cbr\\u003e    \\\"time_warping\\\": false,\\u003cbr\\u003e    \\\"time_masking\\\": true,\\u003cbr\\u003e    \\\"gaussian_noise\\\": 0.01125419741752415,\\u003cbr\\u003e    \\\"use_linear_embedding\\\": false,\\u003cbr\\u003e    \\\"phase_type\\\": \\\"2phase\\\",\\u003cbr\\u003e    \\\"self_conditioning\\\": true,\\u003cbr\\u003e    \\\"layer_norm\\\": false,\\u003cbr\\u003e    \\\"positional_encoding_type\\\": \\\"fourier\\\",\\u003cbr\\u003e    \\\"num_ffn_layers\\\": 2\\u003cbr\\u003e  }\\u003cbr\\u003e}\",\"{\\u003cbr\\u003e  \\\"number\\\": 67,\\u003cbr\\u003e  \\\"values\\\": [\\u003cbr\\u003e    0.9234518080438258,\\u003cbr\\u003e    192171.0\\u003cbr\\u003e  ],\\u003cbr\\u003e  \\\"params\\\": {\\u003cbr\\u003e    \\\"lr\\\": 0.004754857068358564,\\u003cbr\\u003e    \\\"dropout_rate\\\": 0.48800046889393245,\\u003cbr\\u003e    \\\"dim_feedforward\\\": 47,\\u003cbr\\u003e    \\\"batch\\\": 112,\\u003cbr\\u003e    \\\"encoder_layers\\\": 2,\\u003cbr\\u003e    \\\"decoder_layers\\\": 2,\\u003cbr\\u003e    \\\"activation_function\\\": \\\"sigmoid\\\",\\u003cbr\\u003e    \\\"time_warping\\\": false,\\u003cbr\\u003e    \\\"time_masking\\\": true,\\u003cbr\\u003e    \\\"gaussian_noise\\\": 0.03345732079841554,\\u003cbr\\u003e    \\\"use_linear_embedding\\\": true,\\u003cbr\\u003e    \\\"phase_type\\\": \\\"2phase\\\",\\u003cbr\\u003e    \\\"self_conditioning\\\": true,\\u003cbr\\u003e    \\\"layer_norm\\\": false,\\u003cbr\\u003e    \\\"positional_encoding_type\\\": \\\"sinusoidal\\\",\\u003cbr\\u003e    \\\"num_ffn_layers\\\": 3\\u003cbr\\u003e  }\\u003cbr\\u003e}\",\"{\\u003cbr\\u003e  \\\"number\\\": 71,\\u003cbr\\u003e  \\\"values\\\": [\\u003cbr\\u003e    0.7953506129594079,\\u003cbr\\u003e    110447.0\\u003cbr\\u003e  ],\\u003cbr\\u003e  \\\"params\\\": {\\u003cbr\\u003e    \\\"lr\\\": 0.003377024972811726,\\u003cbr\\u003e    \\\"dropout_rate\\\": 0.20780580511497557,\\u003cbr\\u003e    \\\"dim_feedforward\\\": 93,\\u003cbr\\u003e    \\\"batch\\\": 112,\\u003cbr\\u003e    \\\"encoder_layers\\\": 1,\\u003cbr\\u003e    \\\"decoder_layers\\\": 3,\\u003cbr\\u003e    \\\"activation_function\\\": \\\"leaky_relu\\\",\\u003cbr\\u003e    \\\"time_warping\\\": true,\\u003cbr\\u003e    \\\"time_masking\\\": true,\\u003cbr\\u003e    \\\"gaussian_noise\\\": 0.0029498758256361695,\\u003cbr\\u003e    \\\"use_linear_embedding\\\": false,\\u003cbr\\u003e    \\\"phase_type\\\": \\\"iterative\\\",\\u003cbr\\u003e    \\\"self_conditioning\\\": false,\\u003cbr\\u003e    \\\"layer_norm\\\": false,\\u003cbr\\u003e    \\\"positional_encoding_type\\\": \\\"sinusoidal\\\",\\u003cbr\\u003e    \\\"num_ffn_layers\\\": 1\\u003cbr\\u003e  }\\u003cbr\\u003e}\",\"{\\u003cbr\\u003e  \\\"number\\\": 73,\\u003cbr\\u003e  \\\"values\\\": [\\u003cbr\\u003e    0.9456334352113032,\\u003cbr\\u003e    118975.0\\u003cbr\\u003e  ],\\u003cbr\\u003e  \\\"params\\\": {\\u003cbr\\u003e    \\\"lr\\\": 0.0018764832749000922,\\u003cbr\\u003e    \\\"dropout_rate\\\": 0.39761019593040847,\\u003cbr\\u003e    \\\"dim_feedforward\\\": 30,\\u003cbr\\u003e    \\\"batch\\\": 32,\\u003cbr\\u003e    \\\"encoder_layers\\\": 3,\\u003cbr\\u003e    \\\"decoder_layers\\\": 1,\\u003cbr\\u003e    \\\"activation_function\\\": \\\"sigmoid\\\",\\u003cbr\\u003e    \\\"time_warping\\\": false,\\u003cbr\\u003e    \\\"time_masking\\\": false,\\u003cbr\\u003e    \\\"gaussian_noise\\\": 0.005193243898396004,\\u003cbr\\u003e    \\\"use_linear_embedding\\\": false,\\u003cbr\\u003e    \\\"phase_type\\\": \\\"2phase\\\",\\u003cbr\\u003e    \\\"self_conditioning\\\": true,\\u003cbr\\u003e    \\\"layer_norm\\\": true,\\u003cbr\\u003e    \\\"positional_encoding_type\\\": \\\"fourier\\\",\\u003cbr\\u003e    \\\"num_ffn_layers\\\": 3\\u003cbr\\u003e  }\\u003cbr\\u003e}\",\"{\\u003cbr\\u003e  \\\"number\\\": 75,\\u003cbr\\u003e  \\\"values\\\": [\\u003cbr\\u003e    0.793622829147222,\\u003cbr\\u003e    93579.0\\u003cbr\\u003e  ],\\u003cbr\\u003e  \\\"params\\\": {\\u003cbr\\u003e    \\\"lr\\\": 0.0017732245206704242,\\u003cbr\\u003e    \\\"dropout_rate\\\": 0.3049483887939451,\\u003cbr\\u003e    \\\"dim_feedforward\\\": 51,\\u003cbr\\u003e    \\\"batch\\\": 96,\\u003cbr\\u003e    \\\"encoder_layers\\\": 1,\\u003cbr\\u003e    \\\"decoder_layers\\\": 3,\\u003cbr\\u003e    \\\"activation_function\\\": \\\"leaky_relu\\\",\\u003cbr\\u003e    \\\"time_warping\\\": false,\\u003cbr\\u003e    \\\"time_masking\\\": false,\\u003cbr\\u003e    \\\"gaussian_noise\\\": 0.024554085709457885,\\u003cbr\\u003e    \\\"use_linear_embedding\\\": false,\\u003cbr\\u003e    \\\"phase_type\\\": \\\"iterative\\\",\\u003cbr\\u003e    \\\"self_conditioning\\\": false,\\u003cbr\\u003e    \\\"layer_norm\\\": true,\\u003cbr\\u003e    \\\"positional_encoding_type\\\": \\\"sinusoidal\\\",\\u003cbr\\u003e    \\\"num_ffn_layers\\\": 1\\u003cbr\\u003e  }\\u003cbr\\u003e}\",\"{\\u003cbr\\u003e  \\\"number\\\": 76,\\u003cbr\\u003e  \\\"values\\\": [\\u003cbr\\u003e    0.5470648019570354,\\u003cbr\\u003e    123675.0\\u003cbr\\u003e  ],\\u003cbr\\u003e  \\\"params\\\": {\\u003cbr\\u003e    \\\"lr\\\": 0.0074755668499579845,\\u003cbr\\u003e    \\\"dropout_rate\\\": 0.42197177185433854,\\u003cbr\\u003e    \\\"dim_feedforward\\\": 50,\\u003cbr\\u003e    \\\"batch\\\": 48,\\u003cbr\\u003e    \\\"encoder_layers\\\": 3,\\u003cbr\\u003e    \\\"decoder_layers\\\": 2,\\u003cbr\\u003e    \\\"activation_function\\\": \\\"leaky_relu\\\",\\u003cbr\\u003e    \\\"time_warping\\\": false,\\u003cbr\\u003e    \\\"time_masking\\\": true,\\u003cbr\\u003e    \\\"gaussian_noise\\\": 0.00033159075815100594,\\u003cbr\\u003e    \\\"use_linear_embedding\\\": false,\\u003cbr\\u003e    \\\"phase_type\\\": \\\"iterative\\\",\\u003cbr\\u003e    \\\"self_conditioning\\\": false,\\u003cbr\\u003e    \\\"layer_norm\\\": false,\\u003cbr\\u003e    \\\"positional_encoding_type\\\": \\\"sinusoidal\\\",\\u003cbr\\u003e    \\\"num_ffn_layers\\\": 2\\u003cbr\\u003e  }\\u003cbr\\u003e}\",\"{\\u003cbr\\u003e  \\\"number\\\": 78,\\u003cbr\\u003e  \\\"values\\\": [\\u003cbr\\u003e    0.7298800749281755,\\u003cbr\\u003e    69369.0\\u003cbr\\u003e  ],\\u003cbr\\u003e  \\\"params\\\": {\\u003cbr\\u003e    \\\"lr\\\": 0.00801780882964574,\\u003cbr\\u003e    \\\"dropout_rate\\\": 0.18710689268239458,\\u003cbr\\u003e    \\\"dim_feedforward\\\": 86,\\u003cbr\\u003e    \\\"batch\\\": 64,\\u003cbr\\u003e    \\\"encoder_layers\\\": 1,\\u003cbr\\u003e    \\\"decoder_layers\\\": 1,\\u003cbr\\u003e    \\\"activation_function\\\": \\\"tanh\\\",\\u003cbr\\u003e    \\\"time_warping\\\": false,\\u003cbr\\u003e    \\\"time_masking\\\": true,\\u003cbr\\u003e    \\\"gaussian_noise\\\": 0.0002628887046777304,\\u003cbr\\u003e    \\\"use_linear_embedding\\\": true,\\u003cbr\\u003e    \\\"phase_type\\\": \\\"iterative\\\",\\u003cbr\\u003e    \\\"self_conditioning\\\": true,\\u003cbr\\u003e    \\\"layer_norm\\\": false,\\u003cbr\\u003e    \\\"positional_encoding_type\\\": \\\"sinusoidal\\\",\\u003cbr\\u003e    \\\"num_ffn_layers\\\": 2\\u003cbr\\u003e  }\\u003cbr\\u003e}\",\"{\\u003cbr\\u003e  \\\"number\\\": 80,\\u003cbr\\u003e  \\\"values\\\": [\\u003cbr\\u003e    0.0,\\u003cbr\\u003e    84995.0\\u003cbr\\u003e  ],\\u003cbr\\u003e  \\\"params\\\": {\\u003cbr\\u003e    \\\"lr\\\": 0.001879072812171396,\\u003cbr\\u003e    \\\"dropout_rate\\\": 0.14504883403304214,\\u003cbr\\u003e    \\\"dim_feedforward\\\": 30,\\u003cbr\\u003e    \\\"batch\\\": 32,\\u003cbr\\u003e    \\\"encoder_layers\\\": 1,\\u003cbr\\u003e    \\\"decoder_layers\\\": 3,\\u003cbr\\u003e    \\\"activation_function\\\": \\\"sigmoid\\\",\\u003cbr\\u003e    \\\"time_warping\\\": false,\\u003cbr\\u003e    \\\"time_masking\\\": false,\\u003cbr\\u003e    \\\"gaussian_noise\\\": 0.013089879270761431,\\u003cbr\\u003e    \\\"use_linear_embedding\\\": false,\\u003cbr\\u003e    \\\"phase_type\\\": \\\"iterative\\\",\\u003cbr\\u003e    \\\"self_conditioning\\\": false,\\u003cbr\\u003e    \\\"layer_norm\\\": false,\\u003cbr\\u003e    \\\"positional_encoding_type\\\": \\\"fourier\\\",\\u003cbr\\u003e    \\\"num_ffn_layers\\\": 1\\u003cbr\\u003e  }\\u003cbr\\u003e}\",\"{\\u003cbr\\u003e  \\\"number\\\": 81,\\u003cbr\\u003e  \\\"values\\\": [\\u003cbr\\u003e    0.5403463553469913,\\u003cbr\\u003e    71055.0\\u003cbr\\u003e  ],\\u003cbr\\u003e  \\\"params\\\": {\\u003cbr\\u003e    \\\"lr\\\": 0.0016682217526759592,\\u003cbr\\u003e    \\\"dropout_rate\\\": 0.14504883403304214,\\u003cbr\\u003e    \\\"dim_feedforward\\\": 15,\\u003cbr\\u003e    \\\"batch\\\": 32,\\u003cbr\\u003e    \\\"encoder_layers\\\": 3,\\u003cbr\\u003e    \\\"decoder_layers\\\": 1,\\u003cbr\\u003e    \\\"activation_function\\\": \\\"leaky_relu\\\",\\u003cbr\\u003e    \\\"time_warping\\\": true,\\u003cbr\\u003e    \\\"time_masking\\\": false,\\u003cbr\\u003e    \\\"gaussian_noise\\\": 0.01394872388560863,\\u003cbr\\u003e    \\\"use_linear_embedding\\\": false,\\u003cbr\\u003e    \\\"phase_type\\\": \\\"iterative\\\",\\u003cbr\\u003e    \\\"self_conditioning\\\": false,\\u003cbr\\u003e    \\\"layer_norm\\\": false,\\u003cbr\\u003e    \\\"positional_encoding_type\\\": \\\"fourier\\\",\\u003cbr\\u003e    \\\"num_ffn_layers\\\": 3\\u003cbr\\u003e  }\\u003cbr\\u003e}\",\"{\\u003cbr\\u003e  \\\"number\\\": 82,\\u003cbr\\u003e  \\\"values\\\": [\\u003cbr\\u003e    0.5756967163902276,\\u003cbr\\u003e    98780.0\\u003cbr\\u003e  ],\\u003cbr\\u003e  \\\"params\\\": {\\u003cbr\\u003e    \\\"lr\\\": 0.0017732245206704242,\\u003cbr\\u003e    \\\"dropout_rate\\\": 0.3049483887939451,\\u003cbr\\u003e    \\\"dim_feedforward\\\": 51,\\u003cbr\\u003e    \\\"batch\\\": 32,\\u003cbr\\u003e    \\\"encoder_layers\\\": 3,\\u003cbr\\u003e    \\\"decoder_layers\\\": 2,\\u003cbr\\u003e    \\\"activation_function\\\": \\\"tanh\\\",\\u003cbr\\u003e    \\\"time_warping\\\": true,\\u003cbr\\u003e    \\\"time_masking\\\": false,\\u003cbr\\u003e    \\\"gaussian_noise\\\": 0.0004199473215621927,\\u003cbr\\u003e    \\\"use_linear_embedding\\\": false,\\u003cbr\\u003e    \\\"phase_type\\\": \\\"iterative\\\",\\u003cbr\\u003e    \\\"self_conditioning\\\": false,\\u003cbr\\u003e    \\\"layer_norm\\\": true,\\u003cbr\\u003e    \\\"positional_encoding_type\\\": \\\"sinusoidal\\\",\\u003cbr\\u003e    \\\"num_ffn_layers\\\": 1\\u003cbr\\u003e  }\\u003cbr\\u003e}\",\"{\\u003cbr\\u003e  \\\"number\\\": 84,\\u003cbr\\u003e  \\\"values\\\": [\\u003cbr\\u003e    0.9361652214468794,\\u003cbr\\u003e    72423.0\\u003cbr\\u003e  ],\\u003cbr\\u003e  \\\"params\\\": {\\u003cbr\\u003e    \\\"lr\\\": 0.00022885177677631517,\\u003cbr\\u003e    \\\"dropout_rate\\\": 0.14085192885479747,\\u003cbr\\u003e    \\\"dim_feedforward\\\": 66,\\u003cbr\\u003e    \\\"batch\\\": 16,\\u003cbr\\u003e    \\\"encoder_layers\\\": 1,\\u003cbr\\u003e    \\\"decoder_layers\\\": 2,\\u003cbr\\u003e    \\\"activation_function\\\": \\\"relu\\\",\\u003cbr\\u003e    \\\"time_warping\\\": true,\\u003cbr\\u003e    \\\"time_masking\\\": false,\\u003cbr\\u003e    \\\"gaussian_noise\\\": 0.0004199473215621927,\\u003cbr\\u003e    \\\"use_linear_embedding\\\": false,\\u003cbr\\u003e    \\\"phase_type\\\": \\\"iterative\\\",\\u003cbr\\u003e    \\\"self_conditioning\\\": false,\\u003cbr\\u003e    \\\"layer_norm\\\": false,\\u003cbr\\u003e    \\\"positional_encoding_type\\\": \\\"fourier\\\",\\u003cbr\\u003e    \\\"num_ffn_layers\\\": 1\\u003cbr\\u003e  }\\u003cbr\\u003e}\",\"{\\u003cbr\\u003e  \\\"number\\\": 85,\\u003cbr\\u003e  \\\"values\\\": [\\u003cbr\\u003e    0.9245932864934128,\\u003cbr\\u003e    136580.0\\u003cbr\\u003e  ],\\u003cbr\\u003e  \\\"params\\\": {\\u003cbr\\u003e    \\\"lr\\\": 0.0007919671711948061,\\u003cbr\\u003e    \\\"dropout_rate\\\": 0.30815049176297565,\\u003cbr\\u003e    \\\"dim_feedforward\\\": 121,\\u003cbr\\u003e    \\\"batch\\\": 96,\\u003cbr\\u003e    \\\"encoder_layers\\\": 3,\\u003cbr\\u003e    \\\"decoder_layers\\\": 2,\\u003cbr\\u003e    \\\"activation_function\\\": \\\"tanh\\\",\\u003cbr\\u003e    \\\"time_warping\\\": false,\\u003cbr\\u003e    \\\"time_masking\\\": true,\\u003cbr\\u003e    \\\"gaussian_noise\\\": 0.019279336526418778,\\u003cbr\\u003e    \\\"use_linear_embedding\\\": true,\\u003cbr\\u003e    \\\"phase_type\\\": \\\"iterative\\\",\\u003cbr\\u003e    \\\"self_conditioning\\\": true,\\u003cbr\\u003e    \\\"layer_norm\\\": false,\\u003cbr\\u003e    \\\"positional_encoding_type\\\": \\\"fourier\\\",\\u003cbr\\u003e    \\\"num_ffn_layers\\\": 1\\u003cbr\\u003e  }\\u003cbr\\u003e}\",\"{\\u003cbr\\u003e  \\\"number\\\": 86,\\u003cbr\\u003e  \\\"values\\\": [\\u003cbr\\u003e    0.9291875601361991,\\u003cbr\\u003e    69922.0\\u003cbr\\u003e  ],\\u003cbr\\u003e  \\\"params\\\": {\\u003cbr\\u003e    \\\"lr\\\": 0.004927022114765568,\\u003cbr\\u003e    \\\"dropout_rate\\\": 0.30815049176297565,\\u003cbr\\u003e    \\\"dim_feedforward\\\": 49,\\u003cbr\\u003e    \\\"batch\\\": 96,\\u003cbr\\u003e    \\\"encoder_layers\\\": 1,\\u003cbr\\u003e    \\\"decoder_layers\\\": 2,\\u003cbr\\u003e    \\\"activation_function\\\": \\\"leaky_relu\\\",\\u003cbr\\u003e    \\\"time_warping\\\": true,\\u003cbr\\u003e    \\\"time_masking\\\": false,\\u003cbr\\u003e    \\\"gaussian_noise\\\": 0.0001351656328348401,\\u003cbr\\u003e    \\\"use_linear_embedding\\\": true,\\u003cbr\\u003e    \\\"phase_type\\\": \\\"iterative\\\",\\u003cbr\\u003e    \\\"self_conditioning\\\": false,\\u003cbr\\u003e    \\\"layer_norm\\\": true,\\u003cbr\\u003e    \\\"positional_encoding_type\\\": \\\"fourier\\\",\\u003cbr\\u003e    \\\"num_ffn_layers\\\": 1\\u003cbr\\u003e  }\\u003cbr\\u003e}\",\"{\\u003cbr\\u003e  \\\"number\\\": 87,\\u003cbr\\u003e  \\\"values\\\": [\\u003cbr\\u003e    0.7987138272797472,\\u003cbr\\u003e    61059.0\\u003cbr\\u003e  ],\\u003cbr\\u003e  \\\"params\\\": {\\u003cbr\\u003e    \\\"lr\\\": 0.0016631076921454545,\\u003cbr\\u003e    \\\"dropout_rate\\\": 0.18149302634500797,\\u003cbr\\u003e    \\\"dim_feedforward\\\": 21,\\u003cbr\\u003e    \\\"batch\\\": 16,\\u003cbr\\u003e    \\\"encoder_layers\\\": 3,\\u003cbr\\u003e    \\\"decoder_layers\\\": 1,\\u003cbr\\u003e    \\\"activation_function\\\": \\\"leaky_relu\\\",\\u003cbr\\u003e    \\\"time_warping\\\": true,\\u003cbr\\u003e    \\\"time_masking\\\": true,\\u003cbr\\u003e    \\\"gaussian_noise\\\": 0.012333027151671751,\\u003cbr\\u003e    \\\"use_linear_embedding\\\": false,\\u003cbr\\u003e    \\\"phase_type\\\": \\\"iterative\\\",\\u003cbr\\u003e    \\\"self_conditioning\\\": false,\\u003cbr\\u003e    \\\"layer_norm\\\": true,\\u003cbr\\u003e    \\\"positional_encoding_type\\\": \\\"sinusoidal\\\",\\u003cbr\\u003e    \\\"num_ffn_layers\\\": 1\\u003cbr\\u003e  }\\u003cbr\\u003e}\",\"{\\u003cbr\\u003e  \\\"number\\\": 88,\\u003cbr\\u003e  \\\"values\\\": [\\u003cbr\\u003e    0.7525876399556267,\\u003cbr\\u003e    146983.0\\u003cbr\\u003e  ],\\u003cbr\\u003e  \\\"params\\\": {\\u003cbr\\u003e    \\\"lr\\\": 0.007130212758115732,\\u003cbr\\u003e    \\\"dropout_rate\\\": 0.2988391419998785,\\u003cbr\\u003e    \\\"dim_feedforward\\\": 112,\\u003cbr\\u003e    \\\"batch\\\": 96,\\u003cbr\\u003e    \\\"encoder_layers\\\": 2,\\u003cbr\\u003e    \\\"decoder_layers\\\": 1,\\u003cbr\\u003e    \\\"activation_function\\\": \\\"sigmoid\\\",\\u003cbr\\u003e    \\\"time_warping\\\": true,\\u003cbr\\u003e    \\\"time_masking\\\": false,\\u003cbr\\u003e    \\\"gaussian_noise\\\": 0.0006999914250763683,\\u003cbr\\u003e    \\\"use_linear_embedding\\\": true,\\u003cbr\\u003e    \\\"phase_type\\\": \\\"iterative\\\",\\u003cbr\\u003e    \\\"self_conditioning\\\": false,\\u003cbr\\u003e    \\\"layer_norm\\\": true,\\u003cbr\\u003e    \\\"positional_encoding_type\\\": \\\"fourier\\\",\\u003cbr\\u003e    \\\"num_ffn_layers\\\": 3\\u003cbr\\u003e  }\\u003cbr\\u003e}\",\"{\\u003cbr\\u003e  \\\"number\\\": 89,\\u003cbr\\u003e  \\\"values\\\": [\\u003cbr\\u003e    0.9450360644649024,\\u003cbr\\u003e    120139.0\\u003cbr\\u003e  ],\\u003cbr\\u003e  \\\"params\\\": {\\u003cbr\\u003e    \\\"lr\\\": 0.004754857068358564,\\u003cbr\\u003e    \\\"dropout_rate\\\": 0.48800046889393245,\\u003cbr\\u003e    \\\"dim_feedforward\\\": 47,\\u003cbr\\u003e    \\\"batch\\\": 112,\\u003cbr\\u003e    \\\"encoder_layers\\\": 2,\\u003cbr\\u003e    \\\"decoder_layers\\\": 1,\\u003cbr\\u003e    \\\"activation_function\\\": \\\"tanh\\\",\\u003cbr\\u003e    \\\"time_warping\\\": true,\\u003cbr\\u003e    \\\"time_masking\\\": true,\\u003cbr\\u003e    \\\"gaussian_noise\\\": 0.05849885372507493,\\u003cbr\\u003e    \\\"use_linear_embedding\\\": false,\\u003cbr\\u003e    \\\"phase_type\\\": \\\"2phase\\\",\\u003cbr\\u003e    \\\"self_conditioning\\\": true,\\u003cbr\\u003e    \\\"layer_norm\\\": true,\\u003cbr\\u003e    \\\"positional_encoding_type\\\": \\\"sinusoidal\\\",\\u003cbr\\u003e    \\\"num_ffn_layers\\\": 3\\u003cbr\\u003e  }\\u003cbr\\u003e}\",\"{\\u003cbr\\u003e  \\\"number\\\": 90,\\u003cbr\\u003e  \\\"values\\\": [\\u003cbr\\u003e    0.9268847302604346,\\u003cbr\\u003e    98275.0\\u003cbr\\u003e  ],\\u003cbr\\u003e  \\\"params\\\": {\\u003cbr\\u003e    \\\"lr\\\": 0.001879072812171396,\\u003cbr\\u003e    \\\"dropout_rate\\\": 0.3494364708103783,\\u003cbr\\u003e    \\\"dim_feedforward\\\": 30,\\u003cbr\\u003e    \\\"batch\\\": 80,\\u003cbr\\u003e    \\\"encoder_layers\\\": 2,\\u003cbr\\u003e    \\\"decoder_layers\\\": 3,\\u003cbr\\u003e    \\\"activation_function\\\": \\\"sigmoid\\\",\\u003cbr\\u003e    \\\"time_warping\\\": true,\\u003cbr\\u003e    \\\"time_masking\\\": false,\\u003cbr\\u003e    \\\"gaussian_noise\\\": 0.013089879270761431,\\u003cbr\\u003e    \\\"use_linear_embedding\\\": false,\\u003cbr\\u003e    \\\"phase_type\\\": \\\"iterative\\\",\\u003cbr\\u003e    \\\"self_conditioning\\\": false,\\u003cbr\\u003e    \\\"layer_norm\\\": false,\\u003cbr\\u003e    \\\"positional_encoding_type\\\": \\\"fourier\\\",\\u003cbr\\u003e    \\\"num_ffn_layers\\\": 1\\u003cbr\\u003e  }\\u003cbr\\u003e}\",\"{\\u003cbr\\u003e  \\\"number\\\": 91,\\u003cbr\\u003e  \\\"values\\\": [\\u003cbr\\u003e    0.9274593669727764,\\u003cbr\\u003e    137060.0\\u003cbr\\u003e  ],\\u003cbr\\u003e  \\\"params\\\": {\\u003cbr\\u003e    \\\"lr\\\": 0.0017522110550577334,\\u003cbr\\u003e    \\\"dropout_rate\\\": 0.40455434936703705,\\u003cbr\\u003e    \\\"dim_feedforward\\\": 127,\\u003cbr\\u003e    \\\"batch\\\": 64,\\u003cbr\\u003e    \\\"encoder_layers\\\": 3,\\u003cbr\\u003e    \\\"decoder_layers\\\": 1,\\u003cbr\\u003e    \\\"activation_function\\\": \\\"leaky_relu\\\",\\u003cbr\\u003e    \\\"time_warping\\\": false,\\u003cbr\\u003e    \\\"time_masking\\\": false,\\u003cbr\\u003e    \\\"gaussian_noise\\\": 0.00020067502936184999,\\u003cbr\\u003e    \\\"use_linear_embedding\\\": false,\\u003cbr\\u003e    \\\"phase_type\\\": \\\"2phase\\\",\\u003cbr\\u003e    \\\"self_conditioning\\\": false,\\u003cbr\\u003e    \\\"layer_norm\\\": false,\\u003cbr\\u003e    \\\"positional_encoding_type\\\": \\\"fourier\\\",\\u003cbr\\u003e    \\\"num_ffn_layers\\\": 1\\u003cbr\\u003e  }\\u003cbr\\u003e}\",\"{\\u003cbr\\u003e  \\\"number\\\": 92,\\u003cbr\\u003e  \\\"values\\\": [\\u003cbr\\u003e    0.5564545053137837,\\u003cbr\\u003e    122589.0\\u003cbr\\u003e  ],\\u003cbr\\u003e  \\\"params\\\": {\\u003cbr\\u003e    \\\"lr\\\": 0.004754857068358564,\\u003cbr\\u003e    \\\"dropout_rate\\\": 0.48800046889393245,\\u003cbr\\u003e    \\\"dim_feedforward\\\": 47,\\u003cbr\\u003e    \\\"batch\\\": 112,\\u003cbr\\u003e    \\\"encoder_layers\\\": 2,\\u003cbr\\u003e    \\\"decoder_layers\\\": 2,\\u003cbr\\u003e    \\\"activation_function\\\": \\\"sigmoid\\\",\\u003cbr\\u003e    \\\"time_warping\\\": false,\\u003cbr\\u003e    \\\"time_masking\\\": true,\\u003cbr\\u003e    \\\"gaussian_noise\\\": 0.03345732079841554,\\u003cbr\\u003e    \\\"use_linear_embedding\\\": true,\\u003cbr\\u003e    \\\"phase_type\\\": \\\"iterative\\\",\\u003cbr\\u003e    \\\"self_conditioning\\\": true,\\u003cbr\\u003e    \\\"layer_norm\\\": false,\\u003cbr\\u003e    \\\"positional_encoding_type\\\": \\\"sinusoidal\\\",\\u003cbr\\u003e    \\\"num_ffn_layers\\\": 3\\u003cbr\\u003e  }\\u003cbr\\u003e}\",\"{\\u003cbr\\u003e  \\\"number\\\": 93,\\u003cbr\\u003e  \\\"values\\\": [\\u003cbr\\u003e    0.5159082090944049,\\u003cbr\\u003e    108975.0\\u003cbr\\u003e  ],\\u003cbr\\u003e  \\\"params\\\": {\\u003cbr\\u003e    \\\"lr\\\": 0.0038433506374495868,\\u003cbr\\u003e    \\\"dropout_rate\\\": 0.24121966200349243,\\u003cbr\\u003e    \\\"dim_feedforward\\\": 10,\\u003cbr\\u003e    \\\"batch\\\": 80,\\u003cbr\\u003e    \\\"encoder_layers\\\": 1,\\u003cbr\\u003e    \\\"decoder_layers\\\": 2,\\u003cbr\\u003e    \\\"activation_function\\\": \\\"tanh\\\",\\u003cbr\\u003e    \\\"time_warping\\\": false,\\u003cbr\\u003e    \\\"time_masking\\\": true,\\u003cbr\\u003e    \\\"gaussian_noise\\\": 0.0003131267848098833,\\u003cbr\\u003e    \\\"use_linear_embedding\\\": false,\\u003cbr\\u003e    \\\"phase_type\\\": \\\"2phase\\\",\\u003cbr\\u003e    \\\"self_conditioning\\\": false,\\u003cbr\\u003e    \\\"layer_norm\\\": false,\\u003cbr\\u003e    \\\"positional_encoding_type\\\": \\\"sinusoidal\\\",\\u003cbr\\u003e    \\\"num_ffn_layers\\\": 3\\u003cbr\\u003e  }\\u003cbr\\u003e}\",\"{\\u003cbr\\u003e  \\\"number\\\": 95,\\u003cbr\\u003e  \\\"values\\\": [\\u003cbr\\u003e    0.7644796423454926,\\u003cbr\\u003e    119680.0\\u003cbr\\u003e  ],\\u003cbr\\u003e  \\\"params\\\": {\\u003cbr\\u003e    \\\"lr\\\": 0.0019660695736915994,\\u003cbr\\u003e    \\\"dropout_rate\\\": 0.1434620829372272,\\u003cbr\\u003e    \\\"dim_feedforward\\\": 17,\\u003cbr\\u003e    \\\"batch\\\": 48,\\u003cbr\\u003e    \\\"encoder_layers\\\": 1,\\u003cbr\\u003e    \\\"decoder_layers\\\": 2,\\u003cbr\\u003e    \\\"activation_function\\\": \\\"leaky_relu\\\",\\u003cbr\\u003e    \\\"time_warping\\\": false,\\u003cbr\\u003e    \\\"time_masking\\\": true,\\u003cbr\\u003e    \\\"gaussian_noise\\\": 0.002689662284452023,\\u003cbr\\u003e    \\\"use_linear_embedding\\\": false,\\u003cbr\\u003e    \\\"phase_type\\\": \\\"2phase\\\",\\u003cbr\\u003e    \\\"self_conditioning\\\": false,\\u003cbr\\u003e    \\\"layer_norm\\\": true,\\u003cbr\\u003e    \\\"positional_encoding_type\\\": \\\"sinusoidal\\\",\\u003cbr\\u003e    \\\"num_ffn_layers\\\": 3\\u003cbr\\u003e  }\\u003cbr\\u003e}\",\"{\\u003cbr\\u003e  \\\"number\\\": 97,\\u003cbr\\u003e  \\\"values\\\": [\\u003cbr\\u003e    0.5427267738228322,\\u003cbr\\u003e    121755.0\\u003cbr\\u003e  ],\\u003cbr\\u003e  \\\"params\\\": {\\u003cbr\\u003e    \\\"lr\\\": 0.006117237721929171,\\u003cbr\\u003e    \\\"dropout_rate\\\": 0.1434620829372272,\\u003cbr\\u003e    \\\"dim_feedforward\\\": 30,\\u003cbr\\u003e    \\\"batch\\\": 112,\\u003cbr\\u003e    \\\"encoder_layers\\\": 2,\\u003cbr\\u003e    \\\"decoder_layers\\\": 2,\\u003cbr\\u003e    \\\"activation_function\\\": \\\"leaky_relu\\\",\\u003cbr\\u003e    \\\"time_warping\\\": false,\\u003cbr\\u003e    \\\"time_masking\\\": false,\\u003cbr\\u003e    \\\"gaussian_noise\\\": 0.001416650808099888,\\u003cbr\\u003e    \\\"use_linear_embedding\\\": false,\\u003cbr\\u003e    \\\"phase_type\\\": \\\"2phase\\\",\\u003cbr\\u003e    \\\"self_conditioning\\\": true,\\u003cbr\\u003e    \\\"layer_norm\\\": false,\\u003cbr\\u003e    \\\"positional_encoding_type\\\": \\\"fourier\\\",\\u003cbr\\u003e    \\\"num_ffn_layers\\\": 1\\u003cbr\\u003e  }\\u003cbr\\u003e}\",\"{\\u003cbr\\u003e  \\\"number\\\": 99,\\u003cbr\\u003e  \\\"values\\\": [\\u003cbr\\u003e    0.7503643201607041,\\u003cbr\\u003e    93175.0\\u003cbr\\u003e  ],\\u003cbr\\u003e  \\\"params\\\": {\\u003cbr\\u003e    \\\"lr\\\": 0.0022470154513184503,\\u003cbr\\u003e    \\\"dropout_rate\\\": 0.12293663840303247,\\u003cbr\\u003e    \\\"dim_feedforward\\\": 50,\\u003cbr\\u003e    \\\"batch\\\": 96,\\u003cbr\\u003e    \\\"encoder_layers\\\": 1,\\u003cbr\\u003e    \\\"decoder_layers\\\": 3,\\u003cbr\\u003e    \\\"activation_function\\\": \\\"leaky_relu\\\",\\u003cbr\\u003e    \\\"time_warping\\\": true,\\u003cbr\\u003e    \\\"time_masking\\\": true,\\u003cbr\\u003e    \\\"gaussian_noise\\\": 0.0001351656328348401,\\u003cbr\\u003e    \\\"use_linear_embedding\\\": false,\\u003cbr\\u003e    \\\"phase_type\\\": \\\"iterative\\\",\\u003cbr\\u003e    \\\"self_conditioning\\\": false,\\u003cbr\\u003e    \\\"layer_norm\\\": true,\\u003cbr\\u003e    \\\"positional_encoding_type\\\": \\\"sinusoidal\\\",\\u003cbr\\u003e    \\\"num_ffn_layers\\\": 1\\u003cbr\\u003e  }\\u003cbr\\u003e}\"],\"x\":[0.9280347166371923,0.947430087338298,0.9338277193723609,0.7696579233532346,0.7658929730894208,0.9385144550798125,0.7465049574349238,0.5456111077289126,0.5120484884646987,0.5172077457927527,0.5347176588206002,0.5150454732476101,0.9183498409887686,0.5735525583158367,0.5427267738228322,0.8070642592176991,0.5150454732476101,0.535182234049675,0.9516489436256526,0.802925437248291,0.798828848469786,0.5273926455881524,0.9315018611978791,0.9228821250963636,0.9234518080438258,0.9315018611978791,0.9268847302604346,0.7650553094923715,0.4854167441944413,0.7789573401663761,0.9444394479780467,0.7994115142507565,0.7503643201607041,0.745956858328411,0.7789573401663761,0.7616142527555747,0.7691093834785223,0.7679466990120394,0.5740870990965492,0.7906566011351729,0.9432484720760621,0.9234518080438258,0.5805801839296872,0.9234518080438258,0.7953506129594079,0.9456334352113032,0.793622829147222,0.5470648019570354,0.7298800749281755,0.0,0.5403463553469913,0.5756967163902276,0.9361652214468794,0.9245932864934128,0.9291875601361991,0.7987138272797472,0.7525876399556267,0.9450360644649024,0.9268847302604346,0.9274593669727764,0.5564545053137837,0.5159082090944049,0.7644796423454926,0.5427267738228322,0.7503643201607041],\"y\":[100825.0,203357.0,117390.0,123675.0,72423.0,83630.0,84995.0,88575.0,69369.0,99965.0,256987.0,100395.0,90120.0,94819.0,68889.0,170710.0,45913.0,93556.0,139375.0,80503.0,221515.0,95903.0,125950.0,109761.0,103909.0,69139.0,270241.0,268150.0,228507.0,164781.0,100851.0,163137.0,433731.0,201369.0,104865.0,105270.0,113779.0,200157.0,76513.0,210097.0,213940.0,114535.0,290925.0,192171.0,110447.0,118975.0,93579.0,123675.0,69369.0,84995.0,71055.0,98780.0,72423.0,136580.0,69922.0,61059.0,146983.0,120139.0,98275.0,137060.0,122589.0,108975.0,119680.0,121755.0,93175.0],\"type\":\"scatter\"},{\"hovertemplate\":\"%{text}\\u003cextra\\u003eBest Trial\\u003c\\u002fextra\\u003e\",\"marker\":{\"color\":[0,8,10,14,33,74,79,94,98],\"colorbar\":{\"title\":{\"text\":\"Best Trial\"},\"x\":1.1,\"xpad\":40},\"colorscale\":[[0.0,\"rgb(255,245,240)\"],[0.125,\"rgb(254,224,210)\"],[0.25,\"rgb(252,187,161)\"],[0.375,\"rgb(252,146,114)\"],[0.5,\"rgb(251,106,74)\"],[0.625,\"rgb(239,59,44)\"],[0.75,\"rgb(203,24,29)\"],[0.875,\"rgb(165,15,21)\"],[1.0,\"rgb(103,0,13)\"]],\"line\":{\"color\":\"Grey\",\"width\":4},\"size\":10},\"mode\":\"markers\",\"showlegend\":false,\"text\":[\"{\\u003cbr\\u003e  \\\"number\\\": 0,\\u003cbr\\u003e  \\\"values\\\": [\\u003cbr\\u003e    0.952254706491707,\\u003cbr\\u003e    107715.0\\u003cbr\\u003e  ],\\u003cbr\\u003e  \\\"params\\\": {\\u003cbr\\u003e    \\\"lr\\\": 0.006417316863162286,\\u003cbr\\u003e    \\\"dropout_rate\\\": 0.42197177185433854,\\u003cbr\\u003e    \\\"dim_feedforward\\\": 24,\\u003cbr\\u003e    \\\"batch\\\": 80,\\u003cbr\\u003e    \\\"encoder_layers\\\": 2,\\u003cbr\\u003e    \\\"decoder_layers\\\": 3,\\u003cbr\\u003e    \\\"activation_function\\\": \\\"leaky_relu\\\",\\u003cbr\\u003e    \\\"time_warping\\\": false,\\u003cbr\\u003e    \\\"time_masking\\\": true,\\u003cbr\\u003e    \\\"gaussian_noise\\\": 0.00045995291081813165,\\u003cbr\\u003e    \\\"use_linear_embedding\\\": false,\\u003cbr\\u003e    \\\"phase_type\\\": \\\"iterative\\\",\\u003cbr\\u003e    \\\"self_conditioning\\\": true,\\u003cbr\\u003e    \\\"layer_norm\\\": true,\\u003cbr\\u003e    \\\"positional_encoding_type\\\": \\\"fourier\\\",\\u003cbr\\u003e    \\\"num_ffn_layers\\\": 2\\u003cbr\\u003e  }\\u003cbr\\u003e}\",\"{\\u003cbr\\u003e  \\\"number\\\": 8,\\u003cbr\\u003e  \\\"values\\\": [\\u003cbr\\u003e    0.934995009464012,\\u003cbr\\u003e    60177.0\\u003cbr\\u003e  ],\\u003cbr\\u003e  \\\"params\\\": {\\u003cbr\\u003e    \\\"lr\\\": 0.003632166784770201,\\u003cbr\\u003e    \\\"dropout_rate\\\": 0.45011258071605265,\\u003cbr\\u003e    \\\"dim_feedforward\\\": 63,\\u003cbr\\u003e    \\\"batch\\\": 48,\\u003cbr\\u003e    \\\"encoder_layers\\\": 1,\\u003cbr\\u003e    \\\"decoder_layers\\\": 1,\\u003cbr\\u003e    \\\"activation_function\\\": \\\"leaky_relu\\\",\\u003cbr\\u003e    \\\"time_warping\\\": true,\\u003cbr\\u003e    \\\"time_masking\\\": true,\\u003cbr\\u003e    \\\"gaussian_noise\\\": 0.0021258291677011465,\\u003cbr\\u003e    \\\"use_linear_embedding\\\": true,\\u003cbr\\u003e    \\\"phase_type\\\": \\\"iterative\\\",\\u003cbr\\u003e    \\\"self_conditioning\\\": false,\\u003cbr\\u003e    \\\"layer_norm\\\": true,\\u003cbr\\u003e    \\\"positional_encoding_type\\\": \\\"sinusoidal\\\",\\u003cbr\\u003e    \\\"num_ffn_layers\\\": 2\\u003cbr\\u003e  }\\u003cbr\\u003e}\",\"{\\u003cbr\\u003e  \\\"number\\\": 10,\\u003cbr\\u003e  \\\"values\\\": [\\u003cbr\\u003e    0.526491105716474,\\u003cbr\\u003e    44749.0\\u003cbr\\u003e  ],\\u003cbr\\u003e  \\\"params\\\": {\\u003cbr\\u003e    \\\"lr\\\": 0.00801780882964574,\\u003cbr\\u003e    \\\"dropout_rate\\\": 0.18710689268239458,\\u003cbr\\u003e    \\\"dim_feedforward\\\": 8,\\u003cbr\\u003e    \\\"batch\\\": 64,\\u003cbr\\u003e    \\\"encoder_layers\\\": 2,\\u003cbr\\u003e    \\\"decoder_layers\\\": 1,\\u003cbr\\u003e    \\\"activation_function\\\": \\\"tanh\\\",\\u003cbr\\u003e    \\\"time_warping\\\": true,\\u003cbr\\u003e    \\\"time_masking\\\": true,\\u003cbr\\u003e    \\\"gaussian_noise\\\": 0.0002628887046777304,\\u003cbr\\u003e    \\\"use_linear_embedding\\\": false,\\u003cbr\\u003e    \\\"phase_type\\\": \\\"iterative\\\",\\u003cbr\\u003e    \\\"self_conditioning\\\": true,\\u003cbr\\u003e    \\\"layer_norm\\\": true,\\u003cbr\\u003e    \\\"positional_encoding_type\\\": \\\"sinusoidal\\\",\\u003cbr\\u003e    \\\"num_ffn_layers\\\": 1\\u003cbr\\u003e  }\\u003cbr\\u003e}\",\"{\\u003cbr\\u003e  \\\"number\\\": 14,\\u003cbr\\u003e  \\\"values\\\": [\\u003cbr\\u003e    0.0,\\u003cbr\\u003e    35005.0\\u003cbr\\u003e  ],\\u003cbr\\u003e  \\\"params\\\": {\\u003cbr\\u003e    \\\"lr\\\": 0.008044460300715693,\\u003cbr\\u003e    \\\"dropout_rate\\\": 0.14504883403304214,\\u003cbr\\u003e    \\\"dim_feedforward\\\": 15,\\u003cbr\\u003e    \\\"batch\\\": 128,\\u003cbr\\u003e    \\\"encoder_layers\\\": 1,\\u003cbr\\u003e    \\\"decoder_layers\\\": 1,\\u003cbr\\u003e    \\\"activation_function\\\": \\\"sigmoid\\\",\\u003cbr\\u003e    \\\"time_warping\\\": true,\\u003cbr\\u003e    \\\"time_masking\\\": false,\\u003cbr\\u003e    \\\"gaussian_noise\\\": 0.0006297825102836805,\\u003cbr\\u003e    \\\"use_linear_embedding\\\": false,\\u003cbr\\u003e    \\\"phase_type\\\": \\\"iterative\\\",\\u003cbr\\u003e    \\\"self_conditioning\\\": false,\\u003cbr\\u003e    \\\"layer_norm\\\": false,\\u003cbr\\u003e    \\\"positional_encoding_type\\\": \\\"fourier\\\",\\u003cbr\\u003e    \\\"num_ffn_layers\\\": 1\\u003cbr\\u003e  }\\u003cbr\\u003e}\",\"{\\u003cbr\\u003e  \\\"number\\\": 33,\\u003cbr\\u003e  \\\"values\\\": [\\u003cbr\\u003e    0.9432484720760621,\\u003cbr\\u003e    73179.0\\u003cbr\\u003e  ],\\u003cbr\\u003e  \\\"params\\\": {\\u003cbr\\u003e    \\\"lr\\\": 0.0017732245206704242,\\u003cbr\\u003e    \\\"dropout_rate\\\": 0.3049483887939451,\\u003cbr\\u003e    \\\"dim_feedforward\\\": 51,\\u003cbr\\u003e    \\\"batch\\\": 32,\\u003cbr\\u003e    \\\"encoder_layers\\\": 3,\\u003cbr\\u003e    \\\"decoder_layers\\\": 1,\\u003cbr\\u003e    \\\"activation_function\\\": \\\"tanh\\\",\\u003cbr\\u003e    \\\"time_warping\\\": true,\\u003cbr\\u003e    \\\"time_masking\\\": false,\\u003cbr\\u003e    \\\"gaussian_noise\\\": 0.024554085709457885,\\u003cbr\\u003e    \\\"use_linear_embedding\\\": false,\\u003cbr\\u003e    \\\"phase_type\\\": \\\"iterative\\\",\\u003cbr\\u003e    \\\"self_conditioning\\\": false,\\u003cbr\\u003e    \\\"layer_norm\\\": true,\\u003cbr\\u003e    \\\"positional_encoding_type\\\": \\\"sinusoidal\\\",\\u003cbr\\u003e    \\\"num_ffn_layers\\\": 1\\u003cbr\\u003e  }\\u003cbr\\u003e}\",\"{\\u003cbr\\u003e  \\\"number\\\": 74,\\u003cbr\\u003e  \\\"values\\\": [\\u003cbr\\u003e    0.9480304894715638,\\u003cbr\\u003e    80503.0\\u003cbr\\u003e  ],\\u003cbr\\u003e  \\\"params\\\": {\\u003cbr\\u003e    \\\"lr\\\": 0.0006292629352335902,\\u003cbr\\u003e    \\\"dropout_rate\\\": 0.2821235154259625,\\u003cbr\\u003e    \\\"dim_feedforward\\\": 126,\\u003cbr\\u003e    \\\"batch\\\": 32,\\u003cbr\\u003e    \\\"encoder_layers\\\": 2,\\u003cbr\\u003e    \\\"decoder_layers\\\": 1,\\u003cbr\\u003e    \\\"activation_function\\\": \\\"leaky_relu\\\",\\u003cbr\\u003e    \\\"time_warping\\\": true,\\u003cbr\\u003e    \\\"time_masking\\\": true,\\u003cbr\\u003e    \\\"gaussian_noise\\\": 0.002097308720032317,\\u003cbr\\u003e    \\\"use_linear_embedding\\\": false,\\u003cbr\\u003e    \\\"phase_type\\\": \\\"iterative\\\",\\u003cbr\\u003e    \\\"self_conditioning\\\": false,\\u003cbr\\u003e    \\\"layer_norm\\\": true,\\u003cbr\\u003e    \\\"positional_encoding_type\\\": \\\"fourier\\\",\\u003cbr\\u003e    \\\"num_ffn_layers\\\": 1\\u003cbr\\u003e  }\\u003cbr\\u003e}\",\"{\\u003cbr\\u003e  \\\"number\\\": 79,\\u003cbr\\u003e  \\\"values\\\": [\\u003cbr\\u003e    0.9583550220412367,\\u003cbr\\u003e    213940.0\\u003cbr\\u003e  ],\\u003cbr\\u003e  \\\"params\\\": {\\u003cbr\\u003e    \\\"lr\\\": 0.0016682217526759592,\\u003cbr\\u003e    \\\"dropout_rate\\\": 0.14096581591308013,\\u003cbr\\u003e    \\\"dim_feedforward\\\": 91,\\u003cbr\\u003e    \\\"batch\\\": 32,\\u003cbr\\u003e    \\\"encoder_layers\\\": 3,\\u003cbr\\u003e    \\\"decoder_layers\\\": 1,\\u003cbr\\u003e    \\\"activation_function\\\": \\\"leaky_relu\\\",\\u003cbr\\u003e    \\\"time_warping\\\": true,\\u003cbr\\u003e    \\\"time_masking\\\": false,\\u003cbr\\u003e    \\\"gaussian_noise\\\": 0.01394872388560863,\\u003cbr\\u003e    \\\"use_linear_embedding\\\": true,\\u003cbr\\u003e    \\\"phase_type\\\": \\\"2phase\\\",\\u003cbr\\u003e    \\\"self_conditioning\\\": false,\\u003cbr\\u003e    \\\"layer_norm\\\": true,\\u003cbr\\u003e    \\\"positional_encoding_type\\\": \\\"fourier\\\",\\u003cbr\\u003e    \\\"num_ffn_layers\\\": 3\\u003cbr\\u003e  }\\u003cbr\\u003e}\",\"{\\u003cbr\\u003e  \\\"number\\\": 94,\\u003cbr\\u003e  \\\"values\\\": [\\u003cbr\\u003e    0.802925437248291,\\u003cbr\\u003e    54623.0\\u003cbr\\u003e  ],\\u003cbr\\u003e  \\\"params\\\": {\\u003cbr\\u003e    \\\"lr\\\": 0.007130212758115732,\\u003cbr\\u003e    \\\"dropout_rate\\\": 0.39761019593040847,\\u003cbr\\u003e    \\\"dim_feedforward\\\": 99,\\u003cbr\\u003e    \\\"batch\\\": 96,\\u003cbr\\u003e    \\\"encoder_layers\\\": 1,\\u003cbr\\u003e    \\\"decoder_layers\\\": 1,\\u003cbr\\u003e    \\\"activation_function\\\": \\\"sigmoid\\\",\\u003cbr\\u003e    \\\"time_warping\\\": true,\\u003cbr\\u003e    \\\"time_masking\\\": false,\\u003cbr\\u003e    \\\"gaussian_noise\\\": 0.0029152611672436236,\\u003cbr\\u003e    \\\"use_linear_embedding\\\": true,\\u003cbr\\u003e    \\\"phase_type\\\": \\\"iterative\\\",\\u003cbr\\u003e    \\\"self_conditioning\\\": false,\\u003cbr\\u003e    \\\"layer_norm\\\": true,\\u003cbr\\u003e    \\\"positional_encoding_type\\\": \\\"fourier\\\",\\u003cbr\\u003e    \\\"num_ffn_layers\\\": 1\\u003cbr\\u003e  }\\u003cbr\\u003e}\",\"{\\u003cbr\\u003e  \\\"number\\\": 98,\\u003cbr\\u003e  \\\"values\\\": [\\u003cbr\\u003e    0.9408755088116387,\\u003cbr\\u003e    70453.0\\u003cbr\\u003e  ],\\u003cbr\\u003e  \\\"params\\\": {\\u003cbr\\u003e    \\\"lr\\\": 0.003632166784770201,\\u003cbr\\u003e    \\\"dropout_rate\\\": 0.45011258071605265,\\u003cbr\\u003e    \\\"dim_feedforward\\\": 63,\\u003cbr\\u003e    \\\"batch\\\": 48,\\u003cbr\\u003e    \\\"encoder_layers\\\": 1,\\u003cbr\\u003e    \\\"decoder_layers\\\": 1,\\u003cbr\\u003e    \\\"activation_function\\\": \\\"leaky_relu\\\",\\u003cbr\\u003e    \\\"time_warping\\\": true,\\u003cbr\\u003e    \\\"time_masking\\\": false,\\u003cbr\\u003e    \\\"gaussian_noise\\\": 0.05849885372507493,\\u003cbr\\u003e    \\\"use_linear_embedding\\\": false,\\u003cbr\\u003e    \\\"phase_type\\\": \\\"iterative\\\",\\u003cbr\\u003e    \\\"self_conditioning\\\": false,\\u003cbr\\u003e    \\\"layer_norm\\\": true,\\u003cbr\\u003e    \\\"positional_encoding_type\\\": \\\"fourier\\\",\\u003cbr\\u003e    \\\"num_ffn_layers\\\": 3\\u003cbr\\u003e  }\\u003cbr\\u003e}\"],\"x\":[0.952254706491707,0.934995009464012,0.526491105716474,0.0,0.9432484720760621,0.9480304894715638,0.9583550220412367,0.802925437248291,0.9408755088116387],\"y\":[107715.0,60177.0,44749.0,35005.0,73179.0,80503.0,213940.0,54623.0,70453.0],\"type\":\"scatter\"}],                        {\"title\":{\"text\":\"Pareto Front \",\"font\":{\"size\":20}},\"xaxis\":{\"title\":{\"text\":\"F1 Score\"},\"showgrid\":true,\"gridwidth\":1,\"gridcolor\":\"lightblue\"},\"yaxis\":{\"title\":{\"text\":\"Number of Parameters\"},\"showgrid\":true,\"gridwidth\":1,\"gridcolor\":\"lightblue\"},\"template\":{\"data\":{\"histogram2dcontour\":[{\"type\":\"histogram2dcontour\",\"colorbar\":{\"outlinewidth\":0,\"ticks\":\"\"},\"colorscale\":[[0.0,\"#0d0887\"],[0.1111111111111111,\"#46039f\"],[0.2222222222222222,\"#7201a8\"],[0.3333333333333333,\"#9c179e\"],[0.4444444444444444,\"#bd3786\"],[0.5555555555555556,\"#d8576b\"],[0.6666666666666666,\"#ed7953\"],[0.7777777777777778,\"#fb9f3a\"],[0.8888888888888888,\"#fdca26\"],[1.0,\"#f0f921\"]]}],\"choropleth\":[{\"type\":\"choropleth\",\"colorbar\":{\"outlinewidth\":0,\"ticks\":\"\"}}],\"histogram2d\":[{\"type\":\"histogram2d\",\"colorbar\":{\"outlinewidth\":0,\"ticks\":\"\"},\"colorscale\":[[0.0,\"#0d0887\"],[0.1111111111111111,\"#46039f\"],[0.2222222222222222,\"#7201a8\"],[0.3333333333333333,\"#9c179e\"],[0.4444444444444444,\"#bd3786\"],[0.5555555555555556,\"#d8576b\"],[0.6666666666666666,\"#ed7953\"],[0.7777777777777778,\"#fb9f3a\"],[0.8888888888888888,\"#fdca26\"],[1.0,\"#f0f921\"]]}],\"heatmap\":[{\"type\":\"heatmap\",\"colorbar\":{\"outlinewidth\":0,\"ticks\":\"\"},\"colorscale\":[[0.0,\"#0d0887\"],[0.1111111111111111,\"#46039f\"],[0.2222222222222222,\"#7201a8\"],[0.3333333333333333,\"#9c179e\"],[0.4444444444444444,\"#bd3786\"],[0.5555555555555556,\"#d8576b\"],[0.6666666666666666,\"#ed7953\"],[0.7777777777777778,\"#fb9f3a\"],[0.8888888888888888,\"#fdca26\"],[1.0,\"#f0f921\"]]}],\"heatmapgl\":[{\"type\":\"heatmapgl\",\"colorbar\":{\"outlinewidth\":0,\"ticks\":\"\"},\"colorscale\":[[0.0,\"#0d0887\"],[0.1111111111111111,\"#46039f\"],[0.2222222222222222,\"#7201a8\"],[0.3333333333333333,\"#9c179e\"],[0.4444444444444444,\"#bd3786\"],[0.5555555555555556,\"#d8576b\"],[0.6666666666666666,\"#ed7953\"],[0.7777777777777778,\"#fb9f3a\"],[0.8888888888888888,\"#fdca26\"],[1.0,\"#f0f921\"]]}],\"contourcarpet\":[{\"type\":\"contourcarpet\",\"colorbar\":{\"outlinewidth\":0,\"ticks\":\"\"}}],\"contour\":[{\"type\":\"contour\",\"colorbar\":{\"outlinewidth\":0,\"ticks\":\"\"},\"colorscale\":[[0.0,\"#0d0887\"],[0.1111111111111111,\"#46039f\"],[0.2222222222222222,\"#7201a8\"],[0.3333333333333333,\"#9c179e\"],[0.4444444444444444,\"#bd3786\"],[0.5555555555555556,\"#d8576b\"],[0.6666666666666666,\"#ed7953\"],[0.7777777777777778,\"#fb9f3a\"],[0.8888888888888888,\"#fdca26\"],[1.0,\"#f0f921\"]]}],\"surface\":[{\"type\":\"surface\",\"colorbar\":{\"outlinewidth\":0,\"ticks\":\"\"},\"colorscale\":[[0.0,\"#0d0887\"],[0.1111111111111111,\"#46039f\"],[0.2222222222222222,\"#7201a8\"],[0.3333333333333333,\"#9c179e\"],[0.4444444444444444,\"#bd3786\"],[0.5555555555555556,\"#d8576b\"],[0.6666666666666666,\"#ed7953\"],[0.7777777777777778,\"#fb9f3a\"],[0.8888888888888888,\"#fdca26\"],[1.0,\"#f0f921\"]]}],\"mesh3d\":[{\"type\":\"mesh3d\",\"colorbar\":{\"outlinewidth\":0,\"ticks\":\"\"}}],\"scatter\":[{\"fillpattern\":{\"fillmode\":\"overlay\",\"size\":10,\"solidity\":0.2},\"type\":\"scatter\"}],\"parcoords\":[{\"type\":\"parcoords\",\"line\":{\"colorbar\":{\"outlinewidth\":0,\"ticks\":\"\"}}}],\"scatterpolargl\":[{\"type\":\"scatterpolargl\",\"marker\":{\"colorbar\":{\"outlinewidth\":0,\"ticks\":\"\"}}}],\"bar\":[{\"error_x\":{\"color\":\"#2a3f5f\"},\"error_y\":{\"color\":\"#2a3f5f\"},\"marker\":{\"line\":{\"color\":\"#E5ECF6\",\"width\":0.5},\"pattern\":{\"fillmode\":\"overlay\",\"size\":10,\"solidity\":0.2}},\"type\":\"bar\"}],\"scattergeo\":[{\"type\":\"scattergeo\",\"marker\":{\"colorbar\":{\"outlinewidth\":0,\"ticks\":\"\"}}}],\"scatterpolar\":[{\"type\":\"scatterpolar\",\"marker\":{\"colorbar\":{\"outlinewidth\":0,\"ticks\":\"\"}}}],\"histogram\":[{\"marker\":{\"pattern\":{\"fillmode\":\"overlay\",\"size\":10,\"solidity\":0.2}},\"type\":\"histogram\"}],\"scattergl\":[{\"type\":\"scattergl\",\"marker\":{\"colorbar\":{\"outlinewidth\":0,\"ticks\":\"\"}}}],\"scatter3d\":[{\"type\":\"scatter3d\",\"line\":{\"colorbar\":{\"outlinewidth\":0,\"ticks\":\"\"}},\"marker\":{\"colorbar\":{\"outlinewidth\":0,\"ticks\":\"\"}}}],\"scattermapbox\":[{\"type\":\"scattermapbox\",\"marker\":{\"colorbar\":{\"outlinewidth\":0,\"ticks\":\"\"}}}],\"scatterternary\":[{\"type\":\"scatterternary\",\"marker\":{\"colorbar\":{\"outlinewidth\":0,\"ticks\":\"\"}}}],\"scattercarpet\":[{\"type\":\"scattercarpet\",\"marker\":{\"colorbar\":{\"outlinewidth\":0,\"ticks\":\"\"}}}],\"carpet\":[{\"aaxis\":{\"endlinecolor\":\"#2a3f5f\",\"gridcolor\":\"white\",\"linecolor\":\"white\",\"minorgridcolor\":\"white\",\"startlinecolor\":\"#2a3f5f\"},\"baxis\":{\"endlinecolor\":\"#2a3f5f\",\"gridcolor\":\"white\",\"linecolor\":\"white\",\"minorgridcolor\":\"white\",\"startlinecolor\":\"#2a3f5f\"},\"type\":\"carpet\"}],\"table\":[{\"cells\":{\"fill\":{\"color\":\"#EBF0F8\"},\"line\":{\"color\":\"white\"}},\"header\":{\"fill\":{\"color\":\"#C8D4E3\"},\"line\":{\"color\":\"white\"}},\"type\":\"table\"}],\"barpolar\":[{\"marker\":{\"line\":{\"color\":\"#E5ECF6\",\"width\":0.5},\"pattern\":{\"fillmode\":\"overlay\",\"size\":10,\"solidity\":0.2}},\"type\":\"barpolar\"}],\"pie\":[{\"automargin\":true,\"type\":\"pie\"}]},\"layout\":{\"autotypenumbers\":\"strict\",\"colorway\":[\"#636efa\",\"#EF553B\",\"#00cc96\",\"#ab63fa\",\"#FFA15A\",\"#19d3f3\",\"#FF6692\",\"#B6E880\",\"#FF97FF\",\"#FECB52\"],\"font\":{\"color\":\"#2a3f5f\"},\"hovermode\":\"closest\",\"hoverlabel\":{\"align\":\"left\"},\"paper_bgcolor\":\"white\",\"plot_bgcolor\":\"#E5ECF6\",\"polar\":{\"bgcolor\":\"#E5ECF6\",\"angularaxis\":{\"gridcolor\":\"white\",\"linecolor\":\"white\",\"ticks\":\"\"},\"radialaxis\":{\"gridcolor\":\"white\",\"linecolor\":\"white\",\"ticks\":\"\"}},\"ternary\":{\"bgcolor\":\"#E5ECF6\",\"aaxis\":{\"gridcolor\":\"white\",\"linecolor\":\"white\",\"ticks\":\"\"},\"baxis\":{\"gridcolor\":\"white\",\"linecolor\":\"white\",\"ticks\":\"\"},\"caxis\":{\"gridcolor\":\"white\",\"linecolor\":\"white\",\"ticks\":\"\"}},\"coloraxis\":{\"colorbar\":{\"outlinewidth\":0,\"ticks\":\"\"}},\"colorscale\":{\"sequential\":[[0.0,\"#0d0887\"],[0.1111111111111111,\"#46039f\"],[0.2222222222222222,\"#7201a8\"],[0.3333333333333333,\"#9c179e\"],[0.4444444444444444,\"#bd3786\"],[0.5555555555555556,\"#d8576b\"],[0.6666666666666666,\"#ed7953\"],[0.7777777777777778,\"#fb9f3a\"],[0.8888888888888888,\"#fdca26\"],[1.0,\"#f0f921\"]],\"sequentialminus\":[[0.0,\"#0d0887\"],[0.1111111111111111,\"#46039f\"],[0.2222222222222222,\"#7201a8\"],[0.3333333333333333,\"#9c179e\"],[0.4444444444444444,\"#bd3786\"],[0.5555555555555556,\"#d8576b\"],[0.6666666666666666,\"#ed7953\"],[0.7777777777777778,\"#fb9f3a\"],[0.8888888888888888,\"#fdca26\"],[1.0,\"#f0f921\"]],\"diverging\":[[0,\"#8e0152\"],[0.1,\"#c51b7d\"],[0.2,\"#de77ae\"],[0.3,\"#f1b6da\"],[0.4,\"#fde0ef\"],[0.5,\"#f7f7f7\"],[0.6,\"#e6f5d0\"],[0.7,\"#b8e186\"],[0.8,\"#7fbc41\"],[0.9,\"#4d9221\"],[1,\"#276419\"]]},\"xaxis\":{\"gridcolor\":\"white\",\"linecolor\":\"white\",\"ticks\":\"\",\"title\":{\"standoff\":15},\"zerolinecolor\":\"white\",\"automargin\":true,\"zerolinewidth\":2},\"yaxis\":{\"gridcolor\":\"white\",\"linecolor\":\"white\",\"ticks\":\"\",\"title\":{\"standoff\":15},\"zerolinecolor\":\"white\",\"automargin\":true,\"zerolinewidth\":2},\"scene\":{\"xaxis\":{\"backgroundcolor\":\"#E5ECF6\",\"gridcolor\":\"white\",\"linecolor\":\"white\",\"showbackground\":true,\"ticks\":\"\",\"zerolinecolor\":\"white\",\"gridwidth\":2},\"yaxis\":{\"backgroundcolor\":\"#E5ECF6\",\"gridcolor\":\"white\",\"linecolor\":\"white\",\"showbackground\":true,\"ticks\":\"\",\"zerolinecolor\":\"white\",\"gridwidth\":2},\"zaxis\":{\"backgroundcolor\":\"#E5ECF6\",\"gridcolor\":\"white\",\"linecolor\":\"white\",\"showbackground\":true,\"ticks\":\"\",\"zerolinecolor\":\"white\",\"gridwidth\":2}},\"shapedefaults\":{\"line\":{\"color\":\"#2a3f5f\"}},\"annotationdefaults\":{\"arrowcolor\":\"#2a3f5f\",\"arrowhead\":0,\"arrowwidth\":1},\"geo\":{\"bgcolor\":\"white\",\"landcolor\":\"#E5ECF6\",\"subunitcolor\":\"white\",\"showland\":true,\"showlakes\":true,\"lakecolor\":\"white\"},\"title\":{\"x\":0.05},\"mapbox\":{\"style\":\"light\"}}},\"font\":{\"size\":16},\"legend\":{\"title\":{\"text\":\"Trial\"},\"orientation\":\"h\",\"x\":0,\"y\":2.1},\"margin\":{\"l\":50,\"r\":50,\"t\":50,\"b\":50},\"hovermode\":\"closest\",\"width\":700,\"height\":700,\"plot_bgcolor\":\"rgba(0,0,0,0)\",\"paper_bgcolor\":\"white\"},                        {\"responsive\": true}                    ).then(function(){\n",
              "                            \n",
              "var gd = document.getElementById('aa0e7a7f-2369-4ef2-b173-09c0080e7356');\n",
              "var x = new MutationObserver(function (mutations, observer) {{\n",
              "        var display = window.getComputedStyle(gd).display;\n",
              "        if (!display || display === 'none') {{\n",
              "            console.log([gd, 'removed!']);\n",
              "            Plotly.purge(gd);\n",
              "            observer.disconnect();\n",
              "        }}\n",
              "}});\n",
              "\n",
              "// Listen for the removal of the full notebook cells\n",
              "var notebookContainer = gd.closest('#notebook-container');\n",
              "if (notebookContainer) {{\n",
              "    x.observe(notebookContainer, {childList: true});\n",
              "}}\n",
              "\n",
              "// Listen for the clearing of the current output cell\n",
              "var outputEl = gd.closest('.output');\n",
              "if (outputEl) {{\n",
              "    x.observe(outputEl, {childList: true});\n",
              "}}\n",
              "\n",
              "                        })                };                            </script>        </div>\n",
              "</body>\n",
              "</html>"
            ]
          },
          "metadata": {}
        },
        {
          "output_type": "stream",
          "name": "stderr",
          "text": [
            "/usr/local/lib/python3.10/dist-packages/optuna/visualization/_utils.py:67: UserWarning:\n",
            "\n",
            "`target` is specified, but `target_name` is the default value, 'Objective Value'.\n",
            "\n"
          ]
        },
        {
          "output_type": "display_data",
          "data": {
            "text/html": [
              "<html>\n",
              "<head><meta charset=\"utf-8\" /></head>\n",
              "<body>\n",
              "    <div>            <script src=\"https://cdnjs.cloudflare.com/ajax/libs/mathjax/2.7.5/MathJax.js?config=TeX-AMS-MML_SVG\"></script><script type=\"text/javascript\">if (window.MathJax && window.MathJax.Hub && window.MathJax.Hub.Config) {window.MathJax.Hub.Config({SVG: {font: \"STIX-Web\"}});}</script>                <script type=\"text/javascript\">window.PlotlyConfig = {MathJaxConfig: 'local'};</script>\n",
              "        <script charset=\"utf-8\" src=\"https://cdn.plot.ly/plotly-2.24.1.min.js\"></script>                <div id=\"cb8e9ce9-1444-4850-a826-cef1f1ae5c41\" class=\"plotly-graph-div\" style=\"height:700px; width:700px;\"></div>            <script type=\"text/javascript\">                                    window.PLOTLYENV=window.PLOTLYENV || {};                                    if (document.getElementById(\"cb8e9ce9-1444-4850-a826-cef1f1ae5c41\")) {                    Plotly.newPlot(                        \"cb8e9ce9-1444-4850-a826-cef1f1ae5c41\",                        [{\"mode\":\"markers\",\"name\":\"Objective Value\",\"x\":[0,1,2,7,8,9,10,11,14,15,17,18,19,23,24,25,28,30,32,33,35,36,37,38,39,41,42,43,44,45,46,47,49,50,51,52,53,54,55,56,57,58,60,61,62,64,65,66,67,71,73,74,75,76,78,79,80,81,82,84,85,86,87,88,89,90,91,92,93,94,95,97,98,99],\"y\":[0.952254706491707,0.9280347166371923,0.947430087338298,0.9338277193723609,0.934995009464012,0.7696579233532346,0.526491105716474,0.7658929730894208,0.0,0.9385144550798125,0.7465049574349238,0.5456111077289126,0.5120484884646987,0.5172077457927527,0.5347176588206002,0.5150454732476101,0.9183498409887686,0.5735525583158367,0.5427267738228322,0.9432484720760621,0.8070642592176991,0.5150454732476101,0.535182234049675,0.9516489436256526,0.802925437248291,0.798828848469786,0.5273926455881524,0.9315018611978791,0.9228821250963636,0.9234518080438258,0.9315018611978791,0.9268847302604346,0.7650553094923715,0.4854167441944413,0.7789573401663761,0.9444394479780467,0.7994115142507565,0.7503643201607041,0.745956858328411,0.7789573401663761,0.7616142527555747,0.7691093834785223,0.7679466990120394,0.5740870990965492,0.7906566011351729,0.9432484720760621,0.9234518080438258,0.5805801839296872,0.9234518080438258,0.7953506129594079,0.9456334352113032,0.9480304894715638,0.793622829147222,0.5470648019570354,0.7298800749281755,0.9583550220412367,0.0,0.5403463553469913,0.5756967163902276,0.9361652214468794,0.9245932864934128,0.9291875601361991,0.7987138272797472,0.7525876399556267,0.9450360644649024,0.9268847302604346,0.9274593669727764,0.5564545053137837,0.5159082090944049,0.802925437248291,0.7644796423454926,0.5427267738228322,0.9408755088116387,0.7503643201607041],\"type\":\"scatter\"},{\"marker\":{\"color\":\"#cccccc\"},\"mode\":\"markers\",\"name\":\"Infeasible Trial\",\"showlegend\":false,\"x\":[],\"y\":[],\"type\":\"scatter\"}],                        {\"title\":{\"text\":\"F1 Score Optimization History\",\"font\":{\"size\":20}},\"xaxis\":{\"title\":{\"text\":\"Trial\"}},\"yaxis\":{\"title\":{\"text\":\"Objective Value\"}},\"template\":{\"data\":{\"histogram2dcontour\":[{\"type\":\"histogram2dcontour\",\"colorbar\":{\"outlinewidth\":0,\"ticks\":\"\"},\"colorscale\":[[0.0,\"#0d0887\"],[0.1111111111111111,\"#46039f\"],[0.2222222222222222,\"#7201a8\"],[0.3333333333333333,\"#9c179e\"],[0.4444444444444444,\"#bd3786\"],[0.5555555555555556,\"#d8576b\"],[0.6666666666666666,\"#ed7953\"],[0.7777777777777778,\"#fb9f3a\"],[0.8888888888888888,\"#fdca26\"],[1.0,\"#f0f921\"]]}],\"choropleth\":[{\"type\":\"choropleth\",\"colorbar\":{\"outlinewidth\":0,\"ticks\":\"\"}}],\"histogram2d\":[{\"type\":\"histogram2d\",\"colorbar\":{\"outlinewidth\":0,\"ticks\":\"\"},\"colorscale\":[[0.0,\"#0d0887\"],[0.1111111111111111,\"#46039f\"],[0.2222222222222222,\"#7201a8\"],[0.3333333333333333,\"#9c179e\"],[0.4444444444444444,\"#bd3786\"],[0.5555555555555556,\"#d8576b\"],[0.6666666666666666,\"#ed7953\"],[0.7777777777777778,\"#fb9f3a\"],[0.8888888888888888,\"#fdca26\"],[1.0,\"#f0f921\"]]}],\"heatmap\":[{\"type\":\"heatmap\",\"colorbar\":{\"outlinewidth\":0,\"ticks\":\"\"},\"colorscale\":[[0.0,\"#0d0887\"],[0.1111111111111111,\"#46039f\"],[0.2222222222222222,\"#7201a8\"],[0.3333333333333333,\"#9c179e\"],[0.4444444444444444,\"#bd3786\"],[0.5555555555555556,\"#d8576b\"],[0.6666666666666666,\"#ed7953\"],[0.7777777777777778,\"#fb9f3a\"],[0.8888888888888888,\"#fdca26\"],[1.0,\"#f0f921\"]]}],\"heatmapgl\":[{\"type\":\"heatmapgl\",\"colorbar\":{\"outlinewidth\":0,\"ticks\":\"\"},\"colorscale\":[[0.0,\"#0d0887\"],[0.1111111111111111,\"#46039f\"],[0.2222222222222222,\"#7201a8\"],[0.3333333333333333,\"#9c179e\"],[0.4444444444444444,\"#bd3786\"],[0.5555555555555556,\"#d8576b\"],[0.6666666666666666,\"#ed7953\"],[0.7777777777777778,\"#fb9f3a\"],[0.8888888888888888,\"#fdca26\"],[1.0,\"#f0f921\"]]}],\"contourcarpet\":[{\"type\":\"contourcarpet\",\"colorbar\":{\"outlinewidth\":0,\"ticks\":\"\"}}],\"contour\":[{\"type\":\"contour\",\"colorbar\":{\"outlinewidth\":0,\"ticks\":\"\"},\"colorscale\":[[0.0,\"#0d0887\"],[0.1111111111111111,\"#46039f\"],[0.2222222222222222,\"#7201a8\"],[0.3333333333333333,\"#9c179e\"],[0.4444444444444444,\"#bd3786\"],[0.5555555555555556,\"#d8576b\"],[0.6666666666666666,\"#ed7953\"],[0.7777777777777778,\"#fb9f3a\"],[0.8888888888888888,\"#fdca26\"],[1.0,\"#f0f921\"]]}],\"surface\":[{\"type\":\"surface\",\"colorbar\":{\"outlinewidth\":0,\"ticks\":\"\"},\"colorscale\":[[0.0,\"#0d0887\"],[0.1111111111111111,\"#46039f\"],[0.2222222222222222,\"#7201a8\"],[0.3333333333333333,\"#9c179e\"],[0.4444444444444444,\"#bd3786\"],[0.5555555555555556,\"#d8576b\"],[0.6666666666666666,\"#ed7953\"],[0.7777777777777778,\"#fb9f3a\"],[0.8888888888888888,\"#fdca26\"],[1.0,\"#f0f921\"]]}],\"mesh3d\":[{\"type\":\"mesh3d\",\"colorbar\":{\"outlinewidth\":0,\"ticks\":\"\"}}],\"scatter\":[{\"fillpattern\":{\"fillmode\":\"overlay\",\"size\":10,\"solidity\":0.2},\"type\":\"scatter\"}],\"parcoords\":[{\"type\":\"parcoords\",\"line\":{\"colorbar\":{\"outlinewidth\":0,\"ticks\":\"\"}}}],\"scatterpolargl\":[{\"type\":\"scatterpolargl\",\"marker\":{\"colorbar\":{\"outlinewidth\":0,\"ticks\":\"\"}}}],\"bar\":[{\"error_x\":{\"color\":\"#2a3f5f\"},\"error_y\":{\"color\":\"#2a3f5f\"},\"marker\":{\"line\":{\"color\":\"#E5ECF6\",\"width\":0.5},\"pattern\":{\"fillmode\":\"overlay\",\"size\":10,\"solidity\":0.2}},\"type\":\"bar\"}],\"scattergeo\":[{\"type\":\"scattergeo\",\"marker\":{\"colorbar\":{\"outlinewidth\":0,\"ticks\":\"\"}}}],\"scatterpolar\":[{\"type\":\"scatterpolar\",\"marker\":{\"colorbar\":{\"outlinewidth\":0,\"ticks\":\"\"}}}],\"histogram\":[{\"marker\":{\"pattern\":{\"fillmode\":\"overlay\",\"size\":10,\"solidity\":0.2}},\"type\":\"histogram\"}],\"scattergl\":[{\"type\":\"scattergl\",\"marker\":{\"colorbar\":{\"outlinewidth\":0,\"ticks\":\"\"}}}],\"scatter3d\":[{\"type\":\"scatter3d\",\"line\":{\"colorbar\":{\"outlinewidth\":0,\"ticks\":\"\"}},\"marker\":{\"colorbar\":{\"outlinewidth\":0,\"ticks\":\"\"}}}],\"scattermapbox\":[{\"type\":\"scattermapbox\",\"marker\":{\"colorbar\":{\"outlinewidth\":0,\"ticks\":\"\"}}}],\"scatterternary\":[{\"type\":\"scatterternary\",\"marker\":{\"colorbar\":{\"outlinewidth\":0,\"ticks\":\"\"}}}],\"scattercarpet\":[{\"type\":\"scattercarpet\",\"marker\":{\"colorbar\":{\"outlinewidth\":0,\"ticks\":\"\"}}}],\"carpet\":[{\"aaxis\":{\"endlinecolor\":\"#2a3f5f\",\"gridcolor\":\"white\",\"linecolor\":\"white\",\"minorgridcolor\":\"white\",\"startlinecolor\":\"#2a3f5f\"},\"baxis\":{\"endlinecolor\":\"#2a3f5f\",\"gridcolor\":\"white\",\"linecolor\":\"white\",\"minorgridcolor\":\"white\",\"startlinecolor\":\"#2a3f5f\"},\"type\":\"carpet\"}],\"table\":[{\"cells\":{\"fill\":{\"color\":\"#EBF0F8\"},\"line\":{\"color\":\"white\"}},\"header\":{\"fill\":{\"color\":\"#C8D4E3\"},\"line\":{\"color\":\"white\"}},\"type\":\"table\"}],\"barpolar\":[{\"marker\":{\"line\":{\"color\":\"#E5ECF6\",\"width\":0.5},\"pattern\":{\"fillmode\":\"overlay\",\"size\":10,\"solidity\":0.2}},\"type\":\"barpolar\"}],\"pie\":[{\"automargin\":true,\"type\":\"pie\"}]},\"layout\":{\"autotypenumbers\":\"strict\",\"colorway\":[\"#636efa\",\"#EF553B\",\"#00cc96\",\"#ab63fa\",\"#FFA15A\",\"#19d3f3\",\"#FF6692\",\"#B6E880\",\"#FF97FF\",\"#FECB52\"],\"font\":{\"color\":\"#2a3f5f\"},\"hovermode\":\"closest\",\"hoverlabel\":{\"align\":\"left\"},\"paper_bgcolor\":\"white\",\"plot_bgcolor\":\"#E5ECF6\",\"polar\":{\"bgcolor\":\"#E5ECF6\",\"angularaxis\":{\"gridcolor\":\"white\",\"linecolor\":\"white\",\"ticks\":\"\"},\"radialaxis\":{\"gridcolor\":\"white\",\"linecolor\":\"white\",\"ticks\":\"\"}},\"ternary\":{\"bgcolor\":\"#E5ECF6\",\"aaxis\":{\"gridcolor\":\"white\",\"linecolor\":\"white\",\"ticks\":\"\"},\"baxis\":{\"gridcolor\":\"white\",\"linecolor\":\"white\",\"ticks\":\"\"},\"caxis\":{\"gridcolor\":\"white\",\"linecolor\":\"white\",\"ticks\":\"\"}},\"coloraxis\":{\"colorbar\":{\"outlinewidth\":0,\"ticks\":\"\"}},\"colorscale\":{\"sequential\":[[0.0,\"#0d0887\"],[0.1111111111111111,\"#46039f\"],[0.2222222222222222,\"#7201a8\"],[0.3333333333333333,\"#9c179e\"],[0.4444444444444444,\"#bd3786\"],[0.5555555555555556,\"#d8576b\"],[0.6666666666666666,\"#ed7953\"],[0.7777777777777778,\"#fb9f3a\"],[0.8888888888888888,\"#fdca26\"],[1.0,\"#f0f921\"]],\"sequentialminus\":[[0.0,\"#0d0887\"],[0.1111111111111111,\"#46039f\"],[0.2222222222222222,\"#7201a8\"],[0.3333333333333333,\"#9c179e\"],[0.4444444444444444,\"#bd3786\"],[0.5555555555555556,\"#d8576b\"],[0.6666666666666666,\"#ed7953\"],[0.7777777777777778,\"#fb9f3a\"],[0.8888888888888888,\"#fdca26\"],[1.0,\"#f0f921\"]],\"diverging\":[[0,\"#8e0152\"],[0.1,\"#c51b7d\"],[0.2,\"#de77ae\"],[0.3,\"#f1b6da\"],[0.4,\"#fde0ef\"],[0.5,\"#f7f7f7\"],[0.6,\"#e6f5d0\"],[0.7,\"#b8e186\"],[0.8,\"#7fbc41\"],[0.9,\"#4d9221\"],[1,\"#276419\"]]},\"xaxis\":{\"gridcolor\":\"white\",\"linecolor\":\"white\",\"ticks\":\"\",\"title\":{\"standoff\":15},\"zerolinecolor\":\"white\",\"automargin\":true,\"zerolinewidth\":2},\"yaxis\":{\"gridcolor\":\"white\",\"linecolor\":\"white\",\"ticks\":\"\",\"title\":{\"standoff\":15},\"zerolinecolor\":\"white\",\"automargin\":true,\"zerolinewidth\":2},\"scene\":{\"xaxis\":{\"backgroundcolor\":\"#E5ECF6\",\"gridcolor\":\"white\",\"linecolor\":\"white\",\"showbackground\":true,\"ticks\":\"\",\"zerolinecolor\":\"white\",\"gridwidth\":2},\"yaxis\":{\"backgroundcolor\":\"#E5ECF6\",\"gridcolor\":\"white\",\"linecolor\":\"white\",\"showbackground\":true,\"ticks\":\"\",\"zerolinecolor\":\"white\",\"gridwidth\":2},\"zaxis\":{\"backgroundcolor\":\"#E5ECF6\",\"gridcolor\":\"white\",\"linecolor\":\"white\",\"showbackground\":true,\"ticks\":\"\",\"zerolinecolor\":\"white\",\"gridwidth\":2}},\"shapedefaults\":{\"line\":{\"color\":\"#2a3f5f\"}},\"annotationdefaults\":{\"arrowcolor\":\"#2a3f5f\",\"arrowhead\":0,\"arrowwidth\":1},\"geo\":{\"bgcolor\":\"white\",\"landcolor\":\"#E5ECF6\",\"subunitcolor\":\"white\",\"showland\":true,\"showlakes\":true,\"lakecolor\":\"white\"},\"title\":{\"x\":0.05},\"mapbox\":{\"style\":\"light\"}}},\"font\":{\"size\":16},\"width\":700,\"height\":700},                        {\"responsive\": true}                    ).then(function(){\n",
              "                            \n",
              "var gd = document.getElementById('cb8e9ce9-1444-4850-a826-cef1f1ae5c41');\n",
              "var x = new MutationObserver(function (mutations, observer) {{\n",
              "        var display = window.getComputedStyle(gd).display;\n",
              "        if (!display || display === 'none') {{\n",
              "            console.log([gd, 'removed!']);\n",
              "            Plotly.purge(gd);\n",
              "            observer.disconnect();\n",
              "        }}\n",
              "}});\n",
              "\n",
              "// Listen for the removal of the full notebook cells\n",
              "var notebookContainer = gd.closest('#notebook-container');\n",
              "if (notebookContainer) {{\n",
              "    x.observe(notebookContainer, {childList: true});\n",
              "}}\n",
              "\n",
              "// Listen for the clearing of the current output cell\n",
              "var outputEl = gd.closest('.output');\n",
              "if (outputEl) {{\n",
              "    x.observe(outputEl, {childList: true});\n",
              "}}\n",
              "\n",
              "                        })                };                            </script>        </div>\n",
              "</body>\n",
              "</html>"
            ]
          },
          "metadata": {}
        },
        {
          "output_type": "display_data",
          "data": {
            "text/html": [
              "<html>\n",
              "<head><meta charset=\"utf-8\" /></head>\n",
              "<body>\n",
              "    <div>            <script src=\"https://cdnjs.cloudflare.com/ajax/libs/mathjax/2.7.5/MathJax.js?config=TeX-AMS-MML_SVG\"></script><script type=\"text/javascript\">if (window.MathJax && window.MathJax.Hub && window.MathJax.Hub.Config) {window.MathJax.Hub.Config({SVG: {font: \"STIX-Web\"}});}</script>                <script type=\"text/javascript\">window.PlotlyConfig = {MathJaxConfig: 'local'};</script>\n",
              "        <script charset=\"utf-8\" src=\"https://cdn.plot.ly/plotly-2.24.1.min.js\"></script>                <div id=\"eeda0409-36e6-4588-b442-de56ee8231b7\" class=\"plotly-graph-div\" style=\"height:700px; width:700px;\"></div>            <script type=\"text/javascript\">                                    window.PLOTLYENV=window.PLOTLYENV || {};                                    if (document.getElementById(\"eeda0409-36e6-4588-b442-de56ee8231b7\")) {                    Plotly.newPlot(                        \"eeda0409-36e6-4588-b442-de56ee8231b7\",                        [{\"mode\":\"markers\",\"name\":\"Objective Value\",\"x\":[0,1,2,7,8,9,10,11,14,15,17,18,19,23,24,25,28,30,32,33,35,36,37,38,39,41,42,43,44,45,46,47,49,50,51,52,53,54,55,56,57,58,60,61,62,64,65,66,67,71,73,74,75,76,78,79,80,81,82,84,85,86,87,88,89,90,91,92,93,94,95,97,98,99],\"y\":[107715.0,100825.0,203357.0,117390.0,60177.0,123675.0,44749.0,72423.0,35005.0,83630.0,84995.0,88575.0,69369.0,99965.0,256987.0,100395.0,90120.0,94819.0,68889.0,73179.0,170710.0,45913.0,93556.0,139375.0,80503.0,221515.0,95903.0,125950.0,109761.0,103909.0,69139.0,270241.0,268150.0,228507.0,164781.0,100851.0,163137.0,433731.0,201369.0,104865.0,105270.0,113779.0,200157.0,76513.0,210097.0,213940.0,114535.0,290925.0,192171.0,110447.0,118975.0,80503.0,93579.0,123675.0,69369.0,213940.0,84995.0,71055.0,98780.0,72423.0,136580.0,69922.0,61059.0,146983.0,120139.0,98275.0,137060.0,122589.0,108975.0,54623.0,119680.0,121755.0,70453.0,93175.0],\"type\":\"scatter\"},{\"marker\":{\"color\":\"#cccccc\"},\"mode\":\"markers\",\"name\":\"Infeasible Trial\",\"showlegend\":false,\"x\":[],\"y\":[],\"type\":\"scatter\"}],                        {\"title\":{\"text\":\"Parameter Count Optimization History\",\"font\":{\"size\":20}},\"xaxis\":{\"title\":{\"text\":\"Trial\"}},\"yaxis\":{\"title\":{\"text\":\"Objective Value\"}},\"template\":{\"data\":{\"histogram2dcontour\":[{\"type\":\"histogram2dcontour\",\"colorbar\":{\"outlinewidth\":0,\"ticks\":\"\"},\"colorscale\":[[0.0,\"#0d0887\"],[0.1111111111111111,\"#46039f\"],[0.2222222222222222,\"#7201a8\"],[0.3333333333333333,\"#9c179e\"],[0.4444444444444444,\"#bd3786\"],[0.5555555555555556,\"#d8576b\"],[0.6666666666666666,\"#ed7953\"],[0.7777777777777778,\"#fb9f3a\"],[0.8888888888888888,\"#fdca26\"],[1.0,\"#f0f921\"]]}],\"choropleth\":[{\"type\":\"choropleth\",\"colorbar\":{\"outlinewidth\":0,\"ticks\":\"\"}}],\"histogram2d\":[{\"type\":\"histogram2d\",\"colorbar\":{\"outlinewidth\":0,\"ticks\":\"\"},\"colorscale\":[[0.0,\"#0d0887\"],[0.1111111111111111,\"#46039f\"],[0.2222222222222222,\"#7201a8\"],[0.3333333333333333,\"#9c179e\"],[0.4444444444444444,\"#bd3786\"],[0.5555555555555556,\"#d8576b\"],[0.6666666666666666,\"#ed7953\"],[0.7777777777777778,\"#fb9f3a\"],[0.8888888888888888,\"#fdca26\"],[1.0,\"#f0f921\"]]}],\"heatmap\":[{\"type\":\"heatmap\",\"colorbar\":{\"outlinewidth\":0,\"ticks\":\"\"},\"colorscale\":[[0.0,\"#0d0887\"],[0.1111111111111111,\"#46039f\"],[0.2222222222222222,\"#7201a8\"],[0.3333333333333333,\"#9c179e\"],[0.4444444444444444,\"#bd3786\"],[0.5555555555555556,\"#d8576b\"],[0.6666666666666666,\"#ed7953\"],[0.7777777777777778,\"#fb9f3a\"],[0.8888888888888888,\"#fdca26\"],[1.0,\"#f0f921\"]]}],\"heatmapgl\":[{\"type\":\"heatmapgl\",\"colorbar\":{\"outlinewidth\":0,\"ticks\":\"\"},\"colorscale\":[[0.0,\"#0d0887\"],[0.1111111111111111,\"#46039f\"],[0.2222222222222222,\"#7201a8\"],[0.3333333333333333,\"#9c179e\"],[0.4444444444444444,\"#bd3786\"],[0.5555555555555556,\"#d8576b\"],[0.6666666666666666,\"#ed7953\"],[0.7777777777777778,\"#fb9f3a\"],[0.8888888888888888,\"#fdca26\"],[1.0,\"#f0f921\"]]}],\"contourcarpet\":[{\"type\":\"contourcarpet\",\"colorbar\":{\"outlinewidth\":0,\"ticks\":\"\"}}],\"contour\":[{\"type\":\"contour\",\"colorbar\":{\"outlinewidth\":0,\"ticks\":\"\"},\"colorscale\":[[0.0,\"#0d0887\"],[0.1111111111111111,\"#46039f\"],[0.2222222222222222,\"#7201a8\"],[0.3333333333333333,\"#9c179e\"],[0.4444444444444444,\"#bd3786\"],[0.5555555555555556,\"#d8576b\"],[0.6666666666666666,\"#ed7953\"],[0.7777777777777778,\"#fb9f3a\"],[0.8888888888888888,\"#fdca26\"],[1.0,\"#f0f921\"]]}],\"surface\":[{\"type\":\"surface\",\"colorbar\":{\"outlinewidth\":0,\"ticks\":\"\"},\"colorscale\":[[0.0,\"#0d0887\"],[0.1111111111111111,\"#46039f\"],[0.2222222222222222,\"#7201a8\"],[0.3333333333333333,\"#9c179e\"],[0.4444444444444444,\"#bd3786\"],[0.5555555555555556,\"#d8576b\"],[0.6666666666666666,\"#ed7953\"],[0.7777777777777778,\"#fb9f3a\"],[0.8888888888888888,\"#fdca26\"],[1.0,\"#f0f921\"]]}],\"mesh3d\":[{\"type\":\"mesh3d\",\"colorbar\":{\"outlinewidth\":0,\"ticks\":\"\"}}],\"scatter\":[{\"fillpattern\":{\"fillmode\":\"overlay\",\"size\":10,\"solidity\":0.2},\"type\":\"scatter\"}],\"parcoords\":[{\"type\":\"parcoords\",\"line\":{\"colorbar\":{\"outlinewidth\":0,\"ticks\":\"\"}}}],\"scatterpolargl\":[{\"type\":\"scatterpolargl\",\"marker\":{\"colorbar\":{\"outlinewidth\":0,\"ticks\":\"\"}}}],\"bar\":[{\"error_x\":{\"color\":\"#2a3f5f\"},\"error_y\":{\"color\":\"#2a3f5f\"},\"marker\":{\"line\":{\"color\":\"#E5ECF6\",\"width\":0.5},\"pattern\":{\"fillmode\":\"overlay\",\"size\":10,\"solidity\":0.2}},\"type\":\"bar\"}],\"scattergeo\":[{\"type\":\"scattergeo\",\"marker\":{\"colorbar\":{\"outlinewidth\":0,\"ticks\":\"\"}}}],\"scatterpolar\":[{\"type\":\"scatterpolar\",\"marker\":{\"colorbar\":{\"outlinewidth\":0,\"ticks\":\"\"}}}],\"histogram\":[{\"marker\":{\"pattern\":{\"fillmode\":\"overlay\",\"size\":10,\"solidity\":0.2}},\"type\":\"histogram\"}],\"scattergl\":[{\"type\":\"scattergl\",\"marker\":{\"colorbar\":{\"outlinewidth\":0,\"ticks\":\"\"}}}],\"scatter3d\":[{\"type\":\"scatter3d\",\"line\":{\"colorbar\":{\"outlinewidth\":0,\"ticks\":\"\"}},\"marker\":{\"colorbar\":{\"outlinewidth\":0,\"ticks\":\"\"}}}],\"scattermapbox\":[{\"type\":\"scattermapbox\",\"marker\":{\"colorbar\":{\"outlinewidth\":0,\"ticks\":\"\"}}}],\"scatterternary\":[{\"type\":\"scatterternary\",\"marker\":{\"colorbar\":{\"outlinewidth\":0,\"ticks\":\"\"}}}],\"scattercarpet\":[{\"type\":\"scattercarpet\",\"marker\":{\"colorbar\":{\"outlinewidth\":0,\"ticks\":\"\"}}}],\"carpet\":[{\"aaxis\":{\"endlinecolor\":\"#2a3f5f\",\"gridcolor\":\"white\",\"linecolor\":\"white\",\"minorgridcolor\":\"white\",\"startlinecolor\":\"#2a3f5f\"},\"baxis\":{\"endlinecolor\":\"#2a3f5f\",\"gridcolor\":\"white\",\"linecolor\":\"white\",\"minorgridcolor\":\"white\",\"startlinecolor\":\"#2a3f5f\"},\"type\":\"carpet\"}],\"table\":[{\"cells\":{\"fill\":{\"color\":\"#EBF0F8\"},\"line\":{\"color\":\"white\"}},\"header\":{\"fill\":{\"color\":\"#C8D4E3\"},\"line\":{\"color\":\"white\"}},\"type\":\"table\"}],\"barpolar\":[{\"marker\":{\"line\":{\"color\":\"#E5ECF6\",\"width\":0.5},\"pattern\":{\"fillmode\":\"overlay\",\"size\":10,\"solidity\":0.2}},\"type\":\"barpolar\"}],\"pie\":[{\"automargin\":true,\"type\":\"pie\"}]},\"layout\":{\"autotypenumbers\":\"strict\",\"colorway\":[\"#636efa\",\"#EF553B\",\"#00cc96\",\"#ab63fa\",\"#FFA15A\",\"#19d3f3\",\"#FF6692\",\"#B6E880\",\"#FF97FF\",\"#FECB52\"],\"font\":{\"color\":\"#2a3f5f\"},\"hovermode\":\"closest\",\"hoverlabel\":{\"align\":\"left\"},\"paper_bgcolor\":\"white\",\"plot_bgcolor\":\"#E5ECF6\",\"polar\":{\"bgcolor\":\"#E5ECF6\",\"angularaxis\":{\"gridcolor\":\"white\",\"linecolor\":\"white\",\"ticks\":\"\"},\"radialaxis\":{\"gridcolor\":\"white\",\"linecolor\":\"white\",\"ticks\":\"\"}},\"ternary\":{\"bgcolor\":\"#E5ECF6\",\"aaxis\":{\"gridcolor\":\"white\",\"linecolor\":\"white\",\"ticks\":\"\"},\"baxis\":{\"gridcolor\":\"white\",\"linecolor\":\"white\",\"ticks\":\"\"},\"caxis\":{\"gridcolor\":\"white\",\"linecolor\":\"white\",\"ticks\":\"\"}},\"coloraxis\":{\"colorbar\":{\"outlinewidth\":0,\"ticks\":\"\"}},\"colorscale\":{\"sequential\":[[0.0,\"#0d0887\"],[0.1111111111111111,\"#46039f\"],[0.2222222222222222,\"#7201a8\"],[0.3333333333333333,\"#9c179e\"],[0.4444444444444444,\"#bd3786\"],[0.5555555555555556,\"#d8576b\"],[0.6666666666666666,\"#ed7953\"],[0.7777777777777778,\"#fb9f3a\"],[0.8888888888888888,\"#fdca26\"],[1.0,\"#f0f921\"]],\"sequentialminus\":[[0.0,\"#0d0887\"],[0.1111111111111111,\"#46039f\"],[0.2222222222222222,\"#7201a8\"],[0.3333333333333333,\"#9c179e\"],[0.4444444444444444,\"#bd3786\"],[0.5555555555555556,\"#d8576b\"],[0.6666666666666666,\"#ed7953\"],[0.7777777777777778,\"#fb9f3a\"],[0.8888888888888888,\"#fdca26\"],[1.0,\"#f0f921\"]],\"diverging\":[[0,\"#8e0152\"],[0.1,\"#c51b7d\"],[0.2,\"#de77ae\"],[0.3,\"#f1b6da\"],[0.4,\"#fde0ef\"],[0.5,\"#f7f7f7\"],[0.6,\"#e6f5d0\"],[0.7,\"#b8e186\"],[0.8,\"#7fbc41\"],[0.9,\"#4d9221\"],[1,\"#276419\"]]},\"xaxis\":{\"gridcolor\":\"white\",\"linecolor\":\"white\",\"ticks\":\"\",\"title\":{\"standoff\":15},\"zerolinecolor\":\"white\",\"automargin\":true,\"zerolinewidth\":2},\"yaxis\":{\"gridcolor\":\"white\",\"linecolor\":\"white\",\"ticks\":\"\",\"title\":{\"standoff\":15},\"zerolinecolor\":\"white\",\"automargin\":true,\"zerolinewidth\":2},\"scene\":{\"xaxis\":{\"backgroundcolor\":\"#E5ECF6\",\"gridcolor\":\"white\",\"linecolor\":\"white\",\"showbackground\":true,\"ticks\":\"\",\"zerolinecolor\":\"white\",\"gridwidth\":2},\"yaxis\":{\"backgroundcolor\":\"#E5ECF6\",\"gridcolor\":\"white\",\"linecolor\":\"white\",\"showbackground\":true,\"ticks\":\"\",\"zerolinecolor\":\"white\",\"gridwidth\":2},\"zaxis\":{\"backgroundcolor\":\"#E5ECF6\",\"gridcolor\":\"white\",\"linecolor\":\"white\",\"showbackground\":true,\"ticks\":\"\",\"zerolinecolor\":\"white\",\"gridwidth\":2}},\"shapedefaults\":{\"line\":{\"color\":\"#2a3f5f\"}},\"annotationdefaults\":{\"arrowcolor\":\"#2a3f5f\",\"arrowhead\":0,\"arrowwidth\":1},\"geo\":{\"bgcolor\":\"white\",\"landcolor\":\"#E5ECF6\",\"subunitcolor\":\"white\",\"showland\":true,\"showlakes\":true,\"lakecolor\":\"white\"},\"title\":{\"x\":0.05},\"mapbox\":{\"style\":\"light\"}}},\"font\":{\"size\":16},\"width\":700,\"height\":700},                        {\"responsive\": true}                    ).then(function(){\n",
              "                            \n",
              "var gd = document.getElementById('eeda0409-36e6-4588-b442-de56ee8231b7');\n",
              "var x = new MutationObserver(function (mutations, observer) {{\n",
              "        var display = window.getComputedStyle(gd).display;\n",
              "        if (!display || display === 'none') {{\n",
              "            console.log([gd, 'removed!']);\n",
              "            Plotly.purge(gd);\n",
              "            observer.disconnect();\n",
              "        }}\n",
              "}});\n",
              "\n",
              "// Listen for the removal of the full notebook cells\n",
              "var notebookContainer = gd.closest('#notebook-container');\n",
              "if (notebookContainer) {{\n",
              "    x.observe(notebookContainer, {childList: true});\n",
              "}}\n",
              "\n",
              "// Listen for the clearing of the current output cell\n",
              "var outputEl = gd.closest('.output');\n",
              "if (outputEl) {{\n",
              "    x.observe(outputEl, {childList: true});\n",
              "}}\n",
              "\n",
              "                        })                };                            </script>        </div>\n",
              "</body>\n",
              "</html>"
            ]
          },
          "metadata": {}
        },
        {
          "output_type": "display_data",
          "data": {
            "text/html": [
              "<html>\n",
              "<head><meta charset=\"utf-8\" /></head>\n",
              "<body>\n",
              "    <div>            <script src=\"https://cdnjs.cloudflare.com/ajax/libs/mathjax/2.7.5/MathJax.js?config=TeX-AMS-MML_SVG\"></script><script type=\"text/javascript\">if (window.MathJax && window.MathJax.Hub && window.MathJax.Hub.Config) {window.MathJax.Hub.Config({SVG: {font: \"STIX-Web\"}});}</script>                <script type=\"text/javascript\">window.PlotlyConfig = {MathJaxConfig: 'local'};</script>\n",
              "        <script charset=\"utf-8\" src=\"https://cdn.plot.ly/plotly-2.24.1.min.js\"></script>                <div id=\"2a840557-2373-4583-894d-283b0ad25404\" class=\"plotly-graph-div\" style=\"height:600px; width:800px;\"></div>            <script type=\"text/javascript\">                                    window.PLOTLYENV=window.PLOTLYENV || {};                                    if (document.getElementById(\"2a840557-2373-4583-894d-283b0ad25404\")) {                    Plotly.newPlot(                        \"2a840557-2373-4583-894d-283b0ad25404\",                        [{\"cliponaxis\":false,\"hovertemplate\":\"%{y}: %{x}\",\"name\":\"Objective Value\",\"orientation\":\"h\",\"text\":[\"\\u003c0.01\",\"\\u003c0.01\",\"\\u003c0.01\",\"\\u003c0.01\",\"\\u003c0.01\",\"0.01\",\"0.01\",\"0.02\",\"0.02\",\"0.05\",\"0.05\",\"0.06\",\"0.06\",\"0.16\",\"0.27\",\"0.27\"],\"textposition\":\"outside\",\"x\":[0.000980375699071298,0.0019027315781730706,0.004404845621518008,0.0056556123275158954,0.008801974428599655,0.011328982896410328,0.014378068118921917,0.020251051736948206,0.024904499611654092,0.04904693147864347,0.04942660034294673,0.05654865771428807,0.05758790984048335,0.1623020782752612,0.26545154686855055,0.2670281334610141],\"y\":[\"self_conditioning\",\"time_warping\",\"num_ffn_layers\",\"use_linear_embedding\",\"positional_encoding_type\",\"decoder_layers\",\"phase_type\",\"time_masking\",\"encoder_layers\",\"layer_norm\",\"batch\",\"activation_function\",\"gaussian_noise\",\"dim_feedforward\",\"lr\",\"dropout_rate\"],\"type\":\"bar\",\"marker\":{\"line\":{\"color\":\"RoyalBlue\",\"width\":1.5},\"color\":\"SkyBlue\"},\"opacity\":0.8}],                        {\"title\":{\"text\":\"F1 Score Parameter Importances\",\"font\":{\"size\":20}},\"xaxis\":{\"title\":{\"text\":\"Hyperparameter Importance\"}},\"yaxis\":{\"title\":{\"text\":\"Hyperparameter\"},\"showgrid\":true,\"gridwidth\":1,\"gridcolor\":\"lightgrey\"},\"template\":{\"data\":{\"histogram2dcontour\":[{\"type\":\"histogram2dcontour\",\"colorbar\":{\"outlinewidth\":0,\"ticks\":\"\"},\"colorscale\":[[0.0,\"#0d0887\"],[0.1111111111111111,\"#46039f\"],[0.2222222222222222,\"#7201a8\"],[0.3333333333333333,\"#9c179e\"],[0.4444444444444444,\"#bd3786\"],[0.5555555555555556,\"#d8576b\"],[0.6666666666666666,\"#ed7953\"],[0.7777777777777778,\"#fb9f3a\"],[0.8888888888888888,\"#fdca26\"],[1.0,\"#f0f921\"]]}],\"choropleth\":[{\"type\":\"choropleth\",\"colorbar\":{\"outlinewidth\":0,\"ticks\":\"\"}}],\"histogram2d\":[{\"type\":\"histogram2d\",\"colorbar\":{\"outlinewidth\":0,\"ticks\":\"\"},\"colorscale\":[[0.0,\"#0d0887\"],[0.1111111111111111,\"#46039f\"],[0.2222222222222222,\"#7201a8\"],[0.3333333333333333,\"#9c179e\"],[0.4444444444444444,\"#bd3786\"],[0.5555555555555556,\"#d8576b\"],[0.6666666666666666,\"#ed7953\"],[0.7777777777777778,\"#fb9f3a\"],[0.8888888888888888,\"#fdca26\"],[1.0,\"#f0f921\"]]}],\"heatmap\":[{\"type\":\"heatmap\",\"colorbar\":{\"outlinewidth\":0,\"ticks\":\"\"},\"colorscale\":[[0.0,\"#0d0887\"],[0.1111111111111111,\"#46039f\"],[0.2222222222222222,\"#7201a8\"],[0.3333333333333333,\"#9c179e\"],[0.4444444444444444,\"#bd3786\"],[0.5555555555555556,\"#d8576b\"],[0.6666666666666666,\"#ed7953\"],[0.7777777777777778,\"#fb9f3a\"],[0.8888888888888888,\"#fdca26\"],[1.0,\"#f0f921\"]]}],\"heatmapgl\":[{\"type\":\"heatmapgl\",\"colorbar\":{\"outlinewidth\":0,\"ticks\":\"\"},\"colorscale\":[[0.0,\"#0d0887\"],[0.1111111111111111,\"#46039f\"],[0.2222222222222222,\"#7201a8\"],[0.3333333333333333,\"#9c179e\"],[0.4444444444444444,\"#bd3786\"],[0.5555555555555556,\"#d8576b\"],[0.6666666666666666,\"#ed7953\"],[0.7777777777777778,\"#fb9f3a\"],[0.8888888888888888,\"#fdca26\"],[1.0,\"#f0f921\"]]}],\"contourcarpet\":[{\"type\":\"contourcarpet\",\"colorbar\":{\"outlinewidth\":0,\"ticks\":\"\"}}],\"contour\":[{\"type\":\"contour\",\"colorbar\":{\"outlinewidth\":0,\"ticks\":\"\"},\"colorscale\":[[0.0,\"#0d0887\"],[0.1111111111111111,\"#46039f\"],[0.2222222222222222,\"#7201a8\"],[0.3333333333333333,\"#9c179e\"],[0.4444444444444444,\"#bd3786\"],[0.5555555555555556,\"#d8576b\"],[0.6666666666666666,\"#ed7953\"],[0.7777777777777778,\"#fb9f3a\"],[0.8888888888888888,\"#fdca26\"],[1.0,\"#f0f921\"]]}],\"surface\":[{\"type\":\"surface\",\"colorbar\":{\"outlinewidth\":0,\"ticks\":\"\"},\"colorscale\":[[0.0,\"#0d0887\"],[0.1111111111111111,\"#46039f\"],[0.2222222222222222,\"#7201a8\"],[0.3333333333333333,\"#9c179e\"],[0.4444444444444444,\"#bd3786\"],[0.5555555555555556,\"#d8576b\"],[0.6666666666666666,\"#ed7953\"],[0.7777777777777778,\"#fb9f3a\"],[0.8888888888888888,\"#fdca26\"],[1.0,\"#f0f921\"]]}],\"mesh3d\":[{\"type\":\"mesh3d\",\"colorbar\":{\"outlinewidth\":0,\"ticks\":\"\"}}],\"scatter\":[{\"fillpattern\":{\"fillmode\":\"overlay\",\"size\":10,\"solidity\":0.2},\"type\":\"scatter\"}],\"parcoords\":[{\"type\":\"parcoords\",\"line\":{\"colorbar\":{\"outlinewidth\":0,\"ticks\":\"\"}}}],\"scatterpolargl\":[{\"type\":\"scatterpolargl\",\"marker\":{\"colorbar\":{\"outlinewidth\":0,\"ticks\":\"\"}}}],\"bar\":[{\"error_x\":{\"color\":\"#2a3f5f\"},\"error_y\":{\"color\":\"#2a3f5f\"},\"marker\":{\"line\":{\"color\":\"#E5ECF6\",\"width\":0.5},\"pattern\":{\"fillmode\":\"overlay\",\"size\":10,\"solidity\":0.2}},\"type\":\"bar\"}],\"scattergeo\":[{\"type\":\"scattergeo\",\"marker\":{\"colorbar\":{\"outlinewidth\":0,\"ticks\":\"\"}}}],\"scatterpolar\":[{\"type\":\"scatterpolar\",\"marker\":{\"colorbar\":{\"outlinewidth\":0,\"ticks\":\"\"}}}],\"histogram\":[{\"marker\":{\"pattern\":{\"fillmode\":\"overlay\",\"size\":10,\"solidity\":0.2}},\"type\":\"histogram\"}],\"scattergl\":[{\"type\":\"scattergl\",\"marker\":{\"colorbar\":{\"outlinewidth\":0,\"ticks\":\"\"}}}],\"scatter3d\":[{\"type\":\"scatter3d\",\"line\":{\"colorbar\":{\"outlinewidth\":0,\"ticks\":\"\"}},\"marker\":{\"colorbar\":{\"outlinewidth\":0,\"ticks\":\"\"}}}],\"scattermapbox\":[{\"type\":\"scattermapbox\",\"marker\":{\"colorbar\":{\"outlinewidth\":0,\"ticks\":\"\"}}}],\"scatterternary\":[{\"type\":\"scatterternary\",\"marker\":{\"colorbar\":{\"outlinewidth\":0,\"ticks\":\"\"}}}],\"scattercarpet\":[{\"type\":\"scattercarpet\",\"marker\":{\"colorbar\":{\"outlinewidth\":0,\"ticks\":\"\"}}}],\"carpet\":[{\"aaxis\":{\"endlinecolor\":\"#2a3f5f\",\"gridcolor\":\"white\",\"linecolor\":\"white\",\"minorgridcolor\":\"white\",\"startlinecolor\":\"#2a3f5f\"},\"baxis\":{\"endlinecolor\":\"#2a3f5f\",\"gridcolor\":\"white\",\"linecolor\":\"white\",\"minorgridcolor\":\"white\",\"startlinecolor\":\"#2a3f5f\"},\"type\":\"carpet\"}],\"table\":[{\"cells\":{\"fill\":{\"color\":\"#EBF0F8\"},\"line\":{\"color\":\"white\"}},\"header\":{\"fill\":{\"color\":\"#C8D4E3\"},\"line\":{\"color\":\"white\"}},\"type\":\"table\"}],\"barpolar\":[{\"marker\":{\"line\":{\"color\":\"#E5ECF6\",\"width\":0.5},\"pattern\":{\"fillmode\":\"overlay\",\"size\":10,\"solidity\":0.2}},\"type\":\"barpolar\"}],\"pie\":[{\"automargin\":true,\"type\":\"pie\"}]},\"layout\":{\"autotypenumbers\":\"strict\",\"colorway\":[\"#636efa\",\"#EF553B\",\"#00cc96\",\"#ab63fa\",\"#FFA15A\",\"#19d3f3\",\"#FF6692\",\"#B6E880\",\"#FF97FF\",\"#FECB52\"],\"font\":{\"color\":\"#2a3f5f\"},\"hovermode\":\"closest\",\"hoverlabel\":{\"align\":\"left\"},\"paper_bgcolor\":\"white\",\"plot_bgcolor\":\"#E5ECF6\",\"polar\":{\"bgcolor\":\"#E5ECF6\",\"angularaxis\":{\"gridcolor\":\"white\",\"linecolor\":\"white\",\"ticks\":\"\"},\"radialaxis\":{\"gridcolor\":\"white\",\"linecolor\":\"white\",\"ticks\":\"\"}},\"ternary\":{\"bgcolor\":\"#E5ECF6\",\"aaxis\":{\"gridcolor\":\"white\",\"linecolor\":\"white\",\"ticks\":\"\"},\"baxis\":{\"gridcolor\":\"white\",\"linecolor\":\"white\",\"ticks\":\"\"},\"caxis\":{\"gridcolor\":\"white\",\"linecolor\":\"white\",\"ticks\":\"\"}},\"coloraxis\":{\"colorbar\":{\"outlinewidth\":0,\"ticks\":\"\"}},\"colorscale\":{\"sequential\":[[0.0,\"#0d0887\"],[0.1111111111111111,\"#46039f\"],[0.2222222222222222,\"#7201a8\"],[0.3333333333333333,\"#9c179e\"],[0.4444444444444444,\"#bd3786\"],[0.5555555555555556,\"#d8576b\"],[0.6666666666666666,\"#ed7953\"],[0.7777777777777778,\"#fb9f3a\"],[0.8888888888888888,\"#fdca26\"],[1.0,\"#f0f921\"]],\"sequentialminus\":[[0.0,\"#0d0887\"],[0.1111111111111111,\"#46039f\"],[0.2222222222222222,\"#7201a8\"],[0.3333333333333333,\"#9c179e\"],[0.4444444444444444,\"#bd3786\"],[0.5555555555555556,\"#d8576b\"],[0.6666666666666666,\"#ed7953\"],[0.7777777777777778,\"#fb9f3a\"],[0.8888888888888888,\"#fdca26\"],[1.0,\"#f0f921\"]],\"diverging\":[[0,\"#8e0152\"],[0.1,\"#c51b7d\"],[0.2,\"#de77ae\"],[0.3,\"#f1b6da\"],[0.4,\"#fde0ef\"],[0.5,\"#f7f7f7\"],[0.6,\"#e6f5d0\"],[0.7,\"#b8e186\"],[0.8,\"#7fbc41\"],[0.9,\"#4d9221\"],[1,\"#276419\"]]},\"xaxis\":{\"gridcolor\":\"white\",\"linecolor\":\"white\",\"ticks\":\"\",\"title\":{\"standoff\":15},\"zerolinecolor\":\"white\",\"automargin\":true,\"zerolinewidth\":2},\"yaxis\":{\"gridcolor\":\"white\",\"linecolor\":\"white\",\"ticks\":\"\",\"title\":{\"standoff\":15},\"zerolinecolor\":\"white\",\"automargin\":true,\"zerolinewidth\":2},\"scene\":{\"xaxis\":{\"backgroundcolor\":\"#E5ECF6\",\"gridcolor\":\"white\",\"linecolor\":\"white\",\"showbackground\":true,\"ticks\":\"\",\"zerolinecolor\":\"white\",\"gridwidth\":2},\"yaxis\":{\"backgroundcolor\":\"#E5ECF6\",\"gridcolor\":\"white\",\"linecolor\":\"white\",\"showbackground\":true,\"ticks\":\"\",\"zerolinecolor\":\"white\",\"gridwidth\":2},\"zaxis\":{\"backgroundcolor\":\"#E5ECF6\",\"gridcolor\":\"white\",\"linecolor\":\"white\",\"showbackground\":true,\"ticks\":\"\",\"zerolinecolor\":\"white\",\"gridwidth\":2}},\"shapedefaults\":{\"line\":{\"color\":\"#2a3f5f\"}},\"annotationdefaults\":{\"arrowcolor\":\"#2a3f5f\",\"arrowhead\":0,\"arrowwidth\":1},\"geo\":{\"bgcolor\":\"white\",\"landcolor\":\"#E5ECF6\",\"subunitcolor\":\"white\",\"showland\":true,\"showlakes\":true,\"lakecolor\":\"white\"},\"title\":{\"x\":0.05},\"mapbox\":{\"style\":\"light\"}}},\"font\":{\"size\":16},\"margin\":{\"l\":50,\"r\":50,\"t\":50,\"b\":50},\"width\":800,\"height\":600,\"plot_bgcolor\":\"white\",\"paper_bgcolor\":\"white\"},                        {\"responsive\": true}                    ).then(function(){\n",
              "                            \n",
              "var gd = document.getElementById('2a840557-2373-4583-894d-283b0ad25404');\n",
              "var x = new MutationObserver(function (mutations, observer) {{\n",
              "        var display = window.getComputedStyle(gd).display;\n",
              "        if (!display || display === 'none') {{\n",
              "            console.log([gd, 'removed!']);\n",
              "            Plotly.purge(gd);\n",
              "            observer.disconnect();\n",
              "        }}\n",
              "}});\n",
              "\n",
              "// Listen for the removal of the full notebook cells\n",
              "var notebookContainer = gd.closest('#notebook-container');\n",
              "if (notebookContainer) {{\n",
              "    x.observe(notebookContainer, {childList: true});\n",
              "}}\n",
              "\n",
              "// Listen for the clearing of the current output cell\n",
              "var outputEl = gd.closest('.output');\n",
              "if (outputEl) {{\n",
              "    x.observe(outputEl, {childList: true});\n",
              "}}\n",
              "\n",
              "                        })                };                            </script>        </div>\n",
              "</body>\n",
              "</html>"
            ]
          },
          "metadata": {}
        },
        {
          "output_type": "stream",
          "name": "stderr",
          "text": [
            "/usr/local/lib/python3.10/dist-packages/optuna/visualization/_utils.py:67: UserWarning:\n",
            "\n",
            "`target` is specified, but `target_name` is the default value, 'Objective Value'.\n",
            "\n"
          ]
        },
        {
          "output_type": "display_data",
          "data": {
            "text/html": [
              "<html>\n",
              "<head><meta charset=\"utf-8\" /></head>\n",
              "<body>\n",
              "    <div>            <script src=\"https://cdnjs.cloudflare.com/ajax/libs/mathjax/2.7.5/MathJax.js?config=TeX-AMS-MML_SVG\"></script><script type=\"text/javascript\">if (window.MathJax && window.MathJax.Hub && window.MathJax.Hub.Config) {window.MathJax.Hub.Config({SVG: {font: \"STIX-Web\"}});}</script>                <script type=\"text/javascript\">window.PlotlyConfig = {MathJaxConfig: 'local'};</script>\n",
              "        <script charset=\"utf-8\" src=\"https://cdn.plot.ly/plotly-2.24.1.min.js\"></script>                <div id=\"ba6bb5ae-a8ef-4b1b-8edf-2ab98a3adf47\" class=\"plotly-graph-div\" style=\"height:600px; width:800px;\"></div>            <script type=\"text/javascript\">                                    window.PLOTLYENV=window.PLOTLYENV || {};                                    if (document.getElementById(\"ba6bb5ae-a8ef-4b1b-8edf-2ab98a3adf47\")) {                    Plotly.newPlot(                        \"ba6bb5ae-a8ef-4b1b-8edf-2ab98a3adf47\",                        [{\"cliponaxis\":false,\"hovertemplate\":\"%{y}: %{x}\",\"name\":\"Objective Value\",\"orientation\":\"h\",\"text\":[\"\\u003c0.01\",\"\\u003c0.01\",\"\\u003c0.01\",\"\\u003c0.01\",\"\\u003c0.01\",\"\\u003c0.01\",\"0.01\",\"0.01\",\"0.01\",\"0.01\",\"0.02\",\"0.02\",\"0.13\",\"0.15\",\"0.24\",\"0.38\"],\"textposition\":\"outside\",\"x\":[0.001549953875230834,0.002048908890249609,0.00446862839461635,0.004790706890182503,0.004830783755961058,0.005415488817640928,0.010302764089610249,0.01158943494770419,0.013144794127285234,0.013145389138821772,0.015944820732251536,0.01842231943072214,0.12879172714178286,0.14553949231469498,0.2372151013451784,0.3827996861080674],\"y\":[\"positional_encoding_type\",\"layer_norm\",\"time_masking\",\"time_warping\",\"encoder_layers\",\"use_linear_embedding\",\"self_conditioning\",\"gaussian_noise\",\"lr\",\"batch\",\"dropout_rate\",\"activation_function\",\"num_ffn_layers\",\"decoder_layers\",\"dim_feedforward\",\"phase_type\"],\"type\":\"bar\",\"marker\":{\"line\":{\"color\":\"RoyalBlue\",\"width\":1.5},\"color\":\"SkyBlue\"},\"opacity\":0.8}],                        {\"title\":{\"text\":\"Parameter Count Importances\",\"font\":{\"size\":20}},\"xaxis\":{\"title\":{\"text\":\"Hyperparameter Importance\"}},\"yaxis\":{\"title\":{\"text\":\"Hyperparameter\"},\"showgrid\":true,\"gridwidth\":1,\"gridcolor\":\"lightgrey\"},\"template\":{\"data\":{\"histogram2dcontour\":[{\"type\":\"histogram2dcontour\",\"colorbar\":{\"outlinewidth\":0,\"ticks\":\"\"},\"colorscale\":[[0.0,\"#0d0887\"],[0.1111111111111111,\"#46039f\"],[0.2222222222222222,\"#7201a8\"],[0.3333333333333333,\"#9c179e\"],[0.4444444444444444,\"#bd3786\"],[0.5555555555555556,\"#d8576b\"],[0.6666666666666666,\"#ed7953\"],[0.7777777777777778,\"#fb9f3a\"],[0.8888888888888888,\"#fdca26\"],[1.0,\"#f0f921\"]]}],\"choropleth\":[{\"type\":\"choropleth\",\"colorbar\":{\"outlinewidth\":0,\"ticks\":\"\"}}],\"histogram2d\":[{\"type\":\"histogram2d\",\"colorbar\":{\"outlinewidth\":0,\"ticks\":\"\"},\"colorscale\":[[0.0,\"#0d0887\"],[0.1111111111111111,\"#46039f\"],[0.2222222222222222,\"#7201a8\"],[0.3333333333333333,\"#9c179e\"],[0.4444444444444444,\"#bd3786\"],[0.5555555555555556,\"#d8576b\"],[0.6666666666666666,\"#ed7953\"],[0.7777777777777778,\"#fb9f3a\"],[0.8888888888888888,\"#fdca26\"],[1.0,\"#f0f921\"]]}],\"heatmap\":[{\"type\":\"heatmap\",\"colorbar\":{\"outlinewidth\":0,\"ticks\":\"\"},\"colorscale\":[[0.0,\"#0d0887\"],[0.1111111111111111,\"#46039f\"],[0.2222222222222222,\"#7201a8\"],[0.3333333333333333,\"#9c179e\"],[0.4444444444444444,\"#bd3786\"],[0.5555555555555556,\"#d8576b\"],[0.6666666666666666,\"#ed7953\"],[0.7777777777777778,\"#fb9f3a\"],[0.8888888888888888,\"#fdca26\"],[1.0,\"#f0f921\"]]}],\"heatmapgl\":[{\"type\":\"heatmapgl\",\"colorbar\":{\"outlinewidth\":0,\"ticks\":\"\"},\"colorscale\":[[0.0,\"#0d0887\"],[0.1111111111111111,\"#46039f\"],[0.2222222222222222,\"#7201a8\"],[0.3333333333333333,\"#9c179e\"],[0.4444444444444444,\"#bd3786\"],[0.5555555555555556,\"#d8576b\"],[0.6666666666666666,\"#ed7953\"],[0.7777777777777778,\"#fb9f3a\"],[0.8888888888888888,\"#fdca26\"],[1.0,\"#f0f921\"]]}],\"contourcarpet\":[{\"type\":\"contourcarpet\",\"colorbar\":{\"outlinewidth\":0,\"ticks\":\"\"}}],\"contour\":[{\"type\":\"contour\",\"colorbar\":{\"outlinewidth\":0,\"ticks\":\"\"},\"colorscale\":[[0.0,\"#0d0887\"],[0.1111111111111111,\"#46039f\"],[0.2222222222222222,\"#7201a8\"],[0.3333333333333333,\"#9c179e\"],[0.4444444444444444,\"#bd3786\"],[0.5555555555555556,\"#d8576b\"],[0.6666666666666666,\"#ed7953\"],[0.7777777777777778,\"#fb9f3a\"],[0.8888888888888888,\"#fdca26\"],[1.0,\"#f0f921\"]]}],\"surface\":[{\"type\":\"surface\",\"colorbar\":{\"outlinewidth\":0,\"ticks\":\"\"},\"colorscale\":[[0.0,\"#0d0887\"],[0.1111111111111111,\"#46039f\"],[0.2222222222222222,\"#7201a8\"],[0.3333333333333333,\"#9c179e\"],[0.4444444444444444,\"#bd3786\"],[0.5555555555555556,\"#d8576b\"],[0.6666666666666666,\"#ed7953\"],[0.7777777777777778,\"#fb9f3a\"],[0.8888888888888888,\"#fdca26\"],[1.0,\"#f0f921\"]]}],\"mesh3d\":[{\"type\":\"mesh3d\",\"colorbar\":{\"outlinewidth\":0,\"ticks\":\"\"}}],\"scatter\":[{\"fillpattern\":{\"fillmode\":\"overlay\",\"size\":10,\"solidity\":0.2},\"type\":\"scatter\"}],\"parcoords\":[{\"type\":\"parcoords\",\"line\":{\"colorbar\":{\"outlinewidth\":0,\"ticks\":\"\"}}}],\"scatterpolargl\":[{\"type\":\"scatterpolargl\",\"marker\":{\"colorbar\":{\"outlinewidth\":0,\"ticks\":\"\"}}}],\"bar\":[{\"error_x\":{\"color\":\"#2a3f5f\"},\"error_y\":{\"color\":\"#2a3f5f\"},\"marker\":{\"line\":{\"color\":\"#E5ECF6\",\"width\":0.5},\"pattern\":{\"fillmode\":\"overlay\",\"size\":10,\"solidity\":0.2}},\"type\":\"bar\"}],\"scattergeo\":[{\"type\":\"scattergeo\",\"marker\":{\"colorbar\":{\"outlinewidth\":0,\"ticks\":\"\"}}}],\"scatterpolar\":[{\"type\":\"scatterpolar\",\"marker\":{\"colorbar\":{\"outlinewidth\":0,\"ticks\":\"\"}}}],\"histogram\":[{\"marker\":{\"pattern\":{\"fillmode\":\"overlay\",\"size\":10,\"solidity\":0.2}},\"type\":\"histogram\"}],\"scattergl\":[{\"type\":\"scattergl\",\"marker\":{\"colorbar\":{\"outlinewidth\":0,\"ticks\":\"\"}}}],\"scatter3d\":[{\"type\":\"scatter3d\",\"line\":{\"colorbar\":{\"outlinewidth\":0,\"ticks\":\"\"}},\"marker\":{\"colorbar\":{\"outlinewidth\":0,\"ticks\":\"\"}}}],\"scattermapbox\":[{\"type\":\"scattermapbox\",\"marker\":{\"colorbar\":{\"outlinewidth\":0,\"ticks\":\"\"}}}],\"scatterternary\":[{\"type\":\"scatterternary\",\"marker\":{\"colorbar\":{\"outlinewidth\":0,\"ticks\":\"\"}}}],\"scattercarpet\":[{\"type\":\"scattercarpet\",\"marker\":{\"colorbar\":{\"outlinewidth\":0,\"ticks\":\"\"}}}],\"carpet\":[{\"aaxis\":{\"endlinecolor\":\"#2a3f5f\",\"gridcolor\":\"white\",\"linecolor\":\"white\",\"minorgridcolor\":\"white\",\"startlinecolor\":\"#2a3f5f\"},\"baxis\":{\"endlinecolor\":\"#2a3f5f\",\"gridcolor\":\"white\",\"linecolor\":\"white\",\"minorgridcolor\":\"white\",\"startlinecolor\":\"#2a3f5f\"},\"type\":\"carpet\"}],\"table\":[{\"cells\":{\"fill\":{\"color\":\"#EBF0F8\"},\"line\":{\"color\":\"white\"}},\"header\":{\"fill\":{\"color\":\"#C8D4E3\"},\"line\":{\"color\":\"white\"}},\"type\":\"table\"}],\"barpolar\":[{\"marker\":{\"line\":{\"color\":\"#E5ECF6\",\"width\":0.5},\"pattern\":{\"fillmode\":\"overlay\",\"size\":10,\"solidity\":0.2}},\"type\":\"barpolar\"}],\"pie\":[{\"automargin\":true,\"type\":\"pie\"}]},\"layout\":{\"autotypenumbers\":\"strict\",\"colorway\":[\"#636efa\",\"#EF553B\",\"#00cc96\",\"#ab63fa\",\"#FFA15A\",\"#19d3f3\",\"#FF6692\",\"#B6E880\",\"#FF97FF\",\"#FECB52\"],\"font\":{\"color\":\"#2a3f5f\"},\"hovermode\":\"closest\",\"hoverlabel\":{\"align\":\"left\"},\"paper_bgcolor\":\"white\",\"plot_bgcolor\":\"#E5ECF6\",\"polar\":{\"bgcolor\":\"#E5ECF6\",\"angularaxis\":{\"gridcolor\":\"white\",\"linecolor\":\"white\",\"ticks\":\"\"},\"radialaxis\":{\"gridcolor\":\"white\",\"linecolor\":\"white\",\"ticks\":\"\"}},\"ternary\":{\"bgcolor\":\"#E5ECF6\",\"aaxis\":{\"gridcolor\":\"white\",\"linecolor\":\"white\",\"ticks\":\"\"},\"baxis\":{\"gridcolor\":\"white\",\"linecolor\":\"white\",\"ticks\":\"\"},\"caxis\":{\"gridcolor\":\"white\",\"linecolor\":\"white\",\"ticks\":\"\"}},\"coloraxis\":{\"colorbar\":{\"outlinewidth\":0,\"ticks\":\"\"}},\"colorscale\":{\"sequential\":[[0.0,\"#0d0887\"],[0.1111111111111111,\"#46039f\"],[0.2222222222222222,\"#7201a8\"],[0.3333333333333333,\"#9c179e\"],[0.4444444444444444,\"#bd3786\"],[0.5555555555555556,\"#d8576b\"],[0.6666666666666666,\"#ed7953\"],[0.7777777777777778,\"#fb9f3a\"],[0.8888888888888888,\"#fdca26\"],[1.0,\"#f0f921\"]],\"sequentialminus\":[[0.0,\"#0d0887\"],[0.1111111111111111,\"#46039f\"],[0.2222222222222222,\"#7201a8\"],[0.3333333333333333,\"#9c179e\"],[0.4444444444444444,\"#bd3786\"],[0.5555555555555556,\"#d8576b\"],[0.6666666666666666,\"#ed7953\"],[0.7777777777777778,\"#fb9f3a\"],[0.8888888888888888,\"#fdca26\"],[1.0,\"#f0f921\"]],\"diverging\":[[0,\"#8e0152\"],[0.1,\"#c51b7d\"],[0.2,\"#de77ae\"],[0.3,\"#f1b6da\"],[0.4,\"#fde0ef\"],[0.5,\"#f7f7f7\"],[0.6,\"#e6f5d0\"],[0.7,\"#b8e186\"],[0.8,\"#7fbc41\"],[0.9,\"#4d9221\"],[1,\"#276419\"]]},\"xaxis\":{\"gridcolor\":\"white\",\"linecolor\":\"white\",\"ticks\":\"\",\"title\":{\"standoff\":15},\"zerolinecolor\":\"white\",\"automargin\":true,\"zerolinewidth\":2},\"yaxis\":{\"gridcolor\":\"white\",\"linecolor\":\"white\",\"ticks\":\"\",\"title\":{\"standoff\":15},\"zerolinecolor\":\"white\",\"automargin\":true,\"zerolinewidth\":2},\"scene\":{\"xaxis\":{\"backgroundcolor\":\"#E5ECF6\",\"gridcolor\":\"white\",\"linecolor\":\"white\",\"showbackground\":true,\"ticks\":\"\",\"zerolinecolor\":\"white\",\"gridwidth\":2},\"yaxis\":{\"backgroundcolor\":\"#E5ECF6\",\"gridcolor\":\"white\",\"linecolor\":\"white\",\"showbackground\":true,\"ticks\":\"\",\"zerolinecolor\":\"white\",\"gridwidth\":2},\"zaxis\":{\"backgroundcolor\":\"#E5ECF6\",\"gridcolor\":\"white\",\"linecolor\":\"white\",\"showbackground\":true,\"ticks\":\"\",\"zerolinecolor\":\"white\",\"gridwidth\":2}},\"shapedefaults\":{\"line\":{\"color\":\"#2a3f5f\"}},\"annotationdefaults\":{\"arrowcolor\":\"#2a3f5f\",\"arrowhead\":0,\"arrowwidth\":1},\"geo\":{\"bgcolor\":\"white\",\"landcolor\":\"#E5ECF6\",\"subunitcolor\":\"white\",\"showland\":true,\"showlakes\":true,\"lakecolor\":\"white\"},\"title\":{\"x\":0.05},\"mapbox\":{\"style\":\"light\"}}},\"font\":{\"size\":16},\"margin\":{\"l\":50,\"r\":50,\"t\":50,\"b\":50},\"width\":800,\"height\":600,\"plot_bgcolor\":\"white\",\"paper_bgcolor\":\"white\"},                        {\"responsive\": true}                    ).then(function(){\n",
              "                            \n",
              "var gd = document.getElementById('ba6bb5ae-a8ef-4b1b-8edf-2ab98a3adf47');\n",
              "var x = new MutationObserver(function (mutations, observer) {{\n",
              "        var display = window.getComputedStyle(gd).display;\n",
              "        if (!display || display === 'none') {{\n",
              "            console.log([gd, 'removed!']);\n",
              "            Plotly.purge(gd);\n",
              "            observer.disconnect();\n",
              "        }}\n",
              "}});\n",
              "\n",
              "// Listen for the removal of the full notebook cells\n",
              "var notebookContainer = gd.closest('#notebook-container');\n",
              "if (notebookContainer) {{\n",
              "    x.observe(notebookContainer, {childList: true});\n",
              "}}\n",
              "\n",
              "// Listen for the clearing of the current output cell\n",
              "var outputEl = gd.closest('.output');\n",
              "if (outputEl) {{\n",
              "    x.observe(outputEl, {childList: true});\n",
              "}}\n",
              "\n",
              "                        })                };                            </script>        </div>\n",
              "</body>\n",
              "</html>"
            ]
          },
          "metadata": {}
        },
        {
          "output_type": "stream",
          "name": "stderr",
          "text": [
            "/usr/local/lib/python3.10/dist-packages/optuna/visualization/_utils.py:67: UserWarning:\n",
            "\n",
            "`target` is specified, but `target_name` is the default value, 'Objective Value'.\n",
            "\n"
          ]
        },
        {
          "output_type": "display_data",
          "data": {
            "text/html": [
              "<html>\n",
              "<head><meta charset=\"utf-8\" /></head>\n",
              "<body>\n",
              "    <div>            <script src=\"https://cdnjs.cloudflare.com/ajax/libs/mathjax/2.7.5/MathJax.js?config=TeX-AMS-MML_SVG\"></script><script type=\"text/javascript\">if (window.MathJax && window.MathJax.Hub && window.MathJax.Hub.Config) {window.MathJax.Hub.Config({SVG: {font: \"STIX-Web\"}});}</script>                <script type=\"text/javascript\">window.PlotlyConfig = {MathJaxConfig: 'local'};</script>\n",
              "        <script charset=\"utf-8\" src=\"https://cdn.plot.ly/plotly-2.24.1.min.js\"></script>                <div id=\"e285316c-e4a1-41be-a137-04d0b8bb7179\" class=\"plotly-graph-div\" style=\"height:600px; width:800px;\"></div>            <script type=\"text/javascript\">                                    window.PLOTLYENV=window.PLOTLYENV || {};                                    if (document.getElementById(\"e285316c-e4a1-41be-a137-04d0b8bb7179\")) {                    Plotly.newPlot(                        \"e285316c-e4a1-41be-a137-04d0b8bb7179\",                        [{\"colorbar\":{\"title\":{\"text\":\"Objective Value\"}},\"colorscale\":[[0.0,\"rgb(247,251,255)\"],[0.125,\"rgb(222,235,247)\"],[0.25,\"rgb(198,219,239)\"],[0.375,\"rgb(158,202,225)\"],[0.5,\"rgb(107,174,214)\"],[0.625,\"rgb(66,146,198)\"],[0.75,\"rgb(33,113,181)\"],[0.875,\"rgb(8,81,156)\"],[1.0,\"rgb(8,48,107)\"]],\"connectgaps\":true,\"contours\":{\"coloring\":\"heatmap\"},\"hoverinfo\":\"none\",\"line\":{\"smoothing\":1.3},\"reversescale\":true,\"x\":[0.08978288529217754,0.10884220346384499,0.1200085735863445,0.12293663840303247,0.13420706570622498,0.14085192885479747,0.14096581591308013,0.1434620829372272,0.14504883403304214,0.15755218736118393,0.16034845845435416,0.16432274506042158,0.17408921511510106,0.1755270473695104,0.17647680175912042,0.17838497500731482,0.18149302634500797,0.18710689268239458,0.18804464014472938,0.20780580511497557,0.22012786014487762,0.24121966200349243,0.24160081590522192,0.26183065309386844,0.2738732337575882,0.2742957921126782,0.2792897833767456,0.2808977077197149,0.28144821973196754,0.2821235154259625,0.28536500123555963,0.2988391419998785,0.29963967097323696,0.3025646422813635,0.3049483887939451,0.30815049176297565,0.33951962766713273,0.3451687592003001,0.3494364708103783,0.34960030500764,0.3586472100619357,0.36964854585187046,0.38094868434603246,0.39761019593040847,0.40455434936703705,0.42197177185433854,0.4363757490368405,0.45011258071605265,0.455461270960672,0.48800046889393245,0.490028566897194,0.5090878850688614],\"y\":[-0.0002139975396184186,0.00021403687396746382,0.00022885177677631517,0.0004820401610306437,0.000567227604208751,0.0006292629352335902,0.0006765926523617158,0.0007846069201203881,0.0007919671711948061,0.0008433681060823115,0.0009595425445841162,0.0011061127535263778,0.0015330469159371858,0.0015858495544989377,0.0016422206597471545,0.0016631076921454545,0.0016682217526759592,0.0017522110550577334,0.0017732245206704242,0.0018764832749000922,0.001879072812171396,0.0019660695736915994,0.002178414836759579,0.0022470154513184503,0.0024401480366476255,0.0024487269996679214,0.0026072045694798185,0.002648123890499731,0.0033482470316095383,0.003377024972811726,0.0034422444353913837,0.003632166784770201,0.0036653417446946258,0.0038433506374495868,0.0039568078838434365,0.003998714877487622,0.004754857068358564,0.004917552241098538,0.004927022114765568,0.005251850310008038,0.005296315355644237,0.00536632978120047,0.005812322802663444,0.006117237721929171,0.006417316863162286,0.006547646503323721,0.006814970108424742,0.0068926179209177025,0.007130212758115732,0.0074755668499579845,0.007482095338125608,0.00801780882964574,0.008044460300715693,0.00847082058417735,0.008774725145685112,0.009202759559270995],\"z\":[[null,null,null,null,null,null,null,null,null,null,null,null,null,null,null,null,null,null,null,null,null,null,null,null,null,null,null,null,null,null,null,null,null,null,null,null,null,null,null,null,null,null,null,null,null,null,null,null,null,null,null,null],[null,0.9228821250963636,null,null,null,null,null,null,null,null,null,null,null,null,null,null,null,null,null,null,null,null,null,null,null,null,null,null,null,null,null,null,null,null,null,null,null,null,null,null,null,null,null,null,null,null,null,null,null,null,null,null],[null,null,null,null,null,0.9361652214468794,null,null,null,null,null,null,null,null,null,null,null,null,null,null,null,null,null,null,null,null,null,null,null,null,null,null,null,null,null,null,null,null,null,null,null,null,null,null,null,null,null,null,null,null,null,null],[null,null,null,null,null,null,null,null,null,null,null,null,null,null,null,null,null,null,null,null,null,null,null,null,null,null,null,null,null,null,null,null,null,null,null,null,null,null,null,null,0.9234518080438258,null,null,null,null,null,null,null,null,null,null,null],[null,null,null,null,null,null,null,null,null,null,null,null,null,null,null,null,null,null,null,null,null,null,null,null,null,null,null,null,null,null,null,null,null,null,null,null,null,null,null,null,null,null,0.5427267738228322,null,null,null,null,null,null,null,null,null],[null,null,null,null,null,null,null,null,null,null,null,null,null,null,null,null,null,null,null,null,null,null,null,null,null,null,null,null,null,0.9480304894715638,null,null,null,null,null,null,null,null,null,null,null,null,null,null,null,null,null,null,null,null,null,null],[null,null,null,null,null,null,null,null,null,null,null,null,null,null,null,null,null,null,0.947430087338298,null,null,null,null,null,null,null,null,null,null,null,null,null,null,null,null,null,null,null,null,null,null,null,null,null,null,null,null,null,null,null,null,null],[null,null,null,null,null,null,null,null,null,null,null,null,null,null,null,null,null,null,null,null,null,null,null,null,null,null,null,null,null,null,null,null,null,null,null,null,null,null,null,null,null,0.9183498409887686,null,null,null,null,null,null,null,null,null,null],[null,null,null,null,null,null,null,null,null,null,null,null,null,null,null,null,null,null,null,null,null,null,null,null,null,null,null,null,null,null,null,null,null,null,null,0.9245932864934128,null,null,null,null,null,null,null,null,null,null,null,null,null,null,null,null],[null,null,null,null,null,null,null,null,null,null,null,null,null,null,null,null,0.9385144550798125,null,null,null,null,null,null,null,null,null,null,null,null,null,null,null,null,null,null,null,null,null,null,null,null,null,null,null,null,null,null,null,null,null,null,null],[null,null,null,null,null,null,null,null,null,null,null,null,null,null,null,null,null,null,null,null,null,null,null,null,0.7679466990120394,null,null,null,null,null,null,null,null,null,null,null,null,null,null,null,null,null,null,null,null,null,null,null,null,null,null,null],[null,null,null,null,null,null,null,null,null,null,null,null,null,null,null,null,null,null,null,null,null,null,null,0.5805801839296872,null,null,null,null,null,null,null,null,null,null,null,null,null,null,null,null,null,null,null,null,null,null,null,null,null,null,null,null],[null,null,null,null,null,null,null,null,null,null,null,null,null,null,null,null,null,null,null,null,null,null,null,null,null,0.7789573401663761,null,null,null,null,null,null,null,null,null,null,null,null,null,null,null,null,null,null,null,null,null,null,null,null,null,null],[null,null,null,null,null,null,null,null,null,0.7691093834785223,null,null,null,null,null,null,null,null,null,null,null,null,null,null,null,null,null,null,null,null,null,null,null,null,null,null,null,null,null,null,null,null,null,null,null,null,null,null,null,null,null,null],[null,null,null,null,null,null,null,null,null,null,null,null,null,0.5172077457927527,null,null,null,null,null,null,null,null,null,null,null,null,null,null,null,null,null,null,null,null,null,null,null,null,null,null,null,null,null,null,null,null,null,null,null,null,null,null],[null,null,null,null,null,null,null,null,null,null,null,null,null,null,null,null,0.7987138272797472,null,null,null,null,null,null,null,null,null,null,null,null,null,null,null,0.5740870990965492,null,null,null,null,null,null,null,null,null,null,null,null,null,null,null,null,null,null,null],[null,null,null,null,null,null,0.9583550220412367,null,0.5403463553469913,null,null,null,null,null,null,null,null,null,null,null,null,null,null,null,null,null,null,null,null,null,null,null,null,null,null,null,null,null,null,null,null,null,null,null,null,null,null,null,null,null,null,null],[null,null,null,null,null,null,null,null,null,null,null,null,null,null,null,null,null,null,null,null,null,null,null,null,null,null,null,null,null,null,null,null,null,null,null,null,null,null,null,null,null,null,null,null,0.9274593669727764,null,null,null,null,null,null,null],[null,null,null,null,null,null,null,null,null,null,null,null,null,null,null,null,null,null,null,null,null,null,null,null,null,null,null,null,null,null,null,null,null,null,0.5756967163902276,null,null,null,null,null,null,null,null,null,null,null,null,null,null,null,null,null],[null,null,null,null,null,null,null,null,null,null,null,null,null,null,null,null,null,null,null,null,null,null,null,null,null,null,null,null,null,null,null,null,null,null,null,null,null,null,null,null,null,null,null,0.9456334352113032,null,null,null,null,null,null,null,null],[null,null,null,null,null,null,null,null,0.0,null,null,null,null,null,null,null,null,null,null,null,null,null,null,null,null,null,null,null,null,null,null,null,null,null,null,null,null,null,0.9268847302604346,null,null,null,null,null,null,null,null,null,null,null,null,null],[null,null,null,null,null,null,null,0.7644796423454926,null,null,null,null,null,null,null,null,null,null,null,null,null,null,null,null,null,null,null,null,null,null,0.7650553094923715,null,null,null,null,null,null,null,null,null,null,null,null,null,null,null,null,null,null,null,null,null],[null,null,null,null,null,null,null,null,null,null,null,null,null,null,null,null,null,null,null,null,null,null,null,null,null,null,null,0.798828848469786,null,null,null,null,null,null,null,null,null,null,null,null,null,null,null,null,null,null,null,null,null,null,null,null],[null,null,null,0.7503643201607041,null,null,null,null,null,null,null,null,null,null,null,null,null,null,null,null,null,null,null,null,null,null,null,null,null,null,null,null,null,null,null,null,null,null,null,null,null,null,null,null,null,null,null,null,null,null,null,null],[null,null,null,null,null,null,null,null,null,null,null,null,0.5150454732476101,null,null,null,null,null,null,null,null,null,null,null,null,null,null,null,null,null,null,null,null,null,null,null,null,null,null,null,null,null,null,null,null,null,null,null,null,null,null,null],[null,null,null,null,null,null,null,null,null,null,null,null,null,null,null,null,null,null,null,null,null,0.5456111077289126,null,null,null,null,null,null,null,null,null,null,null,null,null,null,null,null,null,null,null,null,null,null,null,null,null,null,null,null,null,null],[null,null,null,null,null,null,null,null,null,null,null,null,null,null,null,null,null,null,null,null,null,null,null,null,null,null,null,null,null,null,null,null,null,null,null,null,null,null,null,null,null,null,null,null,null,null,null,null,null,null,0.9444394479780467,null],[null,null,null,null,null,null,null,null,null,null,null,null,null,null,null,null,null,null,null,null,0.5347176588206002,null,null,null,null,null,null,null,null,null,null,null,null,null,null,null,null,null,null,null,null,null,null,null,null,null,null,null,null,null,null,null],[null,null,null,null,null,null,null,0.9516489436256526,null,null,null,null,null,null,null,null,null,null,null,null,null,null,null,null,null,null,null,null,null,null,null,null,null,null,null,null,null,null,null,null,null,null,null,null,null,null,null,null,null,null,null,null],[null,null,null,null,null,null,null,null,null,null,null,null,null,null,null,null,null,null,null,0.7953506129594079,null,null,null,null,null,null,null,null,null,null,null,null,null,null,null,null,null,null,null,null,null,null,null,null,null,null,null,null,null,null,null,null],[null,null,null,null,null,null,null,null,null,null,0.7789573401663761,null,null,null,null,null,null,null,null,null,null,null,null,null,null,null,null,null,null,null,null,null,null,null,null,null,null,null,null,null,null,null,null,null,null,null,null,null,null,null,null,null],[null,null,null,null,null,null,null,null,null,null,null,null,null,null,null,null,null,null,null,null,null,null,null,null,null,null,null,null,null,null,null,null,null,null,null,null,null,null,null,null,null,null,null,null,null,null,null,0.9408755088116387,null,null,null,null],[null,null,null,null,0.5120484884646987,null,null,null,null,null,null,null,null,null,null,null,null,null,null,null,null,null,null,null,null,null,null,null,null,null,null,null,null,null,null,null,null,null,null,null,null,null,null,null,null,null,null,null,null,null,null,null],[null,null,null,null,null,null,null,null,null,null,null,null,null,null,null,null,null,null,null,null,null,0.5159082090944049,null,null,null,null,0.5150454732476101,null,null,null,null,null,null,null,null,null,null,null,null,null,null,null,null,null,null,null,null,null,null,null,null,null],[null,null,null,null,null,null,null,null,null,null,null,null,null,null,null,null,null,null,null,null,null,null,0.535182234049675,null,null,null,null,null,null,null,null,null,null,null,null,null,null,null,null,null,null,null,null,null,null,null,null,null,null,null,null,null],[null,null,null,null,null,null,null,null,null,null,null,null,null,null,null,null,null,null,null,null,null,null,null,null,null,null,null,null,null,null,null,null,null,0.7503643201607041,null,null,null,null,null,null,null,null,null,null,null,null,null,null,null,null,null,null],[null,null,null,null,null,null,null,null,null,null,null,null,null,null,null,null,null,null,null,null,null,null,null,null,null,null,null,null,null,null,null,null,null,null,null,null,null,null,null,null,null,null,null,null,null,null,null,null,null,0.5564545053137837,null,null],[null,null,null,null,null,null,null,null,null,null,null,null,null,null,null,null,null,null,null,null,null,null,null,null,null,null,null,null,null,null,null,null,null,null,null,0.8070642592176991,null,null,null,null,null,null,null,null,null,null,null,null,null,null,null,null],[null,null,null,null,null,null,null,null,null,null,null,null,null,null,null,null,null,null,null,null,null,null,null,null,null,null,null,null,null,null,null,null,null,null,null,0.9291875601361991,null,null,null,null,null,null,null,null,null,null,null,null,null,null,null,null],[null,null,null,null,null,null,null,null,null,null,null,0.9268847302604346,null,null,null,null,null,null,null,null,null,null,null,null,null,null,null,null,null,null,null,null,null,null,null,null,null,null,null,null,null,null,null,null,null,null,null,null,null,null,null,null],[null,null,null,null,null,null,null,null,null,null,null,null,null,null,null,null,null,null,null,null,null,null,null,null,null,null,null,null,0.745956858328411,null,null,null,null,null,null,null,null,null,null,null,null,null,null,null,null,null,null,null,null,null,null,null],[null,null,null,null,null,null,null,null,null,null,null,null,null,null,null,null,null,null,null,null,null,null,null,null,null,null,null,null,null,null,null,null,null,null,null,null,0.9234518080438258,null,null,null,null,null,null,null,null,null,null,null,null,null,null,null],[null,null,null,null,null,null,null,null,null,null,null,null,null,null,null,null,null,null,null,null,null,null,null,null,null,null,null,null,null,null,null,null,null,null,null,null,null,null,null,null,null,null,null,null,null,null,0.7994115142507565,null,null,null,null,null],[null,null,null,null,null,null,null,0.5427267738228322,null,null,null,null,null,null,null,null,null,null,null,null,null,null,null,null,null,null,null,null,null,null,null,null,null,null,null,null,null,null,null,null,null,null,null,null,null,null,null,null,null,null,null,null],[null,null,null,null,null,null,null,null,null,null,null,null,null,null,null,null,null,null,null,null,null,null,null,null,null,null,null,null,null,null,null,null,null,null,null,null,null,null,null,null,null,null,null,null,null,0.952254706491707,null,null,null,null,null,null],[null,null,null,null,null,null,null,null,null,null,null,null,null,null,null,null,null,null,null,null,null,null,null,null,null,null,null,null,null,null,null,null,null,null,null,null,null,0.7465049574349238,null,null,null,null,null,null,null,null,null,null,null,null,null,null],[null,null,0.9338277193723609,null,null,null,null,null,null,null,null,null,null,null,null,null,null,null,null,null,null,null,null,null,null,null,null,null,null,null,null,null,null,null,null,null,null,null,null,null,null,null,null,null,null,null,null,null,null,null,null,null],[null,null,null,null,null,null,null,null,null,null,null,null,null,null,null,null,null,null,null,null,null,null,null,null,null,null,null,null,null,null,null,null,null,null,null,null,null,null,null,0.7616142527555747,null,null,null,null,null,null,null,null,null,null,null,null],[null,null,null,null,null,null,null,null,null,null,null,null,null,null,null,null,null,null,null,null,null,null,null,null,null,null,null,null,null,null,null,0.7525876399556267,null,null,null,null,null,null,null,null,null,null,null,0.802925437248291,null,null,null,null,null,null,null,null],[null,null,null,null,null,null,null,null,null,null,null,null,null,null,null,null,null,null,null,null,null,null,null,null,null,null,null,null,null,null,null,null,null,null,null,null,null,null,null,null,null,null,null,null,null,0.5470648019570354,null,null,null,null,null,null],[null,null,null,null,null,null,null,null,null,null,null,null,null,null,null,0.7906566011351729,null,null,null,null,null,null,null,null,null,null,null,null,null,null,null,null,null,null,null,null,null,null,null,null,null,null,null,null,null,null,null,null,null,null,null,null],[null,null,null,null,null,null,null,null,null,null,null,null,null,null,null,null,null,0.7298800749281755,null,null,null,null,null,null,null,null,null,null,null,null,null,null,null,null,null,null,null,null,null,null,null,null,null,null,null,null,null,null,null,null,null,null],[null,null,null,null,null,null,null,null,0.0,null,null,null,null,null,null,null,null,null,null,null,null,null,null,null,null,null,null,null,null,null,null,null,null,null,null,null,null,null,null,null,null,null,null,null,null,null,null,null,null,null,null,null],[null,null,null,null,null,null,null,null,null,null,null,null,null,null,null,null,null,null,null,null,null,null,null,null,null,null,null,null,null,null,null,null,null,null,null,null,null,null,null,null,null,null,null,null,null,null,null,null,0.4854167441944413,null,null,null],[null,null,null,null,null,null,null,null,null,null,null,null,null,null,0.5273926455881524,null,null,null,null,null,null,null,null,null,null,null,null,null,null,null,null,null,null,null,null,null,null,null,null,null,null,null,null,null,null,null,null,null,null,null,null,null],[null,null,null,null,null,null,null,null,null,null,null,null,null,null,null,null,null,null,null,null,null,null,null,null,null,null,null,null,null,null,null,null,null,null,null,null,null,null,null,null,null,null,null,null,null,null,null,null,null,null,null,null]],\"type\":\"contour\"},{\"marker\":{\"color\":\"black\",\"line\":{\"color\":\"Gray\",\"width\":2.0}},\"mode\":\"markers\",\"name\":\"Feasible Trial\",\"showlegend\":false,\"x\":[0.42197177185433854,0.3494364708103783,0.18804464014472938,0.1200085735863445,0.45011258071605265,0.12293663840303247,0.18710689268239458,0.14085192885479747,0.14504883403304214,0.18149302634500797,0.3451687592003001,0.24121966200349243,0.13420706570622498,0.1755270473695104,0.22012786014487762,0.2792897833767456,0.36964854585187046,0.2988391419998785,0.38094868434603246,0.3049483887939451,0.30815049176297565,0.17408921511510106,0.24160081590522192,0.1434620829372272,0.2821235154259625,0.2808977077197149,0.17647680175912042,0.40455434936703705,0.10884220346384499,0.33951962766713273,0.39761019593040847,0.16432274506042158,0.28536500123555963,0.455461270960672,0.16034845845435416,0.490028566897194,0.4363757490368405,0.3025646422813635,0.28144821973196754,0.2742957921126782,0.34960030500764,0.15755218736118393,0.2738732337575882,0.29963967097323696,0.17838497500731482,0.14096581591308013,0.3586472100619357,0.26183065309386844,0.48800046889393245,0.20780580511497557,0.39761019593040847,0.2821235154259625,0.3049483887939451,0.42197177185433854,0.18710689268239458,0.14096581591308013,0.14504883403304214,0.14504883403304214,0.3049483887939451,0.14085192885479747,0.30815049176297565,0.30815049176297565,0.18149302634500797,0.2988391419998785,0.48800046889393245,0.3494364708103783,0.40455434936703705,0.48800046889393245,0.24121966200349243,0.39761019593040847,0.1434620829372272,0.1434620829372272,0.45011258071605265,0.12293663840303247],\"y\":[0.006417316863162286,0.001879072812171396,0.0006765926523617158,0.006814970108424742,0.003632166784770201,0.0022470154513184503,0.00801780882964574,0.00022885177677631517,0.008044460300715693,0.0008433681060823115,0.006547646503323721,0.0024487269996679214,0.0036653417446946258,0.0016422206597471545,0.002648123890499731,0.0038433506374495868,0.0007846069201203881,0.007130212758115732,0.000567227604208751,0.0017732245206704242,0.004917552241098538,0.0024401480366476255,0.0039568078838434365,0.0033482470316095383,0.0006292629352335902,0.002178414836759579,0.008774725145685112,0.0017522110550577334,0.00021403687396746382,0.00536632978120047,0.0018764832749000922,0.005251850310008038,0.0019660695736915994,0.00847082058417735,0.0034422444353913837,0.0026072045694798185,0.005812322802663444,0.003998714877487622,0.005296315355644237,0.0015330469159371858,0.0068926179209177025,0.0015858495544989377,0.0009595425445841162,0.0016631076921454545,0.007482095338125608,0.0016682217526759592,0.0004820401610306437,0.0011061127535263778,0.004754857068358564,0.003377024972811726,0.0018764832749000922,0.0006292629352335902,0.0017732245206704242,0.0074755668499579845,0.00801780882964574,0.0016682217526759592,0.001879072812171396,0.0016682217526759592,0.0017732245206704242,0.00022885177677631517,0.0007919671711948061,0.004927022114765568,0.0016631076921454545,0.007130212758115732,0.004754857068358564,0.001879072812171396,0.0017522110550577334,0.004754857068358564,0.0038433506374495868,0.007130212758115732,0.0019660695736915994,0.006117237721929171,0.003632166784770201,0.0022470154513184503],\"type\":\"scatter\"},{\"marker\":{\"color\":\"#cccccc\",\"line\":{\"color\":\"Gray\",\"width\":2.0}},\"mode\":\"markers\",\"name\":\"Infeasible Trial\",\"showlegend\":false,\"x\":[],\"y\":[],\"type\":\"scatter\"}],                        {\"title\":{\"text\":\"Contour Plot\",\"font\":{\"size\":20}},\"template\":{\"data\":{\"histogram2dcontour\":[{\"type\":\"histogram2dcontour\",\"colorbar\":{\"outlinewidth\":0,\"ticks\":\"\"},\"colorscale\":[[0.0,\"#0d0887\"],[0.1111111111111111,\"#46039f\"],[0.2222222222222222,\"#7201a8\"],[0.3333333333333333,\"#9c179e\"],[0.4444444444444444,\"#bd3786\"],[0.5555555555555556,\"#d8576b\"],[0.6666666666666666,\"#ed7953\"],[0.7777777777777778,\"#fb9f3a\"],[0.8888888888888888,\"#fdca26\"],[1.0,\"#f0f921\"]]}],\"choropleth\":[{\"type\":\"choropleth\",\"colorbar\":{\"outlinewidth\":0,\"ticks\":\"\"}}],\"histogram2d\":[{\"type\":\"histogram2d\",\"colorbar\":{\"outlinewidth\":0,\"ticks\":\"\"},\"colorscale\":[[0.0,\"#0d0887\"],[0.1111111111111111,\"#46039f\"],[0.2222222222222222,\"#7201a8\"],[0.3333333333333333,\"#9c179e\"],[0.4444444444444444,\"#bd3786\"],[0.5555555555555556,\"#d8576b\"],[0.6666666666666666,\"#ed7953\"],[0.7777777777777778,\"#fb9f3a\"],[0.8888888888888888,\"#fdca26\"],[1.0,\"#f0f921\"]]}],\"heatmap\":[{\"type\":\"heatmap\",\"colorbar\":{\"outlinewidth\":0,\"ticks\":\"\"},\"colorscale\":[[0.0,\"#0d0887\"],[0.1111111111111111,\"#46039f\"],[0.2222222222222222,\"#7201a8\"],[0.3333333333333333,\"#9c179e\"],[0.4444444444444444,\"#bd3786\"],[0.5555555555555556,\"#d8576b\"],[0.6666666666666666,\"#ed7953\"],[0.7777777777777778,\"#fb9f3a\"],[0.8888888888888888,\"#fdca26\"],[1.0,\"#f0f921\"]]}],\"heatmapgl\":[{\"type\":\"heatmapgl\",\"colorbar\":{\"outlinewidth\":0,\"ticks\":\"\"},\"colorscale\":[[0.0,\"#0d0887\"],[0.1111111111111111,\"#46039f\"],[0.2222222222222222,\"#7201a8\"],[0.3333333333333333,\"#9c179e\"],[0.4444444444444444,\"#bd3786\"],[0.5555555555555556,\"#d8576b\"],[0.6666666666666666,\"#ed7953\"],[0.7777777777777778,\"#fb9f3a\"],[0.8888888888888888,\"#fdca26\"],[1.0,\"#f0f921\"]]}],\"contourcarpet\":[{\"type\":\"contourcarpet\",\"colorbar\":{\"outlinewidth\":0,\"ticks\":\"\"}}],\"contour\":[{\"type\":\"contour\",\"colorbar\":{\"outlinewidth\":0,\"ticks\":\"\"},\"colorscale\":[[0.0,\"#0d0887\"],[0.1111111111111111,\"#46039f\"],[0.2222222222222222,\"#7201a8\"],[0.3333333333333333,\"#9c179e\"],[0.4444444444444444,\"#bd3786\"],[0.5555555555555556,\"#d8576b\"],[0.6666666666666666,\"#ed7953\"],[0.7777777777777778,\"#fb9f3a\"],[0.8888888888888888,\"#fdca26\"],[1.0,\"#f0f921\"]]}],\"surface\":[{\"type\":\"surface\",\"colorbar\":{\"outlinewidth\":0,\"ticks\":\"\"},\"colorscale\":[[0.0,\"#0d0887\"],[0.1111111111111111,\"#46039f\"],[0.2222222222222222,\"#7201a8\"],[0.3333333333333333,\"#9c179e\"],[0.4444444444444444,\"#bd3786\"],[0.5555555555555556,\"#d8576b\"],[0.6666666666666666,\"#ed7953\"],[0.7777777777777778,\"#fb9f3a\"],[0.8888888888888888,\"#fdca26\"],[1.0,\"#f0f921\"]]}],\"mesh3d\":[{\"type\":\"mesh3d\",\"colorbar\":{\"outlinewidth\":0,\"ticks\":\"\"}}],\"scatter\":[{\"fillpattern\":{\"fillmode\":\"overlay\",\"size\":10,\"solidity\":0.2},\"type\":\"scatter\"}],\"parcoords\":[{\"type\":\"parcoords\",\"line\":{\"colorbar\":{\"outlinewidth\":0,\"ticks\":\"\"}}}],\"scatterpolargl\":[{\"type\":\"scatterpolargl\",\"marker\":{\"colorbar\":{\"outlinewidth\":0,\"ticks\":\"\"}}}],\"bar\":[{\"error_x\":{\"color\":\"#2a3f5f\"},\"error_y\":{\"color\":\"#2a3f5f\"},\"marker\":{\"line\":{\"color\":\"#E5ECF6\",\"width\":0.5},\"pattern\":{\"fillmode\":\"overlay\",\"size\":10,\"solidity\":0.2}},\"type\":\"bar\"}],\"scattergeo\":[{\"type\":\"scattergeo\",\"marker\":{\"colorbar\":{\"outlinewidth\":0,\"ticks\":\"\"}}}],\"scatterpolar\":[{\"type\":\"scatterpolar\",\"marker\":{\"colorbar\":{\"outlinewidth\":0,\"ticks\":\"\"}}}],\"histogram\":[{\"marker\":{\"pattern\":{\"fillmode\":\"overlay\",\"size\":10,\"solidity\":0.2}},\"type\":\"histogram\"}],\"scattergl\":[{\"type\":\"scattergl\",\"marker\":{\"colorbar\":{\"outlinewidth\":0,\"ticks\":\"\"}}}],\"scatter3d\":[{\"type\":\"scatter3d\",\"line\":{\"colorbar\":{\"outlinewidth\":0,\"ticks\":\"\"}},\"marker\":{\"colorbar\":{\"outlinewidth\":0,\"ticks\":\"\"}}}],\"scattermapbox\":[{\"type\":\"scattermapbox\",\"marker\":{\"colorbar\":{\"outlinewidth\":0,\"ticks\":\"\"}}}],\"scatterternary\":[{\"type\":\"scatterternary\",\"marker\":{\"colorbar\":{\"outlinewidth\":0,\"ticks\":\"\"}}}],\"scattercarpet\":[{\"type\":\"scattercarpet\",\"marker\":{\"colorbar\":{\"outlinewidth\":0,\"ticks\":\"\"}}}],\"carpet\":[{\"aaxis\":{\"endlinecolor\":\"#2a3f5f\",\"gridcolor\":\"white\",\"linecolor\":\"white\",\"minorgridcolor\":\"white\",\"startlinecolor\":\"#2a3f5f\"},\"baxis\":{\"endlinecolor\":\"#2a3f5f\",\"gridcolor\":\"white\",\"linecolor\":\"white\",\"minorgridcolor\":\"white\",\"startlinecolor\":\"#2a3f5f\"},\"type\":\"carpet\"}],\"table\":[{\"cells\":{\"fill\":{\"color\":\"#EBF0F8\"},\"line\":{\"color\":\"white\"}},\"header\":{\"fill\":{\"color\":\"#C8D4E3\"},\"line\":{\"color\":\"white\"}},\"type\":\"table\"}],\"barpolar\":[{\"marker\":{\"line\":{\"color\":\"#E5ECF6\",\"width\":0.5},\"pattern\":{\"fillmode\":\"overlay\",\"size\":10,\"solidity\":0.2}},\"type\":\"barpolar\"}],\"pie\":[{\"automargin\":true,\"type\":\"pie\"}]},\"layout\":{\"autotypenumbers\":\"strict\",\"colorway\":[\"#636efa\",\"#EF553B\",\"#00cc96\",\"#ab63fa\",\"#FFA15A\",\"#19d3f3\",\"#FF6692\",\"#B6E880\",\"#FF97FF\",\"#FECB52\"],\"font\":{\"color\":\"#2a3f5f\"},\"hovermode\":\"closest\",\"hoverlabel\":{\"align\":\"left\"},\"paper_bgcolor\":\"white\",\"plot_bgcolor\":\"#E5ECF6\",\"polar\":{\"bgcolor\":\"#E5ECF6\",\"angularaxis\":{\"gridcolor\":\"white\",\"linecolor\":\"white\",\"ticks\":\"\"},\"radialaxis\":{\"gridcolor\":\"white\",\"linecolor\":\"white\",\"ticks\":\"\"}},\"ternary\":{\"bgcolor\":\"#E5ECF6\",\"aaxis\":{\"gridcolor\":\"white\",\"linecolor\":\"white\",\"ticks\":\"\"},\"baxis\":{\"gridcolor\":\"white\",\"linecolor\":\"white\",\"ticks\":\"\"},\"caxis\":{\"gridcolor\":\"white\",\"linecolor\":\"white\",\"ticks\":\"\"}},\"coloraxis\":{\"colorbar\":{\"outlinewidth\":0,\"ticks\":\"\"}},\"colorscale\":{\"sequential\":[[0.0,\"#0d0887\"],[0.1111111111111111,\"#46039f\"],[0.2222222222222222,\"#7201a8\"],[0.3333333333333333,\"#9c179e\"],[0.4444444444444444,\"#bd3786\"],[0.5555555555555556,\"#d8576b\"],[0.6666666666666666,\"#ed7953\"],[0.7777777777777778,\"#fb9f3a\"],[0.8888888888888888,\"#fdca26\"],[1.0,\"#f0f921\"]],\"sequentialminus\":[[0.0,\"#0d0887\"],[0.1111111111111111,\"#46039f\"],[0.2222222222222222,\"#7201a8\"],[0.3333333333333333,\"#9c179e\"],[0.4444444444444444,\"#bd3786\"],[0.5555555555555556,\"#d8576b\"],[0.6666666666666666,\"#ed7953\"],[0.7777777777777778,\"#fb9f3a\"],[0.8888888888888888,\"#fdca26\"],[1.0,\"#f0f921\"]],\"diverging\":[[0,\"#8e0152\"],[0.1,\"#c51b7d\"],[0.2,\"#de77ae\"],[0.3,\"#f1b6da\"],[0.4,\"#fde0ef\"],[0.5,\"#f7f7f7\"],[0.6,\"#e6f5d0\"],[0.7,\"#b8e186\"],[0.8,\"#7fbc41\"],[0.9,\"#4d9221\"],[1,\"#276419\"]]},\"xaxis\":{\"gridcolor\":\"white\",\"linecolor\":\"white\",\"ticks\":\"\",\"title\":{\"standoff\":15},\"zerolinecolor\":\"white\",\"automargin\":true,\"zerolinewidth\":2},\"yaxis\":{\"gridcolor\":\"white\",\"linecolor\":\"white\",\"ticks\":\"\",\"title\":{\"standoff\":15},\"zerolinecolor\":\"white\",\"automargin\":true,\"zerolinewidth\":2},\"scene\":{\"xaxis\":{\"backgroundcolor\":\"#E5ECF6\",\"gridcolor\":\"white\",\"linecolor\":\"white\",\"showbackground\":true,\"ticks\":\"\",\"zerolinecolor\":\"white\",\"gridwidth\":2},\"yaxis\":{\"backgroundcolor\":\"#E5ECF6\",\"gridcolor\":\"white\",\"linecolor\":\"white\",\"showbackground\":true,\"ticks\":\"\",\"zerolinecolor\":\"white\",\"gridwidth\":2},\"zaxis\":{\"backgroundcolor\":\"#E5ECF6\",\"gridcolor\":\"white\",\"linecolor\":\"white\",\"showbackground\":true,\"ticks\":\"\",\"zerolinecolor\":\"white\",\"gridwidth\":2}},\"shapedefaults\":{\"line\":{\"color\":\"#2a3f5f\"}},\"annotationdefaults\":{\"arrowcolor\":\"#2a3f5f\",\"arrowhead\":0,\"arrowwidth\":1},\"geo\":{\"bgcolor\":\"white\",\"landcolor\":\"#E5ECF6\",\"subunitcolor\":\"white\",\"showland\":true,\"showlakes\":true,\"lakecolor\":\"white\"},\"title\":{\"x\":0.05},\"mapbox\":{\"style\":\"light\"}}},\"xaxis\":{\"title\":{\"text\":\"dropout_rate\"},\"range\":[0.08978288529217754,0.5090878850688614]},\"yaxis\":{\"title\":{\"text\":\"lr\"},\"range\":[-0.0002139975396184186,0.009202759559270995]},\"font\":{\"size\":16},\"width\":800,\"height\":600},                        {\"responsive\": true}                    ).then(function(){\n",
              "                            \n",
              "var gd = document.getElementById('e285316c-e4a1-41be-a137-04d0b8bb7179');\n",
              "var x = new MutationObserver(function (mutations, observer) {{\n",
              "        var display = window.getComputedStyle(gd).display;\n",
              "        if (!display || display === 'none') {{\n",
              "            console.log([gd, 'removed!']);\n",
              "            Plotly.purge(gd);\n",
              "            observer.disconnect();\n",
              "        }}\n",
              "}});\n",
              "\n",
              "// Listen for the removal of the full notebook cells\n",
              "var notebookContainer = gd.closest('#notebook-container');\n",
              "if (notebookContainer) {{\n",
              "    x.observe(notebookContainer, {childList: true});\n",
              "}}\n",
              "\n",
              "// Listen for the clearing of the current output cell\n",
              "var outputEl = gd.closest('.output');\n",
              "if (outputEl) {{\n",
              "    x.observe(outputEl, {childList: true});\n",
              "}}\n",
              "\n",
              "                        })                };                            </script>        </div>\n",
              "</body>\n",
              "</html>"
            ]
          },
          "metadata": {}
        },
        {
          "output_type": "display_data",
          "data": {
            "text/html": [
              "<html>\n",
              "<head><meta charset=\"utf-8\" /></head>\n",
              "<body>\n",
              "    <div>            <script src=\"https://cdnjs.cloudflare.com/ajax/libs/mathjax/2.7.5/MathJax.js?config=TeX-AMS-MML_SVG\"></script><script type=\"text/javascript\">if (window.MathJax && window.MathJax.Hub && window.MathJax.Hub.Config) {window.MathJax.Hub.Config({SVG: {font: \"STIX-Web\"}});}</script>                <script type=\"text/javascript\">window.PlotlyConfig = {MathJaxConfig: 'local'};</script>\n",
              "        <script charset=\"utf-8\" src=\"https://cdn.plot.ly/plotly-2.24.1.min.js\"></script>                <div id=\"084b2ae9-2ecd-4516-9d95-635effc1f94f\" class=\"plotly-graph-div\" style=\"height:525px; width:100%;\"></div>            <script type=\"text/javascript\">                                    window.PLOTLYENV=window.PLOTLYENV || {};                                    if (document.getElementById(\"084b2ae9-2ecd-4516-9d95-635effc1f94f\")) {                    Plotly.newPlot(                        \"084b2ae9-2ecd-4516-9d95-635effc1f94f\",                        [{\"dimensions\":[{\"label\":\"Objective Value\",\"range\":[0.0,0.9583550220412367],\"values\":[0.952254706491707,0.9280347166371923,0.947430087338298,0.9338277193723609,0.934995009464012,0.7696579233532346,0.526491105716474,0.7658929730894208,0.0,0.9385144550798125,0.7465049574349238,0.5456111077289126,0.5120484884646987,0.5172077457927527,0.5347176588206002,0.5150454732476101,0.9183498409887686,0.5735525583158367,0.5427267738228322,0.9432484720760621,0.8070642592176991,0.5150454732476101,0.535182234049675,0.9516489436256526,0.802925437248291,0.798828848469786,0.5273926455881524,0.9315018611978791,0.9228821250963636,0.9234518080438258,0.9315018611978791,0.9268847302604346,0.7650553094923715,0.4854167441944413,0.7789573401663761,0.9444394479780467,0.7994115142507565,0.7503643201607041,0.745956858328411,0.7789573401663761,0.7616142527555747,0.7691093834785223,0.7679466990120394,0.5740870990965492,0.7906566011351729,0.9432484720760621,0.9234518080438258,0.5805801839296872,0.9234518080438258,0.7953506129594079,0.9456334352113032,0.9480304894715638,0.793622829147222,0.5470648019570354,0.7298800749281755,0.9583550220412367,0.0,0.5403463553469913,0.5756967163902276,0.9361652214468794,0.9245932864934128,0.9291875601361991,0.7987138272797472,0.7525876399556267,0.9450360644649024,0.9268847302604346,0.9274593669727764,0.5564545053137837,0.5159082090944049,0.802925437248291,0.7644796423454926,0.5427267738228322,0.9408755088116387,0.7503643201607041]},{\"label\":\"activation_function\",\"range\":[0,3],\"ticktext\":[\"leaky_relu\",\"sigmoid\",\"tanh\",\"relu\"],\"tickvals\":[0,1,2,3],\"values\":[0,1,2,0,0,0,2,3,1,1,0,0,2,2,2,2,2,0,2,2,1,2,2,0,0,0,2,0,0,2,1,2,0,0,0,0,2,1,1,3,0,1,0,0,0,0,2,1,1,0,1,0,0,0,2,0,1,0,2,3,2,0,0,1,2,1,0,1,2,1,0,0,0,0]},{\"label\":\"batch\",\"range\":[16,128],\"values\":[80,32,96,112,48,48,64,16,128,96,96,16,64,128,80,80,128,96,32,32,96,48,96,112,32,128,80,64,96,32,32,32,48,16,112,96,32,80,64,64,64,64,128,16,80,32,48,32,112,112,32,32,96,48,64,32,32,32,32,16,96,96,16,96,112,80,64,112,80,96,48,112,48,96]},{\"label\":\"decoder_layers\",\"range\":[1,3],\"values\":[3,3,2,1,1,2,1,2,1,2,3,1,1,1,2,2,2,1,1,1,2,1,1,2,1,2,2,1,3,1,1,3,2,3,2,3,2,3,2,3,1,3,2,1,3,1,2,2,2,3,1,1,3,2,1,1,3,1,2,2,2,2,1,1,1,3,1,2,2,1,2,2,1,3]},{\"label\":\"dim_feedforward\",\"range\":[8,127],\"values\":[24,30,63,83,63,50,8,66,15,21,30,10,86,24,84,14,29,99,88,51,49,69,127,30,126,96,82,105,28,121,41,76,115,74,101,69,66,119,112,38,59,101,111,73,58,91,42,125,47,93,30,126,51,50,86,91,30,15,51,66,121,49,21,112,47,30,127,47,10,99,17,30,63,50]},{\"label\":\"dropout_rate\",\"range\":[0.10884220346384499,0.490028566897194],\"values\":[0.42197177185433854,0.3494364708103783,0.18804464014472938,0.1200085735863445,0.45011258071605265,0.12293663840303247,0.18710689268239458,0.14085192885479747,0.14504883403304214,0.18149302634500797,0.3451687592003001,0.24121966200349243,0.13420706570622498,0.1755270473695104,0.22012786014487762,0.2792897833767456,0.36964854585187046,0.2988391419998785,0.38094868434603246,0.3049483887939451,0.30815049176297565,0.17408921511510106,0.24160081590522192,0.1434620829372272,0.2821235154259625,0.2808977077197149,0.17647680175912042,0.40455434936703705,0.10884220346384499,0.33951962766713273,0.39761019593040847,0.16432274506042158,0.28536500123555963,0.455461270960672,0.16034845845435416,0.490028566897194,0.4363757490368405,0.3025646422813635,0.28144821973196754,0.2742957921126782,0.34960030500764,0.15755218736118393,0.2738732337575882,0.29963967097323696,0.17838497500731482,0.14096581591308013,0.3586472100619357,0.26183065309386844,0.48800046889393245,0.20780580511497557,0.39761019593040847,0.2821235154259625,0.3049483887939451,0.42197177185433854,0.18710689268239458,0.14096581591308013,0.14504883403304214,0.14504883403304214,0.3049483887939451,0.14085192885479747,0.30815049176297565,0.30815049176297565,0.18149302634500797,0.2988391419998785,0.48800046889393245,0.3494364708103783,0.40455434936703705,0.48800046889393245,0.24121966200349243,0.39761019593040847,0.1434620829372272,0.1434620829372272,0.45011258071605265,0.12293663840303247]},{\"label\":\"encoder_layers\",\"range\":[1,3],\"values\":[2,2,3,3,1,3,2,1,1,3,1,3,1,3,2,1,3,1,2,3,1,1,1,1,2,3,2,3,1,3,3,2,1,3,2,1,3,2,2,2,3,1,2,1,3,3,1,3,2,1,3,2,1,3,1,3,1,3,3,1,3,1,3,2,2,2,3,2,1,1,1,2,1,1]},{\"label\":\"gaussian_noise\",\"range\":[-3.975376287364129,-1.0162101086353765],\"ticktext\":[\"0.000106\",\"0.001\",\"0.01\",\"0.0963\"],\"tickvals\":[-3.975376287364129,-3,-2,-1.0162101086353765],\"values\":[-3.3372866283589784,-1.883064358971315,-2.0740175054116525,-1.7535534048737647,-2.6724716384513254,-3.479397582283264,-3.5802280734657814,-3.376805184339497,-3.20080940434215,-1.8873236161899605,-2.4897890046966094,-3.0069005982532295,-1.0162101086353765,-1.4920751120372207,-3.2405901742083123,-1.0384344304674928,-2.7299361980428776,-2.535322532358821,-1.521259404500945,-1.6098762325252438,-2.2994372678314057,-1.8417366120182668,-3.697506664807208,-2.8487371863116513,-3.2286561650005896,-2.588308023774777,-3.900394890888892,-1.5986016710206372,-3.300592490971477,-1.7149079158622955,-2.2845612804782807,-3.3430566533884734,-2.5703022468401246,-3.4016457511434637,-2.538074930975574,-3.8691337179173053,-1.0356527050013378,-1.7725471874720515,-2.502431265079374,-2.6725996637103764,-2.4595485055981907,-2.6783376374706713,-3.5297770420360877,-1.2328526437597345,-2.000486288668802,-1.8554655224827785,-3.975376287364129,-1.9486854708605958,-1.475508839495883,-2.5301962651662566,-2.2845612804782807,-2.6783376374706713,-1.6098762325252438,-3.479397582283264,-3.5802280734657814,-1.8554655224827785,-1.883064358971315,-1.8554655224827785,-3.376805184339497,-3.376805184339497,-1.7149079158622955,-3.8691337179173053,-1.908930312381587,-3.1549072800783513,-1.2328526437597345,-1.883064358971315,-3.697506664807208,-1.475508839495883,-3.5042797813208164,-2.535322532358821,-2.5703022468401246,-2.8487371863116513,-1.2328526437597345,-3.8691337179173053]},{\"label\":\"layer_norm\",\"range\":[0,1],\"ticktext\":[\"True\",\"False\"],\"tickvals\":[0,1],\"values\":[0,1,0,1,0,1,0,1,1,0,1,1,1,1,0,1,1,0,1,0,0,1,0,0,0,0,0,1,1,1,0,1,0,1,1,0,0,1,1,1,1,0,1,0,0,0,1,1,1,1,0,0,0,1,1,0,1,1,0,1,1,0,0,0,0,1,1,1,1,0,0,1,0,0]},{\"label\":\"lr\",\"range\":[0.00021403687396746382,0.008774725145685112],\"values\":[0.006417316863162286,0.001879072812171396,0.0006765926523617158,0.006814970108424742,0.003632166784770201,0.0022470154513184503,0.00801780882964574,0.00022885177677631517,0.008044460300715693,0.0008433681060823115,0.006547646503323721,0.0024487269996679214,0.0036653417446946258,0.0016422206597471545,0.002648123890499731,0.0038433506374495868,0.0007846069201203881,0.007130212758115732,0.000567227604208751,0.0017732245206704242,0.004917552241098538,0.0024401480366476255,0.0039568078838434365,0.0033482470316095383,0.0006292629352335902,0.002178414836759579,0.008774725145685112,0.0017522110550577334,0.00021403687396746382,0.00536632978120047,0.0018764832749000922,0.005251850310008038,0.0019660695736915994,0.00847082058417735,0.0034422444353913837,0.0026072045694798185,0.005812322802663444,0.003998714877487622,0.005296315355644237,0.0015330469159371858,0.0068926179209177025,0.0015858495544989377,0.0009595425445841162,0.0016631076921454545,0.007482095338125608,0.0016682217526759592,0.0004820401610306437,0.0011061127535263778,0.004754857068358564,0.003377024972811726,0.0018764832749000922,0.0006292629352335902,0.0017732245206704242,0.0074755668499579845,0.00801780882964574,0.0016682217526759592,0.001879072812171396,0.0016682217526759592,0.0017732245206704242,0.00022885177677631517,0.0007919671711948061,0.004927022114765568,0.0016631076921454545,0.007130212758115732,0.004754857068358564,0.001879072812171396,0.0017522110550577334,0.004754857068358564,0.0038433506374495868,0.007130212758115732,0.0019660695736915994,0.006117237721929171,0.003632166784770201,0.0022470154513184503]},{\"label\":\"num_ffn_layers\",\"range\":[1,3],\"values\":[2,1,2,1,2,2,1,1,1,1,1,3,2,2,3,1,1,3,1,1,3,1,1,3,1,3,1,1,3,1,1,2,3,3,1,1,1,3,3,1,1,1,3,3,1,3,1,2,3,1,3,1,1,2,2,3,1,3,1,1,1,1,1,3,3,1,1,3,3,1,3,1,3,1]},{\"label\":\"phase_type\",\"range\":[0,1],\"ticktext\":[\"iterative\",\"2phase\"],\"tickvals\":[0,1],\"values\":[0,0,1,1,0,0,0,0,0,0,0,1,0,1,1,1,0,0,0,0,1,0,1,1,0,0,0,1,0,0,0,1,1,0,1,0,1,1,0,0,1,0,0,0,1,1,1,1,1,0,1,0,0,0,0,1,0,0,0,0,0,0,0,0,1,0,1,0,1,0,1,1,0,0]},{\"label\":\"positional_encodi...\",\"range\":[0,1],\"ticktext\":[\"fourier\",\"sinusoidal\"],\"tickvals\":[0,1],\"values\":[0,0,0,1,1,1,1,0,0,1,0,1,1,1,1,1,1,0,1,1,1,0,0,0,1,1,0,1,1,0,1,0,1,1,0,0,0,0,0,0,1,0,0,0,1,0,0,0,1,1,0,0,1,1,1,0,0,0,1,0,0,0,1,0,1,0,0,1,1,0,1,0,0,1]},{\"label\":\"self_conditioning\",\"range\":[0,1],\"ticktext\":[\"True\",\"False\"],\"tickvals\":[0,1],\"values\":[0,1,0,0,1,1,0,1,1,1,1,1,0,1,1,0,1,0,1,1,0,0,1,0,1,1,1,1,0,0,0,1,1,1,0,1,0,0,1,1,0,1,1,1,1,1,0,0,0,1,0,1,1,1,0,1,1,1,1,1,0,1,1,1,0,1,1,0,1,1,1,0,1,1]},{\"label\":\"time_masking\",\"range\":[0,1],\"ticktext\":[\"True\",\"False\"],\"tickvals\":[0,1],\"values\":[0,1,0,0,0,0,0,1,1,0,1,0,1,1,1,0,0,1,0,1,1,1,1,0,0,0,1,1,1,0,1,0,0,0,1,1,0,1,0,0,0,0,1,1,0,1,1,0,0,0,1,0,1,0,0,1,1,1,1,1,0,1,0,1,0,1,1,0,0,1,0,1,1,0]},{\"label\":\"time_warping\",\"range\":[0,1],\"ticktext\":[\"False\",\"True\"],\"tickvals\":[0,1],\"values\":[0,1,0,0,1,0,1,1,1,0,0,0,0,0,1,1,1,1,1,1,1,1,0,0,1,1,1,0,1,0,1,1,0,0,1,1,1,1,0,0,0,0,0,1,0,1,0,0,0,1,0,1,0,0,0,1,0,1,1,1,0,1,1,1,1,1,0,0,0,1,0,0,1,1]},{\"label\":\"use_linear_embedd...\",\"range\":[0,1],\"ticktext\":[\"False\",\"True\"],\"tickvals\":[0,1],\"values\":[0,1,0,1,1,0,0,0,0,0,0,0,1,1,0,0,1,1,0,0,1,0,1,0,0,1,0,0,1,1,0,1,0,0,0,0,1,0,1,1,1,0,1,0,1,1,0,0,1,0,0,0,0,0,1,1,0,0,0,0,1,1,0,1,0,0,0,1,0,1,0,0,0,0]}],\"labelangle\":30,\"labelside\":\"bottom\",\"line\":{\"color\":[0.952254706491707,0.9280347166371923,0.947430087338298,0.9338277193723609,0.934995009464012,0.7696579233532346,0.526491105716474,0.7658929730894208,0.0,0.9385144550798125,0.7465049574349238,0.5456111077289126,0.5120484884646987,0.5172077457927527,0.5347176588206002,0.5150454732476101,0.9183498409887686,0.5735525583158367,0.5427267738228322,0.9432484720760621,0.8070642592176991,0.5150454732476101,0.535182234049675,0.9516489436256526,0.802925437248291,0.798828848469786,0.5273926455881524,0.9315018611978791,0.9228821250963636,0.9234518080438258,0.9315018611978791,0.9268847302604346,0.7650553094923715,0.4854167441944413,0.7789573401663761,0.9444394479780467,0.7994115142507565,0.7503643201607041,0.745956858328411,0.7789573401663761,0.7616142527555747,0.7691093834785223,0.7679466990120394,0.5740870990965492,0.7906566011351729,0.9432484720760621,0.9234518080438258,0.5805801839296872,0.9234518080438258,0.7953506129594079,0.9456334352113032,0.9480304894715638,0.793622829147222,0.5470648019570354,0.7298800749281755,0.9583550220412367,0.0,0.5403463553469913,0.5756967163902276,0.9361652214468794,0.9245932864934128,0.9291875601361991,0.7987138272797472,0.7525876399556267,0.9450360644649024,0.9268847302604346,0.9274593669727764,0.5564545053137837,0.5159082090944049,0.802925437248291,0.7644796423454926,0.5427267738228322,0.9408755088116387,0.7503643201607041],\"colorbar\":{\"title\":{\"text\":\"Objective Value\"}},\"colorscale\":[[0.0,\"rgb(247,251,255)\"],[0.125,\"rgb(222,235,247)\"],[0.25,\"rgb(198,219,239)\"],[0.375,\"rgb(158,202,225)\"],[0.5,\"rgb(107,174,214)\"],[0.625,\"rgb(66,146,198)\"],[0.75,\"rgb(33,113,181)\"],[0.875,\"rgb(8,81,156)\"],[1.0,\"rgb(8,48,107)\"]],\"reversescale\":true,\"showscale\":true},\"type\":\"parcoords\"}],                        {\"title\":{\"text\":\"Parallel Coordinate Plot\",\"font\":{\"size\":20}},\"template\":{\"data\":{\"histogram2dcontour\":[{\"type\":\"histogram2dcontour\",\"colorbar\":{\"outlinewidth\":0,\"ticks\":\"\"},\"colorscale\":[[0.0,\"#0d0887\"],[0.1111111111111111,\"#46039f\"],[0.2222222222222222,\"#7201a8\"],[0.3333333333333333,\"#9c179e\"],[0.4444444444444444,\"#bd3786\"],[0.5555555555555556,\"#d8576b\"],[0.6666666666666666,\"#ed7953\"],[0.7777777777777778,\"#fb9f3a\"],[0.8888888888888888,\"#fdca26\"],[1.0,\"#f0f921\"]]}],\"choropleth\":[{\"type\":\"choropleth\",\"colorbar\":{\"outlinewidth\":0,\"ticks\":\"\"}}],\"histogram2d\":[{\"type\":\"histogram2d\",\"colorbar\":{\"outlinewidth\":0,\"ticks\":\"\"},\"colorscale\":[[0.0,\"#0d0887\"],[0.1111111111111111,\"#46039f\"],[0.2222222222222222,\"#7201a8\"],[0.3333333333333333,\"#9c179e\"],[0.4444444444444444,\"#bd3786\"],[0.5555555555555556,\"#d8576b\"],[0.6666666666666666,\"#ed7953\"],[0.7777777777777778,\"#fb9f3a\"],[0.8888888888888888,\"#fdca26\"],[1.0,\"#f0f921\"]]}],\"heatmap\":[{\"type\":\"heatmap\",\"colorbar\":{\"outlinewidth\":0,\"ticks\":\"\"},\"colorscale\":[[0.0,\"#0d0887\"],[0.1111111111111111,\"#46039f\"],[0.2222222222222222,\"#7201a8\"],[0.3333333333333333,\"#9c179e\"],[0.4444444444444444,\"#bd3786\"],[0.5555555555555556,\"#d8576b\"],[0.6666666666666666,\"#ed7953\"],[0.7777777777777778,\"#fb9f3a\"],[0.8888888888888888,\"#fdca26\"],[1.0,\"#f0f921\"]]}],\"heatmapgl\":[{\"type\":\"heatmapgl\",\"colorbar\":{\"outlinewidth\":0,\"ticks\":\"\"},\"colorscale\":[[0.0,\"#0d0887\"],[0.1111111111111111,\"#46039f\"],[0.2222222222222222,\"#7201a8\"],[0.3333333333333333,\"#9c179e\"],[0.4444444444444444,\"#bd3786\"],[0.5555555555555556,\"#d8576b\"],[0.6666666666666666,\"#ed7953\"],[0.7777777777777778,\"#fb9f3a\"],[0.8888888888888888,\"#fdca26\"],[1.0,\"#f0f921\"]]}],\"contourcarpet\":[{\"type\":\"contourcarpet\",\"colorbar\":{\"outlinewidth\":0,\"ticks\":\"\"}}],\"contour\":[{\"type\":\"contour\",\"colorbar\":{\"outlinewidth\":0,\"ticks\":\"\"},\"colorscale\":[[0.0,\"#0d0887\"],[0.1111111111111111,\"#46039f\"],[0.2222222222222222,\"#7201a8\"],[0.3333333333333333,\"#9c179e\"],[0.4444444444444444,\"#bd3786\"],[0.5555555555555556,\"#d8576b\"],[0.6666666666666666,\"#ed7953\"],[0.7777777777777778,\"#fb9f3a\"],[0.8888888888888888,\"#fdca26\"],[1.0,\"#f0f921\"]]}],\"surface\":[{\"type\":\"surface\",\"colorbar\":{\"outlinewidth\":0,\"ticks\":\"\"},\"colorscale\":[[0.0,\"#0d0887\"],[0.1111111111111111,\"#46039f\"],[0.2222222222222222,\"#7201a8\"],[0.3333333333333333,\"#9c179e\"],[0.4444444444444444,\"#bd3786\"],[0.5555555555555556,\"#d8576b\"],[0.6666666666666666,\"#ed7953\"],[0.7777777777777778,\"#fb9f3a\"],[0.8888888888888888,\"#fdca26\"],[1.0,\"#f0f921\"]]}],\"mesh3d\":[{\"type\":\"mesh3d\",\"colorbar\":{\"outlinewidth\":0,\"ticks\":\"\"}}],\"scatter\":[{\"fillpattern\":{\"fillmode\":\"overlay\",\"size\":10,\"solidity\":0.2},\"type\":\"scatter\"}],\"parcoords\":[{\"type\":\"parcoords\",\"line\":{\"colorbar\":{\"outlinewidth\":0,\"ticks\":\"\"}}}],\"scatterpolargl\":[{\"type\":\"scatterpolargl\",\"marker\":{\"colorbar\":{\"outlinewidth\":0,\"ticks\":\"\"}}}],\"bar\":[{\"error_x\":{\"color\":\"#2a3f5f\"},\"error_y\":{\"color\":\"#2a3f5f\"},\"marker\":{\"line\":{\"color\":\"#E5ECF6\",\"width\":0.5},\"pattern\":{\"fillmode\":\"overlay\",\"size\":10,\"solidity\":0.2}},\"type\":\"bar\"}],\"scattergeo\":[{\"type\":\"scattergeo\",\"marker\":{\"colorbar\":{\"outlinewidth\":0,\"ticks\":\"\"}}}],\"scatterpolar\":[{\"type\":\"scatterpolar\",\"marker\":{\"colorbar\":{\"outlinewidth\":0,\"ticks\":\"\"}}}],\"histogram\":[{\"marker\":{\"pattern\":{\"fillmode\":\"overlay\",\"size\":10,\"solidity\":0.2}},\"type\":\"histogram\"}],\"scattergl\":[{\"type\":\"scattergl\",\"marker\":{\"colorbar\":{\"outlinewidth\":0,\"ticks\":\"\"}}}],\"scatter3d\":[{\"type\":\"scatter3d\",\"line\":{\"colorbar\":{\"outlinewidth\":0,\"ticks\":\"\"}},\"marker\":{\"colorbar\":{\"outlinewidth\":0,\"ticks\":\"\"}}}],\"scattermapbox\":[{\"type\":\"scattermapbox\",\"marker\":{\"colorbar\":{\"outlinewidth\":0,\"ticks\":\"\"}}}],\"scatterternary\":[{\"type\":\"scatterternary\",\"marker\":{\"colorbar\":{\"outlinewidth\":0,\"ticks\":\"\"}}}],\"scattercarpet\":[{\"type\":\"scattercarpet\",\"marker\":{\"colorbar\":{\"outlinewidth\":0,\"ticks\":\"\"}}}],\"carpet\":[{\"aaxis\":{\"endlinecolor\":\"#2a3f5f\",\"gridcolor\":\"white\",\"linecolor\":\"white\",\"minorgridcolor\":\"white\",\"startlinecolor\":\"#2a3f5f\"},\"baxis\":{\"endlinecolor\":\"#2a3f5f\",\"gridcolor\":\"white\",\"linecolor\":\"white\",\"minorgridcolor\":\"white\",\"startlinecolor\":\"#2a3f5f\"},\"type\":\"carpet\"}],\"table\":[{\"cells\":{\"fill\":{\"color\":\"#EBF0F8\"},\"line\":{\"color\":\"white\"}},\"header\":{\"fill\":{\"color\":\"#C8D4E3\"},\"line\":{\"color\":\"white\"}},\"type\":\"table\"}],\"barpolar\":[{\"marker\":{\"line\":{\"color\":\"#E5ECF6\",\"width\":0.5},\"pattern\":{\"fillmode\":\"overlay\",\"size\":10,\"solidity\":0.2}},\"type\":\"barpolar\"}],\"pie\":[{\"automargin\":true,\"type\":\"pie\"}]},\"layout\":{\"autotypenumbers\":\"strict\",\"colorway\":[\"#636efa\",\"#EF553B\",\"#00cc96\",\"#ab63fa\",\"#FFA15A\",\"#19d3f3\",\"#FF6692\",\"#B6E880\",\"#FF97FF\",\"#FECB52\"],\"font\":{\"color\":\"#2a3f5f\"},\"hovermode\":\"closest\",\"hoverlabel\":{\"align\":\"left\"},\"paper_bgcolor\":\"white\",\"plot_bgcolor\":\"#E5ECF6\",\"polar\":{\"bgcolor\":\"#E5ECF6\",\"angularaxis\":{\"gridcolor\":\"white\",\"linecolor\":\"white\",\"ticks\":\"\"},\"radialaxis\":{\"gridcolor\":\"white\",\"linecolor\":\"white\",\"ticks\":\"\"}},\"ternary\":{\"bgcolor\":\"#E5ECF6\",\"aaxis\":{\"gridcolor\":\"white\",\"linecolor\":\"white\",\"ticks\":\"\"},\"baxis\":{\"gridcolor\":\"white\",\"linecolor\":\"white\",\"ticks\":\"\"},\"caxis\":{\"gridcolor\":\"white\",\"linecolor\":\"white\",\"ticks\":\"\"}},\"coloraxis\":{\"colorbar\":{\"outlinewidth\":0,\"ticks\":\"\"}},\"colorscale\":{\"sequential\":[[0.0,\"#0d0887\"],[0.1111111111111111,\"#46039f\"],[0.2222222222222222,\"#7201a8\"],[0.3333333333333333,\"#9c179e\"],[0.4444444444444444,\"#bd3786\"],[0.5555555555555556,\"#d8576b\"],[0.6666666666666666,\"#ed7953\"],[0.7777777777777778,\"#fb9f3a\"],[0.8888888888888888,\"#fdca26\"],[1.0,\"#f0f921\"]],\"sequentialminus\":[[0.0,\"#0d0887\"],[0.1111111111111111,\"#46039f\"],[0.2222222222222222,\"#7201a8\"],[0.3333333333333333,\"#9c179e\"],[0.4444444444444444,\"#bd3786\"],[0.5555555555555556,\"#d8576b\"],[0.6666666666666666,\"#ed7953\"],[0.7777777777777778,\"#fb9f3a\"],[0.8888888888888888,\"#fdca26\"],[1.0,\"#f0f921\"]],\"diverging\":[[0,\"#8e0152\"],[0.1,\"#c51b7d\"],[0.2,\"#de77ae\"],[0.3,\"#f1b6da\"],[0.4,\"#fde0ef\"],[0.5,\"#f7f7f7\"],[0.6,\"#e6f5d0\"],[0.7,\"#b8e186\"],[0.8,\"#7fbc41\"],[0.9,\"#4d9221\"],[1,\"#276419\"]]},\"xaxis\":{\"gridcolor\":\"white\",\"linecolor\":\"white\",\"ticks\":\"\",\"title\":{\"standoff\":15},\"zerolinecolor\":\"white\",\"automargin\":true,\"zerolinewidth\":2},\"yaxis\":{\"gridcolor\":\"white\",\"linecolor\":\"white\",\"ticks\":\"\",\"title\":{\"standoff\":15},\"zerolinecolor\":\"white\",\"automargin\":true,\"zerolinewidth\":2},\"scene\":{\"xaxis\":{\"backgroundcolor\":\"#E5ECF6\",\"gridcolor\":\"white\",\"linecolor\":\"white\",\"showbackground\":true,\"ticks\":\"\",\"zerolinecolor\":\"white\",\"gridwidth\":2},\"yaxis\":{\"backgroundcolor\":\"#E5ECF6\",\"gridcolor\":\"white\",\"linecolor\":\"white\",\"showbackground\":true,\"ticks\":\"\",\"zerolinecolor\":\"white\",\"gridwidth\":2},\"zaxis\":{\"backgroundcolor\":\"#E5ECF6\",\"gridcolor\":\"white\",\"linecolor\":\"white\",\"showbackground\":true,\"ticks\":\"\",\"zerolinecolor\":\"white\",\"gridwidth\":2}},\"shapedefaults\":{\"line\":{\"color\":\"#2a3f5f\"}},\"annotationdefaults\":{\"arrowcolor\":\"#2a3f5f\",\"arrowhead\":0,\"arrowwidth\":1},\"geo\":{\"bgcolor\":\"white\",\"landcolor\":\"#E5ECF6\",\"subunitcolor\":\"white\",\"showland\":true,\"showlakes\":true,\"lakecolor\":\"white\"},\"title\":{\"x\":0.05},\"mapbox\":{\"style\":\"light\"}}},\"font\":{\"size\":16}},                        {\"responsive\": true}                    ).then(function(){\n",
              "                            \n",
              "var gd = document.getElementById('084b2ae9-2ecd-4516-9d95-635effc1f94f');\n",
              "var x = new MutationObserver(function (mutations, observer) {{\n",
              "        var display = window.getComputedStyle(gd).display;\n",
              "        if (!display || display === 'none') {{\n",
              "            console.log([gd, 'removed!']);\n",
              "            Plotly.purge(gd);\n",
              "            observer.disconnect();\n",
              "        }}\n",
              "}});\n",
              "\n",
              "// Listen for the removal of the full notebook cells\n",
              "var notebookContainer = gd.closest('#notebook-container');\n",
              "if (notebookContainer) {{\n",
              "    x.observe(notebookContainer, {childList: true});\n",
              "}}\n",
              "\n",
              "// Listen for the clearing of the current output cell\n",
              "var outputEl = gd.closest('.output');\n",
              "if (outputEl) {{\n",
              "    x.observe(outputEl, {childList: true});\n",
              "}}\n",
              "\n",
              "                        })                };                            </script>        </div>\n",
              "</body>\n",
              "</html>"
            ]
          },
          "metadata": {}
        },
        {
          "output_type": "display_data",
          "data": {
            "text/html": [
              "<html>\n",
              "<head><meta charset=\"utf-8\" /></head>\n",
              "<body>\n",
              "    <div>            <script src=\"https://cdnjs.cloudflare.com/ajax/libs/mathjax/2.7.5/MathJax.js?config=TeX-AMS-MML_SVG\"></script><script type=\"text/javascript\">if (window.MathJax && window.MathJax.Hub && window.MathJax.Hub.Config) {window.MathJax.Hub.Config({SVG: {font: \"STIX-Web\"}});}</script>                <script type=\"text/javascript\">window.PlotlyConfig = {MathJaxConfig: 'local'};</script>\n",
              "        <script charset=\"utf-8\" src=\"https://cdn.plot.ly/plotly-2.24.1.min.js\"></script>                <div id=\"9112550d-bb55-44bd-9749-ce0ca88e63ac\" class=\"plotly-graph-div\" style=\"height:525px; width:100%;\"></div>            <script type=\"text/javascript\">                                    window.PLOTLYENV=window.PLOTLYENV || {};                                    if (document.getElementById(\"9112550d-bb55-44bd-9749-ce0ca88e63ac\")) {                    Plotly.newPlot(                        \"9112550d-bb55-44bd-9749-ce0ca88e63ac\",                        [{\"dimensions\":[{\"label\":\"Objective Value\",\"range\":[35005.0,433731.0],\"values\":[107715.0,100825.0,203357.0,117390.0,60177.0,123675.0,44749.0,72423.0,35005.0,83630.0,84995.0,88575.0,69369.0,99965.0,256987.0,100395.0,90120.0,94819.0,68889.0,73179.0,170710.0,45913.0,93556.0,139375.0,80503.0,221515.0,95903.0,125950.0,109761.0,103909.0,69139.0,270241.0,268150.0,228507.0,164781.0,100851.0,163137.0,433731.0,201369.0,104865.0,105270.0,113779.0,200157.0,76513.0,210097.0,213940.0,114535.0,290925.0,192171.0,110447.0,118975.0,80503.0,93579.0,123675.0,69369.0,213940.0,84995.0,71055.0,98780.0,72423.0,136580.0,69922.0,61059.0,146983.0,120139.0,98275.0,137060.0,122589.0,108975.0,54623.0,119680.0,121755.0,70453.0,93175.0]},{\"label\":\"activation_function\",\"range\":[0,3],\"ticktext\":[\"leaky_relu\",\"sigmoid\",\"tanh\",\"relu\"],\"tickvals\":[0,1,2,3],\"values\":[0,1,2,0,0,0,2,3,1,1,0,0,2,2,2,2,2,0,2,2,1,2,2,0,0,0,2,0,0,2,1,2,0,0,0,0,2,1,1,3,0,1,0,0,0,0,2,1,1,0,1,0,0,0,2,0,1,0,2,3,2,0,0,1,2,1,0,1,2,1,0,0,0,0]},{\"label\":\"batch\",\"range\":[16,128],\"values\":[80,32,96,112,48,48,64,16,128,96,96,16,64,128,80,80,128,96,32,32,96,48,96,112,32,128,80,64,96,32,32,32,48,16,112,96,32,80,64,64,64,64,128,16,80,32,48,32,112,112,32,32,96,48,64,32,32,32,32,16,96,96,16,96,112,80,64,112,80,96,48,112,48,96]},{\"label\":\"decoder_layers\",\"range\":[1,3],\"values\":[3,3,2,1,1,2,1,2,1,2,3,1,1,1,2,2,2,1,1,1,2,1,1,2,1,2,2,1,3,1,1,3,2,3,2,3,2,3,2,3,1,3,2,1,3,1,2,2,2,3,1,1,3,2,1,1,3,1,2,2,2,2,1,1,1,3,1,2,2,1,2,2,1,3]},{\"label\":\"dim_feedforward\",\"range\":[8,127],\"values\":[24,30,63,83,63,50,8,66,15,21,30,10,86,24,84,14,29,99,88,51,49,69,127,30,126,96,82,105,28,121,41,76,115,74,101,69,66,119,112,38,59,101,111,73,58,91,42,125,47,93,30,126,51,50,86,91,30,15,51,66,121,49,21,112,47,30,127,47,10,99,17,30,63,50]},{\"label\":\"dropout_rate\",\"range\":[0.10884220346384499,0.490028566897194],\"values\":[0.42197177185433854,0.3494364708103783,0.18804464014472938,0.1200085735863445,0.45011258071605265,0.12293663840303247,0.18710689268239458,0.14085192885479747,0.14504883403304214,0.18149302634500797,0.3451687592003001,0.24121966200349243,0.13420706570622498,0.1755270473695104,0.22012786014487762,0.2792897833767456,0.36964854585187046,0.2988391419998785,0.38094868434603246,0.3049483887939451,0.30815049176297565,0.17408921511510106,0.24160081590522192,0.1434620829372272,0.2821235154259625,0.2808977077197149,0.17647680175912042,0.40455434936703705,0.10884220346384499,0.33951962766713273,0.39761019593040847,0.16432274506042158,0.28536500123555963,0.455461270960672,0.16034845845435416,0.490028566897194,0.4363757490368405,0.3025646422813635,0.28144821973196754,0.2742957921126782,0.34960030500764,0.15755218736118393,0.2738732337575882,0.29963967097323696,0.17838497500731482,0.14096581591308013,0.3586472100619357,0.26183065309386844,0.48800046889393245,0.20780580511497557,0.39761019593040847,0.2821235154259625,0.3049483887939451,0.42197177185433854,0.18710689268239458,0.14096581591308013,0.14504883403304214,0.14504883403304214,0.3049483887939451,0.14085192885479747,0.30815049176297565,0.30815049176297565,0.18149302634500797,0.2988391419998785,0.48800046889393245,0.3494364708103783,0.40455434936703705,0.48800046889393245,0.24121966200349243,0.39761019593040847,0.1434620829372272,0.1434620829372272,0.45011258071605265,0.12293663840303247]},{\"label\":\"encoder_layers\",\"range\":[1,3],\"values\":[2,2,3,3,1,3,2,1,1,3,1,3,1,3,2,1,3,1,2,3,1,1,1,1,2,3,2,3,1,3,3,2,1,3,2,1,3,2,2,2,3,1,2,1,3,3,1,3,2,1,3,2,1,3,1,3,1,3,3,1,3,1,3,2,2,2,3,2,1,1,1,2,1,1]},{\"label\":\"gaussian_noise\",\"range\":[-3.975376287364129,-1.0162101086353765],\"ticktext\":[\"0.000106\",\"0.001\",\"0.01\",\"0.0963\"],\"tickvals\":[-3.975376287364129,-3,-2,-1.0162101086353765],\"values\":[-3.3372866283589784,-1.883064358971315,-2.0740175054116525,-1.7535534048737647,-2.6724716384513254,-3.479397582283264,-3.5802280734657814,-3.376805184339497,-3.20080940434215,-1.8873236161899605,-2.4897890046966094,-3.0069005982532295,-1.0162101086353765,-1.4920751120372207,-3.2405901742083123,-1.0384344304674928,-2.7299361980428776,-2.535322532358821,-1.521259404500945,-1.6098762325252438,-2.2994372678314057,-1.8417366120182668,-3.697506664807208,-2.8487371863116513,-3.2286561650005896,-2.588308023774777,-3.900394890888892,-1.5986016710206372,-3.300592490971477,-1.7149079158622955,-2.2845612804782807,-3.3430566533884734,-2.5703022468401246,-3.4016457511434637,-2.538074930975574,-3.8691337179173053,-1.0356527050013378,-1.7725471874720515,-2.502431265079374,-2.6725996637103764,-2.4595485055981907,-2.6783376374706713,-3.5297770420360877,-1.2328526437597345,-2.000486288668802,-1.8554655224827785,-3.975376287364129,-1.9486854708605958,-1.475508839495883,-2.5301962651662566,-2.2845612804782807,-2.6783376374706713,-1.6098762325252438,-3.479397582283264,-3.5802280734657814,-1.8554655224827785,-1.883064358971315,-1.8554655224827785,-3.376805184339497,-3.376805184339497,-1.7149079158622955,-3.8691337179173053,-1.908930312381587,-3.1549072800783513,-1.2328526437597345,-1.883064358971315,-3.697506664807208,-1.475508839495883,-3.5042797813208164,-2.535322532358821,-2.5703022468401246,-2.8487371863116513,-1.2328526437597345,-3.8691337179173053]},{\"label\":\"layer_norm\",\"range\":[0,1],\"ticktext\":[\"True\",\"False\"],\"tickvals\":[0,1],\"values\":[0,1,0,1,0,1,0,1,1,0,1,1,1,1,0,1,1,0,1,0,0,1,0,0,0,0,0,1,1,1,0,1,0,1,1,0,0,1,1,1,1,0,1,0,0,0,1,1,1,1,0,0,0,1,1,0,1,1,0,1,1,0,0,0,0,1,1,1,1,0,0,1,0,0]},{\"label\":\"lr\",\"range\":[0.00021403687396746382,0.008774725145685112],\"values\":[0.006417316863162286,0.001879072812171396,0.0006765926523617158,0.006814970108424742,0.003632166784770201,0.0022470154513184503,0.00801780882964574,0.00022885177677631517,0.008044460300715693,0.0008433681060823115,0.006547646503323721,0.0024487269996679214,0.0036653417446946258,0.0016422206597471545,0.002648123890499731,0.0038433506374495868,0.0007846069201203881,0.007130212758115732,0.000567227604208751,0.0017732245206704242,0.004917552241098538,0.0024401480366476255,0.0039568078838434365,0.0033482470316095383,0.0006292629352335902,0.002178414836759579,0.008774725145685112,0.0017522110550577334,0.00021403687396746382,0.00536632978120047,0.0018764832749000922,0.005251850310008038,0.0019660695736915994,0.00847082058417735,0.0034422444353913837,0.0026072045694798185,0.005812322802663444,0.003998714877487622,0.005296315355644237,0.0015330469159371858,0.0068926179209177025,0.0015858495544989377,0.0009595425445841162,0.0016631076921454545,0.007482095338125608,0.0016682217526759592,0.0004820401610306437,0.0011061127535263778,0.004754857068358564,0.003377024972811726,0.0018764832749000922,0.0006292629352335902,0.0017732245206704242,0.0074755668499579845,0.00801780882964574,0.0016682217526759592,0.001879072812171396,0.0016682217526759592,0.0017732245206704242,0.00022885177677631517,0.0007919671711948061,0.004927022114765568,0.0016631076921454545,0.007130212758115732,0.004754857068358564,0.001879072812171396,0.0017522110550577334,0.004754857068358564,0.0038433506374495868,0.007130212758115732,0.0019660695736915994,0.006117237721929171,0.003632166784770201,0.0022470154513184503]},{\"label\":\"num_ffn_layers\",\"range\":[1,3],\"values\":[2,1,2,1,2,2,1,1,1,1,1,3,2,2,3,1,1,3,1,1,3,1,1,3,1,3,1,1,3,1,1,2,3,3,1,1,1,3,3,1,1,1,3,3,1,3,1,2,3,1,3,1,1,2,2,3,1,3,1,1,1,1,1,3,3,1,1,3,3,1,3,1,3,1]},{\"label\":\"phase_type\",\"range\":[0,1],\"ticktext\":[\"iterative\",\"2phase\"],\"tickvals\":[0,1],\"values\":[0,0,1,1,0,0,0,0,0,0,0,1,0,1,1,1,0,0,0,0,1,0,1,1,0,0,0,1,0,0,0,1,1,0,1,0,1,1,0,0,1,0,0,0,1,1,1,1,1,0,1,0,0,0,0,1,0,0,0,0,0,0,0,0,1,0,1,0,1,0,1,1,0,0]},{\"label\":\"positional_encodi...\",\"range\":[0,1],\"ticktext\":[\"fourier\",\"sinusoidal\"],\"tickvals\":[0,1],\"values\":[0,0,0,1,1,1,1,0,0,1,0,1,1,1,1,1,1,0,1,1,1,0,0,0,1,1,0,1,1,0,1,0,1,1,0,0,0,0,0,0,1,0,0,0,1,0,0,0,1,1,0,0,1,1,1,0,0,0,1,0,0,0,1,0,1,0,0,1,1,0,1,0,0,1]},{\"label\":\"self_conditioning\",\"range\":[0,1],\"ticktext\":[\"True\",\"False\"],\"tickvals\":[0,1],\"values\":[0,1,0,0,1,1,0,1,1,1,1,1,0,1,1,0,1,0,1,1,0,0,1,0,1,1,1,1,0,0,0,1,1,1,0,1,0,0,1,1,0,1,1,1,1,1,0,0,0,1,0,1,1,1,0,1,1,1,1,1,0,1,1,1,0,1,1,0,1,1,1,0,1,1]},{\"label\":\"time_masking\",\"range\":[0,1],\"ticktext\":[\"True\",\"False\"],\"tickvals\":[0,1],\"values\":[0,1,0,0,0,0,0,1,1,0,1,0,1,1,1,0,0,1,0,1,1,1,1,0,0,0,1,1,1,0,1,0,0,0,1,1,0,1,0,0,0,0,1,1,0,1,1,0,0,0,1,0,1,0,0,1,1,1,1,1,0,1,0,1,0,1,1,0,0,1,0,1,1,0]},{\"label\":\"time_warping\",\"range\":[0,1],\"ticktext\":[\"False\",\"True\"],\"tickvals\":[0,1],\"values\":[0,1,0,0,1,0,1,1,1,0,0,0,0,0,1,1,1,1,1,1,1,1,0,0,1,1,1,0,1,0,1,1,0,0,1,1,1,1,0,0,0,0,0,1,0,1,0,0,0,1,0,1,0,0,0,1,0,1,1,1,0,1,1,1,1,1,0,0,0,1,0,0,1,1]},{\"label\":\"use_linear_embedd...\",\"range\":[0,1],\"ticktext\":[\"False\",\"True\"],\"tickvals\":[0,1],\"values\":[0,1,0,1,1,0,0,0,0,0,0,0,1,1,0,0,1,1,0,0,1,0,1,0,0,1,0,0,1,1,0,1,0,0,0,0,1,0,1,1,1,0,1,0,1,1,0,0,1,0,0,0,0,0,1,1,0,0,0,0,1,1,0,1,0,0,0,1,0,1,0,0,0,0]}],\"labelangle\":30,\"labelside\":\"bottom\",\"line\":{\"color\":[107715.0,100825.0,203357.0,117390.0,60177.0,123675.0,44749.0,72423.0,35005.0,83630.0,84995.0,88575.0,69369.0,99965.0,256987.0,100395.0,90120.0,94819.0,68889.0,73179.0,170710.0,45913.0,93556.0,139375.0,80503.0,221515.0,95903.0,125950.0,109761.0,103909.0,69139.0,270241.0,268150.0,228507.0,164781.0,100851.0,163137.0,433731.0,201369.0,104865.0,105270.0,113779.0,200157.0,76513.0,210097.0,213940.0,114535.0,290925.0,192171.0,110447.0,118975.0,80503.0,93579.0,123675.0,69369.0,213940.0,84995.0,71055.0,98780.0,72423.0,136580.0,69922.0,61059.0,146983.0,120139.0,98275.0,137060.0,122589.0,108975.0,54623.0,119680.0,121755.0,70453.0,93175.0],\"colorbar\":{\"title\":{\"text\":\"Objective Value\"}},\"colorscale\":[[0.0,\"rgb(247,251,255)\"],[0.125,\"rgb(222,235,247)\"],[0.25,\"rgb(198,219,239)\"],[0.375,\"rgb(158,202,225)\"],[0.5,\"rgb(107,174,214)\"],[0.625,\"rgb(66,146,198)\"],[0.75,\"rgb(33,113,181)\"],[0.875,\"rgb(8,81,156)\"],[1.0,\"rgb(8,48,107)\"]],\"reversescale\":true,\"showscale\":true},\"type\":\"parcoords\"}],                        {\"title\":{\"text\":\"Parallel Coordinate Plot\",\"font\":{\"size\":20}},\"template\":{\"data\":{\"histogram2dcontour\":[{\"type\":\"histogram2dcontour\",\"colorbar\":{\"outlinewidth\":0,\"ticks\":\"\"},\"colorscale\":[[0.0,\"#0d0887\"],[0.1111111111111111,\"#46039f\"],[0.2222222222222222,\"#7201a8\"],[0.3333333333333333,\"#9c179e\"],[0.4444444444444444,\"#bd3786\"],[0.5555555555555556,\"#d8576b\"],[0.6666666666666666,\"#ed7953\"],[0.7777777777777778,\"#fb9f3a\"],[0.8888888888888888,\"#fdca26\"],[1.0,\"#f0f921\"]]}],\"choropleth\":[{\"type\":\"choropleth\",\"colorbar\":{\"outlinewidth\":0,\"ticks\":\"\"}}],\"histogram2d\":[{\"type\":\"histogram2d\",\"colorbar\":{\"outlinewidth\":0,\"ticks\":\"\"},\"colorscale\":[[0.0,\"#0d0887\"],[0.1111111111111111,\"#46039f\"],[0.2222222222222222,\"#7201a8\"],[0.3333333333333333,\"#9c179e\"],[0.4444444444444444,\"#bd3786\"],[0.5555555555555556,\"#d8576b\"],[0.6666666666666666,\"#ed7953\"],[0.7777777777777778,\"#fb9f3a\"],[0.8888888888888888,\"#fdca26\"],[1.0,\"#f0f921\"]]}],\"heatmap\":[{\"type\":\"heatmap\",\"colorbar\":{\"outlinewidth\":0,\"ticks\":\"\"},\"colorscale\":[[0.0,\"#0d0887\"],[0.1111111111111111,\"#46039f\"],[0.2222222222222222,\"#7201a8\"],[0.3333333333333333,\"#9c179e\"],[0.4444444444444444,\"#bd3786\"],[0.5555555555555556,\"#d8576b\"],[0.6666666666666666,\"#ed7953\"],[0.7777777777777778,\"#fb9f3a\"],[0.8888888888888888,\"#fdca26\"],[1.0,\"#f0f921\"]]}],\"heatmapgl\":[{\"type\":\"heatmapgl\",\"colorbar\":{\"outlinewidth\":0,\"ticks\":\"\"},\"colorscale\":[[0.0,\"#0d0887\"],[0.1111111111111111,\"#46039f\"],[0.2222222222222222,\"#7201a8\"],[0.3333333333333333,\"#9c179e\"],[0.4444444444444444,\"#bd3786\"],[0.5555555555555556,\"#d8576b\"],[0.6666666666666666,\"#ed7953\"],[0.7777777777777778,\"#fb9f3a\"],[0.8888888888888888,\"#fdca26\"],[1.0,\"#f0f921\"]]}],\"contourcarpet\":[{\"type\":\"contourcarpet\",\"colorbar\":{\"outlinewidth\":0,\"ticks\":\"\"}}],\"contour\":[{\"type\":\"contour\",\"colorbar\":{\"outlinewidth\":0,\"ticks\":\"\"},\"colorscale\":[[0.0,\"#0d0887\"],[0.1111111111111111,\"#46039f\"],[0.2222222222222222,\"#7201a8\"],[0.3333333333333333,\"#9c179e\"],[0.4444444444444444,\"#bd3786\"],[0.5555555555555556,\"#d8576b\"],[0.6666666666666666,\"#ed7953\"],[0.7777777777777778,\"#fb9f3a\"],[0.8888888888888888,\"#fdca26\"],[1.0,\"#f0f921\"]]}],\"surface\":[{\"type\":\"surface\",\"colorbar\":{\"outlinewidth\":0,\"ticks\":\"\"},\"colorscale\":[[0.0,\"#0d0887\"],[0.1111111111111111,\"#46039f\"],[0.2222222222222222,\"#7201a8\"],[0.3333333333333333,\"#9c179e\"],[0.4444444444444444,\"#bd3786\"],[0.5555555555555556,\"#d8576b\"],[0.6666666666666666,\"#ed7953\"],[0.7777777777777778,\"#fb9f3a\"],[0.8888888888888888,\"#fdca26\"],[1.0,\"#f0f921\"]]}],\"mesh3d\":[{\"type\":\"mesh3d\",\"colorbar\":{\"outlinewidth\":0,\"ticks\":\"\"}}],\"scatter\":[{\"fillpattern\":{\"fillmode\":\"overlay\",\"size\":10,\"solidity\":0.2},\"type\":\"scatter\"}],\"parcoords\":[{\"type\":\"parcoords\",\"line\":{\"colorbar\":{\"outlinewidth\":0,\"ticks\":\"\"}}}],\"scatterpolargl\":[{\"type\":\"scatterpolargl\",\"marker\":{\"colorbar\":{\"outlinewidth\":0,\"ticks\":\"\"}}}],\"bar\":[{\"error_x\":{\"color\":\"#2a3f5f\"},\"error_y\":{\"color\":\"#2a3f5f\"},\"marker\":{\"line\":{\"color\":\"#E5ECF6\",\"width\":0.5},\"pattern\":{\"fillmode\":\"overlay\",\"size\":10,\"solidity\":0.2}},\"type\":\"bar\"}],\"scattergeo\":[{\"type\":\"scattergeo\",\"marker\":{\"colorbar\":{\"outlinewidth\":0,\"ticks\":\"\"}}}],\"scatterpolar\":[{\"type\":\"scatterpolar\",\"marker\":{\"colorbar\":{\"outlinewidth\":0,\"ticks\":\"\"}}}],\"histogram\":[{\"marker\":{\"pattern\":{\"fillmode\":\"overlay\",\"size\":10,\"solidity\":0.2}},\"type\":\"histogram\"}],\"scattergl\":[{\"type\":\"scattergl\",\"marker\":{\"colorbar\":{\"outlinewidth\":0,\"ticks\":\"\"}}}],\"scatter3d\":[{\"type\":\"scatter3d\",\"line\":{\"colorbar\":{\"outlinewidth\":0,\"ticks\":\"\"}},\"marker\":{\"colorbar\":{\"outlinewidth\":0,\"ticks\":\"\"}}}],\"scattermapbox\":[{\"type\":\"scattermapbox\",\"marker\":{\"colorbar\":{\"outlinewidth\":0,\"ticks\":\"\"}}}],\"scatterternary\":[{\"type\":\"scatterternary\",\"marker\":{\"colorbar\":{\"outlinewidth\":0,\"ticks\":\"\"}}}],\"scattercarpet\":[{\"type\":\"scattercarpet\",\"marker\":{\"colorbar\":{\"outlinewidth\":0,\"ticks\":\"\"}}}],\"carpet\":[{\"aaxis\":{\"endlinecolor\":\"#2a3f5f\",\"gridcolor\":\"white\",\"linecolor\":\"white\",\"minorgridcolor\":\"white\",\"startlinecolor\":\"#2a3f5f\"},\"baxis\":{\"endlinecolor\":\"#2a3f5f\",\"gridcolor\":\"white\",\"linecolor\":\"white\",\"minorgridcolor\":\"white\",\"startlinecolor\":\"#2a3f5f\"},\"type\":\"carpet\"}],\"table\":[{\"cells\":{\"fill\":{\"color\":\"#EBF0F8\"},\"line\":{\"color\":\"white\"}},\"header\":{\"fill\":{\"color\":\"#C8D4E3\"},\"line\":{\"color\":\"white\"}},\"type\":\"table\"}],\"barpolar\":[{\"marker\":{\"line\":{\"color\":\"#E5ECF6\",\"width\":0.5},\"pattern\":{\"fillmode\":\"overlay\",\"size\":10,\"solidity\":0.2}},\"type\":\"barpolar\"}],\"pie\":[{\"automargin\":true,\"type\":\"pie\"}]},\"layout\":{\"autotypenumbers\":\"strict\",\"colorway\":[\"#636efa\",\"#EF553B\",\"#00cc96\",\"#ab63fa\",\"#FFA15A\",\"#19d3f3\",\"#FF6692\",\"#B6E880\",\"#FF97FF\",\"#FECB52\"],\"font\":{\"color\":\"#2a3f5f\"},\"hovermode\":\"closest\",\"hoverlabel\":{\"align\":\"left\"},\"paper_bgcolor\":\"white\",\"plot_bgcolor\":\"#E5ECF6\",\"polar\":{\"bgcolor\":\"#E5ECF6\",\"angularaxis\":{\"gridcolor\":\"white\",\"linecolor\":\"white\",\"ticks\":\"\"},\"radialaxis\":{\"gridcolor\":\"white\",\"linecolor\":\"white\",\"ticks\":\"\"}},\"ternary\":{\"bgcolor\":\"#E5ECF6\",\"aaxis\":{\"gridcolor\":\"white\",\"linecolor\":\"white\",\"ticks\":\"\"},\"baxis\":{\"gridcolor\":\"white\",\"linecolor\":\"white\",\"ticks\":\"\"},\"caxis\":{\"gridcolor\":\"white\",\"linecolor\":\"white\",\"ticks\":\"\"}},\"coloraxis\":{\"colorbar\":{\"outlinewidth\":0,\"ticks\":\"\"}},\"colorscale\":{\"sequential\":[[0.0,\"#0d0887\"],[0.1111111111111111,\"#46039f\"],[0.2222222222222222,\"#7201a8\"],[0.3333333333333333,\"#9c179e\"],[0.4444444444444444,\"#bd3786\"],[0.5555555555555556,\"#d8576b\"],[0.6666666666666666,\"#ed7953\"],[0.7777777777777778,\"#fb9f3a\"],[0.8888888888888888,\"#fdca26\"],[1.0,\"#f0f921\"]],\"sequentialminus\":[[0.0,\"#0d0887\"],[0.1111111111111111,\"#46039f\"],[0.2222222222222222,\"#7201a8\"],[0.3333333333333333,\"#9c179e\"],[0.4444444444444444,\"#bd3786\"],[0.5555555555555556,\"#d8576b\"],[0.6666666666666666,\"#ed7953\"],[0.7777777777777778,\"#fb9f3a\"],[0.8888888888888888,\"#fdca26\"],[1.0,\"#f0f921\"]],\"diverging\":[[0,\"#8e0152\"],[0.1,\"#c51b7d\"],[0.2,\"#de77ae\"],[0.3,\"#f1b6da\"],[0.4,\"#fde0ef\"],[0.5,\"#f7f7f7\"],[0.6,\"#e6f5d0\"],[0.7,\"#b8e186\"],[0.8,\"#7fbc41\"],[0.9,\"#4d9221\"],[1,\"#276419\"]]},\"xaxis\":{\"gridcolor\":\"white\",\"linecolor\":\"white\",\"ticks\":\"\",\"title\":{\"standoff\":15},\"zerolinecolor\":\"white\",\"automargin\":true,\"zerolinewidth\":2},\"yaxis\":{\"gridcolor\":\"white\",\"linecolor\":\"white\",\"ticks\":\"\",\"title\":{\"standoff\":15},\"zerolinecolor\":\"white\",\"automargin\":true,\"zerolinewidth\":2},\"scene\":{\"xaxis\":{\"backgroundcolor\":\"#E5ECF6\",\"gridcolor\":\"white\",\"linecolor\":\"white\",\"showbackground\":true,\"ticks\":\"\",\"zerolinecolor\":\"white\",\"gridwidth\":2},\"yaxis\":{\"backgroundcolor\":\"#E5ECF6\",\"gridcolor\":\"white\",\"linecolor\":\"white\",\"showbackground\":true,\"ticks\":\"\",\"zerolinecolor\":\"white\",\"gridwidth\":2},\"zaxis\":{\"backgroundcolor\":\"#E5ECF6\",\"gridcolor\":\"white\",\"linecolor\":\"white\",\"showbackground\":true,\"ticks\":\"\",\"zerolinecolor\":\"white\",\"gridwidth\":2}},\"shapedefaults\":{\"line\":{\"color\":\"#2a3f5f\"}},\"annotationdefaults\":{\"arrowcolor\":\"#2a3f5f\",\"arrowhead\":0,\"arrowwidth\":1},\"geo\":{\"bgcolor\":\"white\",\"landcolor\":\"#E5ECF6\",\"subunitcolor\":\"white\",\"showland\":true,\"showlakes\":true,\"lakecolor\":\"white\"},\"title\":{\"x\":0.05},\"mapbox\":{\"style\":\"light\"}}},\"font\":{\"size\":16}},                        {\"responsive\": true}                    ).then(function(){\n",
              "                            \n",
              "var gd = document.getElementById('9112550d-bb55-44bd-9749-ce0ca88e63ac');\n",
              "var x = new MutationObserver(function (mutations, observer) {{\n",
              "        var display = window.getComputedStyle(gd).display;\n",
              "        if (!display || display === 'none') {{\n",
              "            console.log([gd, 'removed!']);\n",
              "            Plotly.purge(gd);\n",
              "            observer.disconnect();\n",
              "        }}\n",
              "}});\n",
              "\n",
              "// Listen for the removal of the full notebook cells\n",
              "var notebookContainer = gd.closest('#notebook-container');\n",
              "if (notebookContainer) {{\n",
              "    x.observe(notebookContainer, {childList: true});\n",
              "}}\n",
              "\n",
              "// Listen for the clearing of the current output cell\n",
              "var outputEl = gd.closest('.output');\n",
              "if (outputEl) {{\n",
              "    x.observe(outputEl, {childList: true});\n",
              "}}\n",
              "\n",
              "                        })                };                            </script>        </div>\n",
              "</body>\n",
              "</html>"
            ]
          },
          "metadata": {}
        },
        {
          "output_type": "display_data",
          "data": {
            "text/html": [
              "<html>\n",
              "<head><meta charset=\"utf-8\" /></head>\n",
              "<body>\n",
              "    <div>            <script src=\"https://cdnjs.cloudflare.com/ajax/libs/mathjax/2.7.5/MathJax.js?config=TeX-AMS-MML_SVG\"></script><script type=\"text/javascript\">if (window.MathJax && window.MathJax.Hub && window.MathJax.Hub.Config) {window.MathJax.Hub.Config({SVG: {font: \"STIX-Web\"}});}</script>                <script type=\"text/javascript\">window.PlotlyConfig = {MathJaxConfig: 'local'};</script>\n",
              "        <script charset=\"utf-8\" src=\"https://cdn.plot.ly/plotly-2.24.1.min.js\"></script>                <div id=\"dd0706b0-349d-4f78-889c-8a80c28969fc\" class=\"plotly-graph-div\" style=\"height:600px; width:800px;\"></div>            <script type=\"text/javascript\">                                    window.PLOTLYENV=window.PLOTLYENV || {};                                    if (document.getElementById(\"dd0706b0-349d-4f78-889c-8a80c28969fc\")) {                    Plotly.newPlot(                        \"dd0706b0-349d-4f78-889c-8a80c28969fc\",                        [{\"mode\":\"lines\",\"name\":\"no-name-0afa48a4-f2e9-4bde-8719-28bf4e2cc0dd\",\"x\":[0.0,0.00968035375799229,0.01936070751598458,0.02904106127397687,0.03872141503196916,0.04840176878996145,0.05808212254795374,0.06776247630594603,0.07744283006393832,0.0871231838219306,0.0968035375799229,0.10648389133791519,0.11616424509590748,0.12584459885389976,0.13552495261189207,0.14520530636988435,0.15488566012787663,0.16456601388586892,0.1742463676438612,0.1839267214018535,0.1936070751598458,0.20328742891783808,0.21296778267583039,0.22264813643382267,0.23232849019181495,0.24200884394980723,0.2516891977077995,0.2613695514657918,0.27104990522378414,0.2807302589817764,0.2904106127397687,0.30009096649776096,0.30977132025575327,0.3194516740137456,0.32913202777173783,0.33881238152973014,0.3484927352877224,0.3581730890457147,0.367853442803707,0.3775337965616993,0.3872141503196916,0.3968945040776839,0.40657485783567615,0.41625521159366846,0.42593556535166077,0.435615919109653,0.44529627286764534,0.4549766266256376,0.4646569803836299,0.4743373341416222,0.48401768789961447,0.4936980416576068,0.503378395415599,0.5130587491735914,0.5227391029315837,0.5324194566895759,0.5420998104475683,0.5517801642055605,0.5614605179635528,0.571140871721545,0.5808212254795374,0.5905015792375297,0.6001819329955219,0.6098622867535143,0.6195426405115065,0.6292229942694988,0.6389033480274912,0.6485837017854834,0.6582640555434757,0.667944409301468,0.6776247630594603,0.6873051168174525,0.6969854705754448,0.7066658243334372,0.7163461780914294,0.7260265318494217,0.735706885607414,0.7453872393654063,0.7550675931233986,0.7647479468813909,0.7744283006393832,0.7841086543973754,0.7937890081553678,0.80346936191336,0.8131497156713523,0.8228300694293447,0.8325104231873369,0.8421907769453292,0.8518711307033215,0.8615514844613138,0.871231838219306,0.8809121919772983,0.8905925457352907,0.9002728994932829,0.9099532532512752,0.9196336070092676,0.9293139607672598,0.9389943145252521,0.9486746682832444,0.9583550220412367],\"y\":[0.02702702702702703,0.02702702702702703,0.02702702702702703,0.02702702702702703,0.02702702702702703,0.02702702702702703,0.02702702702702703,0.02702702702702703,0.02702702702702703,0.02702702702702703,0.02702702702702703,0.02702702702702703,0.02702702702702703,0.02702702702702703,0.02702702702702703,0.02702702702702703,0.02702702702702703,0.02702702702702703,0.02702702702702703,0.02702702702702703,0.02702702702702703,0.02702702702702703,0.02702702702702703,0.02702702702702703,0.02702702702702703,0.02702702702702703,0.02702702702702703,0.02702702702702703,0.02702702702702703,0.02702702702702703,0.02702702702702703,0.02702702702702703,0.02702702702702703,0.02702702702702703,0.02702702702702703,0.02702702702702703,0.02702702702702703,0.02702702702702703,0.02702702702702703,0.02702702702702703,0.02702702702702703,0.02702702702702703,0.02702702702702703,0.02702702702702703,0.02702702702702703,0.02702702702702703,0.02702702702702703,0.02702702702702703,0.02702702702702703,0.02702702702702703,0.02702702702702703,0.04054054054054054,0.04054054054054054,0.05405405405405406,0.10810810810810811,0.13513513513513514,0.17567567567567569,0.22972972972972974,0.24324324324324326,0.24324324324324326,0.2972972972972973,0.2972972972972973,0.2972972972972973,0.2972972972972973,0.2972972972972973,0.2972972972972973,0.2972972972972973,0.2972972972972973,0.2972972972972973,0.2972972972972973,0.2972972972972973,0.2972972972972973,0.2972972972972973,0.2972972972972973,0.2972972972972973,0.2972972972972973,0.3108108108108108,0.3108108108108108,0.3783783783783784,0.40540540540540543,0.47297297297297297,0.5,0.527027027027027,0.6081081081081081,0.6216216216216216,0.6216216216216216,0.6216216216216216,0.6216216216216216,0.6216216216216216,0.6216216216216216,0.6216216216216216,0.6216216216216216,0.6216216216216216,0.6216216216216216,0.6216216216216216,0.6351351351351351,0.7702702702702703,0.8513513513513513,0.9594594594594594,1.0],\"type\":\"scatter\"}],                        {\"title\":{\"text\":\"Empirical Distribution Function Plot\",\"font\":{\"size\":20}},\"xaxis\":{\"title\":{\"text\":\"Objective Value\"}},\"yaxis\":{\"title\":{\"text\":\"Cumulative Probability\"},\"range\":[0,1]},\"template\":{\"data\":{\"histogram2dcontour\":[{\"type\":\"histogram2dcontour\",\"colorbar\":{\"outlinewidth\":0,\"ticks\":\"\"},\"colorscale\":[[0.0,\"#0d0887\"],[0.1111111111111111,\"#46039f\"],[0.2222222222222222,\"#7201a8\"],[0.3333333333333333,\"#9c179e\"],[0.4444444444444444,\"#bd3786\"],[0.5555555555555556,\"#d8576b\"],[0.6666666666666666,\"#ed7953\"],[0.7777777777777778,\"#fb9f3a\"],[0.8888888888888888,\"#fdca26\"],[1.0,\"#f0f921\"]]}],\"choropleth\":[{\"type\":\"choropleth\",\"colorbar\":{\"outlinewidth\":0,\"ticks\":\"\"}}],\"histogram2d\":[{\"type\":\"histogram2d\",\"colorbar\":{\"outlinewidth\":0,\"ticks\":\"\"},\"colorscale\":[[0.0,\"#0d0887\"],[0.1111111111111111,\"#46039f\"],[0.2222222222222222,\"#7201a8\"],[0.3333333333333333,\"#9c179e\"],[0.4444444444444444,\"#bd3786\"],[0.5555555555555556,\"#d8576b\"],[0.6666666666666666,\"#ed7953\"],[0.7777777777777778,\"#fb9f3a\"],[0.8888888888888888,\"#fdca26\"],[1.0,\"#f0f921\"]]}],\"heatmap\":[{\"type\":\"heatmap\",\"colorbar\":{\"outlinewidth\":0,\"ticks\":\"\"},\"colorscale\":[[0.0,\"#0d0887\"],[0.1111111111111111,\"#46039f\"],[0.2222222222222222,\"#7201a8\"],[0.3333333333333333,\"#9c179e\"],[0.4444444444444444,\"#bd3786\"],[0.5555555555555556,\"#d8576b\"],[0.6666666666666666,\"#ed7953\"],[0.7777777777777778,\"#fb9f3a\"],[0.8888888888888888,\"#fdca26\"],[1.0,\"#f0f921\"]]}],\"heatmapgl\":[{\"type\":\"heatmapgl\",\"colorbar\":{\"outlinewidth\":0,\"ticks\":\"\"},\"colorscale\":[[0.0,\"#0d0887\"],[0.1111111111111111,\"#46039f\"],[0.2222222222222222,\"#7201a8\"],[0.3333333333333333,\"#9c179e\"],[0.4444444444444444,\"#bd3786\"],[0.5555555555555556,\"#d8576b\"],[0.6666666666666666,\"#ed7953\"],[0.7777777777777778,\"#fb9f3a\"],[0.8888888888888888,\"#fdca26\"],[1.0,\"#f0f921\"]]}],\"contourcarpet\":[{\"type\":\"contourcarpet\",\"colorbar\":{\"outlinewidth\":0,\"ticks\":\"\"}}],\"contour\":[{\"type\":\"contour\",\"colorbar\":{\"outlinewidth\":0,\"ticks\":\"\"},\"colorscale\":[[0.0,\"#0d0887\"],[0.1111111111111111,\"#46039f\"],[0.2222222222222222,\"#7201a8\"],[0.3333333333333333,\"#9c179e\"],[0.4444444444444444,\"#bd3786\"],[0.5555555555555556,\"#d8576b\"],[0.6666666666666666,\"#ed7953\"],[0.7777777777777778,\"#fb9f3a\"],[0.8888888888888888,\"#fdca26\"],[1.0,\"#f0f921\"]]}],\"surface\":[{\"type\":\"surface\",\"colorbar\":{\"outlinewidth\":0,\"ticks\":\"\"},\"colorscale\":[[0.0,\"#0d0887\"],[0.1111111111111111,\"#46039f\"],[0.2222222222222222,\"#7201a8\"],[0.3333333333333333,\"#9c179e\"],[0.4444444444444444,\"#bd3786\"],[0.5555555555555556,\"#d8576b\"],[0.6666666666666666,\"#ed7953\"],[0.7777777777777778,\"#fb9f3a\"],[0.8888888888888888,\"#fdca26\"],[1.0,\"#f0f921\"]]}],\"mesh3d\":[{\"type\":\"mesh3d\",\"colorbar\":{\"outlinewidth\":0,\"ticks\":\"\"}}],\"scatter\":[{\"fillpattern\":{\"fillmode\":\"overlay\",\"size\":10,\"solidity\":0.2},\"type\":\"scatter\"}],\"parcoords\":[{\"type\":\"parcoords\",\"line\":{\"colorbar\":{\"outlinewidth\":0,\"ticks\":\"\"}}}],\"scatterpolargl\":[{\"type\":\"scatterpolargl\",\"marker\":{\"colorbar\":{\"outlinewidth\":0,\"ticks\":\"\"}}}],\"bar\":[{\"error_x\":{\"color\":\"#2a3f5f\"},\"error_y\":{\"color\":\"#2a3f5f\"},\"marker\":{\"line\":{\"color\":\"#E5ECF6\",\"width\":0.5},\"pattern\":{\"fillmode\":\"overlay\",\"size\":10,\"solidity\":0.2}},\"type\":\"bar\"}],\"scattergeo\":[{\"type\":\"scattergeo\",\"marker\":{\"colorbar\":{\"outlinewidth\":0,\"ticks\":\"\"}}}],\"scatterpolar\":[{\"type\":\"scatterpolar\",\"marker\":{\"colorbar\":{\"outlinewidth\":0,\"ticks\":\"\"}}}],\"histogram\":[{\"marker\":{\"pattern\":{\"fillmode\":\"overlay\",\"size\":10,\"solidity\":0.2}},\"type\":\"histogram\"}],\"scattergl\":[{\"type\":\"scattergl\",\"marker\":{\"colorbar\":{\"outlinewidth\":0,\"ticks\":\"\"}}}],\"scatter3d\":[{\"type\":\"scatter3d\",\"line\":{\"colorbar\":{\"outlinewidth\":0,\"ticks\":\"\"}},\"marker\":{\"colorbar\":{\"outlinewidth\":0,\"ticks\":\"\"}}}],\"scattermapbox\":[{\"type\":\"scattermapbox\",\"marker\":{\"colorbar\":{\"outlinewidth\":0,\"ticks\":\"\"}}}],\"scatterternary\":[{\"type\":\"scatterternary\",\"marker\":{\"colorbar\":{\"outlinewidth\":0,\"ticks\":\"\"}}}],\"scattercarpet\":[{\"type\":\"scattercarpet\",\"marker\":{\"colorbar\":{\"outlinewidth\":0,\"ticks\":\"\"}}}],\"carpet\":[{\"aaxis\":{\"endlinecolor\":\"#2a3f5f\",\"gridcolor\":\"white\",\"linecolor\":\"white\",\"minorgridcolor\":\"white\",\"startlinecolor\":\"#2a3f5f\"},\"baxis\":{\"endlinecolor\":\"#2a3f5f\",\"gridcolor\":\"white\",\"linecolor\":\"white\",\"minorgridcolor\":\"white\",\"startlinecolor\":\"#2a3f5f\"},\"type\":\"carpet\"}],\"table\":[{\"cells\":{\"fill\":{\"color\":\"#EBF0F8\"},\"line\":{\"color\":\"white\"}},\"header\":{\"fill\":{\"color\":\"#C8D4E3\"},\"line\":{\"color\":\"white\"}},\"type\":\"table\"}],\"barpolar\":[{\"marker\":{\"line\":{\"color\":\"#E5ECF6\",\"width\":0.5},\"pattern\":{\"fillmode\":\"overlay\",\"size\":10,\"solidity\":0.2}},\"type\":\"barpolar\"}],\"pie\":[{\"automargin\":true,\"type\":\"pie\"}]},\"layout\":{\"autotypenumbers\":\"strict\",\"colorway\":[\"#636efa\",\"#EF553B\",\"#00cc96\",\"#ab63fa\",\"#FFA15A\",\"#19d3f3\",\"#FF6692\",\"#B6E880\",\"#FF97FF\",\"#FECB52\"],\"font\":{\"color\":\"#2a3f5f\"},\"hovermode\":\"closest\",\"hoverlabel\":{\"align\":\"left\"},\"paper_bgcolor\":\"white\",\"plot_bgcolor\":\"#E5ECF6\",\"polar\":{\"bgcolor\":\"#E5ECF6\",\"angularaxis\":{\"gridcolor\":\"white\",\"linecolor\":\"white\",\"ticks\":\"\"},\"radialaxis\":{\"gridcolor\":\"white\",\"linecolor\":\"white\",\"ticks\":\"\"}},\"ternary\":{\"bgcolor\":\"#E5ECF6\",\"aaxis\":{\"gridcolor\":\"white\",\"linecolor\":\"white\",\"ticks\":\"\"},\"baxis\":{\"gridcolor\":\"white\",\"linecolor\":\"white\",\"ticks\":\"\"},\"caxis\":{\"gridcolor\":\"white\",\"linecolor\":\"white\",\"ticks\":\"\"}},\"coloraxis\":{\"colorbar\":{\"outlinewidth\":0,\"ticks\":\"\"}},\"colorscale\":{\"sequential\":[[0.0,\"#0d0887\"],[0.1111111111111111,\"#46039f\"],[0.2222222222222222,\"#7201a8\"],[0.3333333333333333,\"#9c179e\"],[0.4444444444444444,\"#bd3786\"],[0.5555555555555556,\"#d8576b\"],[0.6666666666666666,\"#ed7953\"],[0.7777777777777778,\"#fb9f3a\"],[0.8888888888888888,\"#fdca26\"],[1.0,\"#f0f921\"]],\"sequentialminus\":[[0.0,\"#0d0887\"],[0.1111111111111111,\"#46039f\"],[0.2222222222222222,\"#7201a8\"],[0.3333333333333333,\"#9c179e\"],[0.4444444444444444,\"#bd3786\"],[0.5555555555555556,\"#d8576b\"],[0.6666666666666666,\"#ed7953\"],[0.7777777777777778,\"#fb9f3a\"],[0.8888888888888888,\"#fdca26\"],[1.0,\"#f0f921\"]],\"diverging\":[[0,\"#8e0152\"],[0.1,\"#c51b7d\"],[0.2,\"#de77ae\"],[0.3,\"#f1b6da\"],[0.4,\"#fde0ef\"],[0.5,\"#f7f7f7\"],[0.6,\"#e6f5d0\"],[0.7,\"#b8e186\"],[0.8,\"#7fbc41\"],[0.9,\"#4d9221\"],[1,\"#276419\"]]},\"xaxis\":{\"gridcolor\":\"white\",\"linecolor\":\"white\",\"ticks\":\"\",\"title\":{\"standoff\":15},\"zerolinecolor\":\"white\",\"automargin\":true,\"zerolinewidth\":2},\"yaxis\":{\"gridcolor\":\"white\",\"linecolor\":\"white\",\"ticks\":\"\",\"title\":{\"standoff\":15},\"zerolinecolor\":\"white\",\"automargin\":true,\"zerolinewidth\":2},\"scene\":{\"xaxis\":{\"backgroundcolor\":\"#E5ECF6\",\"gridcolor\":\"white\",\"linecolor\":\"white\",\"showbackground\":true,\"ticks\":\"\",\"zerolinecolor\":\"white\",\"gridwidth\":2},\"yaxis\":{\"backgroundcolor\":\"#E5ECF6\",\"gridcolor\":\"white\",\"linecolor\":\"white\",\"showbackground\":true,\"ticks\":\"\",\"zerolinecolor\":\"white\",\"gridwidth\":2},\"zaxis\":{\"backgroundcolor\":\"#E5ECF6\",\"gridcolor\":\"white\",\"linecolor\":\"white\",\"showbackground\":true,\"ticks\":\"\",\"zerolinecolor\":\"white\",\"gridwidth\":2}},\"shapedefaults\":{\"line\":{\"color\":\"#2a3f5f\"}},\"annotationdefaults\":{\"arrowcolor\":\"#2a3f5f\",\"arrowhead\":0,\"arrowwidth\":1},\"geo\":{\"bgcolor\":\"white\",\"landcolor\":\"#E5ECF6\",\"subunitcolor\":\"white\",\"showland\":true,\"showlakes\":true,\"lakecolor\":\"white\"},\"title\":{\"x\":0.05},\"mapbox\":{\"style\":\"light\"}}},\"font\":{\"size\":16},\"width\":800,\"height\":600},                        {\"responsive\": true}                    ).then(function(){\n",
              "                            \n",
              "var gd = document.getElementById('dd0706b0-349d-4f78-889c-8a80c28969fc');\n",
              "var x = new MutationObserver(function (mutations, observer) {{\n",
              "        var display = window.getComputedStyle(gd).display;\n",
              "        if (!display || display === 'none') {{\n",
              "            console.log([gd, 'removed!']);\n",
              "            Plotly.purge(gd);\n",
              "            observer.disconnect();\n",
              "        }}\n",
              "}});\n",
              "\n",
              "// Listen for the removal of the full notebook cells\n",
              "var notebookContainer = gd.closest('#notebook-container');\n",
              "if (notebookContainer) {{\n",
              "    x.observe(notebookContainer, {childList: true});\n",
              "}}\n",
              "\n",
              "// Listen for the clearing of the current output cell\n",
              "var outputEl = gd.closest('.output');\n",
              "if (outputEl) {{\n",
              "    x.observe(outputEl, {childList: true});\n",
              "}}\n",
              "\n",
              "                        })                };                            </script>        </div>\n",
              "</body>\n",
              "</html>"
            ]
          },
          "metadata": {}
        }
      ]
    },
    {
      "cell_type": "markdown",
      "source": [
        "# NSGA-II NAS Optimized TransNAS_TSAD Model on the WADI Dataset\n",
        "\n",
        "In this demonstration, we present the application and evaluation of a dynamic transformer model, TransNAS_TSAD, that was fine-tuned through a comprehensive NSGA-II (Non-dominated Sorting Genetic Algorithm II) NAS (Neural Architecture Search) process. This model underwent 100 trials of optimization specifically for the WADI dataset, during which the NSGA-II algorithm identified the most effective configuration for our purposes. The parameters showcased in this demo are directly derived from the best-performing model configuration obtained through this rigorous search process, ensuring we utilize a highly optimized setup for demonstrating the model's capabilities on the WADI dataset"
      ],
      "metadata": {
        "id": "LPbXO4cggnwP"
      }
    },
    {
      "cell_type": "code",
      "source": [
        "import torch\n",
        "import time\n",
        "import pandas as pd\n",
        "import numpy as np\n",
        "from tqdm import tqdm\n",
        "# Additional necessary imports (such as for the functions mentioned above)\n",
        "# Suppress future warnings\n",
        "warnings.simplefilter(action='ignore', category=FutureWarning)\n",
        "\n",
        "\n",
        "class Config:\n",
        "    def __init__(self):\n",
        "        self.dataset = 'WADI'\n",
        "        self.model = 'TransNAS_TSAD'\n",
        "        self.retrain = True\n",
        "        self.test = False\n",
        "\n",
        "config = Config()\n",
        "\n",
        "# Define static hyperparameters\n",
        "\n",
        "def train_and_test_model(num_epochs=5):\n",
        "    train_loader, test_loader, labels = load_dataset(OUTPUT_FOLDER,config.dataset,config)\n",
        "    trainD, testD = next(iter(train_loader)), next(iter(test_loader))\n",
        "    trainO, testO = trainD, testD\n",
        "\n",
        "    static_params = {\n",
        "        'lr':0.0015406367696774947,\n",
        "        'dropout_rate': 0.28863840219073156,\n",
        "        'dim_feedforward': 24,\n",
        "        'batch': 128,\n",
        "        'encoder_layers': 2,\n",
        "        'decoder_layers': 1,\n",
        "        'attention_type': 'scaled_dot_product',\n",
        "        'positional_encoding_type': 'sinusoidal',\n",
        "        'phase_type': '2phase',\n",
        "        'gaussian_noise_std': 0.0010420486609326078,\n",
        "        'time_warping': True,\n",
        "        'time_masking': False,\n",
        "        'self_conditioning': False,\n",
        "        'layer_norm': False,\n",
        "        'activation_function': 'leaky_relu',\n",
        "        'use_linear_embedding': True,\n",
        "        'nhead': labels.shape[1],  # Adjust based on your dataset\n",
        "        'num_ffn_layers': 1\n",
        "    }\n",
        "\n",
        "#{'lr': 0.0015406367696774947, 'dropout_rate': 0.28863840219073156, 'dim_feedforward': 24, 'batch': 128, 'encoder_layers': 2, 'decoder_layers': 1, 'activation_function': 'leaky_relu', 'time_warping': True, 'time_masking': False, 'gaussian_noise': 0.0010420486609326078, 'use_linear_embedding': True, 'phase_type': '2phase', 'self_conditioning': False, 'layer_norm': False, 'positional_encoding_type': 'sinusoidal', 'num_ffn_layers': 1}.\n",
        "\n",
        "\n",
        "    model, optimizer, scheduler, epoch, accuracy_list = load_model(config.model, labels.shape[1],config, **static_params)\n",
        "    model.double()\n",
        "    trainD, testD = convert_to_windows(trainD, model,config), convert_to_windows(testD, model,config)\n",
        "    #if model.name in ['Attention', 'DAGMM', 'USAD', 'MSCRED', 'CAE_M', 'GDN', 'MTAD_GAT', 'MAD_GAN'] or 'TransNAS_TSAD' in model.name:\n",
        "     #   trainD, testD = convert_to_windows(trainD, model), convert_to_windows(testD, model)\n",
        "\n",
        "    # Training phase\n",
        "    if not config.test:\n",
        "        print(f'Training {config.model} on {config.dataset}')\n",
        "        start = time.time()\n",
        "        for e in tqdm(range(epoch+1, epoch+num_epochs+1)):\n",
        "            lossT, lr = optimize_model(e, model, trainD, trainO, optimizer, scheduler,config)\n",
        "            accuracy_list.append((lossT, lr))\n",
        "        print('Training time: ' + \"{:10.4f}\".format(time.time() - start) + ' s')\n",
        "        save_model(model, optimizer, scheduler, e, accuracy_list,config)\n",
        "       #plot_accuracies(accuracy_list, f'{config.model}_{config.dataset}')\n",
        "\n",
        "    # Testing phase\n",
        "    torch.zero_grad = True\n",
        "    model.eval()\n",
        "    print(f'Testing {config.model} on {config.dataset}')\n",
        "    loss, y_pred = optimize_model(0, model, testD, testO, optimizer, scheduler,config, training=False)\n",
        "\n",
        "    # Plot curves\n",
        "    if not config.test:\n",
        "        if 'TransNAS_TSAD' in model.name:\n",
        "            testO = torch.roll(testO, 1, 0)\n",
        "        #plotter(f'{config.model}_{config.dataset}', testO, y_pred, loss, labels)\n",
        "        #plotter_plotly(f'{config.model}_{config.dataset}', testO, y_pred, loss, labels)\n",
        "\n",
        "    # Scores\n",
        "    df = pd.DataFrame()\n",
        "    lossT, _ = optimize_model(0, model, trainD, trainO, optimizer, scheduler,config, training=False)\n",
        "    for i in range(loss.shape[1]):\n",
        "        lt, l, ls = lossT[:, i], loss[:, i], labels[:, i]\n",
        "        result, pred = pot_eval(config,100,lt, l, ls)\n",
        "        df = df.append(result, ignore_index=True)\n",
        "\n",
        "\n",
        "    lossTfinal, lossFinal = np.mean(lossT, axis=1), np.mean(loss, axis=1)\n",
        "    labelsFinal = (np.sum(labels, axis=1) >= 1) + 0\n",
        "    # Calculate the F1 score and the number of model parameters\n",
        "    num_params = sum(p.numel() for p in model.parameters())\n",
        "    result, _ = pot_eval(config,100,lossTfinal, lossFinal, labelsFinal)\n",
        "    Result2= result\n",
        "    #Result2.update(hit_att(loss, labels))\n",
        "    #Result2.update(ndcg(loss, labels))\n",
        "    #print(df)\n",
        "    pprint(Result2)\n"
      ],
      "metadata": {
        "id": "p0-q1MHwgnwQ"
      },
      "execution_count": 11,
      "outputs": []
    },
    {
      "cell_type": "code",
      "source": [
        "train_and_test_model()"
      ],
      "metadata": {
        "colab": {
          "base_uri": "https://localhost:8080/"
        },
        "outputId": "7de37a12-ce5c-461c-fd87-a3a7872ad6fb",
        "id": "U0CDCePhgnwQ"
      },
      "execution_count": 12,
      "outputs": [
        {
          "output_type": "stream",
          "name": "stdout",
          "text": [
            "Hyperparameters: {'lr': 0.0015406367696774947, 'dropout_rate': 0.28863840219073156, 'dim_feedforward': 24, 'batch': 128, 'encoder_layers': 2, 'decoder_layers': 1, 'attention_type': 'scaled_dot_product', 'positional_encoding_type': 'sinusoidal', 'phase_type': '2phase', 'gaussian_noise_std': 0.0010420486609326078, 'time_warping': True, 'time_masking': False, 'self_conditioning': False, 'layer_norm': False, 'activation_function': 'leaky_relu', 'use_linear_embedding': True, 'nhead': 127, 'num_ffn_layers': 1}\n",
            "Creating new model: TransNAS_TSAD\n"
          ]
        },
        {
          "output_type": "stream",
          "name": "stderr",
          "text": [
            "/usr/local/lib/python3.10/dist-packages/torch/nn/modules/transformer.py:282: UserWarning: enable_nested_tensor is True, but self.use_nested_tensor is False because encoder_layer was not TransformerEncoderLayer\n",
            "  warnings.warn(f\"enable_nested_tensor is True, but self.use_nested_tensor is False because {why_not_sparsity_fast_path}\")\n"
          ]
        },
        {
          "output_type": "stream",
          "name": "stdout",
          "text": [
            "Training TransNAS_TSAD on WADI\n"
          ]
        },
        {
          "output_type": "stream",
          "name": "stderr",
          "text": [
            "100%|██████████| 5/5 [03:51<00:00, 46.23s/it]\n"
          ]
        },
        {
          "output_type": "stream",
          "name": "stdout",
          "text": [
            "Training time:   231.1350 s\n",
            "Testing TransNAS_TSAD on WADI\n",
            "{'FN': 68,\n",
            " 'FP': 129,\n",
            " 'ROC/AUC': 0.9109663300533053,\n",
            " 'TN': 16753,\n",
            " 'TP': 331,\n",
            " 'f1': 0.7706585695846553,\n",
            " 'precision': 0.7195652017485826,\n",
            " 'recall': 0.8295739140457666,\n",
            " 'threshold': 0.09954134449353477}\n"
          ]
        }
      ]
    },
    {
      "cell_type": "markdown",
      "source": [
        "# Evaluating a Pretrained Model: NSGA-II NAS Enhanced TransNAS_TSAD with an 82 F1 Score on WADI\n",
        "\n",
        "n this section, we focus on evaluating the performance of a pretrained TransNAS_TSAD model, which represents the pinnacle of optimization through our NSGA-II NAS (Non-dominated Sorting Genetic Algorithm II for Neural Architecture Search) process. This model, specifically fine-tuned for the WADI dataset, has been saved after rigorous training involving 100 trials to identify the most effective parameter configuration. The model achieved a remarkable F1 score of 82, underscoring the efficacy of the NSGA-II NAS approach in enhancing model performance. Here, we demonstrate the model's capabilities by loading the saved model and testing it on the WADI dataset to validate its achieved metrics and robustness in real-world scenarios."
      ],
      "metadata": {
        "id": "WX-Pcy5MS_z6"
      }
    },
    {
      "cell_type": "code",
      "source": [
        "import torch\n",
        "import time\n",
        "import pandas as pd\n",
        "import numpy as np\n",
        "from tqdm import tqdm\n",
        "# Additional necessary imports (such as for the functions mentioned above)\n",
        "\n",
        "class Config:\n",
        "    def __init__(self):\n",
        "        self.dataset = 'WADI'\n",
        "        self.model = 'TransNAS_TSAD'\n",
        "        self.retrain = False\n",
        "        self.test = True\n",
        "\n",
        "config = Config()\n",
        "\n",
        "# Define static hyperparameters\n",
        "\n",
        "def train_and_test_model(num_epochs=5):\n",
        "    train_loader, test_loader, labels = load_dataset(OUTPUT_FOLDER,config.dataset,config)\n",
        "    trainD, testD = next(iter(train_loader)), next(iter(test_loader))\n",
        "    trainO, testO = trainD, testD\n",
        "\n",
        "    static_params = {\n",
        "        'lr':0.0015406367696774947,\n",
        "        'dropout_rate': 0.28863840219073156,\n",
        "        'dim_feedforward': 24,\n",
        "        'batch': 128,\n",
        "        'encoder_layers': 2,\n",
        "        'decoder_layers': 1,\n",
        "        'attention_type': 'scaled_dot_product',\n",
        "        'positional_encoding_type': 'sinusoidal',\n",
        "        'phase_type': '2phase',\n",
        "        'gaussian_noise_std': 0.0010420486609326078,\n",
        "        'time_warping': True,\n",
        "        'time_masking': False,\n",
        "        'self_conditioning': False,\n",
        "        'layer_norm': False,\n",
        "        'activation_function': 'leaky_relu',\n",
        "        'use_linear_embedding': True,\n",
        "        'nhead': labels.shape[1],  # Adjust based on your dataset\n",
        "        'num_ffn_layers': 1\n",
        "    }\n",
        "\n",
        "#{'lr': 0.0015406367696774947, 'dropout_rate': 0.28863840219073156, 'dim_feedforward': 24, 'batch': 128, 'encoder_layers': 2, 'decoder_layers': 1, 'activation_function': 'leaky_relu', 'time_warping': True, 'time_masking': False, 'gaussian_noise': 0.0010420486609326078, 'use_linear_embedding': True, 'phase_type': '2phase', 'self_conditioning': False, 'layer_norm': False, 'positional_encoding_type': 'sinusoidal', 'num_ffn_layers': 1}.\n",
        "\n",
        "\n",
        "    model, optimizer, scheduler, epoch, accuracy_list = load_model(config.model, labels.shape[1],config, **static_params)\n",
        "    model.double()\n",
        "    trainD, testD = convert_to_windows(trainD, model,config), convert_to_windows(testD, model,config)\n",
        "    #if model.name in ['Attention', 'DAGMM', 'USAD', 'MSCRED', 'CAE_M', 'GDN', 'MTAD_GAT', 'MAD_GAN'] or 'TransNAS_TSAD' in model.name:\n",
        "     #   trainD, testD = convert_to_windows(trainD, model), convert_to_windows(testD, model)\n",
        "\n",
        "    # Training phase\n",
        "    if not config.test:\n",
        "        print(f'Training {config.model} on {config.dataset}')\n",
        "        start = time.time()\n",
        "        for e in tqdm(range(epoch+1, epoch+num_epochs+1)):\n",
        "            lossT, lr = optimize_model(e, model, trainD, trainO, optimizer, scheduler,config)\n",
        "            accuracy_list.append((lossT, lr))\n",
        "        print('Training time: ' + \"{:10.4f}\".format(time.time() - start) + ' s')\n",
        "        save_model(model, optimizer, scheduler, e, accuracy_list,config)\n",
        "       #plot_accuracies(accuracy_list, f'{config.model}_{config.dataset}')\n",
        "\n",
        "    # Testing phase\n",
        "    torch.zero_grad = True\n",
        "    model.eval()\n",
        "    print(f'Testing {config.model} on {config.dataset}')\n",
        "    loss, y_pred = optimize_model(0, model, testD, testO, optimizer, scheduler,config, training=False)\n",
        "\n",
        "    # Plot curves\n",
        "    if not config.test:\n",
        "        if 'TransNAS_TSAD' in model.name:\n",
        "            testO = torch.roll(testO, 1, 0)\n",
        "        #plotter(f'{config.model}_{config.dataset}', testO, y_pred, loss, labels)\n",
        "        #plotter_plotly(f'{config.model}_{config.dataset}', testO, y_pred, loss, labels)\n",
        "\n",
        "    # Scores\n",
        "    df = pd.DataFrame()\n",
        "    lossT, _ = optimize_model(0, model, trainD, trainO, optimizer, scheduler,config, training=False)\n",
        "    for i in range(loss.shape[1]):\n",
        "        lt, l, ls = lossT[:, i], loss[:, i], labels[:, i]\n",
        "        result, pred = pot_eval(config,100,lt, l, ls)\n",
        "        df = df.append(result, ignore_index=True)\n",
        "\n",
        "\n",
        "    lossTfinal, lossFinal = np.mean(lossT, axis=1), np.mean(loss, axis=1)\n",
        "    labelsFinal = (np.sum(labels, axis=1) >= 1) + 0\n",
        "    # Calculate the F1 score and the number of model parameters\n",
        "    num_params = sum(p.numel() for p in model.parameters())\n",
        "    result, _ = pot_eval(config,100,lossTfinal, lossFinal, labelsFinal)\n",
        "    Result2= result\n",
        "    #Result2.update(hit_att(loss, labels))\n",
        "    #Result2.update(ndcg(loss, labels))\n",
        "    #print(df)\n",
        "    pprint(Result2)\n"
      ],
      "metadata": {
        "id": "7mBeg-YWS_z7"
      },
      "execution_count": null,
      "outputs": []
    },
    {
      "cell_type": "code",
      "source": [
        "train_and_test_model()"
      ],
      "metadata": {
        "colab": {
          "base_uri": "https://localhost:8080/"
        },
        "outputId": "38018517-b92a-47ae-8d99-f3cc2091270d",
        "id": "4KqVlEU7S_z7"
      },
      "execution_count": null,
      "outputs": [
        {
          "output_type": "stream",
          "name": "stdout",
          "text": [
            "Hyperparameters: {'lr': 0.0015406367696774947, 'dropout_rate': 0.28863840219073156, 'dim_feedforward': 24, 'batch': 128, 'encoder_layers': 2, 'decoder_layers': 1, 'attention_type': 'scaled_dot_product', 'positional_encoding_type': 'sinusoidal', 'phase_type': '2phase', 'gaussian_noise_std': 0.0010420486609326078, 'time_warping': True, 'time_masking': False, 'self_conditioning': False, 'layer_norm': False, 'activation_function': 'leaky_relu', 'use_linear_embedding': True, 'nhead': 127, 'num_ffn_layers': 1}\n",
            "Loading pre-trained model: TransNAS_TSAD\n"
          ]
        },
        {
          "output_type": "stream",
          "name": "stderr",
          "text": [
            "/usr/local/lib/python3.10/dist-packages/torch/nn/modules/transformer.py:282: UserWarning: enable_nested_tensor is True, but self.use_nested_tensor is False because encoder_layer was not TransformerEncoderLayer\n",
            "  warnings.warn(f\"enable_nested_tensor is True, but self.use_nested_tensor is False because {why_not_sparsity_fast_path}\")\n"
          ]
        },
        {
          "output_type": "stream",
          "name": "stdout",
          "text": [
            "Testing TransNAS_TSAD on WADI\n",
            "{'FN': 68,\n",
            " 'FP': 69,\n",
            " 'ROC/AUC': 0.9127433706883011,\n",
            " 'TN': 16813,\n",
            " 'TP': 331,\n",
            " 'f1': 0.8285306488856738,\n",
            " 'precision': 0.8274999793125005,\n",
            " 'recall': 0.8295739140457666,\n",
            " 'threshold': 0.08816397987624178}\n"
          ]
        }
      ]
    }
  ]
}